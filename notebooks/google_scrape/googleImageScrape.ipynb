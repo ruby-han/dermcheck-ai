{
 "cells": [
  {
   "cell_type": "code",
   "execution_count": 1,
   "id": "22d04fba-3d59-4b25-a14a-88a213301af0",
   "metadata": {},
   "outputs": [],
   "source": [
    "# credits: https://github.com/hardikvasa/google-images-download/issues/301#issuecomment-905588415\n",
    "# %pip install simple_image_download"
   ]
  },
  {
   "cell_type": "code",
   "execution_count": 3,
   "id": "93eff034-8d20-44e7-9a6a-df4648fe5684",
   "metadata": {},
   "outputs": [],
   "source": [
    "from simple_image_download import simple_image_download as simp\n",
    " \n",
    "response = simp.simple_image_download()\n",
    "response.download('melanoma skin', limit=50)"
   ]
  },
  {
   "cell_type": "code",
   "execution_count": null,
   "id": "27ef13b9-3cbc-43b5-9c9c-9301dd791c21",
   "metadata": {},
   "outputs": [],
   "source": []
  }
 ],
 "metadata": {
  "kernelspec": {
   "display_name": "default:Python",
   "language": "python",
   "name": "conda-env-default-py"
  },
  "language_info": {
   "codemirror_mode": {
    "name": "ipython",
    "version": 3
   },
   "file_extension": ".py",
   "mimetype": "text/x-python",
   "name": "python",
   "nbconvert_exporter": "python",
   "pygments_lexer": "ipython3",
   "version": "3.9.13"
  }
 },
 "nbformat": 4,
 "nbformat_minor": 5
}
