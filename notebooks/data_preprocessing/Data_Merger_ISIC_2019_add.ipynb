{
 "cells": [
  {
   "cell_type": "markdown",
   "metadata": {
    "id": "NCVn4sFWgsWT"
   },
   "source": [
    "## Setup"
   ]
  },
  {
   "cell_type": "markdown",
   "metadata": {
    "id": "LttINCriguo3"
   },
   "source": [
    "### Installs, Packages, Seeds"
   ]
  },
  {
   "cell_type": "code",
   "execution_count": 4,
   "metadata": {
    "executionInfo": {
     "elapsed": 4,
     "status": "ok",
     "timestamp": 1668359927658,
     "user": {
      "displayName": "Gerrit Lensink",
      "userId": "14030898330788478401"
     },
     "user_tz": 480
    },
    "id": "Y0Cgxs-5fwGh"
   },
   "outputs": [],
   "source": [
    "import pandas as pd\n",
    "# import matplotlib.pyplot as plt\n",
    "# import matplotlib.image as mp_image\n",
    "from IPython import display    # Easily show images in notebook\n",
    "import os\n",
    "# import cv2\n",
    "import numpy as np\n",
    "# from skimage import io\n",
    "from PIL import Image\n",
    "from google.colab import drive # Connect colab to google drive\n",
    "from glob import glob\n",
    "from pathlib import PurePath\n",
    "\n",
    "# sklearn libraries\n",
    "from sklearn.model_selection import train_test_split"
   ]
  },
  {
   "cell_type": "code",
   "execution_count": 5,
   "metadata": {
    "executionInfo": {
     "elapsed": 3,
     "status": "ok",
     "timestamp": 1668359927659,
     "user": {
      "displayName": "Gerrit Lensink",
      "userId": "14030898330788478401"
     },
     "user_tz": 480
    },
    "id": "dv9IFOBSfpCy"
   },
   "outputs": [],
   "source": [
    "# Set Seeds\n",
    "np.random.seed(99)\n",
    "pd_seed = 99\n",
    "# torch.cuda.manual_seed(10)"
   ]
  },
  {
   "cell_type": "markdown",
   "metadata": {
    "id": "C1jeu-Oeg8JM"
   },
   "source": [
    "### Mount Google Drive"
   ]
  },
  {
   "cell_type": "code",
   "execution_count": 3,
   "metadata": {
    "colab": {
     "base_uri": "https://localhost:8080/"
    },
    "executionInfo": {
     "elapsed": 87979,
     "status": "ok",
     "timestamp": 1668359926468,
     "user": {
      "displayName": "Gerrit Lensink",
      "userId": "14030898330788478401"
     },
     "user_tz": 480
    },
    "id": "O2oA1-GNf8qZ",
    "outputId": "694e7ac0-ed93-43df-dbc3-fcb3bf70a524"
   },
   "outputs": [
    {
     "name": "stdout",
     "output_type": "stream",
     "text": [
      "Mounted at /drive\n",
      "/drive/.shortcut-targets-by-id/1oLqejM9KnDiIgUupEGkxGM3_vdqboxlI/W210 - Capstone\n"
     ]
    }
   ],
   "source": [
    "drive.mount('/drive') \n",
    "%cd /drive/MyDrive/W210 - Capstone/"
   ]
  },
  {
   "cell_type": "markdown",
   "metadata": {
    "id": "vIdU4ZZ0hBql"
   },
   "source": [
    "## Data Blend"
   ]
  },
  {
   "cell_type": "markdown",
   "metadata": {
    "id": "ciNBne0_galA"
   },
   "source": [
    "To blend our data we'd like to start with two things: \n",
    "1. a list of all image paths **all_image_path**, with a related column to note which dataset it's from\n",
    "2. a single y vector to represent all of the different classes **df.fill_in**"
   ]
  },
  {
   "cell_type": "markdown",
   "metadata": {
    "id": "-8N--DIWjRdK"
   },
   "source": [
    "### First, doing this for ISIC 2018\n",
    "\n",
    "ISIC 2018 has 3 datasets - train, test, and val. Train is the only set with the Y vector represented in the metadata, so the other images aren't all that interesting (we can't see if we're right or wrong). Because of that, only looking at the 'train' set below. for more info on the full splits, see [GL_modeling_img_only](https://colab.research.google.com/drive/11ytZd4whUOTOsveNcbmIyOHAWU6MDxbi?authuser=1#scrollTo=rUgahMpfsKKF) notebook. "
   ]
  },
  {
   "cell_type": "markdown",
   "metadata": {
    "id": "9BNXNtbMw07O"
   },
   "source": [
    "#### Images"
   ]
  },
  {
   "cell_type": "code",
   "execution_count": 6,
   "metadata": {
    "executionInfo": {
     "elapsed": 3,
     "status": "ok",
     "timestamp": 1668359927659,
     "user": {
      "displayName": "Gerrit Lensink",
      "userId": "14030898330788478401"
     },
     "user_tz": 480
    },
    "id": "2yrYPc4-gCos"
   },
   "outputs": [],
   "source": [
    "data_dir = './Data/'\n",
    "\n",
    "# ISIC 2018\n",
    "ISIC_2018_path = 'ISIC_2018/Train/HAM10000_images_part_1_and_2/'\n",
    "\n",
    "# ISIC 2020\n",
    "ISIC_2020_path = 'ISIC_2020/Data/'\n",
    "\n",
    "# Stanford Diverse\n",
    "stanford_path = 'diverse_stanford/'\n",
    "\n",
    "# Dermnet\n",
    "dermnet_path = 'dermnet/'\n",
    "dermnet_path_train = dermnet_path + 'train/'\n",
    "dermnet_path_test = dermnet_path + 'test/'\n",
    "\n",
    "# ISIC 2019\n",
    "ISIC_2019_path = 'ISIC_2019/ISIC_2019_Training_Input/'\n",
    "\n",
    "# Extension Dictionary\n",
    "exts = {'ISIC': '.jpg', 'stanford': '.png', 'dermnet': '.jpg'}"
   ]
  },
  {
   "cell_type": "code",
   "execution_count": 17,
   "metadata": {
    "executionInfo": {
     "elapsed": 4,
     "status": "ok",
     "timestamp": 1668360292262,
     "user": {
      "displayName": "Gerrit Lensink",
      "userId": "14030898330788478401"
     },
     "user_tz": 480
    },
    "id": "ZQVnL0EJAxiv"
   },
   "outputs": [],
   "source": [
    "# !ls ./Data/ISIC_2019/ISIC_2019_Training_Input/"
   ]
  },
  {
   "cell_type": "code",
   "execution_count": 21,
   "metadata": {
    "colab": {
     "base_uri": "https://localhost:8080/"
    },
    "executionInfo": {
     "elapsed": 9013,
     "status": "ok",
     "timestamp": 1668360699295,
     "user": {
      "displayName": "Gerrit Lensink",
      "userId": "14030898330788478401"
     },
     "user_tz": 480
    },
    "id": "iaQwxyWugIL5",
    "outputId": "1684841b-456f-4acf-c29e-0a763c411dad"
   },
   "outputs": [
    {
     "name": "stdout",
     "output_type": "stream",
     "text": [
      "ISIC 2018 Images:\t 10015\n",
      "ISIC 2020 Images:\t 33126\n",
      "Stanford Diverse Images:\t 658\n",
      "ISIC 2019 Images:\t 25338\n"
     ]
    }
   ],
   "source": [
    "# # Check to make sure we're seeing all of the images in train\n",
    "print('ISIC 2018 Images:\\t', len(os.listdir(data_dir + ISIC_2018_path)))\n",
    "print('ISIC 2020 Images:\\t', len(os.listdir(data_dir + ISIC_2020_path)))\n",
    "print('Stanford Diverse Images:\\t', len(os.listdir(data_dir + stanford_path)))\n",
    "print('ISIC 2019 Images:\\t', len(os.listdir(data_dir + ISIC_2019_path)))\n",
    "# print('Dermnet Images:\\t', len(os.listdir(data_dir + dermnet_path_train)) + len(os.listdir(data_dir + dermnet_path_test)))"
   ]
  },
  {
   "cell_type": "code",
   "execution_count": 22,
   "metadata": {
    "colab": {
     "base_uri": "https://localhost:8080/"
    },
    "executionInfo": {
     "elapsed": 38097,
     "status": "ok",
     "timestamp": 1668360886893,
     "user": {
      "displayName": "Gerrit Lensink",
      "userId": "14030898330788478401"
     },
     "user_tz": 480
    },
    "id": "WKraKt6cgO8-",
    "outputId": "d27ec19d-3c8b-451f-a69b-29c135700a93"
   },
   "outputs": [
    {
     "name": "stdout",
     "output_type": "stream",
     "text": [
      "10015 33126 656 19559 25336\n"
     ]
    }
   ],
   "source": [
    "# Get a list of all image paths\n",
    "ISIC_2018_images = glob(os.path.join(data_dir+ISIC_2018_path, '*'+exts['ISIC']))\n",
    "ISIC_2020_images = glob(os.path.join(data_dir+ISIC_2020_path, '*'+exts['ISIC']))\n",
    "stanford_images = glob(os.path.join(data_dir+stanford_path, '*'+exts['stanford']))\n",
    "dermnet_images = glob(os.path.join(data_dir+dermnet_path, '*', '*', '*'+exts['dermnet'])) # one level deeper since train and test are separate\n",
    "ISIC_2019_images = glob(os.path.join(data_dir+ISIC_2019_path, '*'+exts['ISIC']))\n",
    "print(len(ISIC_2018_images), len(ISIC_2020_images), len(stanford_images), len(dermnet_images), len(ISIC_2019_images))    # make sure they're the right length"
   ]
  },
  {
   "cell_type": "markdown",
   "metadata": {
    "id": "EMZryPqvw4s3"
   },
   "source": [
    "#### Metadata\n",
    "\n",
    "Now, load metadata. We're interested in the: \n",
    "- image ID\n",
    "- diagnosis\n",
    "- severity (if noted)\n",
    "- source\n",
    "\n",
    "Notice each of the DFs has an image_id-like column. \n",
    "- ISIC  formats the ID as \"ISIC_\" with 7 digits trailing, without an extension, front-padding with 0's. \n",
    "- Stanford formats the ID as a 6 digit ID with '.png' extension, front-padding with 0's.\n",
    "    - Because of this, will remove the extension below for consistency\n",
    "- Dermnet..."
   ]
  },
  {
   "cell_type": "code",
   "execution_count": 25,
   "metadata": {
    "colab": {
     "base_uri": "https://localhost:8080/"
    },
    "executionInfo": {
     "elapsed": 334,
     "status": "ok",
     "timestamp": 1668361071847,
     "user": {
      "displayName": "Gerrit Lensink",
      "userId": "14030898330788478401"
     },
     "user_tz": 480
    },
    "id": "IT8FLIHKEXzg",
    "outputId": "3e8c0f64-465f-4f7a-9e2a-d71d9c843d63"
   },
   "outputs": [
    {
     "name": "stdout",
     "output_type": "stream",
     "text": [
      " ISIC_2019_Test_Input\t\t      ISIC_2019_Training_GroundTruth.gsheet\n",
      " ISIC_2019_Test_Metadata.csv\t      ISIC_2019_Training_Input\n",
      " ISIC_2019_Training_GroundTruth.csv  'ISIC_2019_Training_Metadata (1).csv'\n"
     ]
    }
   ],
   "source": [
    "!ls Data/ISIC_2019"
   ]
  },
  {
   "cell_type": "code",
   "execution_count": 219,
   "metadata": {
    "executionInfo": {
     "elapsed": 286,
     "status": "ok",
     "timestamp": 1668366382331,
     "user": {
      "displayName": "Gerrit Lensink",
      "userId": "14030898330788478401"
     },
     "user_tz": 480
    },
    "id": "DmdgXwUdgL8A"
   },
   "outputs": [],
   "source": [
    "# ISIC_2018\n",
    "ISIC_2018_meta = pd.read_csv(data_dir + 'ISIC_2018/Train/HAM10000_metadata.csv')\n",
    "ISIC_2018 = ISIC_2018_meta[['image_id', \n",
    "                            'dx', \n",
    "                            'age', \n",
    "                            'sex', \n",
    "                            'localization']\n",
    "                           ].rename(columns = \n",
    "                                            {'dx': 'diagnosis'})\n",
    "ISIC_2018['source'] = 'ISIC_2018'\n",
    "\n",
    "# ISIC_2020\n",
    "ISIC_2020_meta = pd.read_csv(data_dir + 'ISIC_2020/train.csv')\n",
    "ISIC_2020 = ISIC_2020_meta[['image_name', \n",
    "                            'diagnosis', \n",
    "                            'benign_malignant', \n",
    "                            'age_approx', \n",
    "                            'sex', \n",
    "                            'anatom_site_general_challenge']\n",
    "                           ].rename(columns = \n",
    "                                            {'image_name': 'image_id', \n",
    "                                            'benign_malignant':'severity', \n",
    "                                            'age_approx':'age', \n",
    "                                            'anatom_site_general_challenge':'localization'})\n",
    "ISIC_2020['source'] = 'ISIC_2020'\n",
    "\n",
    "# # stanford_diverse\n",
    "# stanford_meta = pd.read_csv(data_dir + stanford_path + 'ddi_metadata.csv')\n",
    "# stanford = stanford_meta[['DDI_file', 'disease', 'malignant']].rename(columns = {'DDI_file': 'image_id', 'disease':'diagnosis','malignant':'severity'})\n",
    "# stanford['source'] = 'stanford_diverse'\n",
    "# stanford['image_id'] = stanford['image_id'].str.replace('.png', '') # For consistency? \n",
    "# stanford['severity'] = stanford['severity'].map({True:'malignant', False:'benign'})\n",
    "\n",
    "# # Dermnet - no metadata, so create it mimicing above\n",
    "# image_id = [os.path.splitext(os.path.basename(i))[0] for i in dermnet_images]\n",
    "# diagnosis = [PurePath(i).parent.name for i in dermnet_images]\n",
    "# dermnet = pd.DataFrame(zip(image_id, diagnosis), columns = ['image_id', 'diagnosis'])\n",
    "# dermnet['source'] = 'dermnet'\n",
    "\n",
    "# ISIC_2019: metadata and labels come separately\n",
    "ISIC_2019_meta = pd.read_csv(data_dir + 'ISIC_2019/ISIC_2019_Training_Metadata.csv')\n",
    "ISIC_2019_labels = pd.read_csv(data_dir + 'ISIC_2019/ISIC_2019_Training_GroundTruth.csv')\n",
    "ISIC_2019_labels = ISIC_2019_labels.melt(id_vars = ['image'], var_name = 'diagnosis', value_name = 'onehot') #undo one-hot\n",
    "ISIC_2019_labels = ISIC_2019_labels[ISIC_2019_labels['onehot'] == 1]\n",
    "ISIC_2019_labels.sort_values('image', inplace = True)#\n",
    "ISIC_2019_labels.reset_index(drop = True, inplace = True)\n",
    "ISIC_2019_labels = ISIC_2019_labels[['image', 'diagnosis']]\n",
    "ISIC_2019_labels.rename(columns = {'image':'image_id'}, inplace = True)\n",
    "\n",
    "ISIC_2019 = pd.concat([ISIC_2019_meta, ISIC_2019_labels], keys = ['image', 'image_id'], axis = 1)\\\n",
    "              .droplevel(axis = 1, level = 0)\\\n",
    "              .reset_index(drop = True)[['image_id', 'diagnosis', 'age_approx', 'sex', 'anatom_site_general']]\\\n",
    "              .rename(columns = {'age_approx':'age', 'anatom_site_general':'localization'})\n",
    "ISIC_2019['source'] = 'ISIC_2019'"
   ]
  },
  {
   "cell_type": "code",
   "execution_count": 222,
   "metadata": {
    "executionInfo": {
     "elapsed": 3,
     "status": "ok",
     "timestamp": 1668366389741,
     "user": {
      "displayName": "Gerrit Lensink",
      "userId": "14030898330788478401"
     },
     "user_tz": 480
    },
    "id": "fLw_OkI2Ei-v"
   },
   "outputs": [],
   "source": [
    "# ISIC_2019_labels['MEL'].sum() + ISIC_2019_labels['NV'].sum() + ISIC_2019_labels['BCC'].sum() + ISIC_2019_labels['AK'].sum() + ISIC_2019_labels['BKL'].sum() + ISIC_2019_labels['DF'].sum() + ISIC_2019_labels['VASC'].sum() + ISIC_2019_labels['SCC'].sum() + ISIC_2019_labels['UNK'].sum()"
   ]
  },
  {
   "cell_type": "code",
   "execution_count": null,
   "metadata": {
    "executionInfo": {
     "elapsed": 4,
     "status": "aborted",
     "timestamp": 1668366383687,
     "user": {
      "displayName": "Gerrit Lensink",
      "userId": "14030898330788478401"
     },
     "user_tz": 480
    },
    "id": "yh3VtEOxQMMU"
   },
   "outputs": [],
   "source": [
    "print(ISIC_2018.diagnosis.unique(), ISIC_2019.diagnosis.unique(), ISIC_2020.diagnosis.unique())"
   ]
  },
  {
   "cell_type": "code",
   "execution_count": 221,
   "metadata": {
    "colab": {
     "base_uri": "https://localhost:8080/"
    },
    "executionInfo": {
     "elapsed": 3,
     "status": "ok",
     "timestamp": 1668366384210,
     "user": {
      "displayName": "Gerrit Lensink",
      "userId": "14030898330788478401"
     },
     "user_tz": 480
    },
    "id": "wzSlKtWqwNmm",
    "outputId": "6152cece-c41f-401d-debf-2f3844ff8bad"
   },
   "outputs": [
    {
     "data": {
      "text/plain": [
       "9"
      ]
     },
     "execution_count": 221,
     "metadata": {},
     "output_type": "execute_result"
    }
   ],
   "source": [
    "len(ISIC_2020.diagnosis.unique())"
   ]
  },
  {
   "cell_type": "markdown",
   "metadata": {
    "id": "OTfwowd_n3C6"
   },
   "source": [
    "### Concatenate all of the data into a single DF"
   ]
  },
  {
   "cell_type": "code",
   "execution_count": 223,
   "metadata": {
    "executionInfo": {
     "elapsed": 285,
     "status": "ok",
     "timestamp": 1668366394530,
     "user": {
      "displayName": "Gerrit Lensink",
      "userId": "14030898330788478401"
     },
     "user_tz": 480
    },
    "id": "bAdAdp19yGsw"
   },
   "outputs": [],
   "source": [
    "# full_data = pd.concat([ISIC_2018, ISIC_2020, stanford, dermnet])\n",
    "new_data = ISIC_2019"
   ]
  },
  {
   "cell_type": "markdown",
   "metadata": {
    "id": "xdM2Y6Whn77a"
   },
   "source": [
    "### Next add image paths to metadata\n",
    "\n",
    "First, start by creating a dictionary mapping all image_ids to image paths. Next, map to image_id. "
   ]
  },
  {
   "cell_type": "code",
   "execution_count": 224,
   "metadata": {
    "executionInfo": {
     "elapsed": 2,
     "status": "ok",
     "timestamp": 1668366395474,
     "user": {
      "displayName": "Gerrit Lensink",
      "userId": "14030898330788478401"
     },
     "user_tz": 480
    },
    "id": "WXnt3_RfgRJV"
   },
   "outputs": [],
   "source": [
    "# # Split the path up to grab image ID from all paths\n",
    "# # Create a dictionary mapping Image ID to Path\n",
    "# all_paths = ISIC_2018_images + ISIC_2020_images + stanford_images + dermnet_images\n",
    "all_paths = ISIC_2019_images\n",
    "imageid_path_dict = {os.path.splitext(os.path.basename(x))[0]: x for x in all_paths}\n",
    "\n",
    "new_data['path'] = new_data['image_id'].map(imageid_path_dict)"
   ]
  },
  {
   "cell_type": "markdown",
   "metadata": {
    "id": "IHxf_4fsC5gJ"
   },
   "source": [
    "Last thing to do is map the lesion type for ISIC 2019 to "
   ]
  },
  {
   "cell_type": "code",
   "execution_count": 225,
   "metadata": {
    "executionInfo": {
     "elapsed": 2,
     "status": "ok",
     "timestamp": 1668366397994,
     "user": {
      "displayName": "Gerrit Lensink",
      "userId": "14030898330788478401"
     },
     "user_tz": 480
    },
    "id": "P3Iiws5aCwD-"
   },
   "outputs": [],
   "source": [
    "# Map the lesion code to Full diagnosis name\n",
    "lesion_type_dict = {\n",
    "    'NV': 'melanocytic nevi',\n",
    "    'MEL': 'dermatofibroma',\n",
    "    'BKL': 'benign keratosis-like lesions',\n",
    "    'BCC': 'basal cell carcinoma',\n",
    "    'AK': 'actinic keratoses',\n",
    "    'VASC': 'vascular lesions',\n",
    "    'DF': 'dermatofibroma', \n",
    "    'SCC': 'squamous-cell-carcinoma'\n",
    "}\n",
    "\n",
    "new_data['diagnosis'] = new_data['diagnosis'].replace(lesion_type_dict) # replace instead of map to retain orig values"
   ]
  },
  {
   "cell_type": "code",
   "execution_count": null,
   "metadata": {
    "id": "f5g2iMrvsaVq"
   },
   "outputs": [],
   "source": [
    "# for col in full_data.columns: \n",
    "#     print(col, full_data[col].isnull().sum())"
   ]
  },
  {
   "cell_type": "markdown",
   "metadata": {
    "id": "_vlle3W0Dhyi"
   },
   "source": [
    "### Create Data dictionary\n",
    "\n",
    "We'd like to have our dictionary have the following attributes: \n",
    "- Diagnosis Name\n",
    "- Source - which of the 4 datasets\n",
    "- Count of image IDs - will help understand if we have enough data\n",
    "- Severity - Malignant vs. Benign\n",
    "\n",
    "We can easily get the first three attributes with a groupby, counting the number of image IDs. \n",
    "\n",
    "Note: \n",
    "1. Not all of the diagnosis have severity data connected to them. \n",
    "2. Some diagnosis appear in different datasets, so we need to make sure the severity is the same, when represented. "
   ]
  },
  {
   "cell_type": "code",
   "execution_count": null,
   "metadata": {
    "id": "xKE8c5_DsvGo"
   },
   "outputs": [],
   "source": [
    "# # Group by diagnosis and source, only taking the image_id column\n",
    "# full_data_csv = full_data.groupby(by = ['diagnosis', 'source'])\\\n",
    "#                          .count()\\\n",
    "#                          .sort_values(by = 'image_id', ascending = False)[['image_id']]\\\n",
    "#                          .reset_index()\n",
    "\n",
    "# # make all of the diagnosis lowercase, in case there are duplicates\n",
    "# full_data_csv['diagnosis'] = full_data_csv['diagnosis'].str.lower()"
   ]
  },
  {
   "cell_type": "markdown",
   "metadata": {
    "id": "iix-KRH2tNeq"
   },
   "source": [
    "Now to add in severity, we are going to have to join data, since we lost it when we aggregated with count. \n",
    "\n",
    "To do this, we can create a table grouping diagnosis and severity. "
   ]
  },
  {
   "cell_type": "code",
   "execution_count": null,
   "metadata": {
    "id": "LPirQ71rKr1R"
   },
   "outputs": [],
   "source": [
    "# diagnosis_severity = full_data.groupby(['diagnosis', 'severity']).count()['image_id'].reset_index()[['diagnosis', 'severity']]\n",
    "# diagnosis_severity['diagnosis'] = diagnosis_severity['diagnosis'].str.lower()"
   ]
  },
  {
   "cell_type": "markdown",
   "metadata": {
    "id": "TTOHQlBhuJ1d"
   },
   "source": [
    "We can see that at least one of these diagnoses is over-represented with two severity levels. "
   ]
  },
  {
   "cell_type": "code",
   "execution_count": null,
   "metadata": {
    "colab": {
     "base_uri": "https://localhost:8080/"
    },
    "executionInfo": {
     "elapsed": 203,
     "status": "ok",
     "timestamp": 1664138324118,
     "user": {
      "displayName": "Gerrit Lensink",
      "userId": "03001139976263396963"
     },
     "user_tz": 420
    },
    "id": "3KgfsNXwtda_",
    "outputId": "09aa7fa3-c77d-498c-e889-4eb206ecc108"
   },
   "outputs": [
    {
     "name": "stdout",
     "output_type": "stream",
     "text": [
      "Number of diagnosis with severity: 86\n",
      "Number of diagnosis without severity: 30\n",
      "Total diagnosis: 115\n"
     ]
    }
   ],
   "source": [
    "# print('Number of diagnosis with severity:', len(diagnosis_severity))\n",
    "# print('Number of diagnosis without severity:', len(full_data[full_data['severity'].isnull()]['diagnosis'].unique()))\n",
    "# print('Total diagnosis:', len(full_data['diagnosis'].unique()))"
   ]
  },
  {
   "cell_type": "markdown",
   "metadata": {
    "id": "lMkopjWAuSy5"
   },
   "source": [
    "If we were to merge the data, we would see melanoma and dermatofibroma have 2 severity representations, which is a problem. "
   ]
  },
  {
   "cell_type": "code",
   "execution_count": null,
   "metadata": {
    "colab": {
     "base_uri": "https://localhost:8080/"
    },
    "executionInfo": {
     "elapsed": 17,
     "status": "ok",
     "timestamp": 1664138324119,
     "user": {
      "displayName": "Gerrit Lensink",
      "userId": "03001139976263396963"
     },
     "user_tz": 420
    },
    "id": "Pd3wsDXwHILE",
    "outputId": "1e11b366-6133-4920-b630-b70e31182f71"
   },
   "outputs": [
    {
     "data": {
      "text/plain": [
       "dermatofibroma                         3\n",
       "melanoma                               2\n",
       "unknown                                1\n",
       "syringocystadenoma-papilliferum        1\n",
       "lichenoid-keratosis                    1\n",
       "                                      ..\n",
       "verruca-vulgaris                       1\n",
       "seborrheic-keratosis                   1\n",
       "melanocytic-nevi                       1\n",
       "seborrheic keratosis                   1\n",
       "atypical-spindle-cell-nevus-of-reed    1\n",
       "Name: diagnosis, Length: 114, dtype: int64"
      ]
     },
     "execution_count": 16,
     "metadata": {},
     "output_type": "execute_result"
    }
   ],
   "source": [
    "# full_data_csv.merge(diagnosis_severity, on='diagnosis', how = 'left')['diagnosis'].value_counts()"
   ]
  },
  {
   "cell_type": "markdown",
   "metadata": {
    "id": "OGfaVmMXOd8F"
   },
   "source": [
    "Make sure the duplicates are NAs. They only show up with one, so the other is NaN. this is not an issue then, as they won't join and cause duplicates. "
   ]
  },
  {
   "cell_type": "code",
   "execution_count": null,
   "metadata": {
    "colab": {
     "base_uri": "https://localhost:8080/"
    },
    "executionInfo": {
     "elapsed": 15,
     "status": "ok",
     "timestamp": 1664138324119,
     "user": {
      "displayName": "Gerrit Lensink",
      "userId": "03001139976263396963"
     },
     "user_tz": 420
    },
    "id": "94KQzQjcNeCY",
    "outputId": "2fc2f3ae-353c-4a6f-d6db-a6921b92b44a"
   },
   "outputs": [
    {
     "data": {
      "text/plain": [
       "diagnosis       severity \n",
       "dermatofibroma  benign        22\n",
       "melanoma        malignant    591\n",
       "Name: severity, dtype: int64"
      ]
     },
     "execution_count": 17,
     "metadata": {},
     "output_type": "execute_result"
    }
   ],
   "source": [
    "# full_data[(full_data['diagnosis'] == 'melanoma') | (full_data['diagnosis'] == 'dermatofibroma')].groupby('diagnosis')['severity'].value_counts()"
   ]
  },
  {
   "cell_type": "markdown",
   "metadata": {
    "id": "jsXbI738r-mc"
   },
   "source": [
    "Finally, write the data to a csv to start a data dictionary, first merging our severity in, so we have those for each diagnosis. "
   ]
  },
  {
   "cell_type": "code",
   "execution_count": null,
   "metadata": {
    "id": "5Ynsxp4K__3j"
   },
   "outputs": [],
   "source": [
    "# full_data_csv = full_data_csv.merge(diagnosis_severity, on='diagnosis', how = 'left')\n",
    "# full_data_csv.to_csv(data_dir + 'data_dictionary_baseline.csv')"
   ]
  },
  {
   "cell_type": "markdown",
   "metadata": {
    "id": "UxaTwKR7ZRAm"
   },
   "source": [
    "Let's also write the metadata + paths to a CSV so we don't have to re-run this code to access the df."
   ]
  },
  {
   "cell_type": "code",
   "execution_count": null,
   "metadata": {
    "id": "fITkP1zPZYfg"
   },
   "outputs": [],
   "source": [
    "# full_data.to_csv(data_dir + 'full_data.csv')"
   ]
  },
  {
   "cell_type": "code",
   "execution_count": 138,
   "metadata": {
    "colab": {
     "base_uri": "https://localhost:8080/"
    },
    "executionInfo": {
     "elapsed": 9,
     "status": "ok",
     "timestamp": 1668364993944,
     "user": {
      "displayName": "Gerrit Lensink",
      "userId": "14030898330788478401"
     },
     "user_tz": 480
    },
    "id": "CSoTs1d8ld7w",
    "outputId": "6d1bf824-eb38-4e01-bcd9-4d1219e819c5"
   },
   "outputs": [
    {
     "name": "stdout",
     "output_type": "stream",
     "text": [
      "\u001b[0m\u001b[01;34mApp\u001b[0m/               \u001b[01;34mData\u001b[0m/          \u001b[01;34mNotebooks\u001b[0m/\n",
      "avg_diverse.png    \u001b[01;34mDeliverables\u001b[0m/  \u001b[01;34moverlayed_images_ISIC_2020\u001b[0m/\n",
      "avg_skin_tone.png  \u001b[01;34mModels\u001b[0m/        \u001b[01;34mskin-detection\u001b[0m/\n"
     ]
    }
   ],
   "source": [
    "%ls"
   ]
  },
  {
   "cell_type": "code",
   "execution_count": 139,
   "metadata": {
    "executionInfo": {
     "elapsed": 1821,
     "status": "ok",
     "timestamp": 1668364998008,
     "user": {
      "displayName": "Gerrit Lensink",
      "userId": "14030898330788478401"
     },
     "user_tz": 480
    },
    "id": "r2TXVTWGlQFU"
   },
   "outputs": [],
   "source": [
    "full_data = pd.read_csv(data_dir + 'full_data_rename.csv', index_col = 0)"
   ]
  },
  {
   "cell_type": "code",
   "execution_count": 140,
   "metadata": {
    "executionInfo": {
     "elapsed": 718,
     "status": "ok",
     "timestamp": 1668365005400,
     "user": {
      "displayName": "Gerrit Lensink",
      "userId": "14030898330788478401"
     },
     "user_tz": 480
    },
    "id": "cKfE7kKcmCS1"
   },
   "outputs": [],
   "source": [
    "# class_dict = pd.read_csv(data_dir + 'data_dictionary.csv', index_col = 0)"
   ]
  },
  {
   "cell_type": "code",
   "execution_count": 142,
   "metadata": {
    "executionInfo": {
     "elapsed": 405,
     "status": "ok",
     "timestamp": 1668365030947,
     "user": {
      "displayName": "Gerrit Lensink",
      "userId": "14030898330788478401"
     },
     "user_tz": 480
    },
    "id": "kziroSpGmK7K"
   },
   "outputs": [],
   "source": [
    "# class_dict"
   ]
  },
  {
   "cell_type": "markdown",
   "metadata": {
    "id": "SiKMXGYCIVzH"
   },
   "source": [
    "### Duplicates\n",
    "\n",
    "From EDA, we know that there are two types of duplicate image_ids: \n",
    "1. image_ids where the assigned class is the same. \n",
    "2. image_ids where the assigned class is not the same. \n",
    "\n",
    "The second of these two types is problematic - how can we expect to train a model where one image has two different types of classes? To deal with this - we add a new column that denotes these two types of duplicates so we can filter them out where needed, before modeling. \n",
    "\n",
    "First, mapping true duplicates - case 1"
   ]
  },
  {
   "cell_type": "code",
   "execution_count": null,
   "metadata": {
    "id": "eK1tZI35VUwy"
   },
   "outputs": [],
   "source": [
    "# full_data['duplicated'] = np.where(full_data['image_id'].isin(duplicates), 'true duplicate', 'No')"
   ]
  },
  {
   "cell_type": "markdown",
   "metadata": {
    "id": "0bgTH15nXgca"
   },
   "source": [
    "Next, let's map the problematic duplicates - case 2. From eda we have a list of these - let's pull them in. "
   ]
  },
  {
   "cell_type": "code",
   "execution_count": null,
   "metadata": {
    "id": "MSW4D1FZXsCf"
   },
   "outputs": [],
   "source": [
    "# problem_dups = pd.read_csv('./Data/problems.csv', index_col = 0)['image_id']\n",
    "# full_data['duplicated'] = np.where(full_data['image_id'].isin(problem_dups), True, False)"
   ]
  },
  {
   "cell_type": "markdown",
   "metadata": {
    "id": "nCDV8ISTY7yL"
   },
   "source": [
    "Now we have each of the duplicate groups properly mapped"
   ]
  },
  {
   "cell_type": "code",
   "execution_count": null,
   "metadata": {
    "colab": {
     "base_uri": "https://localhost:8080/",
     "height": 164
    },
    "executionInfo": {
     "elapsed": 9,
     "status": "error",
     "timestamp": 1665445677792,
     "user": {
      "displayName": "Gerrit Lensink",
      "userId": "03001139976263396963"
     },
     "user_tz": 420
    },
    "id": "3pRDktxDX3h6",
    "outputId": "5dd48c7d-14ca-42cd-96d4-c469bf3cb820"
   },
   "outputs": [
    {
     "ename": "NameError",
     "evalue": "ignored",
     "output_type": "error",
     "traceback": [
      "\u001b[0;31m---------------------------------------------------------------------------\u001b[0m",
      "\u001b[0;31mNameError\u001b[0m                                 Traceback (most recent call last)",
      "\u001b[0;32m<ipython-input-1-f6075cb47643>\u001b[0m in \u001b[0;36m<module>\u001b[0;34m\u001b[0m\n\u001b[0;32m----> 1\u001b[0;31m \u001b[0mfull_data\u001b[0m\u001b[0;34m[\u001b[0m\u001b[0;34m'duplicated'\u001b[0m\u001b[0;34m]\u001b[0m\u001b[0;34m.\u001b[0m\u001b[0mvalue_counts\u001b[0m\u001b[0;34m(\u001b[0m\u001b[0;34m)\u001b[0m\u001b[0;34m\u001b[0m\u001b[0;34m\u001b[0m\u001b[0m\n\u001b[0m",
      "\u001b[0;31mNameError\u001b[0m: name 'full_data' is not defined"
     ]
    }
   ],
   "source": [
    "# full_data['duplicated'].value_counts()"
   ]
  },
  {
   "cell_type": "markdown",
   "metadata": {
    "id": "i-GdOl1mZBOn"
   },
   "source": [
    "Let's remove the true duplicates for ease of modeling. "
   ]
  },
  {
   "cell_type": "code",
   "execution_count": null,
   "metadata": {
    "colab": {
     "base_uri": "https://localhost:8080/"
    },
    "executionInfo": {
     "elapsed": 199,
     "status": "ok",
     "timestamp": 1664660318103,
     "user": {
      "displayName": "Gerrit Lensink",
      "userId": "14030898330788478401"
     },
     "user_tz": 420
    },
    "id": "a_VEbjW6VKbT",
    "outputId": "6cb2173f-93e2-4ac4-e7a4-4d6b7ee45fcc"
   },
   "outputs": [
    {
     "name": "stdout",
     "output_type": "stream",
     "text": [
      "62951\n",
      "62951\n"
     ]
    }
   ],
   "source": [
    "# print(len(full_data))\n",
    "# full_data = pd.concat([full_data[full_data['duplicated'] == True],\n",
    "#                           full_data[full_data['duplicated'] != True].drop_duplicates(['image_id'], keep = 'first')])\n",
    "# print(len(full_data))"
   ]
  },
  {
   "cell_type": "code",
   "execution_count": null,
   "metadata": {
    "colab": {
     "base_uri": "https://localhost:8080/"
    },
    "executionInfo": {
     "elapsed": 158,
     "status": "ok",
     "timestamp": 1664660320791,
     "user": {
      "displayName": "Gerrit Lensink",
      "userId": "14030898330788478401"
     },
     "user_tz": 420
    },
    "id": "cjPMc2g9a5sI",
    "outputId": "313fa00c-b73d-4d35-b1a9-da691d54481c"
   },
   "outputs": [
    {
     "data": {
      "text/plain": [
       "False    62360\n",
       "True       591\n",
       "Name: duplicated, dtype: int64"
      ]
     },
     "execution_count": 85,
     "metadata": {},
     "output_type": "execute_result"
    }
   ],
   "source": [
    "# full_data['duplicated'].value_counts()"
   ]
  },
  {
   "cell_type": "markdown",
   "metadata": {
    "id": "rrVwSWZvd1nW"
   },
   "source": [
    "# Split to Train, Val, Test"
   ]
  },
  {
   "cell_type": "markdown",
   "metadata": {
    "id": "_dbnfB4lN1SU"
   },
   "source": [
    "Can skip all of the preceding steps bc we've already done this once in 'data_merger'. can just load in full_data, and overwrite below where needed."
   ]
  },
  {
   "cell_type": "markdown",
   "metadata": {
    "id": "hbHAAyFUoB0d"
   },
   "source": [
    "## Adding in a few more classes and splits"
   ]
  },
  {
   "cell_type": "markdown",
   "metadata": {
    "id": "CwJjYI3qoF48"
   },
   "source": [
    "#### First, map in the new labels based on the changes made in data_dictionary"
   ]
  },
  {
   "cell_type": "code",
   "execution_count": null,
   "metadata": {
    "colab": {
     "base_uri": "https://localhost:8080/"
    },
    "executionInfo": {
     "elapsed": 424,
     "status": "ok",
     "timestamp": 1666056747812,
     "user": {
      "displayName": "Gerrit Lensink",
      "userId": "03001139976263396963"
     },
     "user_tz": 420
    },
    "id": "N5jLXJHvt4Ym",
    "outputId": "c93b6da9-bb3f-4956-ec0f-044254f3975e"
   },
   "outputs": [
    {
     "name": "stdout",
     "output_type": "stream",
     "text": [
      " archive\t\t       diverse_stanford\t\t  kaggle\n",
      "'Data Classification.gsheet'   diverse_stanford_resized   problems.csv\n",
      "'data_dictionary .csv'\t       full_data.csv\t\t  problems.gsheet\n",
      " data_dictionary.gsheet        ISIC_2018\t\t  UCI\n",
      " dermnet\t\t       ISIC_2020\n"
     ]
    }
   ],
   "source": [
    "# ! ls ./Data"
   ]
  },
  {
   "cell_type": "code",
   "execution_count": 149,
   "metadata": {
    "executionInfo": {
     "elapsed": 3,
     "status": "ok",
     "timestamp": 1668365329696,
     "user": {
      "displayName": "Gerrit Lensink",
      "userId": "14030898330788478401"
     },
     "user_tz": 480
    },
    "id": "UDcPf7vQNNea"
   },
   "outputs": [],
   "source": [
    "# full_data = pd.read_csv(data_dir + 'full_data_rename.csv', index_col = 0)\n",
    "label_mapper = pd.read_csv('./Data/data_dictionary.csv', index_col = 0)[['diagnosis', 'label_1', 'label_2', 'label_3']]"
   ]
  },
  {
   "cell_type": "code",
   "execution_count": 226,
   "metadata": {
    "colab": {
     "base_uri": "https://localhost:8080/"
    },
    "executionInfo": {
     "elapsed": 560,
     "status": "ok",
     "timestamp": 1668366410735,
     "user": {
      "displayName": "Gerrit Lensink",
      "userId": "14030898330788478401"
     },
     "user_tz": 480
    },
    "id": "j3dHGivYU8-m",
    "outputId": "8219deef-a10e-4033-ac0d-de37aa0fa90e"
   },
   "outputs": [
    {
     "data": {
      "text/plain": [
       "array(['melanocytic nevi', 'dermatofibroma',\n",
       "       'benign keratosis-like lesions', 'squamous-cell-carcinoma',\n",
       "       'basal cell carcinoma', 'vascular lesions', 'actinic keratoses'],\n",
       "      dtype=object)"
      ]
     },
     "execution_count": 226,
     "metadata": {},
     "output_type": "execute_result"
    }
   ],
   "source": [
    "new_data.diagnosis.unique()"
   ]
  },
  {
   "cell_type": "code",
   "execution_count": 236,
   "metadata": {
    "executionInfo": {
     "elapsed": 351,
     "status": "ok",
     "timestamp": 1668366473241,
     "user": {
      "displayName": "Gerrit Lensink",
      "userId": "14030898330788478401"
     },
     "user_tz": 480
    },
    "id": "AcYdIFponCYy"
   },
   "outputs": [],
   "source": [
    "new_data = new_data.merge(label_mapper, how = 'left', on = 'diagnosis')\n",
    "new_data.drop_duplicates(inplace = True) # Drop unwanted duplicates created by merge\n",
    "new_data.rename(columns = {'label_1':'label_0'}, inplace = True)\n",
    "new_data = new_data[['image_id', 'diagnosis', 'age', 'sex', 'localization', 'source', 'path', 'label_0']]"
   ]
  },
  {
   "cell_type": "code",
   "execution_count": 241,
   "metadata": {
    "executionInfo": {
     "elapsed": 308,
     "status": "ok",
     "timestamp": 1668366532281,
     "user": {
      "displayName": "Gerrit Lensink",
      "userId": "14030898330788478401"
     },
     "user_tz": 480
    },
    "id": "WL2nTrSpd1U4"
   },
   "outputs": [],
   "source": [
    "# set the splits\n",
    "train_split = .75\n",
    "val_split = .15\n",
    "\n",
    "train_val = train_split + val_split\n",
    "test_split = 1 - train_val\n",
    "\n",
    "adj_train_split = train_split/train_val\n",
    "adj_val_split = val_split/train_val"
   ]
  },
  {
   "cell_type": "code",
   "execution_count": null,
   "metadata": {
    "id": "pJ-7mJnCeaz5"
   },
   "outputs": [],
   "source": [
    "unique_data = full_data[full_data['duplicated'] == False]"
   ]
  },
  {
   "cell_type": "code",
   "execution_count": null,
   "metadata": {
    "colab": {
     "base_uri": "https://localhost:8080/"
    },
    "executionInfo": {
     "elapsed": 183,
     "status": "ok",
     "timestamp": 1666056784855,
     "user": {
      "displayName": "Gerrit Lensink",
      "userId": "03001139976263396963"
     },
     "user_tz": 420
    },
    "id": "zqAtqylkLHuo",
    "outputId": "f9af5e55-4eb1-43ed-df5c-ce6406bb7089"
   },
   "outputs": [
    {
     "data": {
      "text/plain": [
       "array(['Non-Cancerous Skin Condition', 'Unclassified',\n",
       "       'Toxin, Fungal, Bug, Viral, or Bacterial Infections',\n",
       "       'Potentially Malignant Skin Tumors', 'Benign Marking or Mole'],\n",
       "      dtype=object)"
      ]
     },
     "execution_count": 62,
     "metadata": {},
     "output_type": "execute_result"
    }
   ],
   "source": [
    "full_data['label_1'].unique()"
   ]
  },
  {
   "cell_type": "code",
   "execution_count": null,
   "metadata": {
    "id": "uCRz-aGpLmFG"
   },
   "outputs": [],
   "source": [
    "full_data['split_3'] = np.where(full_data['image_id'].isin(test_ids), 'test', 'train_val')\n"
   ]
  },
  {
   "cell_type": "markdown",
   "metadata": {
    "id": "LagjGzKiPvwU"
   },
   "source": [
    "## Original Split"
   ]
  },
  {
   "cell_type": "markdown",
   "metadata": {
    "id": "_wb0Rv8miWwQ"
   },
   "source": [
    "### Test\n",
    "\n",
    "First, randomly sample 10% of all images to be used for true test at end. Not going to stratify these right now as a true random sample will be most representative of our use case. the stratification is not necessarily representative of likelihood of each disease in the real world."
   ]
  },
  {
   "cell_type": "code",
   "execution_count": null,
   "metadata": {
    "id": "gym3KFD9fXhb"
   },
   "outputs": [],
   "source": [
    "test_ids = unique_data['image_id']\\\n",
    "          .sample(frac = test_split, \n",
    "                  replace = False, \n",
    "                  random_state = pd_seed)"
   ]
  },
  {
   "cell_type": "code",
   "execution_count": null,
   "metadata": {
    "colab": {
     "base_uri": "https://localhost:8080/"
    },
    "executionInfo": {
     "elapsed": 199,
     "status": "ok",
     "timestamp": 1665445919142,
     "user": {
      "displayName": "Gerrit Lensink",
      "userId": "03001139976263396963"
     },
     "user_tz": 420
    },
    "id": "c9AaQoaVg-sw",
    "outputId": "1897cc81-83f3-43cf-c373-665e888f8a2e"
   },
   "outputs": [
    {
     "name": "stderr",
     "output_type": "stream",
     "text": [
      "/usr/local/lib/python3.7/dist-packages/ipykernel_launcher.py:2: SettingWithCopyWarning: \n",
      "A value is trying to be set on a copy of a slice from a DataFrame.\n",
      "Try using .loc[row_indexer,col_indexer] = value instead\n",
      "\n",
      "See the caveats in the documentation: https://pandas.pydata.org/pandas-docs/stable/user_guide/indexing.html#returning-a-view-versus-a-copy\n",
      "  \n"
     ]
    }
   ],
   "source": [
    "full_data['dataset'] = np.where(full_data['image_id'].isin(test_ids), 'test', 'train')\n",
    "unique_data['dataset'] = np.where(unique_data['image_id'].isin(test_ids), 'test', 'train')"
   ]
  },
  {
   "cell_type": "markdown",
   "metadata": {
    "id": "J6kle0ZpiZMx"
   },
   "source": [
    "### Val/Train"
   ]
  },
  {
   "cell_type": "code",
   "execution_count": null,
   "metadata": {
    "id": "FlZGiW_piarS"
   },
   "outputs": [],
   "source": [
    "data = unique_data[unique_data['dataset'] == 'train']\n",
    "\n",
    "_, df_val  = train_test_split(data,\n",
    "                              test_size = adj_val_split,\n",
    "                              random_state = pd_seed,\n",
    "                              stratify = data['class'])\n",
    "\n",
    "val_ids = df_val['image_id']"
   ]
  },
  {
   "cell_type": "code",
   "execution_count": null,
   "metadata": {
    "id": "93om52gtjVqU"
   },
   "outputs": [],
   "source": [
    "# Note val\n",
    "full_data['dataset'] = np.where(full_data['image_id'].isin(val_ids), 'val', full_data['dataset'])"
   ]
  },
  {
   "cell_type": "code",
   "execution_count": null,
   "metadata": {
    "id": "p-Y7Xldbkj09"
   },
   "outputs": [],
   "source": [
    "# remove train/val/test label when duplicated - won't use these\n",
    "full_data['dataset'] = np.where(full_data['duplicated'] == True, '', full_data['dataset'])"
   ]
  },
  {
   "cell_type": "code",
   "execution_count": null,
   "metadata": {
    "id": "0UEXkWrojz_v"
   },
   "outputs": [],
   "source": [
    "# full_data[full_data['duplicated'] == False]['dataset'].value_counts()"
   ]
  },
  {
   "cell_type": "code",
   "execution_count": null,
   "metadata": {
    "id": "Eg3oBJkdboDX"
   },
   "outputs": [],
   "source": [
    "# write back to CSV for modeling ingestion\n",
    "# full_data.to_csv('./Data/full_data.csv', index = True)"
   ]
  },
  {
   "cell_type": "code",
   "execution_count": null,
   "metadata": {
    "colab": {
     "base_uri": "https://localhost:8080/"
    },
    "executionInfo": {
     "elapsed": 1060,
     "status": "ok",
     "timestamp": 1665348619375,
     "user": {
      "displayName": "Gerrit Lensink",
      "userId": "03001139976263396963"
     },
     "user_tz": 420
    },
    "id": "b3BWrKYUfX_w",
    "outputId": "40ac25a5-9e27-4455-a170-17526f5dc546"
   },
   "outputs": [
    {
     "data": {
      "text/plain": [
       "train    46770\n",
       "val       9354\n",
       "test      6236\n",
       "           591\n",
       "Name: dataset, dtype: int64"
      ]
     },
     "execution_count": 135,
     "metadata": {},
     "output_type": "execute_result"
    }
   ],
   "source": [
    "full_data['dataset'].value_counts()"
   ]
  },
  {
   "cell_type": "markdown",
   "metadata": {
    "id": "GzoqyYKrQDRS"
   },
   "source": [
    "## Split 1: Remove dermnet cancer from train\n",
    "\n",
    "based on model_resnet_full.pt, we know that a majority of our poorly predicted images fell into the bottom two categories:\n",
    "1. dermnet images\n",
    "2. Caner vs. non-cancer\n",
    "\n",
    "There is a significant overlap between these two categories, and we also have a large amount of data on cancer vs. not from both ISIC datasets. So we can see if removing dermnet from train might make our model slightly less confused. "
   ]
  },
  {
   "cell_type": "code",
   "execution_count": null,
   "metadata": {
    "colab": {
     "base_uri": "https://localhost:8080/"
    },
    "executionInfo": {
     "elapsed": 179,
     "status": "ok",
     "timestamp": 1665446023590,
     "user": {
      "displayName": "Gerrit Lensink",
      "userId": "03001139976263396963"
     },
     "user_tz": 420
    },
    "id": "1G9m6qdLQHiH",
    "outputId": "93be3f4a-2ebd-4460-dee9-304912c513ef"
   },
   "outputs": [
    {
     "name": "stderr",
     "output_type": "stream",
     "text": [
      "/usr/local/lib/python3.7/dist-packages/ipykernel_launcher.py:3: SettingWithCopyWarning: \n",
      "A value is trying to be set on a copy of a slice from a DataFrame.\n",
      "Try using .loc[row_indexer,col_indexer] = value instead\n",
      "\n",
      "See the caveats in the documentation: https://pandas.pydata.org/pandas-docs/stable/user_guide/indexing.html#returning-a-view-versus-a-copy\n",
      "  This is separate from the ipykernel package so we can avoid doing imports until\n"
     ]
    }
   ],
   "source": [
    "full_data['split_1'] = np.where(full_data['image_id'].isin(test_ids), 'test', 'train_val')\n",
    "\n",
    "unique_data['split_1'] = np.where(unique_data['image_id'].isin(test_ids), 'test', 'train_val')"
   ]
  },
  {
   "cell_type": "code",
   "execution_count": null,
   "metadata": {
    "colab": {
     "base_uri": "https://localhost:8080/"
    },
    "executionInfo": {
     "elapsed": 211,
     "status": "ok",
     "timestamp": 1665446024857,
     "user": {
      "displayName": "Gerrit Lensink",
      "userId": "03001139976263396963"
     },
     "user_tz": 420
    },
    "id": "ZQ7Xw4kSfKC8",
    "outputId": "2ac58d0e-9ae0-4006-a86d-ad075777732d"
   },
   "outputs": [
    {
     "data": {
      "text/plain": [
       "train_val    56124\n",
       "test          6236\n",
       "Name: split_1, dtype: int64"
      ]
     },
     "execution_count": 19,
     "metadata": {},
     "output_type": "execute_result"
    }
   ],
   "source": [
    "unique_data['split_1'].value_counts()"
   ]
  },
  {
   "cell_type": "markdown",
   "metadata": {
    "id": "h8NKqcQXTXg9"
   },
   "source": [
    "Before we start our train/val splits, need to ensure that dermnet is not included."
   ]
  },
  {
   "cell_type": "code",
   "execution_count": null,
   "metadata": {
    "id": "saBDgHcBTWyn"
   },
   "outputs": [],
   "source": [
    "data = unique_data[(unique_data['split_1'] == 'train_val') & \n",
    "                   ~((unique_data['source'] == 'dermnet') & \n",
    "                        ((unique_data['class'] == 'Benign Marking or Mole') |\n",
    "                         (unique_data['class'] == 'Potentially Malignant Skin Tumors')))]\n",
    "\n",
    "df_train, df_val  = train_test_split(data,\n",
    "                              test_size = adj_val_split,\n",
    "                              random_state = pd_seed,\n",
    "                              stratify = data['class'])\n",
    "\n",
    "val_ids = df_val['image_id']\n",
    "train_ids = df_train['image_id']"
   ]
  },
  {
   "cell_type": "code",
   "execution_count": null,
   "metadata": {
    "colab": {
     "base_uri": "https://localhost:8080/"
    },
    "executionInfo": {
     "elapsed": 235,
     "status": "ok",
     "timestamp": 1665446032204,
     "user": {
      "displayName": "Gerrit Lensink",
      "userId": "03001139976263396963"
     },
     "user_tz": 420
    },
    "id": "-PI73i7cgId1",
    "outputId": "24cc0289-e9dc-4e66-fa72-9053faf34abf"
   },
   "outputs": [
    {
     "data": {
      "text/plain": [
       "(51633, 43027, 8606, 51633)"
      ]
     },
     "execution_count": 21,
     "metadata": {},
     "output_type": "execute_result"
    }
   ],
   "source": [
    "len(data), len(df_train), len(df_val), len(df_train) + len(df_val)"
   ]
  },
  {
   "cell_type": "code",
   "execution_count": null,
   "metadata": {
    "colab": {
     "base_uri": "https://localhost:8080/"
    },
    "executionInfo": {
     "elapsed": 196,
     "status": "ok",
     "timestamp": 1665446040585,
     "user": {
      "displayName": "Gerrit Lensink",
      "userId": "03001139976263396963"
     },
     "user_tz": 420
    },
    "id": "OyCXsuVMgqzO",
    "outputId": "1c61d5a2-8a4b-46f4-a79f-c55f6fd82f32"
   },
   "outputs": [
    {
     "data": {
      "text/plain": [
       "train_val    56715\n",
       "test          6236\n",
       "Name: split_1, dtype: int64"
      ]
     },
     "execution_count": 22,
     "metadata": {},
     "output_type": "execute_result"
    }
   ],
   "source": [
    "full_data['split_1'].value_counts()"
   ]
  },
  {
   "cell_type": "code",
   "execution_count": null,
   "metadata": {
    "id": "lDI7GOBfZFUa"
   },
   "outputs": [],
   "source": [
    "# Note val\n",
    "full_data['split_1'] = np.where(full_data['image_id'].isin(val_ids), 'val', full_data['split_1'])\n",
    "\n",
    "# Note Train\n",
    "full_data['split_1'] = np.where(full_data['image_id'].isin(train_ids), 'train', full_data['split_1'])\n",
    "\n",
    "# Note unused\n",
    "full_data['split_1'] = np.where(full_data['split_1'] == 'train_val', '', full_data['split_1'])"
   ]
  },
  {
   "cell_type": "code",
   "execution_count": null,
   "metadata": {
    "colab": {
     "base_uri": "https://localhost:8080/"
    },
    "executionInfo": {
     "elapsed": 3,
     "status": "ok",
     "timestamp": 1665446045203,
     "user": {
      "displayName": "Gerrit Lensink",
      "userId": "03001139976263396963"
     },
     "user_tz": 420
    },
    "id": "hdLlvwCMY__Y",
    "outputId": "471214d2-f02a-49ba-ad27-04eb60738183"
   },
   "outputs": [
    {
     "data": {
      "text/plain": [
       "train    43027\n",
       "val       8606\n",
       "test      6236\n",
       "          5082\n",
       "Name: split_1, dtype: int64"
      ]
     },
     "execution_count": 24,
     "metadata": {},
     "output_type": "execute_result"
    }
   ],
   "source": [
    "full_data['split_1'].value_counts()"
   ]
  },
  {
   "cell_type": "markdown",
   "metadata": {
    "id": "dal8Aqr6QJA-"
   },
   "source": [
    "## Split 2: Remove poorly predicted classes\n",
    "\n",
    "Now we want to take out the following subsets of data: \n",
    "1. ISIC_2020, where diagnosis = 'unknown' [subset of class - 'Unclassified']\n",
    "2. Autoimmune Disorder (incorrectly spelled as 'autoimmue') [entire class]\n",
    "\n",
    "Now that we won't be training on autoimmune, we can't have it show up in test with the autoimmune label. we could either leave it in test and re-classify it as unknown, or remove it altogether. for the sake of quick testing - let's frist just remove it entirely\n"
   ]
  },
  {
   "cell_type": "code",
   "execution_count": null,
   "metadata": {
    "id": "VYcMMbwdehDY"
   },
   "outputs": [],
   "source": [
    "test_ids = unique_data[unique_data['class'] != 'Autoimmue Disorder']['image_id']\\\n",
    "          .sample(frac = test_split, \n",
    "                  replace = False, \n",
    "                  random_state = pd_seed)"
   ]
  },
  {
   "cell_type": "code",
   "execution_count": null,
   "metadata": {
    "colab": {
     "base_uri": "https://localhost:8080/"
    },
    "executionInfo": {
     "elapsed": 8,
     "status": "ok",
     "timestamp": 1665446060668,
     "user": {
      "displayName": "Gerrit Lensink",
      "userId": "03001139976263396963"
     },
     "user_tz": 420
    },
    "id": "KcV9wLf2a4V5",
    "outputId": "9234fc6b-e53d-4e90-b9b5-fbfb51ddcf3b"
   },
   "outputs": [
    {
     "name": "stderr",
     "output_type": "stream",
     "text": [
      "/usr/local/lib/python3.7/dist-packages/ipykernel_launcher.py:3: SettingWithCopyWarning: \n",
      "A value is trying to be set on a copy of a slice from a DataFrame.\n",
      "Try using .loc[row_indexer,col_indexer] = value instead\n",
      "\n",
      "See the caveats in the documentation: https://pandas.pydata.org/pandas-docs/stable/user_guide/indexing.html#returning-a-view-versus-a-copy\n",
      "  This is separate from the ipykernel package so we can avoid doing imports until\n"
     ]
    }
   ],
   "source": [
    "full_data['split_2'] = np.where(full_data['image_id'].isin(test_ids), 'test', 'train_val')\n",
    "\n",
    "unique_data['split_2'] = np.where(unique_data['image_id'].isin(test_ids), 'test', 'train_val')"
   ]
  },
  {
   "cell_type": "code",
   "execution_count": null,
   "metadata": {
    "id": "4VuCGRp8hbCh"
   },
   "outputs": [],
   "source": [
    "data = unique_data[(unique_data['split_2'] == 'train_val') &\n",
    "                   (unique_data['class'] != 'Autoimmue Disorder') &\n",
    "                   (unique_data['diagnosis'] != 'unknown')]\n",
    "\n",
    "df_train, df_val  = train_test_split(data,\n",
    "                              test_size = adj_val_split,\n",
    "                              random_state = pd_seed,\n",
    "                              stratify = data['class'])\n",
    "\n",
    "val_ids = df_val['image_id']\n",
    "train_ids = df_train['image_id']"
   ]
  },
  {
   "cell_type": "code",
   "execution_count": null,
   "metadata": {
    "id": "R-2afkI3ijdy"
   },
   "outputs": [],
   "source": [
    "# Note val\n",
    "full_data['split_2'] = np.where(full_data['image_id'].isin(val_ids), 'val', full_data['split_2'])\n",
    "\n",
    "# Note Train\n",
    "full_data['split_2'] = np.where(full_data['image_id'].isin(train_ids), 'train', full_data['split_2'])\n",
    "\n",
    "# Note unused\n",
    "full_data['split_2'] = np.where(full_data['split_2'] == 'train_val', '', full_data['split_2'])"
   ]
  },
  {
   "cell_type": "code",
   "execution_count": null,
   "metadata": {
    "colab": {
     "base_uri": "https://localhost:8080/"
    },
    "executionInfo": {
     "elapsed": 238,
     "status": "ok",
     "timestamp": 1665446065749,
     "user": {
      "displayName": "Gerrit Lensink",
      "userId": "03001139976263396963"
     },
     "user_tz": 420
    },
    "id": "JrQv4vdMirs0",
    "outputId": "6c73bb9a-abab-4ffb-d288-2f63784277ee"
   },
   "outputs": [
    {
     "data": {
      "text/plain": [
       "Benign Marking or Mole                                17882\n",
       "Toxin, Fungal, Bug, Viral, or Bacterial Infections     6468\n",
       "Non-Cancerous Skin Condition                           4636\n",
       "Unclassified                                           4105\n",
       "Potentially Malignant Skin Tumors                      3604\n",
       "Name: class, dtype: int64"
      ]
     },
     "execution_count": 29,
     "metadata": {},
     "output_type": "execute_result"
    }
   ],
   "source": [
    "full_data[full_data.split_2 != '']['class'].value_counts()"
   ]
  },
  {
   "cell_type": "code",
   "execution_count": null,
   "metadata": {
    "colab": {
     "base_uri": "https://localhost:8080/"
    },
    "executionInfo": {
     "elapsed": 137,
     "status": "ok",
     "timestamp": 1665446131818,
     "user": {
      "displayName": "Gerrit Lensink",
      "userId": "03001139976263396963"
     },
     "user_tz": 420
    },
    "id": "4ADSt0wsUwZS",
    "outputId": "ca6ee6de-bdff-42f3-aa5e-8c70f5c32ba8"
   },
   "outputs": [
    {
     "data": {
      "text/plain": [
       "         26256\n",
       "train    25489\n",
       "test      6108\n",
       "val       5098\n",
       "Name: split_2, dtype: int64"
      ]
     },
     "execution_count": 32,
     "metadata": {},
     "output_type": "execute_result"
    }
   ],
   "source": [
    "full_data.split_2.value_counts()"
   ]
  },
  {
   "cell_type": "markdown",
   "metadata": {
    "id": "DrtWbUcgQNyt"
   },
   "source": [
    "## Split 2+3: Equal class sampling\n",
    "\n",
    "Starting with split 2 as a baseline, now we will undersample each class down to ~3600 images to match the smallest class - malignant to try and reduce class imbalance. \n"
   ]
  },
  {
   "cell_type": "code",
   "execution_count": null,
   "metadata": {
    "id": "g3O6pEajrx32"
   },
   "outputs": [],
   "source": [
    "labs = ['Non-Cancerous Skin Condition',\n",
    "       'Toxin, Fungal, Bug, Viral, or Bacterial Infections',\n",
    "       'Potentially Malignant Skin Tumors', # correct Size\n",
    "    #    'Autoimmue Disorder',                # excluding\n",
    "       'Benign Marking or Mole', \n",
    "       'Unclassified']"
   ]
  },
  {
   "cell_type": "markdown",
   "metadata": {
    "id": "SU_vK69pcsLr"
   },
   "source": [
    "Group data into train, val, and test - all with equal sample size"
   ]
  },
  {
   "cell_type": "code",
   "execution_count": null,
   "metadata": {
    "id": "Tj9K67RaY3OT"
   },
   "outputs": [],
   "source": [
    "train_val_test = pd.DataFrame()\n",
    "\n",
    "for lab in labs:\n",
    "    s = full_data[(full_data['split_2'] != '') &\n",
    "                  (full_data['class'] == lab)].\\\n",
    "                   sample(n = 3600, \n",
    "                          replace = False, \n",
    "                          random_state = pd_seed)\n",
    "    \n",
    "    train_val_test = pd.concat([train_val_test, s])"
   ]
  },
  {
   "cell_type": "markdown",
   "metadata": {
    "id": "GNYk7LOAczWi"
   },
   "source": [
    "Now we can skim off test: "
   ]
  },
  {
   "cell_type": "code",
   "execution_count": null,
   "metadata": {
    "id": "CrL6I9Ioc33V"
   },
   "outputs": [],
   "source": [
    "test_ids = train_val_test['image_id']\\\n",
    "          .sample(frac = test_split, \n",
    "                  replace = False, \n",
    "                  random_state = pd_seed)"
   ]
  },
  {
   "cell_type": "code",
   "execution_count": null,
   "metadata": {
    "id": "OqnjnLVldNqY"
   },
   "outputs": [],
   "source": [
    "full_data['split_3'] = np.where(full_data['image_id'].isin(test_ids), 'test', 'train_val')\n",
    "\n",
    "train_val_test['split_3'] = np.where(train_val_test['image_id'].isin(test_ids), 'test', 'train_val')\n"
   ]
  },
  {
   "cell_type": "code",
   "execution_count": null,
   "metadata": {
    "id": "_Uc2a7hPlgP0"
   },
   "outputs": [],
   "source": [
    "data = train_val_test[(train_val_test['split_3'] == 'train_val')]\n",
    "\n",
    "df_train, df_val  = train_test_split(data,\n",
    "                              test_size = adj_val_split,\n",
    "                              random_state = pd_seed,\n",
    "                              stratify = data['class'])\n",
    "\n",
    "val_ids = df_val['image_id']\n",
    "train_ids = df_train['image_id']"
   ]
  },
  {
   "cell_type": "code",
   "execution_count": null,
   "metadata": {
    "colab": {
     "base_uri": "https://localhost:8080/"
    },
    "executionInfo": {
     "elapsed": 4,
     "status": "ok",
     "timestamp": 1665448535174,
     "user": {
      "displayName": "Gerrit Lensink",
      "userId": "03001139976263396963"
     },
     "user_tz": 420
    },
    "id": "i78YbpFrdWoF",
    "outputId": "6a1c14be-ff43-42b2-f3b1-17f183467ca3"
   },
   "outputs": [
    {
     "data": {
      "text/plain": [
       "(13500, 2700, 1800, 18000, 18000)"
      ]
     },
     "execution_count": 90,
     "metadata": {},
     "output_type": "execute_result"
    }
   ],
   "source": [
    "len(train_ids), len(val_ids), len(test_ids), len(train_val_test), len(train_ids) + len(val_ids) + len(test_ids) "
   ]
  },
  {
   "cell_type": "code",
   "execution_count": null,
   "metadata": {
    "id": "wcDJi4uynoYh"
   },
   "outputs": [],
   "source": [
    "# Note val\n",
    "full_data['split_3'] = np.where(full_data['image_id'].isin(val_ids), 'val', full_data['split_3'])\n",
    "\n",
    "# Note Train\n",
    "full_data['split_3'] = np.where(full_data['image_id'].isin(train_ids), 'train', full_data['split_3'])\n",
    "\n",
    "# Note unused\n",
    "full_data['split_3'] = np.where(full_data['split_3'] == 'train_val', '', full_data['split_3'])"
   ]
  },
  {
   "cell_type": "code",
   "execution_count": null,
   "metadata": {
    "colab": {
     "base_uri": "https://localhost:8080/"
    },
    "executionInfo": {
     "elapsed": 4,
     "status": "ok",
     "timestamp": 1665448586807,
     "user": {
      "displayName": "Gerrit Lensink",
      "userId": "03001139976263396963"
     },
     "user_tz": 420
    },
    "id": "EfgIibs0eCpB",
    "outputId": "e2bb0a3e-579d-4c33-f6ad-561d3af177f6"
   },
   "outputs": [
    {
     "data": {
      "text/plain": [
       "         44951\n",
       "train    13500\n",
       "val       2700\n",
       "test      1800\n",
       "Name: split_3, dtype: int64"
      ]
     },
     "execution_count": 94,
     "metadata": {},
     "output_type": "execute_result"
    }
   ],
   "source": [
    "full_data['split_3'].value_counts()"
   ]
  },
  {
   "cell_type": "code",
   "execution_count": null,
   "metadata": {
    "colab": {
     "base_uri": "https://localhost:8080/"
    },
    "executionInfo": {
     "elapsed": 4,
     "status": "ok",
     "timestamp": 1665448613617,
     "user": {
      "displayName": "Gerrit Lensink",
      "userId": "03001139976263396963"
     },
     "user_tz": 420
    },
    "id": "SsSvzxFlny7A",
    "outputId": "f76f41de-1037-45dd-86f4-5e5079ca4bad"
   },
   "outputs": [
    {
     "data": {
      "text/plain": [
       "Benign Marking or Mole                                542\n",
       "Potentially Malignant Skin Tumors                     542\n",
       "Unclassified                                          542\n",
       "Toxin, Fungal, Bug, Viral, or Bacterial Infections    540\n",
       "Non-Cancerous Skin Condition                          534\n",
       "Name: class, dtype: int64"
      ]
     },
     "execution_count": 97,
     "metadata": {},
     "output_type": "execute_result"
    }
   ],
   "source": [
    "full_data[full_data.split_3 == 'val']['class'].value_counts()"
   ]
  },
  {
   "cell_type": "markdown",
   "metadata": {
    "id": "JN8NtDu-SyrO"
   },
   "source": []
  },
  {
   "cell_type": "markdown",
   "metadata": {
    "id": "5fjz_aL-uWBK"
   },
   "source": [
    "## Split 4\n",
    "- Remove autoimmune diseases altogether\n",
    "- remove diagnoses within toxin/fungal etc that are not in the top 3 in terms of value counts\n",
    "- remove data with unknown as diagnosis"
   ]
  },
  {
   "cell_type": "code",
   "execution_count": null,
   "metadata": {
    "id": "xlfPwdXexGnw"
   },
   "outputs": [],
   "source": [
    "test_ids = unique_data[unique_data['diagnosis'] != 'unknown']['image_id']\\\n",
    "          .sample(frac = test_split, \n",
    "                  replace = False, \n",
    "                  random_state = pd_seed)"
   ]
  },
  {
   "cell_type": "code",
   "execution_count": null,
   "metadata": {
    "colab": {
     "base_uri": "https://localhost:8080/"
    },
    "executionInfo": {
     "elapsed": 175,
     "status": "ok",
     "timestamp": 1666058241829,
     "user": {
      "displayName": "Gerrit Lensink",
      "userId": "03001139976263396963"
     },
     "user_tz": 420
    },
    "id": "29FmvspIyR-P",
    "outputId": "06d0c557-3449-4523-df82-8d44534188a3"
   },
   "outputs": [
    {
     "name": "stderr",
     "output_type": "stream",
     "text": [
      "/usr/local/lib/python3.7/dist-packages/ipykernel_launcher.py:3: SettingWithCopyWarning: \n",
      "A value is trying to be set on a copy of a slice from a DataFrame.\n",
      "Try using .loc[row_indexer,col_indexer] = value instead\n",
      "\n",
      "See the caveats in the documentation: https://pandas.pydata.org/pandas-docs/stable/user_guide/indexing.html#returning-a-view-versus-a-copy\n",
      "  This is separate from the ipykernel package so we can avoid doing imports until\n"
     ]
    }
   ],
   "source": [
    "full_data['split_4'] = np.where(full_data['image_id'].isin(test_ids), 'test', 'train_val')\n",
    "\n",
    "unique_data['split_4'] = np.where(unique_data['image_id'].isin(test_ids), 'test', 'train_val')"
   ]
  },
  {
   "cell_type": "code",
   "execution_count": null,
   "metadata": {
    "id": "XPV7Y-DcynKg"
   },
   "outputs": [],
   "source": [
    "data = unique_data[(unique_data['split_4'] == 'train_val') &\n",
    "                   (unique_data['diagnosis'] != 'unknown')]\n",
    "\n",
    "df_train, df_val  = train_test_split(data,\n",
    "                              test_size = adj_val_split,\n",
    "                              random_state = pd_seed,\n",
    "                              stratify = data['label_1'])\n",
    "\n",
    "val_ids = df_val['image_id']\n",
    "train_ids = df_train['image_id']"
   ]
  },
  {
   "cell_type": "code",
   "execution_count": null,
   "metadata": {
    "id": "OFGnb9O_xGhg"
   },
   "outputs": [],
   "source": [
    "# Note val\n",
    "full_data['split_4'] = np.where(full_data['image_id'].isin(val_ids), 'val', full_data['split_4'])\n",
    "\n",
    "# Note Train\n",
    "full_data['split_4'] = np.where(full_data['image_id'].isin(train_ids), 'train', full_data['split_4'])\n",
    "\n",
    "# Note unused\n",
    "full_data['split_4'] = np.where(full_data['split_4'] == 'train_val', '', full_data['split_4'])"
   ]
  },
  {
   "cell_type": "markdown",
   "metadata": {
    "id": "5AiiVfWE0EoJ"
   },
   "source": [
    "## Split 5: \n",
    "- Remove autoimmune diseases altogether\n",
    "- remove diagnoses within toxin/fungal etc that are not in the top 3 in terms of value counts\n",
    "- remove data with unknown as diagnosis\n",
    "- remove melanoma skin cancer nevi and moles (dermnet) from Potentially malignant skin tumors class as there are some beningn/regular moles in here, and it’s causing common confusions"
   ]
  },
  {
   "cell_type": "code",
   "execution_count": null,
   "metadata": {
    "colab": {
     "base_uri": "https://localhost:8080/"
    },
    "executionInfo": {
     "elapsed": 143,
     "status": "ok",
     "timestamp": 1666058761887,
     "user": {
      "displayName": "Gerrit Lensink",
      "userId": "03001139976263396963"
     },
     "user_tz": 420
    },
    "id": "WSRa9aPE0juS",
    "outputId": "2802b3c9-4dbd-4b17-b75c-12f6e0962e30"
   },
   "outputs": [
    {
     "name": "stderr",
     "output_type": "stream",
     "text": [
      "/usr/local/lib/python3.7/dist-packages/ipykernel_launcher.py:11: SettingWithCopyWarning: \n",
      "A value is trying to be set on a copy of a slice from a DataFrame.\n",
      "Try using .loc[row_indexer,col_indexer] = value instead\n",
      "\n",
      "See the caveats in the documentation: https://pandas.pydata.org/pandas-docs/stable/user_guide/indexing.html#returning-a-view-versus-a-copy\n",
      "  # This is added back by InteractiveShellApp.init_path()\n"
     ]
    }
   ],
   "source": [
    "test_ids = unique_data[(unique_data['diagnosis'] != 'unknown') &\n",
    "                       (unique_data['label_2'].isna() == False)]['image_id']\\\n",
    "                                              .sample(frac = test_split, \n",
    "                                                      replace = False, \n",
    "                                                      random_state = pd_seed)\n",
    "\n",
    "full_data['split_5'] = np.where((full_data['image_id'].isin(test_ids)) &\n",
    "                                (full_data['label_2'].isna() == False), 'test', 'train_val')\n",
    "\n",
    "unique_data['split_5'] = np.where((unique_data['image_id'].isin(test_ids)) &\n",
    "                                  (unique_data['label_2'].isna() == False), 'test', 'train_val')\n",
    "\n",
    "data = unique_data[(unique_data['split_5'] == 'train_val') &\n",
    "                   (unique_data['diagnosis'] != 'unknown') &\n",
    "                   (unique_data['label_2'].isna() == False)]\n",
    "\n",
    "df_train, df_val  = train_test_split(data,\n",
    "                              test_size = adj_val_split,\n",
    "                              random_state = pd_seed,\n",
    "                              stratify = data['label_2'])\n",
    "\n",
    "val_ids = df_val['image_id']\n",
    "train_ids = df_train['image_id']"
   ]
  },
  {
   "cell_type": "code",
   "execution_count": null,
   "metadata": {
    "id": "D4ESk6zm14ig"
   },
   "outputs": [],
   "source": [
    "# Note val\n",
    "full_data['split_5'] = np.where(full_data['image_id'].isin(val_ids), 'val', full_data['split_5'])\n",
    "\n",
    "# Note Train\n",
    "full_data['split_5'] = np.where(full_data['image_id'].isin(train_ids), 'train', full_data['split_5'])\n",
    "\n",
    "# Note unused\n",
    "full_data['split_5'] = np.where(full_data['split_5'] == 'train_val', '', full_data['split_5'])"
   ]
  },
  {
   "cell_type": "markdown",
   "metadata": {
    "id": "iXtlqU0S3eIy"
   },
   "source": [
    "## Split 6: \n",
    "- Remove autoimmune diseases altogether\n",
    "- remove diagnoses within toxin/fungal etc that are not in the top 3 in terms of value counts\n",
    "- remove data with unknown as diagnosis\n",
    "- remove melanoma skin cancer nevi and moles (dermnet) from Potentially malignant skin tumors class as there are some beningn/regular moles in here, and it’s causing common confusions\n",
    "- Combine toxins and non-cancerous skin condition class"
   ]
  },
  {
   "cell_type": "code",
   "execution_count": null,
   "metadata": {
    "colab": {
     "base_uri": "https://localhost:8080/"
    },
    "executionInfo": {
     "elapsed": 393,
     "status": "ok",
     "timestamp": 1666059350132,
     "user": {
      "displayName": "Gerrit Lensink",
      "userId": "03001139976263396963"
     },
     "user_tz": 420
    },
    "id": "HMSFMq_S3dUe",
    "outputId": "09be2221-1851-45f1-ae9f-15678b4eee81"
   },
   "outputs": [
    {
     "name": "stderr",
     "output_type": "stream",
     "text": [
      "/usr/local/lib/python3.7/dist-packages/ipykernel_launcher.py:11: SettingWithCopyWarning: \n",
      "A value is trying to be set on a copy of a slice from a DataFrame.\n",
      "Try using .loc[row_indexer,col_indexer] = value instead\n",
      "\n",
      "See the caveats in the documentation: https://pandas.pydata.org/pandas-docs/stable/user_guide/indexing.html#returning-a-view-versus-a-copy\n",
      "  # This is added back by InteractiveShellApp.init_path()\n"
     ]
    }
   ],
   "source": [
    "test_ids = unique_data[(unique_data['diagnosis'] != 'unknown') &\n",
    "                       (unique_data['label_3'].isna() == False)]['image_id']\\\n",
    "                                              .sample(frac = test_split, \n",
    "                                                      replace = False, \n",
    "                                                      random_state = pd_seed)\n",
    "\n",
    "full_data['split_6'] = np.where((full_data['image_id'].isin(test_ids)) &\n",
    "                                (full_data['label_3'].isna() == False), 'test', 'train_val')\n",
    "\n",
    "unique_data['split_6'] = np.where((unique_data['image_id'].isin(test_ids)) &\n",
    "                                  (unique_data['label_3'].isna() == False), 'test', 'train_val')\n",
    "\n",
    "data = unique_data[(unique_data['split_6'] == 'train_val') &\n",
    "                   (unique_data['diagnosis'] != 'unknown') &\n",
    "                   (unique_data['label_3'].isna() == False)]\n",
    "\n",
    "df_train, df_val  = train_test_split(data,\n",
    "                              test_size = adj_val_split,\n",
    "                              random_state = pd_seed,\n",
    "                              stratify = data['label_3'])\n",
    "\n",
    "val_ids = df_val['image_id']\n",
    "train_ids = df_train['image_id']"
   ]
  },
  {
   "cell_type": "code",
   "execution_count": null,
   "metadata": {
    "id": "6yfOaE4F4GFj"
   },
   "outputs": [],
   "source": [
    "# Note val\n",
    "full_data['split_6'] = np.where(full_data['image_id'].isin(val_ids), 'val', full_data['split_6'])\n",
    "\n",
    "# Note Train\n",
    "full_data['split_6'] = np.where(full_data['image_id'].isin(train_ids), 'train', full_data['split_6'])\n",
    "\n",
    "# Note unused\n",
    "full_data['split_6'] = np.where(full_data['split_6'] == 'train_val', '', full_data['split_6'])"
   ]
  },
  {
   "cell_type": "code",
   "execution_count": null,
   "metadata": {
    "colab": {
     "base_uri": "https://localhost:8080/"
    },
    "executionInfo": {
     "elapsed": 11,
     "status": "ok",
     "timestamp": 1666059411702,
     "user": {
      "displayName": "Gerrit Lensink",
      "userId": "03001139976263396963"
     },
     "user_tz": 420
    },
    "id": "aYf105Ui2BrK",
    "outputId": "5fb9c70c-82db-466e-e5b4-89ba33e9da78"
   },
   "outputs": [
    {
     "data": {
      "text/plain": [
       "         28285\n",
       "train    25995\n",
       "val       5200\n",
       "test      3466\n",
       "Name: split_5, dtype: int64"
      ]
     },
     "execution_count": 113,
     "metadata": {},
     "output_type": "execute_result"
    }
   ],
   "source": [
    "full_data.split_5.value_counts()"
   ]
  },
  {
   "cell_type": "code",
   "execution_count": null,
   "metadata": {
    "colab": {
     "base_uri": "https://localhost:8080/"
    },
    "executionInfo": {
     "elapsed": 9,
     "status": "ok",
     "timestamp": 1666059411703,
     "user": {
      "displayName": "Gerrit Lensink",
      "userId": "03001139976263396963"
     },
     "user_tz": 420
    },
    "id": "Gc4vj-S_14T7",
    "outputId": "710cfd31-eb90-4b18-bbd2-f5df5d1a7aca"
   },
   "outputs": [
    {
     "data": {
      "text/plain": [
       "         28285\n",
       "train    25995\n",
       "val       5200\n",
       "test      3466\n",
       "Name: split_6, dtype: int64"
      ]
     },
     "execution_count": 114,
     "metadata": {},
     "output_type": "execute_result"
    }
   ],
   "source": [
    "full_data.split_6.value_counts()"
   ]
  },
  {
   "cell_type": "markdown",
   "metadata": {
    "id": "nviVDKTNxI_f"
   },
   "source": [
    "## Split 7: Same as split 2, but removing dermnet ambiguous benign/malignant diagnosis from malignant class. "
   ]
  },
  {
   "cell_type": "code",
   "execution_count": null,
   "metadata": {
    "colab": {
     "base_uri": "https://localhost:8080/"
    },
    "executionInfo": {
     "elapsed": 129,
     "status": "ok",
     "timestamp": 1666460533690,
     "user": {
      "displayName": "Gerrit Lensink",
      "userId": "03001139976263396963"
     },
     "user_tz": 420
    },
    "id": "J9sTOtZUxTgb",
    "outputId": "f82803ea-2788-4325-92d0-ef89e9050694"
   },
   "outputs": [
    {
     "name": "stderr",
     "output_type": "stream",
     "text": [
      "/usr/local/lib/python3.7/dist-packages/ipykernel_launcher.py:9: SettingWithCopyWarning: \n",
      "A value is trying to be set on a copy of a slice from a DataFrame.\n",
      "Try using .loc[row_indexer,col_indexer] = value instead\n",
      "\n",
      "See the caveats in the documentation: https://pandas.pydata.org/pandas-docs/stable/user_guide/indexing.html#returning-a-view-versus-a-copy\n",
      "  if __name__ == '__main__':\n"
     ]
    }
   ],
   "source": [
    "test_ids = unique_data[(unique_data['class'] != 'Autoimmue Disorder') &\n",
    "                       (unique_data['diagnosis'] != 'melanoma skin cancer nevi and moles')]['image_id']\\\n",
    "          .sample(frac = test_split, \n",
    "                  replace = False, \n",
    "                  random_state = pd_seed)\n",
    "          \n",
    "full_data['split_7'] = np.where(full_data['image_id'].isin(test_ids), 'test', 'train_val')\n",
    "\n",
    "unique_data['split_7'] = np.where(unique_data['image_id'].isin(test_ids), 'test', 'train_val')\n",
    "\n",
    "data = unique_data[(unique_data['split_7'] == 'train_val') &\n",
    "                   (unique_data['class'] != 'Autoimmue Disorder') &\n",
    "                   (unique_data['diagnosis'] != 'unknown') &\n",
    "                   (unique_data['diagnosis'] != 'melanoma skin cancer nevi and moles')]\n",
    "\n",
    "df_train, df_val  = train_test_split(data,\n",
    "                              test_size = adj_val_split,\n",
    "                              random_state = pd_seed,\n",
    "                              stratify = data['class'])"
   ]
  },
  {
   "cell_type": "code",
   "execution_count": null,
   "metadata": {
    "colab": {
     "base_uri": "https://localhost:8080/"
    },
    "executionInfo": {
     "elapsed": 136,
     "status": "ok",
     "timestamp": 1666462269851,
     "user": {
      "displayName": "Gerrit Lensink",
      "userId": "03001139976263396963"
     },
     "user_tz": 420
    },
    "id": "oryXchCb4u2a",
    "outputId": "67b75216-b022-4de4-a7c0-8a2219201a42"
   },
   "outputs": [
    {
     "data": {
      "text/plain": [
       "Benign Marking or Mole                                2690\n",
       "Toxin, Fungal, Bug, Viral, or Bacterial Infections     972\n",
       "Non-Cancerous Skin Condition                           696\n",
       "Potentially Malignant Skin Tumors                      452\n",
       "Unclassified                                           208\n",
       "Name: class, dtype: int64"
      ]
     },
     "execution_count": 25,
     "metadata": {},
     "output_type": "execute_result"
    }
   ],
   "source": [
    "df_val['class'].value_counts()"
   ]
  },
  {
   "cell_type": "code",
   "execution_count": null,
   "metadata": {
    "colab": {
     "base_uri": "https://localhost:8080/"
    },
    "executionInfo": {
     "elapsed": 5,
     "status": "ok",
     "timestamp": 1666462165560,
     "user": {
      "displayName": "Gerrit Lensink",
      "userId": "03001139976263396963"
     },
     "user_tz": 420
    },
    "id": "-XnI55_JzU9D",
    "outputId": "32f59a81-9d7a-41cc-9b5b-238702702966"
   },
   "outputs": [
    {
     "data": {
      "text/plain": [
       "Benign Marking or Mole                                16140\n",
       "Toxin, Fungal, Bug, Viral, or Bacterial Infections     5829\n",
       "Non-Cancerous Skin Condition                           4178\n",
       "Potentially Malignant Skin Tumors                      2710\n",
       "Unclassified                                           1250\n",
       "Name: class, dtype: int64"
      ]
     },
     "execution_count": 20,
     "metadata": {},
     "output_type": "execute_result"
    }
   ],
   "source": [
    "s7 = data[data.split_7.isna() == False]\n",
    "s7['class'].value_counts()"
   ]
  },
  {
   "cell_type": "code",
   "execution_count": null,
   "metadata": {
    "id": "Ppg2SQ3_yc9p"
   },
   "outputs": [],
   "source": [
    "val_ids = df_val['image_id']\n",
    "train_ids = df_train['image_id']\n",
    "\n",
    "# Note val\n",
    "full_data['split_7'] = np.where(full_data['image_id'].isin(val_ids), 'val', full_data['split_7'])\n",
    "\n",
    "# Note Train\n",
    "full_data['split_7'] = np.where(full_data['image_id'].isin(train_ids), 'train', full_data['split_7'])\n",
    "\n",
    "# Note unused\n",
    "full_data['split_7'] = np.where(full_data['split_7'] == 'train_val', '', full_data['split_7'])"
   ]
  },
  {
   "cell_type": "code",
   "execution_count": null,
   "metadata": {
    "colab": {
     "base_uri": "https://localhost:8080/"
    },
    "executionInfo": {
     "elapsed": 3,
     "status": "ok",
     "timestamp": 1666460851059,
     "user": {
      "displayName": "Gerrit Lensink",
      "userId": "03001139976263396963"
     },
     "user_tz": 420
    },
    "id": "M5cB6MsCzYo5",
    "outputId": "44a17954-4134-4667-86bf-b4d4efcc7f73"
   },
   "outputs": [
    {
     "data": {
      "text/plain": [
       "train    25489\n",
       "test      6108\n",
       "val       5098\n",
       "Name: split_2, dtype: int64"
      ]
     },
     "execution_count": 14,
     "metadata": {},
     "output_type": "execute_result"
    }
   ],
   "source": [
    "full_data.split_2.value_counts()"
   ]
  },
  {
   "cell_type": "markdown",
   "metadata": {
    "id": "0EhzJGHDZbXD"
   },
   "source": [
    "## Split 8: Re-create split 3 (equal sampling) with new ISIC 2019 malignant data"
   ]
  },
  {
   "cell_type": "code",
   "execution_count": 343,
   "metadata": {
    "executionInfo": {
     "elapsed": 3,
     "status": "ok",
     "timestamp": 1668369985061,
     "user": {
      "displayName": "Gerrit Lensink",
      "userId": "14030898330788478401"
     },
     "user_tz": 480
    },
    "id": "L_Ov1clQbj_b"
   },
   "outputs": [],
   "source": [
    "fdp = full_data"
   ]
  },
  {
   "cell_type": "code",
   "execution_count": 415,
   "metadata": {
    "executionInfo": {
     "elapsed": 286,
     "status": "ok",
     "timestamp": 1668371451472,
     "user": {
      "displayName": "Gerrit Lensink",
      "userId": "14030898330788478401"
     },
     "user_tz": 480
    },
    "id": "MS1CPmL_mUXp"
   },
   "outputs": [],
   "source": [
    "full_data = fdp"
   ]
  },
  {
   "cell_type": "code",
   "execution_count": 416,
   "metadata": {
    "executionInfo": {
     "elapsed": 329,
     "status": "ok",
     "timestamp": 1668371452787,
     "user": {
      "displayName": "Gerrit Lensink",
      "userId": "14030898330788478401"
     },
     "user_tz": 480
    },
    "id": "be99KElXmcE4"
   },
   "outputs": [],
   "source": [
    "# new_data['duplicate'] = False\n",
    "dups_2019 = full_data[(full_data.image_id.duplicated()) & (full_data.source != 'dermnet')]\n",
    "\n",
    "new_data['duplicate'] = np.where(new_data['image_id'].isin(dups_2019.image_id), True, False)\n",
    "new_data = new_data[new_data.duplicate == False]"
   ]
  },
  {
   "cell_type": "code",
   "execution_count": 417,
   "metadata": {
    "executionInfo": {
     "elapsed": 4,
     "status": "ok",
     "timestamp": 1668371453780,
     "user": {
      "displayName": "Gerrit Lensink",
      "userId": "14030898330788478401"
     },
     "user_tz": 480
    },
    "id": "7aNWjwrdpYB3"
   },
   "outputs": [],
   "source": [
    "full_data = pd.concat([full_data, new_data])"
   ]
  },
  {
   "cell_type": "code",
   "execution_count": 419,
   "metadata": {
    "executionInfo": {
     "elapsed": 282,
     "status": "ok",
     "timestamp": 1668371461182,
     "user": {
      "displayName": "Gerrit Lensink",
      "userId": "14030898330788478401"
     },
     "user_tz": 480
    },
    "id": "n8ADfG45bvL0"
   },
   "outputs": [],
   "source": [
    "labs = ['Non-Cancerous Skin Condition',\n",
    "       'Toxin, Fungal, Bug, Viral, or Bacterial Infections',\n",
    "       'Potentially Malignant Skin Tumors', # correct Size\n",
    "    #    'Autoimmue Disorder',                # excluding\n",
    "       'Benign Marking or Mole', \n",
    "       'Unclassified']\n",
    "\n",
    "train_val_test = pd.DataFrame()\n",
    "\n",
    "for lab in labs:\n",
    "    \n",
    "    samp = 4800\n",
    "\n",
    "    \n",
    "    s = full_data[(full_data['label_0'] == lab) &\n",
    "                  (full_data['label_0'] != 'Autoimmue Disorder')]\n",
    "\n",
    "    if len(s) < samp:\n",
    "        samp = len(s)\n",
    "\n",
    "    s = s.sample(n = samp, \n",
    "                 replace = False, \n",
    "                 random_state = pd_seed)\n",
    "    \n",
    "    train_val_test = pd.concat([train_val_test, s])\n",
    "\n",
    "test_ids = train_val_test['image_id']\\\n",
    "          .sample(frac = test_split, \n",
    "                  replace = False, \n",
    "                  random_state = pd_seed)\n",
    "          \n",
    "full_data['split_8'] = np.where(full_data['image_id'].isin(test_ids), 'test', 'train_val')\n",
    "\n",
    "train_val_test['split_8'] = np.where(train_val_test['image_id'].isin(test_ids), 'test', 'train_val')\n",
    "\n",
    "\n",
    "data = train_val_test[(train_val_test['split_8'] == 'train_val')]\n",
    "\n",
    "df_train, df_val  = train_test_split(data,\n",
    "                              test_size = adj_val_split,\n",
    "                              random_state = pd_seed,\n",
    "                              stratify = data['label_0'])\n",
    "\n",
    "val_ids = df_val['image_id']\n",
    "train_ids = df_train['image_id']\n",
    "\n",
    "# Note val\n",
    "full_data['split_8'] = np.where(full_data['image_id'].isin(val_ids), 'val', full_data['split_8'])\n",
    "\n",
    "# Note Train\n",
    "full_data['split_8'] = np.where(full_data['image_id'].isin(train_ids), 'train', full_data['split_8'])\n",
    "\n",
    "# Note unused\n",
    "full_data['split_8'] = np.where(full_data['split_8'] == 'train_val', '', full_data['split_8'])\n",
    "\n",
    "# Remove Autoimmune \n",
    "full_data['split_8'] = np.where(full_data['label_0'] == 'Autoimmue Disorder', '', full_data['split_8'])"
   ]
  },
  {
   "cell_type": "code",
   "execution_count": 424,
   "metadata": {
    "executionInfo": {
     "elapsed": 299,
     "status": "ok",
     "timestamp": 1668371565380,
     "user": {
      "displayName": "Gerrit Lensink",
      "userId": "14030898330788478401"
     },
     "user_tz": 480
    },
    "id": "769tC_9RsMFL"
   },
   "outputs": [],
   "source": [
    "labs = ['Non-Cancerous Skin Condition',\n",
    "       'Toxin, Fungal, Bug, Viral, or Bacterial Infections',\n",
    "       'Potentially Malignant Skin Tumors', # correct Size\n",
    "    #    'Autoimmue Disorder',                # excluding\n",
    "       'Benign Marking or Mole', \n",
    "       'Unclassified']\n",
    "\n",
    "train_val_test = pd.DataFrame()\n",
    "\n",
    "for lab in labs:\n",
    "    \n",
    "    samp = 6700\n",
    "\n",
    "    \n",
    "    s = full_data[(full_data['label_0'] == lab) &\n",
    "                  (full_data['label_0'] != 'Autoimmue Disorder')]\n",
    "\n",
    "    if len(s) < samp:\n",
    "        samp = len(s)\n",
    "\n",
    "    s = s.sample(n = samp, \n",
    "                 replace = False, \n",
    "                 random_state = pd_seed)\n",
    "    \n",
    "    train_val_test = pd.concat([train_val_test, s])\n",
    "\n",
    "test_ids = train_val_test['image_id']\\\n",
    "          .sample(frac = test_split, \n",
    "                  replace = False, \n",
    "                  random_state = pd_seed)\n",
    "          \n",
    "full_data['split_9'] = np.where(full_data['image_id'].isin(test_ids), 'test', 'train_val')\n",
    "\n",
    "train_val_test['split_9'] = np.where(train_val_test['image_id'].isin(test_ids), 'test', 'train_val')\n",
    "\n",
    "\n",
    "data = train_val_test[(train_val_test['split_9'] == 'train_val')]\n",
    "\n",
    "df_train, df_val  = train_test_split(data,\n",
    "                              test_size = adj_val_split,\n",
    "                              random_state = pd_seed,\n",
    "                              stratify = data['label_0'])\n",
    "\n",
    "val_ids = df_val['image_id']\n",
    "train_ids = df_train['image_id']\n",
    "\n",
    "# Note val\n",
    "full_data['split_9'] = np.where(full_data['image_id'].isin(val_ids), 'val', full_data['split_9'])\n",
    "\n",
    "# Note Train\n",
    "full_data['split_9'] = np.where(full_data['image_id'].isin(train_ids), 'train', full_data['split_9'])\n",
    "\n",
    "# Note unused\n",
    "full_data['split_9'] = np.where(full_data['split_9'] == 'train_val', '', full_data['split_9'])\n",
    "\n",
    "# Remove Autoimmune \n",
    "full_data['split_9'] = np.where(full_data['label_0'] == 'Autoimmue Disorder', '', full_data['split_9'])"
   ]
  },
  {
   "cell_type": "code",
   "execution_count": 427,
   "metadata": {
    "executionInfo": {
     "elapsed": 415,
     "status": "ok",
     "timestamp": 1668371658162,
     "user": {
      "displayName": "Gerrit Lensink",
      "userId": "14030898330788478401"
     },
     "user_tz": 480
    },
    "id": "hfnDHJljsrXc"
   },
   "outputs": [],
   "source": [
    "labs = ['Non-Cancerous Skin Condition',\n",
    "       'Toxin, Fungal, Bug, Viral, or Bacterial Infections',\n",
    "       'Potentially Malignant Skin Tumors', # correct Size\n",
    "    #    'Autoimmue Disorder',                # excluding\n",
    "       'Benign Marking or Mole', \n",
    "       'Unclassified']\n",
    "\n",
    "train_val_test = pd.DataFrame()\n",
    "\n",
    "for lab in labs:\n",
    "    \n",
    "    samp = 7500\n",
    "\n",
    "    \n",
    "    s = full_data[(full_data['label_0'] == lab) &\n",
    "                  (full_data['label_0'] != 'Autoimmue Disorder')]\n",
    "\n",
    "    if len(s) < samp:\n",
    "        samp = len(s)\n",
    "\n",
    "    s = s.sample(n = samp, \n",
    "                 replace = False, \n",
    "                 random_state = pd_seed)\n",
    "    \n",
    "    train_val_test = pd.concat([train_val_test, s])\n",
    "\n",
    "test_ids = train_val_test['image_id']\\\n",
    "          .sample(frac = test_split, \n",
    "                  replace = False, \n",
    "                  random_state = pd_seed)\n",
    "          \n",
    "full_data['split_10'] = np.where(full_data['image_id'].isin(test_ids), 'test', 'train_val')\n",
    "\n",
    "train_val_test['split_10'] = np.where(train_val_test['image_id'].isin(test_ids), 'test', 'train_val')\n",
    "\n",
    "\n",
    "data = train_val_test[(train_val_test['split_10'] == 'train_val')]\n",
    "\n",
    "df_train, df_val  = train_test_split(data,\n",
    "                              test_size = adj_val_split,\n",
    "                              random_state = pd_seed,\n",
    "                              stratify = data['label_0'])\n",
    "\n",
    "val_ids = df_val['image_id']\n",
    "train_ids = df_train['image_id']\n",
    "\n",
    "# Note val\n",
    "full_data['split_10'] = np.where(full_data['image_id'].isin(val_ids), 'val', full_data['split_10'])\n",
    "\n",
    "# Note Train\n",
    "full_data['split_10'] = np.where(full_data['image_id'].isin(train_ids), 'train', full_data['split_10'])\n",
    "\n",
    "# Note unused\n",
    "full_data['split_10'] = np.where(full_data['split_10'] == 'train_val', '', full_data['split_10'])\n",
    "\n",
    "# Remove Autoimmune \n",
    "full_data['split_10'] = np.where(full_data['label_0'] == 'Autoimmue Disorder', '', full_data['split_10'])"
   ]
  },
  {
   "cell_type": "code",
   "execution_count": 428,
   "metadata": {
    "colab": {
     "base_uri": "https://localhost:8080/"
    },
    "executionInfo": {
     "elapsed": 284,
     "status": "ok",
     "timestamp": 1668371664746,
     "user": {
      "displayName": "Gerrit Lensink",
      "userId": "14030898330788478401"
     },
     "user_tz": 480
    },
    "id": "vAz5iB4uhReL",
    "outputId": "2ad704a2-e96b-4e78-fae9-bac7700af386"
   },
   "outputs": [
    {
     "data": {
      "text/plain": [
       "Benign Marking or Mole                                5655\n",
       "Potentially Malignant Skin Tumors                     5622\n",
       "Unclassified                                          5603\n",
       "Toxin, Fungal, Bug, Viral, or Bacterial Infections    5052\n",
       "Non-Cancerous Skin Condition                          3607\n",
       "Name: label_0, dtype: int64"
      ]
     },
     "execution_count": 428,
     "metadata": {},
     "output_type": "execute_result"
    }
   ],
   "source": [
    "full_data[full_data.split_10 == 'train'].label_0.value_counts()"
   ]
  },
  {
   "cell_type": "code",
   "execution_count": 423,
   "metadata": {
    "colab": {
     "base_uri": "https://localhost:8080/"
    },
    "executionInfo": {
     "elapsed": 380,
     "status": "ok",
     "timestamp": 1668371515833,
     "user": {
      "displayName": "Gerrit Lensink",
      "userId": "14030898330788478401"
     },
     "user_tz": 480
    },
    "id": "2UVfNFMSsOjP",
    "outputId": "3515dd8c-2826-47c8-f0c3-cde51813bb2e"
   },
   "outputs": [
    {
     "data": {
      "text/plain": [
       "Benign Marking or Mole                                29257\n",
       "Unclassified                                          28497\n",
       "Potentially Malignant Skin Tumors                      7590\n",
       "Toxin, Fungal, Bug, Viral, or Bacterial Infections     6723\n",
       "Non-Cancerous Skin Condition                           4807\n",
       "Autoimmue Disorder                                     1388\n",
       "Name: label_0, dtype: int64"
      ]
     },
     "execution_count": 423,
     "metadata": {},
     "output_type": "execute_result"
    }
   ],
   "source": [
    "full_data.label_0.value_counts()"
   ]
  },
  {
   "cell_type": "code",
   "execution_count": 429,
   "metadata": {
    "colab": {
     "base_uri": "https://localhost:8080/",
     "height": 925
    },
    "executionInfo": {
     "elapsed": 5,
     "status": "ok",
     "timestamp": 1668371684907,
     "user": {
      "displayName": "Gerrit Lensink",
      "userId": "14030898330788478401"
     },
     "user_tz": 480
    },
    "id": "foEMb5CAs4qv",
    "outputId": "6e8e9482-54f4-4f99-ee0a-001329c04e13"
   },
   "outputs": [
    {
     "data": {
      "text/html": [
       "\n",
       "  <div id=\"df-c24ac0c3-dd68-4b75-aa30-4eb1a6e16e28\">\n",
       "    <div class=\"colab-df-container\">\n",
       "      <div>\n",
       "<style scoped>\n",
       "    .dataframe tbody tr th:only-of-type {\n",
       "        vertical-align: middle;\n",
       "    }\n",
       "\n",
       "    .dataframe tbody tr th {\n",
       "        vertical-align: top;\n",
       "    }\n",
       "\n",
       "    .dataframe thead th {\n",
       "        text-align: right;\n",
       "    }\n",
       "</style>\n",
       "<table border=\"1\" class=\"dataframe\">\n",
       "  <thead>\n",
       "    <tr style=\"text-align: right;\">\n",
       "      <th></th>\n",
       "      <th>image_id</th>\n",
       "      <th>diagnosis</th>\n",
       "      <th>age</th>\n",
       "      <th>sex</th>\n",
       "      <th>localization</th>\n",
       "      <th>source</th>\n",
       "      <th>severity</th>\n",
       "      <th>path</th>\n",
       "      <th>duplicate</th>\n",
       "      <th>label_0</th>\n",
       "      <th>...</th>\n",
       "      <th>split_1</th>\n",
       "      <th>split_2</th>\n",
       "      <th>split_3</th>\n",
       "      <th>split_4</th>\n",
       "      <th>split_5</th>\n",
       "      <th>split_6</th>\n",
       "      <th>split_7</th>\n",
       "      <th>split_8</th>\n",
       "      <th>split_9</th>\n",
       "      <th>split_10</th>\n",
       "    </tr>\n",
       "  </thead>\n",
       "  <tbody>\n",
       "    <tr>\n",
       "      <th>0</th>\n",
       "      <td>fissure-2</td>\n",
       "      <td>eczema photos</td>\n",
       "      <td>0.0</td>\n",
       "      <td>unknown</td>\n",
       "      <td>unknown</td>\n",
       "      <td>dermnet</td>\n",
       "      <td>unknown</td>\n",
       "      <td>./Data/dermnet/train/Nail Fungus and other Nai...</td>\n",
       "      <td>True</td>\n",
       "      <td>Non-Cancerous Skin Condition</td>\n",
       "      <td>...</td>\n",
       "      <td>NaN</td>\n",
       "      <td>NaN</td>\n",
       "      <td>NaN</td>\n",
       "      <td>NaN</td>\n",
       "      <td>NaN</td>\n",
       "      <td>NaN</td>\n",
       "      <td>NaN</td>\n",
       "      <td>train</td>\n",
       "      <td>test</td>\n",
       "      <td>train</td>\n",
       "    </tr>\n",
       "    <tr>\n",
       "      <th>1</th>\n",
       "      <td>id-reaction-10</td>\n",
       "      <td>eczema photos</td>\n",
       "      <td>0.0</td>\n",
       "      <td>unknown</td>\n",
       "      <td>unknown</td>\n",
       "      <td>dermnet</td>\n",
       "      <td>unknown</td>\n",
       "      <td>./Data/dermnet/train/Tinea Ringworm Candidiasi...</td>\n",
       "      <td>True</td>\n",
       "      <td>Non-Cancerous Skin Condition</td>\n",
       "      <td>...</td>\n",
       "      <td>NaN</td>\n",
       "      <td>NaN</td>\n",
       "      <td>NaN</td>\n",
       "      <td>NaN</td>\n",
       "      <td>NaN</td>\n",
       "      <td>NaN</td>\n",
       "      <td>NaN</td>\n",
       "      <td>train</td>\n",
       "      <td>train</td>\n",
       "      <td>train</td>\n",
       "    </tr>\n",
       "    <tr>\n",
       "      <th>2</th>\n",
       "      <td>id-reaction-7</td>\n",
       "      <td>eczema photos</td>\n",
       "      <td>0.0</td>\n",
       "      <td>unknown</td>\n",
       "      <td>unknown</td>\n",
       "      <td>dermnet</td>\n",
       "      <td>unknown</td>\n",
       "      <td>./Data/dermnet/train/Tinea Ringworm Candidiasi...</td>\n",
       "      <td>True</td>\n",
       "      <td>Non-Cancerous Skin Condition</td>\n",
       "      <td>...</td>\n",
       "      <td>NaN</td>\n",
       "      <td>NaN</td>\n",
       "      <td>NaN</td>\n",
       "      <td>NaN</td>\n",
       "      <td>NaN</td>\n",
       "      <td>NaN</td>\n",
       "      <td>NaN</td>\n",
       "      <td>train</td>\n",
       "      <td>train</td>\n",
       "      <td>val</td>\n",
       "    </tr>\n",
       "    <tr>\n",
       "      <th>3</th>\n",
       "      <td>fissure-5</td>\n",
       "      <td>eczema photos</td>\n",
       "      <td>0.0</td>\n",
       "      <td>unknown</td>\n",
       "      <td>unknown</td>\n",
       "      <td>dermnet</td>\n",
       "      <td>unknown</td>\n",
       "      <td>./Data/dermnet/train/Nail Fungus and other Nai...</td>\n",
       "      <td>True</td>\n",
       "      <td>Non-Cancerous Skin Condition</td>\n",
       "      <td>...</td>\n",
       "      <td>NaN</td>\n",
       "      <td>NaN</td>\n",
       "      <td>NaN</td>\n",
       "      <td>NaN</td>\n",
       "      <td>NaN</td>\n",
       "      <td>NaN</td>\n",
       "      <td>NaN</td>\n",
       "      <td>train</td>\n",
       "      <td>train</td>\n",
       "      <td>train</td>\n",
       "    </tr>\n",
       "    <tr>\n",
       "      <th>4</th>\n",
       "      <td>id-reaction-1</td>\n",
       "      <td>eczema photos</td>\n",
       "      <td>0.0</td>\n",
       "      <td>unknown</td>\n",
       "      <td>unknown</td>\n",
       "      <td>dermnet</td>\n",
       "      <td>unknown</td>\n",
       "      <td>./Data/dermnet/train/Tinea Ringworm Candidiasi...</td>\n",
       "      <td>True</td>\n",
       "      <td>Non-Cancerous Skin Condition</td>\n",
       "      <td>...</td>\n",
       "      <td>NaN</td>\n",
       "      <td>NaN</td>\n",
       "      <td>NaN</td>\n",
       "      <td>NaN</td>\n",
       "      <td>NaN</td>\n",
       "      <td>NaN</td>\n",
       "      <td>NaN</td>\n",
       "      <td>train</td>\n",
       "      <td>train</td>\n",
       "      <td>train</td>\n",
       "    </tr>\n",
       "    <tr>\n",
       "      <th>...</th>\n",
       "      <td>...</td>\n",
       "      <td>...</td>\n",
       "      <td>...</td>\n",
       "      <td>...</td>\n",
       "      <td>...</td>\n",
       "      <td>...</td>\n",
       "      <td>...</td>\n",
       "      <td>...</td>\n",
       "      <td>...</td>\n",
       "      <td>...</td>\n",
       "      <td>...</td>\n",
       "      <td>...</td>\n",
       "      <td>...</td>\n",
       "      <td>...</td>\n",
       "      <td>...</td>\n",
       "      <td>...</td>\n",
       "      <td>...</td>\n",
       "      <td>...</td>\n",
       "      <td>...</td>\n",
       "      <td>...</td>\n",
       "      <td>...</td>\n",
       "    </tr>\n",
       "    <tr>\n",
       "      <th>34846</th>\n",
       "      <td>ISIC_0073247</td>\n",
       "      <td>basal cell carcinoma</td>\n",
       "      <td>85.0</td>\n",
       "      <td>female</td>\n",
       "      <td>head/neck</td>\n",
       "      <td>ISIC_2019</td>\n",
       "      <td>NaN</td>\n",
       "      <td>./Data/ISIC_2019/ISIC_2019_Training_Input/ISIC...</td>\n",
       "      <td>False</td>\n",
       "      <td>Potentially Malignant Skin Tumors</td>\n",
       "      <td>...</td>\n",
       "      <td>NaN</td>\n",
       "      <td>NaN</td>\n",
       "      <td>NaN</td>\n",
       "      <td>NaN</td>\n",
       "      <td>NaN</td>\n",
       "      <td>NaN</td>\n",
       "      <td>NaN</td>\n",
       "      <td>train</td>\n",
       "      <td>train</td>\n",
       "      <td>val</td>\n",
       "    </tr>\n",
       "    <tr>\n",
       "      <th>34847</th>\n",
       "      <td>ISIC_0073248</td>\n",
       "      <td>benign keratosis-like lesions</td>\n",
       "      <td>65.0</td>\n",
       "      <td>male</td>\n",
       "      <td>anterior torso</td>\n",
       "      <td>ISIC_2019</td>\n",
       "      <td>NaN</td>\n",
       "      <td>./Data/ISIC_2019/ISIC_2019_Training_Input/ISIC...</td>\n",
       "      <td>False</td>\n",
       "      <td>Benign Marking or Mole</td>\n",
       "      <td>...</td>\n",
       "      <td>NaN</td>\n",
       "      <td>NaN</td>\n",
       "      <td>NaN</td>\n",
       "      <td>NaN</td>\n",
       "      <td>NaN</td>\n",
       "      <td>NaN</td>\n",
       "      <td>NaN</td>\n",
       "      <td></td>\n",
       "      <td></td>\n",
       "      <td></td>\n",
       "    </tr>\n",
       "    <tr>\n",
       "      <th>34848</th>\n",
       "      <td>ISIC_0073249</td>\n",
       "      <td>dermatofibroma</td>\n",
       "      <td>70.0</td>\n",
       "      <td>male</td>\n",
       "      <td>lower extremity</td>\n",
       "      <td>ISIC_2019</td>\n",
       "      <td>NaN</td>\n",
       "      <td>./Data/ISIC_2019/ISIC_2019_Training_Input/ISIC...</td>\n",
       "      <td>False</td>\n",
       "      <td>Benign Marking or Mole</td>\n",
       "      <td>...</td>\n",
       "      <td>NaN</td>\n",
       "      <td>NaN</td>\n",
       "      <td>NaN</td>\n",
       "      <td>NaN</td>\n",
       "      <td>NaN</td>\n",
       "      <td>NaN</td>\n",
       "      <td>NaN</td>\n",
       "      <td></td>\n",
       "      <td></td>\n",
       "      <td></td>\n",
       "    </tr>\n",
       "    <tr>\n",
       "      <th>34851</th>\n",
       "      <td>ISIC_0073251</td>\n",
       "      <td>melanocytic nevi</td>\n",
       "      <td>55.0</td>\n",
       "      <td>female</td>\n",
       "      <td>palms/soles</td>\n",
       "      <td>ISIC_2019</td>\n",
       "      <td>NaN</td>\n",
       "      <td>./Data/ISIC_2019/ISIC_2019_Training_Input/ISIC...</td>\n",
       "      <td>False</td>\n",
       "      <td>Benign Marking or Mole</td>\n",
       "      <td>...</td>\n",
       "      <td>NaN</td>\n",
       "      <td>NaN</td>\n",
       "      <td>NaN</td>\n",
       "      <td>NaN</td>\n",
       "      <td>NaN</td>\n",
       "      <td>NaN</td>\n",
       "      <td>NaN</td>\n",
       "      <td></td>\n",
       "      <td></td>\n",
       "      <td></td>\n",
       "    </tr>\n",
       "    <tr>\n",
       "      <th>34852</th>\n",
       "      <td>ISIC_0073254</td>\n",
       "      <td>benign keratosis-like lesions</td>\n",
       "      <td>50.0</td>\n",
       "      <td>male</td>\n",
       "      <td>upper extremity</td>\n",
       "      <td>ISIC_2019</td>\n",
       "      <td>NaN</td>\n",
       "      <td>./Data/ISIC_2019/ISIC_2019_Training_Input/ISIC...</td>\n",
       "      <td>False</td>\n",
       "      <td>Benign Marking or Mole</td>\n",
       "      <td>...</td>\n",
       "      <td>NaN</td>\n",
       "      <td>NaN</td>\n",
       "      <td>NaN</td>\n",
       "      <td>NaN</td>\n",
       "      <td>NaN</td>\n",
       "      <td>NaN</td>\n",
       "      <td>NaN</td>\n",
       "      <td></td>\n",
       "      <td></td>\n",
       "      <td></td>\n",
       "    </tr>\n",
       "  </tbody>\n",
       "</table>\n",
       "<p>78262 rows × 24 columns</p>\n",
       "</div>\n",
       "      <button class=\"colab-df-convert\" onclick=\"convertToInteractive('df-c24ac0c3-dd68-4b75-aa30-4eb1a6e16e28')\"\n",
       "              title=\"Convert this dataframe to an interactive table.\"\n",
       "              style=\"display:none;\">\n",
       "        \n",
       "  <svg xmlns=\"http://www.w3.org/2000/svg\" height=\"24px\"viewBox=\"0 0 24 24\"\n",
       "       width=\"24px\">\n",
       "    <path d=\"M0 0h24v24H0V0z\" fill=\"none\"/>\n",
       "    <path d=\"M18.56 5.44l.94 2.06.94-2.06 2.06-.94-2.06-.94-.94-2.06-.94 2.06-2.06.94zm-11 1L8.5 8.5l.94-2.06 2.06-.94-2.06-.94L8.5 2.5l-.94 2.06-2.06.94zm10 10l.94 2.06.94-2.06 2.06-.94-2.06-.94-.94-2.06-.94 2.06-2.06.94z\"/><path d=\"M17.41 7.96l-1.37-1.37c-.4-.4-.92-.59-1.43-.59-.52 0-1.04.2-1.43.59L10.3 9.45l-7.72 7.72c-.78.78-.78 2.05 0 2.83L4 21.41c.39.39.9.59 1.41.59.51 0 1.02-.2 1.41-.59l7.78-7.78 2.81-2.81c.8-.78.8-2.07 0-2.86zM5.41 20L4 18.59l7.72-7.72 1.47 1.35L5.41 20z\"/>\n",
       "  </svg>\n",
       "      </button>\n",
       "      \n",
       "  <style>\n",
       "    .colab-df-container {\n",
       "      display:flex;\n",
       "      flex-wrap:wrap;\n",
       "      gap: 12px;\n",
       "    }\n",
       "\n",
       "    .colab-df-convert {\n",
       "      background-color: #E8F0FE;\n",
       "      border: none;\n",
       "      border-radius: 50%;\n",
       "      cursor: pointer;\n",
       "      display: none;\n",
       "      fill: #1967D2;\n",
       "      height: 32px;\n",
       "      padding: 0 0 0 0;\n",
       "      width: 32px;\n",
       "    }\n",
       "\n",
       "    .colab-df-convert:hover {\n",
       "      background-color: #E2EBFA;\n",
       "      box-shadow: 0px 1px 2px rgba(60, 64, 67, 0.3), 0px 1px 3px 1px rgba(60, 64, 67, 0.15);\n",
       "      fill: #174EA6;\n",
       "    }\n",
       "\n",
       "    [theme=dark] .colab-df-convert {\n",
       "      background-color: #3B4455;\n",
       "      fill: #D2E3FC;\n",
       "    }\n",
       "\n",
       "    [theme=dark] .colab-df-convert:hover {\n",
       "      background-color: #434B5C;\n",
       "      box-shadow: 0px 1px 3px 1px rgba(0, 0, 0, 0.15);\n",
       "      filter: drop-shadow(0px 1px 2px rgba(0, 0, 0, 0.3));\n",
       "      fill: #FFFFFF;\n",
       "    }\n",
       "  </style>\n",
       "\n",
       "      <script>\n",
       "        const buttonEl =\n",
       "          document.querySelector('#df-c24ac0c3-dd68-4b75-aa30-4eb1a6e16e28 button.colab-df-convert');\n",
       "        buttonEl.style.display =\n",
       "          google.colab.kernel.accessAllowed ? 'block' : 'none';\n",
       "\n",
       "        async function convertToInteractive(key) {\n",
       "          const element = document.querySelector('#df-c24ac0c3-dd68-4b75-aa30-4eb1a6e16e28');\n",
       "          const dataTable =\n",
       "            await google.colab.kernel.invokeFunction('convertToInteractive',\n",
       "                                                     [key], {});\n",
       "          if (!dataTable) return;\n",
       "\n",
       "          const docLinkHtml = 'Like what you see? Visit the ' +\n",
       "            '<a target=\"_blank\" href=https://colab.research.google.com/notebooks/data_table.ipynb>data table notebook</a>'\n",
       "            + ' to learn more about interactive tables.';\n",
       "          element.innerHTML = '';\n",
       "          dataTable['output_type'] = 'display_data';\n",
       "          await google.colab.output.renderOutput(dataTable, element);\n",
       "          const docLink = document.createElement('div');\n",
       "          docLink.innerHTML = docLinkHtml;\n",
       "          element.appendChild(docLink);\n",
       "        }\n",
       "      </script>\n",
       "    </div>\n",
       "  </div>\n",
       "  "
      ],
      "text/plain": [
       "             image_id                      diagnosis   age      sex  \\\n",
       "0           fissure-2                  eczema photos   0.0  unknown   \n",
       "1      id-reaction-10                  eczema photos   0.0  unknown   \n",
       "2       id-reaction-7                  eczema photos   0.0  unknown   \n",
       "3           fissure-5                  eczema photos   0.0  unknown   \n",
       "4       id-reaction-1                  eczema photos   0.0  unknown   \n",
       "...               ...                            ...   ...      ...   \n",
       "34846    ISIC_0073247           basal cell carcinoma  85.0   female   \n",
       "34847    ISIC_0073248  benign keratosis-like lesions  65.0     male   \n",
       "34848    ISIC_0073249                 dermatofibroma  70.0     male   \n",
       "34851    ISIC_0073251               melanocytic nevi  55.0   female   \n",
       "34852    ISIC_0073254  benign keratosis-like lesions  50.0     male   \n",
       "\n",
       "          localization     source severity  \\\n",
       "0              unknown    dermnet  unknown   \n",
       "1              unknown    dermnet  unknown   \n",
       "2              unknown    dermnet  unknown   \n",
       "3              unknown    dermnet  unknown   \n",
       "4              unknown    dermnet  unknown   \n",
       "...                ...        ...      ...   \n",
       "34846        head/neck  ISIC_2019      NaN   \n",
       "34847   anterior torso  ISIC_2019      NaN   \n",
       "34848  lower extremity  ISIC_2019      NaN   \n",
       "34851      palms/soles  ISIC_2019      NaN   \n",
       "34852  upper extremity  ISIC_2019      NaN   \n",
       "\n",
       "                                                    path  duplicate  \\\n",
       "0      ./Data/dermnet/train/Nail Fungus and other Nai...       True   \n",
       "1      ./Data/dermnet/train/Tinea Ringworm Candidiasi...       True   \n",
       "2      ./Data/dermnet/train/Tinea Ringworm Candidiasi...       True   \n",
       "3      ./Data/dermnet/train/Nail Fungus and other Nai...       True   \n",
       "4      ./Data/dermnet/train/Tinea Ringworm Candidiasi...       True   \n",
       "...                                                  ...        ...   \n",
       "34846  ./Data/ISIC_2019/ISIC_2019_Training_Input/ISIC...      False   \n",
       "34847  ./Data/ISIC_2019/ISIC_2019_Training_Input/ISIC...      False   \n",
       "34848  ./Data/ISIC_2019/ISIC_2019_Training_Input/ISIC...      False   \n",
       "34851  ./Data/ISIC_2019/ISIC_2019_Training_Input/ISIC...      False   \n",
       "34852  ./Data/ISIC_2019/ISIC_2019_Training_Input/ISIC...      False   \n",
       "\n",
       "                                 label_0  ... split_1 split_2 split_3 split_4  \\\n",
       "0           Non-Cancerous Skin Condition  ...     NaN     NaN     NaN     NaN   \n",
       "1           Non-Cancerous Skin Condition  ...     NaN     NaN     NaN     NaN   \n",
       "2           Non-Cancerous Skin Condition  ...     NaN     NaN     NaN     NaN   \n",
       "3           Non-Cancerous Skin Condition  ...     NaN     NaN     NaN     NaN   \n",
       "4           Non-Cancerous Skin Condition  ...     NaN     NaN     NaN     NaN   \n",
       "...                                  ...  ...     ...     ...     ...     ...   \n",
       "34846  Potentially Malignant Skin Tumors  ...     NaN     NaN     NaN     NaN   \n",
       "34847             Benign Marking or Mole  ...     NaN     NaN     NaN     NaN   \n",
       "34848             Benign Marking or Mole  ...     NaN     NaN     NaN     NaN   \n",
       "34851             Benign Marking or Mole  ...     NaN     NaN     NaN     NaN   \n",
       "34852             Benign Marking or Mole  ...     NaN     NaN     NaN     NaN   \n",
       "\n",
       "      split_5 split_6 split_7 split_8 split_9 split_10  \n",
       "0         NaN     NaN     NaN   train    test    train  \n",
       "1         NaN     NaN     NaN   train   train    train  \n",
       "2         NaN     NaN     NaN   train   train      val  \n",
       "3         NaN     NaN     NaN   train   train    train  \n",
       "4         NaN     NaN     NaN   train   train    train  \n",
       "...       ...     ...     ...     ...     ...      ...  \n",
       "34846     NaN     NaN     NaN   train   train      val  \n",
       "34847     NaN     NaN     NaN                           \n",
       "34848     NaN     NaN     NaN                           \n",
       "34851     NaN     NaN     NaN                           \n",
       "34852     NaN     NaN     NaN                           \n",
       "\n",
       "[78262 rows x 24 columns]"
      ]
     },
     "execution_count": 429,
     "metadata": {},
     "output_type": "execute_result"
    }
   ],
   "source": [
    "full_data"
   ]
  },
  {
   "cell_type": "markdown",
   "metadata": {
    "id": "mXfSQBpTa5tD"
   },
   "source": [
    "## Write Back Data"
   ]
  },
  {
   "cell_type": "code",
   "execution_count": 430,
   "metadata": {
    "executionInfo": {
     "elapsed": 1339,
     "status": "ok",
     "timestamp": 1668371738347,
     "user": {
      "displayName": "Gerrit Lensink",
      "userId": "14030898330788478401"
     },
     "user_tz": 480
    },
    "id": "Iy3mfgVia7Z4"
   },
   "outputs": [],
   "source": [
    "full_data.to_csv('./Data/full_data_final_not_diverse.csv', index = True)"
   ]
  },
  {
   "cell_type": "code",
   "execution_count": null,
   "metadata": {
    "colab": {
     "base_uri": "https://localhost:8080/"
    },
    "executionInfo": {
     "elapsed": 163,
     "status": "ok",
     "timestamp": 1666059890373,
     "user": {
      "displayName": "Gerrit Lensink",
      "userId": "03001139976263396963"
     },
     "user_tz": 420
    },
    "id": "NJK888kweUIX",
    "outputId": "fc34b333-87d3-42f3-8aef-05fd00e05b8c"
   },
   "outputs": [
    {
     "data": {
      "text/plain": [
       "    586\n",
       "Name: split_6, dtype: int64"
      ]
     },
     "execution_count": 125,
     "metadata": {},
     "output_type": "execute_result"
    }
   ],
   "source": [
    "# full_data[full_data['duplicated'] == True]['split_6'].value_counts()"
   ]
  },
  {
   "cell_type": "code",
   "execution_count": null,
   "metadata": {
    "colab": {
     "base_uri": "https://localhost:8080/"
    },
    "executionInfo": {
     "elapsed": 235,
     "status": "ok",
     "timestamp": 1666461738354,
     "user": {
      "displayName": "Gerrit Lensink",
      "userId": "03001139976263396963"
     },
     "user_tz": 420
    },
    "id": "d7fciG1Ke1gR",
    "outputId": "b662c3c7-ea97-4eed-c8c4-18d5ba3a05d1"
   },
   "outputs": [
    {
     "name": "stdout",
     "output_type": "stream",
     "text": [
      "train    43027\n",
      "val       8606\n",
      "test      6236\n",
      "Name: split_1, dtype: int64\n",
      "train    25489\n",
      "test      6108\n",
      "val       5098\n",
      "Name: split_2, dtype: int64\n",
      "train    13500\n",
      "val       2700\n",
      "test      1800\n",
      "Name: split_3, dtype: int64\n",
      "train    26426\n",
      "val       5286\n",
      "test      3524\n",
      "Name: split_4, dtype: int64\n",
      "train    25995\n",
      "val       5200\n",
      "test      3466\n",
      "Name: split_5, dtype: int64\n",
      "train    25995\n",
      "val       5200\n",
      "test      3466\n",
      "Name: split_6, dtype: int64\n",
      "         26788\n",
      "train    25089\n",
      "test      6051\n",
      "val       5018\n",
      "Name: split_7, dtype: int64\n"
     ]
    }
   ],
   "source": [
    "bx = ['split_1', 'split_2', 'split_3', 'split_4', 'split_5', 'split_6', 'split_7']\n",
    "\n",
    "for x in bx: \n",
    "    print(full_data[x].value_counts())"
   ]
  },
  {
   "cell_type": "code",
   "execution_count": null,
   "metadata": {
    "id": "G5b18i6KgG25"
   },
   "outputs": [],
   "source": []
  },
  {
   "cell_type": "markdown",
   "metadata": {
    "id": "TzIn5p-WZYvp"
   },
   "source": []
  }
 ],
 "metadata": {
  "colab": {
   "provenance": [
    {
     "file_id": "1XH8xbQ4E8L6ZK247ObpXq_qMmJX7_LyN",
     "timestamp": 1668359157768
    }
   ],
   "toc_visible": true
  },
  "kernelspec": {
   "display_name": "Python 3",
   "name": "python3"
  },
  "language_info": {
   "name": "python"
  }
 },
 "nbformat": 4,
 "nbformat_minor": 0
}
