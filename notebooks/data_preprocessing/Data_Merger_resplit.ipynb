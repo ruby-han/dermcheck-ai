{
 "cells": [
  {
   "cell_type": "markdown",
   "metadata": {
    "id": "NCVn4sFWgsWT"
   },
   "source": [
    "## Setup"
   ]
  },
  {
   "cell_type": "markdown",
   "metadata": {
    "id": "LttINCriguo3"
   },
   "source": [
    "### Installs, Packages, Seeds"
   ]
  },
  {
   "cell_type": "code",
   "execution_count": 1,
   "metadata": {
    "executionInfo": {
     "elapsed": 726,
     "status": "ok",
     "timestamp": 1666460123178,
     "user": {
      "displayName": "Gerrit Lensink",
      "userId": "03001139976263396963"
     },
     "user_tz": 420
    },
    "id": "Y0Cgxs-5fwGh"
   },
   "outputs": [],
   "source": [
    "import pandas as pd\n",
    "# import matplotlib.pyplot as plt\n",
    "# import matplotlib.image as mp_image\n",
    "from IPython import display    # Easily show images in notebook\n",
    "import os\n",
    "# import cv2\n",
    "import numpy as np\n",
    "# from skimage import io\n",
    "from PIL import Image\n",
    "from google.colab import drive # Connect colab to google drive\n",
    "from glob import glob\n",
    "from pathlib import PurePath\n",
    "\n",
    "# sklearn libraries\n",
    "from sklearn.model_selection import train_test_split"
   ]
  },
  {
   "cell_type": "code",
   "execution_count": 2,
   "metadata": {
    "executionInfo": {
     "elapsed": 5,
     "status": "ok",
     "timestamp": 1666460123179,
     "user": {
      "displayName": "Gerrit Lensink",
      "userId": "03001139976263396963"
     },
     "user_tz": 420
    },
    "id": "dv9IFOBSfpCy"
   },
   "outputs": [],
   "source": [
    "# Set Seeds\n",
    "np.random.seed(99)\n",
    "pd_seed = 99\n",
    "# torch.cuda.manual_seed(10)"
   ]
  },
  {
   "cell_type": "markdown",
   "metadata": {
    "id": "C1jeu-Oeg8JM"
   },
   "source": [
    "### Mount Google Drive"
   ]
  },
  {
   "cell_type": "code",
   "execution_count": 3,
   "metadata": {
    "colab": {
     "base_uri": "https://localhost:8080/"
    },
    "executionInfo": {
     "elapsed": 18521,
     "status": "ok",
     "timestamp": 1666460141696,
     "user": {
      "displayName": "Gerrit Lensink",
      "userId": "03001139976263396963"
     },
     "user_tz": 420
    },
    "id": "O2oA1-GNf8qZ",
    "outputId": "3d291543-46df-451d-8a66-1b2fe9d3da28"
   },
   "outputs": [
    {
     "name": "stdout",
     "output_type": "stream",
     "text": [
      "Mounted at /drive\n",
      "/drive/MyDrive/W210 - Capstone\n"
     ]
    }
   ],
   "source": [
    "drive.mount('/drive') \n",
    "%cd /drive/MyDrive/W210 - Capstone/"
   ]
  },
  {
   "cell_type": "markdown",
   "metadata": {
    "id": "vIdU4ZZ0hBql"
   },
   "source": [
    "## Data Blend"
   ]
  },
  {
   "cell_type": "markdown",
   "metadata": {
    "id": "ciNBne0_galA"
   },
   "source": [
    "To blend our data we'd like to start with two things: \n",
    "1. a list of all image paths **all_image_path**, with a related column to note which dataset it's from\n",
    "2. a single y vector to represent all of the different classes **df.fill_in**"
   ]
  },
  {
   "cell_type": "markdown",
   "metadata": {
    "id": "-8N--DIWjRdK"
   },
   "source": [
    "### First, doing this for ISIC 2018\n",
    "\n",
    "ISIC 2018 has 3 datasets - train, test, and val. Train is the only set with the Y vector represented in the metadata, so the other images aren't all that interesting (we can't see if we're right or wrong). Because of that, only looking at the 'train' set below. for more info on the full splits, see [GL_modeling_img_only](https://colab.research.google.com/drive/11ytZd4whUOTOsveNcbmIyOHAWU6MDxbi?authuser=1#scrollTo=rUgahMpfsKKF) notebook. "
   ]
  },
  {
   "cell_type": "markdown",
   "metadata": {
    "id": "9BNXNtbMw07O"
   },
   "source": [
    "#### Images"
   ]
  },
  {
   "cell_type": "code",
   "execution_count": null,
   "metadata": {
    "id": "2yrYPc4-gCos"
   },
   "outputs": [],
   "source": [
    "data_dir = './Data/'\n",
    "\n",
    "# ISIC 2018\n",
    "ISIC_2018_path = 'ISIC_2018/Train/HAM10000_images_part_1_and_2/'\n",
    "\n",
    "# ISIC 2020\n",
    "ISIC_2020_path = 'ISIC_2020/Data/'\n",
    "\n",
    "# Stanford Diverse\n",
    "stanford_path = 'diverse_stanford/'\n",
    "\n",
    "# Dermnet\n",
    "dermnet_path = 'dermnet/'\n",
    "dermnet_path_train = dermnet_path + 'train/'\n",
    "dermnet_path_test = dermnet_path + 'test/'\n",
    "\n",
    "# Extension Dictionary\n",
    "exts = {'ISIC': '.jpg', 'stanford': '.png', 'dermnet': '.jpg'}"
   ]
  },
  {
   "cell_type": "code",
   "execution_count": null,
   "metadata": {
    "colab": {
     "base_uri": "https://localhost:8080/"
    },
    "executionInfo": {
     "elapsed": 21539,
     "status": "ok",
     "timestamp": 1664138263316,
     "user": {
      "displayName": "Gerrit Lensink",
      "userId": "03001139976263396963"
     },
     "user_tz": 420
    },
    "id": "iaQwxyWugIL5",
    "outputId": "a3588a55-f77a-4ad3-a0f5-e2c89c254964"
   },
   "outputs": [
    {
     "name": "stdout",
     "output_type": "stream",
     "text": [
      "ISIC 2018 Images:\t 10015\n",
      "ISIC 2020 Images:\t 33126\n",
      "Stanford Diverse Images:\t 659\n"
     ]
    }
   ],
   "source": [
    "# Check to make sure we're seeing all of the images in train\n",
    "print('ISIC 2018 Images:\\t', len(os.listdir(data_dir + ISIC_2018_path)))\n",
    "print('ISIC 2020 Images:\\t', len(os.listdir(data_dir + ISIC_2020_path)))\n",
    "print('Stanford Diverse Images:\\t', len(os.listdir(data_dir + stanford_path)))\n",
    "# print('Dermnet Images:\\t', len(os.listdir(data_dir + dermnet_path_train)) + len(os.listdir(data_dir + dermnet_path_test)))"
   ]
  },
  {
   "cell_type": "code",
   "execution_count": null,
   "metadata": {
    "colab": {
     "base_uri": "https://localhost:8080/"
    },
    "executionInfo": {
     "elapsed": 192004,
     "status": "ok",
     "timestamp": 1665343408749,
     "user": {
      "displayName": "Gerrit Lensink",
      "userId": "03001139976263396963"
     },
     "user_tz": 420
    },
    "id": "WKraKt6cgO8-",
    "outputId": "78d7b683-c086-4d35-a525-13ff5c074d57"
   },
   "outputs": [
    {
     "name": "stdout",
     "output_type": "stream",
     "text": [
      "10015 0 656 19559\n"
     ]
    }
   ],
   "source": [
    "# Get a list of all image paths\n",
    "ISIC_2018_images = glob(os.path.join(data_dir+ISIC_2018_path, '*'+exts['ISIC']))\n",
    "ISIC_2020_images = glob(os.path.join(data_dir+ISIC_2020_path, '*'+exts['ISIC']))\n",
    "stanford_images = glob(os.path.join(data_dir+stanford_path, '*'+exts['stanford']))\n",
    "dermnet_images = glob(os.path.join(data_dir+dermnet_path, '*', '*', '*'+exts['dermnet'])) # one level deeper since train and test are separate\n",
    "print(len(ISIC_2018_images), len(ISIC_2020_images), len(stanford_images), len(dermnet_images))    # make sure they're the right length"
   ]
  },
  {
   "cell_type": "markdown",
   "metadata": {
    "id": "EMZryPqvw4s3"
   },
   "source": [
    "#### Metadata\n",
    "\n",
    "Now, load metadata. We're interested in the: \n",
    "- image ID\n",
    "- diagnosis\n",
    "- severity (if noted)\n",
    "- source\n",
    "\n",
    "Notice each of the DFs has an image_id-like column. \n",
    "- ISIC  formats the ID as \"ISIC_\" with 7 digits trailing, without an extension, front-padding with 0's. \n",
    "- Stanford formats the ID as a 6 digit ID with '.png' extension, front-padding with 0's.\n",
    "    - Because of this, will remove the extension below for consistency\n",
    "- Dermnet..."
   ]
  },
  {
   "cell_type": "code",
   "execution_count": null,
   "metadata": {
    "colab": {
     "base_uri": "https://localhost:8080/"
    },
    "executionInfo": {
     "elapsed": 2497,
     "status": "ok",
     "timestamp": 1665343412813,
     "user": {
      "displayName": "Gerrit Lensink",
      "userId": "03001139976263396963"
     },
     "user_tz": 420
    },
    "id": "DmdgXwUdgL8A",
    "outputId": "d2f7f29e-816c-471a-c816-1352407c4736"
   },
   "outputs": [
    {
     "name": "stderr",
     "output_type": "stream",
     "text": [
      "/usr/local/lib/python3.7/dist-packages/ipykernel_launcher.py:31: FutureWarning: The default value of regex will change from True to False in a future version.\n"
     ]
    }
   ],
   "source": [
    "# ISIC_2018\n",
    "ISIC_2018_meta = pd.read_csv(data_dir + 'ISIC_2018/Train/HAM10000_metadata.csv')\n",
    "ISIC_2018 = ISIC_2018_meta[['image_id', \n",
    "                            'dx', \n",
    "                            'age', \n",
    "                            'sex', \n",
    "                            'localization']\n",
    "                           ].rename(columns = \n",
    "                                            {'dx': 'diagnosis'})\n",
    "ISIC_2018['source'] = 'ISIC_2018'\n",
    "\n",
    "# ISIC_2020\n",
    "ISIC_2020_meta = pd.read_csv(data_dir + 'ISIC_2020/train.csv')\n",
    "ISIC_2020 = ISIC_2020_meta[['image_name', \n",
    "                            'diagnosis', \n",
    "                            'benign_malignant', \n",
    "                            'age_approx', \n",
    "                            'sex', \n",
    "                            'anatom_site_general_challenge']\n",
    "                           ].rename(columns = \n",
    "                                            {'image_name': 'image_id', \n",
    "                                            'benign_malignant':'severity', \n",
    "                                            'age_approx':'age', \n",
    "                                            'anatom_site_general_challenge':'localization'})\n",
    "ISIC_2020['source'] = 'ISIC_2020'\n",
    "\n",
    "# stanford_diverse\n",
    "stanford_meta = pd.read_csv(data_dir + stanford_path + 'ddi_metadata.csv')\n",
    "stanford = stanford_meta[['DDI_file', 'disease', 'malignant']].rename(columns = {'DDI_file': 'image_id', 'disease':'diagnosis','malignant':'severity'})\n",
    "stanford['source'] = 'stanford_diverse'\n",
    "stanford['image_id'] = stanford['image_id'].str.replace('.png', '') # For consistency? \n",
    "stanford['severity'] = stanford['severity'].map({True:'malignant', False:'benign'})\n",
    "\n",
    "# Dermnet - no metadata, so create it mimicing above\n",
    "image_id = [os.path.splitext(os.path.basename(i))[0] for i in dermnet_images]\n",
    "diagnosis = [PurePath(i).parent.name for i in dermnet_images]\n",
    "dermnet = pd.DataFrame(zip(image_id, diagnosis), columns = ['image_id', 'diagnosis'])\n",
    "dermnet['source'] = 'dermnet'"
   ]
  },
  {
   "cell_type": "code",
   "execution_count": null,
   "metadata": {
    "colab": {
     "base_uri": "https://localhost:8080/"
    },
    "executionInfo": {
     "elapsed": 7,
     "status": "ok",
     "timestamp": 1664138323684,
     "user": {
      "displayName": "Gerrit Lensink",
      "userId": "03001139976263396963"
     },
     "user_tz": 420
    },
    "id": "wzSlKtWqwNmm",
    "outputId": "d5649ccb-c884-43ea-9214-e61ac49e0095"
   },
   "outputs": [
    {
     "data": {
      "text/plain": [
       "9"
      ]
     },
     "execution_count": 8,
     "metadata": {},
     "output_type": "execute_result"
    }
   ],
   "source": [
    "len(ISIC_2020.diagnosis.unique())"
   ]
  },
  {
   "cell_type": "markdown",
   "metadata": {
    "id": "OTfwowd_n3C6"
   },
   "source": [
    "### Concatenate all of the data into a single DF"
   ]
  },
  {
   "cell_type": "code",
   "execution_count": null,
   "metadata": {
    "id": "bAdAdp19yGsw"
   },
   "outputs": [],
   "source": [
    "full_data = pd.concat([ISIC_2018, ISIC_2020, stanford, dermnet])"
   ]
  },
  {
   "cell_type": "markdown",
   "metadata": {
    "id": "xdM2Y6Whn77a"
   },
   "source": [
    "### Next add image paths to metadata\n",
    "\n",
    "First, start by creating a dictionary mapping all image_ids to image paths. Next, map to image_id. "
   ]
  },
  {
   "cell_type": "code",
   "execution_count": null,
   "metadata": {
    "id": "WXnt3_RfgRJV"
   },
   "outputs": [],
   "source": [
    "# # Split the path up to grab image ID from all paths\n",
    "# # Create a dictionary mapping Image ID to Path\n",
    "all_paths = ISIC_2018_images + ISIC_2020_images + stanford_images + dermnet_images\n",
    "imageid_path_dict = {os.path.splitext(os.path.basename(x))[0]: x for x in all_paths}\n",
    "\n",
    "full_data['path'] = full_data['image_id'].map(imageid_path_dict)"
   ]
  },
  {
   "cell_type": "markdown",
   "metadata": {
    "id": "IHxf_4fsC5gJ"
   },
   "source": [
    "Last thing to do is map the lesion type for ISIC 2018 to "
   ]
  },
  {
   "cell_type": "code",
   "execution_count": null,
   "metadata": {
    "id": "P3Iiws5aCwD-"
   },
   "outputs": [],
   "source": [
    "# Map the lesion code to Full diagnosis name\n",
    "lesion_type_dict = {\n",
    "    'nv': 'Melanocytic nevi',\n",
    "    'mel': 'dermatofibroma',\n",
    "    'bkl': 'Benign keratosis-like lesions ',\n",
    "    'bcc': 'Basal cell carcinoma',\n",
    "    'akiec': 'Actinic keratoses',\n",
    "    'vasc': 'Vascular lesions',\n",
    "    'df': 'Dermatofibroma'\n",
    "}\n",
    "\n",
    "full_data['diagnosis'] = full_data['diagnosis'].replace(lesion_type_dict) # replace instead of map to retain orig values"
   ]
  },
  {
   "cell_type": "code",
   "execution_count": null,
   "metadata": {
    "id": "f5g2iMrvsaVq"
   },
   "outputs": [],
   "source": [
    "# for col in full_data.columns: \n",
    "#     print(col, full_data[col].isnull().sum())"
   ]
  },
  {
   "cell_type": "markdown",
   "metadata": {
    "id": "_vlle3W0Dhyi"
   },
   "source": [
    "### Create Data dictionary\n",
    "\n",
    "We'd like to have our dictionary have the following attributes: \n",
    "- Diagnosis Name\n",
    "- Source - which of the 4 datasets\n",
    "- Count of image IDs - will help understand if we have enough data\n",
    "- Severity - Malignant vs. Benign\n",
    "\n",
    "We can easily get the first three attributes with a groupby, counting the number of image IDs. \n",
    "\n",
    "Note: \n",
    "1. Not all of the diagnosis have severity data connected to them. \n",
    "2. Some diagnosis appear in different datasets, so we need to make sure the severity is the same, when represented. "
   ]
  },
  {
   "cell_type": "code",
   "execution_count": null,
   "metadata": {
    "id": "xKE8c5_DsvGo"
   },
   "outputs": [],
   "source": [
    "# Group by diagnosis and source, only taking the image_id column\n",
    "full_data_csv = full_data.groupby(by = ['diagnosis', 'source'])\\\n",
    "                         .count()\\\n",
    "                         .sort_values(by = 'image_id', ascending = False)[['image_id']]\\\n",
    "                         .reset_index()\n",
    "\n",
    "# make all of the diagnosis lowercase, in case there are duplicates\n",
    "full_data_csv['diagnosis'] = full_data_csv['diagnosis'].str.lower()"
   ]
  },
  {
   "cell_type": "markdown",
   "metadata": {
    "id": "iix-KRH2tNeq"
   },
   "source": [
    "Now to add in severity, we are going to have to join data, since we lost it when we aggregated with count. \n",
    "\n",
    "To do this, we can create a table grouping diagnosis and severity. "
   ]
  },
  {
   "cell_type": "code",
   "execution_count": null,
   "metadata": {
    "id": "LPirQ71rKr1R"
   },
   "outputs": [],
   "source": [
    "diagnosis_severity = full_data.groupby(['diagnosis', 'severity']).count()['image_id'].reset_index()[['diagnosis', 'severity']]\n",
    "diagnosis_severity['diagnosis'] = diagnosis_severity['diagnosis'].str.lower()"
   ]
  },
  {
   "cell_type": "markdown",
   "metadata": {
    "id": "TTOHQlBhuJ1d"
   },
   "source": [
    "We can see that at least one of these diagnoses is over-represented with two severity levels. "
   ]
  },
  {
   "cell_type": "code",
   "execution_count": null,
   "metadata": {
    "colab": {
     "base_uri": "https://localhost:8080/"
    },
    "executionInfo": {
     "elapsed": 203,
     "status": "ok",
     "timestamp": 1664138324118,
     "user": {
      "displayName": "Gerrit Lensink",
      "userId": "03001139976263396963"
     },
     "user_tz": 420
    },
    "id": "3KgfsNXwtda_",
    "outputId": "09aa7fa3-c77d-498c-e889-4eb206ecc108"
   },
   "outputs": [
    {
     "name": "stdout",
     "output_type": "stream",
     "text": [
      "Number of diagnosis with severity: 86\n",
      "Number of diagnosis without severity: 30\n",
      "Total diagnosis: 115\n"
     ]
    }
   ],
   "source": [
    "print('Number of diagnosis with severity:', len(diagnosis_severity))\n",
    "print('Number of diagnosis without severity:', len(full_data[full_data['severity'].isnull()]['diagnosis'].unique()))\n",
    "print('Total diagnosis:', len(full_data['diagnosis'].unique()))"
   ]
  },
  {
   "cell_type": "markdown",
   "metadata": {
    "id": "lMkopjWAuSy5"
   },
   "source": [
    "If we were to merge the data, we would see melanoma and dermatofibroma have 2 severity representations, which is a problem. "
   ]
  },
  {
   "cell_type": "code",
   "execution_count": null,
   "metadata": {
    "colab": {
     "base_uri": "https://localhost:8080/"
    },
    "executionInfo": {
     "elapsed": 17,
     "status": "ok",
     "timestamp": 1664138324119,
     "user": {
      "displayName": "Gerrit Lensink",
      "userId": "03001139976263396963"
     },
     "user_tz": 420
    },
    "id": "Pd3wsDXwHILE",
    "outputId": "1e11b366-6133-4920-b630-b70e31182f71"
   },
   "outputs": [
    {
     "data": {
      "text/plain": [
       "dermatofibroma                         3\n",
       "melanoma                               2\n",
       "unknown                                1\n",
       "syringocystadenoma-papilliferum        1\n",
       "lichenoid-keratosis                    1\n",
       "                                      ..\n",
       "verruca-vulgaris                       1\n",
       "seborrheic-keratosis                   1\n",
       "melanocytic-nevi                       1\n",
       "seborrheic keratosis                   1\n",
       "atypical-spindle-cell-nevus-of-reed    1\n",
       "Name: diagnosis, Length: 114, dtype: int64"
      ]
     },
     "execution_count": 16,
     "metadata": {},
     "output_type": "execute_result"
    }
   ],
   "source": [
    "full_data_csv.merge(diagnosis_severity, on='diagnosis', how = 'left')['diagnosis'].value_counts()"
   ]
  },
  {
   "cell_type": "markdown",
   "metadata": {
    "id": "OGfaVmMXOd8F"
   },
   "source": [
    "Make sure the duplicates are NAs. They only show up with one, so the other is NaN. this is not an issue then, as they won't join and cause duplicates. "
   ]
  },
  {
   "cell_type": "code",
   "execution_count": null,
   "metadata": {
    "colab": {
     "base_uri": "https://localhost:8080/"
    },
    "executionInfo": {
     "elapsed": 15,
     "status": "ok",
     "timestamp": 1664138324119,
     "user": {
      "displayName": "Gerrit Lensink",
      "userId": "03001139976263396963"
     },
     "user_tz": 420
    },
    "id": "94KQzQjcNeCY",
    "outputId": "2fc2f3ae-353c-4a6f-d6db-a6921b92b44a"
   },
   "outputs": [
    {
     "data": {
      "text/plain": [
       "diagnosis       severity \n",
       "dermatofibroma  benign        22\n",
       "melanoma        malignant    591\n",
       "Name: severity, dtype: int64"
      ]
     },
     "execution_count": 17,
     "metadata": {},
     "output_type": "execute_result"
    }
   ],
   "source": [
    "full_data[(full_data['diagnosis'] == 'melanoma') | (full_data['diagnosis'] == 'dermatofibroma')].groupby('diagnosis')['severity'].value_counts()"
   ]
  },
  {
   "cell_type": "markdown",
   "metadata": {
    "id": "jsXbI738r-mc"
   },
   "source": [
    "Finally, write the data to a csv to start a data dictionary, first merging our severity in, so we have those for each diagnosis. "
   ]
  },
  {
   "cell_type": "code",
   "execution_count": null,
   "metadata": {
    "id": "5Ynsxp4K__3j"
   },
   "outputs": [],
   "source": [
    "full_data_csv = full_data_csv.merge(diagnosis_severity, on='diagnosis', how = 'left')\n",
    "full_data_csv.to_csv(data_dir + 'data_dictionary_baseline.csv')"
   ]
  },
  {
   "cell_type": "markdown",
   "metadata": {
    "id": "UxaTwKR7ZRAm"
   },
   "source": [
    "Let's also write the metadata + paths to a CSV so we don't have to re-run this code to access the df."
   ]
  },
  {
   "cell_type": "code",
   "execution_count": null,
   "metadata": {
    "id": "fITkP1zPZYfg"
   },
   "outputs": [],
   "source": [
    "full_data.to_csv(data_dir + 'full_data.csv')"
   ]
  },
  {
   "cell_type": "code",
   "execution_count": null,
   "metadata": {
    "colab": {
     "base_uri": "https://localhost:8080/"
    },
    "executionInfo": {
     "elapsed": 13,
     "status": "ok",
     "timestamp": 1664410316836,
     "user": {
      "displayName": "Gerrit Lensink",
      "userId": "03001139976263396963"
     },
     "user_tz": 420
    },
    "id": "CSoTs1d8ld7w",
    "outputId": "c8d42cb7-0669-4d63-8c45-734466696b91"
   },
   "outputs": [
    {
     "name": "stdout",
     "output_type": "stream",
     "text": [
      "\u001b[0m\u001b[01;34msample_data\u001b[0m/\n"
     ]
    }
   ],
   "source": [
    "%ls"
   ]
  },
  {
   "cell_type": "code",
   "execution_count": null,
   "metadata": {
    "id": "r2TXVTWGlQFU"
   },
   "outputs": [],
   "source": [
    "full_data = pd.read_csv(data_dir + 'full_data.csv', index_col = 0)"
   ]
  },
  {
   "cell_type": "code",
   "execution_count": null,
   "metadata": {
    "id": "cKfE7kKcmCS1"
   },
   "outputs": [],
   "source": [
    "class_dict = pd.read_csv(data_dir + 'data_dictionary.csv', index_col = 0)"
   ]
  },
  {
   "cell_type": "code",
   "execution_count": null,
   "metadata": {
    "colab": {
     "base_uri": "https://localhost:8080/",
     "height": 650
    },
    "executionInfo": {
     "elapsed": 5,
     "status": "ok",
     "timestamp": 1664410511763,
     "user": {
      "displayName": "Gerrit Lensink",
      "userId": "03001139976263396963"
     },
     "user_tz": 420
    },
    "id": "kziroSpGmK7K",
    "outputId": "fbee6e4b-6dda-42d8-91de-7faceead78f0"
   },
   "outputs": [
    {
     "data": {
      "text/html": [
       "\n",
       "  <div id=\"df-5ab40e90-7ead-406e-b416-456605e7d802\">\n",
       "    <div class=\"colab-df-container\">\n",
       "      <div>\n",
       "<style scoped>\n",
       "    .dataframe tbody tr th:only-of-type {\n",
       "        vertical-align: middle;\n",
       "    }\n",
       "\n",
       "    .dataframe tbody tr th {\n",
       "        vertical-align: top;\n",
       "    }\n",
       "\n",
       "    .dataframe thead th {\n",
       "        text-align: right;\n",
       "    }\n",
       "</style>\n",
       "<table border=\"1\" class=\"dataframe\">\n",
       "  <thead>\n",
       "    <tr style=\"text-align: right;\">\n",
       "      <th></th>\n",
       "      <th>diagnosis</th>\n",
       "      <th>grouping_1</th>\n",
       "      <th>action</th>\n",
       "      <th>grouping_2</th>\n",
       "      <th>source</th>\n",
       "      <th>image_id</th>\n",
       "      <th>severity</th>\n",
       "      <th>severity source</th>\n",
       "      <th>% Representation</th>\n",
       "      <th>Keep? \\nY = Yes, M = Maybe, N = No</th>\n",
       "      <th>Removal Note</th>\n",
       "      <th>Similar to</th>\n",
       "      <th>Notes</th>\n",
       "      <th>Researcher (GJ or GL)</th>\n",
       "    </tr>\n",
       "  </thead>\n",
       "  <tbody>\n",
       "    <tr>\n",
       "      <th>19</th>\n",
       "      <td>bullous disease photos</td>\n",
       "      <td>Autoimmue Disorder</td>\n",
       "      <td>See doctor</td>\n",
       "      <td>no cancer risk</td>\n",
       "      <td>dermnet</td>\n",
       "      <td>561</td>\n",
       "      <td>benign</td>\n",
       "      <td>research</td>\n",
       "      <td>1%</td>\n",
       "      <td>N</td>\n",
       "      <td>Small sample, no similar conditions</td>\n",
       "      <td>NaN</td>\n",
       "      <td>No similar category</td>\n",
       "      <td>Gerrit and George</td>\n",
       "    </tr>\n",
       "    <tr>\n",
       "      <th>22</th>\n",
       "      <td>vasculitis photos</td>\n",
       "      <td>Autoimmue Disorder</td>\n",
       "      <td>See doctor</td>\n",
       "      <td>no cancer risk</td>\n",
       "      <td>dermnet</td>\n",
       "      <td>521</td>\n",
       "      <td>benign</td>\n",
       "      <td>research</td>\n",
       "      <td>1%</td>\n",
       "      <td>M</td>\n",
       "      <td>NaN</td>\n",
       "      <td>31?</td>\n",
       "      <td>See if these look similar</td>\n",
       "      <td>Gerrit and George</td>\n",
       "    </tr>\n",
       "    <tr>\n",
       "      <th>84</th>\n",
       "      <td>foreign-body-granuloma</td>\n",
       "      <td>Autoimmue Disorder</td>\n",
       "      <td>See doctor</td>\n",
       "      <td>no cancer risk</td>\n",
       "      <td>stanford_diverse</td>\n",
       "      <td>2</td>\n",
       "      <td>benign</td>\n",
       "      <td>data</td>\n",
       "      <td>0%</td>\n",
       "      <td>N</td>\n",
       "      <td>Small sample, no similar conditions</td>\n",
       "      <td>NaN</td>\n",
       "      <td>NaN</td>\n",
       "      <td>George</td>\n",
       "    </tr>\n",
       "    <tr>\n",
       "      <th>82</th>\n",
       "      <td>graft-vs-host-disease</td>\n",
       "      <td>Autoimmue Disorder</td>\n",
       "      <td>See doctor</td>\n",
       "      <td>no cancer risk</td>\n",
       "      <td>stanford_diverse</td>\n",
       "      <td>2</td>\n",
       "      <td>benign</td>\n",
       "      <td>data</td>\n",
       "      <td>0%</td>\n",
       "      <td>N</td>\n",
       "      <td>Small sample, no similar conditions</td>\n",
       "      <td>NaN</td>\n",
       "      <td>NaN</td>\n",
       "      <td>George</td>\n",
       "    </tr>\n",
       "    <tr>\n",
       "      <th>99</th>\n",
       "      <td>dermatomyositis</td>\n",
       "      <td>Autoimmue Disorder</td>\n",
       "      <td>See doctor</td>\n",
       "      <td>no cancer risk</td>\n",
       "      <td>stanford_diverse</td>\n",
       "      <td>1</td>\n",
       "      <td>benign</td>\n",
       "      <td>data</td>\n",
       "      <td>0%</td>\n",
       "      <td>N</td>\n",
       "      <td>Small sample, no similar conditions</td>\n",
       "      <td>NaN</td>\n",
       "      <td>NaN</td>\n",
       "      <td>George</td>\n",
       "    </tr>\n",
       "    <tr>\n",
       "      <th>...</th>\n",
       "      <td>...</td>\n",
       "      <td>...</td>\n",
       "      <td>...</td>\n",
       "      <td>...</td>\n",
       "      <td>...</td>\n",
       "      <td>...</td>\n",
       "      <td>...</td>\n",
       "      <td>...</td>\n",
       "      <td>...</td>\n",
       "      <td>...</td>\n",
       "      <td>...</td>\n",
       "      <td>...</td>\n",
       "      <td>...</td>\n",
       "      <td>...</td>\n",
       "    </tr>\n",
       "    <tr>\n",
       "      <th>13</th>\n",
       "      <td>systemic disease</td>\n",
       "      <td>Unclassified</td>\n",
       "      <td>See Doctor</td>\n",
       "      <td>no cancer risk</td>\n",
       "      <td>dermnet</td>\n",
       "      <td>758</td>\n",
       "      <td>benign</td>\n",
       "      <td>research</td>\n",
       "      <td>1%</td>\n",
       "      <td>N</td>\n",
       "      <td>It can cause many different skin conditions</td>\n",
       "      <td>15</td>\n",
       "      <td>It is skin diseases caused by non-skin systemi...</td>\n",
       "      <td>George</td>\n",
       "    </tr>\n",
       "    <tr>\n",
       "      <th>21</th>\n",
       "      <td>lupus and other connective tissue diseases</td>\n",
       "      <td>Unclassified</td>\n",
       "      <td>See Doctor</td>\n",
       "      <td>no cancer risk</td>\n",
       "      <td>dermnet</td>\n",
       "      <td>525</td>\n",
       "      <td>benign</td>\n",
       "      <td>research</td>\n",
       "      <td>1%</td>\n",
       "      <td>N</td>\n",
       "      <td>It can cause many different skin conditions</td>\n",
       "      <td>NaN</td>\n",
       "      <td>NaN</td>\n",
       "      <td>George</td>\n",
       "    </tr>\n",
       "    <tr>\n",
       "      <th>108</th>\n",
       "      <td>blastic-plasmacytoid-dendritic-cell-neoplasm</td>\n",
       "      <td>Unclassified</td>\n",
       "      <td>See Doctor</td>\n",
       "      <td>malignant</td>\n",
       "      <td>stanford_diverse</td>\n",
       "      <td>1</td>\n",
       "      <td>malignant</td>\n",
       "      <td>data</td>\n",
       "      <td>0%</td>\n",
       "      <td>N</td>\n",
       "      <td>Small sample, no similar conditions</td>\n",
       "      <td>NaN</td>\n",
       "      <td>NaN</td>\n",
       "      <td>Gerrit and George</td>\n",
       "    </tr>\n",
       "    <tr>\n",
       "      <th>90</th>\n",
       "      <td>leukemia-cutis</td>\n",
       "      <td>Unclassified</td>\n",
       "      <td>See Doctor</td>\n",
       "      <td>malignant</td>\n",
       "      <td>stanford_diverse</td>\n",
       "      <td>1</td>\n",
       "      <td>malignant</td>\n",
       "      <td>data</td>\n",
       "      <td>0%</td>\n",
       "      <td>N</td>\n",
       "      <td>Small sample, no similar conditions</td>\n",
       "      <td>NaN</td>\n",
       "      <td>NaN</td>\n",
       "      <td>Gerrit and George</td>\n",
       "    </tr>\n",
       "    <tr>\n",
       "      <th>0</th>\n",
       "      <td>unknown</td>\n",
       "      <td>Unclassified</td>\n",
       "      <td>See Doctor</td>\n",
       "      <td>no cancer risk</td>\n",
       "      <td>ISIC_2020</td>\n",
       "      <td>27124</td>\n",
       "      <td>benign</td>\n",
       "      <td>data</td>\n",
       "      <td>43%</td>\n",
       "      <td>M</td>\n",
       "      <td>NaN</td>\n",
       "      <td>NaN</td>\n",
       "      <td>Need to look into what this means</td>\n",
       "      <td>Gerrit and George</td>\n",
       "    </tr>\n",
       "  </tbody>\n",
       "</table>\n",
       "<p>117 rows × 14 columns</p>\n",
       "</div>\n",
       "      <button class=\"colab-df-convert\" onclick=\"convertToInteractive('df-5ab40e90-7ead-406e-b416-456605e7d802')\"\n",
       "              title=\"Convert this dataframe to an interactive table.\"\n",
       "              style=\"display:none;\">\n",
       "        \n",
       "  <svg xmlns=\"http://www.w3.org/2000/svg\" height=\"24px\"viewBox=\"0 0 24 24\"\n",
       "       width=\"24px\">\n",
       "    <path d=\"M0 0h24v24H0V0z\" fill=\"none\"/>\n",
       "    <path d=\"M18.56 5.44l.94 2.06.94-2.06 2.06-.94-2.06-.94-.94-2.06-.94 2.06-2.06.94zm-11 1L8.5 8.5l.94-2.06 2.06-.94-2.06-.94L8.5 2.5l-.94 2.06-2.06.94zm10 10l.94 2.06.94-2.06 2.06-.94-2.06-.94-.94-2.06-.94 2.06-2.06.94z\"/><path d=\"M17.41 7.96l-1.37-1.37c-.4-.4-.92-.59-1.43-.59-.52 0-1.04.2-1.43.59L10.3 9.45l-7.72 7.72c-.78.78-.78 2.05 0 2.83L4 21.41c.39.39.9.59 1.41.59.51 0 1.02-.2 1.41-.59l7.78-7.78 2.81-2.81c.8-.78.8-2.07 0-2.86zM5.41 20L4 18.59l7.72-7.72 1.47 1.35L5.41 20z\"/>\n",
       "  </svg>\n",
       "      </button>\n",
       "      \n",
       "  <style>\n",
       "    .colab-df-container {\n",
       "      display:flex;\n",
       "      flex-wrap:wrap;\n",
       "      gap: 12px;\n",
       "    }\n",
       "\n",
       "    .colab-df-convert {\n",
       "      background-color: #E8F0FE;\n",
       "      border: none;\n",
       "      border-radius: 50%;\n",
       "      cursor: pointer;\n",
       "      display: none;\n",
       "      fill: #1967D2;\n",
       "      height: 32px;\n",
       "      padding: 0 0 0 0;\n",
       "      width: 32px;\n",
       "    }\n",
       "\n",
       "    .colab-df-convert:hover {\n",
       "      background-color: #E2EBFA;\n",
       "      box-shadow: 0px 1px 2px rgba(60, 64, 67, 0.3), 0px 1px 3px 1px rgba(60, 64, 67, 0.15);\n",
       "      fill: #174EA6;\n",
       "    }\n",
       "\n",
       "    [theme=dark] .colab-df-convert {\n",
       "      background-color: #3B4455;\n",
       "      fill: #D2E3FC;\n",
       "    }\n",
       "\n",
       "    [theme=dark] .colab-df-convert:hover {\n",
       "      background-color: #434B5C;\n",
       "      box-shadow: 0px 1px 3px 1px rgba(0, 0, 0, 0.15);\n",
       "      filter: drop-shadow(0px 1px 2px rgba(0, 0, 0, 0.3));\n",
       "      fill: #FFFFFF;\n",
       "    }\n",
       "  </style>\n",
       "\n",
       "      <script>\n",
       "        const buttonEl =\n",
       "          document.querySelector('#df-5ab40e90-7ead-406e-b416-456605e7d802 button.colab-df-convert');\n",
       "        buttonEl.style.display =\n",
       "          google.colab.kernel.accessAllowed ? 'block' : 'none';\n",
       "\n",
       "        async function convertToInteractive(key) {\n",
       "          const element = document.querySelector('#df-5ab40e90-7ead-406e-b416-456605e7d802');\n",
       "          const dataTable =\n",
       "            await google.colab.kernel.invokeFunction('convertToInteractive',\n",
       "                                                     [key], {});\n",
       "          if (!dataTable) return;\n",
       "\n",
       "          const docLinkHtml = 'Like what you see? Visit the ' +\n",
       "            '<a target=\"_blank\" href=https://colab.research.google.com/notebooks/data_table.ipynb>data table notebook</a>'\n",
       "            + ' to learn more about interactive tables.';\n",
       "          element.innerHTML = '';\n",
       "          dataTable['output_type'] = 'display_data';\n",
       "          await google.colab.output.renderOutput(dataTable, element);\n",
       "          const docLink = document.createElement('div');\n",
       "          docLink.innerHTML = docLinkHtml;\n",
       "          element.appendChild(docLink);\n",
       "        }\n",
       "      </script>\n",
       "    </div>\n",
       "  </div>\n",
       "  "
      ],
      "text/plain": [
       "                                        diagnosis          grouping_1  \\\n",
       "19                         bullous disease photos  Autoimmue Disorder   \n",
       "22                              vasculitis photos  Autoimmue Disorder   \n",
       "84                         foreign-body-granuloma  Autoimmue Disorder   \n",
       "82                          graft-vs-host-disease  Autoimmue Disorder   \n",
       "99                                dermatomyositis  Autoimmue Disorder   \n",
       "..                                            ...                 ...   \n",
       "13                               systemic disease        Unclassified   \n",
       "21     lupus and other connective tissue diseases        Unclassified   \n",
       "108  blastic-plasmacytoid-dendritic-cell-neoplasm        Unclassified   \n",
       "90                                 leukemia-cutis        Unclassified   \n",
       "0                                         unknown        Unclassified   \n",
       "\n",
       "         action      grouping_2            source  image_id   severity  \\\n",
       "19   See doctor  no cancer risk           dermnet       561     benign   \n",
       "22   See doctor  no cancer risk           dermnet       521     benign   \n",
       "84   See doctor  no cancer risk  stanford_diverse         2     benign   \n",
       "82   See doctor  no cancer risk  stanford_diverse         2     benign   \n",
       "99   See doctor  no cancer risk  stanford_diverse         1     benign   \n",
       "..          ...             ...               ...       ...        ...   \n",
       "13   See Doctor  no cancer risk           dermnet       758     benign   \n",
       "21   See Doctor  no cancer risk           dermnet       525     benign   \n",
       "108  See Doctor       malignant  stanford_diverse         1  malignant   \n",
       "90   See Doctor       malignant  stanford_diverse         1  malignant   \n",
       "0    See Doctor  no cancer risk         ISIC_2020     27124     benign   \n",
       "\n",
       "    severity source % Representation Keep? \\nY = Yes, M = Maybe, N = No  \\\n",
       "19         research               1%                                  N   \n",
       "22         research               1%                                  M   \n",
       "84             data               0%                                  N   \n",
       "82             data               0%                                  N   \n",
       "99             data               0%                                  N   \n",
       "..              ...              ...                                ...   \n",
       "13         research               1%                                  N   \n",
       "21         research               1%                                  N   \n",
       "108            data               0%                                  N   \n",
       "90             data               0%                                  N   \n",
       "0              data              43%                                  M   \n",
       "\n",
       "                                    Removal Note Similar to  \\\n",
       "19           Small sample, no similar conditions        NaN   \n",
       "22                                           NaN        31?   \n",
       "84           Small sample, no similar conditions        NaN   \n",
       "82           Small sample, no similar conditions        NaN   \n",
       "99           Small sample, no similar conditions        NaN   \n",
       "..                                           ...        ...   \n",
       "13   It can cause many different skin conditions         15   \n",
       "21   It can cause many different skin conditions        NaN   \n",
       "108          Small sample, no similar conditions        NaN   \n",
       "90           Small sample, no similar conditions        NaN   \n",
       "0                                            NaN        NaN   \n",
       "\n",
       "                                                 Notes Researcher (GJ or GL)  \n",
       "19                                 No similar category     Gerrit and George  \n",
       "22                           See if these look similar     Gerrit and George  \n",
       "84                                                 NaN                George  \n",
       "82                                                 NaN                George  \n",
       "99                                                 NaN                George  \n",
       "..                                                 ...                   ...  \n",
       "13   It is skin diseases caused by non-skin systemi...                George  \n",
       "21                                                 NaN                George  \n",
       "108                                                NaN     Gerrit and George  \n",
       "90                                                 NaN     Gerrit and George  \n",
       "0                    Need to look into what this means     Gerrit and George  \n",
       "\n",
       "[117 rows x 14 columns]"
      ]
     },
     "execution_count": 14,
     "metadata": {},
     "output_type": "execute_result"
    }
   ],
   "source": [
    "class_dict"
   ]
  },
  {
   "cell_type": "markdown",
   "metadata": {
    "id": "SiKMXGYCIVzH"
   },
   "source": [
    "### Duplicates\n",
    "\n",
    "From EDA, we know that there are two types of duplicate image_ids: \n",
    "1. image_ids where the assigned class is the same. \n",
    "2. image_ids where the assigned class is not the same. \n",
    "\n",
    "The second of these two types is problematic - how can we expect to train a model where one image has two different types of classes? To deal with this - we add a new column that denotes these two types of duplicates so we can filter them out where needed, before modeling. \n",
    "\n",
    "First, mapping true duplicates - case 1"
   ]
  },
  {
   "cell_type": "code",
   "execution_count": null,
   "metadata": {
    "id": "eK1tZI35VUwy"
   },
   "outputs": [],
   "source": [
    "# full_data['duplicated'] = np.where(full_data['image_id'].isin(duplicates), 'true duplicate', 'No')"
   ]
  },
  {
   "cell_type": "markdown",
   "metadata": {
    "id": "0bgTH15nXgca"
   },
   "source": [
    "Next, let's map the problematic duplicates - case 2. From eda we have a list of these - let's pull them in. "
   ]
  },
  {
   "cell_type": "code",
   "execution_count": null,
   "metadata": {
    "id": "MSW4D1FZXsCf"
   },
   "outputs": [],
   "source": [
    "problem_dups = pd.read_csv('./Data/problems.csv', index_col = 0)['image_id']\n",
    "full_data['duplicated'] = np.where(full_data['image_id'].isin(problem_dups), True, False)"
   ]
  },
  {
   "cell_type": "markdown",
   "metadata": {
    "id": "nCDV8ISTY7yL"
   },
   "source": [
    "Now we have each of the duplicate groups properly mapped"
   ]
  },
  {
   "cell_type": "code",
   "execution_count": null,
   "metadata": {
    "colab": {
     "base_uri": "https://localhost:8080/",
     "height": 164
    },
    "executionInfo": {
     "elapsed": 9,
     "status": "error",
     "timestamp": 1665445677792,
     "user": {
      "displayName": "Gerrit Lensink",
      "userId": "03001139976263396963"
     },
     "user_tz": 420
    },
    "id": "3pRDktxDX3h6",
    "outputId": "5dd48c7d-14ca-42cd-96d4-c469bf3cb820"
   },
   "outputs": [
    {
     "ename": "NameError",
     "evalue": "ignored",
     "output_type": "error",
     "traceback": [
      "\u001b[0;31m---------------------------------------------------------------------------\u001b[0m",
      "\u001b[0;31mNameError\u001b[0m                                 Traceback (most recent call last)",
      "\u001b[0;32m<ipython-input-1-f6075cb47643>\u001b[0m in \u001b[0;36m<module>\u001b[0;34m\u001b[0m\n\u001b[0;32m----> 1\u001b[0;31m \u001b[0mfull_data\u001b[0m\u001b[0;34m[\u001b[0m\u001b[0;34m'duplicated'\u001b[0m\u001b[0;34m]\u001b[0m\u001b[0;34m.\u001b[0m\u001b[0mvalue_counts\u001b[0m\u001b[0;34m(\u001b[0m\u001b[0;34m)\u001b[0m\u001b[0;34m\u001b[0m\u001b[0;34m\u001b[0m\u001b[0m\n\u001b[0m",
      "\u001b[0;31mNameError\u001b[0m: name 'full_data' is not defined"
     ]
    }
   ],
   "source": [
    "full_data['duplicated'].value_counts()"
   ]
  },
  {
   "cell_type": "markdown",
   "metadata": {
    "id": "i-GdOl1mZBOn"
   },
   "source": [
    "Let's remove the true duplicates for ease of modeling. "
   ]
  },
  {
   "cell_type": "code",
   "execution_count": null,
   "metadata": {
    "colab": {
     "base_uri": "https://localhost:8080/"
    },
    "executionInfo": {
     "elapsed": 199,
     "status": "ok",
     "timestamp": 1664660318103,
     "user": {
      "displayName": "Gerrit Lensink",
      "userId": "14030898330788478401"
     },
     "user_tz": 420
    },
    "id": "a_VEbjW6VKbT",
    "outputId": "6cb2173f-93e2-4ac4-e7a4-4d6b7ee45fcc"
   },
   "outputs": [
    {
     "name": "stdout",
     "output_type": "stream",
     "text": [
      "62951\n",
      "62951\n"
     ]
    }
   ],
   "source": [
    "print(len(full_data))\n",
    "full_data = pd.concat([full_data[full_data['duplicated'] == True],\n",
    "                          full_data[full_data['duplicated'] != True].drop_duplicates(['image_id'], keep = 'first')])\n",
    "print(len(full_data))"
   ]
  },
  {
   "cell_type": "code",
   "execution_count": null,
   "metadata": {
    "colab": {
     "base_uri": "https://localhost:8080/"
    },
    "executionInfo": {
     "elapsed": 158,
     "status": "ok",
     "timestamp": 1664660320791,
     "user": {
      "displayName": "Gerrit Lensink",
      "userId": "14030898330788478401"
     },
     "user_tz": 420
    },
    "id": "cjPMc2g9a5sI",
    "outputId": "313fa00c-b73d-4d35-b1a9-da691d54481c"
   },
   "outputs": [
    {
     "data": {
      "text/plain": [
       "False    62360\n",
       "True       591\n",
       "Name: duplicated, dtype: int64"
      ]
     },
     "execution_count": 85,
     "metadata": {},
     "output_type": "execute_result"
    }
   ],
   "source": [
    "full_data['duplicated'].value_counts()"
   ]
  },
  {
   "cell_type": "markdown",
   "metadata": {
    "id": "rrVwSWZvd1nW"
   },
   "source": [
    "# Split to Train, Val, Test"
   ]
  },
  {
   "cell_type": "markdown",
   "metadata": {
    "id": "_dbnfB4lN1SU"
   },
   "source": [
    "Can skip all of the preceding steps bc we've already done this once in 'data_merger'. can just load in full_data, and overwrite below where needed."
   ]
  },
  {
   "cell_type": "code",
   "execution_count": null,
   "metadata": {
    "colab": {
     "base_uri": "https://localhost:8080/"
    },
    "executionInfo": {
     "elapsed": 375,
     "status": "ok",
     "timestamp": 1666056741236,
     "user": {
      "displayName": "Gerrit Lensink",
      "userId": "03001139976263396963"
     },
     "user_tz": 420
    },
    "id": "RB_EJU6nTbx_",
    "outputId": "cea1208d-ffef-4564-a30a-b27a17b3348d"
   },
   "outputs": [
    {
     "name": "stdout",
     "output_type": "stream",
     "text": [
      " archive\t\t       diverse_stanford\t\t  kaggle\n",
      "'Data Classification.gsheet'   diverse_stanford_resized   problems.csv\n",
      "'data_dictionary .csv'\t       full_data.csv\t\t  problems.gsheet\n",
      " data_dictionary.gsheet        ISIC_2018\t\t  UCI\n",
      " dermnet\t\t       ISIC_2020\n"
     ]
    }
   ],
   "source": [
    "!ls ./Data"
   ]
  },
  {
   "cell_type": "markdown",
   "metadata": {
    "id": "hbHAAyFUoB0d"
   },
   "source": [
    "## Adding in a few more classes and splits"
   ]
  },
  {
   "cell_type": "markdown",
   "metadata": {
    "id": "CwJjYI3qoF48"
   },
   "source": [
    "#### First, map in the new labels based on the changes made in data_dictionary"
   ]
  },
  {
   "cell_type": "code",
   "execution_count": null,
   "metadata": {
    "colab": {
     "base_uri": "https://localhost:8080/"
    },
    "executionInfo": {
     "elapsed": 424,
     "status": "ok",
     "timestamp": 1666056747812,
     "user": {
      "displayName": "Gerrit Lensink",
      "userId": "03001139976263396963"
     },
     "user_tz": 420
    },
    "id": "N5jLXJHvt4Ym",
    "outputId": "c93b6da9-bb3f-4956-ec0f-044254f3975e"
   },
   "outputs": [
    {
     "name": "stdout",
     "output_type": "stream",
     "text": [
      " archive\t\t       diverse_stanford\t\t  kaggle\n",
      "'Data Classification.gsheet'   diverse_stanford_resized   problems.csv\n",
      "'data_dictionary .csv'\t       full_data.csv\t\t  problems.gsheet\n",
      " data_dictionary.gsheet        ISIC_2018\t\t  UCI\n",
      " dermnet\t\t       ISIC_2020\n"
     ]
    }
   ],
   "source": [
    "! ls ./Data"
   ]
  },
  {
   "cell_type": "code",
   "execution_count": 4,
   "metadata": {
    "executionInfo": {
     "elapsed": 1369,
     "status": "ok",
     "timestamp": 1666460175435,
     "user": {
      "displayName": "Gerrit Lensink",
      "userId": "03001139976263396963"
     },
     "user_tz": 420
    },
    "id": "UDcPf7vQNNea"
   },
   "outputs": [],
   "source": [
    "full_data = pd.read_csv('./Data/full_data.csv', index_col = 0)\n",
    "label_mapper = pd.read_csv('./Data/data_dictionary.csv', index_col = 0)[['diagnosis', 'label_1', 'label_2', 'label_3']]"
   ]
  },
  {
   "cell_type": "code",
   "execution_count": null,
   "metadata": {
    "id": "AcYdIFponCYy"
   },
   "outputs": [],
   "source": [
    "full_data = full_data.merge(label_mapper, how = 'left', on = 'diagnosis')\n",
    "full_data.drop_duplicates(inplace = True) # Drop unwanted duplicates created by merge"
   ]
  },
  {
   "cell_type": "code",
   "execution_count": 5,
   "metadata": {
    "executionInfo": {
     "elapsed": 144,
     "status": "ok",
     "timestamp": 1666460183718,
     "user": {
      "displayName": "Gerrit Lensink",
      "userId": "03001139976263396963"
     },
     "user_tz": 420
    },
    "id": "WL2nTrSpd1U4"
   },
   "outputs": [],
   "source": [
    "# set the splits\n",
    "train_split = .75\n",
    "val_split = .15\n",
    "\n",
    "train_val = train_split + val_split\n",
    "test_split = 1 - train_val\n",
    "\n",
    "adj_train_split = train_split/train_val\n",
    "adj_val_split = val_split/train_val"
   ]
  },
  {
   "cell_type": "code",
   "execution_count": 6,
   "metadata": {
    "executionInfo": {
     "elapsed": 163,
     "status": "ok",
     "timestamp": 1666460185175,
     "user": {
      "displayName": "Gerrit Lensink",
      "userId": "03001139976263396963"
     },
     "user_tz": 420
    },
    "id": "pJ-7mJnCeaz5"
   },
   "outputs": [],
   "source": [
    "unique_data = full_data[full_data['duplicated'] == False]"
   ]
  },
  {
   "cell_type": "code",
   "execution_count": null,
   "metadata": {
    "colab": {
     "base_uri": "https://localhost:8080/"
    },
    "executionInfo": {
     "elapsed": 183,
     "status": "ok",
     "timestamp": 1666056784855,
     "user": {
      "displayName": "Gerrit Lensink",
      "userId": "03001139976263396963"
     },
     "user_tz": 420
    },
    "id": "zqAtqylkLHuo",
    "outputId": "f9af5e55-4eb1-43ed-df5c-ce6406bb7089"
   },
   "outputs": [
    {
     "data": {
      "text/plain": [
       "array(['Non-Cancerous Skin Condition', 'Unclassified',\n",
       "       'Toxin, Fungal, Bug, Viral, or Bacterial Infections',\n",
       "       'Potentially Malignant Skin Tumors', 'Benign Marking or Mole'],\n",
       "      dtype=object)"
      ]
     },
     "execution_count": 62,
     "metadata": {},
     "output_type": "execute_result"
    }
   ],
   "source": [
    "full_data['label_1'].unique()"
   ]
  },
  {
   "cell_type": "code",
   "execution_count": null,
   "metadata": {
    "id": "uCRz-aGpLmFG"
   },
   "outputs": [],
   "source": [
    "full_data['split_3'] = np.where(full_data['image_id'].isin(test_ids), 'test', 'train_val')\n"
   ]
  },
  {
   "cell_type": "markdown",
   "metadata": {
    "id": "LagjGzKiPvwU"
   },
   "source": [
    "## Original Split"
   ]
  },
  {
   "cell_type": "markdown",
   "metadata": {
    "id": "_wb0Rv8miWwQ"
   },
   "source": [
    "### Test\n",
    "\n",
    "First, randomly sample 10% of all images to be used for true test at end. Not going to stratify these right now as a true random sample will be most representative of our use case. the stratification is not necessarily representative of likelihood of each disease in the real world."
   ]
  },
  {
   "cell_type": "code",
   "execution_count": null,
   "metadata": {
    "id": "gym3KFD9fXhb"
   },
   "outputs": [],
   "source": [
    "test_ids = unique_data['image_id']\\\n",
    "          .sample(frac = test_split, \n",
    "                  replace = False, \n",
    "                  random_state = pd_seed)"
   ]
  },
  {
   "cell_type": "code",
   "execution_count": null,
   "metadata": {
    "colab": {
     "base_uri": "https://localhost:8080/"
    },
    "executionInfo": {
     "elapsed": 199,
     "status": "ok",
     "timestamp": 1665445919142,
     "user": {
      "displayName": "Gerrit Lensink",
      "userId": "03001139976263396963"
     },
     "user_tz": 420
    },
    "id": "c9AaQoaVg-sw",
    "outputId": "1897cc81-83f3-43cf-c373-665e888f8a2e"
   },
   "outputs": [
    {
     "name": "stderr",
     "output_type": "stream",
     "text": [
      "/usr/local/lib/python3.7/dist-packages/ipykernel_launcher.py:2: SettingWithCopyWarning: \n",
      "A value is trying to be set on a copy of a slice from a DataFrame.\n",
      "Try using .loc[row_indexer,col_indexer] = value instead\n",
      "\n",
      "See the caveats in the documentation: https://pandas.pydata.org/pandas-docs/stable/user_guide/indexing.html#returning-a-view-versus-a-copy\n",
      "  \n"
     ]
    }
   ],
   "source": [
    "full_data['dataset'] = np.where(full_data['image_id'].isin(test_ids), 'test', 'train')\n",
    "unique_data['dataset'] = np.where(unique_data['image_id'].isin(test_ids), 'test', 'train')"
   ]
  },
  {
   "cell_type": "markdown",
   "metadata": {
    "id": "J6kle0ZpiZMx"
   },
   "source": [
    "### Val/Train"
   ]
  },
  {
   "cell_type": "code",
   "execution_count": null,
   "metadata": {
    "id": "FlZGiW_piarS"
   },
   "outputs": [],
   "source": [
    "data = unique_data[unique_data['dataset'] == 'train']\n",
    "\n",
    "_, df_val  = train_test_split(data,\n",
    "                              test_size = adj_val_split,\n",
    "                              random_state = pd_seed,\n",
    "                              stratify = data['class'])\n",
    "\n",
    "val_ids = df_val['image_id']"
   ]
  },
  {
   "cell_type": "code",
   "execution_count": null,
   "metadata": {
    "id": "93om52gtjVqU"
   },
   "outputs": [],
   "source": [
    "# Note val\n",
    "full_data['dataset'] = np.where(full_data['image_id'].isin(val_ids), 'val', full_data['dataset'])"
   ]
  },
  {
   "cell_type": "code",
   "execution_count": null,
   "metadata": {
    "id": "p-Y7Xldbkj09"
   },
   "outputs": [],
   "source": [
    "# remove train/val/test label when duplicated - won't use these\n",
    "full_data['dataset'] = np.where(full_data['duplicated'] == True, '', full_data['dataset'])"
   ]
  },
  {
   "cell_type": "code",
   "execution_count": null,
   "metadata": {
    "id": "0UEXkWrojz_v"
   },
   "outputs": [],
   "source": [
    "# full_data[full_data['duplicated'] == False]['dataset'].value_counts()"
   ]
  },
  {
   "cell_type": "code",
   "execution_count": null,
   "metadata": {
    "id": "Eg3oBJkdboDX"
   },
   "outputs": [],
   "source": [
    "# write back to CSV for modeling ingestion\n",
    "# full_data.to_csv('./Data/full_data.csv', index = True)"
   ]
  },
  {
   "cell_type": "code",
   "execution_count": null,
   "metadata": {
    "colab": {
     "base_uri": "https://localhost:8080/"
    },
    "executionInfo": {
     "elapsed": 1060,
     "status": "ok",
     "timestamp": 1665348619375,
     "user": {
      "displayName": "Gerrit Lensink",
      "userId": "03001139976263396963"
     },
     "user_tz": 420
    },
    "id": "b3BWrKYUfX_w",
    "outputId": "40ac25a5-9e27-4455-a170-17526f5dc546"
   },
   "outputs": [
    {
     "data": {
      "text/plain": [
       "train    46770\n",
       "val       9354\n",
       "test      6236\n",
       "           591\n",
       "Name: dataset, dtype: int64"
      ]
     },
     "execution_count": 135,
     "metadata": {},
     "output_type": "execute_result"
    }
   ],
   "source": [
    "full_data['dataset'].value_counts()"
   ]
  },
  {
   "cell_type": "markdown",
   "metadata": {
    "id": "GzoqyYKrQDRS"
   },
   "source": [
    "## Split 1: Remove dermnet cancer from train\n",
    "\n",
    "based on model_resnet_full.pt, we know that a majority of our poorly predicted images fell into the bottom two categories:\n",
    "1. dermnet images\n",
    "2. Caner vs. non-cancer\n",
    "\n",
    "There is a significant overlap between these two categories, and we also have a large amount of data on cancer vs. not from both ISIC datasets. So we can see if removing dermnet from train might make our model slightly less confused. "
   ]
  },
  {
   "cell_type": "code",
   "execution_count": null,
   "metadata": {
    "colab": {
     "base_uri": "https://localhost:8080/"
    },
    "executionInfo": {
     "elapsed": 179,
     "status": "ok",
     "timestamp": 1665446023590,
     "user": {
      "displayName": "Gerrit Lensink",
      "userId": "03001139976263396963"
     },
     "user_tz": 420
    },
    "id": "1G9m6qdLQHiH",
    "outputId": "93be3f4a-2ebd-4460-dee9-304912c513ef"
   },
   "outputs": [
    {
     "name": "stderr",
     "output_type": "stream",
     "text": [
      "/usr/local/lib/python3.7/dist-packages/ipykernel_launcher.py:3: SettingWithCopyWarning: \n",
      "A value is trying to be set on a copy of a slice from a DataFrame.\n",
      "Try using .loc[row_indexer,col_indexer] = value instead\n",
      "\n",
      "See the caveats in the documentation: https://pandas.pydata.org/pandas-docs/stable/user_guide/indexing.html#returning-a-view-versus-a-copy\n",
      "  This is separate from the ipykernel package so we can avoid doing imports until\n"
     ]
    }
   ],
   "source": [
    "full_data['split_1'] = np.where(full_data['image_id'].isin(test_ids), 'test', 'train_val')\n",
    "\n",
    "unique_data['split_1'] = np.where(unique_data['image_id'].isin(test_ids), 'test', 'train_val')"
   ]
  },
  {
   "cell_type": "code",
   "execution_count": null,
   "metadata": {
    "colab": {
     "base_uri": "https://localhost:8080/"
    },
    "executionInfo": {
     "elapsed": 211,
     "status": "ok",
     "timestamp": 1665446024857,
     "user": {
      "displayName": "Gerrit Lensink",
      "userId": "03001139976263396963"
     },
     "user_tz": 420
    },
    "id": "ZQ7Xw4kSfKC8",
    "outputId": "2ac58d0e-9ae0-4006-a86d-ad075777732d"
   },
   "outputs": [
    {
     "data": {
      "text/plain": [
       "train_val    56124\n",
       "test          6236\n",
       "Name: split_1, dtype: int64"
      ]
     },
     "execution_count": 19,
     "metadata": {},
     "output_type": "execute_result"
    }
   ],
   "source": [
    "unique_data['split_1'].value_counts()"
   ]
  },
  {
   "cell_type": "markdown",
   "metadata": {
    "id": "h8NKqcQXTXg9"
   },
   "source": [
    "Before we start our train/val splits, need to ensure that dermnet is not included."
   ]
  },
  {
   "cell_type": "code",
   "execution_count": null,
   "metadata": {
    "id": "saBDgHcBTWyn"
   },
   "outputs": [],
   "source": [
    "data = unique_data[(unique_data['split_1'] == 'train_val') & \n",
    "                   ~((unique_data['source'] == 'dermnet') & \n",
    "                        ((unique_data['class'] == 'Benign Marking or Mole') |\n",
    "                         (unique_data['class'] == 'Potentially Malignant Skin Tumors')))]\n",
    "\n",
    "df_train, df_val  = train_test_split(data,\n",
    "                              test_size = adj_val_split,\n",
    "                              random_state = pd_seed,\n",
    "                              stratify = data['class'])\n",
    "\n",
    "val_ids = df_val['image_id']\n",
    "train_ids = df_train['image_id']"
   ]
  },
  {
   "cell_type": "code",
   "execution_count": null,
   "metadata": {
    "colab": {
     "base_uri": "https://localhost:8080/"
    },
    "executionInfo": {
     "elapsed": 235,
     "status": "ok",
     "timestamp": 1665446032204,
     "user": {
      "displayName": "Gerrit Lensink",
      "userId": "03001139976263396963"
     },
     "user_tz": 420
    },
    "id": "-PI73i7cgId1",
    "outputId": "24cc0289-e9dc-4e66-fa72-9053faf34abf"
   },
   "outputs": [
    {
     "data": {
      "text/plain": [
       "(51633, 43027, 8606, 51633)"
      ]
     },
     "execution_count": 21,
     "metadata": {},
     "output_type": "execute_result"
    }
   ],
   "source": [
    "len(data), len(df_train), len(df_val), len(df_train) + len(df_val)"
   ]
  },
  {
   "cell_type": "code",
   "execution_count": null,
   "metadata": {
    "colab": {
     "base_uri": "https://localhost:8080/"
    },
    "executionInfo": {
     "elapsed": 196,
     "status": "ok",
     "timestamp": 1665446040585,
     "user": {
      "displayName": "Gerrit Lensink",
      "userId": "03001139976263396963"
     },
     "user_tz": 420
    },
    "id": "OyCXsuVMgqzO",
    "outputId": "1c61d5a2-8a4b-46f4-a79f-c55f6fd82f32"
   },
   "outputs": [
    {
     "data": {
      "text/plain": [
       "train_val    56715\n",
       "test          6236\n",
       "Name: split_1, dtype: int64"
      ]
     },
     "execution_count": 22,
     "metadata": {},
     "output_type": "execute_result"
    }
   ],
   "source": [
    "full_data['split_1'].value_counts()"
   ]
  },
  {
   "cell_type": "code",
   "execution_count": null,
   "metadata": {
    "id": "lDI7GOBfZFUa"
   },
   "outputs": [],
   "source": [
    "# Note val\n",
    "full_data['split_1'] = np.where(full_data['image_id'].isin(val_ids), 'val', full_data['split_1'])\n",
    "\n",
    "# Note Train\n",
    "full_data['split_1'] = np.where(full_data['image_id'].isin(train_ids), 'train', full_data['split_1'])\n",
    "\n",
    "# Note unused\n",
    "full_data['split_1'] = np.where(full_data['split_1'] == 'train_val', '', full_data['split_1'])"
   ]
  },
  {
   "cell_type": "code",
   "execution_count": null,
   "metadata": {
    "colab": {
     "base_uri": "https://localhost:8080/"
    },
    "executionInfo": {
     "elapsed": 3,
     "status": "ok",
     "timestamp": 1665446045203,
     "user": {
      "displayName": "Gerrit Lensink",
      "userId": "03001139976263396963"
     },
     "user_tz": 420
    },
    "id": "hdLlvwCMY__Y",
    "outputId": "471214d2-f02a-49ba-ad27-04eb60738183"
   },
   "outputs": [
    {
     "data": {
      "text/plain": [
       "train    43027\n",
       "val       8606\n",
       "test      6236\n",
       "          5082\n",
       "Name: split_1, dtype: int64"
      ]
     },
     "execution_count": 24,
     "metadata": {},
     "output_type": "execute_result"
    }
   ],
   "source": [
    "full_data['split_1'].value_counts()"
   ]
  },
  {
   "cell_type": "markdown",
   "metadata": {
    "id": "dal8Aqr6QJA-"
   },
   "source": [
    "## Split 2: Remove poorly predicted classes\n",
    "\n",
    "Now we want to take out the following subsets of data: \n",
    "1. ISIC_2020, where diagnosis = 'unknown' [subset of class - 'Unclassified']\n",
    "2. Autoimmune Disorder (incorrectly spelled as 'autoimmue') [entire class]\n",
    "\n",
    "Now that we won't be training on autoimmune, we can't have it show up in test with the autoimmune label. we could either leave it in test and re-classify it as unknown, or remove it altogether. for the sake of quick testing - let's frist just remove it entirely\n"
   ]
  },
  {
   "cell_type": "code",
   "execution_count": null,
   "metadata": {
    "id": "VYcMMbwdehDY"
   },
   "outputs": [],
   "source": [
    "test_ids = unique_data[unique_data['class'] != 'Autoimmue Disorder']['image_id']\\\n",
    "          .sample(frac = test_split, \n",
    "                  replace = False, \n",
    "                  random_state = pd_seed)"
   ]
  },
  {
   "cell_type": "code",
   "execution_count": null,
   "metadata": {
    "colab": {
     "base_uri": "https://localhost:8080/"
    },
    "executionInfo": {
     "elapsed": 8,
     "status": "ok",
     "timestamp": 1665446060668,
     "user": {
      "displayName": "Gerrit Lensink",
      "userId": "03001139976263396963"
     },
     "user_tz": 420
    },
    "id": "KcV9wLf2a4V5",
    "outputId": "9234fc6b-e53d-4e90-b9b5-fbfb51ddcf3b"
   },
   "outputs": [
    {
     "name": "stderr",
     "output_type": "stream",
     "text": [
      "/usr/local/lib/python3.7/dist-packages/ipykernel_launcher.py:3: SettingWithCopyWarning: \n",
      "A value is trying to be set on a copy of a slice from a DataFrame.\n",
      "Try using .loc[row_indexer,col_indexer] = value instead\n",
      "\n",
      "See the caveats in the documentation: https://pandas.pydata.org/pandas-docs/stable/user_guide/indexing.html#returning-a-view-versus-a-copy\n",
      "  This is separate from the ipykernel package so we can avoid doing imports until\n"
     ]
    }
   ],
   "source": [
    "full_data['split_2'] = np.where(full_data['image_id'].isin(test_ids), 'test', 'train_val')\n",
    "\n",
    "unique_data['split_2'] = np.where(unique_data['image_id'].isin(test_ids), 'test', 'train_val')"
   ]
  },
  {
   "cell_type": "code",
   "execution_count": null,
   "metadata": {
    "id": "4VuCGRp8hbCh"
   },
   "outputs": [],
   "source": [
    "data = unique_data[(unique_data['split_2'] == 'train_val') &\n",
    "                   (unique_data['class'] != 'Autoimmue Disorder') &\n",
    "                   (unique_data['diagnosis'] != 'unknown')]\n",
    "\n",
    "df_train, df_val  = train_test_split(data,\n",
    "                              test_size = adj_val_split,\n",
    "                              random_state = pd_seed,\n",
    "                              stratify = data['class'])\n",
    "\n",
    "val_ids = df_val['image_id']\n",
    "train_ids = df_train['image_id']"
   ]
  },
  {
   "cell_type": "code",
   "execution_count": null,
   "metadata": {
    "id": "R-2afkI3ijdy"
   },
   "outputs": [],
   "source": [
    "# Note val\n",
    "full_data['split_2'] = np.where(full_data['image_id'].isin(val_ids), 'val', full_data['split_2'])\n",
    "\n",
    "# Note Train\n",
    "full_data['split_2'] = np.where(full_data['image_id'].isin(train_ids), 'train', full_data['split_2'])\n",
    "\n",
    "# Note unused\n",
    "full_data['split_2'] = np.where(full_data['split_2'] == 'train_val', '', full_data['split_2'])"
   ]
  },
  {
   "cell_type": "code",
   "execution_count": null,
   "metadata": {
    "colab": {
     "base_uri": "https://localhost:8080/"
    },
    "executionInfo": {
     "elapsed": 238,
     "status": "ok",
     "timestamp": 1665446065749,
     "user": {
      "displayName": "Gerrit Lensink",
      "userId": "03001139976263396963"
     },
     "user_tz": 420
    },
    "id": "JrQv4vdMirs0",
    "outputId": "6c73bb9a-abab-4ffb-d288-2f63784277ee"
   },
   "outputs": [
    {
     "data": {
      "text/plain": [
       "Benign Marking or Mole                                17882\n",
       "Toxin, Fungal, Bug, Viral, or Bacterial Infections     6468\n",
       "Non-Cancerous Skin Condition                           4636\n",
       "Unclassified                                           4105\n",
       "Potentially Malignant Skin Tumors                      3604\n",
       "Name: class, dtype: int64"
      ]
     },
     "execution_count": 29,
     "metadata": {},
     "output_type": "execute_result"
    }
   ],
   "source": [
    "full_data[full_data.split_2 != '']['class'].value_counts()"
   ]
  },
  {
   "cell_type": "code",
   "execution_count": null,
   "metadata": {
    "colab": {
     "base_uri": "https://localhost:8080/"
    },
    "executionInfo": {
     "elapsed": 137,
     "status": "ok",
     "timestamp": 1665446131818,
     "user": {
      "displayName": "Gerrit Lensink",
      "userId": "03001139976263396963"
     },
     "user_tz": 420
    },
    "id": "4ADSt0wsUwZS",
    "outputId": "ca6ee6de-bdff-42f3-aa5e-8c70f5c32ba8"
   },
   "outputs": [
    {
     "data": {
      "text/plain": [
       "         26256\n",
       "train    25489\n",
       "test      6108\n",
       "val       5098\n",
       "Name: split_2, dtype: int64"
      ]
     },
     "execution_count": 32,
     "metadata": {},
     "output_type": "execute_result"
    }
   ],
   "source": [
    "full_data.split_2.value_counts()"
   ]
  },
  {
   "cell_type": "markdown",
   "metadata": {
    "id": "DrtWbUcgQNyt"
   },
   "source": [
    "## Split 2+3: Equal class sampling\n",
    "\n",
    "Starting with split 2 as a baseline, now we will undersample each class down to ~3600 images to match the smallest class - malignant to try and reduce class imbalance. \n"
   ]
  },
  {
   "cell_type": "code",
   "execution_count": null,
   "metadata": {
    "id": "g3O6pEajrx32"
   },
   "outputs": [],
   "source": [
    "labs = ['Non-Cancerous Skin Condition',\n",
    "       'Toxin, Fungal, Bug, Viral, or Bacterial Infections',\n",
    "       'Potentially Malignant Skin Tumors', # correct Size\n",
    "    #    'Autoimmue Disorder',                # excluding\n",
    "       'Benign Marking or Mole', \n",
    "       'Unclassified']"
   ]
  },
  {
   "cell_type": "markdown",
   "metadata": {
    "id": "SU_vK69pcsLr"
   },
   "source": [
    "Group data into train, val, and test - all with equal sample size"
   ]
  },
  {
   "cell_type": "code",
   "execution_count": null,
   "metadata": {
    "id": "Tj9K67RaY3OT"
   },
   "outputs": [],
   "source": [
    "train_val_test = pd.DataFrame()\n",
    "\n",
    "for lab in labs:\n",
    "    s = full_data[(full_data['split_2'] != '') &\n",
    "                  (full_data['class'] == lab)].\\\n",
    "                   sample(n = 3600, \n",
    "                          replace = False, \n",
    "                          random_state = pd_seed)\n",
    "    \n",
    "    train_val_test = pd.concat([train_val_test, s])"
   ]
  },
  {
   "cell_type": "markdown",
   "metadata": {
    "id": "GNYk7LOAczWi"
   },
   "source": [
    "Now we can skim off test: "
   ]
  },
  {
   "cell_type": "code",
   "execution_count": null,
   "metadata": {
    "id": "CrL6I9Ioc33V"
   },
   "outputs": [],
   "source": [
    "test_ids = train_val_test['image_id']\\\n",
    "          .sample(frac = test_split, \n",
    "                  replace = False, \n",
    "                  random_state = pd_seed)"
   ]
  },
  {
   "cell_type": "code",
   "execution_count": null,
   "metadata": {
    "id": "OqnjnLVldNqY"
   },
   "outputs": [],
   "source": [
    "full_data['split_3'] = np.where(full_data['image_id'].isin(test_ids), 'test', 'train_val')\n",
    "\n",
    "train_val_test['split_3'] = np.where(train_val_test['image_id'].isin(test_ids), 'test', 'train_val')\n"
   ]
  },
  {
   "cell_type": "code",
   "execution_count": null,
   "metadata": {
    "id": "_Uc2a7hPlgP0"
   },
   "outputs": [],
   "source": [
    "data = train_val_test[(train_val_test['split_3'] == 'train_val')]\n",
    "\n",
    "df_train, df_val  = train_test_split(data,\n",
    "                              test_size = adj_val_split,\n",
    "                              random_state = pd_seed,\n",
    "                              stratify = data['class'])\n",
    "\n",
    "val_ids = df_val['image_id']\n",
    "train_ids = df_train['image_id']"
   ]
  },
  {
   "cell_type": "code",
   "execution_count": null,
   "metadata": {
    "colab": {
     "base_uri": "https://localhost:8080/"
    },
    "executionInfo": {
     "elapsed": 4,
     "status": "ok",
     "timestamp": 1665448535174,
     "user": {
      "displayName": "Gerrit Lensink",
      "userId": "03001139976263396963"
     },
     "user_tz": 420
    },
    "id": "i78YbpFrdWoF",
    "outputId": "6a1c14be-ff43-42b2-f3b1-17f183467ca3"
   },
   "outputs": [
    {
     "data": {
      "text/plain": [
       "(13500, 2700, 1800, 18000, 18000)"
      ]
     },
     "execution_count": 90,
     "metadata": {},
     "output_type": "execute_result"
    }
   ],
   "source": [
    "len(train_ids), len(val_ids), len(test_ids), len(train_val_test), len(train_ids) + len(val_ids) + len(test_ids) "
   ]
  },
  {
   "cell_type": "code",
   "execution_count": null,
   "metadata": {
    "id": "wcDJi4uynoYh"
   },
   "outputs": [],
   "source": [
    "# Note val\n",
    "full_data['split_3'] = np.where(full_data['image_id'].isin(val_ids), 'val', full_data['split_3'])\n",
    "\n",
    "# Note Train\n",
    "full_data['split_3'] = np.where(full_data['image_id'].isin(train_ids), 'train', full_data['split_3'])\n",
    "\n",
    "# Note unused\n",
    "full_data['split_3'] = np.where(full_data['split_3'] == 'train_val', '', full_data['split_3'])"
   ]
  },
  {
   "cell_type": "code",
   "execution_count": null,
   "metadata": {
    "colab": {
     "base_uri": "https://localhost:8080/"
    },
    "executionInfo": {
     "elapsed": 4,
     "status": "ok",
     "timestamp": 1665448586807,
     "user": {
      "displayName": "Gerrit Lensink",
      "userId": "03001139976263396963"
     },
     "user_tz": 420
    },
    "id": "EfgIibs0eCpB",
    "outputId": "e2bb0a3e-579d-4c33-f6ad-561d3af177f6"
   },
   "outputs": [
    {
     "data": {
      "text/plain": [
       "         44951\n",
       "train    13500\n",
       "val       2700\n",
       "test      1800\n",
       "Name: split_3, dtype: int64"
      ]
     },
     "execution_count": 94,
     "metadata": {},
     "output_type": "execute_result"
    }
   ],
   "source": [
    "full_data['split_3'].value_counts()"
   ]
  },
  {
   "cell_type": "code",
   "execution_count": null,
   "metadata": {
    "colab": {
     "base_uri": "https://localhost:8080/"
    },
    "executionInfo": {
     "elapsed": 4,
     "status": "ok",
     "timestamp": 1665448613617,
     "user": {
      "displayName": "Gerrit Lensink",
      "userId": "03001139976263396963"
     },
     "user_tz": 420
    },
    "id": "SsSvzxFlny7A",
    "outputId": "f76f41de-1037-45dd-86f4-5e5079ca4bad"
   },
   "outputs": [
    {
     "data": {
      "text/plain": [
       "Benign Marking or Mole                                542\n",
       "Potentially Malignant Skin Tumors                     542\n",
       "Unclassified                                          542\n",
       "Toxin, Fungal, Bug, Viral, or Bacterial Infections    540\n",
       "Non-Cancerous Skin Condition                          534\n",
       "Name: class, dtype: int64"
      ]
     },
     "execution_count": 97,
     "metadata": {},
     "output_type": "execute_result"
    }
   ],
   "source": [
    "full_data[full_data.split_3 == 'val']['class'].value_counts()"
   ]
  },
  {
   "cell_type": "markdown",
   "metadata": {
    "id": "JN8NtDu-SyrO"
   },
   "source": []
  },
  {
   "cell_type": "markdown",
   "metadata": {
    "id": "5fjz_aL-uWBK"
   },
   "source": [
    "## Split 4\n",
    "- Remove autoimmune diseases altogether\n",
    "- remove diagnoses within toxin/fungal etc that are not in the top 3 in terms of value counts\n",
    "- remove data with unknown as diagnosis"
   ]
  },
  {
   "cell_type": "code",
   "execution_count": null,
   "metadata": {
    "id": "xlfPwdXexGnw"
   },
   "outputs": [],
   "source": [
    "test_ids = unique_data[unique_data['diagnosis'] != 'unknown']['image_id']\\\n",
    "          .sample(frac = test_split, \n",
    "                  replace = False, \n",
    "                  random_state = pd_seed)"
   ]
  },
  {
   "cell_type": "code",
   "execution_count": null,
   "metadata": {
    "colab": {
     "base_uri": "https://localhost:8080/"
    },
    "executionInfo": {
     "elapsed": 175,
     "status": "ok",
     "timestamp": 1666058241829,
     "user": {
      "displayName": "Gerrit Lensink",
      "userId": "03001139976263396963"
     },
     "user_tz": 420
    },
    "id": "29FmvspIyR-P",
    "outputId": "06d0c557-3449-4523-df82-8d44534188a3"
   },
   "outputs": [
    {
     "name": "stderr",
     "output_type": "stream",
     "text": [
      "/usr/local/lib/python3.7/dist-packages/ipykernel_launcher.py:3: SettingWithCopyWarning: \n",
      "A value is trying to be set on a copy of a slice from a DataFrame.\n",
      "Try using .loc[row_indexer,col_indexer] = value instead\n",
      "\n",
      "See the caveats in the documentation: https://pandas.pydata.org/pandas-docs/stable/user_guide/indexing.html#returning-a-view-versus-a-copy\n",
      "  This is separate from the ipykernel package so we can avoid doing imports until\n"
     ]
    }
   ],
   "source": [
    "full_data['split_4'] = np.where(full_data['image_id'].isin(test_ids), 'test', 'train_val')\n",
    "\n",
    "unique_data['split_4'] = np.where(unique_data['image_id'].isin(test_ids), 'test', 'train_val')"
   ]
  },
  {
   "cell_type": "code",
   "execution_count": null,
   "metadata": {
    "id": "XPV7Y-DcynKg"
   },
   "outputs": [],
   "source": [
    "data = unique_data[(unique_data['split_4'] == 'train_val') &\n",
    "                   (unique_data['diagnosis'] != 'unknown')]\n",
    "\n",
    "df_train, df_val  = train_test_split(data,\n",
    "                              test_size = adj_val_split,\n",
    "                              random_state = pd_seed,\n",
    "                              stratify = data['label_1'])\n",
    "\n",
    "val_ids = df_val['image_id']\n",
    "train_ids = df_train['image_id']"
   ]
  },
  {
   "cell_type": "code",
   "execution_count": null,
   "metadata": {
    "id": "OFGnb9O_xGhg"
   },
   "outputs": [],
   "source": [
    "# Note val\n",
    "full_data['split_4'] = np.where(full_data['image_id'].isin(val_ids), 'val', full_data['split_4'])\n",
    "\n",
    "# Note Train\n",
    "full_data['split_4'] = np.where(full_data['image_id'].isin(train_ids), 'train', full_data['split_4'])\n",
    "\n",
    "# Note unused\n",
    "full_data['split_4'] = np.where(full_data['split_4'] == 'train_val', '', full_data['split_4'])"
   ]
  },
  {
   "cell_type": "markdown",
   "metadata": {
    "id": "5AiiVfWE0EoJ"
   },
   "source": [
    "## Split 5: \n",
    "- Remove autoimmune diseases altogether\n",
    "- remove diagnoses within toxin/fungal etc that are not in the top 3 in terms of value counts\n",
    "- remove data with unknown as diagnosis\n",
    "- remove melanoma skin cancer nevi and moles (dermnet) from Potentially malignant skin tumors class as there are some beningn/regular moles in here, and it’s causing common confusions"
   ]
  },
  {
   "cell_type": "code",
   "execution_count": null,
   "metadata": {
    "colab": {
     "base_uri": "https://localhost:8080/"
    },
    "executionInfo": {
     "elapsed": 143,
     "status": "ok",
     "timestamp": 1666058761887,
     "user": {
      "displayName": "Gerrit Lensink",
      "userId": "03001139976263396963"
     },
     "user_tz": 420
    },
    "id": "WSRa9aPE0juS",
    "outputId": "2802b3c9-4dbd-4b17-b75c-12f6e0962e30"
   },
   "outputs": [
    {
     "name": "stderr",
     "output_type": "stream",
     "text": [
      "/usr/local/lib/python3.7/dist-packages/ipykernel_launcher.py:11: SettingWithCopyWarning: \n",
      "A value is trying to be set on a copy of a slice from a DataFrame.\n",
      "Try using .loc[row_indexer,col_indexer] = value instead\n",
      "\n",
      "See the caveats in the documentation: https://pandas.pydata.org/pandas-docs/stable/user_guide/indexing.html#returning-a-view-versus-a-copy\n",
      "  # This is added back by InteractiveShellApp.init_path()\n"
     ]
    }
   ],
   "source": [
    "test_ids = unique_data[(unique_data['diagnosis'] != 'unknown') &\n",
    "                       (unique_data['label_2'].isna() == False)]['image_id']\\\n",
    "                                              .sample(frac = test_split, \n",
    "                                                      replace = False, \n",
    "                                                      random_state = pd_seed)\n",
    "\n",
    "full_data['split_5'] = np.where((full_data['image_id'].isin(test_ids)) &\n",
    "                                (full_data['label_2'].isna() == False), 'test', 'train_val')\n",
    "\n",
    "unique_data['split_5'] = np.where((unique_data['image_id'].isin(test_ids)) &\n",
    "                                  (unique_data['label_2'].isna() == False), 'test', 'train_val')\n",
    "\n",
    "data = unique_data[(unique_data['split_5'] == 'train_val') &\n",
    "                   (unique_data['diagnosis'] != 'unknown') &\n",
    "                   (unique_data['label_2'].isna() == False)]\n",
    "\n",
    "df_train, df_val  = train_test_split(data,\n",
    "                              test_size = adj_val_split,\n",
    "                              random_state = pd_seed,\n",
    "                              stratify = data['label_2'])\n",
    "\n",
    "val_ids = df_val['image_id']\n",
    "train_ids = df_train['image_id']"
   ]
  },
  {
   "cell_type": "code",
   "execution_count": null,
   "metadata": {
    "id": "D4ESk6zm14ig"
   },
   "outputs": [],
   "source": [
    "# Note val\n",
    "full_data['split_5'] = np.where(full_data['image_id'].isin(val_ids), 'val', full_data['split_5'])\n",
    "\n",
    "# Note Train\n",
    "full_data['split_5'] = np.where(full_data['image_id'].isin(train_ids), 'train', full_data['split_5'])\n",
    "\n",
    "# Note unused\n",
    "full_data['split_5'] = np.where(full_data['split_5'] == 'train_val', '', full_data['split_5'])"
   ]
  },
  {
   "cell_type": "markdown",
   "metadata": {
    "id": "iXtlqU0S3eIy"
   },
   "source": [
    "## Split 6: \n",
    "- Remove autoimmune diseases altogether\n",
    "- remove diagnoses within toxin/fungal etc that are not in the top 3 in terms of value counts\n",
    "- remove data with unknown as diagnosis\n",
    "- remove melanoma skin cancer nevi and moles (dermnet) from Potentially malignant skin tumors class as there are some beningn/regular moles in here, and it’s causing common confusions\n",
    "- Combine toxins and non-cancerous skin condition class"
   ]
  },
  {
   "cell_type": "code",
   "execution_count": null,
   "metadata": {
    "colab": {
     "base_uri": "https://localhost:8080/"
    },
    "executionInfo": {
     "elapsed": 393,
     "status": "ok",
     "timestamp": 1666059350132,
     "user": {
      "displayName": "Gerrit Lensink",
      "userId": "03001139976263396963"
     },
     "user_tz": 420
    },
    "id": "HMSFMq_S3dUe",
    "outputId": "09be2221-1851-45f1-ae9f-15678b4eee81"
   },
   "outputs": [
    {
     "name": "stderr",
     "output_type": "stream",
     "text": [
      "/usr/local/lib/python3.7/dist-packages/ipykernel_launcher.py:11: SettingWithCopyWarning: \n",
      "A value is trying to be set on a copy of a slice from a DataFrame.\n",
      "Try using .loc[row_indexer,col_indexer] = value instead\n",
      "\n",
      "See the caveats in the documentation: https://pandas.pydata.org/pandas-docs/stable/user_guide/indexing.html#returning-a-view-versus-a-copy\n",
      "  # This is added back by InteractiveShellApp.init_path()\n"
     ]
    }
   ],
   "source": [
    "test_ids = unique_data[(unique_data['diagnosis'] != 'unknown') &\n",
    "                       (unique_data['label_3'].isna() == False)]['image_id']\\\n",
    "                                              .sample(frac = test_split, \n",
    "                                                      replace = False, \n",
    "                                                      random_state = pd_seed)\n",
    "\n",
    "full_data['split_6'] = np.where((full_data['image_id'].isin(test_ids)) &\n",
    "                                (full_data['label_3'].isna() == False), 'test', 'train_val')\n",
    "\n",
    "unique_data['split_6'] = np.where((unique_data['image_id'].isin(test_ids)) &\n",
    "                                  (unique_data['label_3'].isna() == False), 'test', 'train_val')\n",
    "\n",
    "data = unique_data[(unique_data['split_6'] == 'train_val') &\n",
    "                   (unique_data['diagnosis'] != 'unknown') &\n",
    "                   (unique_data['label_3'].isna() == False)]\n",
    "\n",
    "df_train, df_val  = train_test_split(data,\n",
    "                              test_size = adj_val_split,\n",
    "                              random_state = pd_seed,\n",
    "                              stratify = data['label_3'])\n",
    "\n",
    "val_ids = df_val['image_id']\n",
    "train_ids = df_train['image_id']"
   ]
  },
  {
   "cell_type": "code",
   "execution_count": null,
   "metadata": {
    "id": "6yfOaE4F4GFj"
   },
   "outputs": [],
   "source": [
    "# Note val\n",
    "full_data['split_6'] = np.where(full_data['image_id'].isin(val_ids), 'val', full_data['split_6'])\n",
    "\n",
    "# Note Train\n",
    "full_data['split_6'] = np.where(full_data['image_id'].isin(train_ids), 'train', full_data['split_6'])\n",
    "\n",
    "# Note unused\n",
    "full_data['split_6'] = np.where(full_data['split_6'] == 'train_val', '', full_data['split_6'])"
   ]
  },
  {
   "cell_type": "code",
   "execution_count": null,
   "metadata": {
    "colab": {
     "base_uri": "https://localhost:8080/"
    },
    "executionInfo": {
     "elapsed": 11,
     "status": "ok",
     "timestamp": 1666059411702,
     "user": {
      "displayName": "Gerrit Lensink",
      "userId": "03001139976263396963"
     },
     "user_tz": 420
    },
    "id": "aYf105Ui2BrK",
    "outputId": "5fb9c70c-82db-466e-e5b4-89ba33e9da78"
   },
   "outputs": [
    {
     "data": {
      "text/plain": [
       "         28285\n",
       "train    25995\n",
       "val       5200\n",
       "test      3466\n",
       "Name: split_5, dtype: int64"
      ]
     },
     "execution_count": 113,
     "metadata": {},
     "output_type": "execute_result"
    }
   ],
   "source": [
    "full_data.split_5.value_counts()"
   ]
  },
  {
   "cell_type": "code",
   "execution_count": null,
   "metadata": {
    "colab": {
     "base_uri": "https://localhost:8080/"
    },
    "executionInfo": {
     "elapsed": 9,
     "status": "ok",
     "timestamp": 1666059411703,
     "user": {
      "displayName": "Gerrit Lensink",
      "userId": "03001139976263396963"
     },
     "user_tz": 420
    },
    "id": "Gc4vj-S_14T7",
    "outputId": "710cfd31-eb90-4b18-bbd2-f5df5d1a7aca"
   },
   "outputs": [
    {
     "data": {
      "text/plain": [
       "         28285\n",
       "train    25995\n",
       "val       5200\n",
       "test      3466\n",
       "Name: split_6, dtype: int64"
      ]
     },
     "execution_count": 114,
     "metadata": {},
     "output_type": "execute_result"
    }
   ],
   "source": [
    "full_data.split_6.value_counts()"
   ]
  },
  {
   "cell_type": "markdown",
   "metadata": {
    "id": "nviVDKTNxI_f"
   },
   "source": [
    "## Split 7: Same as split 2, but removing dermnet ambiguous benign/malignant diagnosis from malignant class. "
   ]
  },
  {
   "cell_type": "code",
   "execution_count": 8,
   "metadata": {
    "colab": {
     "base_uri": "https://localhost:8080/"
    },
    "executionInfo": {
     "elapsed": 129,
     "status": "ok",
     "timestamp": 1666460533690,
     "user": {
      "displayName": "Gerrit Lensink",
      "userId": "03001139976263396963"
     },
     "user_tz": 420
    },
    "id": "J9sTOtZUxTgb",
    "outputId": "f82803ea-2788-4325-92d0-ef89e9050694"
   },
   "outputs": [
    {
     "name": "stderr",
     "output_type": "stream",
     "text": [
      "/usr/local/lib/python3.7/dist-packages/ipykernel_launcher.py:9: SettingWithCopyWarning: \n",
      "A value is trying to be set on a copy of a slice from a DataFrame.\n",
      "Try using .loc[row_indexer,col_indexer] = value instead\n",
      "\n",
      "See the caveats in the documentation: https://pandas.pydata.org/pandas-docs/stable/user_guide/indexing.html#returning-a-view-versus-a-copy\n",
      "  if __name__ == '__main__':\n"
     ]
    }
   ],
   "source": [
    "test_ids = unique_data[(unique_data['class'] != 'Autoimmue Disorder') &\n",
    "                       (unique_data['diagnosis'] != 'melanoma skin cancer nevi and moles')]['image_id']\\\n",
    "          .sample(frac = test_split, \n",
    "                  replace = False, \n",
    "                  random_state = pd_seed)\n",
    "          \n",
    "full_data['split_7'] = np.where(full_data['image_id'].isin(test_ids), 'test', 'train_val')\n",
    "\n",
    "unique_data['split_7'] = np.where(unique_data['image_id'].isin(test_ids), 'test', 'train_val')\n",
    "\n",
    "data = unique_data[(unique_data['split_7'] == 'train_val') &\n",
    "                   (unique_data['class'] != 'Autoimmue Disorder') &\n",
    "                   (unique_data['diagnosis'] != 'unknown') &\n",
    "                   (unique_data['diagnosis'] != 'melanoma skin cancer nevi and moles')]\n",
    "\n",
    "df_train, df_val  = train_test_split(data,\n",
    "                              test_size = adj_val_split,\n",
    "                              random_state = pd_seed,\n",
    "                              stratify = data['class'])"
   ]
  },
  {
   "cell_type": "code",
   "execution_count": 25,
   "metadata": {
    "colab": {
     "base_uri": "https://localhost:8080/"
    },
    "executionInfo": {
     "elapsed": 136,
     "status": "ok",
     "timestamp": 1666462269851,
     "user": {
      "displayName": "Gerrit Lensink",
      "userId": "03001139976263396963"
     },
     "user_tz": 420
    },
    "id": "oryXchCb4u2a",
    "outputId": "67b75216-b022-4de4-a7c0-8a2219201a42"
   },
   "outputs": [
    {
     "data": {
      "text/plain": [
       "Benign Marking or Mole                                2690\n",
       "Toxin, Fungal, Bug, Viral, or Bacterial Infections     972\n",
       "Non-Cancerous Skin Condition                           696\n",
       "Potentially Malignant Skin Tumors                      452\n",
       "Unclassified                                           208\n",
       "Name: class, dtype: int64"
      ]
     },
     "execution_count": 25,
     "metadata": {},
     "output_type": "execute_result"
    }
   ],
   "source": [
    "df_val['class'].value_counts()"
   ]
  },
  {
   "cell_type": "code",
   "execution_count": 20,
   "metadata": {
    "colab": {
     "base_uri": "https://localhost:8080/"
    },
    "executionInfo": {
     "elapsed": 5,
     "status": "ok",
     "timestamp": 1666462165560,
     "user": {
      "displayName": "Gerrit Lensink",
      "userId": "03001139976263396963"
     },
     "user_tz": 420
    },
    "id": "-XnI55_JzU9D",
    "outputId": "32f59a81-9d7a-41cc-9b5b-238702702966"
   },
   "outputs": [
    {
     "data": {
      "text/plain": [
       "Benign Marking or Mole                                16140\n",
       "Toxin, Fungal, Bug, Viral, or Bacterial Infections     5829\n",
       "Non-Cancerous Skin Condition                           4178\n",
       "Potentially Malignant Skin Tumors                      2710\n",
       "Unclassified                                           1250\n",
       "Name: class, dtype: int64"
      ]
     },
     "execution_count": 20,
     "metadata": {},
     "output_type": "execute_result"
    }
   ],
   "source": [
    "s7 = data[data.split_7.isna() == False]\n",
    "s7['class'].value_counts()"
   ]
  },
  {
   "cell_type": "code",
   "execution_count": 10,
   "metadata": {
    "executionInfo": {
     "elapsed": 155,
     "status": "ok",
     "timestamp": 1666460779736,
     "user": {
      "displayName": "Gerrit Lensink",
      "userId": "03001139976263396963"
     },
     "user_tz": 420
    },
    "id": "Ppg2SQ3_yc9p"
   },
   "outputs": [],
   "source": [
    "val_ids = df_val['image_id']\n",
    "train_ids = df_train['image_id']\n",
    "\n",
    "# Note val\n",
    "full_data['split_7'] = np.where(full_data['image_id'].isin(val_ids), 'val', full_data['split_7'])\n",
    "\n",
    "# Note Train\n",
    "full_data['split_7'] = np.where(full_data['image_id'].isin(train_ids), 'train', full_data['split_7'])\n",
    "\n",
    "# Note unused\n",
    "full_data['split_7'] = np.where(full_data['split_7'] == 'train_val', '', full_data['split_7'])"
   ]
  },
  {
   "cell_type": "code",
   "execution_count": 14,
   "metadata": {
    "colab": {
     "base_uri": "https://localhost:8080/"
    },
    "executionInfo": {
     "elapsed": 3,
     "status": "ok",
     "timestamp": 1666460851059,
     "user": {
      "displayName": "Gerrit Lensink",
      "userId": "03001139976263396963"
     },
     "user_tz": 420
    },
    "id": "M5cB6MsCzYo5",
    "outputId": "44a17954-4134-4667-86bf-b4d4efcc7f73"
   },
   "outputs": [
    {
     "data": {
      "text/plain": [
       "train    25489\n",
       "test      6108\n",
       "val       5098\n",
       "Name: split_2, dtype: int64"
      ]
     },
     "execution_count": 14,
     "metadata": {},
     "output_type": "execute_result"
    }
   ],
   "source": [
    "full_data.split_2.value_counts()"
   ]
  },
  {
   "cell_type": "markdown",
   "metadata": {
    "id": "mXfSQBpTa5tD"
   },
   "source": [
    "## Write Back Data"
   ]
  },
  {
   "cell_type": "code",
   "execution_count": 15,
   "metadata": {
    "executionInfo": {
     "elapsed": 518,
     "status": "ok",
     "timestamp": 1666461721769,
     "user": {
      "displayName": "Gerrit Lensink",
      "userId": "03001139976263396963"
     },
     "user_tz": 420
    },
    "id": "Iy3mfgVia7Z4"
   },
   "outputs": [],
   "source": [
    "full_data.to_csv('./Data/full_data.csv', index = True)"
   ]
  },
  {
   "cell_type": "code",
   "execution_count": null,
   "metadata": {
    "colab": {
     "base_uri": "https://localhost:8080/"
    },
    "executionInfo": {
     "elapsed": 163,
     "status": "ok",
     "timestamp": 1666059890373,
     "user": {
      "displayName": "Gerrit Lensink",
      "userId": "03001139976263396963"
     },
     "user_tz": 420
    },
    "id": "NJK888kweUIX",
    "outputId": "fc34b333-87d3-42f3-8aef-05fd00e05b8c"
   },
   "outputs": [
    {
     "data": {
      "text/plain": [
       "    586\n",
       "Name: split_6, dtype: int64"
      ]
     },
     "execution_count": 125,
     "metadata": {},
     "output_type": "execute_result"
    }
   ],
   "source": [
    "full_data[full_data['duplicated'] == True]['split_6'].value_counts()"
   ]
  },
  {
   "cell_type": "code",
   "execution_count": 16,
   "metadata": {
    "colab": {
     "base_uri": "https://localhost:8080/"
    },
    "executionInfo": {
     "elapsed": 235,
     "status": "ok",
     "timestamp": 1666461738354,
     "user": {
      "displayName": "Gerrit Lensink",
      "userId": "03001139976263396963"
     },
     "user_tz": 420
    },
    "id": "d7fciG1Ke1gR",
    "outputId": "b662c3c7-ea97-4eed-c8c4-18d5ba3a05d1"
   },
   "outputs": [
    {
     "name": "stdout",
     "output_type": "stream",
     "text": [
      "train    43027\n",
      "val       8606\n",
      "test      6236\n",
      "Name: split_1, dtype: int64\n",
      "train    25489\n",
      "test      6108\n",
      "val       5098\n",
      "Name: split_2, dtype: int64\n",
      "train    13500\n",
      "val       2700\n",
      "test      1800\n",
      "Name: split_3, dtype: int64\n",
      "train    26426\n",
      "val       5286\n",
      "test      3524\n",
      "Name: split_4, dtype: int64\n",
      "train    25995\n",
      "val       5200\n",
      "test      3466\n",
      "Name: split_5, dtype: int64\n",
      "train    25995\n",
      "val       5200\n",
      "test      3466\n",
      "Name: split_6, dtype: int64\n",
      "         26788\n",
      "train    25089\n",
      "test      6051\n",
      "val       5018\n",
      "Name: split_7, dtype: int64\n"
     ]
    }
   ],
   "source": [
    "bx = ['split_1', 'split_2', 'split_3', 'split_4', 'split_5', 'split_6', 'split_7']\n",
    "\n",
    "for x in bx: \n",
    "    print(full_data[x].value_counts())"
   ]
  },
  {
   "cell_type": "code",
   "execution_count": null,
   "metadata": {
    "id": "G5b18i6KgG25"
   },
   "outputs": [],
   "source": []
  }
 ],
 "metadata": {
  "colab": {
   "provenance": [],
   "toc_visible": true
  },
  "kernelspec": {
   "display_name": "Python 3",
   "name": "python3"
  },
  "language_info": {
   "name": "python"
  }
 },
 "nbformat": 4,
 "nbformat_minor": 0
}
