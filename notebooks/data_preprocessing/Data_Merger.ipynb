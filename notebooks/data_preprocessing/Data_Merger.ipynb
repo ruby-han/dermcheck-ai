{
 "cells": [
  {
   "cell_type": "markdown",
   "metadata": {
    "id": "NCVn4sFWgsWT"
   },
   "source": [
    "## Setup"
   ]
  },
  {
   "cell_type": "markdown",
   "metadata": {
    "id": "LttINCriguo3"
   },
   "source": [
    "### Installs, Packages, Seeds"
   ]
  },
  {
   "cell_type": "code",
   "execution_count": 92,
   "metadata": {
    "executionInfo": {
     "elapsed": 678,
     "status": "ok",
     "timestamp": 1664660481530,
     "user": {
      "displayName": "Gerrit Lensink",
      "userId": "14030898330788478401"
     },
     "user_tz": 420
    },
    "id": "Y0Cgxs-5fwGh"
   },
   "outputs": [],
   "source": [
    "import pandas as pd\n",
    "# import matplotlib.pyplot as plt\n",
    "# import matplotlib.image as mp_image\n",
    "from IPython import display    # Easily show images in notebook\n",
    "import os\n",
    "# import cv2\n",
    "import numpy as np\n",
    "# from skimage import io\n",
    "from PIL import Image\n",
    "from google.colab import drive # Connect colab to google drive\n",
    "from glob import glob\n",
    "from pathlib import PurePath\n",
    "\n",
    "# sklearn libraries\n",
    "from sklearn.model_selection import train_test_split"
   ]
  },
  {
   "cell_type": "code",
   "execution_count": 100,
   "metadata": {
    "executionInfo": {
     "elapsed": 160,
     "status": "ok",
     "timestamp": 1664660917383,
     "user": {
      "displayName": "Gerrit Lensink",
      "userId": "14030898330788478401"
     },
     "user_tz": 420
    },
    "id": "dv9IFOBSfpCy"
   },
   "outputs": [],
   "source": [
    "# Set Seeds\n",
    "np.random.seed(99)\n",
    "pd_seed = 99\n",
    "# torch.cuda.manual_seed(10)"
   ]
  },
  {
   "cell_type": "markdown",
   "metadata": {
    "id": "C1jeu-Oeg8JM"
   },
   "source": [
    "### Mount Google Drive"
   ]
  },
  {
   "cell_type": "code",
   "execution_count": 8,
   "metadata": {
    "colab": {
     "base_uri": "https://localhost:8080/"
    },
    "executionInfo": {
     "elapsed": 16680,
     "status": "ok",
     "timestamp": 1664657621625,
     "user": {
      "displayName": "Gerrit Lensink",
      "userId": "14030898330788478401"
     },
     "user_tz": 420
    },
    "id": "O2oA1-GNf8qZ",
    "outputId": "efde78a1-3fac-43c5-9837-dcf12d05952a"
   },
   "outputs": [
    {
     "name": "stdout",
     "output_type": "stream",
     "text": [
      "Mounted at /drive\n",
      "/drive/.shortcut-targets-by-id/1oLqejM9KnDiIgUupEGkxGM3_vdqboxlI/W210 - Capstone\n"
     ]
    }
   ],
   "source": [
    "drive.mount('/drive') \n",
    "%cd /drive/MyDrive/W210 - Capstone/"
   ]
  },
  {
   "cell_type": "markdown",
   "metadata": {
    "id": "vIdU4ZZ0hBql"
   },
   "source": [
    "## Data Blend"
   ]
  },
  {
   "cell_type": "markdown",
   "metadata": {
    "id": "ciNBne0_galA"
   },
   "source": [
    "To blend our data we'd like to start with two things: \n",
    "1. a list of all image paths **all_image_path**, with a related column to note which dataset it's from\n",
    "2. a single y vector to represent all of the different classes **df.fill_in**"
   ]
  },
  {
   "cell_type": "markdown",
   "metadata": {
    "id": "-8N--DIWjRdK"
   },
   "source": [
    "### First, doing this for ISIC 2018\n",
    "\n",
    "ISIC 2018 has 3 datasets - train, test, and val. Train is the only set with the Y vector represented in the metadata, so the other images aren't all that interesting (we can't see if we're right or wrong). Because of that, only looking at the 'train' set below. for more info on the full splits, see [GL_modeling_img_only](https://colab.research.google.com/drive/11ytZd4whUOTOsveNcbmIyOHAWU6MDxbi?authuser=1#scrollTo=rUgahMpfsKKF) notebook. "
   ]
  },
  {
   "cell_type": "markdown",
   "metadata": {
    "id": "9BNXNtbMw07O"
   },
   "source": [
    "#### Images"
   ]
  },
  {
   "cell_type": "code",
   "execution_count": 5,
   "metadata": {
    "executionInfo": {
     "elapsed": 165,
     "status": "ok",
     "timestamp": 1664657578377,
     "user": {
      "displayName": "Gerrit Lensink",
      "userId": "14030898330788478401"
     },
     "user_tz": 420
    },
    "id": "2yrYPc4-gCos"
   },
   "outputs": [],
   "source": [
    "data_dir = './Data/'\n",
    "\n",
    "# ISIC 2018\n",
    "ISIC_2018_path = 'ISIC_2018/Train/HAM10000_images_part_1_and_2/'\n",
    "\n",
    "# ISIC 2020\n",
    "ISIC_2020_path = 'ISIC_2020/Data/'\n",
    "\n",
    "# Stanford Diverse\n",
    "stanford_path = 'diverse_stanford/'\n",
    "\n",
    "# Dermnet\n",
    "dermnet_path = 'dermnet/'\n",
    "dermnet_path_train = dermnet_path + 'train/'\n",
    "dermnet_path_test = dermnet_path + 'test/'\n",
    "\n",
    "# Extension Dictionary\n",
    "exts = {'ISIC': '.jpg', 'stanford': '.png', 'dermnet': '.jpg'}"
   ]
  },
  {
   "cell_type": "code",
   "execution_count": null,
   "metadata": {
    "colab": {
     "base_uri": "https://localhost:8080/"
    },
    "executionInfo": {
     "elapsed": 21539,
     "status": "ok",
     "timestamp": 1664138263316,
     "user": {
      "displayName": "Gerrit Lensink",
      "userId": "03001139976263396963"
     },
     "user_tz": 420
    },
    "id": "iaQwxyWugIL5",
    "outputId": "a3588a55-f77a-4ad3-a0f5-e2c89c254964"
   },
   "outputs": [
    {
     "name": "stdout",
     "output_type": "stream",
     "text": [
      "ISIC 2018 Images:\t 10015\n",
      "ISIC 2020 Images:\t 33126\n",
      "Stanford Diverse Images:\t 659\n"
     ]
    }
   ],
   "source": [
    "# Check to make sure we're seeing all of the images in train\n",
    "print('ISIC 2018 Images:\\t', len(os.listdir(data_dir + ISIC_2018_path)))\n",
    "print('ISIC 2020 Images:\\t', len(os.listdir(data_dir + ISIC_2020_path)))\n",
    "print('Stanford Diverse Images:\\t', len(os.listdir(data_dir + stanford_path)))\n",
    "# print('Dermnet Images:\\t', len(os.listdir(data_dir + dermnet_path_train)) + len(os.listdir(data_dir + dermnet_path_test)))"
   ]
  },
  {
   "cell_type": "code",
   "execution_count": null,
   "metadata": {
    "colab": {
     "base_uri": "https://localhost:8080/"
    },
    "executionInfo": {
     "elapsed": 27454,
     "status": "ok",
     "timestamp": 1664138322366,
     "user": {
      "displayName": "Gerrit Lensink",
      "userId": "03001139976263396963"
     },
     "user_tz": 420
    },
    "id": "WKraKt6cgO8-",
    "outputId": "dad50eaa-4d0e-4b08-cf1c-77f21d7b4325"
   },
   "outputs": [
    {
     "name": "stdout",
     "output_type": "stream",
     "text": [
      "10015 33126 656 19559\n"
     ]
    }
   ],
   "source": [
    "# Get a list of all image paths\n",
    "ISIC_2018_images = glob(os.path.join(data_dir+ISIC_2018_path, '*'+exts['ISIC']))\n",
    "ISIC_2020_images = glob(os.path.join(data_dir+ISIC_2020_path, '*'+exts['ISIC']))\n",
    "stanford_images = glob(os.path.join(data_dir+stanford_path, '*'+exts['stanford']))\n",
    "dermnet_images = glob(os.path.join(data_dir+dermnet_path, '*', '*', '*'+exts['dermnet'])) # one level deeper since train and test are separate\n",
    "print(len(ISIC_2018_images), len(ISIC_2020_images), len(stanford_images), len(dermnet_images))    # make sure they're the right length"
   ]
  },
  {
   "cell_type": "markdown",
   "metadata": {
    "id": "EMZryPqvw4s3"
   },
   "source": [
    "#### Metadata\n",
    "\n",
    "Now, load metadata. We're interested in the: \n",
    "- image ID\n",
    "- diagnosis\n",
    "- severity (if noted)\n",
    "- source\n",
    "\n",
    "Notice each of the DFs has an image_id-like column. \n",
    "- ISIC  formats the ID as \"ISIC_\" with 7 digits trailing, without an extension, front-padding with 0's. \n",
    "- Stanford formats the ID as a 6 digit ID with '.png' extension, front-padding with 0's.\n",
    "    - Because of this, will remove the extension below for consistency\n",
    "- Dermnet..."
   ]
  },
  {
   "cell_type": "code",
   "execution_count": null,
   "metadata": {
    "colab": {
     "base_uri": "https://localhost:8080/"
    },
    "executionInfo": {
     "elapsed": 1329,
     "status": "ok",
     "timestamp": 1664138323683,
     "user": {
      "displayName": "Gerrit Lensink",
      "userId": "03001139976263396963"
     },
     "user_tz": 420
    },
    "id": "DmdgXwUdgL8A",
    "outputId": "51ed41f1-aa53-4182-dab8-5ee4b35be356"
   },
   "outputs": [
    {
     "name": "stderr",
     "output_type": "stream",
     "text": [
      "/usr/local/lib/python3.7/dist-packages/ipykernel_launcher.py:31: FutureWarning: The default value of regex will change from True to False in a future version.\n"
     ]
    }
   ],
   "source": [
    "# ISIC_2018\n",
    "ISIC_2018_meta = pd.read_csv(data_dir + 'ISIC_2018/Train/HAM10000_metadata.csv')\n",
    "ISIC_2018 = ISIC_2018_meta[['image_id', \n",
    "                            'dx', \n",
    "                            'age', \n",
    "                            'sex', \n",
    "                            'localization']\n",
    "                           ].rename(columns = \n",
    "                                            {'dx': 'diagnosis'})\n",
    "ISIC_2018['source'] = 'ISIC_2018'\n",
    "\n",
    "# ISIC_2020\n",
    "ISIC_2020_meta = pd.read_csv(data_dir + 'ISIC_2020/train.csv')\n",
    "ISIC_2020 = ISIC_2020_meta[['image_name', \n",
    "                            'diagnosis', \n",
    "                            'benign_malignant', \n",
    "                            'age_approx', \n",
    "                            'sex', \n",
    "                            'anatom_site_general_challenge']\n",
    "                           ].rename(columns = \n",
    "                                            {'image_name': 'image_id', \n",
    "                                            'benign_malignant':'severity', \n",
    "                                            'age_approx':'age', \n",
    "                                            'anatom_site_general_challenge':'localization'})\n",
    "ISIC_2020['source'] = 'ISIC_2020'\n",
    "\n",
    "# stanford_diverse\n",
    "stanford_meta = pd.read_csv(data_dir + stanford_path + 'ddi_metadata.csv')\n",
    "stanford = stanford_meta[['DDI_file', 'disease', 'malignant']].rename(columns = {'DDI_file': 'image_id', 'disease':'diagnosis','malignant':'severity'})\n",
    "stanford['source'] = 'stanford_diverse'\n",
    "stanford['image_id'] = stanford['image_id'].str.replace('.png', '') # For consistency? \n",
    "stanford['severity'] = stanford['severity'].map({True:'malignant', False:'benign'})\n",
    "\n",
    "# Dermnet - no metadata, so create it mimicing above\n",
    "image_id = [os.path.splitext(os.path.basename(i))[0] for i in dermnet_images]\n",
    "diagnosis = [PurePath(i).parent.name for i in dermnet_images]\n",
    "dermnet = pd.DataFrame(zip(image_id, diagnosis), columns = ['image_id', 'diagnosis'])\n",
    "dermnet['source'] = 'dermnet'"
   ]
  },
  {
   "cell_type": "code",
   "execution_count": null,
   "metadata": {
    "colab": {
     "base_uri": "https://localhost:8080/"
    },
    "executionInfo": {
     "elapsed": 7,
     "status": "ok",
     "timestamp": 1664138323684,
     "user": {
      "displayName": "Gerrit Lensink",
      "userId": "03001139976263396963"
     },
     "user_tz": 420
    },
    "id": "wzSlKtWqwNmm",
    "outputId": "d5649ccb-c884-43ea-9214-e61ac49e0095"
   },
   "outputs": [
    {
     "data": {
      "text/plain": [
       "9"
      ]
     },
     "execution_count": 8,
     "metadata": {},
     "output_type": "execute_result"
    }
   ],
   "source": [
    "len(ISIC_2020.diagnosis.unique())"
   ]
  },
  {
   "cell_type": "markdown",
   "metadata": {
    "id": "OTfwowd_n3C6"
   },
   "source": [
    "### Concatenate all of the data into a single DF"
   ]
  },
  {
   "cell_type": "code",
   "execution_count": null,
   "metadata": {
    "id": "bAdAdp19yGsw"
   },
   "outputs": [],
   "source": [
    "full_data = pd.concat([ISIC_2018, ISIC_2020, stanford, dermnet])"
   ]
  },
  {
   "cell_type": "markdown",
   "metadata": {
    "id": "xdM2Y6Whn77a"
   },
   "source": [
    "### Next add image paths to metadata\n",
    "\n",
    "First, start by creating a dictionary mapping all image_ids to image paths. Next, map to image_id. "
   ]
  },
  {
   "cell_type": "code",
   "execution_count": null,
   "metadata": {
    "id": "WXnt3_RfgRJV"
   },
   "outputs": [],
   "source": [
    "# # Split the path up to grab image ID from all paths\n",
    "# # Create a dictionary mapping Image ID to Path\n",
    "all_paths = ISIC_2018_images + ISIC_2020_images + stanford_images + dermnet_images\n",
    "imageid_path_dict = {os.path.splitext(os.path.basename(x))[0]: x for x in all_paths}\n",
    "\n",
    "full_data['path'] = full_data['image_id'].map(imageid_path_dict)"
   ]
  },
  {
   "cell_type": "markdown",
   "metadata": {
    "id": "IHxf_4fsC5gJ"
   },
   "source": [
    "Last thing to do is map the lesion type for ISIC 2018 to "
   ]
  },
  {
   "cell_type": "code",
   "execution_count": null,
   "metadata": {
    "id": "P3Iiws5aCwD-"
   },
   "outputs": [],
   "source": [
    "# Map the lesion code to Full diagnosis name\n",
    "lesion_type_dict = {\n",
    "    'nv': 'Melanocytic nevi',\n",
    "    'mel': 'dermatofibroma',\n",
    "    'bkl': 'Benign keratosis-like lesions ',\n",
    "    'bcc': 'Basal cell carcinoma',\n",
    "    'akiec': 'Actinic keratoses',\n",
    "    'vasc': 'Vascular lesions',\n",
    "    'df': 'Dermatofibroma'\n",
    "}\n",
    "\n",
    "full_data['diagnosis'] = full_data['diagnosis'].replace(lesion_type_dict) # replace instead of map to retain orig values"
   ]
  },
  {
   "cell_type": "code",
   "execution_count": null,
   "metadata": {
    "id": "f5g2iMrvsaVq"
   },
   "outputs": [],
   "source": [
    "# for col in full_data.columns: \n",
    "#     print(col, full_data[col].isnull().sum())"
   ]
  },
  {
   "cell_type": "markdown",
   "metadata": {
    "id": "_vlle3W0Dhyi"
   },
   "source": [
    "### Create Data dictionary\n",
    "\n",
    "We'd like to have our dictionary have the following attributes: \n",
    "- Diagnosis Name\n",
    "- Source - which of the 4 datasets\n",
    "- Count of image IDs - will help understand if we have enough data\n",
    "- Severity - Malignant vs. Benign\n",
    "\n",
    "We can easily get the first three attributes with a groupby, counting the number of image IDs. \n",
    "\n",
    "Note: \n",
    "1. Not all of the diagnosis have severity data connected to them. \n",
    "2. Some diagnosis appear in different datasets, so we need to make sure the severity is the same, when represented. "
   ]
  },
  {
   "cell_type": "code",
   "execution_count": null,
   "metadata": {
    "id": "xKE8c5_DsvGo"
   },
   "outputs": [],
   "source": [
    "# Group by diagnosis and source, only taking the image_id column\n",
    "full_data_csv = full_data.groupby(by = ['diagnosis', 'source'])\\\n",
    "                         .count()\\\n",
    "                         .sort_values(by = 'image_id', ascending = False)[['image_id']]\\\n",
    "                         .reset_index()\n",
    "\n",
    "# make all of the diagnosis lowercase, in case there are duplicates\n",
    "full_data_csv['diagnosis'] = full_data_csv['diagnosis'].str.lower()"
   ]
  },
  {
   "cell_type": "markdown",
   "metadata": {
    "id": "iix-KRH2tNeq"
   },
   "source": [
    "Now to add in severity, we are going to have to join data, since we lost it when we aggregated with count. \n",
    "\n",
    "To do this, we can create a table grouping diagnosis and severity. "
   ]
  },
  {
   "cell_type": "code",
   "execution_count": null,
   "metadata": {
    "id": "LPirQ71rKr1R"
   },
   "outputs": [],
   "source": [
    "diagnosis_severity = full_data.groupby(['diagnosis', 'severity']).count()['image_id'].reset_index()[['diagnosis', 'severity']]\n",
    "diagnosis_severity['diagnosis'] = diagnosis_severity['diagnosis'].str.lower()"
   ]
  },
  {
   "cell_type": "markdown",
   "metadata": {
    "id": "TTOHQlBhuJ1d"
   },
   "source": [
    "We can see that at least one of these diagnoses is over-represented with two severity levels. "
   ]
  },
  {
   "cell_type": "code",
   "execution_count": null,
   "metadata": {
    "colab": {
     "base_uri": "https://localhost:8080/"
    },
    "executionInfo": {
     "elapsed": 203,
     "status": "ok",
     "timestamp": 1664138324118,
     "user": {
      "displayName": "Gerrit Lensink",
      "userId": "03001139976263396963"
     },
     "user_tz": 420
    },
    "id": "3KgfsNXwtda_",
    "outputId": "09aa7fa3-c77d-498c-e889-4eb206ecc108"
   },
   "outputs": [
    {
     "name": "stdout",
     "output_type": "stream",
     "text": [
      "Number of diagnosis with severity: 86\n",
      "Number of diagnosis without severity: 30\n",
      "Total diagnosis: 115\n"
     ]
    }
   ],
   "source": [
    "print('Number of diagnosis with severity:', len(diagnosis_severity))\n",
    "print('Number of diagnosis without severity:', len(full_data[full_data['severity'].isnull()]['diagnosis'].unique()))\n",
    "print('Total diagnosis:', len(full_data['diagnosis'].unique()))"
   ]
  },
  {
   "cell_type": "markdown",
   "metadata": {
    "id": "lMkopjWAuSy5"
   },
   "source": [
    "If we were to merge the data, we would see melanoma and dermatofibroma have 2 severity representations, which is a problem. "
   ]
  },
  {
   "cell_type": "code",
   "execution_count": null,
   "metadata": {
    "colab": {
     "base_uri": "https://localhost:8080/"
    },
    "executionInfo": {
     "elapsed": 17,
     "status": "ok",
     "timestamp": 1664138324119,
     "user": {
      "displayName": "Gerrit Lensink",
      "userId": "03001139976263396963"
     },
     "user_tz": 420
    },
    "id": "Pd3wsDXwHILE",
    "outputId": "1e11b366-6133-4920-b630-b70e31182f71"
   },
   "outputs": [
    {
     "data": {
      "text/plain": [
       "dermatofibroma                         3\n",
       "melanoma                               2\n",
       "unknown                                1\n",
       "syringocystadenoma-papilliferum        1\n",
       "lichenoid-keratosis                    1\n",
       "                                      ..\n",
       "verruca-vulgaris                       1\n",
       "seborrheic-keratosis                   1\n",
       "melanocytic-nevi                       1\n",
       "seborrheic keratosis                   1\n",
       "atypical-spindle-cell-nevus-of-reed    1\n",
       "Name: diagnosis, Length: 114, dtype: int64"
      ]
     },
     "execution_count": 16,
     "metadata": {},
     "output_type": "execute_result"
    }
   ],
   "source": [
    "full_data_csv.merge(diagnosis_severity, on='diagnosis', how = 'left')['diagnosis'].value_counts()"
   ]
  },
  {
   "cell_type": "markdown",
   "metadata": {
    "id": "OGfaVmMXOd8F"
   },
   "source": [
    "Make sure the duplicates are NAs. They only show up with one, so the other is NaN. this is not an issue then, as they won't join and cause duplicates. "
   ]
  },
  {
   "cell_type": "code",
   "execution_count": null,
   "metadata": {
    "colab": {
     "base_uri": "https://localhost:8080/"
    },
    "executionInfo": {
     "elapsed": 15,
     "status": "ok",
     "timestamp": 1664138324119,
     "user": {
      "displayName": "Gerrit Lensink",
      "userId": "03001139976263396963"
     },
     "user_tz": 420
    },
    "id": "94KQzQjcNeCY",
    "outputId": "2fc2f3ae-353c-4a6f-d6db-a6921b92b44a"
   },
   "outputs": [
    {
     "data": {
      "text/plain": [
       "diagnosis       severity \n",
       "dermatofibroma  benign        22\n",
       "melanoma        malignant    591\n",
       "Name: severity, dtype: int64"
      ]
     },
     "execution_count": 17,
     "metadata": {},
     "output_type": "execute_result"
    }
   ],
   "source": [
    "full_data[(full_data['diagnosis'] == 'melanoma') | (full_data['diagnosis'] == 'dermatofibroma')].groupby('diagnosis')['severity'].value_counts()"
   ]
  },
  {
   "cell_type": "markdown",
   "metadata": {
    "id": "jsXbI738r-mc"
   },
   "source": [
    "Finally, write the data to a csv to start a data dictionary, first merging our severity in, so we have those for each diagnosis. "
   ]
  },
  {
   "cell_type": "code",
   "execution_count": null,
   "metadata": {
    "id": "5Ynsxp4K__3j"
   },
   "outputs": [],
   "source": [
    "full_data_csv = full_data_csv.merge(diagnosis_severity, on='diagnosis', how = 'left')\n",
    "full_data_csv.to_csv(data_dir + 'data_dictionary_baseline.csv')"
   ]
  },
  {
   "cell_type": "markdown",
   "metadata": {
    "id": "UxaTwKR7ZRAm"
   },
   "source": [
    "Let's also write the metadata + paths to a CSV so we don't have to re-run this code to access the df."
   ]
  },
  {
   "cell_type": "code",
   "execution_count": null,
   "metadata": {
    "id": "fITkP1zPZYfg"
   },
   "outputs": [],
   "source": [
    "full_data.to_csv(data_dir + 'full_data.csv')"
   ]
  },
  {
   "cell_type": "code",
   "execution_count": null,
   "metadata": {
    "colab": {
     "base_uri": "https://localhost:8080/"
    },
    "executionInfo": {
     "elapsed": 13,
     "status": "ok",
     "timestamp": 1664410316836,
     "user": {
      "displayName": "Gerrit Lensink",
      "userId": "03001139976263396963"
     },
     "user_tz": 420
    },
    "id": "CSoTs1d8ld7w",
    "outputId": "c8d42cb7-0669-4d63-8c45-734466696b91"
   },
   "outputs": [
    {
     "name": "stdout",
     "output_type": "stream",
     "text": [
      "\u001b[0m\u001b[01;34msample_data\u001b[0m/\n"
     ]
    }
   ],
   "source": [
    "%ls"
   ]
  },
  {
   "cell_type": "code",
   "execution_count": 80,
   "metadata": {
    "executionInfo": {
     "elapsed": 428,
     "status": "ok",
     "timestamp": 1664660264797,
     "user": {
      "displayName": "Gerrit Lensink",
      "userId": "14030898330788478401"
     },
     "user_tz": 420
    },
    "id": "r2TXVTWGlQFU"
   },
   "outputs": [],
   "source": [
    "full_data = pd.read_csv(data_dir + 'full_data.csv', index_col = 0)"
   ]
  },
  {
   "cell_type": "code",
   "execution_count": null,
   "metadata": {
    "id": "cKfE7kKcmCS1"
   },
   "outputs": [],
   "source": [
    "class_dict = pd.read_csv(data_dir + 'data_dictionary.csv', index_col = 0)"
   ]
  },
  {
   "cell_type": "code",
   "execution_count": null,
   "metadata": {
    "colab": {
     "base_uri": "https://localhost:8080/",
     "height": 650
    },
    "executionInfo": {
     "elapsed": 5,
     "status": "ok",
     "timestamp": 1664410511763,
     "user": {
      "displayName": "Gerrit Lensink",
      "userId": "03001139976263396963"
     },
     "user_tz": 420
    },
    "id": "kziroSpGmK7K",
    "outputId": "fbee6e4b-6dda-42d8-91de-7faceead78f0"
   },
   "outputs": [
    {
     "data": {
      "text/html": [
       "\n",
       "  <div id=\"df-5ab40e90-7ead-406e-b416-456605e7d802\">\n",
       "    <div class=\"colab-df-container\">\n",
       "      <div>\n",
       "<style scoped>\n",
       "    .dataframe tbody tr th:only-of-type {\n",
       "        vertical-align: middle;\n",
       "    }\n",
       "\n",
       "    .dataframe tbody tr th {\n",
       "        vertical-align: top;\n",
       "    }\n",
       "\n",
       "    .dataframe thead th {\n",
       "        text-align: right;\n",
       "    }\n",
       "</style>\n",
       "<table border=\"1\" class=\"dataframe\">\n",
       "  <thead>\n",
       "    <tr style=\"text-align: right;\">\n",
       "      <th></th>\n",
       "      <th>diagnosis</th>\n",
       "      <th>grouping_1</th>\n",
       "      <th>action</th>\n",
       "      <th>grouping_2</th>\n",
       "      <th>source</th>\n",
       "      <th>image_id</th>\n",
       "      <th>severity</th>\n",
       "      <th>severity source</th>\n",
       "      <th>% Representation</th>\n",
       "      <th>Keep? \\nY = Yes, M = Maybe, N = No</th>\n",
       "      <th>Removal Note</th>\n",
       "      <th>Similar to</th>\n",
       "      <th>Notes</th>\n",
       "      <th>Researcher (GJ or GL)</th>\n",
       "    </tr>\n",
       "  </thead>\n",
       "  <tbody>\n",
       "    <tr>\n",
       "      <th>19</th>\n",
       "      <td>bullous disease photos</td>\n",
       "      <td>Autoimmue Disorder</td>\n",
       "      <td>See doctor</td>\n",
       "      <td>no cancer risk</td>\n",
       "      <td>dermnet</td>\n",
       "      <td>561</td>\n",
       "      <td>benign</td>\n",
       "      <td>research</td>\n",
       "      <td>1%</td>\n",
       "      <td>N</td>\n",
       "      <td>Small sample, no similar conditions</td>\n",
       "      <td>NaN</td>\n",
       "      <td>No similar category</td>\n",
       "      <td>Gerrit and George</td>\n",
       "    </tr>\n",
       "    <tr>\n",
       "      <th>22</th>\n",
       "      <td>vasculitis photos</td>\n",
       "      <td>Autoimmue Disorder</td>\n",
       "      <td>See doctor</td>\n",
       "      <td>no cancer risk</td>\n",
       "      <td>dermnet</td>\n",
       "      <td>521</td>\n",
       "      <td>benign</td>\n",
       "      <td>research</td>\n",
       "      <td>1%</td>\n",
       "      <td>M</td>\n",
       "      <td>NaN</td>\n",
       "      <td>31?</td>\n",
       "      <td>See if these look similar</td>\n",
       "      <td>Gerrit and George</td>\n",
       "    </tr>\n",
       "    <tr>\n",
       "      <th>84</th>\n",
       "      <td>foreign-body-granuloma</td>\n",
       "      <td>Autoimmue Disorder</td>\n",
       "      <td>See doctor</td>\n",
       "      <td>no cancer risk</td>\n",
       "      <td>stanford_diverse</td>\n",
       "      <td>2</td>\n",
       "      <td>benign</td>\n",
       "      <td>data</td>\n",
       "      <td>0%</td>\n",
       "      <td>N</td>\n",
       "      <td>Small sample, no similar conditions</td>\n",
       "      <td>NaN</td>\n",
       "      <td>NaN</td>\n",
       "      <td>George</td>\n",
       "    </tr>\n",
       "    <tr>\n",
       "      <th>82</th>\n",
       "      <td>graft-vs-host-disease</td>\n",
       "      <td>Autoimmue Disorder</td>\n",
       "      <td>See doctor</td>\n",
       "      <td>no cancer risk</td>\n",
       "      <td>stanford_diverse</td>\n",
       "      <td>2</td>\n",
       "      <td>benign</td>\n",
       "      <td>data</td>\n",
       "      <td>0%</td>\n",
       "      <td>N</td>\n",
       "      <td>Small sample, no similar conditions</td>\n",
       "      <td>NaN</td>\n",
       "      <td>NaN</td>\n",
       "      <td>George</td>\n",
       "    </tr>\n",
       "    <tr>\n",
       "      <th>99</th>\n",
       "      <td>dermatomyositis</td>\n",
       "      <td>Autoimmue Disorder</td>\n",
       "      <td>See doctor</td>\n",
       "      <td>no cancer risk</td>\n",
       "      <td>stanford_diverse</td>\n",
       "      <td>1</td>\n",
       "      <td>benign</td>\n",
       "      <td>data</td>\n",
       "      <td>0%</td>\n",
       "      <td>N</td>\n",
       "      <td>Small sample, no similar conditions</td>\n",
       "      <td>NaN</td>\n",
       "      <td>NaN</td>\n",
       "      <td>George</td>\n",
       "    </tr>\n",
       "    <tr>\n",
       "      <th>...</th>\n",
       "      <td>...</td>\n",
       "      <td>...</td>\n",
       "      <td>...</td>\n",
       "      <td>...</td>\n",
       "      <td>...</td>\n",
       "      <td>...</td>\n",
       "      <td>...</td>\n",
       "      <td>...</td>\n",
       "      <td>...</td>\n",
       "      <td>...</td>\n",
       "      <td>...</td>\n",
       "      <td>...</td>\n",
       "      <td>...</td>\n",
       "      <td>...</td>\n",
       "    </tr>\n",
       "    <tr>\n",
       "      <th>13</th>\n",
       "      <td>systemic disease</td>\n",
       "      <td>Unclassified</td>\n",
       "      <td>See Doctor</td>\n",
       "      <td>no cancer risk</td>\n",
       "      <td>dermnet</td>\n",
       "      <td>758</td>\n",
       "      <td>benign</td>\n",
       "      <td>research</td>\n",
       "      <td>1%</td>\n",
       "      <td>N</td>\n",
       "      <td>It can cause many different skin conditions</td>\n",
       "      <td>15</td>\n",
       "      <td>It is skin diseases caused by non-skin systemi...</td>\n",
       "      <td>George</td>\n",
       "    </tr>\n",
       "    <tr>\n",
       "      <th>21</th>\n",
       "      <td>lupus and other connective tissue diseases</td>\n",
       "      <td>Unclassified</td>\n",
       "      <td>See Doctor</td>\n",
       "      <td>no cancer risk</td>\n",
       "      <td>dermnet</td>\n",
       "      <td>525</td>\n",
       "      <td>benign</td>\n",
       "      <td>research</td>\n",
       "      <td>1%</td>\n",
       "      <td>N</td>\n",
       "      <td>It can cause many different skin conditions</td>\n",
       "      <td>NaN</td>\n",
       "      <td>NaN</td>\n",
       "      <td>George</td>\n",
       "    </tr>\n",
       "    <tr>\n",
       "      <th>108</th>\n",
       "      <td>blastic-plasmacytoid-dendritic-cell-neoplasm</td>\n",
       "      <td>Unclassified</td>\n",
       "      <td>See Doctor</td>\n",
       "      <td>malignant</td>\n",
       "      <td>stanford_diverse</td>\n",
       "      <td>1</td>\n",
       "      <td>malignant</td>\n",
       "      <td>data</td>\n",
       "      <td>0%</td>\n",
       "      <td>N</td>\n",
       "      <td>Small sample, no similar conditions</td>\n",
       "      <td>NaN</td>\n",
       "      <td>NaN</td>\n",
       "      <td>Gerrit and George</td>\n",
       "    </tr>\n",
       "    <tr>\n",
       "      <th>90</th>\n",
       "      <td>leukemia-cutis</td>\n",
       "      <td>Unclassified</td>\n",
       "      <td>See Doctor</td>\n",
       "      <td>malignant</td>\n",
       "      <td>stanford_diverse</td>\n",
       "      <td>1</td>\n",
       "      <td>malignant</td>\n",
       "      <td>data</td>\n",
       "      <td>0%</td>\n",
       "      <td>N</td>\n",
       "      <td>Small sample, no similar conditions</td>\n",
       "      <td>NaN</td>\n",
       "      <td>NaN</td>\n",
       "      <td>Gerrit and George</td>\n",
       "    </tr>\n",
       "    <tr>\n",
       "      <th>0</th>\n",
       "      <td>unknown</td>\n",
       "      <td>Unclassified</td>\n",
       "      <td>See Doctor</td>\n",
       "      <td>no cancer risk</td>\n",
       "      <td>ISIC_2020</td>\n",
       "      <td>27124</td>\n",
       "      <td>benign</td>\n",
       "      <td>data</td>\n",
       "      <td>43%</td>\n",
       "      <td>M</td>\n",
       "      <td>NaN</td>\n",
       "      <td>NaN</td>\n",
       "      <td>Need to look into what this means</td>\n",
       "      <td>Gerrit and George</td>\n",
       "    </tr>\n",
       "  </tbody>\n",
       "</table>\n",
       "<p>117 rows × 14 columns</p>\n",
       "</div>\n",
       "      <button class=\"colab-df-convert\" onclick=\"convertToInteractive('df-5ab40e90-7ead-406e-b416-456605e7d802')\"\n",
       "              title=\"Convert this dataframe to an interactive table.\"\n",
       "              style=\"display:none;\">\n",
       "        \n",
       "  <svg xmlns=\"http://www.w3.org/2000/svg\" height=\"24px\"viewBox=\"0 0 24 24\"\n",
       "       width=\"24px\">\n",
       "    <path d=\"M0 0h24v24H0V0z\" fill=\"none\"/>\n",
       "    <path d=\"M18.56 5.44l.94 2.06.94-2.06 2.06-.94-2.06-.94-.94-2.06-.94 2.06-2.06.94zm-11 1L8.5 8.5l.94-2.06 2.06-.94-2.06-.94L8.5 2.5l-.94 2.06-2.06.94zm10 10l.94 2.06.94-2.06 2.06-.94-2.06-.94-.94-2.06-.94 2.06-2.06.94z\"/><path d=\"M17.41 7.96l-1.37-1.37c-.4-.4-.92-.59-1.43-.59-.52 0-1.04.2-1.43.59L10.3 9.45l-7.72 7.72c-.78.78-.78 2.05 0 2.83L4 21.41c.39.39.9.59 1.41.59.51 0 1.02-.2 1.41-.59l7.78-7.78 2.81-2.81c.8-.78.8-2.07 0-2.86zM5.41 20L4 18.59l7.72-7.72 1.47 1.35L5.41 20z\"/>\n",
       "  </svg>\n",
       "      </button>\n",
       "      \n",
       "  <style>\n",
       "    .colab-df-container {\n",
       "      display:flex;\n",
       "      flex-wrap:wrap;\n",
       "      gap: 12px;\n",
       "    }\n",
       "\n",
       "    .colab-df-convert {\n",
       "      background-color: #E8F0FE;\n",
       "      border: none;\n",
       "      border-radius: 50%;\n",
       "      cursor: pointer;\n",
       "      display: none;\n",
       "      fill: #1967D2;\n",
       "      height: 32px;\n",
       "      padding: 0 0 0 0;\n",
       "      width: 32px;\n",
       "    }\n",
       "\n",
       "    .colab-df-convert:hover {\n",
       "      background-color: #E2EBFA;\n",
       "      box-shadow: 0px 1px 2px rgba(60, 64, 67, 0.3), 0px 1px 3px 1px rgba(60, 64, 67, 0.15);\n",
       "      fill: #174EA6;\n",
       "    }\n",
       "\n",
       "    [theme=dark] .colab-df-convert {\n",
       "      background-color: #3B4455;\n",
       "      fill: #D2E3FC;\n",
       "    }\n",
       "\n",
       "    [theme=dark] .colab-df-convert:hover {\n",
       "      background-color: #434B5C;\n",
       "      box-shadow: 0px 1px 3px 1px rgba(0, 0, 0, 0.15);\n",
       "      filter: drop-shadow(0px 1px 2px rgba(0, 0, 0, 0.3));\n",
       "      fill: #FFFFFF;\n",
       "    }\n",
       "  </style>\n",
       "\n",
       "      <script>\n",
       "        const buttonEl =\n",
       "          document.querySelector('#df-5ab40e90-7ead-406e-b416-456605e7d802 button.colab-df-convert');\n",
       "        buttonEl.style.display =\n",
       "          google.colab.kernel.accessAllowed ? 'block' : 'none';\n",
       "\n",
       "        async function convertToInteractive(key) {\n",
       "          const element = document.querySelector('#df-5ab40e90-7ead-406e-b416-456605e7d802');\n",
       "          const dataTable =\n",
       "            await google.colab.kernel.invokeFunction('convertToInteractive',\n",
       "                                                     [key], {});\n",
       "          if (!dataTable) return;\n",
       "\n",
       "          const docLinkHtml = 'Like what you see? Visit the ' +\n",
       "            '<a target=\"_blank\" href=https://colab.research.google.com/notebooks/data_table.ipynb>data table notebook</a>'\n",
       "            + ' to learn more about interactive tables.';\n",
       "          element.innerHTML = '';\n",
       "          dataTable['output_type'] = 'display_data';\n",
       "          await google.colab.output.renderOutput(dataTable, element);\n",
       "          const docLink = document.createElement('div');\n",
       "          docLink.innerHTML = docLinkHtml;\n",
       "          element.appendChild(docLink);\n",
       "        }\n",
       "      </script>\n",
       "    </div>\n",
       "  </div>\n",
       "  "
      ],
      "text/plain": [
       "                                        diagnosis          grouping_1  \\\n",
       "19                         bullous disease photos  Autoimmue Disorder   \n",
       "22                              vasculitis photos  Autoimmue Disorder   \n",
       "84                         foreign-body-granuloma  Autoimmue Disorder   \n",
       "82                          graft-vs-host-disease  Autoimmue Disorder   \n",
       "99                                dermatomyositis  Autoimmue Disorder   \n",
       "..                                            ...                 ...   \n",
       "13                               systemic disease        Unclassified   \n",
       "21     lupus and other connective tissue diseases        Unclassified   \n",
       "108  blastic-plasmacytoid-dendritic-cell-neoplasm        Unclassified   \n",
       "90                                 leukemia-cutis        Unclassified   \n",
       "0                                         unknown        Unclassified   \n",
       "\n",
       "         action      grouping_2            source  image_id   severity  \\\n",
       "19   See doctor  no cancer risk           dermnet       561     benign   \n",
       "22   See doctor  no cancer risk           dermnet       521     benign   \n",
       "84   See doctor  no cancer risk  stanford_diverse         2     benign   \n",
       "82   See doctor  no cancer risk  stanford_diverse         2     benign   \n",
       "99   See doctor  no cancer risk  stanford_diverse         1     benign   \n",
       "..          ...             ...               ...       ...        ...   \n",
       "13   See Doctor  no cancer risk           dermnet       758     benign   \n",
       "21   See Doctor  no cancer risk           dermnet       525     benign   \n",
       "108  See Doctor       malignant  stanford_diverse         1  malignant   \n",
       "90   See Doctor       malignant  stanford_diverse         1  malignant   \n",
       "0    See Doctor  no cancer risk         ISIC_2020     27124     benign   \n",
       "\n",
       "    severity source % Representation Keep? \\nY = Yes, M = Maybe, N = No  \\\n",
       "19         research               1%                                  N   \n",
       "22         research               1%                                  M   \n",
       "84             data               0%                                  N   \n",
       "82             data               0%                                  N   \n",
       "99             data               0%                                  N   \n",
       "..              ...              ...                                ...   \n",
       "13         research               1%                                  N   \n",
       "21         research               1%                                  N   \n",
       "108            data               0%                                  N   \n",
       "90             data               0%                                  N   \n",
       "0              data              43%                                  M   \n",
       "\n",
       "                                    Removal Note Similar to  \\\n",
       "19           Small sample, no similar conditions        NaN   \n",
       "22                                           NaN        31?   \n",
       "84           Small sample, no similar conditions        NaN   \n",
       "82           Small sample, no similar conditions        NaN   \n",
       "99           Small sample, no similar conditions        NaN   \n",
       "..                                           ...        ...   \n",
       "13   It can cause many different skin conditions         15   \n",
       "21   It can cause many different skin conditions        NaN   \n",
       "108          Small sample, no similar conditions        NaN   \n",
       "90           Small sample, no similar conditions        NaN   \n",
       "0                                            NaN        NaN   \n",
       "\n",
       "                                                 Notes Researcher (GJ or GL)  \n",
       "19                                 No similar category     Gerrit and George  \n",
       "22                           See if these look similar     Gerrit and George  \n",
       "84                                                 NaN                George  \n",
       "82                                                 NaN                George  \n",
       "99                                                 NaN                George  \n",
       "..                                                 ...                   ...  \n",
       "13   It is skin diseases caused by non-skin systemi...                George  \n",
       "21                                                 NaN                George  \n",
       "108                                                NaN     Gerrit and George  \n",
       "90                                                 NaN     Gerrit and George  \n",
       "0                    Need to look into what this means     Gerrit and George  \n",
       "\n",
       "[117 rows x 14 columns]"
      ]
     },
     "execution_count": 14,
     "metadata": {},
     "output_type": "execute_result"
    }
   ],
   "source": [
    "class_dict"
   ]
  },
  {
   "cell_type": "markdown",
   "metadata": {
    "id": "SiKMXGYCIVzH"
   },
   "source": [
    "### Duplicates\n",
    "\n",
    "From EDA, we know that there are two types of duplicate image_ids: \n",
    "1. image_ids where the assigned class is the same. \n",
    "2. image_ids where the assigned class is not the same. \n",
    "\n",
    "The second of these two types is problematic - how can we expect to train a model where one image has two different types of classes? To deal with this - we add a new column that denotes these two types of duplicates so we can filter them out where needed, before modeling. \n",
    "\n",
    "First, mapping true duplicates - case 1"
   ]
  },
  {
   "cell_type": "code",
   "execution_count": 41,
   "metadata": {
    "executionInfo": {
     "elapsed": 445,
     "status": "ok",
     "timestamp": 1664658299903,
     "user": {
      "displayName": "Gerrit Lensink",
      "userId": "14030898330788478401"
     },
     "user_tz": 420
    },
    "id": "eK1tZI35VUwy"
   },
   "outputs": [],
   "source": [
    "# full_data['duplicated'] = np.where(full_data['image_id'].isin(duplicates), 'true duplicate', 'No')"
   ]
  },
  {
   "cell_type": "markdown",
   "metadata": {
    "id": "0bgTH15nXgca"
   },
   "source": [
    "Next, let's map the problematic duplicates - case 2. From eda we have a list of these - let's pull them in. "
   ]
  },
  {
   "cell_type": "code",
   "execution_count": 82,
   "metadata": {
    "executionInfo": {
     "elapsed": 154,
     "status": "ok",
     "timestamp": 1664660302710,
     "user": {
      "displayName": "Gerrit Lensink",
      "userId": "14030898330788478401"
     },
     "user_tz": 420
    },
    "id": "MSW4D1FZXsCf"
   },
   "outputs": [],
   "source": [
    "problem_dups = pd.read_csv('./Data/problems.csv', index_col = 0)['image_id']\n",
    "full_data['duplicated'] = np.where(full_data['image_id'].isin(problem_dups), True, False)"
   ]
  },
  {
   "cell_type": "markdown",
   "metadata": {
    "id": "nCDV8ISTY7yL"
   },
   "source": [
    "Now we have each of the duplicate groups properly mapped"
   ]
  },
  {
   "cell_type": "code",
   "execution_count": 83,
   "metadata": {
    "colab": {
     "base_uri": "https://localhost:8080/"
    },
    "executionInfo": {
     "elapsed": 157,
     "status": "ok",
     "timestamp": 1664660304854,
     "user": {
      "displayName": "Gerrit Lensink",
      "userId": "14030898330788478401"
     },
     "user_tz": 420
    },
    "id": "3pRDktxDX3h6",
    "outputId": "836d1be5-d9d1-4d57-e032-3a23a487d9dd"
   },
   "outputs": [
    {
     "data": {
      "text/plain": [
       "False    62360\n",
       "True       591\n",
       "Name: duplicated, dtype: int64"
      ]
     },
     "execution_count": 83,
     "metadata": {},
     "output_type": "execute_result"
    }
   ],
   "source": [
    "full_data['duplicated'].value_counts()"
   ]
  },
  {
   "cell_type": "markdown",
   "metadata": {
    "id": "i-GdOl1mZBOn"
   },
   "source": [
    "Let's remove the true duplicates for ease of modeling. "
   ]
  },
  {
   "cell_type": "code",
   "execution_count": 84,
   "metadata": {
    "colab": {
     "base_uri": "https://localhost:8080/"
    },
    "executionInfo": {
     "elapsed": 199,
     "status": "ok",
     "timestamp": 1664660318103,
     "user": {
      "displayName": "Gerrit Lensink",
      "userId": "14030898330788478401"
     },
     "user_tz": 420
    },
    "id": "a_VEbjW6VKbT",
    "outputId": "6cb2173f-93e2-4ac4-e7a4-4d6b7ee45fcc"
   },
   "outputs": [
    {
     "name": "stdout",
     "output_type": "stream",
     "text": [
      "62951\n",
      "62951\n"
     ]
    }
   ],
   "source": [
    "print(len(full_data))\n",
    "full_data = pd.concat([full_data[full_data['duplicated'] == True],\n",
    "                          full_data[full_data['duplicated'] != True].drop_duplicates(['image_id'], keep = 'first')])\n",
    "print(len(full_data))"
   ]
  },
  {
   "cell_type": "code",
   "execution_count": 85,
   "metadata": {
    "colab": {
     "base_uri": "https://localhost:8080/"
    },
    "executionInfo": {
     "elapsed": 158,
     "status": "ok",
     "timestamp": 1664660320791,
     "user": {
      "displayName": "Gerrit Lensink",
      "userId": "14030898330788478401"
     },
     "user_tz": 420
    },
    "id": "cjPMc2g9a5sI",
    "outputId": "313fa00c-b73d-4d35-b1a9-da691d54481c"
   },
   "outputs": [
    {
     "data": {
      "text/plain": [
       "False    62360\n",
       "True       591\n",
       "Name: duplicated, dtype: int64"
      ]
     },
     "execution_count": 85,
     "metadata": {},
     "output_type": "execute_result"
    }
   ],
   "source": [
    "full_data['duplicated'].value_counts()"
   ]
  },
  {
   "cell_type": "markdown",
   "metadata": {
    "id": "rrVwSWZvd1nW"
   },
   "source": [
    "# Split to Train, Val, Test"
   ]
  },
  {
   "cell_type": "code",
   "execution_count": 129,
   "metadata": {
    "executionInfo": {
     "elapsed": 165,
     "status": "ok",
     "timestamp": 1664661566654,
     "user": {
      "displayName": "Gerrit Lensink",
      "userId": "14030898330788478401"
     },
     "user_tz": 420
    },
    "id": "WL2nTrSpd1U4"
   },
   "outputs": [],
   "source": [
    "# set the splits\n",
    "train_split = .75\n",
    "val_split = .15\n",
    "\n",
    "train_val = train_split + val_split\n",
    "test_split = 1 - train_val\n",
    "\n",
    "adj_train_split = train_split/train_val\n",
    "adj_val_split = val_split/train_val"
   ]
  },
  {
   "cell_type": "code",
   "execution_count": 130,
   "metadata": {
    "executionInfo": {
     "elapsed": 1,
     "status": "ok",
     "timestamp": 1664661567480,
     "user": {
      "displayName": "Gerrit Lensink",
      "userId": "14030898330788478401"
     },
     "user_tz": 420
    },
    "id": "pJ-7mJnCeaz5"
   },
   "outputs": [],
   "source": [
    "unique_data = full_data[full_data['duplicated'] == False]\n"
   ]
  },
  {
   "cell_type": "markdown",
   "metadata": {
    "id": "_wb0Rv8miWwQ"
   },
   "source": [
    "### Test\n",
    "\n",
    "First, randomly sample 10% of all images to be used for true test at end. Not going to stratify these right now as a true random sample will be most representative of our use case. the stratification is not necessarily representative of likelihood of each disease in the real world."
   ]
  },
  {
   "cell_type": "code",
   "execution_count": 131,
   "metadata": {
    "executionInfo": {
     "elapsed": 195,
     "status": "ok",
     "timestamp": 1664661569411,
     "user": {
      "displayName": "Gerrit Lensink",
      "userId": "14030898330788478401"
     },
     "user_tz": 420
    },
    "id": "gym3KFD9fXhb"
   },
   "outputs": [],
   "source": [
    "test_ids = unique_data['image_id']\\\n",
    "          .sample(frac = test_split, \n",
    "                  replace = False, \n",
    "                  random_state = pd_seed)"
   ]
  },
  {
   "cell_type": "code",
   "execution_count": 135,
   "metadata": {
    "colab": {
     "base_uri": "https://localhost:8080/"
    },
    "executionInfo": {
     "elapsed": 173,
     "status": "ok",
     "timestamp": 1664661644704,
     "user": {
      "displayName": "Gerrit Lensink",
      "userId": "14030898330788478401"
     },
     "user_tz": 420
    },
    "id": "c9AaQoaVg-sw",
    "outputId": "4082a397-6f30-4837-adc4-91cc4924aba9"
   },
   "outputs": [
    {
     "name": "stderr",
     "output_type": "stream",
     "text": [
      "/usr/local/lib/python3.7/dist-packages/ipykernel_launcher.py:2: SettingWithCopyWarning: \n",
      "A value is trying to be set on a copy of a slice from a DataFrame.\n",
      "Try using .loc[row_indexer,col_indexer] = value instead\n",
      "\n",
      "See the caveats in the documentation: https://pandas.pydata.org/pandas-docs/stable/user_guide/indexing.html#returning-a-view-versus-a-copy\n",
      "  \n"
     ]
    }
   ],
   "source": [
    "full_data['dataset'] = np.where(full_data['image_id'].isin(test_ids), 'test', 'train')\n",
    "unique_data['dataset'] = np.where(unique_data['image_id'].isin(test_ids), 'test', 'train')"
   ]
  },
  {
   "cell_type": "code",
   "execution_count": 136,
   "metadata": {
    "colab": {
     "base_uri": "https://localhost:8080/"
    },
    "executionInfo": {
     "elapsed": 164,
     "status": "ok",
     "timestamp": 1664661646239,
     "user": {
      "displayName": "Gerrit Lensink",
      "userId": "14030898330788478401"
     },
     "user_tz": 420
    },
    "id": "HIHrvWBzjSE5",
    "outputId": "b860fd81-ecc3-4ef7-f51b-a4c94c090010"
   },
   "outputs": [
    {
     "data": {
      "text/plain": [
       "8175     lupus-chronic-cutaneous-137\n",
       "13824                   ISIC_4243470\n",
       "3147                    ISIC_1045706\n",
       "6414                    ISIC_0025025\n",
       "11811                   ISIC_3636757\n",
       "                    ...             \n",
       "2319                 candida-penis-1\n",
       "27630                   ISIC_8361472\n",
       "1841                 lyme-disease-26\n",
       "32018                   ISIC_9672376\n",
       "8086                  lupus-acute-48\n",
       "Name: image_id, Length: 6236, dtype: object"
      ]
     },
     "execution_count": 136,
     "metadata": {},
     "output_type": "execute_result"
    }
   ],
   "source": [
    "test_ids"
   ]
  },
  {
   "cell_type": "markdown",
   "metadata": {
    "id": "J6kle0ZpiZMx"
   },
   "source": [
    "### Val/Train"
   ]
  },
  {
   "cell_type": "code",
   "execution_count": 137,
   "metadata": {
    "executionInfo": {
     "elapsed": 2,
     "status": "ok",
     "timestamp": 1664661648464,
     "user": {
      "displayName": "Gerrit Lensink",
      "userId": "14030898330788478401"
     },
     "user_tz": 420
    },
    "id": "FlZGiW_piarS"
   },
   "outputs": [],
   "source": [
    "data = unique_data[unique_data['dataset'] == 'train']\n",
    "\n",
    "_, df_val  = train_test_split(data,\n",
    "                              test_size = adj_val_split,\n",
    "                              random_state = pd_seed,\n",
    "                              stratify = data['class'])\n",
    "\n",
    "val_ids = df_val['image_id']"
   ]
  },
  {
   "cell_type": "code",
   "execution_count": null,
   "metadata": {
    "id": "IIBDWPM7k6Xa"
   },
   "outputs": [],
   "source": []
  },
  {
   "cell_type": "code",
   "execution_count": 138,
   "metadata": {
    "executionInfo": {
     "elapsed": 176,
     "status": "ok",
     "timestamp": 1664661650813,
     "user": {
      "displayName": "Gerrit Lensink",
      "userId": "14030898330788478401"
     },
     "user_tz": 420
    },
    "id": "93om52gtjVqU"
   },
   "outputs": [],
   "source": [
    "# Note val\n",
    "full_data['dataset'] = np.where(full_data['image_id'].isin(val_ids), 'val', full_data['dataset'])"
   ]
  },
  {
   "cell_type": "code",
   "execution_count": 142,
   "metadata": {
    "executionInfo": {
     "elapsed": 164,
     "status": "ok",
     "timestamp": 1664661764922,
     "user": {
      "displayName": "Gerrit Lensink",
      "userId": "14030898330788478401"
     },
     "user_tz": 420
    },
    "id": "p-Y7Xldbkj09"
   },
   "outputs": [],
   "source": [
    "# remove train/val/test label when duplicated - won't use these\n",
    "full_data['dataset'] = np.where(full_data['duplicated'] == True, '', full_data['dataset'])"
   ]
  },
  {
   "cell_type": "code",
   "execution_count": 148,
   "metadata": {
    "executionInfo": {
     "elapsed": 2,
     "status": "ok",
     "timestamp": 1664661899253,
     "user": {
      "displayName": "Gerrit Lensink",
      "userId": "14030898330788478401"
     },
     "user_tz": 420
    },
    "id": "0UEXkWrojz_v"
   },
   "outputs": [],
   "source": [
    "# full_data[full_data['duplicated'] == False]['dataset'].value_counts()"
   ]
  },
  {
   "cell_type": "code",
   "execution_count": 150,
   "metadata": {
    "executionInfo": {
     "elapsed": 1149,
     "status": "ok",
     "timestamp": 1664661930722,
     "user": {
      "displayName": "Gerrit Lensink",
      "userId": "14030898330788478401"
     },
     "user_tz": 420
    },
    "id": "Eg3oBJkdboDX"
   },
   "outputs": [],
   "source": [
    "#write back to CSV for modeling ingestion\n",
    "full_data.to_csv('./Data/full_data.csv', index = True)"
   ]
  },
  {
   "cell_type": "markdown",
   "metadata": {
    "id": "m4GZ_tAh1yiw"
   },
   "source": [
    "## During class grouping, can look into this. "
   ]
  },
  {
   "cell_type": "code",
   "execution_count": null,
   "metadata": {
    "id": "xnoU4VS3zRlA"
   },
   "outputs": [],
   "source": [
    "# word_list = full_data_csv.diagnosis.str\\\n",
    "#                                    .cat(sep = ' ')\\\n",
    "#                                    .replace('-', ' ')\\\n",
    "#                                    .split()\n"
   ]
  },
  {
   "cell_type": "code",
   "execution_count": null,
   "metadata": {
    "id": "iyweKBPkzk9A"
   },
   "outputs": [],
   "source": [
    "# pd.set_option('display.max_rows', None)\n",
    "# counts = pd.Series(word_list).value_counts()\n",
    "# counts[counts.values >= 2]\n",
    "# pd.Series(word_list).value_counts()[pd.Series(word_list).value_counts().values >= 2]"
   ]
  },
  {
   "cell_type": "code",
   "execution_count": null,
   "metadata": {
    "colab": {
     "base_uri": "https://localhost:8080/"
    },
    "executionInfo": {
     "elapsed": 167,
     "status": "ok",
     "timestamp": 1664138528004,
     "user": {
      "displayName": "Gerrit Lensink",
      "userId": "03001139976263396963"
     },
     "user_tz": 420
    },
    "id": "APSQzwi80aGF",
    "outputId": "d807aa27-7990-42cf-cc16-921850b982d4"
   },
   "outputs": [
    {
     "data": {
      "text/plain": [
       "0        ./Data/ISIC_2020/Data/ISIC_2637011.jpg\n",
       "1        ./Data/ISIC_2020/Data/ISIC_0015719.jpg\n",
       "3        ./Data/ISIC_2020/Data/ISIC_0068279.jpg\n",
       "4        ./Data/ISIC_2020/Data/ISIC_0074268.jpg\n",
       "5        ./Data/ISIC_2020/Data/ISIC_0074311.jpg\n",
       "                          ...                  \n",
       "33120    ./Data/ISIC_2020/Data/ISIC_9999127.jpg\n",
       "33121    ./Data/ISIC_2020/Data/ISIC_9999134.jpg\n",
       "33122    ./Data/ISIC_2020/Data/ISIC_9999320.jpg\n",
       "33123    ./Data/ISIC_2020/Data/ISIC_9999515.jpg\n",
       "33124    ./Data/ISIC_2020/Data/ISIC_9999666.jpg\n",
       "Name: path, Length: 27124, dtype: object"
      ]
     },
     "execution_count": 26,
     "metadata": {},
     "output_type": "execute_result"
    }
   ],
   "source": [
    "full_data[full_data['diagnosis'] == 'unknown']['path']"
   ]
  },
  {
   "cell_type": "code",
   "execution_count": null,
   "metadata": {
    "id": "-yYJ6LDvYV-1"
   },
   "outputs": [],
   "source": []
  }
 ],
 "metadata": {
  "colab": {
   "provenance": []
  },
  "kernelspec": {
   "display_name": "Python 3",
   "name": "python3"
  },
  "language_info": {
   "name": "python"
  }
 },
 "nbformat": 4,
 "nbformat_minor": 0
}
