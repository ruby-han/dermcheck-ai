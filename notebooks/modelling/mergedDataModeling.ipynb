{
 "cells": [
  {
   "cell_type": "markdown",
   "id": "fb6b5041",
   "metadata": {},
   "source": [
    "# Imports"
   ]
  },
  {
   "cell_type": "code",
   "execution_count": null,
   "id": "b429cd07",
   "metadata": {},
   "outputs": [],
   "source": [
    "# create conda env\n",
    "# https://medium.com/@nrk25693/how-to-add-your-conda-environment-to-your-jupyter-notebook-in-just-4-steps-abeab8b8d084"
   ]
  },
  {
   "cell_type": "code",
   "execution_count": null,
   "id": "1fe9fec8",
   "metadata": {},
   "outputs": [],
   "source": [
    "# %pip uninstall \"opencv-python-headless\" --y"
   ]
  },
  {
   "cell_type": "code",
   "execution_count": null,
   "id": "cc3e239b",
   "metadata": {},
   "outputs": [],
   "source": [
    "# %pip install pandas\n",
    "# %pip install matplotlib\n",
    "# %pip install opencv-python-headless\n",
    "# %pip install scikit-image\n",
    "# %pip install basic-image-eda\n",
    "# %pip install seaborn\n",
    "# %pip install torchvision\n",
    "# %pip install sklearn\n",
    "# %pip install pandas_profiling\n",
    "# %pip install awswrangler\n",
    "# %pip install ipywidgets"
   ]
  },
  {
   "cell_type": "code",
   "execution_count": null,
   "id": "7c4b467c",
   "metadata": {},
   "outputs": [],
   "source": [
    "# %pip install -qr requirements.txt"
   ]
  },
  {
   "cell_type": "code",
   "execution_count": null,
   "id": "8b0cd6bc",
   "metadata": {},
   "outputs": [],
   "source": [
    "import os\n",
    "import glob\n",
    "import shutil\n",
    "import time\n",
    "import copy\n",
    "import random\n",
    "import itertools\n",
    "\n",
    "import pandas as pd\n",
    "from pandas_profiling import ProfileReport\n",
    "import numpy as np\n",
    "\n",
    "import matplotlib.pyplot as plt\n",
    "import matplotlib.image as mp_image\n",
    "import seaborn as sns\n",
    "\n",
    "from IPython.display import Image, display\n",
    "\n",
    "from torchvision.datasets import ImageFolder\n",
    "import torchvision.transforms as transforms\n",
    "import torchvision.models as models\n",
    "\n",
    "import torch\n",
    "from torch.utils.data import DataLoader\n",
    "from torch.utils.mobile_optimizer import optimize_for_mobile\n",
    "import torch.nn as nn\n",
    "\n",
    "from torch_lr_finder import LRFinder\n",
    "\n",
    "from sklearn.metrics import confusion_matrix, f1_score\n",
    "\n",
    "import awswrangler as wr\n",
    "\n",
    "# expand pandas df rows/column widths etc.\n",
    "pd.set_option(\"display.max_rows\", None, # display all rows\n",
    "              \"display.max_columns\", None, # display all columns\n",
    "              \"display.max_colwidth\", None, # expand column width\n",
    "              \"display.html.use_mathjax\", False\n",
    "             ) # disable Latex style mathjax rendering"
   ]
  },
  {
   "cell_type": "markdown",
   "id": "bbfcdd08",
   "metadata": {},
   "source": [
    "# Data Load"
   ]
  },
  {
   "cell_type": "code",
   "execution_count": null,
   "id": "a9c5bdca",
   "metadata": {},
   "outputs": [],
   "source": [
    "s3_path = f's3://rubyhan-w210-datasets/full_data_rename.csv'\n",
    "full_df = wr.s3.read_csv(path=s3_path, index_col=0)#.rename(columns={'duplicated':'duplicate', 'class':'label'})\n",
    "\n",
    "# ProfileReport(full_df)"
   ]
  },
  {
   "cell_type": "code",
   "execution_count": null,
   "id": "344376d2",
   "metadata": {},
   "outputs": [],
   "source": [
    "full_df.head()"
   ]
  },
  {
   "cell_type": "code",
   "execution_count": null,
   "id": "74cfeda1",
   "metadata": {},
   "outputs": [],
   "source": [
    "pwd"
   ]
  },
  {
   "cell_type": "code",
   "execution_count": null,
   "id": "541c862b",
   "metadata": {},
   "outputs": [],
   "source": [
    "cd /home/ec2-user/SageMaker/teledermatologyAI_capstone"
   ]
  },
  {
   "cell_type": "markdown",
   "id": "6668b775",
   "metadata": {},
   "source": [
    "# Transforming Tabular to Folder Data Structure"
   ]
  },
  {
   "cell_type": "code",
   "execution_count": null,
   "id": "12fcb89f",
   "metadata": {},
   "outputs": [],
   "source": [
    "# print(len(full_df[(full_df.source != 'ISIC_2020') & (full_df.dataset == 'train')]))\n",
    "# print(len(full_df[(full_df.source != 'ISIC_2020') & (full_df.dataset == 'val')]))\n",
    "# print(len(full_df[(full_df.source != 'ISIC_2020') & (full_df.dataset == 'test')]))\n",
    "\n",
    "data_split = 'split_3'\n",
    "data_dir = 'data_class_folder3'\n",
    "\n",
    "print(len(full_df[full_df[data_split] == 'train']))\n",
    "print(len(full_df[full_df[data_split] == 'val']))\n",
    "print(len(full_df[full_df[data_split] == 'test']))"
   ]
  },
  {
   "cell_type": "code",
   "execution_count": null,
   "id": "aa4c988c",
   "metadata": {},
   "outputs": [],
   "source": [
    "# full_df[full_df.path.str.contains('acne-keloidalis-1.jpg')]"
   ]
  },
  {
   "cell_type": "code",
   "execution_count": null,
   "id": "e751298e",
   "metadata": {},
   "outputs": [],
   "source": [
    "# class_list = full_df[~full_df[data_split].isna()].label_0.unique().tolist()\n",
    "# # class_list.remove('Autoimmue Disorder')\n",
    "\n",
    "# %mkdir -p $data_dir/train $data_dir/val $data_dir/test\n",
    "# for label in class_list:\n",
    "#     %mkdir -p $data_dir/train/\"$label\" \n",
    "#     %mkdir -p $data_dir/val/\"$label\"\n",
    "#     %mkdir -p $data_dir/test/\"$label\""
   ]
  },
  {
   "cell_type": "code",
   "execution_count": null,
   "id": "879a9ad8",
   "metadata": {},
   "outputs": [],
   "source": [
    "# for i, row in full_df.iterrows():\n",
    "#     try:\n",
    "#         shutil.copy(row.path, f'{data_dir}/{row[data_split]}/{row.label_0}')\n",
    "#     except FileNotFoundError as e:\n",
    "#         pass"
   ]
  },
  {
   "cell_type": "code",
   "execution_count": null,
   "id": "223b5997",
   "metadata": {},
   "outputs": [],
   "source": [
    "# credits: https://github.com/yuliyabohdan/Skin-diseases-classification-Dermnet-/blob/main/skin_diseases_clas_ResNet50.ipynb\n",
    "\n",
    "DIR = data_dir\n",
    "DIR_TRAIN = f'{DIR}/train/'\n",
    "DIR_VAL = f'{DIR}/val/'\n",
    "DIR_TEST = f'{DIR}/test/' \n",
    "\n",
    "classes = sorted(os.listdir(DIR_TRAIN))\n",
    "print(f'Data split: {DIR}')\n",
    "print(f'Total classes: {len(classes)}')\n",
    "\n",
    "# total train, val and test images\n",
    "train_count = 0\n",
    "val_count = 0\n",
    "test_count = 0\n",
    "\n",
    "classes_df = []\n",
    "for _class in classes:\n",
    "    class_dict = {}\n",
    "    train_count += len(os.listdir(DIR_TRAIN + _class))\n",
    "    val_count += len(os.listdir(DIR_VAL + _class))\n",
    "    test_count += len(os.listdir(DIR_TEST + _class))\n",
    "    class_dict.update({'Class': _class, \n",
    "                       'Train': len(os.listdir(DIR_TRAIN + _class)),\n",
    "                       'Val': len(os.listdir(DIR_VAL + _class)),\n",
    "                       'Test': len(os.listdir(DIR_TEST + _class)) })\n",
    "    classes_df.append(class_dict)\n",
    "\n",
    "print(f'Total num train images: {train_count}')\n",
    "print(f'Total num val images: {val_count}')\n",
    "print(f'Total num test images: {test_count}')\n",
    "print(pd.DataFrame(classes_df))"
   ]
  },
  {
   "cell_type": "code",
   "execution_count": null,
   "id": "0db1eabe",
   "metadata": {},
   "outputs": [],
   "source": [
    "# map class labels to integer index\n",
    "\n",
    "train_imgs = []\n",
    "val_imgs = []\n",
    "test_imgs = []\n",
    "\n",
    "for _class in classes:\n",
    "    \n",
    "    for img in os.listdir(DIR_TRAIN + _class):\n",
    "        train_imgs.append(f'{DIR_TRAIN}{_class}/{img}')\n",
    "    \n",
    "    for img in os.listdir(DIR_VAL + _class):\n",
    "        val_imgs.append(f'{DIR_VAL}{_class}/{img}')\n",
    "    \n",
    "    for img in os.listdir(DIR_TEST + _class):\n",
    "        test_imgs.append(f'{DIR_TEST}{_class}/{img}')\n",
    "\n",
    "classToInt = {classes[i]: i for i in range(len(classes))}\n",
    "intToClass = dict(map(reversed, classToInt.items()))\n",
    "\n",
    "for k, v in classToInt.items():\n",
    "    print(k, v)"
   ]
  },
  {
   "cell_type": "code",
   "execution_count": null,
   "id": "9aa7d2d4",
   "metadata": {},
   "outputs": [],
   "source": [
    "train_lst = []\n",
    "val_lst = []\n",
    "for _class, _classInt in classToInt.items():\n",
    "    for img in os.listdir(DIR_TRAIN + _class):\n",
    "        train_lst.append(f'{_classInt}\\t{_class}/{img}')\n",
    "        \n",
    "for _class, _classInt in classToInt.items():\n",
    "    for img in os.listdir(DIR_VAL + _class):\n",
    "        val_lst.append(f'{_classInt}\\t{_class}/{img}')"
   ]
  },
  {
   "cell_type": "code",
   "execution_count": null,
   "id": "c17f4e15",
   "metadata": {},
   "outputs": [],
   "source": [
    "print(len(train_lst))\n",
    "print(len(val_lst))"
   ]
  },
  {
   "cell_type": "code",
   "execution_count": null,
   "id": "65c33c6f",
   "metadata": {},
   "outputs": [],
   "source": [
    "# train_lst2 = [f'{i}\\t{items}' for i, items in enumerate(train_lst)]\n",
    "# val_lst2 = [f'{i}\\t{items}' for i, items in enumerate(val_lst)]\n",
    "# random.shuffle(train_lst2)\n",
    "# random.shuffle(val_lst2)\n",
    "\n",
    "# with open('train_lst.lst', 'w') as f:\n",
    "#     for line in train_lst2:\n",
    "#         f.write(f\"{line}\\n\")\n",
    "# with open('validation_lst.lst', 'w') as f:\n",
    "#     for line in val_lst2:\n",
    "#         f.write(f\"{line}\\n\")"
   ]
  },
  {
   "cell_type": "markdown",
   "id": "e536c08c",
   "metadata": {},
   "source": [
    "# Data Split/Transforms"
   ]
  },
  {
   "cell_type": "code",
   "execution_count": null,
   "id": "0339ed11",
   "metadata": {},
   "outputs": [],
   "source": [
    "train_dataset = ImageFolder(root = DIR_TRAIN, transform=transforms.Compose([\n",
    "    transforms.RandomRotation([-8, +8]),                                           # if augmentation\n",
    "    transforms.ColorJitter(brightness=0, contrast=0.4, saturation=0, hue=0),      # if augmentation\n",
    "    transforms.RandomHorizontalFlip(),                                            # if augmentation\n",
    "    transforms.Resize(255),\n",
    "    transforms.CenterCrop(224),\n",
    "    transforms.ToTensor(),\n",
    "    transforms.Normalize(mean=[0.676, 0.542, 0.519], std=[0.290, 0.226, 0.237])\n",
    "]))\n",
    "\n",
    "valid_dataset = ImageFolder(root = DIR_VAL, transform=transforms.Compose([\n",
    "    transforms.Resize(255),\n",
    "    transforms.CenterCrop(224),\n",
    "    transforms.ToTensor(),\n",
    "    transforms.Normalize(mean=[0.676, 0.542, 0.519], std=[0.290, 0.226, 0.237])\n",
    "]))\n",
    "\n",
    "test_dataset = ImageFolder(root = DIR_TEST, transform=transforms.Compose([\n",
    "    transforms.Resize(255),\n",
    "    transforms.CenterCrop(224),\n",
    "    transforms.ToTensor(),\n",
    "    transforms.Normalize(mean=[0.676, 0.542, 0.519], std=[0.290, 0.226, 0.237])\n",
    "]))"
   ]
  },
  {
   "cell_type": "code",
   "execution_count": null,
   "id": "658b4a8f",
   "metadata": {},
   "outputs": [],
   "source": [
    "# test_size = int(0.5 * len(test_dataset))\n",
    "# valid_size = len(test_dataset) - test_size\n",
    "# valid_dataset, test_dataset = torch.utils.data.random_split(test_dataset, \n",
    "#                                                             [valid_size, test_size])"
   ]
  },
  {
   "cell_type": "markdown",
   "id": "ac11b40a",
   "metadata": {},
   "source": [
    "# Modeling"
   ]
  },
  {
   "cell_type": "code",
   "execution_count": null,
   "id": "fe569636",
   "metadata": {},
   "outputs": [],
   "source": [
    "# https://stackoverflow.com/questions/67959327/how-to-calculate-the-f1-score\n",
    "def train_model(model, dataloaders, criterion, optimizer, num_epochs):\n",
    "    since = time.time()\n",
    "\n",
    "    val_acc_history = []\n",
    "\n",
    "    best_model_wts = copy.deepcopy(model.state_dict())\n",
    "    best_acc = 0.0\n",
    "\n",
    "\n",
    "    for epoch in range(num_epochs):\n",
    "        print('Epoch {}/{}'.format(epoch, num_epochs - 1))\n",
    "        print('-' * 10)\n",
    "\n",
    "        # Each epoch has a training and validation phase\n",
    "        for phase in ['train', 'val']:\n",
    "            if phase == 'train':\n",
    "                model.train()  # Set model to training mode\n",
    "            else:               \n",
    "                model.eval()   # Set model to evaluate mode\n",
    "                #update_bn_stats(model=model, data_loader=dataloaders[phase])  # if update_bn_stats\n",
    "                \n",
    "            running_loss = 0.0\n",
    "            running_corrects = 0\n",
    "\n",
    "            # Iterate over data.\n",
    "            for inputs, labels in dataloaders[phase]:\n",
    "                inputs = inputs.to(device)\n",
    "                labels = labels.to(device)\n",
    "\n",
    "                # zero the parameter gradients\n",
    "                optimizer.zero_grad()\n",
    "\n",
    "                # forward\n",
    "                # track history if only in train\n",
    "                with torch.set_grad_enabled(phase == 'train'):\n",
    "                    # Get model outputs and calculate loss\n",
    "                    # Special case for inception because in training it has an auxiliary output. In train\n",
    "                    #   mode we calculate the loss by summing the final output and the auxiliary output\n",
    "                    #   but in testing we only consider the final output.\n",
    "                    \n",
    "                    outputs = model(inputs)\n",
    "                    loss = criterion(outputs, labels)\n",
    "\n",
    "                    _, preds = torch.max(outputs, 1)\n",
    "\n",
    "                    # backward + optimize only if in training phase\n",
    "                    if phase == 'train':\n",
    "                        loss.backward()\n",
    "                        optimizer.step()\n",
    "\n",
    "                      # statistics\n",
    "                running_loss += loss.item() * inputs.size(0)\n",
    "                running_corrects += torch.sum(preds == labels.data)\n",
    "                f1score = f1_score(labels.cpu().data, preds.cpu(), average='weighted')\n",
    "\n",
    "            epoch_loss = running_loss / len(dataloaders[phase].dataset)\n",
    "            epoch_acc = running_corrects.double() / len(dataloaders[phase].dataset)\n",
    "\n",
    "            print('{} Loss: {:.4f} Acc: {:.4f} f1_score: {:.4f}'.format(phase, epoch_loss, epoch_acc, f1score))\n",
    "            \n",
    "               # deep copy the model\n",
    "            if phase == 'val' and epoch_acc > best_acc:\n",
    "                best_acc = epoch_acc\n",
    "                best_model_wts = copy.deepcopy(model.state_dict())\n",
    "            if phase == 'val':\n",
    "                val_acc_history.append(epoch_acc)\n",
    "\n",
    "        print()\n",
    "\n",
    "    time_elapsed = time.time() - since\n",
    "    print('Training complete in {:.0f}m {:.0f}s'.format(time_elapsed // 60, time_elapsed % 60))\n",
    "    print('Best val Acc: {:4f}'.format(best_acc))\n",
    "   \n",
    "    # load best model weights\n",
    "    model.load_state_dict(best_model_wts)\n",
    "    return model, val_acc_history"
   ]
  },
  {
   "cell_type": "code",
   "execution_count": null,
   "id": "286b3357",
   "metadata": {},
   "outputs": [],
   "source": [
    "def test_model(model, dl, normalize=True):\n",
    "    model.eval()\n",
    "    true_labels = []\n",
    "    predictions = []\n",
    "    total = 0\n",
    "    num_correct = 0\n",
    "    with torch.no_grad():\n",
    "        for images, labels in dl:\n",
    "            images, labels = images.to(device), labels.to(device)\n",
    "            outputs = model(images)\n",
    "            predicted = torch.argmax(outputs.data,-1)        \n",
    "            true_labels.append(labels.cpu().numpy())\n",
    "            predictions.append(predicted.cpu().numpy())\n",
    "            total += labels.size(0)\n",
    "            num_correct += (predicted == labels).sum()\n",
    "        print(f'Test Accuracy of the model: {float(num_correct)/float(total)*100:.2f}')    \n",
    "        true_labels = np.hstack(true_labels)\n",
    "        predictions = np.hstack(predictions)\n",
    "\n",
    "    return true_labels, predictions"
   ]
  },
  {
   "cell_type": "code",
   "execution_count": null,
   "id": "e779c2cc",
   "metadata": {},
   "outputs": [],
   "source": [
    "# x, y - find the img from class x labelled as class y \n",
    "def test(model, dl, x, y, normalize=True):\n",
    "    model.eval()\n",
    "    true_labels = []\n",
    "    predictions = []\n",
    "    images_list = []\n",
    "\n",
    "    with torch.no_grad():\n",
    "        for images, labels in dl:\n",
    "            images_list.append(images.cpu().numpy())\n",
    "            images, labels = images.to(device), labels.to(device)\n",
    "            outputs = model(images)\n",
    "            predicted = torch.argmax(outputs.data,-1)        \n",
    "            true_labels.append(labels.cpu().numpy())\n",
    "            predictions.append(predicted.cpu().numpy())\n",
    "    \n",
    "    for n in range(60):\n",
    "        for i in range(32):\n",
    "            if (true_labels[n][i] == x)  & (predictions[n][i] == y):\n",
    "                #inv_tensor = inv_normalize(image_list[n][i]])\n",
    "                plt.imshow(np.transpose(images_list[n][i], (1, 2, 0)))\n",
    "                plt.show()"
   ]
  },
  {
   "cell_type": "markdown",
   "id": "6efb3ce3",
   "metadata": {},
   "source": [
    "# Train/Val Data Loader"
   ]
  },
  {
   "cell_type": "code",
   "execution_count": null,
   "id": "63d6eb77",
   "metadata": {},
   "outputs": [],
   "source": [
    "dataloaders_dict = {}\n",
    "dataloaders_dict['train'] = DataLoader(train_dataset, batch_size=64, shuffle=True, num_workers=16)\n",
    "dataloaders_dict['val'] = DataLoader(valid_dataset, batch_size=64, shuffle=False, num_workers=16, drop_last=False)"
   ]
  },
  {
   "cell_type": "markdown",
   "id": "2902815d",
   "metadata": {},
   "source": [
    "# LR Finder"
   ]
  },
  {
   "cell_type": "code",
   "execution_count": null,
   "id": "6ca4c9dc",
   "metadata": {},
   "outputs": [],
   "source": [
    "model = models.resnet50(weights='DEFAULT')\n",
    "model.fc = nn.Linear(2048, len(classes), bias=True)\n",
    "\n",
    "# Detect if we have a GPU available\n",
    "device = torch.device('cuda:0' if torch.cuda.is_available() else 'cpu')\n",
    "print(device)\n",
    "model = model.to(device)\n",
    "\n",
    "optimizer = torch.optim.Adam(\n",
    "    model.parameters(),\n",
    "    lr=1e-7,\n",
    "#     weight_decay=1e-2\n",
    ")\n",
    "# Setup the loss fxn\n",
    "criterion = nn.CrossEntropyLoss()\n",
    "\n",
    "lr_finder = LRFinder(model, optimizer, criterion, device=\"cuda\")\n",
    "lr_finder.range_test(dataloaders_dict['train'], \n",
    "                     end_lr=1, num_iter=100)\n",
    "ax, lr = lr_finder.plot()\n",
    "lr_finder.reset()"
   ]
  },
  {
   "cell_type": "code",
   "execution_count": null,
   "id": "fd0c467f",
   "metadata": {},
   "outputs": [],
   "source": [
    "# free up GPU memory\n",
    "from numba import cuda\n",
    "cuda.select_device(0)\n",
    "cuda.close()"
   ]
  },
  {
   "cell_type": "code",
   "execution_count": null,
   "id": "aa117ddf",
   "metadata": {},
   "outputs": [],
   "source": [
    "# Number of epochs to train for\n",
    "num_epochs = 5 #100\n",
    "\n",
    "# model = models.efficientnet_b7(weights='DEFAULT')\n",
    "model.fc = nn.Linear(2048, len(classes), bias=True)\n",
    "\n",
    "# Detect if we have a GPU available\n",
    "device = torch.device('cuda:0' if torch.cuda.is_available() else 'cpu')\n",
    "print(device)\n",
    "model = model.to(device)\n",
    "\n",
    "optimizer = torch.optim.Adam(\n",
    "    model.parameters(),\n",
    "    lr=0.0001\n",
    ")\n",
    "# Setup the loss fxn\n",
    "criterion = nn.CrossEntropyLoss()"
   ]
  },
  {
   "cell_type": "code",
   "execution_count": null,
   "id": "9e3d4c5c",
   "metadata": {},
   "outputs": [],
   "source": [
    "# Train and evaluate\n",
    "model, hist = train_model(model, dataloaders_dict, criterion, optimizer, num_epochs=num_epochs)"
   ]
  },
  {
   "cell_type": "code",
   "execution_count": null,
   "id": "7ae12c89",
   "metadata": {},
   "outputs": [],
   "source": [
    "model_name = f'{data_split}_resnet50'\n",
    "torch.save(model, f'model/{model_name}.pt')"
   ]
  },
  {
   "cell_type": "code",
   "execution_count": null,
   "id": "872e2ba6",
   "metadata": {},
   "outputs": [],
   "source": [
    "model = torch.load(f'model/{model_name}.pt')"
   ]
  },
  {
   "cell_type": "code",
   "execution_count": null,
   "id": "40ea188b",
   "metadata": {},
   "outputs": [],
   "source": [
    "true_labels, predictions = test_model(model, dataloader_test, normalize=True)\n",
    "c_matrix = confusion_matrix(true_labels, predictions, normalize='true')\n",
    "plt.figure(figsize=(12, 12))\n",
    "plt.title(\"Confusion matrix\")\n",
    "sns.heatmap(c_matrix, cmap='Blues', annot=True, xticklabels=classes, yticklabels=classes, fmt='.1%', cbar=True)\n",
    "plt.xlabel('predictions')\n",
    "plt.ylabel('true labels')\n",
    "plt.show()"
   ]
  },
  {
   "cell_type": "code",
   "execution_count": null,
   "id": "f57afd64",
   "metadata": {
    "tags": []
   },
   "outputs": [],
   "source": [
    "# # False prediction\n",
    "# test(model, dataloader_test, 2, 0) #(potentially malignant skin tumors, non-cancerous skin condition)"
   ]
  },
  {
   "cell_type": "code",
   "execution_count": null,
   "id": "1a4a5f79",
   "metadata": {
    "tags": []
   },
   "outputs": [],
   "source": [
    "# # Correct prediction of autoimmune disorder\n",
    "# test(model, dataloader_test, 3, 3)"
   ]
  },
  {
   "cell_type": "code",
   "execution_count": null,
   "id": "7f2a7692",
   "metadata": {},
   "outputs": [],
   "source": [
    "# # Trace model\n",
    "\n",
    "# # must be the same size a minibatch with 1 example image\n",
    "# example = torch.rand(1, 3, 224, 224)\n",
    "\n",
    "# # move model back to cpu, do tracing, and optimize\n",
    "# model_conv = model.to('cpu')\n",
    "# traced_script_module = torch.jit.trace(model_conv, example)\n",
    "# torchscript_model_optimized = optimize_for_mobile(traced_script_module)\n",
    "\n",
    "# # save optimized model for mobile\n",
    "# PATH = f'model/{model_name}_traced.pt'\n",
    "# torchscript_model_optimized.save(PATH)"
   ]
  },
  {
   "cell_type": "markdown",
   "id": "4e6dcc45",
   "metadata": {},
   "source": [
    "# Conversion from PyTorch to CoreML\n",
    "https://github.com/vincentfpgarcia/from-pytorch-to-coreml/blob/master/step6_part1.md"
   ]
  },
  {
   "cell_type": "code",
   "execution_count": null,
   "id": "74f5b713",
   "metadata": {},
   "outputs": [],
   "source": [
    "import coremltools as ct\n",
    "from coremltools.converters import ClassifierConfig\n",
    "\n",
    "classifier_config = ClassifierConfig(class_labels=class_list)\n",
    "\n",
    "model = torch.load(f'model/{model_name}.pt')\n",
    "\n",
    "# Create dummy input\n",
    "dummy_input = torch.rand(1, 3, 224, 224)\n",
    "\n",
    "model_conv = model.to('cpu')\n",
    "\n",
    "# Trace the model\n",
    "traced_model = torch.jit.trace(model_conv, dummy_input)\n",
    "\n",
    "# Create the input image type\n",
    "input_image = ct.ImageType(name=\"my_input\", shape=(1, 3, 224, 224), scale=1/255)\n",
    "\n",
    "# Convert the model\n",
    "coreml_model = ct.convert(traced_model, inputs=[input_image], classifier_config=classifier_config)\n",
    "\n",
    "# Modify the output's name to \"my_output\" in the spec\n",
    "spec = coreml_model.get_spec()\n",
    "ct.utils.rename_feature(spec, \"var_840\", \"my_output\")\n",
    "\n",
    "# Re-create the model from the updated spec\n",
    "coreml_model_updated = ct.models.MLModel(spec)\n",
    "\n",
    "# Save the CoreML model\n",
    "coremlmodel_name = 'skindiseases5'\n",
    "coreml_model_updated.save(f'model/{coremlmodel_name}.mlmodel')\n",
    "\n",
    "# Load the CoreML model\n",
    "model =  ct.models.MLModel(f'model/{coremlmodel_name}.mlmodel')\n",
    "\n",
    "# Display its specifications\n",
    "print()\n",
    "print(model)\n",
    "\n",
    "from PIL import Image\n",
    "\n",
    "# classes\n",
    "classes = ['Benign Marking or Mole',\n",
    "           'Non-Cancerous Skin Condition',\n",
    "           'Potentially Malignant Skin Tumors', \n",
    "           'Toxin, Fungal, Bug, Viral, or Bacterial Infections',\n",
    "           'Unclassified']\n",
    "\n",
    "# Load the test image\n",
    "image = Image.open('inference/Potentially Malignant Skin Tumors/melanoma.jpeg')\n",
    "\n",
    "# Prediction vector as a numpy array\n",
    "pred = model.predict({'my_input': image.resize((224, 224))})\n",
    "pred = pred['my_output']\n",
    "pred = pred.squeeze()\n",
    "\n",
    "# Display the most probable class\n",
    "idx = pred.argmax()\n",
    "print('Predicted class : %d (%s)' % (idx, classes[idx]))\n",
    "pred['classLabel']"
   ]
  },
  {
   "cell_type": "markdown",
   "id": "06b7a385",
   "metadata": {},
   "source": [
    "# Inference"
   ]
  },
  {
   "cell_type": "code",
   "execution_count": null,
   "id": "36f661f9",
   "metadata": {},
   "outputs": [],
   "source": [
    "inference_dataset = ImageFolder(root = 'inference/', transform=transforms.Compose([\n",
    "    transforms.Resize(255),\n",
    "    transforms.CenterCrop(224),\n",
    "    transforms.ToTensor(),\n",
    "    transforms.Normalize(mean=[0.676, 0.542, 0.519], std=[0.290, 0.226, 0.237])\n",
    "]))\n",
    "\n",
    "dataloader_inference = DataLoader(inference_dataset, batch_size=1, \n",
    "                                  shuffle=False, num_workers=1, drop_last=False)\n",
    "\n",
    "def inference_model(model, dl, normalize=True):\n",
    "    model.eval()\n",
    "    true_labels = []\n",
    "    predictions = []\n",
    "    total = 0\n",
    "    num_correct = 0\n",
    "    # device = torch.device('cpu')\n",
    "    device = torch.device('cuda:0' if torch.cuda.is_available() else 'cpu')\n",
    "    \n",
    "    with torch.no_grad():\n",
    "        for images, labels in dl:\n",
    "            images, labels = images.to(device), labels.to(device)\n",
    "            outputs = model(images)\n",
    "            predicted = torch.argmax(outputs.data,-1)        \n",
    "            true_labels.append(labels.cpu().numpy())\n",
    "            predictions.append(predicted.cpu().numpy())\n",
    "            total += labels.size(0)\n",
    "            num_correct += (predicted == labels).sum()\n",
    "        print(f'Inference Accuracy of the model: {float(num_correct)/float(total)*100:.2f}')    \n",
    "        true_labels = np.hstack(true_labels)\n",
    "        predictions = np.hstack(predictions)\n",
    "\n",
    "    return true_labels, predictions"
   ]
  },
  {
   "cell_type": "code",
   "execution_count": null,
   "id": "ca8e4745",
   "metadata": {},
   "outputs": [],
   "source": [
    "# model = torch.jit.load(f'model/{model_name}_traced.pt')\n",
    "model = torch.load(f'model/{model_name}.pt')\n",
    "true_labels, predictions = inference_model(model, dataloader_inference, normalize=True)"
   ]
  },
  {
   "cell_type": "code",
   "execution_count": null,
   "id": "32d3262b",
   "metadata": {},
   "outputs": [],
   "source": [
    "true_labels"
   ]
  },
  {
   "cell_type": "code",
   "execution_count": null,
   "id": "24d21b6f",
   "metadata": {},
   "outputs": [],
   "source": [
    "predictions"
   ]
  },
  {
   "cell_type": "code",
   "execution_count": null,
   "id": "9e43839d",
   "metadata": {},
   "outputs": [],
   "source": [
    "# !tar -czf model/model.tar.gz model/merged_resnet50.pt"
   ]
  },
  {
   "cell_type": "code",
   "execution_count": null,
   "id": "5409008c",
   "metadata": {},
   "outputs": [],
   "source": [
    "# !aws s3 cp model/model.tar.gz s3://rubyhan-w210-datasets/model/"
   ]
  }
 ],
 "metadata": {
  "kernelspec": {
   "display_name": "w210env",
   "language": "python",
   "name": "w210env"
  },
  "language_info": {
   "codemirror_mode": {
    "name": "ipython",
    "version": 3
   },
   "file_extension": ".py",
   "mimetype": "text/x-python",
   "name": "python",
   "nbconvert_exporter": "python",
   "pygments_lexer": "ipython3",
   "version": "3.7.10"
  }
 },
 "nbformat": 4,
 "nbformat_minor": 5
}
