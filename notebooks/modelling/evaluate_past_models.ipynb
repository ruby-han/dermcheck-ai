{
 "cells": [
  {
   "cell_type": "code",
   "execution_count": 230,
   "id": "f84acb46",
   "metadata": {},
   "outputs": [
    {
     "name": "stdout",
     "output_type": "stream",
     "text": [
      "Looking in indexes: https://pypi.org/simple, https://pip.repos.neuron.amazonaws.com\n",
      "Collecting torch\n",
      "  Downloading torch-1.13.0-cp38-cp38-manylinux1_x86_64.whl (890.2 MB)\n",
      "\u001b[2K     \u001b[90m━━━━━━━━━━━━━━━━━━━━━━━━━━━━━━━━━━━━━━━\u001b[0m \u001b[32m890.2/890.2 MB\u001b[0m \u001b[31m1.4 MB/s\u001b[0m eta \u001b[36m0:00:00\u001b[0m00:01\u001b[0m00:01\u001b[0m\n",
      "\u001b[?25hCollecting nvidia-cuda-runtime-cu11==11.7.99\n",
      "  Downloading nvidia_cuda_runtime_cu11-11.7.99-py3-none-manylinux1_x86_64.whl (849 kB)\n",
      "\u001b[2K     \u001b[90m━━━━━━━━━━━━━━━━━━━━━━━━━━━━━━━━━━━━━\u001b[0m \u001b[32m849.3/849.3 KB\u001b[0m \u001b[31m103.4 MB/s\u001b[0m eta \u001b[36m0:00:00\u001b[0m\n",
      "\u001b[?25hCollecting nvidia-cuda-nvrtc-cu11==11.7.99\n",
      "  Downloading nvidia_cuda_nvrtc_cu11-11.7.99-2-py3-none-manylinux1_x86_64.whl (21.0 MB)\n",
      "\u001b[2K     \u001b[90m━━━━━━━━━━━━━━━━━━━━━━━━━━━━━━━━━━━━━━━━\u001b[0m \u001b[32m21.0/21.0 MB\u001b[0m \u001b[31m92.4 MB/s\u001b[0m eta \u001b[36m0:00:00\u001b[0m00:01\u001b[0m00:01\u001b[0m\n",
      "\u001b[?25hCollecting nvidia-cudnn-cu11==8.5.0.96\n",
      "  Downloading nvidia_cudnn_cu11-8.5.0.96-2-py3-none-manylinux1_x86_64.whl (557.1 MB)\n",
      "\u001b[2K     \u001b[90m━━━━━━━━━━━━━━━━━━━━━━━━━━━━━━━━━━━━━━━\u001b[0m \u001b[32m557.1/557.1 MB\u001b[0m \u001b[31m2.3 MB/s\u001b[0m eta \u001b[36m0:00:00\u001b[0m00:01\u001b[0m00:01\u001b[0m\n",
      "\u001b[?25hRequirement already satisfied: typing-extensions in /home/ec2-user/anaconda3/envs/python3/lib/python3.8/site-packages (from torch) (4.0.0)\n",
      "Collecting nvidia-cublas-cu11==11.10.3.66\n",
      "  Downloading nvidia_cublas_cu11-11.10.3.66-py3-none-manylinux1_x86_64.whl (317.1 MB)\n",
      "\u001b[2K     \u001b[90m━━━━━━━━━━━━━━━━━━━━━━━━━━━━━━━━━━━━━━━\u001b[0m \u001b[32m317.1/317.1 MB\u001b[0m \u001b[31m3.0 MB/s\u001b[0m eta \u001b[36m0:00:00\u001b[0m00:01\u001b[0m00:01\u001b[0m\n",
      "\u001b[?25hRequirement already satisfied: wheel in /home/ec2-user/anaconda3/envs/python3/lib/python3.8/site-packages (from nvidia-cublas-cu11==11.10.3.66->torch) (0.37.0)\n",
      "Requirement already satisfied: setuptools in /home/ec2-user/anaconda3/envs/python3/lib/python3.8/site-packages (from nvidia-cublas-cu11==11.10.3.66->torch) (59.4.0)\n",
      "Installing collected packages: nvidia-cuda-runtime-cu11, nvidia-cuda-nvrtc-cu11, nvidia-cublas-cu11, nvidia-cudnn-cu11, torch\n",
      "Successfully installed nvidia-cublas-cu11-11.10.3.66 nvidia-cuda-nvrtc-cu11-11.7.99 nvidia-cuda-runtime-cu11-11.7.99 nvidia-cudnn-cu11-8.5.0.96 torch-1.13.0\n",
      "\u001b[33mWARNING: You are using pip version 22.0.4; however, version 22.3 is available.\n",
      "You should consider upgrading via the '/home/ec2-user/anaconda3/envs/python3/bin/python -m pip install --upgrade pip' command.\u001b[0m\u001b[33m\n",
      "\u001b[0mNote: you may need to restart the kernel to use updated packages.\n"
     ]
    }
   ],
   "source": [
    "# pip install torch"
   ]
  },
  {
   "cell_type": "code",
   "execution_count": 1,
   "id": "8e365767",
   "metadata": {},
   "outputs": [],
   "source": [
    "import pandas as pd\n",
    "from sklearn.metrics import f1_score, fbeta_score, precision_score, recall_score, accuracy_score\n",
    "# from build_model import initialize_model, load_split_data, build_loader, evaluate, train_model\n",
    "# from build_model import plot_confusion\n",
    "import os\n",
    "from sklearn.metrics import confusion_matrix\n"
   ]
  },
  {
   "cell_type": "code",
   "execution_count": 2,
   "id": "c50d2270",
   "metadata": {},
   "outputs": [],
   "source": [
    "MODEL_DIR = '/home/ec2-user/SageMaker/teledermatologyAI_capstone/model/gridsearch'\n"
   ]
  },
  {
   "cell_type": "code",
   "execution_count": 3,
   "id": "17510bc0",
   "metadata": {},
   "outputs": [
    {
     "name": "stdout",
     "output_type": "stream",
     "text": [
      "/home/ec2-user/SageMaker/teledermatologyAI_capstone/model/gridsearch\n"
     ]
    }
   ],
   "source": [
    "cd $MODEL_DIR"
   ]
  },
  {
   "cell_type": "code",
   "execution_count": 4,
   "id": "5778f077",
   "metadata": {},
   "outputs": [],
   "source": [
    "# Load files in directory, filter to pred files\n",
    "files = pd.Series(os.listdir('./'), name = \"file\")\n",
    "files = pd.DataFrame(files[files.str.contains('pkl')])\n",
    "\n",
    "# extract model number and name, convert model num to int\n",
    "files['model_number'] = files.file.apply(lambda st: st[st.find(\"GS\")+2:st.find(\"_pred\")])\n",
    "files['tuned_model'] = files.file.apply(lambda st: st[:st.find(\"_pred\")])\n",
    "files['model_number'] = files['model_number'].astype('int')\n",
    "files.set_index('model_number', inplace = True)\n",
    "\n",
    "# read in prior partial results\n",
    "gs = pd.read_csv('gridsearch1.csv')"
   ]
  },
  {
   "cell_type": "code",
   "execution_count": 5,
   "id": "3f25e4d0",
   "metadata": {},
   "outputs": [],
   "source": [
    "# Create results df by combining hyperparams and model name\n",
    "results = pd.concat([files, gs], axis = 1).set_index('model')"
   ]
  },
  {
   "cell_type": "code",
   "execution_count": 9,
   "id": "bd7602e5",
   "metadata": {},
   "outputs": [],
   "source": [
    "results = results[:1]"
   ]
  },
  {
   "cell_type": "code",
   "execution_count": 10,
   "id": "adbd792e",
   "metadata": {},
   "outputs": [
    {
     "name": "stderr",
     "output_type": "stream",
     "text": [
      "/tmp/ipykernel_64876/2023296353.py:2: SettingWithCopyWarning: \n",
      "A value is trying to be set on a copy of a slice from a DataFrame.\n",
      "Try using .loc[row_indexer,col_indexer] = value instead\n",
      "\n",
      "See the caveats in the documentation: https://pandas.pydata.org/pandas-docs/stable/user_guide/indexing.html#returning-a-view-versus-a-copy\n",
      "  results['pretrained_model'] = 'resnet'\n",
      "/tmp/ipykernel_64876/2023296353.py:3: SettingWithCopyWarning: \n",
      "A value is trying to be set on a copy of a slice from a DataFrame.\n",
      "Try using .loc[row_indexer,col_indexer] = value instead\n",
      "\n",
      "See the caveats in the documentation: https://pandas.pydata.org/pandas-docs/stable/user_guide/indexing.html#returning-a-view-versus-a-copy\n",
      "  results['optimizer'] = 'SGD'\n",
      "/tmp/ipykernel_64876/2023296353.py:4: SettingWithCopyWarning: \n",
      "A value is trying to be set on a copy of a slice from a DataFrame.\n",
      "Try using .loc[row_indexer,col_indexer] = value instead\n",
      "\n",
      "See the caveats in the documentation: https://pandas.pydata.org/pandas-docs/stable/user_guide/indexing.html#returning-a-view-versus-a-copy\n",
      "  results['epochs'] = 3\n",
      "/tmp/ipykernel_64876/2023296353.py:5: SettingWithCopyWarning: \n",
      "A value is trying to be set on a copy of a slice from a DataFrame.\n",
      "Try using .loc[row_indexer,col_indexer] = value instead\n",
      "\n",
      "See the caveats in the documentation: https://pandas.pydata.org/pandas-docs/stable/user_guide/indexing.html#returning-a-view-versus-a-copy\n",
      "  results['num_classes'] = 5\n",
      "/tmp/ipykernel_64876/2023296353.py:6: SettingWithCopyWarning: \n",
      "A value is trying to be set on a copy of a slice from a DataFrame.\n",
      "Try using .loc[row_indexer,col_indexer] = value instead\n",
      "\n",
      "See the caveats in the documentation: https://pandas.pydata.org/pandas-docs/stable/user_guide/indexing.html#returning-a-view-versus-a-copy\n",
      "  results['batch_size'] = 64\n",
      "/tmp/ipykernel_64876/2023296353.py:7: SettingWithCopyWarning: \n",
      "A value is trying to be set on a copy of a slice from a DataFrame.\n",
      "Try using .loc[row_indexer,col_indexer] = value instead\n",
      "\n",
      "See the caveats in the documentation: https://pandas.pydata.org/pandas-docs/stable/user_guide/indexing.html#returning-a-view-versus-a-copy\n",
      "  results['workers'] = 24\n",
      "/tmp/ipykernel_64876/2023296353.py:8: SettingWithCopyWarning: \n",
      "A value is trying to be set on a copy of a slice from a DataFrame.\n",
      "Try using .loc[row_indexer,col_indexer] = value instead\n",
      "\n",
      "See the caveats in the documentation: https://pandas.pydata.org/pandas-docs/stable/user_guide/indexing.html#returning-a-view-versus-a-copy\n",
      "  results['train_time'] = 'unk'\n",
      "/tmp/ipykernel_64876/2023296353.py:9: SettingWithCopyWarning: \n",
      "A value is trying to be set on a copy of a slice from a DataFrame.\n",
      "Try using .loc[row_indexer,col_indexer] = value instead\n",
      "\n",
      "See the caveats in the documentation: https://pandas.pydata.org/pandas-docs/stable/user_guide/indexing.html#returning-a-view-versus-a-copy\n",
      "  results['data_split'] = 'split_3'\n",
      "/tmp/ipykernel_64876/2023296353.py:10: SettingWithCopyWarning: \n",
      "A value is trying to be set on a copy of a slice from a DataFrame.\n",
      "Try using .loc[row_indexer,col_indexer] = value instead\n",
      "\n",
      "See the caveats in the documentation: https://pandas.pydata.org/pandas-docs/stable/user_guide/indexing.html#returning-a-view-versus-a-copy\n",
      "  results['label_set'] = 'label_0'\n",
      "/tmp/ipykernel_64876/2023296353.py:11: SettingWithCopyWarning: \n",
      "A value is trying to be set on a copy of a slice from a DataFrame.\n",
      "Try using .loc[row_indexer,col_indexer] = value instead\n",
      "\n",
      "See the caveats in the documentation: https://pandas.pydata.org/pandas-docs/stable/user_guide/indexing.html#returning-a-view-versus-a-copy\n",
      "  results['accur'] = None\n",
      "/tmp/ipykernel_64876/2023296353.py:12: SettingWithCopyWarning: \n",
      "A value is trying to be set on a copy of a slice from a DataFrame.\n",
      "Try using .loc[row_indexer,col_indexer] = value instead\n",
      "\n",
      "See the caveats in the documentation: https://pandas.pydata.org/pandas-docs/stable/user_guide/indexing.html#returning-a-view-versus-a-copy\n",
      "  results['F1'] = None\n",
      "/tmp/ipykernel_64876/2023296353.py:13: SettingWithCopyWarning: \n",
      "A value is trying to be set on a copy of a slice from a DataFrame.\n",
      "Try using .loc[row_indexer,col_indexer] = value instead\n",
      "\n",
      "See the caveats in the documentation: https://pandas.pydata.org/pandas-docs/stable/user_guide/indexing.html#returning-a-view-versus-a-copy\n",
      "  results['F0.5'] = None\n",
      "/tmp/ipykernel_64876/2023296353.py:14: SettingWithCopyWarning: \n",
      "A value is trying to be set on a copy of a slice from a DataFrame.\n",
      "Try using .loc[row_indexer,col_indexer] = value instead\n",
      "\n",
      "See the caveats in the documentation: https://pandas.pydata.org/pandas-docs/stable/user_guide/indexing.html#returning-a-view-versus-a-copy\n",
      "  results['F2'] = None\n",
      "/tmp/ipykernel_64876/2023296353.py:15: SettingWithCopyWarning: \n",
      "A value is trying to be set on a copy of a slice from a DataFrame.\n",
      "Try using .loc[row_indexer,col_indexer] = value instead\n",
      "\n",
      "See the caveats in the documentation: https://pandas.pydata.org/pandas-docs/stable/user_guide/indexing.html#returning-a-view-versus-a-copy\n",
      "  results['benign_accur'] = None\n",
      "/tmp/ipykernel_64876/2023296353.py:16: SettingWithCopyWarning: \n",
      "A value is trying to be set on a copy of a slice from a DataFrame.\n",
      "Try using .loc[row_indexer,col_indexer] = value instead\n",
      "\n",
      "See the caveats in the documentation: https://pandas.pydata.org/pandas-docs/stable/user_guide/indexing.html#returning-a-view-versus-a-copy\n",
      "  results['noncancerous_accur'] = None\n",
      "/tmp/ipykernel_64876/2023296353.py:17: SettingWithCopyWarning: \n",
      "A value is trying to be set on a copy of a slice from a DataFrame.\n",
      "Try using .loc[row_indexer,col_indexer] = value instead\n",
      "\n",
      "See the caveats in the documentation: https://pandas.pydata.org/pandas-docs/stable/user_guide/indexing.html#returning-a-view-versus-a-copy\n",
      "  results['malignant_accur'] = None\n",
      "/tmp/ipykernel_64876/2023296353.py:18: SettingWithCopyWarning: \n",
      "A value is trying to be set on a copy of a slice from a DataFrame.\n",
      "Try using .loc[row_indexer,col_indexer] = value instead\n",
      "\n",
      "See the caveats in the documentation: https://pandas.pydata.org/pandas-docs/stable/user_guide/indexing.html#returning-a-view-versus-a-copy\n",
      "  results['infection_accur'] = None\n",
      "/tmp/ipykernel_64876/2023296353.py:19: SettingWithCopyWarning: \n",
      "A value is trying to be set on a copy of a slice from a DataFrame.\n",
      "Try using .loc[row_indexer,col_indexer] = value instead\n",
      "\n",
      "See the caveats in the documentation: https://pandas.pydata.org/pandas-docs/stable/user_guide/indexing.html#returning-a-view-versus-a-copy\n",
      "  results['unclassified_accur'] = None\n"
     ]
    }
   ],
   "source": [
    "# new columns\n",
    "results['pretrained_model'] = 'resnet'\n",
    "results['optimizer'] = 'SGD'\n",
    "results['epochs'] = 3\n",
    "results['num_classes'] = 5\n",
    "results['batch_size'] = 64\n",
    "results['workers'] = 24\n",
    "results['train_time'] = 'unk'\n",
    "results['data_split'] = 'split_3'\n",
    "results['label_set'] = 'label_0'\n",
    "results['accur'] = None\n",
    "results['F1'] = None\n",
    "results['F0.5'] = None\n",
    "results['F2'] = None\n",
    "results['benign_accur'] = None\n",
    "results['noncancerous_accur'] = None\n",
    "results['malignant_accur'] = None\n",
    "results['infection_accur'] = None\n",
    "results['unclassified_accur'] = None\n",
    "\n"
   ]
  },
  {
   "cell_type": "code",
   "execution_count": 11,
   "id": "ae272195",
   "metadata": {},
   "outputs": [],
   "source": [
    "# i = 1\n",
    "for index, row in results.iterrows():\n",
    "#     row.iloc[index]['accur'] = i\n",
    "    \n",
    "    d = pd.read_pickle(row['file'])\n",
    "    \n",
    "    # Scores\n",
    "    acc = accuracy_score(d.lab, d.pred)\n",
    "    f1 = f1_score(d.lab, d.pred, average = 'macro')\n",
    "    f2 = fbeta_score(d.lab, d.pred, average = 'macro', beta = 2)\n",
    "    f5 =  fbeta_score(d.lab, d.pred, average = 'macro', beta = .5)\n",
    "    prec = precision_score(d.lab, d.pred, average = 'macro')\n",
    "    rec = recall_score(d.lab, d.pred, average = 'macro')\n",
    "    \n",
    "    # confusion matrix \n",
    "    c_matrix = confusion_matrix(d.lab, d.pred, normalize = 'true')\n",
    "\n",
    "    results.at[index, 'accur'] = acc\n",
    "    results.at[index, 'F1'] = f1\n",
    "    results.at[index, 'F0.5'] = f5\n",
    "    results.at[index, 'F2'] = f2\n",
    "    results.at[index, 'benign_accur'] = c_matrix[0,0]\n",
    "    results.at[index, 'noncancerous_accur'] = c_matrix[1,1]\n",
    "    results.at[index, 'malignant_accur'] = c_matrix[2,2]\n",
    "    results.at[index, 'infection_accur'] = c_matrix[3,3]\n",
    "    results.at[index, 'unclassified_accur'] = c_matrix[4,4]\n",
    "#     i+=1"
   ]
  },
  {
   "cell_type": "code",
   "execution_count": 12,
   "id": "577b43bf",
   "metadata": {},
   "outputs": [],
   "source": [
    "results.to_csv('./results_gs2.csv')"
   ]
  },
  {
   "cell_type": "code",
   "execution_count": 33,
   "id": "b16ebe3f",
   "metadata": {},
   "outputs": [],
   "source": [
    "a = model_scores(d.lab, d.pred)"
   ]
  },
  {
   "cell_type": "code",
   "execution_count": 28,
   "id": "a05d6761",
   "metadata": {},
   "outputs": [],
   "source": [
    "def model_scores(true_labs, preds):\n",
    "    acc = accuracy_score(d.lab, d.pred)\n",
    "    f1 = f1_score(d.lab, d.pred, average = 'macro')\n",
    "    f2 = fbeta_score(d.lab, d.pred, average = 'macro', beta = 2)\n",
    "    f5 =  fbeta_score(d.lab, d.pred, average = 'macro', beta = .5)\n",
    "    prec = precision_score(d.lab, d.pred, average = 'macro')\n",
    "    rec = recall_score(d.lab, d.pred, average = 'macro')\n",
    "    \n",
    "    # confusion matrix & Diags\n",
    "    c_matrix = confusion_matrix(d.lab, d.pred, normalize = 'true')\n",
    "    d_0 = c_matrix[0,0]\n",
    "    d_1 = c_matrix[1,1]\n",
    "    d_2 = c_matrix[2,2]\n",
    "    d_3 = c_matrix[3,3]\n",
    "    d_4 = c_matrix[4,4]\n",
    "    \n",
    "    return acc, f1, f2, f5, prec, rec, d_0, d_1, d_2, d_3, d_4"
   ]
  },
  {
   "cell_type": "code",
   "execution_count": 35,
   "id": "be6cddc4",
   "metadata": {},
   "outputs": [
    {
     "data": {
      "text/plain": [
       "0.7022222222222222"
      ]
     },
     "execution_count": 35,
     "metadata": {},
     "output_type": "execute_result"
    }
   ],
   "source": [
    "a[0]"
   ]
  },
  {
   "cell_type": "code",
   "execution_count": null,
   "id": "ae291aba",
   "metadata": {},
   "outputs": [],
   "source": []
  }
 ],
 "metadata": {
  "kernelspec": {
   "display_name": "conda_python3",
   "language": "python",
   "name": "conda_python3"
  },
  "language_info": {
   "codemirror_mode": {
    "name": "ipython",
    "version": 3
   },
   "file_extension": ".py",
   "mimetype": "text/x-python",
   "name": "python",
   "nbconvert_exporter": "python",
   "pygments_lexer": "ipython3",
   "version": "3.8.12"
  }
 },
 "nbformat": 4,
 "nbformat_minor": 5
}
