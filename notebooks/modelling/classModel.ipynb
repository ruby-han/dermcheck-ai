{
 "cells": [
  {
   "cell_type": "markdown",
   "id": "c246eb57",
   "metadata": {},
   "source": [
    "# Imports"
   ]
  },
  {
   "cell_type": "code",
   "execution_count": 1,
   "id": "71edf4ef",
   "metadata": {},
   "outputs": [],
   "source": [
    "# !jupyter kernelspec uninstall w210_env --y\n",
    "\n",
    "# https://medium.com/@nrk25693/how-to-add-your-conda-environment-to-your-jupyter-notebook-in-just-4-steps-abeab8b8d084"
   ]
  },
  {
   "cell_type": "code",
   "execution_count": 2,
   "id": "16defe8f",
   "metadata": {},
   "outputs": [
    {
     "data": {
      "text/plain": [
       "'/home/ec2-user/SageMaker/teledermatologyAI_capstone/notebooks/modelling'"
      ]
     },
     "execution_count": 2,
     "metadata": {},
     "output_type": "execute_result"
    }
   ],
   "source": [
    "pwd"
   ]
  },
  {
   "cell_type": "code",
   "execution_count": 3,
   "id": "a4ea11bc",
   "metadata": {},
   "outputs": [
    {
     "name": "stdout",
     "output_type": "stream",
     "text": [
      "/home/ec2-user/SageMaker/teledermatologyAI_capstone\n"
     ]
    }
   ],
   "source": [
    "cd /home/ec2-user/SageMaker/teledermatologyAI_capstone"
   ]
  },
  {
   "cell_type": "code",
   "execution_count": 4,
   "id": "880393db",
   "metadata": {},
   "outputs": [],
   "source": [
    "# create new virtual env\n",
    "# !python -m venv w210_env"
   ]
  },
  {
   "cell_type": "code",
   "execution_count": 5,
   "id": "aab82706",
   "metadata": {},
   "outputs": [],
   "source": [
    "# run this for every instance spin up\n",
    "# !source w210_env/bin/activate && ipython kernel install --user --name w210_env"
   ]
  },
  {
   "cell_type": "code",
   "execution_count": 6,
   "id": "0ed7b399",
   "metadata": {},
   "outputs": [],
   "source": [
    "# run this if added new packages\n",
    "# !./w210_env/bin/pip install -r requirements.txt"
   ]
  },
  {
   "cell_type": "code",
   "execution_count": 7,
   "id": "0d7f8c07",
   "metadata": {},
   "outputs": [],
   "source": [
    "# %pip install -r requirements.txt\n",
    "# !pip uninstall sklearn --y"
   ]
  },
  {
   "cell_type": "code",
   "execution_count": 8,
   "id": "8d8b90bc",
   "metadata": {},
   "outputs": [],
   "source": [
    "# import sys\n",
    "# print(sys.prefix)\n",
    "# !which pip\n",
    "# !./w210_env/bin/pip show scikit-learn"
   ]
  },
  {
   "cell_type": "code",
   "execution_count": 9,
   "id": "6f117718",
   "metadata": {},
   "outputs": [],
   "source": [
    "import os\n",
    "import glob\n",
    "import shutil\n",
    "import time\n",
    "import copy\n",
    "import random\n",
    "import itertools\n",
    "from datetime import datetime\n",
    "from pytz import timezone\n",
    "\n",
    "import pandas as pd\n",
    "from pandas_profiling import ProfileReport\n",
    "import numpy as np\n",
    "\n",
    "import matplotlib.pyplot as plt\n",
    "import matplotlib.image as mp_image\n",
    "import seaborn as sns\n",
    "\n",
    "from IPython.display import Image, display\n",
    "\n",
    "from torchvision.datasets import ImageFolder\n",
    "import torchvision.transforms as transforms\n",
    "import torchvision.models as models\n",
    "\n",
    "import torch\n",
    "from torch.utils.data import DataLoader\n",
    "from torch.utils.mobile_optimizer import optimize_for_mobile\n",
    "import torch.nn as nn\n",
    "\n",
    "from torch_lr_finder import LRFinder\n",
    "\n",
    "from sklearn.metrics import confusion_matrix, f1_score\n",
    "\n",
    "import awswrangler as wr\n",
    "\n",
    "from pytorchtools import EarlyStopping\n",
    "\n",
    "# expand pandas df rows/column widths etc.\n",
    "pd.set_option(\"display.max_rows\", None, # display all rows\n",
    "              \"display.max_columns\", None, # display all columns\n",
    "              \"display.max_colwidth\", None, # expand column width\n",
    "              \"display.html.use_mathjax\", False\n",
    "             ) # disable Latex style mathjax rendering"
   ]
  },
  {
   "cell_type": "code",
   "execution_count": 10,
   "id": "a3762d05",
   "metadata": {},
   "outputs": [
    {
     "name": "stdout",
     "output_type": "stream",
     "text": [
      "Data split: data_class_folder8\n",
      "Total classes: 5\n",
      "Total num train images: 18072\n",
      "Total num val images: 3576\n",
      "Total num test images: 2418\n",
      "                                                Class  Train  Val  Test\n",
      "0                              Benign Marking or Mole   3616  721   486\n",
      "1                        Non-Cancerous Skin Condition   3610  696   495\n",
      "2                   Potentially Malignant Skin Tumors   3622  724   456\n",
      "3  Toxin, Fungal, Bug, Viral, or Bacterial Infections   3660  722   458\n",
      "4                                        Unclassified   3564  713   523\n"
     ]
    }
   ],
   "source": [
    "# credits: https://github.com/yuliyabohdan/Skin-diseases-classification-Dermnet-/blob/main/skin_diseases_clas_ResNet50.ipynb\n",
    "data_split = 'split_8'\n",
    "data_dir = 'data_class_folder8'\n",
    "\n",
    "DIR = data_dir\n",
    "DIR_TRAIN = f'{DIR}/train/'\n",
    "DIR_VAL = f'{DIR}/val/'\n",
    "DIR_TEST = f'{DIR}/test/' \n",
    "\n",
    "classes = sorted(os.listdir(DIR_TRAIN))\n",
    "print(f'Data split: {DIR}')\n",
    "print(f'Total classes: {len(classes)}')\n",
    "\n",
    "# total train, val and test images\n",
    "train_count = 0\n",
    "val_count = 0\n",
    "test_count = 0\n",
    "\n",
    "classes_df = []\n",
    "for _class in classes:\n",
    "    class_dict = {}\n",
    "    train_count += len(os.listdir(DIR_TRAIN + _class))\n",
    "    val_count += len(os.listdir(DIR_VAL + _class))\n",
    "    test_count += len(os.listdir(DIR_TEST + _class))\n",
    "    class_dict.update({'Class': _class, \n",
    "                       'Train': len(os.listdir(DIR_TRAIN + _class)),\n",
    "                       'Val': len(os.listdir(DIR_VAL + _class)),\n",
    "                       'Test': len(os.listdir(DIR_TEST + _class)) })\n",
    "    classes_df.append(class_dict)\n",
    "\n",
    "print(f'Total num train images: {train_count}')\n",
    "print(f'Total num val images: {val_count}')\n",
    "print(f'Total num test images: {test_count}')\n",
    "print(pd.DataFrame(classes_df))"
   ]
  },
  {
   "cell_type": "markdown",
   "id": "9291cc99",
   "metadata": {},
   "source": [
    "# Modeling"
   ]
  },
  {
   "cell_type": "code",
   "execution_count": 11,
   "id": "e1d79d5e",
   "metadata": {},
   "outputs": [],
   "source": [
    "def set_parameter_requires_grad(model, feature_extracting):\n",
    "    if feature_extracting:\n",
    "        for param in model.parameters():\n",
    "            param.requires_grad = False\n",
    "            \n",
    "def initialize_model(model_name, num_classes, feature_extract=True):\n",
    "    # Initialize these variables which will be set in this if statement. Each of these\n",
    "    #   variables is model specific.\n",
    "    model_ft = None\n",
    "    input_size = 0\n",
    "\n",
    "    if model_name == \"resnet\":\n",
    "        \"\"\" Resnet50\n",
    "        \"\"\"\n",
    "        model_ft = models.resnet50(weights='DEFAULT')\n",
    "        #we can select any possible variation of ResNet such as Resnet18, Resnet34, Resnet50, Resnet101, and Resnet152\n",
    "        set_parameter_requires_grad(model_ft, feature_extract)\n",
    "        num_ftrs = model_ft.fc.in_features\n",
    "        model_ft.fc = nn.Linear(num_ftrs, num_classes)\n",
    "        input_size = 224\n",
    "\n",
    "    elif model_name == \"alexnet\":\n",
    "        \"\"\" Alexnet\n",
    "        \"\"\"\n",
    "        model_ft = models.alexnet(pretrained=use_pretrained)\n",
    "        set_parameter_requires_grad(model_ft, feature_extract)\n",
    "        num_ftrs = model_ft.classifier[6].in_features\n",
    "        model_ft.classifier[6] = nn.Linear(num_ftrs,num_classes)\n",
    "        input_size = 224\n",
    "\n",
    "    elif model_name == \"vgg\":\n",
    "        \"\"\" VGG11_bn\n",
    "        \"\"\"\n",
    "        model_ft = models.vgg11_bn(pretrained=use_pretrained)\n",
    "        set_parameter_requires_grad(model_ft, feature_extract)\n",
    "        num_ftrs = model_ft.classifier[6].in_features\n",
    "        model_ft.classifier[6] = nn.Linear(num_ftrs,num_classes)\n",
    "        input_size = 224\n",
    "\n",
    "    elif model_name == \"squeezenet\":\n",
    "        \"\"\" Squeezenet\n",
    "        \"\"\"\n",
    "        model_ft = models.squeezenet1_0(pretrained=use_pretrained)\n",
    "        set_parameter_requires_grad(model_ft, feature_extract)\n",
    "        model_ft.classifier[1] = nn.Conv2d(512, num_classes, kernel_size=(1,1), stride=(1,1))\n",
    "        model_ft.num_classes = num_classes\n",
    "        input_size = 224\n",
    "\n",
    "    elif model_name == \"densenet\":\n",
    "        \"\"\" Densenet\n",
    "        \"\"\"\n",
    "        model_ft = models.densenet121(pretrained=use_pretrained)\n",
    "        set_parameter_requires_grad(model_ft, feature_extract)\n",
    "        num_ftrs = model_ft.classifier.in_features\n",
    "        model_ft.classifier = nn.Linear(num_ftrs, num_classes) \n",
    "        input_size = 224\n",
    "\n",
    "    elif model_name == \"inception\":\n",
    "        \"\"\" Inception v3 \n",
    "        Be careful, expects (299,299) sized images and has auxiliary output\n",
    "        \"\"\"\n",
    "        model_ft = models.inception_v3(pretrained=use_pretrained)\n",
    "        set_parameter_requires_grad(model_ft, feature_extract)\n",
    "        # Handle the auxilary net\n",
    "        num_ftrs = model_ft.AuxLogits.fc.in_features\n",
    "        model_ft.AuxLogits.fc = nn.Linear(num_ftrs, num_classes)\n",
    "        # Handle the primary net\n",
    "        num_ftrs = model_ft.fc.in_features\n",
    "        model_ft.fc = nn.Linear(num_ftrs,num_classes)\n",
    "        input_size = 299\n",
    "        \n",
    "    elif model_name == \"mobilenetv2\":\n",
    "        model_ft = models.mobilenet_v2(weights='DEFAULT')\n",
    "        set_parameter_requires_grad(model_ft, feature_extract)\n",
    "        model_ft.classifier = nn.Linear(1280, num_classes) \n",
    "        input_size = 224\n",
    "\n",
    "    else:\n",
    "        print(\"Invalid model name, exiting...\")\n",
    "        exit()\n",
    "\n",
    "    return model_ft, input_size"
   ]
  },
  {
   "cell_type": "code",
   "execution_count": 12,
   "id": "f619c193",
   "metadata": {},
   "outputs": [],
   "source": [
    "# https://stackoverflow.com/questions/67959327/how-to-calculate-the-f1-score\n",
    "def train_model(model, dataloaders, criterion, optimizer, num_epochs, patience):\n",
    "    since = time.time()\n",
    "\n",
    "    val_acc_history = []\n",
    "    val_loss_history = []\n",
    "    train_acc_history = []\n",
    "    train_loss_history = []\n",
    "\n",
    "    best_model_wts = copy.deepcopy(model.state_dict())\n",
    "    best_acc = 0.0\n",
    "    \n",
    "    # initialize the early_stopping object\n",
    "    early_stopping = EarlyStopping(patience=patience, verbose=True)\n",
    "\n",
    "\n",
    "    for epoch in range(num_epochs):\n",
    "        print('\\nEpoch {}/{}'.format(epoch, num_epochs - 1))\n",
    "        print('-' * 10)\n",
    "\n",
    "        # Each epoch has a training and validation phase\n",
    "        for phase in ['train', 'val']:\n",
    "            if phase == 'train':\n",
    "                model.train()  # Set model to training mode\n",
    "            else:               \n",
    "                model.eval()   # Set model to evaluate mode\n",
    "                #update_bn_stats(model=model, data_loader=dataloaders[phase])  # if update_bn_stats\n",
    "                \n",
    "            running_loss = 0.0\n",
    "            running_corrects = 0\n",
    "\n",
    "            # Iterate over data.\n",
    "            for inputs, labels in dataloaders[phase]:\n",
    "                inputs = inputs.to(device)\n",
    "                labels = labels.to(device)\n",
    "\n",
    "                # zero the parameter gradients\n",
    "                optimizer.zero_grad()\n",
    "\n",
    "                # forward\n",
    "                # track history if only in train\n",
    "                with torch.set_grad_enabled(phase == 'train'):\n",
    "                    # Get model outputs and calculate loss\n",
    "                    # Special case for inception because in training it has an auxiliary output. In train\n",
    "                    #   mode we calculate the loss by summing the final output and the auxiliary output\n",
    "                    #   but in testing we only consider the final output.\n",
    "                    \n",
    "                    outputs = model(inputs)\n",
    "                    loss = criterion(outputs, labels)\n",
    "\n",
    "                    _, preds = torch.max(outputs, 1)\n",
    "\n",
    "                    # backward + optimize only if in training phase\n",
    "                    if phase == 'train':\n",
    "                        loss.backward()\n",
    "                        optimizer.step()\n",
    "\n",
    "                      # statistics\n",
    "                running_loss += loss.item() * inputs.size(0)\n",
    "                running_corrects += torch.sum(preds == labels.data)\n",
    "#                 f1score = f1_score(labels.cpu().data, preds.cpu(), average='macro')\n",
    "\n",
    "            epoch_loss = running_loss / len(dataloaders[phase].dataset)\n",
    "            epoch_acc = running_corrects.double() / len(dataloaders[phase].dataset)\n",
    "            \n",
    "            print('{} Loss: {:.4f} Acc: {:.4f}'.format(phase, epoch_loss, epoch_acc))\n",
    "            \n",
    "            # deep copy the model\n",
    "            if phase == 'val' and epoch_acc > best_acc:\n",
    "                best_acc = epoch_acc\n",
    "                best_model_wts = copy.deepcopy(model.state_dict())\n",
    "            if phase == 'val':\n",
    "                val_acc_history.append(epoch_acc)\n",
    "                val_loss_history.append(epoch_loss)\n",
    "                \n",
    "#                 # early_stopping needs the validation loss to check if it has decresed, \n",
    "#                 # and if it has, it will make a checkpoint of the current model\n",
    "#                 early_stopping(epoch_loss, model)\n",
    "#                 if early_stopping.early_stop:\n",
    "#                     best_acc = epoch_acc\n",
    "#                     best_model_wts = copy.deepcopy(model.state_dict())\n",
    "#                     print(\"Early stopping\")\n",
    "#                     break     \n",
    "            if phase == 'train':\n",
    "                train_acc_history.append(epoch_acc)\n",
    "                train_loss_history.append(epoch_loss)\n",
    "        \n",
    "        print()\n",
    "\n",
    "    time_elapsed = time.time() - since\n",
    "    print('Training complete in {:.0f}m {:.0f}s'.format(time_elapsed // 60, time_elapsed % 60))\n",
    "    print('Best val Acc: {:4f}'.format(best_acc))\n",
    "   \n",
    "    # load best model weights\n",
    "    model.load_state_dict(best_model_wts)\n",
    "    return model, val_acc_history"
   ]
  },
  {
   "cell_type": "code",
   "execution_count": 13,
   "id": "d2d6d7b8",
   "metadata": {},
   "outputs": [],
   "source": [
    "def test_model(model, dl, normalize=True):\n",
    "    model.eval()\n",
    "    true_labels = []\n",
    "    predictions = []\n",
    "    total = 0\n",
    "    num_correct = 0\n",
    "    with torch.no_grad():\n",
    "        for images, labels in dl:\n",
    "            images, labels = images.to(device), labels.to(device)\n",
    "            outputs = model(images)\n",
    "            predicted = torch.argmax(outputs.data,-1)        \n",
    "            true_labels.append(labels.cpu().numpy())\n",
    "            predictions.append(predicted.cpu().numpy())\n",
    "            total += labels.size(0)\n",
    "            num_correct += (predicted == labels).sum()\n",
    "        print(f'Test Accuracy of the model: {float(num_correct)/float(total)*100:.2f}')    \n",
    "        true_labels = np.hstack(true_labels)\n",
    "        predictions = np.hstack(predictions)\n",
    "\n",
    "    return true_labels, predictions"
   ]
  },
  {
   "cell_type": "code",
   "execution_count": 14,
   "id": "c8706419",
   "metadata": {},
   "outputs": [],
   "source": [
    "# x, y - find the img from class x labelled as class y \n",
    "def test(model, dl, x, y, normalize=True):\n",
    "    model.eval()\n",
    "    true_labels = []\n",
    "    predictions = []\n",
    "    images_list = []\n",
    "\n",
    "    with torch.no_grad():\n",
    "        for images, labels in dl:\n",
    "            images_list.append(images.cpu().numpy())\n",
    "            images, labels = images.to(device), labels.to(device)\n",
    "            outputs = model(images)\n",
    "            predicted = torch.argmax(outputs.data,-1)        \n",
    "            true_labels.append(labels.cpu().numpy())\n",
    "            predictions.append(predicted.cpu().numpy())\n",
    "    \n",
    "    for n in range(60):\n",
    "        for i in range(32):\n",
    "            if (true_labels[n][i] == x)  & (predictions[n][i] == y):\n",
    "                #inv_tensor = inv_normalize(image_list[n][i]])\n",
    "                plt.imshow(np.transpose(images_list[n][i], (1, 2, 0)))\n",
    "                plt.show()"
   ]
  },
  {
   "cell_type": "markdown",
   "id": "d3a1338e",
   "metadata": {},
   "source": [
    "# Grid Search"
   ]
  },
  {
   "cell_type": "code",
   "execution_count": 19,
   "id": "4c9aef84",
   "metadata": {},
   "outputs": [],
   "source": [
    "epochs_list = [10]\n",
    "learning_rate_list = [0.00056]\n",
    "batch_size_list = [64]\n",
    "optimizer_list = [\n",
    "#     'Adam', \n",
    "    'AdamW', \n",
    "#     'SGD'\n",
    "]\n",
    "\n",
    "model_list = [\n",
    "#     'mobilenetv2',\n",
    "#     'densenet',\n",
    "    'resnet'\n",
    "]\n",
    "\n",
    "grid_list = [\n",
    "    epochs_list,\n",
    "    learning_rate_list,\n",
    "    batch_size_list,\n",
    "    optimizer_list,\n",
    "    model_list\n",
    "            ]\n",
    "\n",
    "grid = list(itertools.product(*grid_list))\n",
    "random.shuffle(grid)"
   ]
  },
  {
   "cell_type": "code",
   "execution_count": 20,
   "id": "7225c7d9",
   "metadata": {},
   "outputs": [
    {
     "name": "stdout",
     "output_type": "stream",
     "text": [
      "\n",
      "  1. epochs=10 \n",
      "     learning_rate=0.00056 \n",
      "     batch_size=64 \n",
      "     optimizer=AdamW\n",
      "     model=resnet\n",
      "        \n",
      "Params to learn:\n",
      "\t fc.weight\n",
      "\t fc.bias\n",
      "\n",
      "Epoch 0/9\n",
      "----------\n",
      "train Loss: 1.0190 Acc: 0.6099\n",
      "val Loss: 0.8583 Acc: 0.6641\n",
      "\n",
      "\n",
      "Epoch 1/9\n",
      "----------\n",
      "train Loss: 0.8461 Acc: 0.6712\n",
      "val Loss: 0.7965 Acc: 0.6798\n",
      "\n",
      "\n",
      "Epoch 2/9\n",
      "----------\n",
      "train Loss: 0.8041 Acc: 0.6868\n",
      "val Loss: 0.7726 Acc: 0.6952\n",
      "\n",
      "\n",
      "Epoch 3/9\n",
      "----------\n",
      "train Loss: 0.7789 Acc: 0.6974\n",
      "val Loss: 0.7534 Acc: 0.7053\n",
      "\n",
      "\n",
      "Epoch 4/9\n",
      "----------\n",
      "train Loss: 0.7721 Acc: 0.6954\n",
      "val Loss: 0.7462 Acc: 0.7013\n",
      "\n",
      "\n",
      "Epoch 5/9\n",
      "----------\n",
      "train Loss: 0.7528 Acc: 0.7058\n",
      "val Loss: 0.7416 Acc: 0.7089\n",
      "\n",
      "\n",
      "Epoch 6/9\n",
      "----------\n",
      "train Loss: 0.7494 Acc: 0.7070\n",
      "val Loss: 0.7280 Acc: 0.7142\n",
      "\n",
      "\n",
      "Epoch 7/9\n",
      "----------\n",
      "train Loss: 0.7374 Acc: 0.7126\n",
      "val Loss: 0.7317 Acc: 0.7136\n",
      "\n",
      "\n",
      "Epoch 8/9\n",
      "----------\n",
      "train Loss: 0.7308 Acc: 0.7169\n",
      "val Loss: 0.7219 Acc: 0.7100\n",
      "\n",
      "\n",
      "Epoch 9/9\n",
      "----------\n",
      "train Loss: 0.7315 Acc: 0.7153\n",
      "val Loss: 0.7208 Acc: 0.7122\n",
      "\n",
      "Training complete in 13m 15s\n",
      "Best val Acc: 0.714206\n"
     ]
    },
    {
     "data": {
      "text/html": [
       "<div>\n",
       "<style scoped>\n",
       "    .dataframe tbody tr th:only-of-type {\n",
       "        vertical-align: middle;\n",
       "    }\n",
       "\n",
       "    .dataframe tbody tr th {\n",
       "        vertical-align: top;\n",
       "    }\n",
       "\n",
       "    .dataframe thead th {\n",
       "        text-align: right;\n",
       "    }\n",
       "</style>\n",
       "<table border=\"1\" class=\"dataframe tex2jax_ignore\">\n",
       "  <thead>\n",
       "    <tr style=\"text-align: right;\">\n",
       "      <th></th>\n",
       "      <th>dataset</th>\n",
       "      <th>num_classes</th>\n",
       "      <th>model</th>\n",
       "      <th>val_accuracy</th>\n",
       "      <th>train_time (min)</th>\n",
       "      <th>epochs</th>\n",
       "      <th>learning_rate</th>\n",
       "      <th>optimizer</th>\n",
       "      <th>batch_size</th>\n",
       "    </tr>\n",
       "  </thead>\n",
       "  <tbody>\n",
       "    <tr>\n",
       "      <th>0</th>\n",
       "      <td>split_8</td>\n",
       "      <td>5</td>\n",
       "      <td>resnet</td>\n",
       "      <td>0.66</td>\n",
       "      <td>13</td>\n",
       "      <td>10</td>\n",
       "      <td>0.00056</td>\n",
       "      <td>AdamW</td>\n",
       "      <td>64</td>\n",
       "    </tr>\n",
       "  </tbody>\n",
       "</table>\n",
       "</div>"
      ],
      "text/plain": [
       "   dataset num_classes   model val_accuracy train_time (min) epochs  \\\n",
       "0  split_8           5  resnet         0.66               13     10   \n",
       "\n",
       "   learning_rate optimizer batch_size  \n",
       "0        0.00056     AdamW         64  "
      ]
     },
     "execution_count": 20,
     "metadata": {},
     "output_type": "execute_result"
    }
   ],
   "source": [
    "norm_mean = (0.52282846, 0.40116197, 0.3771196) #(0.485, 0.456, 0.406)\n",
    "norm_std = (0.26569337, 0.22866993, 0.23022729) #(0.229, 0.224, 0.225)\n",
    "num_workers = 16\n",
    "feature_extract=True\n",
    "num_loop = 1\n",
    "\n",
    "results_df = pd.DataFrame(columns=[\n",
    "    'dataset',\n",
    "    'num_classes',\n",
    "    'model',\n",
    "    'val_accuracy',\n",
    "    'train_time (min)',\n",
    "    'epochs',\n",
    "    'learning_rate',\n",
    "    'optimizer',\n",
    "    'batch_size',\n",
    "])\n",
    "\n",
    "for i in range(num_loop):\n",
    "    print(f'''\n",
    "  {i+1}. epochs={grid[i][0]} \n",
    "     learning_rate={grid[i][1]} \n",
    "     batch_size={grid[i][2]} \n",
    "     optimizer={grid[i][3]}\n",
    "     model={grid[i][4]}\n",
    "        ''') \n",
    "    start_time = time.time()#datetime.now(timezone('America/Chicago')).strftime('%Y%m%d-%H%M%S')\n",
    "    model_ft, input_size = initialize_model(model_name=grid[i][4], num_classes=len(classes), \n",
    "                                            feature_extract=feature_extract)\n",
    "    \n",
    "    train_dataset =ImageFolder(root = DIR_TRAIN, transform=transforms.Compose([\n",
    "        transforms.Resize((input_size, input_size)),\n",
    "        transforms.RandomHorizontalFlip(),\n",
    "        transforms.RandomVerticalFlip(),\n",
    "        transforms.RandomRotation(20),\n",
    "        transforms.RandomCrop(size=(input_size, input_size)),\n",
    "        transforms.ToTensor(), transforms.Normalize(norm_mean, norm_std)]))\n",
    "\n",
    "    valid_dataset = ImageFolder(root = DIR_VAL, transform=transforms.Compose([\n",
    "        transforms.Resize((input_size, input_size)), \n",
    "        transforms.ToTensor(),\n",
    "        transforms.Normalize(norm_mean, norm_std)]))\n",
    "\n",
    "    test_dataset = ImageFolder(root = DIR_TEST, transform=transforms.Compose([\n",
    "        transforms.Resize((input_size,input_size)), \n",
    "        transforms.ToTensor(),\n",
    "        transforms.Normalize(norm_mean, norm_std)]))\n",
    "    \n",
    "    dataloaders_dict = {}\n",
    "    dataloaders_dict['train'] = DataLoader(train_dataset, batch_size=grid[i][2], \n",
    "                                           shuffle=True, num_workers=num_workers)\n",
    "    dataloaders_dict['val'] = DataLoader(valid_dataset, batch_size=grid[i][2], \n",
    "                                         shuffle=False, num_workers=num_workers, drop_last=False)\n",
    "    dataloader_test = DataLoader(test_dataset, batch_size=grid[i][2], shuffle=False, \n",
    "                                 num_workers=num_workers, drop_last=False)\n",
    "    \n",
    "    device = torch.device('cuda:0' if torch.cuda.is_available() else 'cpu')\n",
    "    model_ft = model_ft.to(device)\n",
    "    \n",
    "    # Gather the parameters to be optimized/updated in this run. If we are\n",
    "    #  fine tuning we will be updating all parameters. However, if we are \n",
    "    #  doing feature extract method, we will only update the parameters\n",
    "    #  that we have just initialized, i.e. the parameters with requires_grad\n",
    "    #  is True.\n",
    "    params_to_update = model_ft.parameters()\n",
    "    print(\"Params to learn:\")\n",
    "    if feature_extract:\n",
    "        params_to_update = []\n",
    "        for name,param in model_ft.named_parameters():\n",
    "            if param.requires_grad == True:\n",
    "                params_to_update.append(param)\n",
    "                print(\"\\t\",name)\n",
    "    else:\n",
    "        for name,param in model_ft.named_parameters():\n",
    "            if param.requires_grad == True:\n",
    "                print(\"\\t\",name)\n",
    "                             \n",
    "    optimizer_ft = getattr(torch.optim, grid[i][3])(model_ft.parameters(), lr=grid[i][1])\n",
    "    criterion = nn.CrossEntropyLoss()\n",
    "    \n",
    "    model_ft, hist = train_model(model_ft, dataloaders_dict, criterion, optimizer_ft, \n",
    "                                 num_epochs=grid[i][0], patience=3)\n",
    "    \n",
    "    end_time = time.time() - start_time\n",
    "    \n",
    "    row = {\n",
    "        'dataset': data_split,\n",
    "        'num_classes': int(len(classes)),\n",
    "        'model': grid[i][4],\n",
    "        'val_accuracy': f'{hist[0].item():.2f}',\n",
    "        'train_time (min)': f'{end_time/60:.0f}',\n",
    "        'epochs': int(grid[i][0]),\n",
    "        'learning_rate': grid[i][1],\n",
    "        'optimizer': grid[i][3],\n",
    "        'batch_size': int(grid[i][2])\n",
    "    }\n",
    "    \n",
    "    new_df = pd.DataFrame([row])\n",
    "    results_df = pd.concat([results_df, new_df], axis=0, ignore_index=True).sort_values('val_accuracy', ascending = False)\n",
    "\n",
    "results_df"
   ]
  },
  {
   "cell_type": "code",
   "execution_count": 21,
   "id": "902bda80",
   "metadata": {},
   "outputs": [],
   "source": [
    "model_name = f'{data_split}_resnet_10e_AdamW_lr0_00056'\n",
    "torch.save(model_ft, f'model/{model_name}.pt')"
   ]
  },
  {
   "cell_type": "code",
   "execution_count": 22,
   "id": "b2827eb8",
   "metadata": {},
   "outputs": [],
   "source": [
    "model = torch.load(f'model/{model_name}.pt')"
   ]
  },
  {
   "cell_type": "code",
   "execution_count": 23,
   "id": "9657c228",
   "metadata": {},
   "outputs": [
    {
     "name": "stdout",
     "output_type": "stream",
     "text": [
      "Test Accuracy of the model: 70.02\n"
     ]
    },
    {
     "data": {
      "image/png": "[encoded data removed]",
      "text/plain": [
       "<Figure size 1200x1200 with 2 Axes>"
      ]
     },
     "metadata": {},
     "output_type": "display_data"
    }
   ],
   "source": [
    "true_labels, predictions = test_model(model, dataloader_test, normalize=True)\n",
    "c_matrix = confusion_matrix(true_labels, predictions, normalize='true')\n",
    "plt.figure(figsize=(12, 12))\n",
    "plt.title(\"Confusion matrix\")\n",
    "sns.heatmap(c_matrix, cmap='Blues', annot=True, xticklabels=classes, yticklabels=classes, fmt='.1%', cbar=True)\n",
    "plt.xlabel('predictions')\n",
    "plt.ylabel('true labels')\n",
    "plt.show()"
   ]
  },
  {
   "cell_type": "code",
   "execution_count": 24,
   "id": "92e46055",
   "metadata": {
    "tags": []
   },
   "outputs": [],
   "source": [
    "# # False prediction\n",
    "# test(model, dataloader_test, 2, 0) #(potentially malignant skin tumors, non-cancerous skin condition)"
   ]
  },
  {
   "cell_type": "code",
   "execution_count": 25,
   "id": "b57bd7a4",
   "metadata": {
    "tags": []
   },
   "outputs": [],
   "source": [
    "# # Correct prediction of autoimmune disorder\n",
    "# test(model, dataloader_test, 3, 3)"
   ]
  },
  {
   "cell_type": "code",
   "execution_count": 26,
   "id": "fe89facf",
   "metadata": {},
   "outputs": [],
   "source": [
    "# # Trace model\n",
    "\n",
    "# # must be the same size a minibatch with 1 example image\n",
    "# example = torch.rand(1, 3, 224, 224)\n",
    "\n",
    "# # move model back to cpu, do tracing, and optimize\n",
    "# model_conv = model.to('cpu')\n",
    "# traced_script_module = torch.jit.trace(model_conv, example)\n",
    "# torchscript_model_optimized = optimize_for_mobile(traced_script_module)\n",
    "\n",
    "# # save optimized model for mobile\n",
    "# PATH = f'model/{model_name}_traced.pt'\n",
    "# torchscript_model_optimized.save(PATH)"
   ]
  },
  {
   "cell_type": "markdown",
   "id": "9fadee9f",
   "metadata": {},
   "source": [
    "# Conversion from PyTorch to CoreML\n",
    "https://github.com/vincentfpgarcia/from-pytorch-to-coreml/blob/master/step6_part1.md"
   ]
  },
  {
   "cell_type": "code",
   "execution_count": 27,
   "id": "359ba441",
   "metadata": {},
   "outputs": [
    {
     "data": {
      "text/plain": [
       "'/home/ec2-user/SageMaker/teledermatologyAI_capstone'"
      ]
     },
     "execution_count": 27,
     "metadata": {},
     "output_type": "execute_result"
    }
   ],
   "source": [
    "pwd"
   ]
  },
  {
   "cell_type": "code",
   "execution_count": 28,
   "id": "14149a46",
   "metadata": {},
   "outputs": [
    {
     "data": {
      "text/plain": [
       "['Benign Marking or Mole',\n",
       " 'Non-Cancerous Skin Condition',\n",
       " 'Potentially Malignant Skin Tumors',\n",
       " 'Toxin, Fungal, Bug, Viral, or Bacterial Infections',\n",
       " 'Unclassified']"
      ]
     },
     "execution_count": 28,
     "metadata": {},
     "output_type": "execute_result"
    }
   ],
   "source": [
    "classes"
   ]
  },
  {
   "cell_type": "code",
   "execution_count": 29,
   "id": "62377c2c",
   "metadata": {},
   "outputs": [],
   "source": [
    "# model_name = 'resnet_10e_SGD_GS9'\n",
    "# !aws s3 cp s3://rubyhan-w210-datasets/model/\"$model_name\".pt model/\"$model_name\".pt"
   ]
  },
  {
   "cell_type": "code",
   "execution_count": 30,
   "id": "3ed230e3",
   "metadata": {},
   "outputs": [
    {
     "name": "stderr",
     "output_type": "stream",
     "text": [
      "WARNING:root:Torch version 1.13.0+cu117 has not been tested with coremltools. You may run into unexpected errors. Torch 1.12.1 is the most recent version that has been tested.\n",
      "Converting PyTorch Frontend ==> MIL Ops: 100%|█████████▉| 440/441 [00:00<00:00, 3693.86 ops/s]\n",
      "Running MIL Common passes:   0%|          | 0/38 [00:00<?, ? passes/s]/home/ec2-user/SageMaker/teledermatologyAI_capstone/w210_env/lib/python3.8/site-packages/coremltools/converters/mil/mil/passes/name_sanitization_utils.py:129: UserWarning: Output, '840', of the source model, has been renamed to 'var_840' in the Core ML model.\n",
      "  warnings.warn(msg.format(var.name, new_name))\n",
      "Running MIL Common passes: 100%|██████████| 38/38 [00:00<00:00, 57.53 passes/s] \n",
      "Running MIL Clean up passes: 100%|██████████| 11/11 [00:00<00:00, 99.65 passes/s]\n",
      "Translating MIL ==> NeuralNetwork Ops: 100%|██████████| 455/455 [00:02<00:00, 180.45 ops/s] \n"
     ]
    },
    {
     "name": "stdout",
     "output_type": "stream",
     "text": [
      "\n",
      "input {\n",
      "  name: \"my_input\"\n",
      "  type {\n",
      "    imageType {\n",
      "      width: 224\n",
      "      height: 224\n",
      "      colorSpace: RGB\n",
      "    }\n",
      "  }\n",
      "}\n",
      "output {\n",
      "  name: \"var_840\"\n",
      "  type {\n",
      "    dictionaryType {\n",
      "      stringKeyType {\n",
      "      }\n",
      "    }\n",
      "  }\n",
      "}\n",
      "output {\n",
      "  name: \"classLabel\"\n",
      "  type {\n",
      "    stringType {\n",
      "    }\n",
      "  }\n",
      "}\n",
      "predictedFeatureName: \"classLabel\"\n",
      "predictedProbabilitiesName: \"var_840\"\n",
      "metadata {\n",
      "  userDefined {\n",
      "    key: \"com.github.apple.coremltools.source\"\n",
      "    value: \"torch==1.13.0+cu117\"\n",
      "  }\n",
      "  userDefined {\n",
      "    key: \"com.github.apple.coremltools.version\"\n",
      "    value: \"6.0\"\n",
      "  }\n",
      "}\n",
      "\n"
     ]
    }
   ],
   "source": [
    "import coremltools as ct\n",
    "from coremltools.converters import ClassifierConfig\n",
    "\n",
    "classifier_config = ClassifierConfig(class_labels=classes)\n",
    "model = torch.load(f'model/{model_name}.pt', map_location=torch.device('cpu'))\n",
    "\n",
    "# Create dummy input\n",
    "dummy_input = torch.rand(1, 3, 224, 224)\n",
    "\n",
    "model_conv = model.to('cpu')\n",
    "\n",
    "# Trace the model\n",
    "traced_model = torch.jit.trace(model_conv, dummy_input)\n",
    "\n",
    "# Create the input image type\n",
    "input_image = ct.ImageType(name=\"my_input\", shape=(1, 3, 224, 224), scale=1/255)\n",
    "\n",
    "# Convert the model\n",
    "coreml_model = ct.convert(traced_model, inputs=[input_image], classifier_config=classifier_config)\n",
    "\n",
    "# Modify the output's name to \"my_output\" in the spec\n",
    "spec = coreml_model.get_spec()\n",
    "ct.utils.rename_feature(spec, \"840\", \"my_output\") #var_840\n",
    "\n",
    "# Re-create the model from the updated spec\n",
    "coreml_model_updated = ct.models.MLModel(spec)\n",
    "\n",
    "# Save the CoreML model\n",
    "coremlmodel_name = model_name\n",
    "coreml_model_updated.save(f'model/{coremlmodel_name}.mlmodel')\n",
    "\n",
    "# Load the CoreML model\n",
    "model =  ct.models.MLModel(f'model/{coremlmodel_name}.mlmodel')\n",
    "\n",
    "# Display its specifications\n",
    "print()\n",
    "print(model)\n",
    "\n",
    "from PIL import Image\n",
    "\n",
    "# Load the test image\n",
    "# image = Image.open('inference/Potentially Malignant Skin Tumors/melanoma.jpeg')\n",
    "\n",
    "# # Prediction vector as a numpy array\n",
    "# pred = model.predict({'my_input': image.resize((224, 224))})\n",
    "# pred = pred['my_output']\n",
    "# pred = pred.squeeze()\n",
    "\n",
    "# # Display the most probable class\n",
    "# idx = pred.argmax()\n",
    "# print('Predicted class : %d (%s)' % (idx, classes[idx]))\n",
    "# pred['classLabel']"
   ]
  },
  {
   "cell_type": "markdown",
   "id": "85289396",
   "metadata": {},
   "source": [
    "# Inference"
   ]
  },
  {
   "cell_type": "code",
   "execution_count": 31,
   "id": "47792e8c",
   "metadata": {},
   "outputs": [],
   "source": [
    "inference_dataset = ImageFolder(root = 'inference/', transform=transforms.Compose([\n",
    "    transforms.Resize(255),\n",
    "    transforms.CenterCrop(224),\n",
    "    transforms.ToTensor(),\n",
    "    transforms.Normalize(norm_mean, norm_std)\n",
    "]))\n",
    "\n",
    "dataloader_inference = DataLoader(inference_dataset, batch_size=1, \n",
    "                                  shuffle=False, num_workers=1, drop_last=False)\n",
    "\n",
    "def inference_model(model, dl, normalize=True):\n",
    "    model.eval()\n",
    "    true_labels = []\n",
    "    predictions = []\n",
    "    total = 0\n",
    "    num_correct = 0\n",
    "    # device = torch.device('cpu')\n",
    "    device = torch.device('cuda:0' if torch.cuda.is_available() else 'cpu')\n",
    "    \n",
    "    with torch.no_grad():\n",
    "        for images, labels in dl:\n",
    "            images, labels = images.to(device), labels.to(device)\n",
    "            outputs = model(images)\n",
    "            predicted = torch.argmax(outputs.data,-1)        \n",
    "            true_labels.append(labels.cpu().numpy())\n",
    "            predictions.append(predicted.cpu().numpy())\n",
    "            total += labels.size(0)\n",
    "            num_correct += (predicted == labels).sum()\n",
    "        print(f'Inference Accuracy of the model: {float(num_correct)/float(total)*100:.2f}')    \n",
    "        true_labels = np.hstack(true_labels)\n",
    "        predictions = np.hstack(predictions)\n",
    "\n",
    "    return true_labels, predictions"
   ]
  },
  {
   "cell_type": "code",
   "execution_count": 32,
   "id": "d4ed770d",
   "metadata": {},
   "outputs": [
    {
     "data": {
      "text/plain": [
       "'split_8_resnet_10e_AdamW_lr0_00056'"
      ]
     },
     "metadata": {},
     "output_type": "display_data"
    },
    {
     "name": "stdout",
     "output_type": "stream",
     "text": [
      "Inference Accuracy of the model: 20.00\n"
     ]
    }
   ],
   "source": [
    "# model = torch.jit.load(f'model/{model_name}_traced.pt')\n",
    "model = torch.load(f'model/{model_name}.pt')\n",
    "display(model_name)\n",
    "true_labels, predictions = inference_model(model, dataloader_inference, normalize=True)"
   ]
  },
  {
   "cell_type": "code",
   "execution_count": 33,
   "id": "e66f0d51",
   "metadata": {},
   "outputs": [
    {
     "data": {
      "text/plain": [
       "['Benign Marking or Mole',\n",
       " 'Non-Cancerous Skin Condition',\n",
       " 'Potentially Malignant Skin Tumors',\n",
       " 'Toxin, Fungal, Bug, Viral, or Bacterial Infections',\n",
       " 'Unclassified']"
      ]
     },
     "execution_count": 33,
     "metadata": {},
     "output_type": "execute_result"
    }
   ],
   "source": [
    "classes"
   ]
  },
  {
   "cell_type": "code",
   "execution_count": 34,
   "id": "ee8389c9",
   "metadata": {},
   "outputs": [
    {
     "data": {
      "text/plain": [
       "array([0, 1, 2, 3, 4])"
      ]
     },
     "execution_count": 34,
     "metadata": {},
     "output_type": "execute_result"
    }
   ],
   "source": [
    "true_labels"
   ]
  },
  {
   "cell_type": "code",
   "execution_count": 35,
   "id": "dea5405c",
   "metadata": {},
   "outputs": [
    {
     "data": {
      "text/plain": [
       "array([0, 2, 0, 2, 2])"
      ]
     },
     "execution_count": 35,
     "metadata": {},
     "output_type": "execute_result"
    }
   ],
   "source": [
    "predictions"
   ]
  },
  {
   "cell_type": "code",
   "execution_count": 36,
   "id": "6aafe1ab",
   "metadata": {},
   "outputs": [],
   "source": [
    "# !tar -czf model/model.tar.gz model/merged_resnet50.pt"
   ]
  },
  {
   "cell_type": "code",
   "execution_count": 37,
   "id": "348680ce",
   "metadata": {},
   "outputs": [
    {
     "name": "stdout",
     "output_type": "stream",
     "text": [
      "upload: model/split_8_resnet_10e_AdamW_lr0_00056.mlmodel to s3://rubyhan-w210-datasets/model/split_8_resnet_10e_AdamW_lr0_00056.mlmodel\n"
     ]
    }
   ],
   "source": [
    "!aws s3 cp model/\"$model_name\".mlmodel s3://rubyhan-w210-datasets/model/"
   ]
  },
  {
   "cell_type": "code",
   "execution_count": null,
   "id": "40510943",
   "metadata": {},
   "outputs": [],
   "source": []
  }
 ],
 "metadata": {
  "kernelspec": {
   "display_name": "w210_env",
   "language": "python",
   "name": "w210_env"
  },
  "language_info": {
   "codemirror_mode": {
    "name": "ipython",
    "version": 3
   },
   "file_extension": ".py",
   "mimetype": "text/x-python",
   "name": "python",
   "nbconvert_exporter": "python",
   "pygments_lexer": "ipython3",
   "version": "3.8.12"
  }
 },
 "nbformat": 4,
 "nbformat_minor": 5
}
