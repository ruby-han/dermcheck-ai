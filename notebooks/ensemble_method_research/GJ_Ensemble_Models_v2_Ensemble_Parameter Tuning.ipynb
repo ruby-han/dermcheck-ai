{
 "cells": [
  {
   "cell_type": "code",
   "execution_count": 1,
   "id": "54a597a3",
   "metadata": {},
   "outputs": [],
   "source": [
    "import pandas as pd\n",
    "import numpy as np\n",
    "import pickle\n",
    "#\n",
    "from sklearn.metrics import confusion_matrix, ConfusionMatrixDisplay\n",
    "import matplotlib\n",
    "import matplotlib.pyplot as plt\n",
    "import matplotlib.gridspec as gridspec\n",
    "\n",
    "#\n",
    "import seaborn as sns\n",
    "import plotly.express as px\n",
    "\n",
    "#\n",
    "import os\n",
    "import random\n",
    "import re\n",
    "import math\n",
    "import time\n",
    "\n",
    "from tqdm import tqdm\n",
    "from tqdm.keras import TqdmCallback\n",
    "\n",
    "#from pandas_summary import DataFrameSummary\n",
    "#from pandas_profiling import ProfileReport\n",
    "from sklearn.model_selection import train_test_split\n",
    "from sklearn.linear_model import LogisticRegression\n",
    "from keras.preprocessing import image\n",
    "import sklearn.neighbors._base\n",
    "import xgboost as xgb\n",
    "\n",
    "from sklearn.model_selection import StratifiedKFold, train_test_split, cross_val_score, cross_validate\n",
    "from sklearn.metrics import accuracy_score, roc_auc_score, roc_curve\n",
    "\n",
    "import sys\n",
    "sys.modules['sklearn.neighbors.base'] = sklearn.neighbors._base\n",
    "\n",
    "import warnings\n",
    "from missingpy import MissForest\n",
    "from PIL import Image\n",
    "\n",
    "#load torch library\n",
    "from torchvision.datasets import ImageFolder\n",
    "import torchvision.transforms as transforms\n",
    "import torchvision.models as models\n",
    "\n",
    "import torch\n",
    "from torch.utils.data import DataLoader\n",
    "from torch.utils.mobile_optimizer import optimize_for_mobile\n",
    "import torch.nn as nn\n",
    "warnings.filterwarnings('ignore') \n",
    "%matplotlib notebook\n",
    "%matplotlib inline"
   ]
  },
  {
   "cell_type": "markdown",
   "id": "7358fdaf",
   "metadata": {},
   "source": [
    "### Load Data"
   ]
  },
  {
   "cell_type": "code",
   "execution_count": 2,
   "id": "51e4a522",
   "metadata": {},
   "outputs": [
    {
     "data": {
      "text/html": [
       "<div>\n",
       "<style scoped>\n",
       "    .dataframe tbody tr th:only-of-type {\n",
       "        vertical-align: middle;\n",
       "    }\n",
       "\n",
       "    .dataframe tbody tr th {\n",
       "        vertical-align: top;\n",
       "    }\n",
       "\n",
       "    .dataframe thead th {\n",
       "        text-align: right;\n",
       "    }\n",
       "</style>\n",
       "<table border=\"1\" class=\"dataframe\">\n",
       "  <thead>\n",
       "    <tr style=\"text-align: right;\">\n",
       "      <th></th>\n",
       "      <th>age_impute_mf</th>\n",
       "      <th>reds</th>\n",
       "      <th>greens</th>\n",
       "      <th>blues</th>\n",
       "      <th>mean_colors</th>\n",
       "      <th>missing_anatomy</th>\n",
       "      <th>missing_sex</th>\n",
       "      <th>missing_age</th>\n",
       "      <th>age_impute_mode</th>\n",
       "      <th>age_impute_median</th>\n",
       "      <th>...</th>\n",
       "      <th>anatomy_mode_lower extremity</th>\n",
       "      <th>anatomy_mode_neck</th>\n",
       "      <th>anatomy_mode_oral/genital</th>\n",
       "      <th>anatomy_mode_palms/soles</th>\n",
       "      <th>anatomy_mode_scalp</th>\n",
       "      <th>anatomy_mode_torso</th>\n",
       "      <th>anatomy_mode_trunk</th>\n",
       "      <th>anatomy_mode_upper extremity</th>\n",
       "      <th>path</th>\n",
       "      <th>split_3</th>\n",
       "    </tr>\n",
       "  </thead>\n",
       "  <tbody>\n",
       "    <tr>\n",
       "      <th>0</th>\n",
       "      <td>70.0</td>\n",
       "      <td>223.231963</td>\n",
       "      <td>163.819367</td>\n",
       "      <td>177.606848</td>\n",
       "      <td>188.219393</td>\n",
       "      <td>0.0</td>\n",
       "      <td>0.0</td>\n",
       "      <td>0.0</td>\n",
       "      <td>70.0</td>\n",
       "      <td>70.0</td>\n",
       "      <td>...</td>\n",
       "      <td>0</td>\n",
       "      <td>0</td>\n",
       "      <td>0</td>\n",
       "      <td>0</td>\n",
       "      <td>0</td>\n",
       "      <td>0</td>\n",
       "      <td>0</td>\n",
       "      <td>0</td>\n",
       "      <td>./Data/ISIC_2018/Train/HAM10000_images_part_1_...</td>\n",
       "      <td>test</td>\n",
       "    </tr>\n",
       "    <tr>\n",
       "      <th>1</th>\n",
       "      <td>75.0</td>\n",
       "      <td>193.084081</td>\n",
       "      <td>150.232596</td>\n",
       "      <td>163.569293</td>\n",
       "      <td>168.961990</td>\n",
       "      <td>0.0</td>\n",
       "      <td>0.0</td>\n",
       "      <td>0.0</td>\n",
       "      <td>75.0</td>\n",
       "      <td>75.0</td>\n",
       "      <td>...</td>\n",
       "      <td>0</td>\n",
       "      <td>0</td>\n",
       "      <td>0</td>\n",
       "      <td>0</td>\n",
       "      <td>0</td>\n",
       "      <td>0</td>\n",
       "      <td>0</td>\n",
       "      <td>1</td>\n",
       "      <td>./Data/ISIC_2018/Train/HAM10000_images_part_1_...</td>\n",
       "      <td>train</td>\n",
       "    </tr>\n",
       "    <tr>\n",
       "      <th>2</th>\n",
       "      <td>70.0</td>\n",
       "      <td>143.451707</td>\n",
       "      <td>108.244748</td>\n",
       "      <td>134.621444</td>\n",
       "      <td>128.772633</td>\n",
       "      <td>0.0</td>\n",
       "      <td>0.0</td>\n",
       "      <td>0.0</td>\n",
       "      <td>70.0</td>\n",
       "      <td>70.0</td>\n",
       "      <td>...</td>\n",
       "      <td>0</td>\n",
       "      <td>0</td>\n",
       "      <td>0</td>\n",
       "      <td>0</td>\n",
       "      <td>0</td>\n",
       "      <td>0</td>\n",
       "      <td>0</td>\n",
       "      <td>0</td>\n",
       "      <td>./Data/ISIC_2018/Train/HAM10000_images_part_1_...</td>\n",
       "      <td>train</td>\n",
       "    </tr>\n",
       "    <tr>\n",
       "      <th>3</th>\n",
       "      <td>60.0</td>\n",
       "      <td>198.290763</td>\n",
       "      <td>169.923607</td>\n",
       "      <td>168.705607</td>\n",
       "      <td>178.973326</td>\n",
       "      <td>0.0</td>\n",
       "      <td>0.0</td>\n",
       "      <td>0.0</td>\n",
       "      <td>60.0</td>\n",
       "      <td>60.0</td>\n",
       "      <td>...</td>\n",
       "      <td>0</td>\n",
       "      <td>0</td>\n",
       "      <td>0</td>\n",
       "      <td>0</td>\n",
       "      <td>0</td>\n",
       "      <td>0</td>\n",
       "      <td>0</td>\n",
       "      <td>0</td>\n",
       "      <td>./Data/ISIC_2018/Train/HAM10000_images_part_1_...</td>\n",
       "      <td>train</td>\n",
       "    </tr>\n",
       "    <tr>\n",
       "      <th>4</th>\n",
       "      <td>75.0</td>\n",
       "      <td>180.339181</td>\n",
       "      <td>155.822085</td>\n",
       "      <td>176.047952</td>\n",
       "      <td>170.736406</td>\n",
       "      <td>0.0</td>\n",
       "      <td>0.0</td>\n",
       "      <td>0.0</td>\n",
       "      <td>75.0</td>\n",
       "      <td>75.0</td>\n",
       "      <td>...</td>\n",
       "      <td>0</td>\n",
       "      <td>0</td>\n",
       "      <td>0</td>\n",
       "      <td>0</td>\n",
       "      <td>0</td>\n",
       "      <td>0</td>\n",
       "      <td>0</td>\n",
       "      <td>1</td>\n",
       "      <td>./Data/ISIC_2018/Train/HAM10000_images_part_1_...</td>\n",
       "      <td>train</td>\n",
       "    </tr>\n",
       "  </tbody>\n",
       "</table>\n",
       "<p>5 rows × 56 columns</p>\n",
       "</div>"
      ],
      "text/plain": [
       "   age_impute_mf        reds      greens       blues  mean_colors  \\\n",
       "0           70.0  223.231963  163.819367  177.606848   188.219393   \n",
       "1           75.0  193.084081  150.232596  163.569293   168.961990   \n",
       "2           70.0  143.451707  108.244748  134.621444   128.772633   \n",
       "3           60.0  198.290763  169.923607  168.705607   178.973326   \n",
       "4           75.0  180.339181  155.822085  176.047952   170.736406   \n",
       "\n",
       "   missing_anatomy  missing_sex  missing_age  age_impute_mode  \\\n",
       "0              0.0          0.0          0.0             70.0   \n",
       "1              0.0          0.0          0.0             75.0   \n",
       "2              0.0          0.0          0.0             70.0   \n",
       "3              0.0          0.0          0.0             60.0   \n",
       "4              0.0          0.0          0.0             75.0   \n",
       "\n",
       "   age_impute_median  ...  anatomy_mode_lower extremity  anatomy_mode_neck  \\\n",
       "0               70.0  ...                             0                  0   \n",
       "1               75.0  ...                             0                  0   \n",
       "2               70.0  ...                             0                  0   \n",
       "3               60.0  ...                             0                  0   \n",
       "4               75.0  ...                             0                  0   \n",
       "\n",
       "   anatomy_mode_oral/genital anatomy_mode_palms/soles  anatomy_mode_scalp  \\\n",
       "0                          0                        0                   0   \n",
       "1                          0                        0                   0   \n",
       "2                          0                        0                   0   \n",
       "3                          0                        0                   0   \n",
       "4                          0                        0                   0   \n",
       "\n",
       "   anatomy_mode_torso  anatomy_mode_trunk  anatomy_mode_upper extremity  \\\n",
       "0                   0                   0                             0   \n",
       "1                   0                   0                             1   \n",
       "2                   0                   0                             0   \n",
       "3                   0                   0                             0   \n",
       "4                   0                   0                             1   \n",
       "\n",
       "                                                path  split_3  \n",
       "0  ./Data/ISIC_2018/Train/HAM10000_images_part_1_...     test  \n",
       "1  ./Data/ISIC_2018/Train/HAM10000_images_part_1_...    train  \n",
       "2  ./Data/ISIC_2018/Train/HAM10000_images_part_1_...    train  \n",
       "3  ./Data/ISIC_2018/Train/HAM10000_images_part_1_...    train  \n",
       "4  ./Data/ISIC_2018/Train/HAM10000_images_part_1_...    train  \n",
       "\n",
       "[5 rows x 56 columns]"
      ]
     },
     "execution_count": 2,
     "metadata": {},
     "output_type": "execute_result"
    }
   ],
   "source": [
    "df = pd.read_csv('./only_split_3.csv', index_col = 0)\n",
    "df.head()"
   ]
  },
  {
   "cell_type": "code",
   "execution_count": 3,
   "id": "3eae0c1d",
   "metadata": {},
   "outputs": [
    {
     "data": {
      "text/plain": [
       "{0: 'Benign Marking or Mole',\n",
       " 1: 'Non-Cancerous Skin Condition',\n",
       " 2: 'Potentially Malignant Skin Tumors',\n",
       " 3: 'Toxin, Fungal, Bug, Viral, or Bacterial Infections',\n",
       " 4: 'Unclassified'}"
      ]
     },
     "execution_count": 3,
     "metadata": {},
     "output_type": "execute_result"
    }
   ],
   "source": [
    "#create a mapping from labels to a unique integer and vice versa for labelling and prediction later\n",
    "labels = df['label'].sort_values(ascending=True).unique()\n",
    "i = 0\n",
    "idx2class = {} \n",
    "class2idx = {}\n",
    "for tp in labels:\n",
    "    idx2class[i] = tp\n",
    "    class2idx[tp] = i\n",
    "    i += 1\n",
    "idx2class"
   ]
  },
  {
   "cell_type": "code",
   "execution_count": 4,
   "id": "b4b6b08f",
   "metadata": {},
   "outputs": [
    {
     "data": {
      "text/html": [
       "<div>\n",
       "<style scoped>\n",
       "    .dataframe tbody tr th:only-of-type {\n",
       "        vertical-align: middle;\n",
       "    }\n",
       "\n",
       "    .dataframe tbody tr th {\n",
       "        vertical-align: top;\n",
       "    }\n",
       "\n",
       "    .dataframe thead th {\n",
       "        text-align: right;\n",
       "    }\n",
       "</style>\n",
       "<table border=\"1\" class=\"dataframe\">\n",
       "  <thead>\n",
       "    <tr style=\"text-align: right;\">\n",
       "      <th></th>\n",
       "      <th>age_impute_mf</th>\n",
       "      <th>reds</th>\n",
       "      <th>greens</th>\n",
       "      <th>blues</th>\n",
       "      <th>mean_colors</th>\n",
       "      <th>missing_anatomy</th>\n",
       "      <th>missing_sex</th>\n",
       "      <th>missing_age</th>\n",
       "      <th>age_impute_mode</th>\n",
       "      <th>age_impute_median</th>\n",
       "      <th>...</th>\n",
       "      <th>anatomy_mode_lower extremity</th>\n",
       "      <th>anatomy_mode_neck</th>\n",
       "      <th>anatomy_mode_oral/genital</th>\n",
       "      <th>anatomy_mode_palms/soles</th>\n",
       "      <th>anatomy_mode_scalp</th>\n",
       "      <th>anatomy_mode_torso</th>\n",
       "      <th>anatomy_mode_trunk</th>\n",
       "      <th>anatomy_mode_upper extremity</th>\n",
       "      <th>path</th>\n",
       "      <th>split_3</th>\n",
       "    </tr>\n",
       "  </thead>\n",
       "  <tbody>\n",
       "    <tr>\n",
       "      <th>0</th>\n",
       "      <td>70.0</td>\n",
       "      <td>223.231963</td>\n",
       "      <td>163.819367</td>\n",
       "      <td>177.606848</td>\n",
       "      <td>188.219393</td>\n",
       "      <td>0.0</td>\n",
       "      <td>0.0</td>\n",
       "      <td>0.0</td>\n",
       "      <td>70.0</td>\n",
       "      <td>70.0</td>\n",
       "      <td>...</td>\n",
       "      <td>0</td>\n",
       "      <td>0</td>\n",
       "      <td>0</td>\n",
       "      <td>0</td>\n",
       "      <td>0</td>\n",
       "      <td>0</td>\n",
       "      <td>0</td>\n",
       "      <td>0</td>\n",
       "      <td>./Data/ISIC_2018/Train/HAM10000_images_part_1_...</td>\n",
       "      <td>test</td>\n",
       "    </tr>\n",
       "    <tr>\n",
       "      <th>1</th>\n",
       "      <td>75.0</td>\n",
       "      <td>193.084081</td>\n",
       "      <td>150.232596</td>\n",
       "      <td>163.569293</td>\n",
       "      <td>168.961990</td>\n",
       "      <td>0.0</td>\n",
       "      <td>0.0</td>\n",
       "      <td>0.0</td>\n",
       "      <td>75.0</td>\n",
       "      <td>75.0</td>\n",
       "      <td>...</td>\n",
       "      <td>0</td>\n",
       "      <td>0</td>\n",
       "      <td>0</td>\n",
       "      <td>0</td>\n",
       "      <td>0</td>\n",
       "      <td>0</td>\n",
       "      <td>0</td>\n",
       "      <td>1</td>\n",
       "      <td>./Data/ISIC_2018/Train/HAM10000_images_part_1_...</td>\n",
       "      <td>train</td>\n",
       "    </tr>\n",
       "    <tr>\n",
       "      <th>2</th>\n",
       "      <td>70.0</td>\n",
       "      <td>143.451707</td>\n",
       "      <td>108.244748</td>\n",
       "      <td>134.621444</td>\n",
       "      <td>128.772633</td>\n",
       "      <td>0.0</td>\n",
       "      <td>0.0</td>\n",
       "      <td>0.0</td>\n",
       "      <td>70.0</td>\n",
       "      <td>70.0</td>\n",
       "      <td>...</td>\n",
       "      <td>0</td>\n",
       "      <td>0</td>\n",
       "      <td>0</td>\n",
       "      <td>0</td>\n",
       "      <td>0</td>\n",
       "      <td>0</td>\n",
       "      <td>0</td>\n",
       "      <td>0</td>\n",
       "      <td>./Data/ISIC_2018/Train/HAM10000_images_part_1_...</td>\n",
       "      <td>train</td>\n",
       "    </tr>\n",
       "    <tr>\n",
       "      <th>3</th>\n",
       "      <td>60.0</td>\n",
       "      <td>198.290763</td>\n",
       "      <td>169.923607</td>\n",
       "      <td>168.705607</td>\n",
       "      <td>178.973326</td>\n",
       "      <td>0.0</td>\n",
       "      <td>0.0</td>\n",
       "      <td>0.0</td>\n",
       "      <td>60.0</td>\n",
       "      <td>60.0</td>\n",
       "      <td>...</td>\n",
       "      <td>0</td>\n",
       "      <td>0</td>\n",
       "      <td>0</td>\n",
       "      <td>0</td>\n",
       "      <td>0</td>\n",
       "      <td>0</td>\n",
       "      <td>0</td>\n",
       "      <td>0</td>\n",
       "      <td>./Data/ISIC_2018/Train/HAM10000_images_part_1_...</td>\n",
       "      <td>train</td>\n",
       "    </tr>\n",
       "    <tr>\n",
       "      <th>4</th>\n",
       "      <td>75.0</td>\n",
       "      <td>180.339181</td>\n",
       "      <td>155.822085</td>\n",
       "      <td>176.047952</td>\n",
       "      <td>170.736406</td>\n",
       "      <td>0.0</td>\n",
       "      <td>0.0</td>\n",
       "      <td>0.0</td>\n",
       "      <td>75.0</td>\n",
       "      <td>75.0</td>\n",
       "      <td>...</td>\n",
       "      <td>0</td>\n",
       "      <td>0</td>\n",
       "      <td>0</td>\n",
       "      <td>0</td>\n",
       "      <td>0</td>\n",
       "      <td>0</td>\n",
       "      <td>0</td>\n",
       "      <td>1</td>\n",
       "      <td>./Data/ISIC_2018/Train/HAM10000_images_part_1_...</td>\n",
       "      <td>train</td>\n",
       "    </tr>\n",
       "  </tbody>\n",
       "</table>\n",
       "<p>5 rows × 56 columns</p>\n",
       "</div>"
      ],
      "text/plain": [
       "   age_impute_mf        reds      greens       blues  mean_colors  \\\n",
       "0           70.0  223.231963  163.819367  177.606848   188.219393   \n",
       "1           75.0  193.084081  150.232596  163.569293   168.961990   \n",
       "2           70.0  143.451707  108.244748  134.621444   128.772633   \n",
       "3           60.0  198.290763  169.923607  168.705607   178.973326   \n",
       "4           75.0  180.339181  155.822085  176.047952   170.736406   \n",
       "\n",
       "   missing_anatomy  missing_sex  missing_age  age_impute_mode  \\\n",
       "0              0.0          0.0          0.0             70.0   \n",
       "1              0.0          0.0          0.0             75.0   \n",
       "2              0.0          0.0          0.0             70.0   \n",
       "3              0.0          0.0          0.0             60.0   \n",
       "4              0.0          0.0          0.0             75.0   \n",
       "\n",
       "   age_impute_median  ...  anatomy_mode_lower extremity  anatomy_mode_neck  \\\n",
       "0               70.0  ...                             0                  0   \n",
       "1               75.0  ...                             0                  0   \n",
       "2               70.0  ...                             0                  0   \n",
       "3               60.0  ...                             0                  0   \n",
       "4               75.0  ...                             0                  0   \n",
       "\n",
       "   anatomy_mode_oral/genital  anatomy_mode_palms/soles  anatomy_mode_scalp  \\\n",
       "0                          0                         0                   0   \n",
       "1                          0                         0                   0   \n",
       "2                          0                         0                   0   \n",
       "3                          0                         0                   0   \n",
       "4                          0                         0                   0   \n",
       "\n",
       "   anatomy_mode_torso  anatomy_mode_trunk  anatomy_mode_upper extremity  \\\n",
       "0                   0                   0                             0   \n",
       "1                   0                   0                             1   \n",
       "2                   0                   0                             0   \n",
       "3                   0                   0                             0   \n",
       "4                   0                   0                             1   \n",
       "\n",
       "                                                path  split_3  \n",
       "0  ./Data/ISIC_2018/Train/HAM10000_images_part_1_...     test  \n",
       "1  ./Data/ISIC_2018/Train/HAM10000_images_part_1_...    train  \n",
       "2  ./Data/ISIC_2018/Train/HAM10000_images_part_1_...    train  \n",
       "3  ./Data/ISIC_2018/Train/HAM10000_images_part_1_...    train  \n",
       "4  ./Data/ISIC_2018/Train/HAM10000_images_part_1_...    train  \n",
       "\n",
       "[5 rows x 56 columns]"
      ]
     },
     "execution_count": 4,
     "metadata": {},
     "output_type": "execute_result"
    }
   ],
   "source": [
    "df['label'] = df['label'].replace(class2idx)\n",
    "df.head()"
   ]
  },
  {
   "cell_type": "code",
   "execution_count": 5,
   "id": "e98b8593",
   "metadata": {},
   "outputs": [
    {
     "data": {
      "text/plain": [
       "(13500, 56)"
      ]
     },
     "execution_count": 5,
     "metadata": {},
     "output_type": "execute_result"
    }
   ],
   "source": [
    "train = df[~df['split_3'].isin(['test', 'val'])]\n",
    "val = df[df['split_3'].isin(['val'])]\n",
    "test = df[df['split_3'].isin(['test'])]\n",
    "train.shape"
   ]
  },
  {
   "cell_type": "markdown",
   "id": "0da30c4e",
   "metadata": {},
   "source": [
    "### Split data"
   ]
  },
  {
   "cell_type": "code",
   "execution_count": 6,
   "id": "ff351d68",
   "metadata": {},
   "outputs": [],
   "source": [
    "X_meta_train = train.drop(['label', 'split_3', 'path'], axis=1).reset_index().drop('index', axis = 1)\n",
    "X_img_train = train.path.reset_index().drop('index', axis = 1)\n",
    "y_train = train.label.reset_index().drop('index', axis = 1)\n",
    "\n",
    "X_meta_val = val.drop(['label', 'split_3', 'path'], axis=1).reset_index().drop('index', axis = 1)\n",
    "X_img_val = val.path.reset_index().drop('index', axis = 1)\n",
    "y_val = val.label.reset_index().drop('index', axis = 1)\n",
    "\n",
    "X_meta_test = test.drop(['label', 'split_3', 'path'], axis=1).reset_index().drop('index', axis = 1)\n",
    "X_img_test = test.path.reset_index().drop('index', axis = 1)\n",
    "y_test = test.label.reset_index().drop('index', axis = 1)"
   ]
  },
  {
   "cell_type": "markdown",
   "id": "aff98e58",
   "metadata": {},
   "source": [
    "### Baseline test accuracy on saved meta model"
   ]
  },
  {
   "cell_type": "code",
   "execution_count": 7,
   "id": "0fc7e280",
   "metadata": {},
   "outputs": [],
   "source": [
    "meta_mod1 = pickle.load(open('models/finalized_meta.sav', 'rb'))"
   ]
  },
  {
   "cell_type": "code",
   "execution_count": 8,
   "id": "669aca73",
   "metadata": {},
   "outputs": [
    {
     "name": "stdout",
     "output_type": "stream",
     "text": [
      "0.48\n"
     ]
    }
   ],
   "source": [
    "result = meta_mod1.score(X_meta_test, y_test)\n",
    "print(result)"
   ]
  },
  {
   "cell_type": "markdown",
   "id": "78cd2495",
   "metadata": {},
   "source": [
    "### Baseline test accuracy on saved image model 1"
   ]
  },
  {
   "cell_type": "code",
   "execution_count": 9,
   "id": "afcfe38f",
   "metadata": {},
   "outputs": [],
   "source": [
    "img_mod1 = torch.load(f'models/resnet_split3_3e.pt', map_location=torch.device('cpu'))\n",
    "img_mod2 = torch.load(f'models/merged_resnet50.pt', map_location=torch.device('cpu'))\n",
    "img_mod3 = torch.load(f'models/vgg_15e_SGD_GS19.pt', map_location=torch.device('cpu'))\n",
    "img_mod4 = torch.load(f'models/vgg_20e_SGD_GS28.pt', map_location=torch.device('cpu'))\n",
    "img_mod5 = torch.load(f'models/resnet_10e_SGD_GS9.pt', map_location=torch.device('cpu'))\n",
    "img_mod6 = torch.load(f'models/resnet_50e_SGD_GS97.pt', map_location=torch.device('cpu'))\n",
    "\n",
    "img_mod7 = torch.load(f'models/resnet_15e_SGD_GS18.pt', map_location=torch.device('cpu'))\n",
    "img_mod8 = torch.load(f'models/resnet_50e_Adam_GS105.pt', map_location=torch.device('cpu'))\n",
    "img_mod9 = torch.load(f'models/resnet_20e_SGD_GS27.pt', map_location=torch.device('cpu'))"
   ]
  },
  {
   "cell_type": "code",
   "execution_count": 18,
   "id": "256bc194",
   "metadata": {},
   "outputs": [],
   "source": [
    "meta_mods = [meta_mod1]\n",
    "img_mods = [img_mod1,img_mod2,img_mod3,img_mod4,img_mod5,img_mod6,img_mod7,img_mod8,img_mod9]"
   ]
  },
  {
   "cell_type": "code",
   "execution_count": 19,
   "id": "fdebecfc",
   "metadata": {},
   "outputs": [],
   "source": [
    "# Create a preprocessing pipeline\n",
    "# preprocess = transforms.Compose([\n",
    "#         transforms.Resize(256),\n",
    "#         transforms.CenterCrop(224),\n",
    "#         transforms.ToTensor(),\n",
    "#         transforms.Normalize(\n",
    "#         mean=[0.485, 0.456, 0.406],\n",
    "#         std=[0.229, 0.224, 0.225]\n",
    "#     )])\n",
    "\n",
    "def image_predict(model, image_paths):\n",
    "    \n",
    "    preprocess = transforms.Compose([\n",
    "        transforms.Resize(256),\n",
    "        transforms.CenterCrop(224),\n",
    "        transforms.ToTensor(),\n",
    "        transforms.Normalize(\n",
    "        mean=[0.676, 0.542, 0.519],\n",
    "        std=[0.290, 0.226, 0.237]\n",
    "    )])\n",
    "\n",
    "    model.eval()\n",
    "    \n",
    "    y_pred = []\n",
    "    for file_name in image_paths.iloc[:,0]:\n",
    "        image = Image.open(file_name).convert('RGB')\n",
    "        # Pass the image for preprocessing and the image preprocessed\n",
    "        img_preprocessed = preprocess(image)\n",
    "        # Reshape, crop, and normalize the input tensor for feeding into network for evaluation\n",
    "        batch_img_tensor = torch.unsqueeze(img_preprocessed, 0)\n",
    "\n",
    "        output = model(batch_img_tensor)\n",
    "        predicted = torch.argmax(output,-1).cpu().numpy()  \n",
    "        \n",
    "        y_pred.append(predicted)\n",
    "    y_pred = np.array(y_pred)\n",
    "    \n",
    "    return y_pred"
   ]
  },
  {
   "cell_type": "code",
   "execution_count": 117,
   "id": "d00fc957",
   "metadata": {},
   "outputs": [
    {
     "name": "stdout",
     "output_type": "stream",
     "text": [
      "image model 1 accuracy: 0.6133333333333333\n",
      "image model 2 accuracy: 0.018333333333333333\n",
      "image model 3 accuracy: 0.6644444444444444\n",
      "image model 4 accuracy: 0.6761111111111111\n",
      "image model 5 accuracy: 0.6633333333333333\n",
      "image model 6 accuracy: 0.6777777777777778\n",
      "image model 7 accuracy: 0.6511111111111111\n",
      "image model 8 accuracy: 0.6633333333333333\n",
      "image model 9 accuracy: 0.6866666666666666\n"
     ]
    }
   ],
   "source": [
    "i = 1\n",
    "for img_mod in img_mods:\n",
    "    y_pred = image_predict(img_mod, X_img_test)\n",
    "    print(\"image model {0} accuracy:\".format(str(i)), accuracy_score(y_test, y_pred))\n",
    "    i += 1"
   ]
  },
  {
   "cell_type": "code",
   "execution_count": 52,
   "id": "46a3e210",
   "metadata": {},
   "outputs": [],
   "source": [
    "img_mods = [img_mod1,img_mod4,img_mod5,img_mod8,img_mod9]"
   ]
  },
  {
   "cell_type": "code",
   "execution_count": 53,
   "id": "6129c72e",
   "metadata": {},
   "outputs": [],
   "source": [
    "def ensemble_data_generator(meta_mods = None, img_mods = None, X_meta_data = None, image_paths = None):\n",
    "    \n",
    "    all_y_pred = None\n",
    "    \n",
    "    if meta_mods is not None and X_meta_data is not None:\n",
    "        i = 1\n",
    "        for meta_mod in meta_mods:\n",
    "            y_meta_pred = meta_mod.predict(X_meta_data)\n",
    "            if all_y_pred is None:\n",
    "                all_y_pred = y_meta_pred\n",
    "            else:\n",
    "                all_y_pred = np.column_stack((all_y_pred, y_meta_pred))\n",
    "            i += 1\n",
    "            \n",
    "    if img_mods is not None and image_paths is not None:\n",
    "        j = 1\n",
    "        for img_mod in img_mods:\n",
    "            y_img_pred = image_predict(img_mod, image_paths)[:,0]\n",
    "            if all_y_pred is None:\n",
    "                all_y_pred = y_img_pred\n",
    "            else:\n",
    "                all_y_pred = np.column_stack((all_y_pred, y_img_pred))\n",
    "            j += 1\n",
    "\n",
    "    col1 = [\"meta_mod\" + str(i) for i in range(1, i)]\n",
    "    col2 = [\"img_mod\" + str(i) for i in range(1, j)]\n",
    "    col3 = col1 + col2\n",
    "    all_y_pred = pd.DataFrame(all_y_pred, columns = col3)\n",
    "    \n",
    "    return all_y_pred"
   ]
  },
  {
   "cell_type": "markdown",
   "id": "cc7c37d8",
   "metadata": {},
   "source": [
    "### Output both models on validation file, which is used as training data for learner model"
   ]
  },
  {
   "cell_type": "code",
   "execution_count": 54,
   "id": "99732d9c",
   "metadata": {},
   "outputs": [
    {
     "data": {
      "text/html": [
       "<div>\n",
       "<style scoped>\n",
       "    .dataframe tbody tr th:only-of-type {\n",
       "        vertical-align: middle;\n",
       "    }\n",
       "\n",
       "    .dataframe tbody tr th {\n",
       "        vertical-align: top;\n",
       "    }\n",
       "\n",
       "    .dataframe thead th {\n",
       "        text-align: right;\n",
       "    }\n",
       "</style>\n",
       "<table border=\"1\" class=\"dataframe\">\n",
       "  <thead>\n",
       "    <tr style=\"text-align: right;\">\n",
       "      <th></th>\n",
       "      <th>meta_mod1</th>\n",
       "      <th>img_mod1</th>\n",
       "      <th>img_mod2</th>\n",
       "      <th>img_mod3</th>\n",
       "      <th>img_mod4</th>\n",
       "      <th>img_mod5</th>\n",
       "    </tr>\n",
       "  </thead>\n",
       "  <tbody>\n",
       "    <tr>\n",
       "      <th>0</th>\n",
       "      <td>0</td>\n",
       "      <td>0</td>\n",
       "      <td>0</td>\n",
       "      <td>0</td>\n",
       "      <td>0</td>\n",
       "      <td>0</td>\n",
       "    </tr>\n",
       "    <tr>\n",
       "      <th>1</th>\n",
       "      <td>0</td>\n",
       "      <td>0</td>\n",
       "      <td>0</td>\n",
       "      <td>0</td>\n",
       "      <td>0</td>\n",
       "      <td>0</td>\n",
       "    </tr>\n",
       "    <tr>\n",
       "      <th>2</th>\n",
       "      <td>0</td>\n",
       "      <td>0</td>\n",
       "      <td>0</td>\n",
       "      <td>0</td>\n",
       "      <td>0</td>\n",
       "      <td>0</td>\n",
       "    </tr>\n",
       "    <tr>\n",
       "      <th>3</th>\n",
       "      <td>0</td>\n",
       "      <td>0</td>\n",
       "      <td>0</td>\n",
       "      <td>0</td>\n",
       "      <td>0</td>\n",
       "      <td>0</td>\n",
       "    </tr>\n",
       "    <tr>\n",
       "      <th>4</th>\n",
       "      <td>0</td>\n",
       "      <td>2</td>\n",
       "      <td>2</td>\n",
       "      <td>2</td>\n",
       "      <td>2</td>\n",
       "      <td>2</td>\n",
       "    </tr>\n",
       "  </tbody>\n",
       "</table>\n",
       "</div>"
      ],
      "text/plain": [
       "   meta_mod1  img_mod1  img_mod2  img_mod3  img_mod4  img_mod5\n",
       "0          0         0         0         0         0         0\n",
       "1          0         0         0         0         0         0\n",
       "2          0         0         0         0         0         0\n",
       "3          0         0         0         0         0         0\n",
       "4          0         2         2         2         2         2"
      ]
     },
     "execution_count": 54,
     "metadata": {},
     "output_type": "execute_result"
    }
   ],
   "source": [
    "train_df = ensemble_data_generator(meta_mods = meta_mods, img_mods = img_mods, X_meta_data = X_meta_val, image_paths = X_img_val)\n",
    "train_df.head()"
   ]
  },
  {
   "cell_type": "markdown",
   "id": "65bf77f0",
   "metadata": {},
   "source": [
    "### Train Learner Model"
   ]
  },
  {
   "cell_type": "code",
   "execution_count": 55,
   "id": "f96facc0",
   "metadata": {},
   "outputs": [],
   "source": [
    "X = train_df\n",
    "y = y_val\n",
    "# taking holdout set for validating with stratified y\n",
    "\n",
    "X_train, X_holdout, y_train, y_holdout = train_test_split(X,\n",
    "                                                    y,\n",
    "                                                    test_size=0.2,\n",
    "                                                    stratify=y,\n",
    "                                                    random_state=42)\n",
    "\n",
    "# 5 fold stratify for cv\n",
    "cv = StratifiedKFold(5, shuffle=True, random_state=42)"
   ]
  },
  {
   "cell_type": "code",
   "execution_count": 56,
   "id": "5730387c",
   "metadata": {},
   "outputs": [],
   "source": [
    "xg = xgb.XGBClassifier(\n",
    "    n_estimators=750,\n",
    "    min_child_weight=1.2,\n",
    "    learning_rate=0.040,\n",
    "    max_depth=3,\n",
    "    subsample=0.80,\n",
    "    colsample_bytree=0.6,\n",
    "    gamma=0.25,\n",
    "    random_state=42,\n",
    "    n_jobs=-1,\n",
    "    objective='multi:softmax',\n",
    "    nthread=4\n",
    ")\n",
    "\n",
    "estimators = [xg]"
   ]
  },
  {
   "cell_type": "code",
   "execution_count": 57,
   "id": "99cb7708",
   "metadata": {},
   "outputs": [],
   "source": [
    "# cross validation scheme\n",
    "\n",
    "def model_check(X_train, y_train, estimators, cv):\n",
    "    model_table = pd.DataFrame()\n",
    "\n",
    "    row_index = 0\n",
    "    for est in estimators:\n",
    "\n",
    "        MLA_name = est.__class__.__name__\n",
    "        model_table.loc[row_index, 'Model Name'] = MLA_name\n",
    "\n",
    "        cv_results = cross_validate(est,\n",
    "                                    X_train,\n",
    "                                    y_train,\n",
    "                                    cv=cv,\n",
    "                                    scoring='accuracy',\n",
    "                                    return_train_score=True,\n",
    "                                    n_jobs=-1)\n",
    "\n",
    "        model_table.loc[row_index,\n",
    "                        'Train accuracy'] = cv_results['train_score'].mean()\n",
    "        model_table.loc[row_index,\n",
    "                        'Validation accuracy'] = cv_results['test_score'].mean()\n",
    "        model_table.loc[row_index, 'Validation Std'] = cv_results['test_score'].std()\n",
    "        model_table.loc[row_index, 'Time'] = cv_results['fit_time'].mean()\n",
    "\n",
    "        row_index += 1\n",
    "\n",
    "    model_table.sort_values(by=['Validation accuracy'],\n",
    "                            ascending=False,\n",
    "                            inplace=True)\n",
    "\n",
    "    return model_table"
   ]
  },
  {
   "cell_type": "code",
   "execution_count": 58,
   "id": "1a6299fb",
   "metadata": {},
   "outputs": [
    {
     "data": {
      "text/html": [
       "<div>\n",
       "<style scoped>\n",
       "    .dataframe tbody tr th:only-of-type {\n",
       "        vertical-align: middle;\n",
       "    }\n",
       "\n",
       "    .dataframe tbody tr th {\n",
       "        vertical-align: top;\n",
       "    }\n",
       "\n",
       "    .dataframe thead th {\n",
       "        text-align: right;\n",
       "    }\n",
       "</style>\n",
       "<table border=\"1\" class=\"dataframe\">\n",
       "  <thead>\n",
       "    <tr style=\"text-align: right;\">\n",
       "      <th></th>\n",
       "      <th>Model Name</th>\n",
       "      <th>Train accuracy</th>\n",
       "      <th>Validation accuracy</th>\n",
       "      <th>Validation Std</th>\n",
       "      <th>Time</th>\n",
       "    </tr>\n",
       "  </thead>\n",
       "  <tbody>\n",
       "    <tr>\n",
       "      <th>0</th>\n",
       "      <td>XGBClassifier</td>\n",
       "      <td>0.765972</td>\n",
       "      <td>0.708796</td>\n",
       "      <td>0.017223</td>\n",
       "      <td>4.003478</td>\n",
       "    </tr>\n",
       "  </tbody>\n",
       "</table>\n",
       "</div>"
      ],
      "text/plain": [
       "      Model Name  Train accuracy  Validation accuracy  Validation Std  \\\n",
       "0  XGBClassifier        0.765972             0.708796        0.017223   \n",
       "\n",
       "       Time  \n",
       "0  4.003478  "
      ]
     },
     "metadata": {},
     "output_type": "display_data"
    }
   ],
   "source": [
    "# display cv results\n",
    "\n",
    "raw_models = model_check(X_train, y_train, estimators, cv)\n",
    "display(raw_models)"
   ]
  },
  {
   "cell_type": "code",
   "execution_count": 59,
   "id": "3d2823a8",
   "metadata": {},
   "outputs": [
    {
     "data": {
      "text/plain": [
       "0.725925925925926"
      ]
     },
     "execution_count": 59,
     "metadata": {},
     "output_type": "execute_result"
    }
   ],
   "source": [
    "xg.fit(X_train, y_train)\n",
    "\n",
    "# predicting on holdout set\n",
    "y_pred = xg.predict(X_holdout)\n",
    "\n",
    "# checking results on test set\n",
    "accuracy_score(y_holdout, y_pred)"
   ]
  },
  {
   "cell_type": "markdown",
   "id": "a609e137",
   "metadata": {},
   "source": [
    "### Parameter Tuning"
   ]
  },
  {
   "cell_type": "code",
   "execution_count": 90,
   "id": "a5a15ea2",
   "metadata": {},
   "outputs": [],
   "source": [
    "from xgboost.sklearn import XGBClassifier\n",
    "from sklearn.model_selection import GridSearchCV\n",
    "xgb1 = XGBClassifier(\n",
    "    n_estimators=750,\n",
    "    min_child_weight=0.16,\n",
    "    learning_rate=0.033,\n",
    "    max_depth=1,\n",
    "    subsample=0.80,\n",
    "    colsample_bytree=0.4,\n",
    "    gamma=0.25,\n",
    "    random_state=42,\n",
    "    n_jobs=-1,\n",
    "    objective='multi:softmax',\n",
    "    nthread=4\n",
    ")"
   ]
  },
  {
   "cell_type": "code",
   "execution_count": 91,
   "id": "86bcfd5a",
   "metadata": {},
   "outputs": [],
   "source": [
    "def getTrainScores(gs):\n",
    "    results = {}\n",
    "    runs = 0\n",
    "    for x,y in zip(list(gs.cv_results_['mean_test_score']), gs.cv_results_['params']):\n",
    "        results[runs] = 'mean:' + str(x) + 'params' + str(y)\n",
    "        runs += 1\n",
    "    best = {'best_mean': gs.best_score_, \"best_param\":gs.best_params_}\n",
    "    return results, best"
   ]
  },
  {
   "cell_type": "code",
   "execution_count": 92,
   "id": "11e6b5e1",
   "metadata": {},
   "outputs": [
    {
     "name": "stdout",
     "output_type": "stream",
     "text": [
      "Fitting 5 folds for each of 49 candidates, totalling 245 fits\n"
     ]
    },
    {
     "data": {
      "text/plain": [
       "({0: \"mean:0.7125params{'gamma': 0.01}\",\n",
       "  1: \"mean:0.7125params{'gamma': 0.02}\",\n",
       "  2: \"mean:0.7125params{'gamma': 0.03}\",\n",
       "  3: \"mean:0.7125params{'gamma': 0.04}\",\n",
       "  4: \"mean:0.7125params{'gamma': 0.05}\",\n",
       "  5: \"mean:0.7125params{'gamma': 0.060000000000000005}\",\n",
       "  6: \"mean:0.7125params{'gamma': 0.06999999999999999}\",\n",
       "  7: \"mean:0.7125params{'gamma': 0.08}\",\n",
       "  8: \"mean:0.7125params{'gamma': 0.09}\",\n",
       "  9: \"mean:0.7125params{'gamma': 0.09999999999999999}\",\n",
       "  10: \"mean:0.7125params{'gamma': 0.11}\",\n",
       "  11: \"mean:0.7125params{'gamma': 0.12}\",\n",
       "  12: \"mean:0.7125params{'gamma': 0.13}\",\n",
       "  13: \"mean:0.7125params{'gamma': 0.14}\",\n",
       "  14: \"mean:0.7125params{'gamma': 0.15000000000000002}\",\n",
       "  15: \"mean:0.7125params{'gamma': 0.16}\",\n",
       "  16: \"mean:0.7125params{'gamma': 0.17}\",\n",
       "  17: \"mean:0.7125params{'gamma': 0.18000000000000002}\",\n",
       "  18: \"mean:0.7125params{'gamma': 0.19}\",\n",
       "  19: \"mean:0.7125params{'gamma': 0.2}\",\n",
       "  20: \"mean:0.7125params{'gamma': 0.21000000000000002}\",\n",
       "  21: \"mean:0.7125params{'gamma': 0.22}\",\n",
       "  22: \"mean:0.712962962962963params{'gamma': 0.23}\",\n",
       "  23: \"mean:0.712962962962963params{'gamma': 0.24000000000000002}\",\n",
       "  24: \"mean:0.7125params{'gamma': 0.25}\",\n",
       "  25: \"mean:0.712962962962963params{'gamma': 0.26}\",\n",
       "  26: \"mean:0.712962962962963params{'gamma': 0.27}\",\n",
       "  27: \"mean:0.7134259259259259params{'gamma': 0.28}\",\n",
       "  28: \"mean:0.7125params{'gamma': 0.29000000000000004}\",\n",
       "  29: \"mean:0.7125params{'gamma': 0.3}\",\n",
       "  30: \"mean:0.712037037037037params{'gamma': 0.31}\",\n",
       "  31: \"mean:0.712037037037037params{'gamma': 0.32}\",\n",
       "  32: \"mean:0.7125params{'gamma': 0.33}\",\n",
       "  33: \"mean:0.7125params{'gamma': 0.34}\",\n",
       "  34: \"mean:0.7125params{'gamma': 0.35000000000000003}\",\n",
       "  35: \"mean:0.712037037037037params{'gamma': 0.36000000000000004}\",\n",
       "  36: \"mean:0.7125params{'gamma': 0.37}\",\n",
       "  37: \"mean:0.712037037037037params{'gamma': 0.38}\",\n",
       "  38: \"mean:0.712037037037037params{'gamma': 0.39}\",\n",
       "  39: \"mean:0.712037037037037params{'gamma': 0.4}\",\n",
       "  40: \"mean:0.712037037037037params{'gamma': 0.41000000000000003}\",\n",
       "  41: \"mean:0.712037037037037params{'gamma': 0.42000000000000004}\",\n",
       "  42: \"mean:0.712037037037037params{'gamma': 0.43}\",\n",
       "  43: \"mean:0.712037037037037params{'gamma': 0.44}\",\n",
       "  44: \"mean:0.7125params{'gamma': 0.45}\",\n",
       "  45: \"mean:0.712037037037037params{'gamma': 0.46}\",\n",
       "  46: \"mean:0.712037037037037params{'gamma': 0.47000000000000003}\",\n",
       "  47: \"mean:0.712037037037037params{'gamma': 0.48000000000000004}\",\n",
       "  48: \"mean:0.7125params{'gamma': 0.49}\"},\n",
       " {'best_mean': 0.7134259259259259, 'best_param': {'gamma': 0.28}})"
      ]
     },
     "execution_count": 92,
     "metadata": {},
     "output_type": "execute_result"
    }
   ],
   "source": [
    "param_test1 = {\n",
    " 'gamma':np.arange(0.01, 0.50, 0.01)\n",
    "}\n",
    "#metrics to consider: f1_micro, f1_macro, roc_auc_ovr\n",
    "gsearch1 = GridSearchCV(estimator = xgb1, param_grid = param_test1, scoring='accuracy', n_jobs=-1, verbose = 10, cv=5)\n",
    "gsearch1.fit(X_train, y_train)\n",
    "getTrainScores(gsearch1)"
   ]
  },
  {
   "cell_type": "markdown",
   "id": "7a474b3a",
   "metadata": {},
   "source": [
    "### Validate Tuning result on Holdout Group"
   ]
  },
  {
   "cell_type": "code",
   "execution_count": 94,
   "id": "daa1eaef",
   "metadata": {},
   "outputs": [
    {
     "data": {
      "text/plain": [
       "0.7148148148148148"
      ]
     },
     "execution_count": 94,
     "metadata": {},
     "output_type": "execute_result"
    }
   ],
   "source": [
    "xgb_f = XGBClassifier(\n",
    "    n_estimators=750,\n",
    "    min_child_weight=0.16,\n",
    "    learning_rate=0.033,\n",
    "    max_depth=1,\n",
    "    subsample=0.80,\n",
    "    colsample_bytree=0.4,\n",
    "    gamma=0.28,\n",
    "    random_state=42,\n",
    "    n_jobs=-1,\n",
    "    objective='multi:softmax',\n",
    "    nthread=4\n",
    ")\n",
    "xgb_f.fit(X_train, y_train)\n",
    "\n",
    "# predicting on holdout set\n",
    "y_pred = xgb_f.predict(X_holdout)\n",
    "\n",
    "# checking results on test set\n",
    "accuracy_score(y_holdout, y_pred)"
   ]
  },
  {
   "cell_type": "markdown",
   "id": "80cc41ed",
   "metadata": {},
   "source": [
    "### Save the learner model"
   ]
  },
  {
   "cell_type": "code",
   "execution_count": 95,
   "id": "054356d3",
   "metadata": {},
   "outputs": [],
   "source": [
    "xgb_f.fit(X, y)\n",
    "import pickle\n",
    "model = xg\n",
    "filename = 'finalized_learner.sav'\n",
    "pickle.dump(model, open(filename, 'wb'))"
   ]
  },
  {
   "cell_type": "markdown",
   "id": "a74c29b1",
   "metadata": {},
   "source": [
    "### Test the ensemble model on test file"
   ]
  },
  {
   "cell_type": "code",
   "execution_count": 96,
   "id": "d9f608e4",
   "metadata": {},
   "outputs": [],
   "source": [
    "learner_mod = pickle.load(open('finalized_learner.sav', 'rb'))"
   ]
  },
  {
   "cell_type": "code",
   "execution_count": 97,
   "id": "38262d58",
   "metadata": {},
   "outputs": [],
   "source": [
    "def ensemble_predict(meta_mods, img_mods, X_meta_data, image_paths, learner_mod):\n",
    "    \n",
    "    ensemble_X = ensemble_data_generator(meta_mods, img_mods, X_meta_data, image_paths)\n",
    "            \n",
    "    ensemble_pred = learner_mod.predict(ensemble_X)\n",
    "    \n",
    "    return ensemble_pred"
   ]
  },
  {
   "cell_type": "code",
   "execution_count": 98,
   "id": "cf65b6a0",
   "metadata": {},
   "outputs": [
    {
     "data": {
      "text/plain": [
       "0.7161111111111111"
      ]
     },
     "execution_count": 98,
     "metadata": {},
     "output_type": "execute_result"
    }
   ],
   "source": [
    "ensemble_pred = ensemble_predict(meta_mods, img_mods, X_meta_test, X_img_test, learner_mod)\n",
    "accuracy_score(y_test, ensemble_pred)"
   ]
  },
  {
   "cell_type": "code",
   "execution_count": null,
   "id": "ae9874d2",
   "metadata": {},
   "outputs": [],
   "source": []
  },
  {
   "cell_type": "code",
   "execution_count": null,
   "id": "ba8f1bc8",
   "metadata": {},
   "outputs": [],
   "source": []
  },
  {
   "cell_type": "code",
   "execution_count": null,
   "id": "71961ce8",
   "metadata": {},
   "outputs": [],
   "source": []
  },
  {
   "cell_type": "code",
   "execution_count": 28,
   "id": "16088694",
   "metadata": {},
   "outputs": [],
   "source": [
    "meta_pred = pd.DataFrame(meta_mod.predict(X_meta_test), columns = ['pred']).reset_index().drop('index', axis = 1)\n",
    "img_mod1_pred = image_predict(img_mod1, X_img_test)\n",
    "img_mod2_pred = image_predict(img_mod2, X_img_test)"
   ]
  },
  {
   "cell_type": "code",
   "execution_count": 30,
   "id": "0e0a0879",
   "metadata": {},
   "outputs": [
    {
     "data": {
      "text/plain": [
       "0.8083333333333333"
      ]
     },
     "execution_count": 30,
     "metadata": {},
     "output_type": "execute_result"
    }
   ],
   "source": [
    "ensemble_test_x = pd.concat([meta_pred, img_mod1_pred, img_mod2_pred], axis = 1)\n",
    "#ensemble_test_x.columns = ['1', '2', '3']\n",
    "ensemble_pred = learner_mod.predict(ensemble_test_x)\n",
    "accuracy_score(y_test, ensemble_pred)"
   ]
  },
  {
   "cell_type": "code",
   "execution_count": 32,
   "id": "3c2dc883",
   "metadata": {},
   "outputs": [
    {
     "data": {
      "image/png": "[encoded data removed]",
      "text/plain": [
       "<Figure size 432x288 with 2 Axes>"
      ]
     },
     "metadata": {
      "needs_background": "light"
     },
     "output_type": "display_data"
    }
   ],
   "source": [
    "ConfusionMatrixDisplay.from_predictions(meta_pred, y_test, display_labels=[i for i in idx2class.values()], \n",
    "                                        xticks_rotation = \"vertical\", cmap='Blues' , normalize = \"true\")\n",
    "plt.show()"
   ]
  },
  {
   "cell_type": "code",
   "execution_count": 33,
   "id": "74b63270",
   "metadata": {},
   "outputs": [
    {
     "data": {
      "image/png": "[encoded data removed]",
      "text/plain": [
       "<Figure size 432x288 with 2 Axes>"
      ]
     },
     "metadata": {
      "needs_background": "light"
     },
     "output_type": "display_data"
    }
   ],
   "source": [
    "ConfusionMatrixDisplay.from_predictions(img_mod1_pred, y_test, display_labels=[i for i in idx2class.values()], \n",
    "                                        xticks_rotation = \"vertical\", cmap='Blues' , normalize = \"true\")\n",
    "plt.show()"
   ]
  },
  {
   "cell_type": "code",
   "execution_count": 31,
   "id": "ec925a09",
   "metadata": {},
   "outputs": [
    {
     "data": {
      "image/png": "[encoded data removed]",
      "text/plain": [
       "<Figure size 432x288 with 2 Axes>"
      ]
     },
     "metadata": {
      "needs_background": "light"
     },
     "output_type": "display_data"
    }
   ],
   "source": [
    "ConfusionMatrixDisplay.from_predictions(ensemble_pred, y_test, display_labels=[i for i in idx2class.values()], \n",
    "                                        xticks_rotation = \"vertical\", cmap='Blues' , normalize = \"true\")\n",
    "plt.show()"
   ]
  },
  {
   "cell_type": "code",
   "execution_count": null,
   "id": "8ae87a24",
   "metadata": {},
   "outputs": [],
   "source": []
  }
 ],
 "metadata": {
  "kernelspec": {
   "display_name": "Python 3",
   "language": "python",
   "name": "python3"
  },
  "language_info": {
   "codemirror_mode": {
    "name": "ipython",
    "version": 3
   },
   "file_extension": ".py",
   "mimetype": "text/x-python",
   "name": "python",
   "nbconvert_exporter": "python",
   "pygments_lexer": "ipython3",
   "version": "3.8.8"
  }
 },
 "nbformat": 4,
 "nbformat_minor": 5
}
