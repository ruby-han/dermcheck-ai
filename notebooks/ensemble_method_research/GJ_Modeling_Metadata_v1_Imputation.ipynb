{
 "cells": [
  {
   "cell_type": "code",
   "execution_count": 1,
   "metadata": {
    "colab": {
     "base_uri": "https://localhost:8080/"
    },
    "id": "kcC1oBSR_eJv",
    "outputId": "66363b23-a4f9-4ae0-dac9-813b414574d2"
   },
   "outputs": [],
   "source": [
    "#!pip install"
   ]
  },
  {
   "cell_type": "code",
   "execution_count": 2,
   "metadata": {
    "id": "FU-dGDjnkx7M"
   },
   "outputs": [],
   "source": [
    "import pandas as pd\n",
    "import numpy as np\n",
    "\n",
    "#\n",
    "from sklearn.metrics import confusion_matrix, ConfusionMatrixDisplay\n",
    "import matplotlib\n",
    "import matplotlib.pyplot as plt\n",
    "import matplotlib.gridspec as gridspec\n",
    "\n",
    "#\n",
    "\n",
    "import seaborn as sns\n",
    "import plotly.express as px\n",
    "\n",
    "#\n",
    "\n",
    "import os\n",
    "import random\n",
    "import re\n",
    "import math\n",
    "import time\n",
    "\n",
    "from tqdm import tqdm\n",
    "from tqdm.keras import TqdmCallback\n",
    "\n",
    "#from pandas_summary import DataFrameSummary\n",
    "#from pandas_profiling import ProfileReport\n",
    "from sklearn.model_selection import train_test_split\n",
    "from keras.preprocessing import image\n",
    "import sklearn.neighbors._base\n",
    "import sys\n",
    "sys.modules['sklearn.neighbors.base'] = sklearn.neighbors._base\n",
    "\n",
    "import warnings\n",
    "from missingpy import MissForest\n",
    "from PIL import Image\n",
    "warnings.filterwarnings('ignore') \n",
    "%matplotlib notebook\n",
    "%matplotlib inline"
   ]
  },
  {
   "cell_type": "code",
   "execution_count": 3,
   "metadata": {
    "id": "WIrYp_l1lJoO"
   },
   "outputs": [],
   "source": [
    "seed_val = 101\n",
    "random.seed(seed_val)\n",
    "np.random.seed(seed_val)\n",
    "# Setting color palette.\n",
    "orange_black = [\n",
    "    '#fdc029', '#df861d', '#FF6347', '#aa3d01', '#a30e15', '#800000', '#171820'\n",
    "]\n",
    "\n",
    "# Setting plot styling.\n",
    "plt.style.use('ggplot')"
   ]
  },
  {
   "cell_type": "code",
   "execution_count": 4,
   "metadata": {},
   "outputs": [],
   "source": [
    "# df = pd.read_csv('./full_data.csv', index_col = 0).rename(columns = {'duplicated': 'duplicate', 'class':'label'})\n",
    "# color_df = pd.read_csv('./full_data_with_color_data.csv')\n",
    "# df = df.merge(color_df[['image_id', 'reds', 'greens', 'blues', 'mean_colors']], on='image_id', how=\"inner\")\n",
    "# df.head()"
   ]
  },
  {
   "cell_type": "code",
   "execution_count": null,
   "metadata": {},
   "outputs": [],
   "source": []
  },
  {
   "cell_type": "markdown",
   "metadata": {
    "id": "N5-64ADbvbFS"
   },
   "source": [
    "###Load Non-Image Metadata"
   ]
  },
  {
   "cell_type": "code",
   "execution_count": 5,
   "metadata": {
    "colab": {
     "base_uri": "https://localhost:8080/",
     "height": 285
    },
    "id": "sswUIkU2lgpy",
    "outputId": "45e1600a-b2bc-4789-eef2-1e925dbac956"
   },
   "outputs": [
    {
     "name": "stdout",
     "output_type": "stream",
     "text": [
      "<class 'pandas.core.frame.DataFrame'>\n",
      "Int64Index: 62360 entries, 1182 to 63541\n",
      "Data columns (total 24 columns):\n",
      " #   Column        Non-Null Count  Dtype  \n",
      "---  ------        --------------  -----  \n",
      " 0   image_id      62360 non-null  object \n",
      " 1   diagnosis     62360 non-null  object \n",
      " 2   age           62360 non-null  float64\n",
      " 3   sex           62360 non-null  object \n",
      " 4   localization  62360 non-null  object \n",
      " 5   source        62360 non-null  object \n",
      " 6   severity      62360 non-null  object \n",
      " 7   path          62360 non-null  object \n",
      " 8   label         62360 non-null  object \n",
      " 9   duplicate     62360 non-null  bool   \n",
      " 10  dataset       62360 non-null  object \n",
      " 11  split_1       57869 non-null  object \n",
      " 12  split_2       36695 non-null  object \n",
      " 13  split_3       18000 non-null  object \n",
      " 14  label_1       62360 non-null  object \n",
      " 15  label_2       61785 non-null  object \n",
      " 16  label_3       61785 non-null  object \n",
      " 17  split_4       35236 non-null  object \n",
      " 18  split_5       34661 non-null  object \n",
      " 19  split_6       34661 non-null  object \n",
      " 20  reds          62360 non-null  float64\n",
      " 21  greens        62360 non-null  float64\n",
      " 22  blues         62360 non-null  float64\n",
      " 23  mean_colors   62360 non-null  float64\n",
      "dtypes: bool(1), float64(5), object(18)\n",
      "memory usage: 11.5+ MB\n"
     ]
    }
   ],
   "source": [
    "df = pd.read_csv('./full_data_v2.csv', index_col = 0).rename(columns = {'duplicated': 'duplicate', 'class':'label'})\n",
    "color_df = pd.read_csv('./full_data_with_color_data.csv')\n",
    "df = df.merge(color_df[['image_id', 'reds', 'greens', 'blues', 'mean_colors']], on='image_id', how=\"inner\")\n",
    "df = df[df['duplicate'] == False]\n",
    "df.info()"
   ]
  },
  {
   "cell_type": "code",
   "execution_count": 6,
   "metadata": {
    "colab": {
     "base_uri": "https://localhost:8080/"
    },
    "id": "tRaNoQTxlgnl",
    "outputId": "9bd6904c-2007-41ba-f6b8-8b13d5ae3b7b"
   },
   "outputs": [
    {
     "name": "stdout",
     "output_type": "stream",
     "text": [
      "Unclassified                                          0.516661\n",
      "Benign Marking or Mole                                0.286754\n",
      "Non-Cancerous Skin Condition                          0.074343\n",
      "Toxin, Fungal, Bug, Viral, or Bacterial Infections    0.064448\n",
      "Potentially Malignant Skin Tumors                     0.057793\n",
      "Name: label_1, dtype: float64\n",
      "Unclassified                                          0.521470\n",
      "Benign Marking or Mole                                0.289423\n",
      "Non-Cancerous Skin Condition                          0.075034\n",
      "Toxin, Fungal, Bug, Viral, or Bacterial Infections    0.065048\n",
      "Potentially Malignant Skin Tumors                     0.049025\n",
      "Name: label_2, dtype: float64\n",
      "Unclassified                         0.521470\n",
      "Benign Marking or Mole               0.289423\n",
      "Potentially Malignant Skin Tumors    0.114073\n",
      "Non-Cancerous Skin Condition         0.075034\n",
      "Name: label_3, dtype: float64\n"
     ]
    }
   ],
   "source": [
    "for label in ['label_1','label_2','label_3']:\n",
    "    print(df[label].value_counts(normalize = True))"
   ]
  },
  {
   "cell_type": "code",
   "execution_count": 7,
   "metadata": {},
   "outputs": [
    {
     "data": {
      "text/html": [
       "<div>\n",
       "<style scoped>\n",
       "    .dataframe tbody tr th:only-of-type {\n",
       "        vertical-align: middle;\n",
       "    }\n",
       "\n",
       "    .dataframe tbody tr th {\n",
       "        vertical-align: top;\n",
       "    }\n",
       "\n",
       "    .dataframe thead th {\n",
       "        text-align: right;\n",
       "    }\n",
       "</style>\n",
       "<table border=\"1\" class=\"dataframe\">\n",
       "  <thead>\n",
       "    <tr style=\"text-align: right;\">\n",
       "      <th></th>\n",
       "      <th>diagnosis</th>\n",
       "      <th>age</th>\n",
       "      <th>sex</th>\n",
       "      <th>localization</th>\n",
       "      <th>path</th>\n",
       "      <th>label</th>\n",
       "      <th>reds</th>\n",
       "      <th>greens</th>\n",
       "      <th>blues</th>\n",
       "      <th>mean_colors</th>\n",
       "    </tr>\n",
       "  </thead>\n",
       "  <tbody>\n",
       "    <tr>\n",
       "      <th>1182</th>\n",
       "      <td>benign keratosis-like lesions</td>\n",
       "      <td>80.0</td>\n",
       "      <td>male</td>\n",
       "      <td>scalp</td>\n",
       "      <td>./Data/ISIC_2018/Train/HAM10000_images_part_1_...</td>\n",
       "      <td>Benign Marking or Mole</td>\n",
       "      <td>208.736267</td>\n",
       "      <td>162.703426</td>\n",
       "      <td>181.659333</td>\n",
       "      <td>184.366342</td>\n",
       "    </tr>\n",
       "    <tr>\n",
       "      <th>1183</th>\n",
       "      <td>benign keratosis-like lesions</td>\n",
       "      <td>80.0</td>\n",
       "      <td>male</td>\n",
       "      <td>scalp</td>\n",
       "      <td>./Data/ISIC_2018/Train/HAM10000_images_part_1_...</td>\n",
       "      <td>Benign Marking or Mole</td>\n",
       "      <td>197.138056</td>\n",
       "      <td>156.542415</td>\n",
       "      <td>177.196333</td>\n",
       "      <td>176.958935</td>\n",
       "    </tr>\n",
       "    <tr>\n",
       "      <th>1184</th>\n",
       "      <td>benign keratosis-like lesions</td>\n",
       "      <td>80.0</td>\n",
       "      <td>male</td>\n",
       "      <td>scalp</td>\n",
       "      <td>./Data/ISIC_2018/Train/HAM10000_images_part_1_...</td>\n",
       "      <td>Benign Marking or Mole</td>\n",
       "      <td>214.053785</td>\n",
       "      <td>156.414959</td>\n",
       "      <td>174.070967</td>\n",
       "      <td>181.513237</td>\n",
       "    </tr>\n",
       "    <tr>\n",
       "      <th>1185</th>\n",
       "      <td>benign keratosis-like lesions</td>\n",
       "      <td>80.0</td>\n",
       "      <td>male</td>\n",
       "      <td>scalp</td>\n",
       "      <td>./Data/ISIC_2018/Train/HAM10000_images_part_1_...</td>\n",
       "      <td>Benign Marking or Mole</td>\n",
       "      <td>195.708563</td>\n",
       "      <td>142.608015</td>\n",
       "      <td>157.175893</td>\n",
       "      <td>165.164157</td>\n",
       "    </tr>\n",
       "    <tr>\n",
       "      <th>1186</th>\n",
       "      <td>benign keratosis-like lesions</td>\n",
       "      <td>75.0</td>\n",
       "      <td>male</td>\n",
       "      <td>ear</td>\n",
       "      <td>./Data/ISIC_2018/Train/HAM10000_images_part_1_...</td>\n",
       "      <td>Benign Marking or Mole</td>\n",
       "      <td>211.709311</td>\n",
       "      <td>167.980289</td>\n",
       "      <td>185.249274</td>\n",
       "      <td>188.312958</td>\n",
       "    </tr>\n",
       "  </tbody>\n",
       "</table>\n",
       "</div>"
      ],
      "text/plain": [
       "                          diagnosis   age   sex localization  \\\n",
       "1182  benign keratosis-like lesions  80.0  male        scalp   \n",
       "1183  benign keratosis-like lesions  80.0  male        scalp   \n",
       "1184  benign keratosis-like lesions  80.0  male        scalp   \n",
       "1185  benign keratosis-like lesions  80.0  male        scalp   \n",
       "1186  benign keratosis-like lesions  75.0  male          ear   \n",
       "\n",
       "                                                   path  \\\n",
       "1182  ./Data/ISIC_2018/Train/HAM10000_images_part_1_...   \n",
       "1183  ./Data/ISIC_2018/Train/HAM10000_images_part_1_...   \n",
       "1184  ./Data/ISIC_2018/Train/HAM10000_images_part_1_...   \n",
       "1185  ./Data/ISIC_2018/Train/HAM10000_images_part_1_...   \n",
       "1186  ./Data/ISIC_2018/Train/HAM10000_images_part_1_...   \n",
       "\n",
       "                       label        reds      greens       blues  mean_colors  \n",
       "1182  Benign Marking or Mole  208.736267  162.703426  181.659333   184.366342  \n",
       "1183  Benign Marking or Mole  197.138056  156.542415  177.196333   176.958935  \n",
       "1184  Benign Marking or Mole  214.053785  156.414959  174.070967   181.513237  \n",
       "1185  Benign Marking or Mole  195.708563  142.608015  157.175893   165.164157  \n",
       "1186  Benign Marking or Mole  211.709311  167.980289  185.249274   188.312958  "
      ]
     },
     "execution_count": 7,
     "metadata": {},
     "output_type": "execute_result"
    }
   ],
   "source": [
    "df2=df.replace('unknown',np.NaN).replace(0.0, np.NaN).drop(['duplicate', 'source', 'dataset', 'image_id',\n",
    "                                                           'label', 'label_1', 'label_2', 'split_1', 'split_2',\n",
    "                                                           'split_3', 'split_4', 'split_5', 'split_6',\n",
    "                                                            'severity'], axis=1).rename(columns = {'label_3': 'label'})\n",
    "df2['diagnosis'].fillna('unknown', inplace=True)\n",
    "df2.head()"
   ]
  },
  {
   "cell_type": "code",
   "execution_count": 8,
   "metadata": {},
   "outputs": [
    {
     "data": {
      "text/plain": [
       "Unclassified                         0.521470\n",
       "Benign Marking or Mole               0.289423\n",
       "Potentially Malignant Skin Tumors    0.114073\n",
       "Non-Cancerous Skin Condition         0.075034\n",
       "Name: label, dtype: float64"
      ]
     },
     "execution_count": 8,
     "metadata": {},
     "output_type": "execute_result"
    }
   ],
   "source": [
    "df2.label.value_counts(normalize = True)"
   ]
  },
  {
   "cell_type": "markdown",
   "metadata": {
    "id": "nUWeq_8EviYT"
   },
   "source": [
    "#Impute Missing Updated"
   ]
  },
  {
   "cell_type": "code",
   "execution_count": 9,
   "metadata": {},
   "outputs": [],
   "source": [
    "# df2['anatomy_impute_mode']=df2['localization'].fillna(df2['localization'].mode()[0])\n",
    "#df2['anatomy_impute_mode'].value_counts(normalize = True, dropna = False)"
   ]
  },
  {
   "cell_type": "code",
   "execution_count": 10,
   "metadata": {},
   "outputs": [],
   "source": [
    "df2['missing_anatomy'] = df2['localization'].isna().astype(int)\n",
    "df2['anatomy_impute_mode']=df2['localization'].fillna(df2['localization'].mode()[0])\n",
    "df2['missing_sex'] = df2['sex'].isna().astype(int)\n",
    "df2['sex_impute_mode']=df2['sex'].fillna(df2['sex'].mode()[0])\n",
    "df2['missing_age'] = df2['age'].isna().astype(int)\n",
    "df2['age_impute_mode']=df2['age'].fillna(df2['age'].mode()[0])\n",
    "df2['age_impute_median']=df2['age'].fillna(df2['age'].median())\n",
    "df2['age_impute_mean']=df2['age'].fillna(df2['age'].mean())\n",
    "df2['age_impute_max']=df2['age'].fillna(df2['age'].max())\n",
    "df2['age_impute_min']=df2['age'].fillna(df2['age'].min())"
   ]
  },
  {
   "cell_type": "code",
   "execution_count": 11,
   "metadata": {},
   "outputs": [],
   "source": [
    "### impute by research\n",
    "###: research paper: https://www.ncbi.nlm.nih.gov/pmc/articles/PMC6064677/ \n",
    "###: research paper: https://www.cancer.org/cancer/melanoma-skin-cancer/about/key-statistics.html\n",
    "# df2['age_impute_research'] = df2['age']\n",
    "# df2.loc[(df2['label'] == 'Potentially Malignant Skin Tumors') & (df2['age_impute_research'].isna()), 'age_impute_research'] = 65\n",
    "# df2.loc[(df2['label'] == 'Benign Marking or Mole') & (df2['age_impute_research'].isna()), 'age_impute_research'] = 85\n",
    "# df2.loc[(df2['label'] == 'Non-Cancerous Skin Condition') & (df2['age_impute_research'].isna()), 'age_impute_research'] = 60\n",
    "# df2.loc[(df2['label'] == 'Toxin, Fungal, Bug, Viral, or Bacterial Infections') & (df2['age_impute_research'].isna()), 'age_impute_research'] = 80\n",
    "# df2['age_impute_research'] = df2['age_impute_research'].fillna(df2['age'].mean())\n",
    "# df2['age_impute_research'] = df2['age_impute_research'].astype(float)\n",
    "\n",
    "# df2['sex_impute_research'] = df2['sex']\n",
    "# df2.loc[(df2['label'] == 'Potentially Malignant Skin Tumors') & (df2['sex_impute_research'].isna()), 'sex_impute_research'] = 'female'\n",
    "# df2.loc[(df2['label'] == 'Benign Marking or Mole') & (df2['sex_impute_research'].isna()), 'sex_impute_research'] = 'male'\n",
    "# df2.loc[(df2['label'] == 'Non-Cancerous Skin Condition') & (df2['sex_impute_research'].isna()), 'sex_impute_research'] = 'male'\n",
    "# df2.loc[(df2['label'] == 'Toxin, Fungal, Bug, Viral, or Bacterial Infections') & (df2['sex_impute_research'].isna()), 'sex_impute_research'] = 'female'\n",
    "# df2['sex_impute_research'] = df2['sex_impute_research'].fillna(df2['sex'].mode()[0])\n",
    "#df2.age_impute_research.value_counts(dropna=False)"
   ]
  },
  {
   "cell_type": "code",
   "execution_count": 12,
   "metadata": {},
   "outputs": [],
   "source": [
    "df3 = df2.drop(['path', 'diagnosis'], axis =1)"
   ]
  },
  {
   "cell_type": "code",
   "execution_count": 13,
   "metadata": {},
   "outputs": [
    {
     "name": "stdout",
     "output_type": "stream",
     "text": [
      "<class 'pandas.core.frame.DataFrame'>\n",
      "Int64Index: 62360 entries, 1182 to 63541\n",
      "Data columns (total 23 columns):\n",
      " #   Column                   Non-Null Count  Dtype   \n",
      "---  ------                   --------------  -----   \n",
      " 0   age                      42975 non-null  float64 \n",
      " 1   sex                      43019 non-null  category\n",
      " 2   localization             42380 non-null  category\n",
      " 3   label                    61785 non-null  category\n",
      " 4   reds                     62360 non-null  float64 \n",
      " 5   greens                   62360 non-null  float64 \n",
      " 6   blues                    62360 non-null  float64 \n",
      " 7   mean_colors              62360 non-null  float64 \n",
      " 8   missing_anatomy          62360 non-null  int64   \n",
      " 9   anatomy_impute_mode      62360 non-null  category\n",
      " 10  missing_sex              62360 non-null  int64   \n",
      " 11  sex_impute_mode          62360 non-null  category\n",
      " 12  missing_age              62360 non-null  int64   \n",
      " 13  age_impute_mode          62360 non-null  float64 \n",
      " 14  age_impute_median        62360 non-null  float64 \n",
      " 15  age_impute_mean          62360 non-null  float64 \n",
      " 16  age_impute_max           62360 non-null  float64 \n",
      " 17  age_impute_min           62360 non-null  float64 \n",
      " 18  sex_cat                  43019 non-null  category\n",
      " 19  localization_cat         42380 non-null  category\n",
      " 20  sex_impute_mode_cat      62360 non-null  category\n",
      " 21  anatomy_impute_mode_cat  62360 non-null  category\n",
      " 22  label_cat                61785 non-null  category\n",
      "dtypes: category(10), float64(10), int64(3)\n",
      "memory usage: 7.3 MB\n"
     ]
    }
   ],
   "source": [
    "dict_of_dfs = {}\n",
    "for col in ['sex', 'localization', 'sex_impute_mode', 'anatomy_impute_mode', 'label']:\n",
    "    df = pd.DataFrame()\n",
    "    df3[col] = df3[col].astype('category')\n",
    "    df = dict(enumerate(df3[col].cat.categories))\n",
    "    dict_of_dfs[col] = df \n",
    "    df3[col + '_cat'] = df3[col].cat.codes.replace(-1,np.NaN).astype('category')\n",
    "df3.info()"
   ]
  },
  {
   "cell_type": "code",
   "execution_count": 14,
   "metadata": {
    "id": "Z_rqKhCIlgcd"
   },
   "outputs": [
    {
     "name": "stdout",
     "output_type": "stream",
     "text": [
      "Iteration: 0\n",
      "Iteration: 1\n",
      "Iteration: 2\n",
      "Iteration: 3\n",
      "Iteration: 4\n",
      "Iteration: 5\n"
     ]
    },
    {
     "data": {
      "text/html": [
       "<div>\n",
       "<style scoped>\n",
       "    .dataframe tbody tr th:only-of-type {\n",
       "        vertical-align: middle;\n",
       "    }\n",
       "\n",
       "    .dataframe tbody tr th {\n",
       "        vertical-align: top;\n",
       "    }\n",
       "\n",
       "    .dataframe thead th {\n",
       "        text-align: right;\n",
       "    }\n",
       "</style>\n",
       "<table border=\"1\" class=\"dataframe\">\n",
       "  <thead>\n",
       "    <tr style=\"text-align: right;\">\n",
       "      <th></th>\n",
       "      <th>age_impute_mf</th>\n",
       "      <th>reds</th>\n",
       "      <th>greens</th>\n",
       "      <th>blues</th>\n",
       "      <th>mean_colors</th>\n",
       "      <th>missing_anatomy</th>\n",
       "      <th>missing_sex</th>\n",
       "      <th>missing_age</th>\n",
       "      <th>age_impute_mode</th>\n",
       "      <th>age_impute_median</th>\n",
       "      <th>age_impute_mean</th>\n",
       "      <th>age_impute_max</th>\n",
       "      <th>age_impute_min</th>\n",
       "      <th>sex_cat</th>\n",
       "      <th>localization_cat</th>\n",
       "      <th>sex_impute_mode_cat</th>\n",
       "      <th>anatomy_impute_mode_cat</th>\n",
       "      <th>label_cat</th>\n",
       "    </tr>\n",
       "  </thead>\n",
       "  <tbody>\n",
       "    <tr>\n",
       "      <th>0</th>\n",
       "      <td>80.0</td>\n",
       "      <td>208.736267</td>\n",
       "      <td>162.703426</td>\n",
       "      <td>181.659333</td>\n",
       "      <td>184.366342</td>\n",
       "      <td>0.0</td>\n",
       "      <td>0.0</td>\n",
       "      <td>0.0</td>\n",
       "      <td>80.0</td>\n",
       "      <td>80.0</td>\n",
       "      <td>80.0</td>\n",
       "      <td>80.0</td>\n",
       "      <td>80.0</td>\n",
       "      <td>1.0</td>\n",
       "      <td>14.0</td>\n",
       "      <td>1.0</td>\n",
       "      <td>14.0</td>\n",
       "      <td>0.0</td>\n",
       "    </tr>\n",
       "    <tr>\n",
       "      <th>1</th>\n",
       "      <td>80.0</td>\n",
       "      <td>197.138056</td>\n",
       "      <td>156.542415</td>\n",
       "      <td>177.196333</td>\n",
       "      <td>176.958935</td>\n",
       "      <td>0.0</td>\n",
       "      <td>0.0</td>\n",
       "      <td>0.0</td>\n",
       "      <td>80.0</td>\n",
       "      <td>80.0</td>\n",
       "      <td>80.0</td>\n",
       "      <td>80.0</td>\n",
       "      <td>80.0</td>\n",
       "      <td>1.0</td>\n",
       "      <td>14.0</td>\n",
       "      <td>1.0</td>\n",
       "      <td>14.0</td>\n",
       "      <td>0.0</td>\n",
       "    </tr>\n",
       "    <tr>\n",
       "      <th>2</th>\n",
       "      <td>80.0</td>\n",
       "      <td>214.053785</td>\n",
       "      <td>156.414959</td>\n",
       "      <td>174.070967</td>\n",
       "      <td>181.513237</td>\n",
       "      <td>0.0</td>\n",
       "      <td>0.0</td>\n",
       "      <td>0.0</td>\n",
       "      <td>80.0</td>\n",
       "      <td>80.0</td>\n",
       "      <td>80.0</td>\n",
       "      <td>80.0</td>\n",
       "      <td>80.0</td>\n",
       "      <td>1.0</td>\n",
       "      <td>14.0</td>\n",
       "      <td>1.0</td>\n",
       "      <td>14.0</td>\n",
       "      <td>0.0</td>\n",
       "    </tr>\n",
       "    <tr>\n",
       "      <th>3</th>\n",
       "      <td>80.0</td>\n",
       "      <td>195.708563</td>\n",
       "      <td>142.608015</td>\n",
       "      <td>157.175893</td>\n",
       "      <td>165.164157</td>\n",
       "      <td>0.0</td>\n",
       "      <td>0.0</td>\n",
       "      <td>0.0</td>\n",
       "      <td>80.0</td>\n",
       "      <td>80.0</td>\n",
       "      <td>80.0</td>\n",
       "      <td>80.0</td>\n",
       "      <td>80.0</td>\n",
       "      <td>1.0</td>\n",
       "      <td>14.0</td>\n",
       "      <td>1.0</td>\n",
       "      <td>14.0</td>\n",
       "      <td>0.0</td>\n",
       "    </tr>\n",
       "    <tr>\n",
       "      <th>4</th>\n",
       "      <td>75.0</td>\n",
       "      <td>211.709311</td>\n",
       "      <td>167.980289</td>\n",
       "      <td>185.249274</td>\n",
       "      <td>188.312958</td>\n",
       "      <td>0.0</td>\n",
       "      <td>0.0</td>\n",
       "      <td>0.0</td>\n",
       "      <td>75.0</td>\n",
       "      <td>75.0</td>\n",
       "      <td>75.0</td>\n",
       "      <td>75.0</td>\n",
       "      <td>75.0</td>\n",
       "      <td>1.0</td>\n",
       "      <td>4.0</td>\n",
       "      <td>1.0</td>\n",
       "      <td>4.0</td>\n",
       "      <td>0.0</td>\n",
       "    </tr>\n",
       "  </tbody>\n",
       "</table>\n",
       "</div>"
      ],
      "text/plain": [
       "   age_impute_mf        reds      greens       blues  mean_colors  \\\n",
       "0           80.0  208.736267  162.703426  181.659333   184.366342   \n",
       "1           80.0  197.138056  156.542415  177.196333   176.958935   \n",
       "2           80.0  214.053785  156.414959  174.070967   181.513237   \n",
       "3           80.0  195.708563  142.608015  157.175893   165.164157   \n",
       "4           75.0  211.709311  167.980289  185.249274   188.312958   \n",
       "\n",
       "   missing_anatomy  missing_sex  missing_age  age_impute_mode  \\\n",
       "0              0.0          0.0          0.0             80.0   \n",
       "1              0.0          0.0          0.0             80.0   \n",
       "2              0.0          0.0          0.0             80.0   \n",
       "3              0.0          0.0          0.0             80.0   \n",
       "4              0.0          0.0          0.0             75.0   \n",
       "\n",
       "   age_impute_median  age_impute_mean  age_impute_max  age_impute_min  \\\n",
       "0               80.0             80.0            80.0            80.0   \n",
       "1               80.0             80.0            80.0            80.0   \n",
       "2               80.0             80.0            80.0            80.0   \n",
       "3               80.0             80.0            80.0            80.0   \n",
       "4               75.0             75.0            75.0            75.0   \n",
       "\n",
       "   sex_cat  localization_cat  sex_impute_mode_cat  anatomy_impute_mode_cat  \\\n",
       "0      1.0              14.0                  1.0                     14.0   \n",
       "1      1.0              14.0                  1.0                     14.0   \n",
       "2      1.0              14.0                  1.0                     14.0   \n",
       "3      1.0              14.0                  1.0                     14.0   \n",
       "4      1.0               4.0                  1.0                      4.0   \n",
       "\n",
       "   label_cat  \n",
       "0        0.0  \n",
       "1        0.0  \n",
       "2        0.0  \n",
       "3        0.0  \n",
       "4        0.0  "
      ]
     },
     "execution_count": 14,
     "metadata": {},
     "output_type": "execute_result"
    }
   ],
   "source": [
    "imputer = MissForest()\n",
    "#label = df3.label\n",
    "df3_X = df3.drop(['label', 'sex', 'localization', 'sex_impute_mode', 'anatomy_impute_mode'], axis = 1)\n",
    "cat_cols = [df3_X.columns.get_loc(col) for col in df3_X.select_dtypes(['category']).columns.tolist()]\n",
    "df3_X_imputed = imputer.fit_transform(df3_X, cat_vars=cat_cols)\n",
    "df3_X_imputed = pd.DataFrame(df3_X_imputed, columns=df3_X.columns.tolist()).rename(columns={'age': 'age_impute_mf'})\n",
    "#df3_imputed = pd.concat([df3_X_imputed, label], axis = 1)\n",
    "#df3_imputed = pd.merge(df3_X_imputed, label, left_index=True, right_index=True)\n",
    "df3_imputed = df3_X_imputed\n",
    "df3_imputed.head()"
   ]
  },
  {
   "cell_type": "code",
   "execution_count": 15,
   "metadata": {},
   "outputs": [
    {
     "name": "stdout",
     "output_type": "stream",
     "text": [
      "<class 'pandas.core.frame.DataFrame'>\n",
      "RangeIndex: 62360 entries, 0 to 62359\n",
      "Data columns (total 18 columns):\n",
      " #   Column                   Non-Null Count  Dtype  \n",
      "---  ------                   --------------  -----  \n",
      " 0   age_impute_mf            62360 non-null  float64\n",
      " 1   reds                     62360 non-null  float64\n",
      " 2   greens                   62360 non-null  float64\n",
      " 3   blues                    62360 non-null  float64\n",
      " 4   mean_colors              62360 non-null  float64\n",
      " 5   missing_anatomy          62360 non-null  float64\n",
      " 6   missing_sex              62360 non-null  float64\n",
      " 7   missing_age              62360 non-null  float64\n",
      " 8   age_impute_mode          62360 non-null  float64\n",
      " 9   age_impute_median        62360 non-null  float64\n",
      " 10  age_impute_mean          62360 non-null  float64\n",
      " 11  age_impute_max           62360 non-null  float64\n",
      " 12  age_impute_min           62360 non-null  float64\n",
      " 13  sex_cat                  62360 non-null  int64  \n",
      " 14  localization_cat         62360 non-null  int64  \n",
      " 15  sex_impute_mode_cat      62360 non-null  int64  \n",
      " 16  anatomy_impute_mode_cat  62360 non-null  int64  \n",
      " 17  label_cat                62360 non-null  int64  \n",
      "dtypes: float64(13), int64(5)\n",
      "memory usage: 8.6 MB\n"
     ]
    }
   ],
   "source": [
    "cat_cols = df3_imputed.loc[:, df3_imputed.columns.str.endswith(\"_cat\")].columns.to_list()\n",
    "for col in cat_cols:\n",
    "    df3_X_imputed[col] = df3_X_imputed[col].astype('int')\n",
    "df3_X_imputed.info()"
   ]
  },
  {
   "cell_type": "code",
   "execution_count": 16,
   "metadata": {},
   "outputs": [
    {
     "name": "stdout",
     "output_type": "stream",
     "text": [
      "<class 'pandas.core.frame.DataFrame'>\n",
      "RangeIndex: 62360 entries, 0 to 62359\n",
      "Data columns (total 18 columns):\n",
      " #   Column                  Non-Null Count  Dtype  \n",
      "---  ------                  --------------  -----  \n",
      " 0   age_impute_mf           62360 non-null  float64\n",
      " 1   reds                    62360 non-null  float64\n",
      " 2   greens                  62360 non-null  float64\n",
      " 3   blues                   62360 non-null  float64\n",
      " 4   mean_colors             62360 non-null  float64\n",
      " 5   missing_anatomy         62360 non-null  float64\n",
      " 6   missing_sex             62360 non-null  float64\n",
      " 7   missing_age             62360 non-null  float64\n",
      " 8   age_impute_mode         62360 non-null  float64\n",
      " 9   age_impute_median       62360 non-null  float64\n",
      " 10  age_impute_mean         62360 non-null  float64\n",
      " 11  age_impute_max          62360 non-null  float64\n",
      " 12  age_impute_min          62360 non-null  float64\n",
      " 13  sex_impute_mf           62360 non-null  object \n",
      " 14  localization_impute_mf  62360 non-null  object \n",
      " 15  sex_impute_mode         62360 non-null  object \n",
      " 16  anatomy_impute_mode     62360 non-null  object \n",
      " 17  label                   62360 non-null  object \n",
      "dtypes: float64(13), object(5)\n",
      "memory usage: 8.6+ MB\n"
     ]
    }
   ],
   "source": [
    "df3_imputed2 = df3_imputed\n",
    "for d in list(dict_of_dfs.keys()):\n",
    "    if d in ['sex_impute_mode', 'anatomy_impute_mode', 'label']:\n",
    "        df3_imputed2[d] = df3_imputed[d + '_cat'].map(dict_of_dfs[d])\n",
    "        df3_imputed2.drop([d + '_cat'], axis = 1, inplace = True)\n",
    "    else:\n",
    "        df3_imputed2[d + '_impute_mf'] = df3_imputed[d + '_cat'].map(dict_of_dfs[d])\n",
    "        df3_imputed2.drop([d + '_cat'], axis = 1, inplace = True)\n",
    "df3_imputed2.info()"
   ]
  },
  {
   "cell_type": "code",
   "execution_count": 17,
   "metadata": {},
   "outputs": [],
   "source": [
    "# cat_cols = [df3_imputed.columns.get_loc(col) for col in df3_X.select_dtypes(['category']).columns.tolist()]\n",
    "# cat_cols"
   ]
  },
  {
   "cell_type": "markdown",
   "metadata": {
    "id": "vrVC6sr5DGb8"
   },
   "source": [
    "###Getting ready to model"
   ]
  },
  {
   "cell_type": "code",
   "execution_count": 18,
   "metadata": {
    "id": "zyPc0h_dqv3W"
   },
   "outputs": [
    {
     "name": "stdout",
     "output_type": "stream",
     "text": [
      "<class 'pandas.core.frame.DataFrame'>\n",
      "RangeIndex: 62360 entries, 0 to 62359\n",
      "Data columns (total 54 columns):\n",
      " #   Column                        Non-Null Count  Dtype  \n",
      "---  ------                        --------------  -----  \n",
      " 0   age_impute_mf                 62360 non-null  float64\n",
      " 1   reds                          62360 non-null  float64\n",
      " 2   greens                        62360 non-null  float64\n",
      " 3   blues                         62360 non-null  float64\n",
      " 4   mean_colors                   62360 non-null  float64\n",
      " 5   missing_anatomy               62360 non-null  float64\n",
      " 6   missing_sex                   62360 non-null  float64\n",
      " 7   missing_age                   62360 non-null  float64\n",
      " 8   age_impute_mode               62360 non-null  float64\n",
      " 9   age_impute_median             62360 non-null  float64\n",
      " 10  age_impute_mean               62360 non-null  float64\n",
      " 11  age_impute_max                62360 non-null  float64\n",
      " 12  age_impute_min                62360 non-null  float64\n",
      " 13  label                         62360 non-null  object \n",
      " 14  sex_mf_female                 62360 non-null  uint8  \n",
      " 15  sex_mf_male                   62360 non-null  uint8  \n",
      " 16  anatomy_mf_abdomen            62360 non-null  uint8  \n",
      " 17  anatomy_mf_acral              62360 non-null  uint8  \n",
      " 18  anatomy_mf_back               62360 non-null  uint8  \n",
      " 19  anatomy_mf_chest              62360 non-null  uint8  \n",
      " 20  anatomy_mf_ear                62360 non-null  uint8  \n",
      " 21  anatomy_mf_face               62360 non-null  uint8  \n",
      " 22  anatomy_mf_foot               62360 non-null  uint8  \n",
      " 23  anatomy_mf_genital            62360 non-null  uint8  \n",
      " 24  anatomy_mf_hand               62360 non-null  uint8  \n",
      " 25  anatomy_mf_head/neck          62360 non-null  uint8  \n",
      " 26  anatomy_mf_lower extremity    62360 non-null  uint8  \n",
      " 27  anatomy_mf_neck               62360 non-null  uint8  \n",
      " 28  anatomy_mf_oral/genital       62360 non-null  uint8  \n",
      " 29  anatomy_mf_palms/soles        62360 non-null  uint8  \n",
      " 30  anatomy_mf_scalp              62360 non-null  uint8  \n",
      " 31  anatomy_mf_torso              62360 non-null  uint8  \n",
      " 32  anatomy_mf_trunk              62360 non-null  uint8  \n",
      " 33  anatomy_mf_upper extremity    62360 non-null  uint8  \n",
      " 34  sex_mode_female               62360 non-null  uint8  \n",
      " 35  sex_mode_male                 62360 non-null  uint8  \n",
      " 36  anatomy_mode_abdomen          62360 non-null  uint8  \n",
      " 37  anatomy_mode_acral            62360 non-null  uint8  \n",
      " 38  anatomy_mode_back             62360 non-null  uint8  \n",
      " 39  anatomy_mode_chest            62360 non-null  uint8  \n",
      " 40  anatomy_mode_ear              62360 non-null  uint8  \n",
      " 41  anatomy_mode_face             62360 non-null  uint8  \n",
      " 42  anatomy_mode_foot             62360 non-null  uint8  \n",
      " 43  anatomy_mode_genital          62360 non-null  uint8  \n",
      " 44  anatomy_mode_hand             62360 non-null  uint8  \n",
      " 45  anatomy_mode_head/neck        62360 non-null  uint8  \n",
      " 46  anatomy_mode_lower extremity  62360 non-null  uint8  \n",
      " 47  anatomy_mode_neck             62360 non-null  uint8  \n",
      " 48  anatomy_mode_oral/genital     62360 non-null  uint8  \n",
      " 49  anatomy_mode_palms/soles      62360 non-null  uint8  \n",
      " 50  anatomy_mode_scalp            62360 non-null  uint8  \n",
      " 51  anatomy_mode_torso            62360 non-null  uint8  \n",
      " 52  anatomy_mode_trunk            62360 non-null  uint8  \n",
      " 53  anatomy_mode_upper extremity  62360 non-null  uint8  \n",
      "dtypes: float64(13), object(1), uint8(40)\n",
      "memory usage: 9.0+ MB\n"
     ]
    }
   ],
   "source": [
    "\n",
    "dummies = pd.get_dummies(df3_imputed2['sex_impute_mf'], prefix='sex_mf')\n",
    "df3_imputed2 = pd.concat([df3_imputed2, dummies], axis=1)\n",
    "dummies = pd.get_dummies(df3_imputed2['localization_impute_mf'], prefix='anatomy_mf')\n",
    "df3_imputed2 = pd.concat([df3_imputed2, dummies], axis=1)\n",
    "dummies = pd.get_dummies(df3_imputed2['sex_impute_mode'], prefix='sex_mode')\n",
    "df3_imputed2 = pd.concat([df3_imputed2, dummies], axis=1)\n",
    "# dummies = pd.get_dummies(df3_imputed2['sex_impute_research'], prefix='sex_research')\n",
    "# df3_imputed2 = pd.concat([df3_imputed2, dummies], axis=1)\n",
    "dummies = pd.get_dummies(df3_imputed2['anatomy_impute_mode'], prefix='anatomy_mode')\n",
    "df3_imputed2 = pd.concat([df3_imputed2, dummies], axis=1)\n",
    "# dropping not useful columns\n",
    "\n",
    "df3_imputed2.drop(['sex_impute_mf', 'localization_impute_mf', 'sex_impute_mode', 'anatomy_impute_mode'],\\\n",
    "                  axis=1, inplace=True)\n",
    "df3_imputed2.info()"
   ]
  },
  {
   "cell_type": "code",
   "execution_count": 19,
   "metadata": {
    "colab": {
     "base_uri": "https://localhost:8080/",
     "height": 473
    },
    "id": "4mMt2J5Mqv1I",
    "outputId": "1ea3eb8b-aab1-4cd2-b63f-31cf5261eb75"
   },
   "outputs": [],
   "source": [
    "train = df3_imputed2"
   ]
  },
  {
   "cell_type": "code",
   "execution_count": 20,
   "metadata": {
    "colab": {
     "base_uri": "https://localhost:8080/"
    },
    "id": "UnJ_0kdifqti",
    "outputId": "4444d50a-9745-4d61-ad03-30a3a5010e1a"
   },
   "outputs": [
    {
     "data": {
      "text/plain": [
       "{0: 'Benign Marking or Mole',\n",
       " 1: 'Potentially Malignant Skin Tumors',\n",
       " 2: 'Unclassified',\n",
       " 3: 'Non-Cancerous Skin Condition'}"
      ]
     },
     "execution_count": 20,
     "metadata": {},
     "output_type": "execute_result"
    }
   ],
   "source": [
    "#create a mapping from labels to a unique integer and vice versa for labelling and prediction later\n",
    "labels = train['label'].unique()\n",
    "i = 0\n",
    "idx2class = {} \n",
    "class2idx = {}\n",
    "for tp in labels:\n",
    "    idx2class[i] = tp\n",
    "    class2idx[tp] = i\n",
    "    i += 1\n",
    "idx2class"
   ]
  },
  {
   "cell_type": "code",
   "execution_count": 21,
   "metadata": {
    "colab": {
     "base_uri": "https://localhost:8080/",
     "height": 317
    },
    "id": "OyyWNmSdgU7R",
    "outputId": "ef6a88b3-ddfb-408d-d47c-6fcbe7a32efc"
   },
   "outputs": [
    {
     "data": {
      "text/html": [
       "<div>\n",
       "<style scoped>\n",
       "    .dataframe tbody tr th:only-of-type {\n",
       "        vertical-align: middle;\n",
       "    }\n",
       "\n",
       "    .dataframe tbody tr th {\n",
       "        vertical-align: top;\n",
       "    }\n",
       "\n",
       "    .dataframe thead th {\n",
       "        text-align: right;\n",
       "    }\n",
       "</style>\n",
       "<table border=\"1\" class=\"dataframe\">\n",
       "  <thead>\n",
       "    <tr style=\"text-align: right;\">\n",
       "      <th></th>\n",
       "      <th>age_impute_mf</th>\n",
       "      <th>reds</th>\n",
       "      <th>greens</th>\n",
       "      <th>blues</th>\n",
       "      <th>mean_colors</th>\n",
       "      <th>missing_anatomy</th>\n",
       "      <th>missing_sex</th>\n",
       "      <th>missing_age</th>\n",
       "      <th>age_impute_mode</th>\n",
       "      <th>age_impute_median</th>\n",
       "      <th>...</th>\n",
       "      <th>anatomy_mode_hand</th>\n",
       "      <th>anatomy_mode_head/neck</th>\n",
       "      <th>anatomy_mode_lower extremity</th>\n",
       "      <th>anatomy_mode_neck</th>\n",
       "      <th>anatomy_mode_oral/genital</th>\n",
       "      <th>anatomy_mode_palms/soles</th>\n",
       "      <th>anatomy_mode_scalp</th>\n",
       "      <th>anatomy_mode_torso</th>\n",
       "      <th>anatomy_mode_trunk</th>\n",
       "      <th>anatomy_mode_upper extremity</th>\n",
       "    </tr>\n",
       "  </thead>\n",
       "  <tbody>\n",
       "    <tr>\n",
       "      <th>0</th>\n",
       "      <td>80.0</td>\n",
       "      <td>208.736267</td>\n",
       "      <td>162.703426</td>\n",
       "      <td>181.659333</td>\n",
       "      <td>184.366342</td>\n",
       "      <td>0.0</td>\n",
       "      <td>0.0</td>\n",
       "      <td>0.0</td>\n",
       "      <td>80.0</td>\n",
       "      <td>80.0</td>\n",
       "      <td>...</td>\n",
       "      <td>0</td>\n",
       "      <td>0</td>\n",
       "      <td>0</td>\n",
       "      <td>0</td>\n",
       "      <td>0</td>\n",
       "      <td>0</td>\n",
       "      <td>1</td>\n",
       "      <td>0</td>\n",
       "      <td>0</td>\n",
       "      <td>0</td>\n",
       "    </tr>\n",
       "    <tr>\n",
       "      <th>1</th>\n",
       "      <td>80.0</td>\n",
       "      <td>197.138056</td>\n",
       "      <td>156.542415</td>\n",
       "      <td>177.196333</td>\n",
       "      <td>176.958935</td>\n",
       "      <td>0.0</td>\n",
       "      <td>0.0</td>\n",
       "      <td>0.0</td>\n",
       "      <td>80.0</td>\n",
       "      <td>80.0</td>\n",
       "      <td>...</td>\n",
       "      <td>0</td>\n",
       "      <td>0</td>\n",
       "      <td>0</td>\n",
       "      <td>0</td>\n",
       "      <td>0</td>\n",
       "      <td>0</td>\n",
       "      <td>1</td>\n",
       "      <td>0</td>\n",
       "      <td>0</td>\n",
       "      <td>0</td>\n",
       "    </tr>\n",
       "    <tr>\n",
       "      <th>2</th>\n",
       "      <td>80.0</td>\n",
       "      <td>214.053785</td>\n",
       "      <td>156.414959</td>\n",
       "      <td>174.070967</td>\n",
       "      <td>181.513237</td>\n",
       "      <td>0.0</td>\n",
       "      <td>0.0</td>\n",
       "      <td>0.0</td>\n",
       "      <td>80.0</td>\n",
       "      <td>80.0</td>\n",
       "      <td>...</td>\n",
       "      <td>0</td>\n",
       "      <td>0</td>\n",
       "      <td>0</td>\n",
       "      <td>0</td>\n",
       "      <td>0</td>\n",
       "      <td>0</td>\n",
       "      <td>1</td>\n",
       "      <td>0</td>\n",
       "      <td>0</td>\n",
       "      <td>0</td>\n",
       "    </tr>\n",
       "    <tr>\n",
       "      <th>3</th>\n",
       "      <td>80.0</td>\n",
       "      <td>195.708563</td>\n",
       "      <td>142.608015</td>\n",
       "      <td>157.175893</td>\n",
       "      <td>165.164157</td>\n",
       "      <td>0.0</td>\n",
       "      <td>0.0</td>\n",
       "      <td>0.0</td>\n",
       "      <td>80.0</td>\n",
       "      <td>80.0</td>\n",
       "      <td>...</td>\n",
       "      <td>0</td>\n",
       "      <td>0</td>\n",
       "      <td>0</td>\n",
       "      <td>0</td>\n",
       "      <td>0</td>\n",
       "      <td>0</td>\n",
       "      <td>1</td>\n",
       "      <td>0</td>\n",
       "      <td>0</td>\n",
       "      <td>0</td>\n",
       "    </tr>\n",
       "    <tr>\n",
       "      <th>4</th>\n",
       "      <td>75.0</td>\n",
       "      <td>211.709311</td>\n",
       "      <td>167.980289</td>\n",
       "      <td>185.249274</td>\n",
       "      <td>188.312958</td>\n",
       "      <td>0.0</td>\n",
       "      <td>0.0</td>\n",
       "      <td>0.0</td>\n",
       "      <td>75.0</td>\n",
       "      <td>75.0</td>\n",
       "      <td>...</td>\n",
       "      <td>0</td>\n",
       "      <td>0</td>\n",
       "      <td>0</td>\n",
       "      <td>0</td>\n",
       "      <td>0</td>\n",
       "      <td>0</td>\n",
       "      <td>0</td>\n",
       "      <td>0</td>\n",
       "      <td>0</td>\n",
       "      <td>0</td>\n",
       "    </tr>\n",
       "  </tbody>\n",
       "</table>\n",
       "<p>5 rows × 54 columns</p>\n",
       "</div>"
      ],
      "text/plain": [
       "   age_impute_mf        reds      greens       blues  mean_colors  \\\n",
       "0           80.0  208.736267  162.703426  181.659333   184.366342   \n",
       "1           80.0  197.138056  156.542415  177.196333   176.958935   \n",
       "2           80.0  214.053785  156.414959  174.070967   181.513237   \n",
       "3           80.0  195.708563  142.608015  157.175893   165.164157   \n",
       "4           75.0  211.709311  167.980289  185.249274   188.312958   \n",
       "\n",
       "   missing_anatomy  missing_sex  missing_age  age_impute_mode  \\\n",
       "0              0.0          0.0          0.0             80.0   \n",
       "1              0.0          0.0          0.0             80.0   \n",
       "2              0.0          0.0          0.0             80.0   \n",
       "3              0.0          0.0          0.0             80.0   \n",
       "4              0.0          0.0          0.0             75.0   \n",
       "\n",
       "   age_impute_median  ...  anatomy_mode_hand  anatomy_mode_head/neck  \\\n",
       "0               80.0  ...                  0                       0   \n",
       "1               80.0  ...                  0                       0   \n",
       "2               80.0  ...                  0                       0   \n",
       "3               80.0  ...                  0                       0   \n",
       "4               75.0  ...                  0                       0   \n",
       "\n",
       "   anatomy_mode_lower extremity  anatomy_mode_neck  anatomy_mode_oral/genital  \\\n",
       "0                             0                  0                          0   \n",
       "1                             0                  0                          0   \n",
       "2                             0                  0                          0   \n",
       "3                             0                  0                          0   \n",
       "4                             0                  0                          0   \n",
       "\n",
       "   anatomy_mode_palms/soles  anatomy_mode_scalp  anatomy_mode_torso  \\\n",
       "0                         0                   1                   0   \n",
       "1                         0                   1                   0   \n",
       "2                         0                   1                   0   \n",
       "3                         0                   1                   0   \n",
       "4                         0                   0                   0   \n",
       "\n",
       "   anatomy_mode_trunk  anatomy_mode_upper extremity  \n",
       "0                   0                             0  \n",
       "1                   0                             0  \n",
       "2                   0                             0  \n",
       "3                   0                             0  \n",
       "4                   0                             0  \n",
       "\n",
       "[5 rows x 54 columns]"
      ]
     },
     "execution_count": 21,
     "metadata": {},
     "output_type": "execute_result"
    }
   ],
   "source": [
    "train['label'] = train['label'].replace(class2idx)\n",
    "train.head()"
   ]
  },
  {
   "cell_type": "markdown",
   "metadata": {
    "id": "1gHqIjlQ1Ys6"
   },
   "source": [
    "###Cross Validate on Accuracy"
   ]
  },
  {
   "cell_type": "code",
   "execution_count": 22,
   "metadata": {
    "id": "LVnQ4jgcqvym"
   },
   "outputs": [],
   "source": [
    "# loading modelling libraries\n",
    "\n",
    "import xgboost as xgb\n",
    "\n",
    "from sklearn.model_selection import StratifiedKFold, train_test_split, cross_val_score, cross_validate\n",
    "from sklearn.metrics import accuracy_score, roc_auc_score, roc_curve"
   ]
  },
  {
   "cell_type": "code",
   "execution_count": 23,
   "metadata": {
    "id": "SJY4p2UxqvwX"
   },
   "outputs": [],
   "source": [
    "X = train.drop('label', axis=1)\n",
    "y = train.label"
   ]
  },
  {
   "cell_type": "code",
   "execution_count": 24,
   "metadata": {
    "id": "NQh0ZEZ_qvuO"
   },
   "outputs": [],
   "source": [
    "# taking holdout set for validating with stratified y\n",
    "\n",
    "X_train, X_test, y_train, y_test = train_test_split(X,\n",
    "                                                    y,\n",
    "                                                    test_size=0.2,\n",
    "                                                    stratify=y,\n",
    "                                                    random_state=42)\n",
    "\n",
    "# 5 fold stratify for cv\n",
    "\n",
    "cv = StratifiedKFold(5, shuffle=True, random_state=42)\n",
    "\n",
    "training_data = {'X_train':X_train,'Y_train':y_train,\n",
    "                'X_val': X_test,'Y_val':y_test,\n",
    "                'X_test': X_test,'Y_test':y_test}"
   ]
  },
  {
   "cell_type": "code",
   "execution_count": 25,
   "metadata": {
    "id": "FW-_FLZKqvr0"
   },
   "outputs": [],
   "source": [
    "# setting model hyperparameters, didn't include fine tuning here because of timing reasons...\n",
    "\n",
    "xg = xgb.XGBClassifier(\n",
    "    n_estimators=750,\n",
    "    min_child_weight=0.81,\n",
    "    learning_rate=0.025,\n",
    "    max_depth=2,\n",
    "    subsample=0.80,\n",
    "    colsample_bytree=0.42,\n",
    "    gamma=0.10,\n",
    "    random_state=42,\n",
    "    n_jobs=-1,\n",
    ")"
   ]
  },
  {
   "cell_type": "code",
   "execution_count": 26,
   "metadata": {
    "id": "w6BgmAU9qvpu"
   },
   "outputs": [],
   "source": [
    "estimators = [xg]"
   ]
  },
  {
   "cell_type": "code",
   "execution_count": 27,
   "metadata": {
    "id": "mwa1d29bqvnX"
   },
   "outputs": [],
   "source": [
    "# cross validation scheme\n",
    "\n",
    "def model_check(X_train, y_train, estimators, cv):\n",
    "    model_table = pd.DataFrame()\n",
    "\n",
    "    row_index = 0\n",
    "    for est in estimators:\n",
    "\n",
    "        MLA_name = est.__class__.__name__\n",
    "        model_table.loc[row_index, 'Model Name'] = MLA_name\n",
    "\n",
    "        cv_results = cross_validate(est,\n",
    "                                    X_train,\n",
    "                                    y_train,\n",
    "                                    cv=cv,\n",
    "                                    scoring='accuracy',\n",
    "                                    return_train_score=True,\n",
    "                                    n_jobs=-1)\n",
    "\n",
    "        model_table.loc[row_index,\n",
    "                        'Train accuracy'] = cv_results['train_score'].mean()\n",
    "        model_table.loc[row_index,\n",
    "                        'Validation accuracy'] = cv_results['test_score'].mean()\n",
    "        model_table.loc[row_index, 'Validation Std'] = cv_results['test_score'].std()\n",
    "        model_table.loc[row_index, 'Time'] = cv_results['fit_time'].mean()\n",
    "\n",
    "        row_index += 1\n",
    "\n",
    "    model_table.sort_values(by=['Validation accuracy'],\n",
    "                            ascending=False,\n",
    "                            inplace=True)\n",
    "\n",
    "    return model_table"
   ]
  },
  {
   "cell_type": "code",
   "execution_count": 28,
   "metadata": {
    "colab": {
     "base_uri": "https://localhost:8080/",
     "height": 81
    },
    "id": "2zVqDnATqvlD",
    "outputId": "c89c7f5d-f913-46c0-faf2-723e0873bc93"
   },
   "outputs": [
    {
     "ename": "KeyboardInterrupt",
     "evalue": "",
     "output_type": "error",
     "traceback": [
      "\u001b[0;31m---------------------------------------------------------------------------\u001b[0m",
      "\u001b[0;31mKeyboardInterrupt\u001b[0m                         Traceback (most recent call last)",
      "\u001b[0;32m<ipython-input-28-3a7a8cd72542>\u001b[0m in \u001b[0;36m<module>\u001b[0;34m\u001b[0m\n\u001b[1;32m      1\u001b[0m \u001b[0;31m# display cv results\u001b[0m\u001b[0;34m\u001b[0m\u001b[0;34m\u001b[0m\u001b[0;34m\u001b[0m\u001b[0m\n\u001b[1;32m      2\u001b[0m \u001b[0;34m\u001b[0m\u001b[0m\n\u001b[0;32m----> 3\u001b[0;31m \u001b[0mraw_models\u001b[0m \u001b[0;34m=\u001b[0m \u001b[0mmodel_check\u001b[0m\u001b[0;34m(\u001b[0m\u001b[0mX_train\u001b[0m\u001b[0;34m,\u001b[0m \u001b[0my_train\u001b[0m\u001b[0;34m,\u001b[0m \u001b[0mestimators\u001b[0m\u001b[0;34m,\u001b[0m \u001b[0mcv\u001b[0m\u001b[0;34m)\u001b[0m\u001b[0;34m\u001b[0m\u001b[0;34m\u001b[0m\u001b[0m\n\u001b[0m\u001b[1;32m      4\u001b[0m \u001b[0mdisplay\u001b[0m\u001b[0;34m(\u001b[0m\u001b[0mraw_models\u001b[0m\u001b[0;34m)\u001b[0m\u001b[0;34m\u001b[0m\u001b[0;34m\u001b[0m\u001b[0m\n",
      "\u001b[0;32m<ipython-input-27-6f56c5f5c630>\u001b[0m in \u001b[0;36mmodel_check\u001b[0;34m(X_train, y_train, estimators, cv)\u001b[0m\n\u001b[1;32m     10\u001b[0m         \u001b[0mmodel_table\u001b[0m\u001b[0;34m.\u001b[0m\u001b[0mloc\u001b[0m\u001b[0;34m[\u001b[0m\u001b[0mrow_index\u001b[0m\u001b[0;34m,\u001b[0m \u001b[0;34m'Model Name'\u001b[0m\u001b[0;34m]\u001b[0m \u001b[0;34m=\u001b[0m \u001b[0mMLA_name\u001b[0m\u001b[0;34m\u001b[0m\u001b[0;34m\u001b[0m\u001b[0m\n\u001b[1;32m     11\u001b[0m \u001b[0;34m\u001b[0m\u001b[0m\n\u001b[0;32m---> 12\u001b[0;31m         cv_results = cross_validate(est,\n\u001b[0m\u001b[1;32m     13\u001b[0m                                     \u001b[0mX_train\u001b[0m\u001b[0;34m,\u001b[0m\u001b[0;34m\u001b[0m\u001b[0;34m\u001b[0m\u001b[0m\n\u001b[1;32m     14\u001b[0m                                     \u001b[0my_train\u001b[0m\u001b[0;34m,\u001b[0m\u001b[0;34m\u001b[0m\u001b[0;34m\u001b[0m\u001b[0m\n",
      "\u001b[0;32m/opt/anaconda3/lib/python3.8/site-packages/sklearn/model_selection/_validation.py\u001b[0m in \u001b[0;36mcross_validate\u001b[0;34m(estimator, X, y, groups, scoring, cv, n_jobs, verbose, fit_params, pre_dispatch, return_train_score, return_estimator, error_score)\u001b[0m\n\u001b[1;32m    264\u001b[0m     \u001b[0;31m# independent, and that it is pickle-able.\u001b[0m\u001b[0;34m\u001b[0m\u001b[0;34m\u001b[0m\u001b[0;34m\u001b[0m\u001b[0m\n\u001b[1;32m    265\u001b[0m     \u001b[0mparallel\u001b[0m \u001b[0;34m=\u001b[0m \u001b[0mParallel\u001b[0m\u001b[0;34m(\u001b[0m\u001b[0mn_jobs\u001b[0m\u001b[0;34m=\u001b[0m\u001b[0mn_jobs\u001b[0m\u001b[0;34m,\u001b[0m \u001b[0mverbose\u001b[0m\u001b[0;34m=\u001b[0m\u001b[0mverbose\u001b[0m\u001b[0;34m,\u001b[0m \u001b[0mpre_dispatch\u001b[0m\u001b[0;34m=\u001b[0m\u001b[0mpre_dispatch\u001b[0m\u001b[0;34m)\u001b[0m\u001b[0;34m\u001b[0m\u001b[0;34m\u001b[0m\u001b[0m\n\u001b[0;32m--> 266\u001b[0;31m     results = parallel(\n\u001b[0m\u001b[1;32m    267\u001b[0m         delayed(_fit_and_score)(\n\u001b[1;32m    268\u001b[0m             \u001b[0mclone\u001b[0m\u001b[0;34m(\u001b[0m\u001b[0mestimator\u001b[0m\u001b[0;34m)\u001b[0m\u001b[0;34m,\u001b[0m\u001b[0;34m\u001b[0m\u001b[0;34m\u001b[0m\u001b[0m\n",
      "\u001b[0;32m/opt/anaconda3/lib/python3.8/site-packages/joblib/parallel.py\u001b[0m in \u001b[0;36m__call__\u001b[0;34m(self, iterable)\u001b[0m\n\u001b[1;32m   1052\u001b[0m \u001b[0;34m\u001b[0m\u001b[0m\n\u001b[1;32m   1053\u001b[0m             \u001b[0;32mwith\u001b[0m \u001b[0mself\u001b[0m\u001b[0;34m.\u001b[0m\u001b[0m_backend\u001b[0m\u001b[0;34m.\u001b[0m\u001b[0mretrieval_context\u001b[0m\u001b[0;34m(\u001b[0m\u001b[0;34m)\u001b[0m\u001b[0;34m:\u001b[0m\u001b[0;34m\u001b[0m\u001b[0;34m\u001b[0m\u001b[0m\n\u001b[0;32m-> 1054\u001b[0;31m                 \u001b[0mself\u001b[0m\u001b[0;34m.\u001b[0m\u001b[0mretrieve\u001b[0m\u001b[0;34m(\u001b[0m\u001b[0;34m)\u001b[0m\u001b[0;34m\u001b[0m\u001b[0;34m\u001b[0m\u001b[0m\n\u001b[0m\u001b[1;32m   1055\u001b[0m             \u001b[0;31m# Make sure that we get a last message telling us we are done\u001b[0m\u001b[0;34m\u001b[0m\u001b[0;34m\u001b[0m\u001b[0;34m\u001b[0m\u001b[0m\n\u001b[1;32m   1056\u001b[0m             \u001b[0melapsed_time\u001b[0m \u001b[0;34m=\u001b[0m \u001b[0mtime\u001b[0m\u001b[0;34m.\u001b[0m\u001b[0mtime\u001b[0m\u001b[0;34m(\u001b[0m\u001b[0;34m)\u001b[0m \u001b[0;34m-\u001b[0m \u001b[0mself\u001b[0m\u001b[0;34m.\u001b[0m\u001b[0m_start_time\u001b[0m\u001b[0;34m\u001b[0m\u001b[0;34m\u001b[0m\u001b[0m\n",
      "\u001b[0;32m/opt/anaconda3/lib/python3.8/site-packages/joblib/parallel.py\u001b[0m in \u001b[0;36mretrieve\u001b[0;34m(self)\u001b[0m\n\u001b[1;32m    931\u001b[0m             \u001b[0;32mtry\u001b[0m\u001b[0;34m:\u001b[0m\u001b[0;34m\u001b[0m\u001b[0;34m\u001b[0m\u001b[0m\n\u001b[1;32m    932\u001b[0m                 \u001b[0;32mif\u001b[0m \u001b[0mgetattr\u001b[0m\u001b[0;34m(\u001b[0m\u001b[0mself\u001b[0m\u001b[0;34m.\u001b[0m\u001b[0m_backend\u001b[0m\u001b[0;34m,\u001b[0m \u001b[0;34m'supports_timeout'\u001b[0m\u001b[0;34m,\u001b[0m \u001b[0;32mFalse\u001b[0m\u001b[0;34m)\u001b[0m\u001b[0;34m:\u001b[0m\u001b[0;34m\u001b[0m\u001b[0;34m\u001b[0m\u001b[0m\n\u001b[0;32m--> 933\u001b[0;31m                     \u001b[0mself\u001b[0m\u001b[0;34m.\u001b[0m\u001b[0m_output\u001b[0m\u001b[0;34m.\u001b[0m\u001b[0mextend\u001b[0m\u001b[0;34m(\u001b[0m\u001b[0mjob\u001b[0m\u001b[0;34m.\u001b[0m\u001b[0mget\u001b[0m\u001b[0;34m(\u001b[0m\u001b[0mtimeout\u001b[0m\u001b[0;34m=\u001b[0m\u001b[0mself\u001b[0m\u001b[0;34m.\u001b[0m\u001b[0mtimeout\u001b[0m\u001b[0;34m)\u001b[0m\u001b[0;34m)\u001b[0m\u001b[0;34m\u001b[0m\u001b[0;34m\u001b[0m\u001b[0m\n\u001b[0m\u001b[1;32m    934\u001b[0m                 \u001b[0;32melse\u001b[0m\u001b[0;34m:\u001b[0m\u001b[0;34m\u001b[0m\u001b[0;34m\u001b[0m\u001b[0m\n\u001b[1;32m    935\u001b[0m                     \u001b[0mself\u001b[0m\u001b[0;34m.\u001b[0m\u001b[0m_output\u001b[0m\u001b[0;34m.\u001b[0m\u001b[0mextend\u001b[0m\u001b[0;34m(\u001b[0m\u001b[0mjob\u001b[0m\u001b[0;34m.\u001b[0m\u001b[0mget\u001b[0m\u001b[0;34m(\u001b[0m\u001b[0;34m)\u001b[0m\u001b[0;34m)\u001b[0m\u001b[0;34m\u001b[0m\u001b[0;34m\u001b[0m\u001b[0m\n",
      "\u001b[0;32m/opt/anaconda3/lib/python3.8/site-packages/joblib/_parallel_backends.py\u001b[0m in \u001b[0;36mwrap_future_result\u001b[0;34m(future, timeout)\u001b[0m\n\u001b[1;32m    540\u001b[0m         AsyncResults.get from multiprocessing.\"\"\"\n\u001b[1;32m    541\u001b[0m         \u001b[0;32mtry\u001b[0m\u001b[0;34m:\u001b[0m\u001b[0;34m\u001b[0m\u001b[0;34m\u001b[0m\u001b[0m\n\u001b[0;32m--> 542\u001b[0;31m             \u001b[0;32mreturn\u001b[0m \u001b[0mfuture\u001b[0m\u001b[0;34m.\u001b[0m\u001b[0mresult\u001b[0m\u001b[0;34m(\u001b[0m\u001b[0mtimeout\u001b[0m\u001b[0;34m=\u001b[0m\u001b[0mtimeout\u001b[0m\u001b[0;34m)\u001b[0m\u001b[0;34m\u001b[0m\u001b[0;34m\u001b[0m\u001b[0m\n\u001b[0m\u001b[1;32m    543\u001b[0m         \u001b[0;32mexcept\u001b[0m \u001b[0mCfTimeoutError\u001b[0m \u001b[0;32mas\u001b[0m \u001b[0me\u001b[0m\u001b[0;34m:\u001b[0m\u001b[0;34m\u001b[0m\u001b[0;34m\u001b[0m\u001b[0m\n\u001b[1;32m    544\u001b[0m             \u001b[0;32mraise\u001b[0m \u001b[0mTimeoutError\u001b[0m \u001b[0;32mfrom\u001b[0m \u001b[0me\u001b[0m\u001b[0;34m\u001b[0m\u001b[0;34m\u001b[0m\u001b[0m\n",
      "\u001b[0;32m/opt/anaconda3/lib/python3.8/concurrent/futures/_base.py\u001b[0m in \u001b[0;36mresult\u001b[0;34m(self, timeout)\u001b[0m\n\u001b[1;32m    432\u001b[0m                 \u001b[0;32mreturn\u001b[0m \u001b[0mself\u001b[0m\u001b[0;34m.\u001b[0m\u001b[0m__get_result\u001b[0m\u001b[0;34m(\u001b[0m\u001b[0;34m)\u001b[0m\u001b[0;34m\u001b[0m\u001b[0;34m\u001b[0m\u001b[0m\n\u001b[1;32m    433\u001b[0m \u001b[0;34m\u001b[0m\u001b[0m\n\u001b[0;32m--> 434\u001b[0;31m             \u001b[0mself\u001b[0m\u001b[0;34m.\u001b[0m\u001b[0m_condition\u001b[0m\u001b[0;34m.\u001b[0m\u001b[0mwait\u001b[0m\u001b[0;34m(\u001b[0m\u001b[0mtimeout\u001b[0m\u001b[0;34m)\u001b[0m\u001b[0;34m\u001b[0m\u001b[0;34m\u001b[0m\u001b[0m\n\u001b[0m\u001b[1;32m    435\u001b[0m \u001b[0;34m\u001b[0m\u001b[0m\n\u001b[1;32m    436\u001b[0m             \u001b[0;32mif\u001b[0m \u001b[0mself\u001b[0m\u001b[0;34m.\u001b[0m\u001b[0m_state\u001b[0m \u001b[0;32min\u001b[0m \u001b[0;34m[\u001b[0m\u001b[0mCANCELLED\u001b[0m\u001b[0;34m,\u001b[0m \u001b[0mCANCELLED_AND_NOTIFIED\u001b[0m\u001b[0;34m]\u001b[0m\u001b[0;34m:\u001b[0m\u001b[0;34m\u001b[0m\u001b[0;34m\u001b[0m\u001b[0m\n",
      "\u001b[0;32m/opt/anaconda3/lib/python3.8/threading.py\u001b[0m in \u001b[0;36mwait\u001b[0;34m(self, timeout)\u001b[0m\n\u001b[1;32m    300\u001b[0m         \u001b[0;32mtry\u001b[0m\u001b[0;34m:\u001b[0m    \u001b[0;31m# restore state no matter what (e.g., KeyboardInterrupt)\u001b[0m\u001b[0;34m\u001b[0m\u001b[0;34m\u001b[0m\u001b[0m\n\u001b[1;32m    301\u001b[0m             \u001b[0;32mif\u001b[0m \u001b[0mtimeout\u001b[0m \u001b[0;32mis\u001b[0m \u001b[0;32mNone\u001b[0m\u001b[0;34m:\u001b[0m\u001b[0;34m\u001b[0m\u001b[0;34m\u001b[0m\u001b[0m\n\u001b[0;32m--> 302\u001b[0;31m                 \u001b[0mwaiter\u001b[0m\u001b[0;34m.\u001b[0m\u001b[0macquire\u001b[0m\u001b[0;34m(\u001b[0m\u001b[0;34m)\u001b[0m\u001b[0;34m\u001b[0m\u001b[0;34m\u001b[0m\u001b[0m\n\u001b[0m\u001b[1;32m    303\u001b[0m                 \u001b[0mgotit\u001b[0m \u001b[0;34m=\u001b[0m \u001b[0;32mTrue\u001b[0m\u001b[0;34m\u001b[0m\u001b[0;34m\u001b[0m\u001b[0m\n\u001b[1;32m    304\u001b[0m             \u001b[0;32melse\u001b[0m\u001b[0;34m:\u001b[0m\u001b[0;34m\u001b[0m\u001b[0;34m\u001b[0m\u001b[0m\n",
      "\u001b[0;31mKeyboardInterrupt\u001b[0m: "
     ]
    }
   ],
   "source": [
    "# display cv results\n",
    "\n",
    "raw_models = model_check(X_train, y_train, estimators, cv)\n",
    "display(raw_models)"
   ]
  },
  {
   "cell_type": "markdown",
   "metadata": {},
   "source": [
    "### Result on Holdout Group"
   ]
  },
  {
   "cell_type": "code",
   "execution_count": null,
   "metadata": {
    "colab": {
     "base_uri": "https://localhost:8080/"
    },
    "id": "kMCEalIzqvio",
    "outputId": "413d3096-daf7-4f6c-fc1d-28c84fee420f"
   },
   "outputs": [],
   "source": [
    "# fitting train data\n",
    "\n",
    "xg.fit(X, y)\n",
    "\n",
    "# predicting on holdout set\n",
    "holdout = xg.predict(X_test)\n",
    "\n",
    "# checking results on test set\n",
    "accuracy_score(y_test, holdout)"
   ]
  },
  {
   "cell_type": "code",
   "execution_count": null,
   "metadata": {},
   "outputs": [],
   "source": [
    "# cm = confusion_matrix(y_test, holdout, labels = xg.classes_)\n",
    "# disp = ConfusionMatrixDisplay(confusion_matrix=cm, display_labels=xg.classes_)\n",
    "# disp.plot()\n",
    "# plt.show()"
   ]
  },
  {
   "cell_type": "markdown",
   "metadata": {},
   "source": [
    "### Confusion Matrix"
   ]
  },
  {
   "cell_type": "code",
   "execution_count": null,
   "metadata": {},
   "outputs": [],
   "source": [
    "ConfusionMatrixDisplay.from_predictions(holdout, y_test, display_labels=[i for i in idx2class.values()], \n",
    "                                        xticks_rotation = \"vertical\", cmap='Blues' , normalize = \"true\")\n",
    "plt.show()"
   ]
  },
  {
   "cell_type": "markdown",
   "metadata": {},
   "source": [
    "### Learning Curve"
   ]
  },
  {
   "cell_type": "code",
   "execution_count": null,
   "metadata": {},
   "outputs": [],
   "source": [
    "# from sklearn.model_selection import learning_curve\n",
    "# from sklearn.model_selection import ShuffleSplit\n",
    "\n",
    "\n",
    "# def plot_learning_curve(\n",
    "#     estimator,\n",
    "#     title,\n",
    "#     X,\n",
    "#     y,\n",
    "#     axes=None,\n",
    "#     ylim=None,\n",
    "#     cv=None,\n",
    "#     n_jobs=None,\n",
    "#     scoring=None,\n",
    "#     train_sizes=np.linspace(0.1, 1.0, 5),\n",
    "# ):\n",
    "\n",
    "#     if axes is None:\n",
    "#         _, axes = plt.subplots(1, 1, figsize=(10, 5))\n",
    "\n",
    "#     axes.set_title(title)\n",
    "#     if ylim is not None:\n",
    "#         axes.set_ylim(*ylim)\n",
    "#     axes.set_xlabel(\"Training examples\")\n",
    "#     axes.set_ylabel(\"Score\")\n",
    "\n",
    "#     train_sizes, train_scores, test_scores, fit_times, _ = learning_curve(\n",
    "#         estimator,\n",
    "#         X,\n",
    "#         y,\n",
    "#         scoring=scoring,\n",
    "#         cv=cv,\n",
    "#         n_jobs=n_jobs,\n",
    "#         train_sizes=train_sizes,\n",
    "#         return_times=True,\n",
    "#     )\n",
    "#     train_scores_mean = np.mean(train_scores, axis=1)\n",
    "#     train_scores_std = np.std(train_scores, axis=1)\n",
    "#     test_scores_mean = np.mean(test_scores, axis=1)\n",
    "#     test_scores_std = np.std(test_scores, axis=1)\n",
    "\n",
    "#     # Plot learning curve\n",
    "#     axes.grid()\n",
    "#     axes.fill_between(\n",
    "#         train_sizes,\n",
    "#         train_scores_mean - train_scores_std,\n",
    "#         train_scores_mean + train_scores_std,\n",
    "#         alpha=0.1,\n",
    "#         color=\"r\",\n",
    "#     )\n",
    "#     axes.fill_between(\n",
    "#         train_sizes,\n",
    "#         test_scores_mean - test_scores_std,\n",
    "#         test_scores_mean + test_scores_std,\n",
    "#         alpha=0.1,\n",
    "#         color=\"g\",\n",
    "#     )\n",
    "#     axes.plot(\n",
    "#         train_sizes, train_scores_mean, \"o-\", color=\"r\", label=\"Training score\"\n",
    "#     )\n",
    "#     axes.plot(\n",
    "#         train_sizes, test_scores_mean, \"o-\", color=\"g\", label=\"Cross-validation score\"\n",
    "#     )\n",
    "#     axes.legend(loc=\"best\")\n",
    "\n",
    "#     return plt\n",
    "\n",
    "\n",
    "# fig, axes = plt.subplots(1, 1, figsize=(10, 5))\n",
    "\n",
    "# X, y = X_train, y_train\n",
    "\n",
    "# title = \"Learning Curves\"\n",
    "\n",
    "# cv = ShuffleSplit(n_splits=20, test_size=0.1, random_state=0)\n",
    "\n",
    "# plot_learning_curve(xg, title, X, y, axes=axes, ylim=(0.60, 0.80),\n",
    "#                     cv=cv, n_jobs=4)\n",
    "\n",
    "# plt.show()"
   ]
  },
  {
   "cell_type": "markdown",
   "metadata": {},
   "source": [
    "### Gridsearch to finetune model hyperparameters"
   ]
  },
  {
   "cell_type": "markdown",
   "metadata": {},
   "source": [
    "#### initial model parameters"
   ]
  },
  {
   "cell_type": "code",
   "execution_count": null,
   "metadata": {},
   "outputs": [],
   "source": [
    "from xgboost.sklearn import XGBClassifier\n",
    "from sklearn.model_selection import GridSearchCV\n",
    "xgb1 = XGBClassifier(\n",
    "    n_estimators=750,\n",
    "    min_child_weight=0.81,\n",
    "    learning_rate=0.025,\n",
    "    max_depth=2,\n",
    "    subsample=0.80,\n",
    "    colsample_bytree=0.42,\n",
    "    gamma=0.10,\n",
    "    random_state=42,\n",
    "    n_jobs=-1,\n",
    "    objective='multi:softmax',\n",
    "    nthread=4\n",
    ")"
   ]
  },
  {
   "cell_type": "code",
   "execution_count": null,
   "metadata": {},
   "outputs": [],
   "source": [
    "def getTrainScores(gs):\n",
    "    results = {}\n",
    "    runs = 0\n",
    "    for x,y in zip(list(gs.cv_results_['mean_test_score']), gs.cv_results_['params']):\n",
    "        results[runs] = 'mean:' + str(x) + 'params' + str(y)\n",
    "        runs += 1\n",
    "    best = {'best_mean': gs.best_score_, \"best_param\":gs.best_params_}\n",
    "    return results, best"
   ]
  },
  {
   "cell_type": "markdown",
   "metadata": {},
   "source": [
    "#### grid search new parameters"
   ]
  },
  {
   "cell_type": "code",
   "execution_count": null,
   "metadata": {},
   "outputs": [],
   "source": [
    "# param_test1 = {\n",
    "#  'max_depth':range(1,5,1),\n",
    "#  'min_child_weight':np.arange(0.5,3.0,0.5)\n",
    "# }\n",
    "# #metrics to consider: f1_micro, f1_macro, roc_auc_ovr\n",
    "# gsearch1 = GridSearchCV(estimator = xgb1, param_grid = param_test1, scoring='accuracy', n_jobs=-1, verbose = 10, cv=5)\n",
    "# gsearch1.fit(X_train, y_train)\n",
    "# getTrainScores(gsearch1)"
   ]
  },
  {
   "cell_type": "code",
   "execution_count": null,
   "metadata": {},
   "outputs": [],
   "source": [
    "param_test2 = {\n",
    " 'max_depth':range(4,8,1),\n",
    " 'min_child_weight':np.arange(1.2,2.0,0.2)\n",
    "}\n",
    "#metrics to consider: f1_micro, f1_macro, roc_auc_ovr\n",
    "gsearch2 = GridSearchCV(estimator = xgb1, param_grid = param_test2, scoring='accuracy', n_jobs=-1, verbose = 10, cv=5)\n",
    "gsearch2.fit(X_train, y_train)\n",
    "getTrainScores(gsearch2)"
   ]
  },
  {
   "cell_type": "markdown",
   "metadata": {},
   "source": [
    "#### second model"
   ]
  },
  {
   "cell_type": "code",
   "execution_count": null,
   "metadata": {},
   "outputs": [],
   "source": [
    "xgb2 = XGBClassifier(\n",
    "    n_estimators=750,\n",
    "    min_child_weight=0.81,\n",
    "    learning_rate=0.025,\n",
    "    max_depth=2,\n",
    "    subsample=0.80,\n",
    "    colsample_bytree=0.42,\n",
    "    gamma=0.10,\n",
    "    random_state=42,\n",
    "    n_jobs=-1,\n",
    "    objective='multi:softmax',\n",
    "    nthread=4\n",
    ")"
   ]
  },
  {
   "cell_type": "code",
   "execution_count": null,
   "metadata": {},
   "outputs": [],
   "source": []
  },
  {
   "cell_type": "code",
   "execution_count": null,
   "metadata": {},
   "outputs": [],
   "source": []
  },
  {
   "cell_type": "markdown",
   "metadata": {
    "id": "KE-UKIFz1hF1"
   },
   "source": [
    "### Feature Importance"
   ]
  },
  {
   "cell_type": "code",
   "execution_count": null,
   "metadata": {
    "colab": {
     "base_uri": "https://localhost:8080/",
     "height": 628
    },
    "id": "x5Mk34vXqveQ",
    "outputId": "9991e7ea-14ae-4532-b96a-f8b71ad2c061"
   },
   "outputs": [],
   "source": [
    "# finding feature importances and creating new dataframe basen on them\n",
    "\n",
    "feature_importance = xg.get_booster().get_score(importance_type='weight')\n",
    "\n",
    "keys = list(feature_importance.keys())\n",
    "values = list(feature_importance.values())\n",
    "\n",
    "importance = pd.DataFrame(data=values, index=keys,\n",
    "                          columns=['score']).sort_values(by='score',\n",
    "                                                         ascending=False)\n",
    "fig, ax = plt.subplots(figsize=(16, 10))\n",
    "sns.barplot(x=importance.score.iloc[:20],\n",
    "            y=importance.index[:20],\n",
    "            orient='h',\n",
    "            palette='Reds_r')\n",
    "ax.set_title('Feature Importances')\n",
    "plt.show()"
   ]
  },
  {
   "cell_type": "code",
   "execution_count": null,
   "metadata": {
    "id": "rd63Wbo4qvbv"
   },
   "outputs": [],
   "source": []
  },
  {
   "cell_type": "code",
   "execution_count": null,
   "metadata": {
    "id": "OMaHzY77qvZV"
   },
   "outputs": [],
   "source": []
  },
  {
   "cell_type": "code",
   "execution_count": null,
   "metadata": {
    "id": "XYwnq-QjqvXL"
   },
   "outputs": [],
   "source": []
  },
  {
   "cell_type": "code",
   "execution_count": null,
   "metadata": {
    "id": "JmakLaTkqvU6"
   },
   "outputs": [],
   "source": []
  },
  {
   "cell_type": "code",
   "execution_count": null,
   "metadata": {
    "id": "RrztNDFUqvS0"
   },
   "outputs": [],
   "source": []
  },
  {
   "cell_type": "code",
   "execution_count": null,
   "metadata": {
    "id": "DMcMSom1qvRG"
   },
   "outputs": [],
   "source": []
  },
  {
   "cell_type": "code",
   "execution_count": null,
   "metadata": {
    "id": "OuV-M_PGqvOQ"
   },
   "outputs": [],
   "source": []
  },
  {
   "cell_type": "code",
   "execution_count": null,
   "metadata": {
    "id": "FHDLpgWXqvMA"
   },
   "outputs": [],
   "source": []
  },
  {
   "cell_type": "code",
   "execution_count": null,
   "metadata": {
    "id": "cEiebfrhqvKA"
   },
   "outputs": [],
   "source": []
  },
  {
   "cell_type": "code",
   "execution_count": null,
   "metadata": {
    "id": "NAfaj6-OqvHv"
   },
   "outputs": [],
   "source": []
  },
  {
   "cell_type": "code",
   "execution_count": null,
   "metadata": {
    "id": "bN_ztjkVqvFn"
   },
   "outputs": [],
   "source": []
  },
  {
   "cell_type": "code",
   "execution_count": null,
   "metadata": {
    "id": "ObsfXNcPqvDf"
   },
   "outputs": [],
   "source": []
  },
  {
   "cell_type": "code",
   "execution_count": null,
   "metadata": {
    "id": "Exy-mGWcqvBa"
   },
   "outputs": [],
   "source": []
  },
  {
   "cell_type": "code",
   "execution_count": null,
   "metadata": {
    "id": "zDPG9xpKqu_F"
   },
   "outputs": [],
   "source": []
  },
  {
   "cell_type": "code",
   "execution_count": null,
   "metadata": {
    "id": "UhZ50IdIqu8_"
   },
   "outputs": [],
   "source": []
  },
  {
   "cell_type": "code",
   "execution_count": null,
   "metadata": {
    "id": "xw5jIoLWqu63"
   },
   "outputs": [],
   "source": []
  },
  {
   "cell_type": "code",
   "execution_count": null,
   "metadata": {
    "id": "q_g1iWC_qu4-"
   },
   "outputs": [],
   "source": []
  },
  {
   "cell_type": "code",
   "execution_count": null,
   "metadata": {
    "id": "4ol1q7Y8qu2q"
   },
   "outputs": [],
   "source": []
  },
  {
   "cell_type": "code",
   "execution_count": null,
   "metadata": {
    "id": "LdgG7rXPqu0Y"
   },
   "outputs": [],
   "source": []
  },
  {
   "cell_type": "code",
   "execution_count": null,
   "metadata": {
    "id": "8z_djckequyG"
   },
   "outputs": [],
   "source": []
  },
  {
   "cell_type": "code",
   "execution_count": null,
   "metadata": {
    "id": "8J8E8V9pqucf"
   },
   "outputs": [],
   "source": []
  },
  {
   "cell_type": "code",
   "execution_count": null,
   "metadata": {
    "id": "fyBPk9RQqtps"
   },
   "outputs": [],
   "source": []
  }
 ],
 "metadata": {
  "colab": {
   "machine_shape": "hm",
   "provenance": [],
   "toc_visible": true
  },
  "gpuClass": "standard",
  "kernelspec": {
   "display_name": "Python 3",
   "language": "python",
   "name": "python3"
  },
  "language_info": {
   "codemirror_mode": {
    "name": "ipython",
    "version": 3
   },
   "file_extension": ".py",
   "mimetype": "text/x-python",
   "name": "python",
   "nbconvert_exporter": "python",
   "pygments_lexer": "ipython3",
   "version": "3.8.8"
  }
 },
 "nbformat": 4,
 "nbformat_minor": 1
}
