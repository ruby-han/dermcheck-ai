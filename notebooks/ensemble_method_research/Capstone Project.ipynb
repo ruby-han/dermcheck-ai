{
 "cells": [
  {
   "cell_type": "code",
   "execution_count": 85,
   "id": "cad75637",
   "metadata": {},
   "outputs": [],
   "source": [
    "import pandas as pd\n",
    "import numpy as np\n",
    "\n",
    "#\n",
    "\n",
    "import matplotlib\n",
    "import matplotlib.pyplot as plt\n",
    "import matplotlib.gridspec as gridspec\n",
    "\n",
    "#\n",
    "\n",
    "import seaborn as sns\n",
    "import plotly.express as px\n",
    "\n",
    "#\n",
    "\n",
    "import os\n",
    "import random\n",
    "import re\n",
    "import math\n",
    "import time\n",
    "\n",
    "from tqdm import tqdm\n",
    "from tqdm.keras import TqdmCallback\n",
    "\n",
    "\n",
    "from pandas_summary import DataFrameSummary\n",
    "\n",
    "import warnings\n",
    "import missforest\n",
    "\n",
    "warnings.filterwarnings('ignore') "
   ]
  },
  {
   "cell_type": "code",
   "execution_count": 86,
   "id": "c808fecb",
   "metadata": {},
   "outputs": [],
   "source": [
    "seed_val = 47\n",
    "random.seed(seed_val)\n",
    "np.random.seed(seed_val)\n",
    "# Setting color palette.\n",
    "orange_black = [\n",
    "    '#fdc029', '#df861d', '#FF6347', '#aa3d01', '#a30e15', '#800000', '#171820'\n",
    "]\n",
    "\n",
    "# Setting plot styling.\n",
    "plt.style.use('ggplot')"
   ]
  },
  {
   "cell_type": "code",
   "execution_count": 104,
   "id": "0f2dd6a5",
   "metadata": {},
   "outputs": [
    {
     "name": "stdout",
     "output_type": "stream",
     "text": [
      "<class 'pandas.core.frame.DataFrame'>\n",
      "Int64Index: 62360 entries, 591 to 62950\n",
      "Data columns (total 12 columns):\n",
      " #   Column        Non-Null Count  Dtype  \n",
      "---  ------        --------------  -----  \n",
      " 0   Unnamed: 0    62360 non-null  int64  \n",
      " 1   image_id      62360 non-null  object \n",
      " 2   diagnosis     62360 non-null  object \n",
      " 3   age           62360 non-null  float64\n",
      " 4   sex           62360 non-null  object \n",
      " 5   localization  62360 non-null  object \n",
      " 6   source        62360 non-null  object \n",
      " 7   severity      62360 non-null  object \n",
      " 8   path          62360 non-null  object \n",
      " 9   class         62360 non-null  object \n",
      " 10  duplicated    62360 non-null  bool   \n",
      " 11  dataset       62360 non-null  object \n",
      "dtypes: bool(1), float64(1), int64(1), object(9)\n",
      "memory usage: 5.8+ MB\n"
     ]
    }
   ],
   "source": [
    "df = pd.read_csv('full_data.csv')\n",
    "df = df[df['duplicated'] == False]\n",
    "df.info()"
   ]
  },
  {
   "cell_type": "code",
   "execution_count": 105,
   "id": "349b48cb",
   "metadata": {},
   "outputs": [
    {
     "data": {
      "text/html": [
       "<div>\n",
       "<style scoped>\n",
       "    .dataframe tbody tr th:only-of-type {\n",
       "        vertical-align: middle;\n",
       "    }\n",
       "\n",
       "    .dataframe tbody tr th {\n",
       "        vertical-align: top;\n",
       "    }\n",
       "\n",
       "    .dataframe thead th {\n",
       "        text-align: right;\n",
       "    }\n",
       "</style>\n",
       "<table border=\"1\" class=\"dataframe\">\n",
       "  <thead>\n",
       "    <tr style=\"text-align: right;\">\n",
       "      <th></th>\n",
       "      <th>diagnosis</th>\n",
       "      <th>age</th>\n",
       "      <th>sex</th>\n",
       "      <th>localization</th>\n",
       "      <th>severity</th>\n",
       "      <th>path</th>\n",
       "      <th>class</th>\n",
       "    </tr>\n",
       "  </thead>\n",
       "  <tbody>\n",
       "    <tr>\n",
       "      <th>26178</th>\n",
       "      <td>unknown</td>\n",
       "      <td>30.0</td>\n",
       "      <td>female</td>\n",
       "      <td>upper extremity</td>\n",
       "      <td>benign</td>\n",
       "      <td>./Data/ISIC_2020/Data/ISIC_4761813.jpg</td>\n",
       "      <td>Unclassified</td>\n",
       "    </tr>\n",
       "    <tr>\n",
       "      <th>45066</th>\n",
       "      <td>seborrheic keratoses and other benign tumors</td>\n",
       "      <td>NaN</td>\n",
       "      <td>NaN</td>\n",
       "      <td>NaN</td>\n",
       "      <td>NaN</td>\n",
       "      <td>./Data/dermnet/test/Seborrheic Keratoses and o...</td>\n",
       "      <td>Benign Marking or Mole</td>\n",
       "    </tr>\n",
       "    <tr>\n",
       "      <th>48221</th>\n",
       "      <td>herpes hpv and other stds photos</td>\n",
       "      <td>NaN</td>\n",
       "      <td>NaN</td>\n",
       "      <td>NaN</td>\n",
       "      <td>NaN</td>\n",
       "      <td>./Data/dermnet/test/Herpes HPV and other STDs ...</td>\n",
       "      <td>Toxin, Fungal, Bug, Viral, or Bacterial Infect...</td>\n",
       "    </tr>\n",
       "    <tr>\n",
       "      <th>591</th>\n",
       "      <td>benign keratosis-like lesions</td>\n",
       "      <td>80.0</td>\n",
       "      <td>male</td>\n",
       "      <td>scalp</td>\n",
       "      <td>NaN</td>\n",
       "      <td>./Data/ISIC_2018/Train/HAM10000_images_part_1_...</td>\n",
       "      <td>Benign Marking or Mole</td>\n",
       "    </tr>\n",
       "    <tr>\n",
       "      <th>23108</th>\n",
       "      <td>nevus</td>\n",
       "      <td>45.0</td>\n",
       "      <td>male</td>\n",
       "      <td>lower extremity</td>\n",
       "      <td>benign</td>\n",
       "      <td>./Data/ISIC_2020/Data/ISIC_3849358.jpg</td>\n",
       "      <td>Benign Marking or Mole</td>\n",
       "    </tr>\n",
       "  </tbody>\n",
       "</table>\n",
       "</div>"
      ],
      "text/plain": [
       "                                          diagnosis   age     sex  \\\n",
       "26178                                       unknown  30.0  female   \n",
       "45066  seborrheic keratoses and other benign tumors   NaN     NaN   \n",
       "48221              herpes hpv and other stds photos   NaN     NaN   \n",
       "591                   benign keratosis-like lesions  80.0    male   \n",
       "23108                                         nevus  45.0    male   \n",
       "\n",
       "          localization severity  \\\n",
       "26178  upper extremity   benign   \n",
       "45066              NaN      NaN   \n",
       "48221              NaN      NaN   \n",
       "591              scalp      NaN   \n",
       "23108  lower extremity   benign   \n",
       "\n",
       "                                                    path  \\\n",
       "26178             ./Data/ISIC_2020/Data/ISIC_4761813.jpg   \n",
       "45066  ./Data/dermnet/test/Seborrheic Keratoses and o...   \n",
       "48221  ./Data/dermnet/test/Herpes HPV and other STDs ...   \n",
       "591    ./Data/ISIC_2018/Train/HAM10000_images_part_1_...   \n",
       "23108             ./Data/ISIC_2020/Data/ISIC_3849358.jpg   \n",
       "\n",
       "                                                   class  \n",
       "26178                                       Unclassified  \n",
       "45066                             Benign Marking or Mole  \n",
       "48221  Toxin, Fungal, Bug, Viral, or Bacterial Infect...  \n",
       "591                               Benign Marking or Mole  \n",
       "23108                             Benign Marking or Mole  "
      ]
     },
     "execution_count": 105,
     "metadata": {},
     "output_type": "execute_result"
    }
   ],
   "source": [
    "df2=df.replace('unknown',np.NaN).replace(0.0, np.NaN).drop(['Unnamed: 0', 'duplicated', 'source', 'dataset','image_id'], axis=1)\n",
    "df2['diagnosis'].fillna('unknown', inplace=True)\n",
    "df2.sample(5)"
   ]
  },
  {
   "cell_type": "code",
   "execution_count": 106,
   "id": "e8ba5bc0",
   "metadata": {},
   "outputs": [
    {
     "data": {
      "text/plain": [
       "(56124, 7)"
      ]
     },
     "execution_count": 106,
     "metadata": {},
     "output_type": "execute_result"
    }
   ],
   "source": [
    "train = df2.sample(frac=0.9, random_state=47)\n",
    "test = df2.drop(train.index)\n",
    "train.shape"
   ]
  },
  {
   "cell_type": "code",
   "execution_count": 107,
   "id": "1e284199",
   "metadata": {},
   "outputs": [
    {
     "data": {
      "text/plain": [
       "Text(0.5, 1.0, 'Test Data Missing Values')"
      ]
     },
     "execution_count": 107,
     "metadata": {},
     "output_type": "execute_result"
    },
    {
     "data": {
      "image/png": "[encoded data removed]",
      "text/plain": [
       "<Figure size 1152x432 with 2 Axes>"
      ]
     },
     "metadata": {},
     "output_type": "display_data"
    }
   ],
   "source": [
    "# Checking missing values:\n",
    "\n",
    "def missing_percentage(df):\n",
    "\n",
    "    total = df.isnull().sum().sort_values(\n",
    "        ascending=False)[df.isnull().sum().sort_values(ascending=False) != 0]\n",
    "    percent = (df.isnull().sum().sort_values(ascending=False) / len(df) *\n",
    "               100)[(df.isnull().sum().sort_values(ascending=False) / len(df) *\n",
    "                     100) != 0]\n",
    "    return pd.concat([total, percent], axis=1, keys=['Total', 'Percent'])\n",
    "\n",
    "\n",
    "missing_train = missing_percentage(train)\n",
    "missing_test = missing_percentage(test)\n",
    "\n",
    "fig, ax = plt.subplots(1, 2, figsize=(16, 6))\n",
    "\n",
    "sns.barplot(x=missing_train.index,\n",
    "            y='Percent',\n",
    "            data=missing_train,\n",
    "            palette=orange_black,\n",
    "            ax=ax[0])\n",
    "\n",
    "sns.barplot(x=missing_test.index,\n",
    "            y='Percent',\n",
    "            data=missing_test,\n",
    "            palette=orange_black,\n",
    "            ax=ax[1])\n",
    "\n",
    "ax[0].set_title('Train Data Missing Values')\n",
    "ax[1].set_title('Test Data Missing Values')"
   ]
  },
  {
   "cell_type": "code",
   "execution_count": 108,
   "id": "c2b1af55",
   "metadata": {},
   "outputs": [
    {
     "data": {
      "image/png": "[encoded data removed]",
      "text/plain": [
       "<Figure size 1440x648 with 3 Axes>"
      ]
     },
     "metadata": {},
     "output_type": "display_data"
    }
   ],
   "source": [
    "fig = plt.figure(constrained_layout=True, figsize=(20, 9))\n",
    "\n",
    "# Creating a grid:\n",
    "\n",
    "grid = gridspec.GridSpec(ncols=4, nrows=2, figure=fig)\n",
    "\n",
    "ax1 = fig.add_subplot(grid[0, :2])\n",
    "\n",
    "# Set the title.\n",
    "\n",
    "ax1.set_title('Gender Distribution')\n",
    "\n",
    "sns.countplot(train.sex.sort_values(ignore_index=True),\n",
    "              alpha=0.9,\n",
    "              ax=ax1,\n",
    "              color='#fdc029',\n",
    "              label='Train')\n",
    "sns.countplot(test.sex.sort_values(ignore_index=True),\n",
    "              alpha=0.7,\n",
    "              ax=ax1,\n",
    "              color='#171820',\n",
    "              label='Test')\n",
    "ax1.legend()\n",
    "\n",
    "# Customizing the second grid.\n",
    "\n",
    "ax2 = fig.add_subplot(grid[0, 2:])\n",
    "\n",
    "# Plot the countplot.\n",
    "\n",
    "sns.countplot(train.localization,\n",
    "              alpha=0.9,\n",
    "              ax=ax2,\n",
    "              color='#fdc029',\n",
    "              label='Train',\n",
    "              order=train['localization'].value_counts().index)\n",
    "sns.countplot(test.localization,\n",
    "              alpha=0.7,\n",
    "              ax=ax2,\n",
    "              color='#171820',\n",
    "              label='Test',\n",
    "              order=test['localization'].value_counts().index), ax2.set_title(\n",
    "                  'Anatom Site Distribution')\n",
    "\n",
    "ax2.legend()\n",
    "\n",
    "# Customizing the third grid.\n",
    "\n",
    "ax3 = fig.add_subplot(grid[1, :])\n",
    "\n",
    "# Set the title.\n",
    "\n",
    "ax3.set_title('Age Distribution')\n",
    "\n",
    "# Plot the histogram.\n",
    "\n",
    "sns.distplot(train.age, ax=ax3, label='Train', color='#fdc029')\n",
    "sns.distplot(test.age, ax=ax3, label='Test', color='#171820')\n",
    "\n",
    "ax3.legend()\n",
    "\n",
    "plt.show()"
   ]
  },
  {
   "cell_type": "code",
   "execution_count": 109,
   "id": "6cbf341e",
   "metadata": {},
   "outputs": [],
   "source": [
    "# Filling missing anatom site values with 'unknown' tag:\n",
    "# Filling missing sex values with 'unknown' tag:\n",
    "# Filling missing severity values with 'unknown' tag:\n",
    "\n",
    "for df in [train, test]:\n",
    "    df['localization'].fillna('unknown', inplace=True)\n",
    "    df['severity'].fillna('unknown', inplace=True)\n",
    "    df['sex'].fillna('unknown', inplace=True)"
   ]
  },
  {
   "cell_type": "code",
   "execution_count": 110,
   "id": "86588107",
   "metadata": {},
   "outputs": [
    {
     "name": "stdout",
     "output_type": "stream",
     "text": [
      "There are no different body parts occuring between train and test set...\n"
     ]
    }
   ],
   "source": [
    "# Double checking:\n",
    "\n",
    "ids_train = train.localization.values\n",
    "ids_test = test.localization.values\n",
    "ids_train_set = set(ids_train)\n",
    "ids_test_set = set(ids_test)\n",
    "\n",
    "location_not_overlap = list(ids_train_set.symmetric_difference(ids_test_set))\n",
    "n_overlap = len(location_not_overlap)\n",
    "if n_overlap == 0:\n",
    "    print(\n",
    "        f'There are no different body parts occuring between train and test set...'\n",
    "    )\n",
    "else:\n",
    "    print('There are some not overlapping values between train and test set!')"
   ]
  },
  {
   "cell_type": "code",
   "execution_count": 111,
   "id": "a1cde93b",
   "metadata": {},
   "outputs": [],
   "source": [
    "# Filling age and sex with appropriate values.\n",
    "\n",
    "## train['sex'].fillna(train['sex'].mode()[0], inplace=True)\n",
    "\n",
    "train['age'].fillna(train['age'].median(), inplace=True)"
   ]
  },
  {
   "cell_type": "code",
   "execution_count": 112,
   "id": "1bc6e1d2",
   "metadata": {},
   "outputs": [
    {
     "name": "stdout",
     "output_type": "stream",
     "text": [
      "Train missing value count: 0\n",
      "Test missing value count: 0\n"
     ]
    }
   ],
   "source": [
    "print(\n",
    "    f'Train missing value count: {train.isnull().sum().sum()}\\nTest missing value count: {train.isnull().sum().sum()}'\n",
    ")"
   ]
  },
  {
   "cell_type": "code",
   "execution_count": 113,
   "id": "4ae68de1",
   "metadata": {},
   "outputs": [
    {
     "data": {
      "application/vnd.plotly.v1+json": {
       "config": {
        "plotlyServerURL": "https://plot.ly"
       },
       "data": [
        {
         "branchvalues": "total",
         "customdata": [
          [
           916
          ],
          [
           6
          ],
          [
           1986
          ],
          [
           369
          ],
          [
           55
          ],
          [
           682
          ],
          [
           285
          ],
          [
           40
          ],
          [
           82
          ],
          [
           1671
          ],
          [
           9399
          ],
          [
           151
          ],
          [
           108
          ],
          [
           335
          ],
          [
           116
          ],
          [
           15083
          ],
          [
           1290
          ],
          [
           18041
          ],
          [
           5509
          ]
         ],
         "domain": {
          "x": [
           0,
           1
          ],
          "y": [
           0,
           1
          ]
         },
         "hovertemplate": "labels=%{label}<br>count_sum=%{value}<br>parent=%{parent}<br>id=%{id}<br>count=%{color}<extra></extra>",
         "ids": [
          "abdomen",
          "acral",
          "back",
          "chest",
          "ear",
          "face",
          "foot",
          "genital",
          "hand",
          "head/neck",
          "lower extremity",
          "neck",
          "oral/genital",
          "palms/soles",
          "scalp",
          "torso",
          "trunk",
          "unknown",
          "upper extremity"
         ],
         "labels": [
          "abdomen",
          "acral",
          "back",
          "chest",
          "ear",
          "face",
          "foot",
          "genital",
          "hand",
          "head/neck",
          "lower extremity",
          "neck",
          "oral/genital",
          "palms/soles",
          "scalp",
          "torso",
          "trunk",
          "unknown",
          "upper extremity"
         ],
         "marker": {
          "coloraxis": "coloraxis",
          "colors": [
           916,
           6,
           1986,
           369,
           55,
           682,
           285,
           40,
           82,
           1671,
           9399,
           151,
           108,
           335,
           116,
           15083,
           1290,
           18041,
           5509
          ]
         },
         "name": "",
         "parents": [
          "",
          "",
          "",
          "",
          "",
          "",
          "",
          "",
          "",
          "",
          "",
          "",
          "",
          "",
          "",
          "",
          "",
          "",
          ""
         ],
         "textinfo": "label+percent entry",
         "type": "treemap",
         "values": [
          916,
          6,
          1986,
          369,
          55,
          682,
          285,
          40,
          82,
          1671,
          9399,
          151,
          108,
          335,
          116,
          15083,
          1290,
          18041,
          5509
         ]
        }
       ],
       "layout": {
        "coloraxis": {
         "colorbar": {
          "title": {
           "text": "count"
          }
         },
         "colorscale": [
          [
           0,
           "#fdc029"
          ],
          [
           0.16666666666666666,
           "#df861d"
          ],
          [
           0.3333333333333333,
           "#FF6347"
          ],
          [
           0.5,
           "#aa3d01"
          ],
          [
           0.6666666666666666,
           "#a30e15"
          ],
          [
           0.8333333333333334,
           "#800000"
          ],
          [
           1,
           "#171820"
          ]
         ]
        },
        "legend": {
         "tracegroupgap": 0
        },
        "template": {
         "data": {
          "bar": [
           {
            "error_x": {
             "color": "#2a3f5f"
            },
            "error_y": {
             "color": "#2a3f5f"
            },
            "marker": {
             "line": {
              "color": "#E5ECF6",
              "width": 0.5
             },
             "pattern": {
              "fillmode": "overlay",
              "size": 10,
              "solidity": 0.2
             }
            },
            "type": "bar"
           }
          ],
          "barpolar": [
           {
            "marker": {
             "line": {
              "color": "#E5ECF6",
              "width": 0.5
             },
             "pattern": {
              "fillmode": "overlay",
              "size": 10,
              "solidity": 0.2
             }
            },
            "type": "barpolar"
           }
          ],
          "carpet": [
           {
            "aaxis": {
             "endlinecolor": "#2a3f5f",
             "gridcolor": "white",
             "linecolor": "white",
             "minorgridcolor": "white",
             "startlinecolor": "#2a3f5f"
            },
            "baxis": {
             "endlinecolor": "#2a3f5f",
             "gridcolor": "white",
             "linecolor": "white",
             "minorgridcolor": "white",
             "startlinecolor": "#2a3f5f"
            },
            "type": "carpet"
           }
          ],
          "choropleth": [
           {
            "colorbar": {
             "outlinewidth": 0,
             "ticks": ""
            },
            "type": "choropleth"
           }
          ],
          "contour": [
           {
            "colorbar": {
             "outlinewidth": 0,
             "ticks": ""
            },
            "colorscale": [
             [
              0,
              "#0d0887"
             ],
             [
              0.1111111111111111,
              "#46039f"
             ],
             [
              0.2222222222222222,
              "#7201a8"
             ],
             [
              0.3333333333333333,
              "#9c179e"
             ],
             [
              0.4444444444444444,
              "#bd3786"
             ],
             [
              0.5555555555555556,
              "#d8576b"
             ],
             [
              0.6666666666666666,
              "#ed7953"
             ],
             [
              0.7777777777777778,
              "#fb9f3a"
             ],
             [
              0.8888888888888888,
              "#fdca26"
             ],
             [
              1,
              "#f0f921"
             ]
            ],
            "type": "contour"
           }
          ],
          "contourcarpet": [
           {
            "colorbar": {
             "outlinewidth": 0,
             "ticks": ""
            },
            "type": "contourcarpet"
           }
          ],
          "heatmap": [
           {
            "colorbar": {
             "outlinewidth": 0,
             "ticks": ""
            },
            "colorscale": [
             [
              0,
              "#0d0887"
             ],
             [
              0.1111111111111111,
              "#46039f"
             ],
             [
              0.2222222222222222,
              "#7201a8"
             ],
             [
              0.3333333333333333,
              "#9c179e"
             ],
             [
              0.4444444444444444,
              "#bd3786"
             ],
             [
              0.5555555555555556,
              "#d8576b"
             ],
             [
              0.6666666666666666,
              "#ed7953"
             ],
             [
              0.7777777777777778,
              "#fb9f3a"
             ],
             [
              0.8888888888888888,
              "#fdca26"
             ],
             [
              1,
              "#f0f921"
             ]
            ],
            "type": "heatmap"
           }
          ],
          "heatmapgl": [
           {
            "colorbar": {
             "outlinewidth": 0,
             "ticks": ""
            },
            "colorscale": [
             [
              0,
              "#0d0887"
             ],
             [
              0.1111111111111111,
              "#46039f"
             ],
             [
              0.2222222222222222,
              "#7201a8"
             ],
             [
              0.3333333333333333,
              "#9c179e"
             ],
             [
              0.4444444444444444,
              "#bd3786"
             ],
             [
              0.5555555555555556,
              "#d8576b"
             ],
             [
              0.6666666666666666,
              "#ed7953"
             ],
             [
              0.7777777777777778,
              "#fb9f3a"
             ],
             [
              0.8888888888888888,
              "#fdca26"
             ],
             [
              1,
              "#f0f921"
             ]
            ],
            "type": "heatmapgl"
           }
          ],
          "histogram": [
           {
            "marker": {
             "pattern": {
              "fillmode": "overlay",
              "size": 10,
              "solidity": 0.2
             }
            },
            "type": "histogram"
           }
          ],
          "histogram2d": [
           {
            "colorbar": {
             "outlinewidth": 0,
             "ticks": ""
            },
            "colorscale": [
             [
              0,
              "#0d0887"
             ],
             [
              0.1111111111111111,
              "#46039f"
             ],
             [
              0.2222222222222222,
              "#7201a8"
             ],
             [
              0.3333333333333333,
              "#9c179e"
             ],
             [
              0.4444444444444444,
              "#bd3786"
             ],
             [
              0.5555555555555556,
              "#d8576b"
             ],
             [
              0.6666666666666666,
              "#ed7953"
             ],
             [
              0.7777777777777778,
              "#fb9f3a"
             ],
             [
              0.8888888888888888,
              "#fdca26"
             ],
             [
              1,
              "#f0f921"
             ]
            ],
            "type": "histogram2d"
           }
          ],
          "histogram2dcontour": [
           {
            "colorbar": {
             "outlinewidth": 0,
             "ticks": ""
            },
            "colorscale": [
             [
              0,
              "#0d0887"
             ],
             [
              0.1111111111111111,
              "#46039f"
             ],
             [
              0.2222222222222222,
              "#7201a8"
             ],
             [
              0.3333333333333333,
              "#9c179e"
             ],
             [
              0.4444444444444444,
              "#bd3786"
             ],
             [
              0.5555555555555556,
              "#d8576b"
             ],
             [
              0.6666666666666666,
              "#ed7953"
             ],
             [
              0.7777777777777778,
              "#fb9f3a"
             ],
             [
              0.8888888888888888,
              "#fdca26"
             ],
             [
              1,
              "#f0f921"
             ]
            ],
            "type": "histogram2dcontour"
           }
          ],
          "mesh3d": [
           {
            "colorbar": {
             "outlinewidth": 0,
             "ticks": ""
            },
            "type": "mesh3d"
           }
          ],
          "parcoords": [
           {
            "line": {
             "colorbar": {
              "outlinewidth": 0,
              "ticks": ""
             }
            },
            "type": "parcoords"
           }
          ],
          "pie": [
           {
            "automargin": true,
            "type": "pie"
           }
          ],
          "scatter": [
           {
            "fillpattern": {
             "fillmode": "overlay",
             "size": 10,
             "solidity": 0.2
            },
            "type": "scatter"
           }
          ],
          "scatter3d": [
           {
            "line": {
             "colorbar": {
              "outlinewidth": 0,
              "ticks": ""
             }
            },
            "marker": {
             "colorbar": {
              "outlinewidth": 0,
              "ticks": ""
             }
            },
            "type": "scatter3d"
           }
          ],
          "scattercarpet": [
           {
            "marker": {
             "colorbar": {
              "outlinewidth": 0,
              "ticks": ""
             }
            },
            "type": "scattercarpet"
           }
          ],
          "scattergeo": [
           {
            "marker": {
             "colorbar": {
              "outlinewidth": 0,
              "ticks": ""
             }
            },
            "type": "scattergeo"
           }
          ],
          "scattergl": [
           {
            "marker": {
             "colorbar": {
              "outlinewidth": 0,
              "ticks": ""
             }
            },
            "type": "scattergl"
           }
          ],
          "scattermapbox": [
           {
            "marker": {
             "colorbar": {
              "outlinewidth": 0,
              "ticks": ""
             }
            },
            "type": "scattermapbox"
           }
          ],
          "scatterpolar": [
           {
            "marker": {
             "colorbar": {
              "outlinewidth": 0,
              "ticks": ""
             }
            },
            "type": "scatterpolar"
           }
          ],
          "scatterpolargl": [
           {
            "marker": {
             "colorbar": {
              "outlinewidth": 0,
              "ticks": ""
             }
            },
            "type": "scatterpolargl"
           }
          ],
          "scatterternary": [
           {
            "marker": {
             "colorbar": {
              "outlinewidth": 0,
              "ticks": ""
             }
            },
            "type": "scatterternary"
           }
          ],
          "surface": [
           {
            "colorbar": {
             "outlinewidth": 0,
             "ticks": ""
            },
            "colorscale": [
             [
              0,
              "#0d0887"
             ],
             [
              0.1111111111111111,
              "#46039f"
             ],
             [
              0.2222222222222222,
              "#7201a8"
             ],
             [
              0.3333333333333333,
              "#9c179e"
             ],
             [
              0.4444444444444444,
              "#bd3786"
             ],
             [
              0.5555555555555556,
              "#d8576b"
             ],
             [
              0.6666666666666666,
              "#ed7953"
             ],
             [
              0.7777777777777778,
              "#fb9f3a"
             ],
             [
              0.8888888888888888,
              "#fdca26"
             ],
             [
              1,
              "#f0f921"
             ]
            ],
            "type": "surface"
           }
          ],
          "table": [
           {
            "cells": {
             "fill": {
              "color": "#EBF0F8"
             },
             "line": {
              "color": "white"
             }
            },
            "header": {
             "fill": {
              "color": "#C8D4E3"
             },
             "line": {
              "color": "white"
             }
            },
            "type": "table"
           }
          ]
         },
         "layout": {
          "annotationdefaults": {
           "arrowcolor": "#2a3f5f",
           "arrowhead": 0,
           "arrowwidth": 1
          },
          "autotypenumbers": "strict",
          "coloraxis": {
           "colorbar": {
            "outlinewidth": 0,
            "ticks": ""
           }
          },
          "colorscale": {
           "diverging": [
            [
             0,
             "#8e0152"
            ],
            [
             0.1,
             "#c51b7d"
            ],
            [
             0.2,
             "#de77ae"
            ],
            [
             0.3,
             "#f1b6da"
            ],
            [
             0.4,
             "#fde0ef"
            ],
            [
             0.5,
             "#f7f7f7"
            ],
            [
             0.6,
             "#e6f5d0"
            ],
            [
             0.7,
             "#b8e186"
            ],
            [
             0.8,
             "#7fbc41"
            ],
            [
             0.9,
             "#4d9221"
            ],
            [
             1,
             "#276419"
            ]
           ],
           "sequential": [
            [
             0,
             "#0d0887"
            ],
            [
             0.1111111111111111,
             "#46039f"
            ],
            [
             0.2222222222222222,
             "#7201a8"
            ],
            [
             0.3333333333333333,
             "#9c179e"
            ],
            [
             0.4444444444444444,
             "#bd3786"
            ],
            [
             0.5555555555555556,
             "#d8576b"
            ],
            [
             0.6666666666666666,
             "#ed7953"
            ],
            [
             0.7777777777777778,
             "#fb9f3a"
            ],
            [
             0.8888888888888888,
             "#fdca26"
            ],
            [
             1,
             "#f0f921"
            ]
           ],
           "sequentialminus": [
            [
             0,
             "#0d0887"
            ],
            [
             0.1111111111111111,
             "#46039f"
            ],
            [
             0.2222222222222222,
             "#7201a8"
            ],
            [
             0.3333333333333333,
             "#9c179e"
            ],
            [
             0.4444444444444444,
             "#bd3786"
            ],
            [
             0.5555555555555556,
             "#d8576b"
            ],
            [
             0.6666666666666666,
             "#ed7953"
            ],
            [
             0.7777777777777778,
             "#fb9f3a"
            ],
            [
             0.8888888888888888,
             "#fdca26"
            ],
            [
             1,
             "#f0f921"
            ]
           ]
          },
          "colorway": [
           "#636efa",
           "#EF553B",
           "#00cc96",
           "#ab63fa",
           "#FFA15A",
           "#19d3f3",
           "#FF6692",
           "#B6E880",
           "#FF97FF",
           "#FECB52"
          ],
          "font": {
           "color": "#2a3f5f"
          },
          "geo": {
           "bgcolor": "white",
           "lakecolor": "white",
           "landcolor": "#E5ECF6",
           "showlakes": true,
           "showland": true,
           "subunitcolor": "white"
          },
          "hoverlabel": {
           "align": "left"
          },
          "hovermode": "closest",
          "mapbox": {
           "style": "light"
          },
          "paper_bgcolor": "white",
          "plot_bgcolor": "#E5ECF6",
          "polar": {
           "angularaxis": {
            "gridcolor": "white",
            "linecolor": "white",
            "ticks": ""
           },
           "bgcolor": "#E5ECF6",
           "radialaxis": {
            "gridcolor": "white",
            "linecolor": "white",
            "ticks": ""
           }
          },
          "scene": {
           "xaxis": {
            "backgroundcolor": "#E5ECF6",
            "gridcolor": "white",
            "gridwidth": 2,
            "linecolor": "white",
            "showbackground": true,
            "ticks": "",
            "zerolinecolor": "white"
           },
           "yaxis": {
            "backgroundcolor": "#E5ECF6",
            "gridcolor": "white",
            "gridwidth": 2,
            "linecolor": "white",
            "showbackground": true,
            "ticks": "",
            "zerolinecolor": "white"
           },
           "zaxis": {
            "backgroundcolor": "#E5ECF6",
            "gridcolor": "white",
            "gridwidth": 2,
            "linecolor": "white",
            "showbackground": true,
            "ticks": "",
            "zerolinecolor": "white"
           }
          },
          "shapedefaults": {
           "line": {
            "color": "#2a3f5f"
           }
          },
          "ternary": {
           "aaxis": {
            "gridcolor": "white",
            "linecolor": "white",
            "ticks": ""
           },
           "baxis": {
            "gridcolor": "white",
            "linecolor": "white",
            "ticks": ""
           },
           "bgcolor": "#E5ECF6",
           "caxis": {
            "gridcolor": "white",
            "linecolor": "white",
            "ticks": ""
           }
          },
          "title": {
           "x": 0.05
          },
          "xaxis": {
           "automargin": true,
           "gridcolor": "white",
           "linecolor": "white",
           "ticks": "",
           "title": {
            "standoff": 15
           },
           "zerolinecolor": "white",
           "zerolinewidth": 2
          },
          "yaxis": {
           "automargin": true,
           "gridcolor": "white",
           "linecolor": "white",
           "ticks": "",
           "title": {
            "standoff": 15
           },
           "zerolinecolor": "white",
           "zerolinewidth": 2
          }
         }
        },
        "title": {
         "text": "Scans by Anatom Site General Challenge - Train Data"
        }
       }
      },
      "text/html": [
       "<div>                            <div id=\"83366eaa-4b30-47e8-9e28-fa68ae54116b\" class=\"plotly-graph-div\" style=\"height:525px; width:100%;\"></div>            <script type=\"text/javascript\">                require([\"plotly\"], function(Plotly) {                    window.PLOTLYENV=window.PLOTLYENV || {};                                    if (document.getElementById(\"83366eaa-4b30-47e8-9e28-fa68ae54116b\")) {                    Plotly.newPlot(                        \"83366eaa-4b30-47e8-9e28-fa68ae54116b\",                        [{\"branchvalues\":\"total\",\"customdata\":[[916],[6],[1986],[369],[55],[682],[285],[40],[82],[1671],[9399],[151],[108],[335],[116],[15083],[1290],[18041],[5509]],\"domain\":{\"x\":[0.0,1.0],\"y\":[0.0,1.0]},\"hovertemplate\":\"labels=%{label}<br>count_sum=%{value}<br>parent=%{parent}<br>id=%{id}<br>count=%{color}<extra></extra>\",\"ids\":[\"abdomen\",\"acral\",\"back\",\"chest\",\"ear\",\"face\",\"foot\",\"genital\",\"hand\",\"head/neck\",\"lower extremity\",\"neck\",\"oral/genital\",\"palms/soles\",\"scalp\",\"torso\",\"trunk\",\"unknown\",\"upper extremity\"],\"labels\":[\"abdomen\",\"acral\",\"back\",\"chest\",\"ear\",\"face\",\"foot\",\"genital\",\"hand\",\"head/neck\",\"lower extremity\",\"neck\",\"oral/genital\",\"palms/soles\",\"scalp\",\"torso\",\"trunk\",\"unknown\",\"upper extremity\"],\"marker\":{\"coloraxis\":\"coloraxis\",\"colors\":[916,6,1986,369,55,682,285,40,82,1671,9399,151,108,335,116,15083,1290,18041,5509]},\"name\":\"\",\"parents\":[\"\",\"\",\"\",\"\",\"\",\"\",\"\",\"\",\"\",\"\",\"\",\"\",\"\",\"\",\"\",\"\",\"\",\"\",\"\"],\"values\":[916,6,1986,369,55,682,285,40,82,1671,9399,151,108,335,116,15083,1290,18041,5509],\"type\":\"treemap\",\"textinfo\":\"label+percent entry\"}],                        {\"template\":{\"data\":{\"histogram2dcontour\":[{\"type\":\"histogram2dcontour\",\"colorbar\":{\"outlinewidth\":0,\"ticks\":\"\"},\"colorscale\":[[0.0,\"#0d0887\"],[0.1111111111111111,\"#46039f\"],[0.2222222222222222,\"#7201a8\"],[0.3333333333333333,\"#9c179e\"],[0.4444444444444444,\"#bd3786\"],[0.5555555555555556,\"#d8576b\"],[0.6666666666666666,\"#ed7953\"],[0.7777777777777778,\"#fb9f3a\"],[0.8888888888888888,\"#fdca26\"],[1.0,\"#f0f921\"]]}],\"choropleth\":[{\"type\":\"choropleth\",\"colorbar\":{\"outlinewidth\":0,\"ticks\":\"\"}}],\"histogram2d\":[{\"type\":\"histogram2d\",\"colorbar\":{\"outlinewidth\":0,\"ticks\":\"\"},\"colorscale\":[[0.0,\"#0d0887\"],[0.1111111111111111,\"#46039f\"],[0.2222222222222222,\"#7201a8\"],[0.3333333333333333,\"#9c179e\"],[0.4444444444444444,\"#bd3786\"],[0.5555555555555556,\"#d8576b\"],[0.6666666666666666,\"#ed7953\"],[0.7777777777777778,\"#fb9f3a\"],[0.8888888888888888,\"#fdca26\"],[1.0,\"#f0f921\"]]}],\"heatmap\":[{\"type\":\"heatmap\",\"colorbar\":{\"outlinewidth\":0,\"ticks\":\"\"},\"colorscale\":[[0.0,\"#0d0887\"],[0.1111111111111111,\"#46039f\"],[0.2222222222222222,\"#7201a8\"],[0.3333333333333333,\"#9c179e\"],[0.4444444444444444,\"#bd3786\"],[0.5555555555555556,\"#d8576b\"],[0.6666666666666666,\"#ed7953\"],[0.7777777777777778,\"#fb9f3a\"],[0.8888888888888888,\"#fdca26\"],[1.0,\"#f0f921\"]]}],\"heatmapgl\":[{\"type\":\"heatmapgl\",\"colorbar\":{\"outlinewidth\":0,\"ticks\":\"\"},\"colorscale\":[[0.0,\"#0d0887\"],[0.1111111111111111,\"#46039f\"],[0.2222222222222222,\"#7201a8\"],[0.3333333333333333,\"#9c179e\"],[0.4444444444444444,\"#bd3786\"],[0.5555555555555556,\"#d8576b\"],[0.6666666666666666,\"#ed7953\"],[0.7777777777777778,\"#fb9f3a\"],[0.8888888888888888,\"#fdca26\"],[1.0,\"#f0f921\"]]}],\"contourcarpet\":[{\"type\":\"contourcarpet\",\"colorbar\":{\"outlinewidth\":0,\"ticks\":\"\"}}],\"contour\":[{\"type\":\"contour\",\"colorbar\":{\"outlinewidth\":0,\"ticks\":\"\"},\"colorscale\":[[0.0,\"#0d0887\"],[0.1111111111111111,\"#46039f\"],[0.2222222222222222,\"#7201a8\"],[0.3333333333333333,\"#9c179e\"],[0.4444444444444444,\"#bd3786\"],[0.5555555555555556,\"#d8576b\"],[0.6666666666666666,\"#ed7953\"],[0.7777777777777778,\"#fb9f3a\"],[0.8888888888888888,\"#fdca26\"],[1.0,\"#f0f921\"]]}],\"surface\":[{\"type\":\"surface\",\"colorbar\":{\"outlinewidth\":0,\"ticks\":\"\"},\"colorscale\":[[0.0,\"#0d0887\"],[0.1111111111111111,\"#46039f\"],[0.2222222222222222,\"#7201a8\"],[0.3333333333333333,\"#9c179e\"],[0.4444444444444444,\"#bd3786\"],[0.5555555555555556,\"#d8576b\"],[0.6666666666666666,\"#ed7953\"],[0.7777777777777778,\"#fb9f3a\"],[0.8888888888888888,\"#fdca26\"],[1.0,\"#f0f921\"]]}],\"mesh3d\":[{\"type\":\"mesh3d\",\"colorbar\":{\"outlinewidth\":0,\"ticks\":\"\"}}],\"scatter\":[{\"fillpattern\":{\"fillmode\":\"overlay\",\"size\":10,\"solidity\":0.2},\"type\":\"scatter\"}],\"parcoords\":[{\"type\":\"parcoords\",\"line\":{\"colorbar\":{\"outlinewidth\":0,\"ticks\":\"\"}}}],\"scatterpolargl\":[{\"type\":\"scatterpolargl\",\"marker\":{\"colorbar\":{\"outlinewidth\":0,\"ticks\":\"\"}}}],\"bar\":[{\"error_x\":{\"color\":\"#2a3f5f\"},\"error_y\":{\"color\":\"#2a3f5f\"},\"marker\":{\"line\":{\"color\":\"#E5ECF6\",\"width\":0.5},\"pattern\":{\"fillmode\":\"overlay\",\"size\":10,\"solidity\":0.2}},\"type\":\"bar\"}],\"scattergeo\":[{\"type\":\"scattergeo\",\"marker\":{\"colorbar\":{\"outlinewidth\":0,\"ticks\":\"\"}}}],\"scatterpolar\":[{\"type\":\"scatterpolar\",\"marker\":{\"colorbar\":{\"outlinewidth\":0,\"ticks\":\"\"}}}],\"histogram\":[{\"marker\":{\"pattern\":{\"fillmode\":\"overlay\",\"size\":10,\"solidity\":0.2}},\"type\":\"histogram\"}],\"scattergl\":[{\"type\":\"scattergl\",\"marker\":{\"colorbar\":{\"outlinewidth\":0,\"ticks\":\"\"}}}],\"scatter3d\":[{\"type\":\"scatter3d\",\"line\":{\"colorbar\":{\"outlinewidth\":0,\"ticks\":\"\"}},\"marker\":{\"colorbar\":{\"outlinewidth\":0,\"ticks\":\"\"}}}],\"scattermapbox\":[{\"type\":\"scattermapbox\",\"marker\":{\"colorbar\":{\"outlinewidth\":0,\"ticks\":\"\"}}}],\"scatterternary\":[{\"type\":\"scatterternary\",\"marker\":{\"colorbar\":{\"outlinewidth\":0,\"ticks\":\"\"}}}],\"scattercarpet\":[{\"type\":\"scattercarpet\",\"marker\":{\"colorbar\":{\"outlinewidth\":0,\"ticks\":\"\"}}}],\"carpet\":[{\"aaxis\":{\"endlinecolor\":\"#2a3f5f\",\"gridcolor\":\"white\",\"linecolor\":\"white\",\"minorgridcolor\":\"white\",\"startlinecolor\":\"#2a3f5f\"},\"baxis\":{\"endlinecolor\":\"#2a3f5f\",\"gridcolor\":\"white\",\"linecolor\":\"white\",\"minorgridcolor\":\"white\",\"startlinecolor\":\"#2a3f5f\"},\"type\":\"carpet\"}],\"table\":[{\"cells\":{\"fill\":{\"color\":\"#EBF0F8\"},\"line\":{\"color\":\"white\"}},\"header\":{\"fill\":{\"color\":\"#C8D4E3\"},\"line\":{\"color\":\"white\"}},\"type\":\"table\"}],\"barpolar\":[{\"marker\":{\"line\":{\"color\":\"#E5ECF6\",\"width\":0.5},\"pattern\":{\"fillmode\":\"overlay\",\"size\":10,\"solidity\":0.2}},\"type\":\"barpolar\"}],\"pie\":[{\"automargin\":true,\"type\":\"pie\"}]},\"layout\":{\"autotypenumbers\":\"strict\",\"colorway\":[\"#636efa\",\"#EF553B\",\"#00cc96\",\"#ab63fa\",\"#FFA15A\",\"#19d3f3\",\"#FF6692\",\"#B6E880\",\"#FF97FF\",\"#FECB52\"],\"font\":{\"color\":\"#2a3f5f\"},\"hovermode\":\"closest\",\"hoverlabel\":{\"align\":\"left\"},\"paper_bgcolor\":\"white\",\"plot_bgcolor\":\"#E5ECF6\",\"polar\":{\"bgcolor\":\"#E5ECF6\",\"angularaxis\":{\"gridcolor\":\"white\",\"linecolor\":\"white\",\"ticks\":\"\"},\"radialaxis\":{\"gridcolor\":\"white\",\"linecolor\":\"white\",\"ticks\":\"\"}},\"ternary\":{\"bgcolor\":\"#E5ECF6\",\"aaxis\":{\"gridcolor\":\"white\",\"linecolor\":\"white\",\"ticks\":\"\"},\"baxis\":{\"gridcolor\":\"white\",\"linecolor\":\"white\",\"ticks\":\"\"},\"caxis\":{\"gridcolor\":\"white\",\"linecolor\":\"white\",\"ticks\":\"\"}},\"coloraxis\":{\"colorbar\":{\"outlinewidth\":0,\"ticks\":\"\"}},\"colorscale\":{\"sequential\":[[0.0,\"#0d0887\"],[0.1111111111111111,\"#46039f\"],[0.2222222222222222,\"#7201a8\"],[0.3333333333333333,\"#9c179e\"],[0.4444444444444444,\"#bd3786\"],[0.5555555555555556,\"#d8576b\"],[0.6666666666666666,\"#ed7953\"],[0.7777777777777778,\"#fb9f3a\"],[0.8888888888888888,\"#fdca26\"],[1.0,\"#f0f921\"]],\"sequentialminus\":[[0.0,\"#0d0887\"],[0.1111111111111111,\"#46039f\"],[0.2222222222222222,\"#7201a8\"],[0.3333333333333333,\"#9c179e\"],[0.4444444444444444,\"#bd3786\"],[0.5555555555555556,\"#d8576b\"],[0.6666666666666666,\"#ed7953\"],[0.7777777777777778,\"#fb9f3a\"],[0.8888888888888888,\"#fdca26\"],[1.0,\"#f0f921\"]],\"diverging\":[[0,\"#8e0152\"],[0.1,\"#c51b7d\"],[0.2,\"#de77ae\"],[0.3,\"#f1b6da\"],[0.4,\"#fde0ef\"],[0.5,\"#f7f7f7\"],[0.6,\"#e6f5d0\"],[0.7,\"#b8e186\"],[0.8,\"#7fbc41\"],[0.9,\"#4d9221\"],[1,\"#276419\"]]},\"xaxis\":{\"gridcolor\":\"white\",\"linecolor\":\"white\",\"ticks\":\"\",\"title\":{\"standoff\":15},\"zerolinecolor\":\"white\",\"automargin\":true,\"zerolinewidth\":2},\"yaxis\":{\"gridcolor\":\"white\",\"linecolor\":\"white\",\"ticks\":\"\",\"title\":{\"standoff\":15},\"zerolinecolor\":\"white\",\"automargin\":true,\"zerolinewidth\":2},\"scene\":{\"xaxis\":{\"backgroundcolor\":\"#E5ECF6\",\"gridcolor\":\"white\",\"linecolor\":\"white\",\"showbackground\":true,\"ticks\":\"\",\"zerolinecolor\":\"white\",\"gridwidth\":2},\"yaxis\":{\"backgroundcolor\":\"#E5ECF6\",\"gridcolor\":\"white\",\"linecolor\":\"white\",\"showbackground\":true,\"ticks\":\"\",\"zerolinecolor\":\"white\",\"gridwidth\":2},\"zaxis\":{\"backgroundcolor\":\"#E5ECF6\",\"gridcolor\":\"white\",\"linecolor\":\"white\",\"showbackground\":true,\"ticks\":\"\",\"zerolinecolor\":\"white\",\"gridwidth\":2}},\"shapedefaults\":{\"line\":{\"color\":\"#2a3f5f\"}},\"annotationdefaults\":{\"arrowcolor\":\"#2a3f5f\",\"arrowhead\":0,\"arrowwidth\":1},\"geo\":{\"bgcolor\":\"white\",\"landcolor\":\"#E5ECF6\",\"subunitcolor\":\"white\",\"showland\":true,\"showlakes\":true,\"lakecolor\":\"white\"},\"title\":{\"x\":0.05},\"mapbox\":{\"style\":\"light\"}}},\"coloraxis\":{\"colorbar\":{\"title\":{\"text\":\"count\"}},\"colorscale\":[[0.0,\"#fdc029\"],[0.16666666666666666,\"#df861d\"],[0.3333333333333333,\"#FF6347\"],[0.5,\"#aa3d01\"],[0.6666666666666666,\"#a30e15\"],[0.8333333333333334,\"#800000\"],[1.0,\"#171820\"]]},\"legend\":{\"tracegroupgap\":0},\"title\":{\"text\":\"Scans by Anatom Site General Challenge - Train Data\"}},                        {\"responsive\": true}                    ).then(function(){\n",
       "                            \n",
       "var gd = document.getElementById('83366eaa-4b30-47e8-9e28-fa68ae54116b');\n",
       "var x = new MutationObserver(function (mutations, observer) {{\n",
       "        var display = window.getComputedStyle(gd).display;\n",
       "        if (!display || display === 'none') {{\n",
       "            console.log([gd, 'removed!']);\n",
       "            Plotly.purge(gd);\n",
       "            observer.disconnect();\n",
       "        }}\n",
       "}});\n",
       "\n",
       "// Listen for the removal of the full notebook cells\n",
       "var notebookContainer = gd.closest('#notebook-container');\n",
       "if (notebookContainer) {{\n",
       "    x.observe(notebookContainer, {childList: true});\n",
       "}}\n",
       "\n",
       "// Listen for the clearing of the current output cell\n",
       "var outputEl = gd.closest('.output');\n",
       "if (outputEl) {{\n",
       "    x.observe(outputEl, {childList: true});\n",
       "}}\n",
       "\n",
       "                        })                };                });            </script>        </div>"
      ]
     },
     "metadata": {},
     "output_type": "display_data"
    }
   ],
   "source": [
    "# Train data:\n",
    "\n",
    "cntstr = train.localization.value_counts().rename_axis('localization').reset_index(\n",
    "    name='count')\n",
    "\n",
    "fig = px.treemap(cntstr,\n",
    "                 path=['localization'],\n",
    "                 values='count',\n",
    "                 color='count',\n",
    "                 color_continuous_scale=orange_black,\n",
    "                 title='Scans by Anatom Site General Challenge - Train Data')\n",
    "\n",
    "fig.update_traces(textinfo='label+percent entry')\n",
    "fig.show()"
   ]
  },
  {
   "cell_type": "code",
   "execution_count": 114,
   "id": "c385c439",
   "metadata": {},
   "outputs": [
    {
     "data": {
      "application/vnd.plotly.v1+json": {
       "config": {
        "plotlyServerURL": "https://plot.ly"
       },
       "data": [
        {
         "branchvalues": "total",
         "customdata": [
          [
           "(?)"
          ],
          [
           "male"
          ],
          [
           "male"
          ],
          [
           "female"
          ],
          [
           "male"
          ],
          [
           "male"
          ],
          [
           "male"
          ],
          [
           "male"
          ],
          [
           "male"
          ],
          [
           "male"
          ],
          [
           "male"
          ],
          [
           "male"
          ],
          [
           "male"
          ],
          [
           "female"
          ],
          [
           "male"
          ],
          [
           "male"
          ],
          [
           "female"
          ],
          [
           "unknown"
          ],
          [
           "female"
          ],
          [
           "unknown"
          ],
          [
           "female"
          ],
          [
           "male"
          ],
          [
           "unknown"
          ],
          [
           "male"
          ],
          [
           "male"
          ],
          [
           "female"
          ],
          [
           "unknown"
          ],
          [
           "(?)"
          ],
          [
           "female"
          ],
          [
           "male"
          ],
          [
           "unknown"
          ],
          [
           "male"
          ],
          [
           "male"
          ],
          [
           "unknown"
          ],
          [
           "female"
          ],
          [
           "male"
          ],
          [
           "unknown"
          ],
          [
           "female"
          ],
          [
           "male"
          ],
          [
           "male"
          ],
          [
           "male"
          ],
          [
           "unknown"
          ],
          [
           "unknown"
          ],
          [
           "female"
          ],
          [
           "female"
          ],
          [
           "female"
          ],
          [
           "female"
          ],
          [
           "male"
          ],
          [
           "female"
          ],
          [
           "female"
          ],
          [
           "female"
          ],
          [
           "male"
          ],
          [
           "male"
          ],
          [
           "unknown"
          ],
          [
           "female"
          ],
          [
           "unknown"
          ],
          [
           "female"
          ],
          [
           "male"
          ],
          [
           "unknown"
          ],
          [
           "female"
          ],
          [
           "female"
          ],
          [
           "female"
          ],
          [
           "unknown"
          ],
          [
           "unknown"
          ],
          [
           "female"
          ],
          [
           "female"
          ],
          [
           "female"
          ],
          [
           "unknown"
          ],
          [
           "unknown"
          ],
          [
           "unknown"
          ],
          [
           "male"
          ],
          [
           "male"
          ],
          [
           "unknown"
          ],
          [
           "unknown"
          ],
          [
           "(?)"
          ],
          [
           "female"
          ],
          [
           "male"
          ],
          [
           "female"
          ],
          [
           "male"
          ],
          [
           "unknown"
          ],
          [
           "unknown"
          ],
          [
           "male"
          ],
          [
           "female"
          ],
          [
           "male"
          ],
          [
           "female"
          ],
          [
           "unknown"
          ],
          [
           "female"
          ],
          [
           "male"
          ],
          [
           "male"
          ],
          [
           "male"
          ],
          [
           "male"
          ],
          [
           "male"
          ],
          [
           "female"
          ],
          [
           "female"
          ],
          [
           "male"
          ],
          [
           "female"
          ],
          [
           "female"
          ],
          [
           "male"
          ],
          [
           "female"
          ],
          [
           "male"
          ],
          [
           "female"
          ],
          [
           "female"
          ],
          [
           "male"
          ],
          [
           "female"
          ],
          [
           "female"
          ],
          [
           "female"
          ],
          [
           "male"
          ],
          [
           "female"
          ],
          [
           "male"
          ],
          [
           "male"
          ],
          [
           "female"
          ],
          [
           "unknown"
          ],
          [
           "female"
          ],
          [
           "female"
          ]
         ],
         "domain": {
          "x": [
           0,
           1
          ],
          "y": [
           0,
           1
          ]
         },
         "hovertemplate": "labels=%{label}<br>count=%{value}<br>parent=%{parent}<br>id=%{id}<br>sex=%{customdata[0]}<extra></extra>",
         "ids": [
          "Unclassified",
          "Benign Marking or Mole/male/hand",
          "Unclassified/male",
          "Benign Marking or Mole/female/head/neck",
          "Potentially Malignant Skin Tumors/male/head/neck",
          "Unclassified/male/head/neck",
          "Benign Marking or Mole/male/lower extremity",
          "Unclassified/male/lower extremity",
          "Potentially Malignant Skin Tumors/male/upper extremity",
          "Benign Marking or Mole/male/oral/genital",
          "Potentially Malignant Skin Tumors/male/oral/genital",
          "Potentially Malignant Skin Tumors/male/palms/soles",
          "Unclassified/male/palms/soles",
          "Potentially Malignant Skin Tumors/female/scalp",
          "Benign Marking or Mole/male/scalp",
          "Potentially Malignant Skin Tumors/male/scalp",
          "Benign Marking or Mole/female/torso",
          "Unclassified/unknown/unknown",
          "Unclassified/female/torso",
          "Potentially Malignant Skin Tumors/unknown/unknown",
          "Benign Marking or Mole/female/trunk",
          "Benign Marking or Mole/male/trunk",
          "Non-Cancerous Skin Condition/unknown",
          "Potentially Malignant Skin Tumors/male/foot",
          "Potentially Malignant Skin Tumors/male/unknown",
          "Benign Marking or Mole/female/face",
          "Potentially Malignant Skin Tumors/unknown",
          "Potentially Malignant Skin Tumors",
          "Benign Marking or Mole/female/ear",
          "Benign Marking or Mole/male/ear",
          "Benign Marking or Mole/unknown/back",
          "Potentially Malignant Skin Tumors/male/ear",
          "Potentially Malignant Skin Tumors/male/back",
          "Unclassified/unknown",
          "Benign Marking or Mole/female/back",
          "Potentially Malignant Skin Tumors/male/abdomen",
          "Non-Cancerous Skin Condition",
          "Benign Marking or Mole/female/foot",
          "Benign Marking or Mole/male/back",
          "Unclassified/male/torso",
          "Unclassified/male/oral/genital",
          "Toxin, Fungal, Bug, Viral, or Bacterial Infections",
          "Non-Cancerous Skin Condition/unknown/unknown",
          "Potentially Malignant Skin Tumors/female/upper extremity",
          "Benign Marking or Mole/female/upper extremity",
          "Benign Marking or Mole/female/chest",
          "Benign Marking or Mole/female/acral",
          "Potentially Malignant Skin Tumors/male/trunk",
          "Benign Marking or Mole/female/scalp",
          "Potentially Malignant Skin Tumors/female/back",
          "Potentially Malignant Skin Tumors/female/foot",
          "Unclassified/male/upper extremity",
          "Benign Marking or Mole/male/neck",
          "Benign Marking or Mole/unknown/foot",
          "Benign Marking or Mole/female/genital",
          "Benign Marking or Mole/unknown",
          "Unclassified/female/unknown",
          "Potentially Malignant Skin Tumors/male/face",
          "Toxin, Fungal, Bug, Viral, or Bacterial Infections/unknown",
          "Potentially Malignant Skin Tumors/female/face",
          "Potentially Malignant Skin Tumors/female/head/neck",
          "Potentially Malignant Skin Tumors/female/unknown",
          "Unclassified/unknown/head/neck",
          "Autoimmue Disorder/unknown/unknown",
          "Unclassified/female",
          "Benign Marking or Mole/female/unknown",
          "Benign Marking or Mole/female",
          "Unclassified/unknown/lower extremity",
          "Unclassified/unknown/upper extremity",
          "Unclassified/unknown/torso",
          "Benign Marking or Mole/male/head/neck",
          "Benign Marking or Mole/male/abdomen",
          "Benign Marking or Mole/unknown/unknown",
          "Autoimmue Disorder",
          "Benign Marking or Mole",
          "Unclassified/female/upper extremity",
          "Benign Marking or Mole/male/upper extremity",
          "Potentially Malignant Skin Tumors/female",
          "Potentially Malignant Skin Tumors/male",
          "Autoimmue Disorder/unknown",
          "Toxin, Fungal, Bug, Viral, or Bacterial Infections/unknown/unknown",
          "Benign Marking or Mole/male",
          "Benign Marking or Mole/female/abdomen",
          "Benign Marking or Mole/male/unknown",
          "Potentially Malignant Skin Tumors/female/abdomen",
          "Benign Marking or Mole/unknown/abdomen",
          "Potentially Malignant Skin Tumors/female/chest",
          "Benign Marking or Mole/male/chest",
          "Potentially Malignant Skin Tumors/male/chest",
          "Benign Marking or Mole/male/face",
          "Benign Marking or Mole/male/foot",
          "Benign Marking or Mole/male/genital",
          "Benign Marking or Mole/female/hand",
          "Potentially Malignant Skin Tumors/female/hand",
          "Potentially Malignant Skin Tumors/male/hand",
          "Unclassified/female/head/neck",
          "Benign Marking or Mole/female/lower extremity",
          "Unclassified/male/unknown",
          "Potentially Malignant Skin Tumors/female/lower extremity",
          "Potentially Malignant Skin Tumors/male/lower extremity",
          "Benign Marking or Mole/female/neck",
          "Potentially Malignant Skin Tumors/female/neck",
          "Potentially Malignant Skin Tumors/male/neck",
          "Potentially Malignant Skin Tumors/female/oral/genital",
          "Unclassified/female/oral/genital",
          "Unclassified/female/palms/soles",
          "Benign Marking or Mole/male/palms/soles",
          "Potentially Malignant Skin Tumors/female/torso",
          "Benign Marking or Mole/male/torso",
          "Potentially Malignant Skin Tumors/male/torso",
          "Potentially Malignant Skin Tumors/female/trunk",
          "Benign Marking or Mole/unknown/trunk",
          "Unclassified/female/lower extremity",
          "Potentially Malignant Skin Tumors/female/palms/soles"
         ],
         "labels": [
          "Unclassified",
          "hand",
          "male",
          "head/neck",
          "head/neck",
          "head/neck",
          "lower extremity",
          "lower extremity",
          "upper extremity",
          "oral/genital",
          "oral/genital",
          "palms/soles",
          "palms/soles",
          "scalp",
          "scalp",
          "scalp",
          "torso",
          "unknown",
          "torso",
          "unknown",
          "trunk",
          "trunk",
          "unknown",
          "foot",
          "unknown",
          "face",
          "unknown",
          "Potentially Malignant Skin Tumors",
          "ear",
          "ear",
          "back",
          "ear",
          "back",
          "unknown",
          "back",
          "abdomen",
          "Non-Cancerous Skin Condition",
          "foot",
          "back",
          "torso",
          "oral/genital",
          "Toxin, Fungal, Bug, Viral, or Bacterial Infections",
          "unknown",
          "upper extremity",
          "upper extremity",
          "chest",
          "acral",
          "trunk",
          "scalp",
          "back",
          "foot",
          "upper extremity",
          "neck",
          "foot",
          "genital",
          "unknown",
          "unknown",
          "face",
          "unknown",
          "face",
          "head/neck",
          "unknown",
          "head/neck",
          "unknown",
          "female",
          "unknown",
          "female",
          "lower extremity",
          "upper extremity",
          "torso",
          "head/neck",
          "abdomen",
          "unknown",
          "Autoimmue Disorder",
          "Benign Marking or Mole",
          "upper extremity",
          "upper extremity",
          "female",
          "male",
          "unknown",
          "unknown",
          "male",
          "abdomen",
          "unknown",
          "abdomen",
          "abdomen",
          "chest",
          "chest",
          "chest",
          "face",
          "foot",
          "genital",
          "hand",
          "hand",
          "hand",
          "head/neck",
          "lower extremity",
          "unknown",
          "lower extremity",
          "lower extremity",
          "neck",
          "neck",
          "neck",
          "oral/genital",
          "oral/genital",
          "palms/soles",
          "palms/soles",
          "torso",
          "torso",
          "torso",
          "trunk",
          "trunk",
          "lower extremity",
          "palms/soles"
         ],
         "marker": {
          "colors": [
           "#fdc029",
           "#df861d",
           "#df861d",
           "#FF6347",
           "#df861d",
           "#df861d",
           "#df861d",
           "#df861d",
           "#df861d",
           "#df861d",
           "#df861d",
           "#df861d",
           "#df861d",
           "#FF6347",
           "#df861d",
           "#df861d",
           "#FF6347",
           "#aa3d01",
           "#FF6347",
           "#aa3d01",
           "#FF6347",
           "#df861d",
           "#aa3d01",
           "#df861d",
           "#df861d",
           "#FF6347",
           "#aa3d01",
           "#fdc029",
           "#FF6347",
           "#df861d",
           "#aa3d01",
           "#df861d",
           "#df861d",
           "#aa3d01",
           "#FF6347",
           "#df861d",
           "#aa3d01",
           "#FF6347",
           "#df861d",
           "#df861d",
           "#df861d",
           "#aa3d01",
           "#aa3d01",
           "#FF6347",
           "#FF6347",
           "#FF6347",
           "#FF6347",
           "#df861d",
           "#FF6347",
           "#FF6347",
           "#FF6347",
           "#df861d",
           "#df861d",
           "#aa3d01",
           "#FF6347",
           "#aa3d01",
           "#FF6347",
           "#df861d",
           "#aa3d01",
           "#FF6347",
           "#FF6347",
           "#FF6347",
           "#aa3d01",
           "#aa3d01",
           "#FF6347",
           "#FF6347",
           "#FF6347",
           "#aa3d01",
           "#aa3d01",
           "#aa3d01",
           "#df861d",
           "#df861d",
           "#aa3d01",
           "#aa3d01",
           "#fdc029",
           "#FF6347",
           "#df861d",
           "#FF6347",
           "#df861d",
           "#aa3d01",
           "#aa3d01",
           "#df861d",
           "#FF6347",
           "#df861d",
           "#FF6347",
           "#aa3d01",
           "#FF6347",
           "#df861d",
           "#df861d",
           "#df861d",
           "#df861d",
           "#df861d",
           "#FF6347",
           "#FF6347",
           "#df861d",
           "#FF6347",
           "#FF6347",
           "#df861d",
           "#FF6347",
           "#df861d",
           "#FF6347",
           "#FF6347",
           "#df861d",
           "#FF6347",
           "#FF6347",
           "#FF6347",
           "#df861d",
           "#FF6347",
           "#df861d",
           "#df861d",
           "#FF6347",
           "#aa3d01",
           "#FF6347",
           "#FF6347"
          ]
         },
         "maxdepth": -1,
         "name": "",
         "parents": [
          "",
          "Benign Marking or Mole/male",
          "Unclassified",
          "Benign Marking or Mole/female",
          "Potentially Malignant Skin Tumors/male",
          "Unclassified/male",
          "Benign Marking or Mole/male",
          "Unclassified/male",
          "Potentially Malignant Skin Tumors/male",
          "Benign Marking or Mole/male",
          "Potentially Malignant Skin Tumors/male",
          "Potentially Malignant Skin Tumors/male",
          "Unclassified/male",
          "Potentially Malignant Skin Tumors/female",
          "Benign Marking or Mole/male",
          "Potentially Malignant Skin Tumors/male",
          "Benign Marking or Mole/female",
          "Unclassified/unknown",
          "Unclassified/female",
          "Potentially Malignant Skin Tumors/unknown",
          "Benign Marking or Mole/female",
          "Benign Marking or Mole/male",
          "Non-Cancerous Skin Condition",
          "Potentially Malignant Skin Tumors/male",
          "Potentially Malignant Skin Tumors/male",
          "Benign Marking or Mole/female",
          "Potentially Malignant Skin Tumors",
          "",
          "Benign Marking or Mole/female",
          "Benign Marking or Mole/male",
          "Benign Marking or Mole/unknown",
          "Potentially Malignant Skin Tumors/male",
          "Potentially Malignant Skin Tumors/male",
          "Unclassified",
          "Benign Marking or Mole/female",
          "Potentially Malignant Skin Tumors/male",
          "",
          "Benign Marking or Mole/female",
          "Benign Marking or Mole/male",
          "Unclassified/male",
          "Unclassified/male",
          "",
          "Non-Cancerous Skin Condition/unknown",
          "Potentially Malignant Skin Tumors/female",
          "Benign Marking or Mole/female",
          "Benign Marking or Mole/female",
          "Benign Marking or Mole/female",
          "Potentially Malignant Skin Tumors/male",
          "Benign Marking or Mole/female",
          "Potentially Malignant Skin Tumors/female",
          "Potentially Malignant Skin Tumors/female",
          "Unclassified/male",
          "Benign Marking or Mole/male",
          "Benign Marking or Mole/unknown",
          "Benign Marking or Mole/female",
          "Benign Marking or Mole",
          "Unclassified/female",
          "Potentially Malignant Skin Tumors/male",
          "Toxin, Fungal, Bug, Viral, or Bacterial Infections",
          "Potentially Malignant Skin Tumors/female",
          "Potentially Malignant Skin Tumors/female",
          "Potentially Malignant Skin Tumors/female",
          "Unclassified/unknown",
          "Autoimmue Disorder/unknown",
          "Unclassified",
          "Benign Marking or Mole/female",
          "Benign Marking or Mole",
          "Unclassified/unknown",
          "Unclassified/unknown",
          "Unclassified/unknown",
          "Benign Marking or Mole/male",
          "Benign Marking or Mole/male",
          "Benign Marking or Mole/unknown",
          "",
          "",
          "Unclassified/female",
          "Benign Marking or Mole/male",
          "Potentially Malignant Skin Tumors",
          "Potentially Malignant Skin Tumors",
          "Autoimmue Disorder",
          "Toxin, Fungal, Bug, Viral, or Bacterial Infections/unknown",
          "Benign Marking or Mole",
          "Benign Marking or Mole/female",
          "Benign Marking or Mole/male",
          "Potentially Malignant Skin Tumors/female",
          "Benign Marking or Mole/unknown",
          "Potentially Malignant Skin Tumors/female",
          "Benign Marking or Mole/male",
          "Potentially Malignant Skin Tumors/male",
          "Benign Marking or Mole/male",
          "Benign Marking or Mole/male",
          "Benign Marking or Mole/male",
          "Benign Marking or Mole/female",
          "Potentially Malignant Skin Tumors/female",
          "Potentially Malignant Skin Tumors/male",
          "Unclassified/female",
          "Benign Marking or Mole/female",
          "Unclassified/male",
          "Potentially Malignant Skin Tumors/female",
          "Potentially Malignant Skin Tumors/male",
          "Benign Marking or Mole/female",
          "Potentially Malignant Skin Tumors/female",
          "Potentially Malignant Skin Tumors/male",
          "Potentially Malignant Skin Tumors/female",
          "Unclassified/female",
          "Unclassified/female",
          "Benign Marking or Mole/male",
          "Potentially Malignant Skin Tumors/female",
          "Benign Marking or Mole/male",
          "Potentially Malignant Skin Tumors/male",
          "Potentially Malignant Skin Tumors/female",
          "Benign Marking or Mole/unknown",
          "Unclassified/female",
          "Potentially Malignant Skin Tumors/female"
         ],
         "textinfo": "label+percent parent",
         "type": "sunburst",
         "values": [
          25555,
          23,
          12261,
          68,
          50,
          770,
          1414,
          2821,
          117,
          1,
          1,
          4,
          194,
          7,
          63,
          25,
          1135,
          1250,
          5587,
          1970,
          589,
          689,
          4184,
          1,
          8,
          238,
          1970,
          3265,
          30,
          22,
          2,
          3,
          130,
          1308,
          684,
          11,
          4184,
          151,
          1102,
          6490,
          65,
          5833,
          4184,
          82,
          671,
          115,
          6,
          8,
          21,
          68,
          2,
          1690,
          75,
          2,
          27,
          3022,
          178,
          114,
          5833,
          83,
          17,
          5,
          6,
          1154,
          11986,
          110,
          5991,
          16,
          20,
          16,
          98,
          516,
          3015,
          1154,
          16133,
          2130,
          799,
          473,
          822,
          1154,
          5833,
          7120,
          381,
          103,
          7,
          1,
          11,
          204,
          39,
          247,
          129,
          13,
          46,
          4,
          9,
          662,
          1666,
          231,
          93,
          132,
          53,
          10,
          13,
          3,
          38,
          134,
          2,
          78,
          1620,
          157,
          2,
          2,
          3257,
          1
         ]
        }
       ],
       "layout": {
        "legend": {
         "tracegroupgap": 0
        },
        "margin": {
         "b": 0,
         "l": 0,
         "r": 0,
         "t": 0
        },
        "sunburstcolorway": [
         "#fdc029",
         "#df861d",
         "#FF6347",
         "#aa3d01",
         "#a30e15",
         "#800000",
         "#171820"
        ],
        "template": {
         "data": {
          "bar": [
           {
            "error_x": {
             "color": "#2a3f5f"
            },
            "error_y": {
             "color": "#2a3f5f"
            },
            "marker": {
             "line": {
              "color": "#E5ECF6",
              "width": 0.5
             },
             "pattern": {
              "fillmode": "overlay",
              "size": 10,
              "solidity": 0.2
             }
            },
            "type": "bar"
           }
          ],
          "barpolar": [
           {
            "marker": {
             "line": {
              "color": "#E5ECF6",
              "width": 0.5
             },
             "pattern": {
              "fillmode": "overlay",
              "size": 10,
              "solidity": 0.2
             }
            },
            "type": "barpolar"
           }
          ],
          "carpet": [
           {
            "aaxis": {
             "endlinecolor": "#2a3f5f",
             "gridcolor": "white",
             "linecolor": "white",
             "minorgridcolor": "white",
             "startlinecolor": "#2a3f5f"
            },
            "baxis": {
             "endlinecolor": "#2a3f5f",
             "gridcolor": "white",
             "linecolor": "white",
             "minorgridcolor": "white",
             "startlinecolor": "#2a3f5f"
            },
            "type": "carpet"
           }
          ],
          "choropleth": [
           {
            "colorbar": {
             "outlinewidth": 0,
             "ticks": ""
            },
            "type": "choropleth"
           }
          ],
          "contour": [
           {
            "colorbar": {
             "outlinewidth": 0,
             "ticks": ""
            },
            "colorscale": [
             [
              0,
              "#0d0887"
             ],
             [
              0.1111111111111111,
              "#46039f"
             ],
             [
              0.2222222222222222,
              "#7201a8"
             ],
             [
              0.3333333333333333,
              "#9c179e"
             ],
             [
              0.4444444444444444,
              "#bd3786"
             ],
             [
              0.5555555555555556,
              "#d8576b"
             ],
             [
              0.6666666666666666,
              "#ed7953"
             ],
             [
              0.7777777777777778,
              "#fb9f3a"
             ],
             [
              0.8888888888888888,
              "#fdca26"
             ],
             [
              1,
              "#f0f921"
             ]
            ],
            "type": "contour"
           }
          ],
          "contourcarpet": [
           {
            "colorbar": {
             "outlinewidth": 0,
             "ticks": ""
            },
            "type": "contourcarpet"
           }
          ],
          "heatmap": [
           {
            "colorbar": {
             "outlinewidth": 0,
             "ticks": ""
            },
            "colorscale": [
             [
              0,
              "#0d0887"
             ],
             [
              0.1111111111111111,
              "#46039f"
             ],
             [
              0.2222222222222222,
              "#7201a8"
             ],
             [
              0.3333333333333333,
              "#9c179e"
             ],
             [
              0.4444444444444444,
              "#bd3786"
             ],
             [
              0.5555555555555556,
              "#d8576b"
             ],
             [
              0.6666666666666666,
              "#ed7953"
             ],
             [
              0.7777777777777778,
              "#fb9f3a"
             ],
             [
              0.8888888888888888,
              "#fdca26"
             ],
             [
              1,
              "#f0f921"
             ]
            ],
            "type": "heatmap"
           }
          ],
          "heatmapgl": [
           {
            "colorbar": {
             "outlinewidth": 0,
             "ticks": ""
            },
            "colorscale": [
             [
              0,
              "#0d0887"
             ],
             [
              0.1111111111111111,
              "#46039f"
             ],
             [
              0.2222222222222222,
              "#7201a8"
             ],
             [
              0.3333333333333333,
              "#9c179e"
             ],
             [
              0.4444444444444444,
              "#bd3786"
             ],
             [
              0.5555555555555556,
              "#d8576b"
             ],
             [
              0.6666666666666666,
              "#ed7953"
             ],
             [
              0.7777777777777778,
              "#fb9f3a"
             ],
             [
              0.8888888888888888,
              "#fdca26"
             ],
             [
              1,
              "#f0f921"
             ]
            ],
            "type": "heatmapgl"
           }
          ],
          "histogram": [
           {
            "marker": {
             "pattern": {
              "fillmode": "overlay",
              "size": 10,
              "solidity": 0.2
             }
            },
            "type": "histogram"
           }
          ],
          "histogram2d": [
           {
            "colorbar": {
             "outlinewidth": 0,
             "ticks": ""
            },
            "colorscale": [
             [
              0,
              "#0d0887"
             ],
             [
              0.1111111111111111,
              "#46039f"
             ],
             [
              0.2222222222222222,
              "#7201a8"
             ],
             [
              0.3333333333333333,
              "#9c179e"
             ],
             [
              0.4444444444444444,
              "#bd3786"
             ],
             [
              0.5555555555555556,
              "#d8576b"
             ],
             [
              0.6666666666666666,
              "#ed7953"
             ],
             [
              0.7777777777777778,
              "#fb9f3a"
             ],
             [
              0.8888888888888888,
              "#fdca26"
             ],
             [
              1,
              "#f0f921"
             ]
            ],
            "type": "histogram2d"
           }
          ],
          "histogram2dcontour": [
           {
            "colorbar": {
             "outlinewidth": 0,
             "ticks": ""
            },
            "colorscale": [
             [
              0,
              "#0d0887"
             ],
             [
              0.1111111111111111,
              "#46039f"
             ],
             [
              0.2222222222222222,
              "#7201a8"
             ],
             [
              0.3333333333333333,
              "#9c179e"
             ],
             [
              0.4444444444444444,
              "#bd3786"
             ],
             [
              0.5555555555555556,
              "#d8576b"
             ],
             [
              0.6666666666666666,
              "#ed7953"
             ],
             [
              0.7777777777777778,
              "#fb9f3a"
             ],
             [
              0.8888888888888888,
              "#fdca26"
             ],
             [
              1,
              "#f0f921"
             ]
            ],
            "type": "histogram2dcontour"
           }
          ],
          "mesh3d": [
           {
            "colorbar": {
             "outlinewidth": 0,
             "ticks": ""
            },
            "type": "mesh3d"
           }
          ],
          "parcoords": [
           {
            "line": {
             "colorbar": {
              "outlinewidth": 0,
              "ticks": ""
             }
            },
            "type": "parcoords"
           }
          ],
          "pie": [
           {
            "automargin": true,
            "type": "pie"
           }
          ],
          "scatter": [
           {
            "fillpattern": {
             "fillmode": "overlay",
             "size": 10,
             "solidity": 0.2
            },
            "type": "scatter"
           }
          ],
          "scatter3d": [
           {
            "line": {
             "colorbar": {
              "outlinewidth": 0,
              "ticks": ""
             }
            },
            "marker": {
             "colorbar": {
              "outlinewidth": 0,
              "ticks": ""
             }
            },
            "type": "scatter3d"
           }
          ],
          "scattercarpet": [
           {
            "marker": {
             "colorbar": {
              "outlinewidth": 0,
              "ticks": ""
             }
            },
            "type": "scattercarpet"
           }
          ],
          "scattergeo": [
           {
            "marker": {
             "colorbar": {
              "outlinewidth": 0,
              "ticks": ""
             }
            },
            "type": "scattergeo"
           }
          ],
          "scattergl": [
           {
            "marker": {
             "colorbar": {
              "outlinewidth": 0,
              "ticks": ""
             }
            },
            "type": "scattergl"
           }
          ],
          "scattermapbox": [
           {
            "marker": {
             "colorbar": {
              "outlinewidth": 0,
              "ticks": ""
             }
            },
            "type": "scattermapbox"
           }
          ],
          "scatterpolar": [
           {
            "marker": {
             "colorbar": {
              "outlinewidth": 0,
              "ticks": ""
             }
            },
            "type": "scatterpolar"
           }
          ],
          "scatterpolargl": [
           {
            "marker": {
             "colorbar": {
              "outlinewidth": 0,
              "ticks": ""
             }
            },
            "type": "scatterpolargl"
           }
          ],
          "scatterternary": [
           {
            "marker": {
             "colorbar": {
              "outlinewidth": 0,
              "ticks": ""
             }
            },
            "type": "scatterternary"
           }
          ],
          "surface": [
           {
            "colorbar": {
             "outlinewidth": 0,
             "ticks": ""
            },
            "colorscale": [
             [
              0,
              "#0d0887"
             ],
             [
              0.1111111111111111,
              "#46039f"
             ],
             [
              0.2222222222222222,
              "#7201a8"
             ],
             [
              0.3333333333333333,
              "#9c179e"
             ],
             [
              0.4444444444444444,
              "#bd3786"
             ],
             [
              0.5555555555555556,
              "#d8576b"
             ],
             [
              0.6666666666666666,
              "#ed7953"
             ],
             [
              0.7777777777777778,
              "#fb9f3a"
             ],
             [
              0.8888888888888888,
              "#fdca26"
             ],
             [
              1,
              "#f0f921"
             ]
            ],
            "type": "surface"
           }
          ],
          "table": [
           {
            "cells": {
             "fill": {
              "color": "#EBF0F8"
             },
             "line": {
              "color": "white"
             }
            },
            "header": {
             "fill": {
              "color": "#C8D4E3"
             },
             "line": {
              "color": "white"
             }
            },
            "type": "table"
           }
          ]
         },
         "layout": {
          "annotationdefaults": {
           "arrowcolor": "#2a3f5f",
           "arrowhead": 0,
           "arrowwidth": 1
          },
          "autotypenumbers": "strict",
          "coloraxis": {
           "colorbar": {
            "outlinewidth": 0,
            "ticks": ""
           }
          },
          "colorscale": {
           "diverging": [
            [
             0,
             "#8e0152"
            ],
            [
             0.1,
             "#c51b7d"
            ],
            [
             0.2,
             "#de77ae"
            ],
            [
             0.3,
             "#f1b6da"
            ],
            [
             0.4,
             "#fde0ef"
            ],
            [
             0.5,
             "#f7f7f7"
            ],
            [
             0.6,
             "#e6f5d0"
            ],
            [
             0.7,
             "#b8e186"
            ],
            [
             0.8,
             "#7fbc41"
            ],
            [
             0.9,
             "#4d9221"
            ],
            [
             1,
             "#276419"
            ]
           ],
           "sequential": [
            [
             0,
             "#0d0887"
            ],
            [
             0.1111111111111111,
             "#46039f"
            ],
            [
             0.2222222222222222,
             "#7201a8"
            ],
            [
             0.3333333333333333,
             "#9c179e"
            ],
            [
             0.4444444444444444,
             "#bd3786"
            ],
            [
             0.5555555555555556,
             "#d8576b"
            ],
            [
             0.6666666666666666,
             "#ed7953"
            ],
            [
             0.7777777777777778,
             "#fb9f3a"
            ],
            [
             0.8888888888888888,
             "#fdca26"
            ],
            [
             1,
             "#f0f921"
            ]
           ],
           "sequentialminus": [
            [
             0,
             "#0d0887"
            ],
            [
             0.1111111111111111,
             "#46039f"
            ],
            [
             0.2222222222222222,
             "#7201a8"
            ],
            [
             0.3333333333333333,
             "#9c179e"
            ],
            [
             0.4444444444444444,
             "#bd3786"
            ],
            [
             0.5555555555555556,
             "#d8576b"
            ],
            [
             0.6666666666666666,
             "#ed7953"
            ],
            [
             0.7777777777777778,
             "#fb9f3a"
            ],
            [
             0.8888888888888888,
             "#fdca26"
            ],
            [
             1,
             "#f0f921"
            ]
           ]
          },
          "colorway": [
           "#636efa",
           "#EF553B",
           "#00cc96",
           "#ab63fa",
           "#FFA15A",
           "#19d3f3",
           "#FF6692",
           "#B6E880",
           "#FF97FF",
           "#FECB52"
          ],
          "font": {
           "color": "#2a3f5f"
          },
          "geo": {
           "bgcolor": "white",
           "lakecolor": "white",
           "landcolor": "#E5ECF6",
           "showlakes": true,
           "showland": true,
           "subunitcolor": "white"
          },
          "hoverlabel": {
           "align": "left"
          },
          "hovermode": "closest",
          "mapbox": {
           "style": "light"
          },
          "paper_bgcolor": "white",
          "plot_bgcolor": "#E5ECF6",
          "polar": {
           "angularaxis": {
            "gridcolor": "white",
            "linecolor": "white",
            "ticks": ""
           },
           "bgcolor": "#E5ECF6",
           "radialaxis": {
            "gridcolor": "white",
            "linecolor": "white",
            "ticks": ""
           }
          },
          "scene": {
           "xaxis": {
            "backgroundcolor": "#E5ECF6",
            "gridcolor": "white",
            "gridwidth": 2,
            "linecolor": "white",
            "showbackground": true,
            "ticks": "",
            "zerolinecolor": "white"
           },
           "yaxis": {
            "backgroundcolor": "#E5ECF6",
            "gridcolor": "white",
            "gridwidth": 2,
            "linecolor": "white",
            "showbackground": true,
            "ticks": "",
            "zerolinecolor": "white"
           },
           "zaxis": {
            "backgroundcolor": "#E5ECF6",
            "gridcolor": "white",
            "gridwidth": 2,
            "linecolor": "white",
            "showbackground": true,
            "ticks": "",
            "zerolinecolor": "white"
           }
          },
          "shapedefaults": {
           "line": {
            "color": "#2a3f5f"
           }
          },
          "ternary": {
           "aaxis": {
            "gridcolor": "white",
            "linecolor": "white",
            "ticks": ""
           },
           "baxis": {
            "gridcolor": "white",
            "linecolor": "white",
            "ticks": ""
           },
           "bgcolor": "#E5ECF6",
           "caxis": {
            "gridcolor": "white",
            "linecolor": "white",
            "ticks": ""
           }
          },
          "title": {
           "x": 0.05
          },
          "xaxis": {
           "automargin": true,
           "gridcolor": "white",
           "linecolor": "white",
           "ticks": "",
           "title": {
            "standoff": 15
           },
           "zerolinecolor": "white",
           "zerolinewidth": 2
          },
          "yaxis": {
           "automargin": true,
           "gridcolor": "white",
           "linecolor": "white",
           "ticks": "",
           "title": {
            "standoff": 15
           },
           "zerolinecolor": "white",
           "zerolinewidth": 2
          }
         }
        },
        "title": {
         "text": "Sunburst Chart Class > Sex > Localization"
        }
       }
      },
      "text/html": [
       "<div>                            <div id=\"f05118a1-ef0b-468c-910d-3a21817ed337\" class=\"plotly-graph-div\" style=\"height:525px; width:100%;\"></div>            <script type=\"text/javascript\">                require([\"plotly\"], function(Plotly) {                    window.PLOTLYENV=window.PLOTLYENV || {};                                    if (document.getElementById(\"f05118a1-ef0b-468c-910d-3a21817ed337\")) {                    Plotly.newPlot(                        \"f05118a1-ef0b-468c-910d-3a21817ed337\",                        [{\"branchvalues\":\"total\",\"customdata\":[[\"(?)\"],[\"male\"],[\"male\"],[\"female\"],[\"male\"],[\"male\"],[\"male\"],[\"male\"],[\"male\"],[\"male\"],[\"male\"],[\"male\"],[\"male\"],[\"female\"],[\"male\"],[\"male\"],[\"female\"],[\"unknown\"],[\"female\"],[\"unknown\"],[\"female\"],[\"male\"],[\"unknown\"],[\"male\"],[\"male\"],[\"female\"],[\"unknown\"],[\"(?)\"],[\"female\"],[\"male\"],[\"unknown\"],[\"male\"],[\"male\"],[\"unknown\"],[\"female\"],[\"male\"],[\"unknown\"],[\"female\"],[\"male\"],[\"male\"],[\"male\"],[\"unknown\"],[\"unknown\"],[\"female\"],[\"female\"],[\"female\"],[\"female\"],[\"male\"],[\"female\"],[\"female\"],[\"female\"],[\"male\"],[\"male\"],[\"unknown\"],[\"female\"],[\"unknown\"],[\"female\"],[\"male\"],[\"unknown\"],[\"female\"],[\"female\"],[\"female\"],[\"unknown\"],[\"unknown\"],[\"female\"],[\"female\"],[\"female\"],[\"unknown\"],[\"unknown\"],[\"unknown\"],[\"male\"],[\"male\"],[\"unknown\"],[\"unknown\"],[\"(?)\"],[\"female\"],[\"male\"],[\"female\"],[\"male\"],[\"unknown\"],[\"unknown\"],[\"male\"],[\"female\"],[\"male\"],[\"female\"],[\"unknown\"],[\"female\"],[\"male\"],[\"male\"],[\"male\"],[\"male\"],[\"male\"],[\"female\"],[\"female\"],[\"male\"],[\"female\"],[\"female\"],[\"male\"],[\"female\"],[\"male\"],[\"female\"],[\"female\"],[\"male\"],[\"female\"],[\"female\"],[\"female\"],[\"male\"],[\"female\"],[\"male\"],[\"male\"],[\"female\"],[\"unknown\"],[\"female\"],[\"female\"]],\"domain\":{\"x\":[0.0,1.0],\"y\":[0.0,1.0]},\"hovertemplate\":\"labels=%{label}<br>count=%{value}<br>parent=%{parent}<br>id=%{id}<br>sex=%{customdata[0]}<extra></extra>\",\"ids\":[\"Unclassified\",\"Benign Marking or Mole/male/hand\",\"Unclassified/male\",\"Benign Marking or Mole/female/head/neck\",\"Potentially Malignant Skin Tumors/male/head/neck\",\"Unclassified/male/head/neck\",\"Benign Marking or Mole/male/lower extremity\",\"Unclassified/male/lower extremity\",\"Potentially Malignant Skin Tumors/male/upper extremity\",\"Benign Marking or Mole/male/oral/genital\",\"Potentially Malignant Skin Tumors/male/oral/genital\",\"Potentially Malignant Skin Tumors/male/palms/soles\",\"Unclassified/male/palms/soles\",\"Potentially Malignant Skin Tumors/female/scalp\",\"Benign Marking or Mole/male/scalp\",\"Potentially Malignant Skin Tumors/male/scalp\",\"Benign Marking or Mole/female/torso\",\"Unclassified/unknown/unknown\",\"Unclassified/female/torso\",\"Potentially Malignant Skin Tumors/unknown/unknown\",\"Benign Marking or Mole/female/trunk\",\"Benign Marking or Mole/male/trunk\",\"Non-Cancerous Skin Condition/unknown\",\"Potentially Malignant Skin Tumors/male/foot\",\"Potentially Malignant Skin Tumors/male/unknown\",\"Benign Marking or Mole/female/face\",\"Potentially Malignant Skin Tumors/unknown\",\"Potentially Malignant Skin Tumors\",\"Benign Marking or Mole/female/ear\",\"Benign Marking or Mole/male/ear\",\"Benign Marking or Mole/unknown/back\",\"Potentially Malignant Skin Tumors/male/ear\",\"Potentially Malignant Skin Tumors/male/back\",\"Unclassified/unknown\",\"Benign Marking or Mole/female/back\",\"Potentially Malignant Skin Tumors/male/abdomen\",\"Non-Cancerous Skin Condition\",\"Benign Marking or Mole/female/foot\",\"Benign Marking or Mole/male/back\",\"Unclassified/male/torso\",\"Unclassified/male/oral/genital\",\"Toxin, Fungal, Bug, Viral, or Bacterial Infections\",\"Non-Cancerous Skin Condition/unknown/unknown\",\"Potentially Malignant Skin Tumors/female/upper extremity\",\"Benign Marking or Mole/female/upper extremity\",\"Benign Marking or Mole/female/chest\",\"Benign Marking or Mole/female/acral\",\"Potentially Malignant Skin Tumors/male/trunk\",\"Benign Marking or Mole/female/scalp\",\"Potentially Malignant Skin Tumors/female/back\",\"Potentially Malignant Skin Tumors/female/foot\",\"Unclassified/male/upper extremity\",\"Benign Marking or Mole/male/neck\",\"Benign Marking or Mole/unknown/foot\",\"Benign Marking or Mole/female/genital\",\"Benign Marking or Mole/unknown\",\"Unclassified/female/unknown\",\"Potentially Malignant Skin Tumors/male/face\",\"Toxin, Fungal, Bug, Viral, or Bacterial Infections/unknown\",\"Potentially Malignant Skin Tumors/female/face\",\"Potentially Malignant Skin Tumors/female/head/neck\",\"Potentially Malignant Skin Tumors/female/unknown\",\"Unclassified/unknown/head/neck\",\"Autoimmue Disorder/unknown/unknown\",\"Unclassified/female\",\"Benign Marking or Mole/female/unknown\",\"Benign Marking or Mole/female\",\"Unclassified/unknown/lower extremity\",\"Unclassified/unknown/upper extremity\",\"Unclassified/unknown/torso\",\"Benign Marking or Mole/male/head/neck\",\"Benign Marking or Mole/male/abdomen\",\"Benign Marking or Mole/unknown/unknown\",\"Autoimmue Disorder\",\"Benign Marking or Mole\",\"Unclassified/female/upper extremity\",\"Benign Marking or Mole/male/upper extremity\",\"Potentially Malignant Skin Tumors/female\",\"Potentially Malignant Skin Tumors/male\",\"Autoimmue Disorder/unknown\",\"Toxin, Fungal, Bug, Viral, or Bacterial Infections/unknown/unknown\",\"Benign Marking or Mole/male\",\"Benign Marking or Mole/female/abdomen\",\"Benign Marking or Mole/male/unknown\",\"Potentially Malignant Skin Tumors/female/abdomen\",\"Benign Marking or Mole/unknown/abdomen\",\"Potentially Malignant Skin Tumors/female/chest\",\"Benign Marking or Mole/male/chest\",\"Potentially Malignant Skin Tumors/male/chest\",\"Benign Marking or Mole/male/face\",\"Benign Marking or Mole/male/foot\",\"Benign Marking or Mole/male/genital\",\"Benign Marking or Mole/female/hand\",\"Potentially Malignant Skin Tumors/female/hand\",\"Potentially Malignant Skin Tumors/male/hand\",\"Unclassified/female/head/neck\",\"Benign Marking or Mole/female/lower extremity\",\"Unclassified/male/unknown\",\"Potentially Malignant Skin Tumors/female/lower extremity\",\"Potentially Malignant Skin Tumors/male/lower extremity\",\"Benign Marking or Mole/female/neck\",\"Potentially Malignant Skin Tumors/female/neck\",\"Potentially Malignant Skin Tumors/male/neck\",\"Potentially Malignant Skin Tumors/female/oral/genital\",\"Unclassified/female/oral/genital\",\"Unclassified/female/palms/soles\",\"Benign Marking or Mole/male/palms/soles\",\"Potentially Malignant Skin Tumors/female/torso\",\"Benign Marking or Mole/male/torso\",\"Potentially Malignant Skin Tumors/male/torso\",\"Potentially Malignant Skin Tumors/female/trunk\",\"Benign Marking or Mole/unknown/trunk\",\"Unclassified/female/lower extremity\",\"Potentially Malignant Skin Tumors/female/palms/soles\"],\"labels\":[\"Unclassified\",\"hand\",\"male\",\"head/neck\",\"head/neck\",\"head/neck\",\"lower extremity\",\"lower extremity\",\"upper extremity\",\"oral/genital\",\"oral/genital\",\"palms/soles\",\"palms/soles\",\"scalp\",\"scalp\",\"scalp\",\"torso\",\"unknown\",\"torso\",\"unknown\",\"trunk\",\"trunk\",\"unknown\",\"foot\",\"unknown\",\"face\",\"unknown\",\"Potentially Malignant Skin Tumors\",\"ear\",\"ear\",\"back\",\"ear\",\"back\",\"unknown\",\"back\",\"abdomen\",\"Non-Cancerous Skin Condition\",\"foot\",\"back\",\"torso\",\"oral/genital\",\"Toxin, Fungal, Bug, Viral, or Bacterial Infections\",\"unknown\",\"upper extremity\",\"upper extremity\",\"chest\",\"acral\",\"trunk\",\"scalp\",\"back\",\"foot\",\"upper extremity\",\"neck\",\"foot\",\"genital\",\"unknown\",\"unknown\",\"face\",\"unknown\",\"face\",\"head/neck\",\"unknown\",\"head/neck\",\"unknown\",\"female\",\"unknown\",\"female\",\"lower extremity\",\"upper extremity\",\"torso\",\"head/neck\",\"abdomen\",\"unknown\",\"Autoimmue Disorder\",\"Benign Marking or Mole\",\"upper extremity\",\"upper extremity\",\"female\",\"male\",\"unknown\",\"unknown\",\"male\",\"abdomen\",\"unknown\",\"abdomen\",\"abdomen\",\"chest\",\"chest\",\"chest\",\"face\",\"foot\",\"genital\",\"hand\",\"hand\",\"hand\",\"head/neck\",\"lower extremity\",\"unknown\",\"lower extremity\",\"lower extremity\",\"neck\",\"neck\",\"neck\",\"oral/genital\",\"oral/genital\",\"palms/soles\",\"palms/soles\",\"torso\",\"torso\",\"torso\",\"trunk\",\"trunk\",\"lower extremity\",\"palms/soles\"],\"marker\":{\"colors\":[\"#fdc029\",\"#df861d\",\"#df861d\",\"#FF6347\",\"#df861d\",\"#df861d\",\"#df861d\",\"#df861d\",\"#df861d\",\"#df861d\",\"#df861d\",\"#df861d\",\"#df861d\",\"#FF6347\",\"#df861d\",\"#df861d\",\"#FF6347\",\"#aa3d01\",\"#FF6347\",\"#aa3d01\",\"#FF6347\",\"#df861d\",\"#aa3d01\",\"#df861d\",\"#df861d\",\"#FF6347\",\"#aa3d01\",\"#fdc029\",\"#FF6347\",\"#df861d\",\"#aa3d01\",\"#df861d\",\"#df861d\",\"#aa3d01\",\"#FF6347\",\"#df861d\",\"#aa3d01\",\"#FF6347\",\"#df861d\",\"#df861d\",\"#df861d\",\"#aa3d01\",\"#aa3d01\",\"#FF6347\",\"#FF6347\",\"#FF6347\",\"#FF6347\",\"#df861d\",\"#FF6347\",\"#FF6347\",\"#FF6347\",\"#df861d\",\"#df861d\",\"#aa3d01\",\"#FF6347\",\"#aa3d01\",\"#FF6347\",\"#df861d\",\"#aa3d01\",\"#FF6347\",\"#FF6347\",\"#FF6347\",\"#aa3d01\",\"#aa3d01\",\"#FF6347\",\"#FF6347\",\"#FF6347\",\"#aa3d01\",\"#aa3d01\",\"#aa3d01\",\"#df861d\",\"#df861d\",\"#aa3d01\",\"#aa3d01\",\"#fdc029\",\"#FF6347\",\"#df861d\",\"#FF6347\",\"#df861d\",\"#aa3d01\",\"#aa3d01\",\"#df861d\",\"#FF6347\",\"#df861d\",\"#FF6347\",\"#aa3d01\",\"#FF6347\",\"#df861d\",\"#df861d\",\"#df861d\",\"#df861d\",\"#df861d\",\"#FF6347\",\"#FF6347\",\"#df861d\",\"#FF6347\",\"#FF6347\",\"#df861d\",\"#FF6347\",\"#df861d\",\"#FF6347\",\"#FF6347\",\"#df861d\",\"#FF6347\",\"#FF6347\",\"#FF6347\",\"#df861d\",\"#FF6347\",\"#df861d\",\"#df861d\",\"#FF6347\",\"#aa3d01\",\"#FF6347\",\"#FF6347\"]},\"maxdepth\":-1,\"name\":\"\",\"parents\":[\"\",\"Benign Marking or Mole/male\",\"Unclassified\",\"Benign Marking or Mole/female\",\"Potentially Malignant Skin Tumors/male\",\"Unclassified/male\",\"Benign Marking or Mole/male\",\"Unclassified/male\",\"Potentially Malignant Skin Tumors/male\",\"Benign Marking or Mole/male\",\"Potentially Malignant Skin Tumors/male\",\"Potentially Malignant Skin Tumors/male\",\"Unclassified/male\",\"Potentially Malignant Skin Tumors/female\",\"Benign Marking or Mole/male\",\"Potentially Malignant Skin Tumors/male\",\"Benign Marking or Mole/female\",\"Unclassified/unknown\",\"Unclassified/female\",\"Potentially Malignant Skin Tumors/unknown\",\"Benign Marking or Mole/female\",\"Benign Marking or Mole/male\",\"Non-Cancerous Skin Condition\",\"Potentially Malignant Skin Tumors/male\",\"Potentially Malignant Skin Tumors/male\",\"Benign Marking or Mole/female\",\"Potentially Malignant Skin Tumors\",\"\",\"Benign Marking or Mole/female\",\"Benign Marking or Mole/male\",\"Benign Marking or Mole/unknown\",\"Potentially Malignant Skin Tumors/male\",\"Potentially Malignant Skin Tumors/male\",\"Unclassified\",\"Benign Marking or Mole/female\",\"Potentially Malignant Skin Tumors/male\",\"\",\"Benign Marking or Mole/female\",\"Benign Marking or Mole/male\",\"Unclassified/male\",\"Unclassified/male\",\"\",\"Non-Cancerous Skin Condition/unknown\",\"Potentially Malignant Skin Tumors/female\",\"Benign Marking or Mole/female\",\"Benign Marking or Mole/female\",\"Benign Marking or Mole/female\",\"Potentially Malignant Skin Tumors/male\",\"Benign Marking or Mole/female\",\"Potentially Malignant Skin Tumors/female\",\"Potentially Malignant Skin Tumors/female\",\"Unclassified/male\",\"Benign Marking or Mole/male\",\"Benign Marking or Mole/unknown\",\"Benign Marking or Mole/female\",\"Benign Marking or Mole\",\"Unclassified/female\",\"Potentially Malignant Skin Tumors/male\",\"Toxin, Fungal, Bug, Viral, or Bacterial Infections\",\"Potentially Malignant Skin Tumors/female\",\"Potentially Malignant Skin Tumors/female\",\"Potentially Malignant Skin Tumors/female\",\"Unclassified/unknown\",\"Autoimmue Disorder/unknown\",\"Unclassified\",\"Benign Marking or Mole/female\",\"Benign Marking or Mole\",\"Unclassified/unknown\",\"Unclassified/unknown\",\"Unclassified/unknown\",\"Benign Marking or Mole/male\",\"Benign Marking or Mole/male\",\"Benign Marking or Mole/unknown\",\"\",\"\",\"Unclassified/female\",\"Benign Marking or Mole/male\",\"Potentially Malignant Skin Tumors\",\"Potentially Malignant Skin Tumors\",\"Autoimmue Disorder\",\"Toxin, Fungal, Bug, Viral, or Bacterial Infections/unknown\",\"Benign Marking or Mole\",\"Benign Marking or Mole/female\",\"Benign Marking or Mole/male\",\"Potentially Malignant Skin Tumors/female\",\"Benign Marking or Mole/unknown\",\"Potentially Malignant Skin Tumors/female\",\"Benign Marking or Mole/male\",\"Potentially Malignant Skin Tumors/male\",\"Benign Marking or Mole/male\",\"Benign Marking or Mole/male\",\"Benign Marking or Mole/male\",\"Benign Marking or Mole/female\",\"Potentially Malignant Skin Tumors/female\",\"Potentially Malignant Skin Tumors/male\",\"Unclassified/female\",\"Benign Marking or Mole/female\",\"Unclassified/male\",\"Potentially Malignant Skin Tumors/female\",\"Potentially Malignant Skin Tumors/male\",\"Benign Marking or Mole/female\",\"Potentially Malignant Skin Tumors/female\",\"Potentially Malignant Skin Tumors/male\",\"Potentially Malignant Skin Tumors/female\",\"Unclassified/female\",\"Unclassified/female\",\"Benign Marking or Mole/male\",\"Potentially Malignant Skin Tumors/female\",\"Benign Marking or Mole/male\",\"Potentially Malignant Skin Tumors/male\",\"Potentially Malignant Skin Tumors/female\",\"Benign Marking or Mole/unknown\",\"Unclassified/female\",\"Potentially Malignant Skin Tumors/female\"],\"values\":[25555,23,12261,68,50,770,1414,2821,117,1,1,4,194,7,63,25,1135,1250,5587,1970,589,689,4184,1,8,238,1970,3265,30,22,2,3,130,1308,684,11,4184,151,1102,6490,65,5833,4184,82,671,115,6,8,21,68,2,1690,75,2,27,3022,178,114,5833,83,17,5,6,1154,11986,110,5991,16,20,16,98,516,3015,1154,16133,2130,799,473,822,1154,5833,7120,381,103,7,1,11,204,39,247,129,13,46,4,9,662,1666,231,93,132,53,10,13,3,38,134,2,78,1620,157,2,2,3257,1],\"type\":\"sunburst\",\"textinfo\":\"label+percent parent\"}],                        {\"template\":{\"data\":{\"histogram2dcontour\":[{\"type\":\"histogram2dcontour\",\"colorbar\":{\"outlinewidth\":0,\"ticks\":\"\"},\"colorscale\":[[0.0,\"#0d0887\"],[0.1111111111111111,\"#46039f\"],[0.2222222222222222,\"#7201a8\"],[0.3333333333333333,\"#9c179e\"],[0.4444444444444444,\"#bd3786\"],[0.5555555555555556,\"#d8576b\"],[0.6666666666666666,\"#ed7953\"],[0.7777777777777778,\"#fb9f3a\"],[0.8888888888888888,\"#fdca26\"],[1.0,\"#f0f921\"]]}],\"choropleth\":[{\"type\":\"choropleth\",\"colorbar\":{\"outlinewidth\":0,\"ticks\":\"\"}}],\"histogram2d\":[{\"type\":\"histogram2d\",\"colorbar\":{\"outlinewidth\":0,\"ticks\":\"\"},\"colorscale\":[[0.0,\"#0d0887\"],[0.1111111111111111,\"#46039f\"],[0.2222222222222222,\"#7201a8\"],[0.3333333333333333,\"#9c179e\"],[0.4444444444444444,\"#bd3786\"],[0.5555555555555556,\"#d8576b\"],[0.6666666666666666,\"#ed7953\"],[0.7777777777777778,\"#fb9f3a\"],[0.8888888888888888,\"#fdca26\"],[1.0,\"#f0f921\"]]}],\"heatmap\":[{\"type\":\"heatmap\",\"colorbar\":{\"outlinewidth\":0,\"ticks\":\"\"},\"colorscale\":[[0.0,\"#0d0887\"],[0.1111111111111111,\"#46039f\"],[0.2222222222222222,\"#7201a8\"],[0.3333333333333333,\"#9c179e\"],[0.4444444444444444,\"#bd3786\"],[0.5555555555555556,\"#d8576b\"],[0.6666666666666666,\"#ed7953\"],[0.7777777777777778,\"#fb9f3a\"],[0.8888888888888888,\"#fdca26\"],[1.0,\"#f0f921\"]]}],\"heatmapgl\":[{\"type\":\"heatmapgl\",\"colorbar\":{\"outlinewidth\":0,\"ticks\":\"\"},\"colorscale\":[[0.0,\"#0d0887\"],[0.1111111111111111,\"#46039f\"],[0.2222222222222222,\"#7201a8\"],[0.3333333333333333,\"#9c179e\"],[0.4444444444444444,\"#bd3786\"],[0.5555555555555556,\"#d8576b\"],[0.6666666666666666,\"#ed7953\"],[0.7777777777777778,\"#fb9f3a\"],[0.8888888888888888,\"#fdca26\"],[1.0,\"#f0f921\"]]}],\"contourcarpet\":[{\"type\":\"contourcarpet\",\"colorbar\":{\"outlinewidth\":0,\"ticks\":\"\"}}],\"contour\":[{\"type\":\"contour\",\"colorbar\":{\"outlinewidth\":0,\"ticks\":\"\"},\"colorscale\":[[0.0,\"#0d0887\"],[0.1111111111111111,\"#46039f\"],[0.2222222222222222,\"#7201a8\"],[0.3333333333333333,\"#9c179e\"],[0.4444444444444444,\"#bd3786\"],[0.5555555555555556,\"#d8576b\"],[0.6666666666666666,\"#ed7953\"],[0.7777777777777778,\"#fb9f3a\"],[0.8888888888888888,\"#fdca26\"],[1.0,\"#f0f921\"]]}],\"surface\":[{\"type\":\"surface\",\"colorbar\":{\"outlinewidth\":0,\"ticks\":\"\"},\"colorscale\":[[0.0,\"#0d0887\"],[0.1111111111111111,\"#46039f\"],[0.2222222222222222,\"#7201a8\"],[0.3333333333333333,\"#9c179e\"],[0.4444444444444444,\"#bd3786\"],[0.5555555555555556,\"#d8576b\"],[0.6666666666666666,\"#ed7953\"],[0.7777777777777778,\"#fb9f3a\"],[0.8888888888888888,\"#fdca26\"],[1.0,\"#f0f921\"]]}],\"mesh3d\":[{\"type\":\"mesh3d\",\"colorbar\":{\"outlinewidth\":0,\"ticks\":\"\"}}],\"scatter\":[{\"fillpattern\":{\"fillmode\":\"overlay\",\"size\":10,\"solidity\":0.2},\"type\":\"scatter\"}],\"parcoords\":[{\"type\":\"parcoords\",\"line\":{\"colorbar\":{\"outlinewidth\":0,\"ticks\":\"\"}}}],\"scatterpolargl\":[{\"type\":\"scatterpolargl\",\"marker\":{\"colorbar\":{\"outlinewidth\":0,\"ticks\":\"\"}}}],\"bar\":[{\"error_x\":{\"color\":\"#2a3f5f\"},\"error_y\":{\"color\":\"#2a3f5f\"},\"marker\":{\"line\":{\"color\":\"#E5ECF6\",\"width\":0.5},\"pattern\":{\"fillmode\":\"overlay\",\"size\":10,\"solidity\":0.2}},\"type\":\"bar\"}],\"scattergeo\":[{\"type\":\"scattergeo\",\"marker\":{\"colorbar\":{\"outlinewidth\":0,\"ticks\":\"\"}}}],\"scatterpolar\":[{\"type\":\"scatterpolar\",\"marker\":{\"colorbar\":{\"outlinewidth\":0,\"ticks\":\"\"}}}],\"histogram\":[{\"marker\":{\"pattern\":{\"fillmode\":\"overlay\",\"size\":10,\"solidity\":0.2}},\"type\":\"histogram\"}],\"scattergl\":[{\"type\":\"scattergl\",\"marker\":{\"colorbar\":{\"outlinewidth\":0,\"ticks\":\"\"}}}],\"scatter3d\":[{\"type\":\"scatter3d\",\"line\":{\"colorbar\":{\"outlinewidth\":0,\"ticks\":\"\"}},\"marker\":{\"colorbar\":{\"outlinewidth\":0,\"ticks\":\"\"}}}],\"scattermapbox\":[{\"type\":\"scattermapbox\",\"marker\":{\"colorbar\":{\"outlinewidth\":0,\"ticks\":\"\"}}}],\"scatterternary\":[{\"type\":\"scatterternary\",\"marker\":{\"colorbar\":{\"outlinewidth\":0,\"ticks\":\"\"}}}],\"scattercarpet\":[{\"type\":\"scattercarpet\",\"marker\":{\"colorbar\":{\"outlinewidth\":0,\"ticks\":\"\"}}}],\"carpet\":[{\"aaxis\":{\"endlinecolor\":\"#2a3f5f\",\"gridcolor\":\"white\",\"linecolor\":\"white\",\"minorgridcolor\":\"white\",\"startlinecolor\":\"#2a3f5f\"},\"baxis\":{\"endlinecolor\":\"#2a3f5f\",\"gridcolor\":\"white\",\"linecolor\":\"white\",\"minorgridcolor\":\"white\",\"startlinecolor\":\"#2a3f5f\"},\"type\":\"carpet\"}],\"table\":[{\"cells\":{\"fill\":{\"color\":\"#EBF0F8\"},\"line\":{\"color\":\"white\"}},\"header\":{\"fill\":{\"color\":\"#C8D4E3\"},\"line\":{\"color\":\"white\"}},\"type\":\"table\"}],\"barpolar\":[{\"marker\":{\"line\":{\"color\":\"#E5ECF6\",\"width\":0.5},\"pattern\":{\"fillmode\":\"overlay\",\"size\":10,\"solidity\":0.2}},\"type\":\"barpolar\"}],\"pie\":[{\"automargin\":true,\"type\":\"pie\"}]},\"layout\":{\"autotypenumbers\":\"strict\",\"colorway\":[\"#636efa\",\"#EF553B\",\"#00cc96\",\"#ab63fa\",\"#FFA15A\",\"#19d3f3\",\"#FF6692\",\"#B6E880\",\"#FF97FF\",\"#FECB52\"],\"font\":{\"color\":\"#2a3f5f\"},\"hovermode\":\"closest\",\"hoverlabel\":{\"align\":\"left\"},\"paper_bgcolor\":\"white\",\"plot_bgcolor\":\"#E5ECF6\",\"polar\":{\"bgcolor\":\"#E5ECF6\",\"angularaxis\":{\"gridcolor\":\"white\",\"linecolor\":\"white\",\"ticks\":\"\"},\"radialaxis\":{\"gridcolor\":\"white\",\"linecolor\":\"white\",\"ticks\":\"\"}},\"ternary\":{\"bgcolor\":\"#E5ECF6\",\"aaxis\":{\"gridcolor\":\"white\",\"linecolor\":\"white\",\"ticks\":\"\"},\"baxis\":{\"gridcolor\":\"white\",\"linecolor\":\"white\",\"ticks\":\"\"},\"caxis\":{\"gridcolor\":\"white\",\"linecolor\":\"white\",\"ticks\":\"\"}},\"coloraxis\":{\"colorbar\":{\"outlinewidth\":0,\"ticks\":\"\"}},\"colorscale\":{\"sequential\":[[0.0,\"#0d0887\"],[0.1111111111111111,\"#46039f\"],[0.2222222222222222,\"#7201a8\"],[0.3333333333333333,\"#9c179e\"],[0.4444444444444444,\"#bd3786\"],[0.5555555555555556,\"#d8576b\"],[0.6666666666666666,\"#ed7953\"],[0.7777777777777778,\"#fb9f3a\"],[0.8888888888888888,\"#fdca26\"],[1.0,\"#f0f921\"]],\"sequentialminus\":[[0.0,\"#0d0887\"],[0.1111111111111111,\"#46039f\"],[0.2222222222222222,\"#7201a8\"],[0.3333333333333333,\"#9c179e\"],[0.4444444444444444,\"#bd3786\"],[0.5555555555555556,\"#d8576b\"],[0.6666666666666666,\"#ed7953\"],[0.7777777777777778,\"#fb9f3a\"],[0.8888888888888888,\"#fdca26\"],[1.0,\"#f0f921\"]],\"diverging\":[[0,\"#8e0152\"],[0.1,\"#c51b7d\"],[0.2,\"#de77ae\"],[0.3,\"#f1b6da\"],[0.4,\"#fde0ef\"],[0.5,\"#f7f7f7\"],[0.6,\"#e6f5d0\"],[0.7,\"#b8e186\"],[0.8,\"#7fbc41\"],[0.9,\"#4d9221\"],[1,\"#276419\"]]},\"xaxis\":{\"gridcolor\":\"white\",\"linecolor\":\"white\",\"ticks\":\"\",\"title\":{\"standoff\":15},\"zerolinecolor\":\"white\",\"automargin\":true,\"zerolinewidth\":2},\"yaxis\":{\"gridcolor\":\"white\",\"linecolor\":\"white\",\"ticks\":\"\",\"title\":{\"standoff\":15},\"zerolinecolor\":\"white\",\"automargin\":true,\"zerolinewidth\":2},\"scene\":{\"xaxis\":{\"backgroundcolor\":\"#E5ECF6\",\"gridcolor\":\"white\",\"linecolor\":\"white\",\"showbackground\":true,\"ticks\":\"\",\"zerolinecolor\":\"white\",\"gridwidth\":2},\"yaxis\":{\"backgroundcolor\":\"#E5ECF6\",\"gridcolor\":\"white\",\"linecolor\":\"white\",\"showbackground\":true,\"ticks\":\"\",\"zerolinecolor\":\"white\",\"gridwidth\":2},\"zaxis\":{\"backgroundcolor\":\"#E5ECF6\",\"gridcolor\":\"white\",\"linecolor\":\"white\",\"showbackground\":true,\"ticks\":\"\",\"zerolinecolor\":\"white\",\"gridwidth\":2}},\"shapedefaults\":{\"line\":{\"color\":\"#2a3f5f\"}},\"annotationdefaults\":{\"arrowcolor\":\"#2a3f5f\",\"arrowhead\":0,\"arrowwidth\":1},\"geo\":{\"bgcolor\":\"white\",\"landcolor\":\"#E5ECF6\",\"subunitcolor\":\"white\",\"showland\":true,\"showlakes\":true,\"lakecolor\":\"white\"},\"title\":{\"x\":0.05},\"mapbox\":{\"style\":\"light\"}}},\"legend\":{\"tracegroupgap\":0},\"title\":{\"text\":\"Sunburst Chart Class > Sex > Localization\"},\"sunburstcolorway\":[\"#fdc029\",\"#df861d\",\"#FF6347\",\"#aa3d01\",\"#a30e15\",\"#800000\",\"#171820\"],\"margin\":{\"t\":0,\"l\":0,\"r\":0,\"b\":0}},                        {\"responsive\": true}                    ).then(function(){\n",
       "                            \n",
       "var gd = document.getElementById('f05118a1-ef0b-468c-910d-3a21817ed337');\n",
       "var x = new MutationObserver(function (mutations, observer) {{\n",
       "        var display = window.getComputedStyle(gd).display;\n",
       "        if (!display || display === 'none') {{\n",
       "            console.log([gd, 'removed!']);\n",
       "            Plotly.purge(gd);\n",
       "            observer.disconnect();\n",
       "        }}\n",
       "}});\n",
       "\n",
       "// Listen for the removal of the full notebook cells\n",
       "var notebookContainer = gd.closest('#notebook-container');\n",
       "if (notebookContainer) {{\n",
       "    x.observe(notebookContainer, {childList: true});\n",
       "}}\n",
       "\n",
       "// Listen for the clearing of the current output cell\n",
       "var outputEl = gd.closest('.output');\n",
       "if (outputEl) {{\n",
       "    x.observe(outputEl, {childList: true});\n",
       "}}\n",
       "\n",
       "                        })                };                });            </script>        </div>"
      ]
     },
     "metadata": {},
     "output_type": "display_data"
    }
   ],
   "source": [
    "# Plotting interactive sunburst:\n",
    "\n",
    "fig = px.sunburst(data_frame=train,\n",
    "                  path=['class', 'sex', 'localization'],\n",
    "                  color='sex',\n",
    "                  color_discrete_sequence=orange_black,\n",
    "                  maxdepth=-1,\n",
    "                  title='Sunburst Chart Class > Sex > Localization')\n",
    "\n",
    "fig.update_traces(textinfo='label+percent parent')\n",
    "fig.update_layout(margin=dict(t=0, l=0, r=0, b=0))\n",
    "fig.show()"
   ]
  },
  {
   "cell_type": "code",
   "execution_count": null,
   "id": "22558b2d",
   "metadata": {},
   "outputs": [],
   "source": []
  },
  {
   "cell_type": "code",
   "execution_count": null,
   "id": "0fb3aeb8",
   "metadata": {},
   "outputs": [],
   "source": []
  },
  {
   "cell_type": "code",
   "execution_count": null,
   "id": "2b8ca5d6",
   "metadata": {},
   "outputs": [],
   "source": []
  }
 ],
 "metadata": {
  "kernelspec": {
   "display_name": "Python 3",
   "language": "python",
   "name": "python3"
  },
  "language_info": {
   "codemirror_mode": {
    "name": "ipython",
    "version": 3
   },
   "file_extension": ".py",
   "mimetype": "text/x-python",
   "name": "python",
   "nbconvert_exporter": "python",
   "pygments_lexer": "ipython3",
   "version": "3.8.8"
  }
 },
 "nbformat": 4,
 "nbformat_minor": 5
}
