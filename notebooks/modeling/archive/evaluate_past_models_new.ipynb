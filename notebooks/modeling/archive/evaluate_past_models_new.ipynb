{
 "cells": [
  {
   "cell_type": "code",
   "execution_count": 230,
   "id": "abd34a55",
   "metadata": {},
   "outputs": [
    {
     "name": "stdout",
     "output_type": "stream",
     "text": [
      "Looking in indexes: https://pypi.org/simple, https://pip.repos.neuron.amazonaws.com\n",
      "Collecting torch\n",
      "  Downloading torch-1.13.0-cp38-cp38-manylinux1_x86_64.whl (890.2 MB)\n",
      "\u001b[2K     \u001b[90m━━━━━━━━━━━━━━━━━━━━━━━━━━━━━━━━━━━━━━━\u001b[0m \u001b[32m890.2/890.2 MB\u001b[0m \u001b[31m1.4 MB/s\u001b[0m eta \u001b[36m0:00:00\u001b[0m00:01\u001b[0m00:01\u001b[0m\n",
      "\u001b[?25hCollecting nvidia-cuda-runtime-cu11==11.7.99\n",
      "  Downloading nvidia_cuda_runtime_cu11-11.7.99-py3-none-manylinux1_x86_64.whl (849 kB)\n",
      "\u001b[2K     \u001b[90m━━━━━━━━━━━━━━━━━━━━━━━━━━━━━━━━━━━━━\u001b[0m \u001b[32m849.3/849.3 KB\u001b[0m \u001b[31m103.4 MB/s\u001b[0m eta \u001b[36m0:00:00\u001b[0m\n",
      "\u001b[?25hCollecting nvidia-cuda-nvrtc-cu11==11.7.99\n",
      "  Downloading nvidia_cuda_nvrtc_cu11-11.7.99-2-py3-none-manylinux1_x86_64.whl (21.0 MB)\n",
      "\u001b[2K     \u001b[90m━━━━━━━━━━━━━━━━━━━━━━━━━━━━━━━━━━━━━━━━\u001b[0m \u001b[32m21.0/21.0 MB\u001b[0m \u001b[31m92.4 MB/s\u001b[0m eta \u001b[36m0:00:00\u001b[0m00:01\u001b[0m00:01\u001b[0m\n",
      "\u001b[?25hCollecting nvidia-cudnn-cu11==8.5.0.96\n",
      "  Downloading nvidia_cudnn_cu11-8.5.0.96-2-py3-none-manylinux1_x86_64.whl (557.1 MB)\n",
      "\u001b[2K     \u001b[90m━━━━━━━━━━━━━━━━━━━━━━━━━━━━━━━━━━━━━━━\u001b[0m \u001b[32m557.1/557.1 MB\u001b[0m \u001b[31m2.3 MB/s\u001b[0m eta \u001b[36m0:00:00\u001b[0m00:01\u001b[0m00:01\u001b[0m\n",
      "\u001b[?25hRequirement already satisfied: typing-extensions in /home/ec2-user/anaconda3/envs/python3/lib/python3.8/site-packages (from torch) (4.0.0)\n",
      "Collecting nvidia-cublas-cu11==11.10.3.66\n",
      "  Downloading nvidia_cublas_cu11-11.10.3.66-py3-none-manylinux1_x86_64.whl (317.1 MB)\n",
      "\u001b[2K     \u001b[90m━━━━━━━━━━━━━━━━━━━━━━━━━━━━━━━━━━━━━━━\u001b[0m \u001b[32m317.1/317.1 MB\u001b[0m \u001b[31m3.0 MB/s\u001b[0m eta \u001b[36m0:00:00\u001b[0m00:01\u001b[0m00:01\u001b[0m\n",
      "\u001b[?25hRequirement already satisfied: wheel in /home/ec2-user/anaconda3/envs/python3/lib/python3.8/site-packages (from nvidia-cublas-cu11==11.10.3.66->torch) (0.37.0)\n",
      "Requirement already satisfied: setuptools in /home/ec2-user/anaconda3/envs/python3/lib/python3.8/site-packages (from nvidia-cublas-cu11==11.10.3.66->torch) (59.4.0)\n",
      "Installing collected packages: nvidia-cuda-runtime-cu11, nvidia-cuda-nvrtc-cu11, nvidia-cublas-cu11, nvidia-cudnn-cu11, torch\n",
      "Successfully installed nvidia-cublas-cu11-11.10.3.66 nvidia-cuda-nvrtc-cu11-11.7.99 nvidia-cuda-runtime-cu11-11.7.99 nvidia-cudnn-cu11-8.5.0.96 torch-1.13.0\n",
      "\u001b[33mWARNING: You are using pip version 22.0.4; however, version 22.3 is available.\n",
      "You should consider upgrading via the '/home/ec2-user/anaconda3/envs/python3/bin/python -m pip install --upgrade pip' command.\u001b[0m\u001b[33m\n",
      "\u001b[0mNote: you may need to restart the kernel to use updated packages.\n"
     ]
    }
   ],
   "source": [
    "# pip install torch"
   ]
  },
  {
   "cell_type": "code",
   "execution_count": 1,
   "id": "8381ecbc",
   "metadata": {},
   "outputs": [],
   "source": [
    "import pandas as pd\n",
    "from sklearn.metrics import f1_score, fbeta_score, precision_score, recall_score, accuracy_score\n",
    "# from build_model import initialize_model, load_split_data, build_loader, evaluate, train_model\n",
    "# from build_model import plot_confusion\n",
    "import os\n",
    "from sklearn.metrics import confusion_matrix\n"
   ]
  },
  {
   "cell_type": "code",
   "execution_count": 2,
   "id": "c58ed8d4",
   "metadata": {},
   "outputs": [],
   "source": [
    "MODEL_DIR = '/home/ec2-user/SageMaker/teledermatologyAI_capstone/model/gridsearch'\n"
   ]
  },
  {
   "cell_type": "code",
   "execution_count": 3,
   "id": "d8117f8d",
   "metadata": {},
   "outputs": [
    {
     "name": "stdout",
     "output_type": "stream",
     "text": [
      "/home/ec2-user/SageMaker/teledermatologyAI_capstone/model/gridsearch\n"
     ]
    }
   ],
   "source": [
    "cd $MODEL_DIR"
   ]
  },
  {
   "cell_type": "code",
   "execution_count": null,
   "id": "a97e0138",
   "metadata": {},
   "outputs": [],
   "source": [
    "[model, 'file', 'tuned_model', 'transform', 'lr', 'pretrained_model',\n",
    "       'optimizer', 'epochs', 'num_classes', 'batch_size', 'workers',\n",
    "       'train_time', 'data_split', 'label_set', 'accur', 'F1', 'F0.5', 'F2',\n",
    "       'benign_accur', 'noncancerous_accur', 'malignant_accur',\n",
    "       'infection_accur', 'unclassified_accur'],"
   ]
  },
  {
   "cell_type": "code",
   "execution_count": 25,
   "id": "63e4096f",
   "metadata": {},
   "outputs": [
    {
     "name": "stdout",
     "output_type": "stream",
     "text": [
      "model <class 'numpy.int64'>\n",
      "file <class 'str'>\n",
      "tuned_model <class 'str'>\n",
      "transform <class 'numpy.int64'>\n",
      "lr <class 'numpy.float64'>\n",
      "pretrained_model <class 'str'>\n",
      "optimizer <class 'str'>\n",
      "epochs <class 'numpy.int64'>\n",
      "num_classes <class 'numpy.int64'>\n",
      "batch_size <class 'numpy.int64'>\n",
      "workers <class 'numpy.int64'>\n",
      "train_time <class 'str'>\n",
      "data_split <class 'str'>\n",
      "label_set <class 'str'>\n",
      "accur <class 'numpy.float64'>\n",
      "F1 <class 'numpy.float64'>\n",
      "F0.5 <class 'numpy.float64'>\n",
      "F2 <class 'numpy.float64'>\n",
      "benign_accur <class 'numpy.float64'>\n",
      "noncancerous_accur <class 'numpy.float64'>\n",
      "malignant_accur <class 'numpy.float64'>\n",
      "infection_accur <class 'numpy.float64'>\n",
      "unclassified_accur <class 'numpy.float64'>\n"
     ]
    },
    {
     "data": {
      "text/plain": [
       "{'model': numpy.int64,\n",
       " 'file': str,\n",
       " 'tuned_model': str,\n",
       " 'transform': numpy.int64,\n",
       " 'lr': numpy.float64,\n",
       " 'pretrained_model': str,\n",
       " 'optimizer': str,\n",
       " 'epochs': numpy.int64,\n",
       " 'num_classes': numpy.int64,\n",
       " 'batch_size': numpy.int64,\n",
       " 'workers': numpy.int64,\n",
       " 'train_time': str,\n",
       " 'data_split': str,\n",
       " 'label_set': str,\n",
       " 'accur': numpy.float64,\n",
       " 'F1': numpy.float64,\n",
       " 'F0.5': numpy.float64,\n",
       " 'F2': numpy.float64,\n",
       " 'benign_accur': numpy.float64,\n",
       " 'noncancerous_accur': numpy.float64,\n",
       " 'malignant_accur': numpy.float64,\n",
       " 'infection_accur': numpy.float64,\n",
       " 'unclassified_accur': numpy.float64}"
      ]
     },
     "execution_count": 25,
     "metadata": {},
     "output_type": "execute_result"
    }
   ],
   "source": [
    "r = pd.read_csv('results_gs2.csv')\n",
    "# type(r['model'][0])\n",
    "r_dict = dict()\n",
    "\n",
    "for i in r.columns:\n",
    "    print(i, type(r[i][0]))\n",
    "    r_dict[i] = type(r[i][0])\n",
    "\n",
    "r_dict"
   ]
  },
  {
   "cell_type": "code",
   "execution_count": 49,
   "id": "50db417a",
   "metadata": {},
   "outputs": [
    {
     "data": {
      "text/html": [
       "<div>\n",
       "<style scoped>\n",
       "    .dataframe tbody tr th:only-of-type {\n",
       "        vertical-align: middle;\n",
       "    }\n",
       "\n",
       "    .dataframe tbody tr th {\n",
       "        vertical-align: top;\n",
       "    }\n",
       "\n",
       "    .dataframe thead th {\n",
       "        text-align: right;\n",
       "    }\n",
       "</style>\n",
       "<table border=\"1\" class=\"dataframe\">\n",
       "  <thead>\n",
       "    <tr style=\"text-align: right;\">\n",
       "      <th></th>\n",
       "      <th>model</th>\n",
       "      <th>file</th>\n",
       "      <th>tuned_model</th>\n",
       "      <th>transform</th>\n",
       "      <th>lr</th>\n",
       "      <th>pretrained_model</th>\n",
       "      <th>optimizer</th>\n",
       "      <th>epochs</th>\n",
       "      <th>num_classes</th>\n",
       "      <th>batch_size</th>\n",
       "      <th>...</th>\n",
       "      <th>label_set</th>\n",
       "      <th>accur</th>\n",
       "      <th>F1</th>\n",
       "      <th>F0.5</th>\n",
       "      <th>F2</th>\n",
       "      <th>benign_accur</th>\n",
       "      <th>noncancerous_accur</th>\n",
       "      <th>malignant_accur</th>\n",
       "      <th>infection_accur</th>\n",
       "      <th>unclassified_accur</th>\n",
       "    </tr>\n",
       "  </thead>\n",
       "  <tbody>\n",
       "    <tr>\n",
       "      <th>0</th>\n",
       "      <td>0</td>\n",
       "      <td>resnet_split3_3e_GS0_preds.pkl</td>\n",
       "      <td>resnet_split3_3e_GS0</td>\n",
       "      <td>0</td>\n",
       "      <td>0.001</td>\n",
       "      <td>resnet</td>\n",
       "      <td>SGD</td>\n",
       "      <td>3</td>\n",
       "      <td>5</td>\n",
       "      <td>64</td>\n",
       "      <td>...</td>\n",
       "      <td>label_0</td>\n",
       "      <td>0.587778</td>\n",
       "      <td>0.589663</td>\n",
       "      <td>0.598624</td>\n",
       "      <td>0.586436</td>\n",
       "      <td>0.662362</td>\n",
       "      <td>0.720974</td>\n",
       "      <td>0.5369</td>\n",
       "      <td>0.453704</td>\n",
       "      <td>0.566421</td>\n",
       "    </tr>\n",
       "  </tbody>\n",
       "</table>\n",
       "<p>1 rows × 23 columns</p>\n",
       "</div>"
      ],
      "text/plain": [
       "   model                            file           tuned_model  transform  \\\n",
       "0      0  resnet_split3_3e_GS0_preds.pkl  resnet_split3_3e_GS0          0   \n",
       "\n",
       "      lr pretrained_model optimizer  epochs  num_classes  batch_size  ...  \\\n",
       "0  0.001           resnet       SGD       3            5          64  ...   \n",
       "\n",
       "   label_set     accur        F1      F0.5        F2  benign_accur  \\\n",
       "0    label_0  0.587778  0.589663  0.598624  0.586436      0.662362   \n",
       "\n",
       "   noncancerous_accur  malignant_accur  infection_accur  unclassified_accur  \n",
       "0            0.720974           0.5369         0.453704            0.566421  \n",
       "\n",
       "[1 rows x 23 columns]"
      ]
     },
     "execution_count": 49,
     "metadata": {},
     "output_type": "execute_result"
    }
   ],
   "source": [
    "r"
   ]
  },
  {
   "cell_type": "code",
   "execution_count": 48,
   "id": "fb9f3516",
   "metadata": {},
   "outputs": [],
   "source": [
    "# Create empty df\n",
    "col_dict = {\n",
    "#              'model': pd.Series(dtype = 'int'),\n",
    "#              'file': pd.Series(dtype = 'str'),\n",
    "             'tuned_model': pd.Series(dtype = 'str'),\n",
    "             'transform': pd.Series(dtype = 'int'),\n",
    "             'lr': pd.Series(dtype = 'float'),\n",
    "             'pretrained_model': pd.Series(dtype = 'str'),\n",
    "             'optimizer': pd.Series(dtype = 'str'),\n",
    "             'epochs': pd.Series(dtype = 'int'),\n",
    "             'num_classes': pd.Series(dtype = 'int'),\n",
    "             'batch_size': pd.Series(dtype = 'int'),\n",
    "             'workers': pd.Series(dtype = 'int'),\n",
    "             'train_time': pd.Series(dtype = 'str'),\n",
    "             'data_split': pd.Series(dtype = 'str'),\n",
    "             'label_set': pd.Series(dtype = 'str'),\n",
    "             'accur': pd.Series(dtype = 'float'),\n",
    "             'F1': pd.Series(dtype = 'float'),\n",
    "             'F0.5': pd.Series(dtype = 'float'),\n",
    "             'F2': pd.Series(dtype = 'float'),\n",
    "             'benign_accur': pd.Series(dtype = 'float'),\n",
    "             'noncancerous_accur': pd.Series(dtype = 'float'),\n",
    "             'malignant_accur': pd.Series(dtype = 'float'),\n",
    "             'infection_accur': pd.Series(dtype = 'float'),\n",
    "             'unclassified_accur': pd.Series(dtype = 'float')}\n",
    "results = pd.DataFrame(col_dict)"
   ]
  },
  {
   "cell_type": "code",
   "execution_count": 45,
   "id": "5e9ed2b0",
   "metadata": {},
   "outputs": [],
   "source": [
    "# for col in r_dict.keys():\n",
    "#     print(col, r_dict[col])\n",
    "\n",
    "# results = pd.DataFrame({})\n"
   ]
  },
  {
   "cell_type": "code",
   "execution_count": 52,
   "id": "27206d46",
   "metadata": {},
   "outputs": [
    {
     "data": {
      "text/html": [
       "<div>\n",
       "<style scoped>\n",
       "    .dataframe tbody tr th:only-of-type {\n",
       "        vertical-align: middle;\n",
       "    }\n",
       "\n",
       "    .dataframe tbody tr th {\n",
       "        vertical-align: top;\n",
       "    }\n",
       "\n",
       "    .dataframe thead th {\n",
       "        text-align: right;\n",
       "    }\n",
       "</style>\n",
       "<table border=\"1\" class=\"dataframe\">\n",
       "  <thead>\n",
       "    <tr style=\"text-align: right;\">\n",
       "      <th></th>\n",
       "      <th>model</th>\n",
       "      <th>file</th>\n",
       "      <th>tuned_model</th>\n",
       "      <th>transform</th>\n",
       "      <th>lr</th>\n",
       "      <th>pretrained_model</th>\n",
       "      <th>optimizer</th>\n",
       "      <th>epochs</th>\n",
       "      <th>num_classes</th>\n",
       "      <th>batch_size</th>\n",
       "      <th>...</th>\n",
       "      <th>label_set</th>\n",
       "      <th>accur</th>\n",
       "      <th>F1</th>\n",
       "      <th>F0.5</th>\n",
       "      <th>F2</th>\n",
       "      <th>benign_accur</th>\n",
       "      <th>noncancerous_accur</th>\n",
       "      <th>malignant_accur</th>\n",
       "      <th>infection_accur</th>\n",
       "      <th>unclassified_accur</th>\n",
       "    </tr>\n",
       "  </thead>\n",
       "  <tbody>\n",
       "    <tr>\n",
       "      <th>0</th>\n",
       "      <td>0</td>\n",
       "      <td>resnet_split3_3e_GS0_preds.pkl</td>\n",
       "      <td>resnet_split3_3e_GS0</td>\n",
       "      <td>0</td>\n",
       "      <td>0.001</td>\n",
       "      <td>resnet</td>\n",
       "      <td>SGD</td>\n",
       "      <td>3</td>\n",
       "      <td>5</td>\n",
       "      <td>64</td>\n",
       "      <td>...</td>\n",
       "      <td>label_0</td>\n",
       "      <td>0.587778</td>\n",
       "      <td>0.589663</td>\n",
       "      <td>0.598624</td>\n",
       "      <td>0.586436</td>\n",
       "      <td>0.662362</td>\n",
       "      <td>0.720974</td>\n",
       "      <td>0.5369</td>\n",
       "      <td>0.453704</td>\n",
       "      <td>0.566421</td>\n",
       "    </tr>\n",
       "  </tbody>\n",
       "</table>\n",
       "<p>1 rows × 23 columns</p>\n",
       "</div>"
      ],
      "text/plain": [
       "   model                            file           tuned_model  transform  \\\n",
       "0      0  resnet_split3_3e_GS0_preds.pkl  resnet_split3_3e_GS0          0   \n",
       "\n",
       "      lr pretrained_model optimizer  epochs  num_classes  batch_size  ...  \\\n",
       "0  0.001           resnet       SGD       3            5          64  ...   \n",
       "\n",
       "   label_set     accur        F1      F0.5        F2  benign_accur  \\\n",
       "0    label_0  0.587778  0.589663  0.598624  0.586436      0.662362   \n",
       "\n",
       "   noncancerous_accur  malignant_accur  infection_accur  unclassified_accur  \n",
       "0            0.720974           0.5369         0.453704            0.566421  \n",
       "\n",
       "[1 rows x 23 columns]"
      ]
     },
     "execution_count": 52,
     "metadata": {},
     "output_type": "execute_result"
    }
   ],
   "source": [
    "pd.concat([results, r])"
   ]
  },
  {
   "cell_type": "code",
   "execution_count": 4,
   "id": "c8d5a55b",
   "metadata": {},
   "outputs": [],
   "source": [
    "# Load files in directory, filter to pred files\n",
    "files = pd.Series(os.listdir('./'), name = \"file\")\n",
    "files = pd.DataFrame(files[files.str.contains('pkl')])\n",
    "\n",
    "# extract model number and name, convert model num to int\n",
    "files['model_number'] = files.file.apply(lambda st: st[st.find(\"GS\")+2:st.find(\"_pred\")])\n",
    "files['tuned_model'] = files.file.apply(lambda st: st[:st.find(\"_pred\")])\n",
    "files['model_number'] = files['model_number'].astype('int')\n",
    "files.set_index('model_number', inplace = True)\n",
    "\n",
    "# read in prior partial results\n",
    "gs = pd.read_csv('gridsearch1.csv')"
   ]
  },
  {
   "cell_type": "code",
   "execution_count": 5,
   "id": "edc1a4e2",
   "metadata": {},
   "outputs": [],
   "source": [
    "# Create results df by combining hyperparams and model name\n",
    "results = pd.concat([files, gs], axis = 1).set_index('model')"
   ]
  },
  {
   "cell_type": "code",
   "execution_count": 9,
   "id": "8121595c",
   "metadata": {},
   "outputs": [],
   "source": [
    "results = results[:1]"
   ]
  },
  {
   "cell_type": "code",
   "execution_count": 32,
   "id": "8a23d524",
   "metadata": {},
   "outputs": [],
   "source": [
    "# new columns\n",
    "results['pretrained_model'] = 'resnet'\n",
    "results['optimizer'] = 'SGD'\n",
    "results['epochs'] = 3\n",
    "results['num_classes'] = 5\n",
    "results['batch_size'] = 64\n",
    "results['workers'] = 24\n",
    "results['train_time'] = 'unk'\n",
    "results['data_split'] = 'split_3'\n",
    "results['label_set'] = 'label_0'\n",
    "results['accur'] = None\n",
    "results['F1'] = None\n",
    "results['F0.5'] = None\n",
    "results['F2'] = None\n",
    "results['benign_accur'] = None\n",
    "results['noncancerous_accur'] = None\n",
    "results['malignant_accur'] = None\n",
    "results['infection_accur'] = None\n",
    "results['unclassified_accur'] = None\n",
    "\n"
   ]
  },
  {
   "cell_type": "code",
   "execution_count": 11,
   "id": "905aa2d4",
   "metadata": {},
   "outputs": [],
   "source": [
    "# i = 1\n",
    "for index, row in results.iterrows():\n",
    "#     row.iloc[index]['accur'] = i\n",
    "    \n",
    "    d = pd.read_pickle(row['file'])\n",
    "    \n",
    "    # Scores\n",
    "    acc = accuracy_score(d.lab, d.pred)\n",
    "    f1 = f1_score(d.lab, d.pred, average = 'macro')\n",
    "    f2 = fbeta_score(d.lab, d.pred, average = 'macro', beta = 2)\n",
    "    f5 =  fbeta_score(d.lab, d.pred, average = 'macro', beta = .5)\n",
    "    prec = precision_score(d.lab, d.pred, average = 'macro')\n",
    "    rec = recall_score(d.lab, d.pred, average = 'macro')\n",
    "    \n",
    "    # confusion matrix \n",
    "    c_matrix = confusion_matrix(d.lab, d.pred, normalize = 'true')\n",
    "\n",
    "    results.at[index, 'accur'] = acc\n",
    "    results.at[index, 'F1'] = f1\n",
    "    results.at[index, 'F0.5'] = f5\n",
    "    results.at[index, 'F2'] = f2\n",
    "    results.at[index, 'benign_accur'] = c_matrix[0,0]\n",
    "    results.at[index, 'noncancerous_accur'] = c_matrix[1,1]\n",
    "    results.at[index, 'malignant_accur'] = c_matrix[2,2]\n",
    "    results.at[index, 'infection_accur'] = c_matrix[3,3]\n",
    "    results.at[index, 'unclassified_accur'] = c_matrix[4,4]\n",
    "#     i+=1"
   ]
  },
  {
   "cell_type": "code",
   "execution_count": 12,
   "id": "d5eb545a",
   "metadata": {},
   "outputs": [],
   "source": [
    "results.to_csv('./results_gs2.csv')"
   ]
  },
  {
   "cell_type": "code",
   "execution_count": 33,
   "id": "be3ef498",
   "metadata": {},
   "outputs": [],
   "source": [
    "a = model_scores(d.lab, d.pred)"
   ]
  },
  {
   "cell_type": "code",
   "execution_count": 28,
   "id": "dee49c42",
   "metadata": {},
   "outputs": [],
   "source": [
    "def model_scores(true_labs, preds):\n",
    "    acc = accuracy_score(d.lab, d.pred)\n",
    "    f1 = f1_score(d.lab, d.pred, average = 'macro')\n",
    "    f2 = fbeta_score(d.lab, d.pred, average = 'macro', beta = 2)\n",
    "    f5 =  fbeta_score(d.lab, d.pred, average = 'macro', beta = .5)\n",
    "    prec = precision_score(d.lab, d.pred, average = 'macro')\n",
    "    rec = recall_score(d.lab, d.pred, average = 'macro')\n",
    "    \n",
    "    # confusion matrix & Diags\n",
    "    c_matrix = confusion_matrix(d.lab, d.pred, normalize = 'true')\n",
    "    d_0 = c_matrix[0,0]\n",
    "    d_1 = c_matrix[1,1]\n",
    "    d_2 = c_matrix[2,2]\n",
    "    d_3 = c_matrix[3,3]\n",
    "    d_4 = c_matrix[4,4]\n",
    "    \n",
    "    return acc, f1, f2, f5, prec, rec, d_0, d_1, d_2, d_3, d_4"
   ]
  },
  {
   "cell_type": "code",
   "execution_count": 35,
   "id": "4295dcf3",
   "metadata": {},
   "outputs": [
    {
     "data": {
      "text/plain": [
       "0.7022222222222222"
      ]
     },
     "execution_count": 35,
     "metadata": {},
     "output_type": "execute_result"
    }
   ],
   "source": [
    "a[0]"
   ]
  },
  {
   "cell_type": "code",
   "execution_count": 13,
   "id": "328a5645",
   "metadata": {},
   "outputs": [
    {
     "data": {
      "text/plain": [
       "Index(['file', 'tuned_model', 'transform', 'lr', 'pretrained_model',\n",
       "       'optimizer', 'epochs', 'num_classes', 'batch_size', 'workers',\n",
       "       'train_time', 'data_split', 'label_set', 'accur', 'F1', 'F0.5', 'F2',\n",
       "       'benign_accur', 'noncancerous_accur', 'malignant_accur',\n",
       "       'infection_accur', 'unclassified_accur'],\n",
       "      dtype='object')"
      ]
     },
     "execution_count": 13,
     "metadata": {},
     "output_type": "execute_result"
    }
   ],
   "source": [
    "results.columns"
   ]
  },
  {
   "cell_type": "code",
   "execution_count": null,
   "id": "42709aae",
   "metadata": {},
   "outputs": [],
   "source": []
  }
 ],
 "metadata": {
  "kernelspec": {
   "display_name": "conda_python3",
   "language": "python",
   "name": "conda_python3"
  },
  "language_info": {
   "codemirror_mode": {
    "name": "ipython",
    "version": 3
   },
   "file_extension": ".py",
   "mimetype": "text/x-python",
   "name": "python",
   "nbconvert_exporter": "python",
   "pygments_lexer": "ipython3",
   "version": "3.8.12"
  }
 },
 "nbformat": 4,
 "nbformat_minor": 5
}
