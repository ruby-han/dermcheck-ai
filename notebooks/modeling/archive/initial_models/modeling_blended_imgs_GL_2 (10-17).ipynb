{
 "cells": [
  {
   "cell_type": "markdown",
   "metadata": {
    "id": "nB6QjlVmr01i"
   },
   "source": [
    "# Modeling - First Pass"
   ]
  },
  {
   "cell_type": "markdown",
   "metadata": {
    "id": "Byvs21KGrutm"
   },
   "source": [
    "## Setup"
   ]
  },
  {
   "cell_type": "markdown",
   "metadata": {
    "id": "iVEzW45qsn4t"
   },
   "source": [
    "### Installs, Packages, Seeds"
   ]
  },
  {
   "cell_type": "code",
   "execution_count": 1,
   "metadata": {
    "colab": {
     "base_uri": "https://localhost:8080/"
    },
    "executionInfo": {
     "elapsed": 4178,
     "status": "ok",
     "timestamp": 1666063644988,
     "user": {
      "displayName": "Gerrit Lensink",
      "userId": "14030898330788478401"
     },
     "user_tz": 420
    },
    "id": "rUgahMpfsKKF",
    "outputId": "bfa57da3-ff3f-4a50-af97-c97447f67d1e"
   },
   "outputs": [
    {
     "name": "stdout",
     "output_type": "stream",
     "text": [
      "Looking in indexes: https://pypi.org/simple, https://pip.repos.neuron.amazonaws.com\n",
      "Requirement already satisfied: torch in /home/ec2-user/anaconda3/envs/python3/lib/python3.8/site-packages (1.12.1)\n",
      "Requirement already satisfied: typing-extensions in /home/ec2-user/anaconda3/envs/python3/lib/python3.8/site-packages (from torch) (4.0.0)\n",
      "\u001b[33mWARNING: You are using pip version 22.0.4; however, version 22.3 is available.\n",
      "You should consider upgrading via the '/home/ec2-user/anaconda3/envs/python3/bin/python -m pip install --upgrade pip' command.\u001b[0m\u001b[33m\n",
      "\u001b[0mNote: you may need to restart the kernel to use updated packages.\n",
      "Looking in indexes: https://pypi.org/simple, https://pip.repos.neuron.amazonaws.com\n",
      "Requirement already satisfied: torchvision in /home/ec2-user/anaconda3/envs/python3/lib/python3.8/site-packages (0.13.1)\n",
      "Requirement already satisfied: numpy in /home/ec2-user/anaconda3/envs/python3/lib/python3.8/site-packages (from torchvision) (1.20.3)\n",
      "Requirement already satisfied: typing-extensions in /home/ec2-user/anaconda3/envs/python3/lib/python3.8/site-packages (from torchvision) (4.0.0)\n",
      "Requirement already satisfied: requests in /home/ec2-user/anaconda3/envs/python3/lib/python3.8/site-packages (from torchvision) (2.26.0)\n",
      "Requirement already satisfied: pillow!=8.3.*,>=5.3.0 in /home/ec2-user/anaconda3/envs/python3/lib/python3.8/site-packages (from torchvision) (9.0.1)\n",
      "Requirement already satisfied: torch==1.12.1 in /home/ec2-user/anaconda3/envs/python3/lib/python3.8/site-packages (from torchvision) (1.12.1)\n",
      "Requirement already satisfied: certifi>=2017.4.17 in /home/ec2-user/anaconda3/envs/python3/lib/python3.8/site-packages (from requests->torchvision) (2021.10.8)\n",
      "Requirement already satisfied: urllib3<1.27,>=1.21.1 in /home/ec2-user/anaconda3/envs/python3/lib/python3.8/site-packages (from requests->torchvision) (1.26.8)\n",
      "Requirement already satisfied: idna<4,>=2.5 in /home/ec2-user/anaconda3/envs/python3/lib/python3.8/site-packages (from requests->torchvision) (3.1)\n",
      "Requirement already satisfied: charset-normalizer~=2.0.0 in /home/ec2-user/anaconda3/envs/python3/lib/python3.8/site-packages (from requests->torchvision) (2.0.8)\n",
      "\u001b[33mWARNING: You are using pip version 22.0.4; however, version 22.3 is available.\n",
      "You should consider upgrading via the '/home/ec2-user/anaconda3/envs/python3/bin/python -m pip install --upgrade pip' command.\u001b[0m\u001b[33m\n",
      "\u001b[0mNote: you may need to restart the kernel to use updated packages.\n"
     ]
    }
   ],
   "source": [
    "# %pip install efficientnet_pytorch\n",
    "%pip install torch\n",
    "%pip install torchvision"
   ]
  },
  {
   "cell_type": "code",
   "execution_count": 2,
   "metadata": {
    "executionInfo": {
     "elapsed": 9,
     "status": "ok",
     "timestamp": 1666063644989,
     "user": {
      "displayName": "Gerrit Lensink",
      "userId": "14030898330788478401"
     },
     "user_tz": 420
    },
    "id": "hGcQYrTsrhNM"
   },
   "outputs": [],
   "source": [
    "%matplotlib inline\n",
    "\n",
    "# python libraties\n",
    "import os\n",
    "import cv2\n",
    "import itertools\n",
    "import matplotlib.pyplot as plt\n",
    "import numpy as np\n",
    "import pandas as pd\n",
    "import time\n",
    "import seaborn as sns\n",
    "\n",
    "# import imblearn\n",
    "import logging\n",
    "from tqdm import tqdm\n",
    "from glob import glob\n",
    "from PIL import Image\n",
    "import ipywidgets\n",
    "\n",
    "# pytorch libraries\n",
    "import torch\n",
    "from torch import optim,nn\n",
    "from torch.autograd import Variable\n",
    "from torch.utils.data import DataLoader,Dataset\n",
    "from torchvision import models,transforms\n",
    "# from efficientnet_pytorch import EfficientNet\n",
    "\n",
    "# sklearn libraries\n",
    "from sklearn.metrics import confusion_matrix\n",
    "from sklearn.model_selection import train_test_split\n",
    "from sklearn.metrics import classification_report\n",
    "\n",
    "# google drive\n",
    "# from google.colab import drive # Connect colab to google drive"
   ]
  },
  {
   "cell_type": "code",
   "execution_count": 3,
   "metadata": {
    "executionInfo": {
     "elapsed": 7,
     "status": "ok",
     "timestamp": 1666063644989,
     "user": {
      "displayName": "Gerrit Lensink",
      "userId": "14030898330788478401"
     },
     "user_tz": 420
    },
    "id": "QdXZmteXsArn"
   },
   "outputs": [],
   "source": [
    "# Set Seeds\n",
    "seed = 99 # go Aaron Judge!\n",
    "np.random.seed(seed)\n",
    "torch.cuda.manual_seed(seed)\n",
    "\n",
    "\n",
    "# Logging\n",
    "logging.basicConfig(format='%(levelname)s:%(message)s', level=logging.INFO)"
   ]
  },
  {
   "cell_type": "markdown",
   "metadata": {
    "id": "WtiFA177sreH"
   },
   "source": [
    "### Mount to Google drive to connect to data"
   ]
  },
  {
   "cell_type": "code",
   "execution_count": 93,
   "metadata": {
    "colab": {
     "base_uri": "https://localhost:8080/"
    },
    "executionInfo": {
     "elapsed": 1247,
     "status": "ok",
     "timestamp": 1666063646229,
     "user": {
      "displayName": "Gerrit Lensink",
      "userId": "14030898330788478401"
     },
     "user_tz": 420
    },
    "id": "L4aqVfhAsqso",
    "outputId": "345d3cbe-905e-4543-f977-fc89db50cf3f"
   },
   "outputs": [
    {
     "name": "stdout",
     "output_type": "stream",
     "text": [
      "Drive already mounted at /drive; to attempt to forcibly remount, call drive.mount(\"/drive\", force_remount=True).\n",
      "/drive/.shortcut-targets-by-id/1oLqejM9KnDiIgUupEGkxGM3_vdqboxlI/W210 - Capstone\n"
     ]
    }
   ],
   "source": [
    "# drive.mount('/drive') \n",
    "# %cd /drive/MyDrive/W210 - Capstone/"
   ]
  },
  {
   "cell_type": "code",
   "execution_count": 94,
   "metadata": {
    "colab": {
     "base_uri": "https://localhost:8080/"
    },
    "executionInfo": {
     "elapsed": 255,
     "status": "ok",
     "timestamp": 1666063646478,
     "user": {
      "displayName": "Gerrit Lensink",
      "userId": "14030898330788478401"
     },
     "user_tz": 420
    },
    "id": "CEnlutDO2P29",
    "outputId": "a44e392c-b4a2-4517-c4c5-747166046873"
   },
   "outputs": [
    {
     "name": "stdout",
     "output_type": "stream",
     "text": [
      " \u001b[0m\u001b[01;34marchive\u001b[0m/                      \u001b[01;34mdiverse_stanford\u001b[0m/           \u001b[01;34mkaggle\u001b[0m/\n",
      "'Data Classification.gsheet'   \u001b[01;34mdiverse_stanford_resized\u001b[0m/   problems.csv\n",
      " data_dictionary.csv           full_data.csv               problems.gsheet\n",
      " data_dictionary.gsheet        \u001b[01;34mISIC_2018\u001b[0m/                  \u001b[01;34mUCI\u001b[0m/\n",
      " \u001b[01;34mdermnet\u001b[0m/                      \u001b[01;34mISIC_2020\u001b[0m/\n"
     ]
    }
   ],
   "source": [
    "# %ls Data/"
   ]
  },
  {
   "cell_type": "code",
   "execution_count": 4,
   "metadata": {
    "executionInfo": {
     "elapsed": 5,
     "status": "ok",
     "timestamp": 1666063646478,
     "user": {
      "displayName": "Gerrit Lensink",
      "userId": "14030898330788478401"
     },
     "user_tz": 420
    },
    "id": "H9mbVDYjtMR3"
   },
   "outputs": [],
   "source": [
    "# data_dir = './Data/'\n",
    "HOME = '/home/ec2-user/SageMaker/teledermatologyAI_capstone'"
   ]
  },
  {
   "cell_type": "markdown",
   "metadata": {
    "id": "576JOVVyzMBp"
   },
   "source": [
    "## Data"
   ]
  },
  {
   "cell_type": "markdown",
   "metadata": {
    "id": "rO4tFvUP2aMa"
   },
   "source": [
    "### Load in full_csv which has all of the image paths"
   ]
  },
  {
   "cell_type": "code",
   "execution_count": 96,
   "metadata": {
    "executionInfo": {
     "elapsed": 5,
     "status": "ok",
     "timestamp": 1666063646479,
     "user": {
      "displayName": "Gerrit Lensink",
      "userId": "14030898330788478401"
     },
     "user_tz": 420
    },
    "id": "8vTP-KFt5FQh"
   },
   "outputs": [],
   "source": [
    "\n",
    "# exclude = ['subcutaneous-t-cell-lymphoma', \n",
    "# 'foreign-body-granuloma',\n",
    "# 'morphea', \n",
    "# 'dermatomyositis', \n",
    "# 'graft-vs-host-disease']"
   ]
  },
  {
   "cell_type": "code",
   "execution_count": 42,
   "metadata": {
    "executionInfo": {
     "elapsed": 5,
     "status": "ok",
     "timestamp": 1666063646479,
     "user": {
      "displayName": "Gerrit Lensink",
      "userId": "14030898330788478401"
     },
     "user_tz": 420
    },
    "id": "gG-SRSGi7NEZ"
   },
   "outputs": [],
   "source": [
    "split = 'split_2'\n",
    "cl = 'label_0'"
   ]
  },
  {
   "cell_type": "code",
   "execution_count": 69,
   "metadata": {
    "executionInfo": {
     "elapsed": 217,
     "status": "ok",
     "timestamp": 1666063646692,
     "user": {
      "displayName": "Gerrit Lensink",
      "userId": "14030898330788478401"
     },
     "user_tz": 420
    },
    "id": "d3orkAJ42dxl"
   },
   "outputs": [],
   "source": [
    "dev_state = False\n",
    "dev_sample = 15000\n",
    "\n",
    "data = pd.read_csv(HOME + '/full_data.csv', index_col = 0).rename(columns = {'duplicated': 'duplicate', 'class':'label_0'})\n",
    "data = data[data['label_0'] != 'Autoimmue Disorder']\n",
    "data['label_idx'] = pd.Categorical(data[cl]).codes\n",
    "small_data = data.sample(n = dev_sample, random_state = seed)\n",
    "data.rename(columns = {'dataset':'split_0', split:'dataset'}, inplace = True)\n",
    "\n",
    "\n"
   ]
  },
  {
   "cell_type": "code",
   "execution_count": 95,
   "metadata": {},
   "outputs": [],
   "source": []
  },
  {
   "cell_type": "code",
   "execution_count": 44,
   "metadata": {
    "executionInfo": {
     "elapsed": 217,
     "status": "ok",
     "timestamp": 1666063646907,
     "user": {
      "displayName": "Gerrit Lensink",
      "userId": "14030898330788478401"
     },
     "user_tz": 420
    },
    "id": "BFEmXBLRqyDM"
   },
   "outputs": [],
   "source": [
    "if dev_state:\n",
    "  data = small_data"
   ]
  },
  {
   "cell_type": "markdown",
   "metadata": {
    "id": "5Bk97ZrtoCVZ"
   },
   "source": [
    "### Get our final train and test sets"
   ]
  },
  {
   "cell_type": "code",
   "execution_count": 96,
   "metadata": {
    "executionInfo": {
     "elapsed": 15,
     "status": "ok",
     "timestamp": 1666063646907,
     "user": {
      "displayName": "Gerrit Lensink",
      "userId": "14030898330788478401"
     },
     "user_tz": 420
    },
    "id": "m6W3aAwJnZRj"
   },
   "outputs": [],
   "source": [
    "train_df = data[data.dataset == 'train'].reset_index(drop = True)\n",
    "val_df = data[data.dataset == 'val'].reset_index(drop = True)\n",
    "test_df = data[data.dataset == 'test'].reset_index(drop = True)"
   ]
  },
  {
   "cell_type": "code",
   "execution_count": 101,
   "metadata": {
    "executionInfo": {
     "elapsed": 15,
     "status": "ok",
     "timestamp": 1666063646908,
     "user": {
      "displayName": "Gerrit Lensink",
      "userId": "14030898330788478401"
     },
     "user_tz": 420
    },
    "id": "b67w2_Joopms"
   },
   "outputs": [],
   "source": [
    "# logging.info(\"df train\"+str(df_train.shape))\n",
    "# logging.info(\"df val\"+str(df_val.shape))"
   ]
  },
  {
   "cell_type": "markdown",
   "metadata": {
    "id": "2TaPtH1nqVCm"
   },
   "source": [
    "## Modeling"
   ]
  },
  {
   "cell_type": "markdown",
   "metadata": {
    "id": "zV8Kq9caqc_m"
   },
   "source": [
    "## Setup"
   ]
  },
  {
   "cell_type": "code",
   "execution_count": 101,
   "metadata": {
    "executionInfo": {
     "elapsed": 15,
     "status": "ok",
     "timestamp": 1666063646908,
     "user": {
      "displayName": "Gerrit Lensink",
      "userId": "14030898330788478401"
     },
     "user_tz": 420
    },
    "id": "ZJESBIlpqcCr"
   },
   "outputs": [],
   "source": []
  },
  {
   "cell_type": "code",
   "execution_count": 99,
   "metadata": {
    "executionInfo": {
     "elapsed": 14,
     "status": "ok",
     "timestamp": 1666063646908,
     "user": {
      "displayName": "Gerrit Lensink",
      "userId": "14030898330788478401"
     },
     "user_tz": 420
    },
    "id": "YrnSBPziozXl"
   },
   "outputs": [],
   "source": [
    "# feature_extract is a boolean that defines if we are finetuning or feature extracting. \n",
    "# If feature_extract = False, the model is finetuned and all model parameters are updated. \n",
    "# If feature_extract = True, only the last layer parameters are updated, the others remain fixed.\n",
    "def set_parameter_requires_grad(model, feature_extracting):\n",
    "    if feature_extracting:\n",
    "        for param in model.parameters():\n",
    "            param.requires_grad = False"
   ]
  },
  {
   "cell_type": "code",
   "execution_count": 100,
   "metadata": {
    "executionInfo": {
     "elapsed": 15,
     "status": "ok",
     "timestamp": 1666063646909,
     "user": {
      "displayName": "Gerrit Lensink",
      "userId": "14030898330788478401"
     },
     "user_tz": 420
    },
    "id": "OZqprmSVqoIn"
   },
   "outputs": [],
   "source": [
    "def initialize_model(model_name, num_classes, feature_extract, use_pretrained=True):\n",
    "    # Initialize these variables which will be set in this if statement. Each of these\n",
    "    #   variables is model specific.\n",
    "    model_ft = None\n",
    "    input_size = 0\n",
    "\n",
    "    if model_name == \"resnet\":\n",
    "        \"\"\" Resnet18, resnet34, resnet50, resnet101\n",
    "        \"\"\"\n",
    "        model_ft = models.resnet50(pretrained=use_pretrained)\n",
    "        set_parameter_requires_grad(model_ft, feature_extract)\n",
    "        num_ftrs = model_ft.fc.in_features\n",
    "        model_ft.fc = nn.Linear(num_ftrs, num_classes)\n",
    "        input_size = 224\n",
    "\n",
    "\n",
    "    elif model_name == \"vgg\":\n",
    "        \"\"\" VGG11_bn\n",
    "        \"\"\"\n",
    "        model_ft = models.vgg11_bn(pretrained=use_pretrained)\n",
    "        set_parameter_requires_grad(model_ft, feature_extract)\n",
    "        num_ftrs = model_ft.classifier[6].in_features\n",
    "        model_ft.classifier[6] = nn.Linear(num_ftrs,num_classes)\n",
    "        input_size = 224\n",
    "\n",
    "\n",
    "    elif model_name == \"densenet\":\n",
    "        \"\"\" Densenet121\n",
    "        \"\"\"\n",
    "#         model_ft = models.densenet121(pretrained=use_pretrained)\n",
    "        model_ft = models.densenet201(pretrained=use_pretrained)\n",
    "        print(type(model_ft))\n",
    "        print(feature_extract)\n",
    "        set_parameter_requires_grad(model_ft, feature_extract)\n",
    "        num_ftrs = model_ft.classifier.in_features\n",
    "        model_ft.classifier = nn.Linear(num_ftrs, num_classes)\n",
    "        input_size = 224\n",
    "\n",
    "    elif model_name == \"inception\":\n",
    "        \"\"\" Inception v3\n",
    "        Be careful, expects (299,299) sized images and has auxiliary output\n",
    "        \"\"\"\n",
    "        model_ft = models.inception_v3(pretrained=use_pretrained)\n",
    "        set_parameter_requires_grad(model_ft, feature_extract)\n",
    "        # Handle the auxilary net\n",
    "        num_ftrs = model_ft.AuxLogits.fc.in_features\n",
    "        model_ft.AuxLogits.fc = nn.Linear(num_ftrs, num_classes)\n",
    "        # Handle the primary net\n",
    "        num_ftrs = model_ft.fc.in_features\n",
    "        model_ft.fc = nn.Linear(num_ftrs,num_classes)\n",
    "        input_size = 299\n",
    "        \n",
    "    elif model_name == 'efficientnet':\n",
    "        model_ft = EfficientNet.from_pretrained('efficientnet-b7',num_classes=num_classes)\n",
    "        set_parameter_requires_grad(model_ft, feature_extract)\n",
    "\n",
    "#         # Handle the primary net\n",
    "#         num_ftrs = model_ft.fc.in_features\n",
    "#         model_ft.fc = nn.Linear(num_ftrs,num_classes)\n",
    "        input_size = 600\n",
    "\n",
    "    else:\n",
    "        print(\"Invalid model name, exiting...\")\n",
    "        exit()\n",
    "    return model_ft, input_size"
   ]
  },
  {
   "cell_type": "markdown",
   "metadata": {
    "id": "dCrm79KrsM4Q"
   },
   "source": [
    "Set up the GPU"
   ]
  },
  {
   "cell_type": "code",
   "execution_count": 101,
   "metadata": {
    "colab": {
     "base_uri": "https://localhost:8080/"
    },
    "executionInfo": {
     "elapsed": 14,
     "status": "ok",
     "timestamp": 1666063646909,
     "user": {
      "displayName": "Gerrit Lensink",
      "userId": "14030898330788478401"
     },
     "user_tz": 420
    },
    "id": "FHfVOZMnq4QB",
    "outputId": "03be4489-121c-4452-d967-85f1f9f8c8e4"
   },
   "outputs": [
    {
     "name": "stdout",
     "output_type": "stream",
     "text": [
      "GPU Type: Tesla T4\n",
      "GPU Count: 1\n"
     ]
    }
   ],
   "source": [
    "print('GPU Type:', torch.cuda.get_device_name())\n",
    "print('GPU Count:', torch.cuda.device_count())"
   ]
  },
  {
   "cell_type": "code",
   "execution_count": 102,
   "metadata": {
    "colab": {
     "base_uri": "https://localhost:8080/"
    },
    "executionInfo": {
     "elapsed": 12,
     "status": "ok",
     "timestamp": 1666063646909,
     "user": {
      "displayName": "Gerrit Lensink",
      "userId": "14030898330788478401"
     },
     "user_tz": 420
    },
    "id": "4k-MDKEJrhxm",
    "outputId": "1e9f8e46-51ac-4452-f13c-5367c7e698ec"
   },
   "outputs": [
    {
     "data": {
      "text/plain": [
       "5"
      ]
     },
     "execution_count": 102,
     "metadata": {},
     "output_type": "execute_result"
    }
   ],
   "source": [
    "# len(data[cl].unique())\n",
    "len(data.label.unique())"
   ]
  },
  {
   "cell_type": "code",
   "execution_count": 103,
   "metadata": {
    "executionInfo": {
     "elapsed": 659,
     "status": "ok",
     "timestamp": 1666063647877,
     "user": {
      "displayName": "Gerrit Lensink",
      "userId": "14030898330788478401"
     },
     "user_tz": 420
    },
    "id": "1lBHrD3vqpUJ"
   },
   "outputs": [],
   "source": [
    "# See notes in ln 498-500: https://github.com/abajaj25/MNIST-Skin-Cancer-with-Jetson/blob/main/notebooks/Final_Model/modeling-images-only-efficient.py\n",
    "# resnet,vgg,densenet,inception\n",
    "model_name = 'resnet' # 'efficientnet'\n",
    "# num_classes = len(data[cl].unique())\n",
    "num_classes = len(data.label.unique())\n",
    "feature_extract = False\n",
    "# Initialize the model for this run\n",
    "model_ft, input_size = initialize_model(model_name, num_classes, feature_extract, use_pretrained=True)\n",
    "# # Define the device:\n",
    "device = torch.device('cuda:0')\n",
    "# # Put the model on the device:\n",
    "model = model_ft.to(device)"
   ]
  },
  {
   "cell_type": "markdown",
   "metadata": {
    "id": "9jewnveQy1FN"
   },
   "source": [
    "Transforms"
   ]
  },
  {
   "cell_type": "code",
   "execution_count": 107,
   "metadata": {
    "executionInfo": {
     "elapsed": 16,
     "status": "ok",
     "timestamp": 1666063647878,
     "user": {
      "displayName": "Gerrit Lensink",
      "userId": "14030898330788478401"
     },
     "user_tz": 420
    },
    "id": "19UAI6QbR-xg"
   },
   "outputs": [],
   "source": [
    "# torch.cuda.empty_cache()"
   ]
  },
  {
   "cell_type": "code",
   "execution_count": 108,
   "metadata": {
    "executionInfo": {
     "elapsed": 15,
     "status": "ok",
     "timestamp": 1666063647878,
     "user": {
      "displayName": "Gerrit Lensink",
      "userId": "14030898330788478401"
     },
     "user_tz": 420
    },
    "id": "xJ7lgOfPw8n7"
   },
   "outputs": [],
   "source": [
    "# # using torch vision 'transforms'\n",
    "# train_transform = transforms.Compose([\n",
    "#                                         transforms.Resize((input_size,input_size)),\n",
    "#                                     #   transforms.RandomHorizontalFlip(),\n",
    "#                                     #   transforms.RandomVerticalFlip(),transforms.RandomRotation(20),\n",
    "#                                     #   transforms.RandomCrop(size=(input_size,input_size)),\n",
    "# #                                       transforms.RandomInvert(), transforms.RandomPosterize(bits=2),\n",
    "# #                                       transforms.RandomAdjustSharpness(sharpness_factor=2),\n",
    "# #                                       transforms.RandomSolarize(threshold=192.0),\n",
    "# #                                       transforms.ColorJitter(brightness=0.1, contrast=0.1, hue=0.1),\n",
    "#                                         transforms.ToTensor(), \n",
    "#                                     #   transforms.Normalize(norm_mean, norm_std)\n",
    "#                                       ])\n",
    "# # define the transformation of the val images.\n",
    "# val_transform = transforms.Compose([\n",
    "#                                     transforms.Resize((input_size,input_size)), \n",
    "#                                     transforms.ToTensor(),\n",
    "#                                     # transforms.Normalize(norm_mean, norm_std)\n",
    "#                                     ])"
   ]
  },
  {
   "cell_type": "code",
   "execution_count": 104,
   "metadata": {
    "executionInfo": {
     "elapsed": 14,
     "status": "ok",
     "timestamp": 1666063647878,
     "user": {
      "displayName": "Gerrit Lensink",
      "userId": "14030898330788478401"
     },
     "user_tz": 420
    },
    "id": "L_7ROxXWKtfZ"
   },
   "outputs": [],
   "source": [
    "# using torch vision 'transforms'\n",
    "train_transform = transforms.Compose([\n",
    "                                        transforms.Resize(255),\n",
    "                                        transforms.CenterCrop(224),\n",
    "                                    #   transforms.RandomHorizontalFlip(),\n",
    "                                    #   transforms.RandomVerticalFlip(),transforms.RandomRotation(20),\n",
    "                                    #   transforms.RandomCrop(size=(input_size,input_size)),\n",
    "#                                       transforms.RandomInvert(), transforms.RandomPosterize(bits=2),\n",
    "#                                       transforms.RandomAdjustSharpness(sharpness_factor=2),\n",
    "#                                       transforms.RandomSolarize(threshold=192.0),\n",
    "#                                       transforms.ColorJitter(brightness=0.1, contrast=0.1, hue=0.1),\n",
    "                                        transforms.ToTensor(), \n",
    "                                        transforms.Normalize(mean=[.541, .414, .382], std=[.256,.215,.209])\n",
    "                                      ])\n",
    "# define the transformation of the val images. also used for test\n",
    "val_transform = transforms.Compose([\n",
    "                                        transforms.Resize(255),\n",
    "                                        transforms.CenterCrop(224),\n",
    "                                        transforms.ToTensor(), \n",
    "                                        transforms.Normalize(mean=[.541, .414, .382], std=[.256,.215,.209])\n",
    "                                    ])"
   ]
  },
  {
   "cell_type": "markdown",
   "metadata": {
    "id": "nnigUvm8scEp"
   },
   "source": [
    "Pytorch Data Loader"
   ]
  },
  {
   "cell_type": "code",
   "execution_count": 77,
   "metadata": {
    "executionInfo": {
     "elapsed": 15,
     "status": "ok",
     "timestamp": 1666063647879,
     "user": {
      "displayName": "Gerrit Lensink",
      "userId": "14030898330788478401"
     },
     "user_tz": 420
    },
    "id": "esg9Jg4wsHgK"
   },
   "outputs": [],
   "source": [
    "class HAM10000(Dataset):\n",
    "    def __init__(self, df, transform=None):\n",
    "        self.df = df\n",
    "        self.transform = transform\n",
    "\n",
    "    def __len__(self):\n",
    "        return len(self.df)\n",
    "\n",
    "    def __getitem__(self, index):\n",
    "        # Load data and get label\n",
    "        X = Image.open(self.df['path'][index]).convert('RGB')\n",
    "        \n",
    "        y = torch.tensor(int(self.df['label_idx'][index]))\n",
    "\n",
    "        if self.transform:\n",
    "            X = self.transform(X)\n",
    "\n",
    "        return X, y"
   ]
  },
  {
   "cell_type": "code",
   "execution_count": 78,
   "metadata": {
    "executionInfo": {
     "elapsed": 14,
     "status": "ok",
     "timestamp": 1666063647879,
     "user": {
      "displayName": "Gerrit Lensink",
      "userId": "14030898330788478401"
     },
     "user_tz": 420
    },
    "id": "he9xbEYpst1X"
   },
   "outputs": [],
   "source": [
    "# Only selecting the columns we need from train and val"
   ]
  },
  {
   "cell_type": "code",
   "execution_count": 79,
   "metadata": {
    "executionInfo": {
     "elapsed": 14,
     "status": "ok",
     "timestamp": 1666063647879,
     "user": {
      "displayName": "Gerrit Lensink",
      "userId": "14030898330788478401"
     },
     "user_tz": 420
    },
    "id": "TZfBVOjo0L4N"
   },
   "outputs": [],
   "source": [
    "# Image.open(train['path'][0])"
   ]
  },
  {
   "cell_type": "code",
   "execution_count": 80,
   "metadata": {
    "executionInfo": {
     "elapsed": 14,
     "status": "ok",
     "timestamp": 1666063647880,
     "user": {
      "displayName": "Gerrit Lensink",
      "userId": "14030898330788478401"
     },
     "user_tz": 420
    },
    "id": "KRu51Xqsuiy2"
   },
   "outputs": [],
   "source": [
    "model_cols = ['path', cl, 'label_idx']"
   ]
  },
  {
   "cell_type": "code",
   "execution_count": 81,
   "metadata": {},
   "outputs": [
    {
     "data": {
      "text/plain": [
       "['path', 'label_0', 'label_idx']"
      ]
     },
     "execution_count": 81,
     "metadata": {},
     "output_type": "execute_result"
    }
   ],
   "source": [
    "model_cols"
   ]
  },
  {
   "cell_type": "code",
   "execution_count": 54,
   "metadata": {
    "executionInfo": {
     "elapsed": 14,
     "status": "ok",
     "timestamp": 1666063647880,
     "user": {
      "displayName": "Gerrit Lensink",
      "userId": "14030898330788478401"
     },
     "user_tz": 420
    },
    "id": "WCz_GTrrx51v"
   },
   "outputs": [],
   "source": [
    "# next(iter(train_loader))"
   ]
  },
  {
   "cell_type": "code",
   "execution_count": 82,
   "metadata": {
    "executionInfo": {
     "elapsed": 13,
     "status": "ok",
     "timestamp": 1666063647880,
     "user": {
      "displayName": "Gerrit Lensink",
      "userId": "14030898330788478401"
     },
     "user_tz": 420
    },
    "id": "0rn7lX-8sjQi"
   },
   "outputs": [],
   "source": [
    "train_df = train_df[model_cols].reset_index(drop = True)\n",
    "val_df = val_df[model_cols].reset_index(drop = True)\n",
    "test_df = test_df[model_cols].reset_index(drop = True)"
   ]
  },
  {
   "cell_type": "code",
   "execution_count": 83,
   "metadata": {
    "executionInfo": {
     "elapsed": 14,
     "status": "ok",
     "timestamp": 1666063647881,
     "user": {
      "displayName": "Gerrit Lensink",
      "userId": "14030898330788478401"
     },
     "user_tz": 420
    },
    "id": "twmPqhoWskPV"
   },
   "outputs": [],
   "source": [
    "training_set = HAM10000(train_df, transform = train_transform)\n",
    "train_loader = DataLoader(training_set, batch_size= 64, \n",
    "                          shuffle=True, num_workers=24)\n",
    "\n",
    "val_set = HAM10000(val_df, transform = val_transform)\n",
    "val_loader = DataLoader(val_set, batch_size= 64, \n",
    "                          shuffle=False, num_workers=24)\n",
    "\n",
    "test_set = HAM10000(test_df, transform = val_transform)\n",
    "test_loader = DataLoader(test_set, batch_size= 64, \n",
    "                          shuffle=False, num_workers=24)\n"
   ]
  },
  {
   "cell_type": "code",
   "execution_count": 84,
   "metadata": {
    "executionInfo": {
     "elapsed": 14,
     "status": "ok",
     "timestamp": 1666063647881,
     "user": {
      "displayName": "Gerrit Lensink",
      "userId": "14030898330788478401"
     },
     "user_tz": 420
    },
    "id": "3MmauKD0s6Mi"
   },
   "outputs": [],
   "source": [
    "# Set model params\n",
    "optimizer = optim.SGD(model.parameters(), lr=0.002)\n",
    "criterion = nn.CrossEntropyLoss().to(device)"
   ]
  },
  {
   "cell_type": "markdown",
   "metadata": {
    "id": "CZGBi_-2wEk8"
   },
   "source": [
    "Class to Track metrics during training"
   ]
  },
  {
   "cell_type": "code",
   "execution_count": 85,
   "metadata": {
    "executionInfo": {
     "elapsed": 13,
     "status": "ok",
     "timestamp": 1666063647881,
     "user": {
      "displayName": "Gerrit Lensink",
      "userId": "14030898330788478401"
     },
     "user_tz": 420
    },
    "id": "TcIjhtk_u6UO"
   },
   "outputs": [],
   "source": [
    "class AverageMeter(object):\n",
    "    def __init__(self):\n",
    "        self.reset()\n",
    "\n",
    "    def reset(self):\n",
    "        self.val = 0\n",
    "        self.avg = 0\n",
    "        self.sum = 0\n",
    "        self.count = 0\n",
    "\n",
    "    def update(self, val, n=1):\n",
    "        self.val = val\n",
    "        self.sum += val * n\n",
    "        self.count += n\n",
    "        self.avg = self.sum / self.count"
   ]
  },
  {
   "cell_type": "markdown",
   "metadata": {
    "id": "j_HiMEG8wN-x"
   },
   "source": [
    "Define train function"
   ]
  },
  {
   "cell_type": "code",
   "execution_count": 86,
   "metadata": {
    "executionInfo": {
     "elapsed": 14,
     "status": "ok",
     "timestamp": 1666063647882,
     "user": {
      "displayName": "Gerrit Lensink",
      "userId": "14030898330788478401"
     },
     "user_tz": 420
    },
    "id": "cR1k9diYwLf5"
   },
   "outputs": [],
   "source": [
    "total_loss_train, total_acc_train = [],[]\n",
    "def train(train_loader, model, criterion, optimizer, epoch):\n",
    "    model.train()\n",
    "    train_loss = AverageMeter()\n",
    "    train_acc = AverageMeter()\n",
    "    curr_iter = (epoch - 1) * len(train_loader)\n",
    "\n",
    "    for i, data in enumerate(train_loader):\n",
    "        images, labels = data\n",
    "        N = images.size(0)\n",
    "        # print('image shape:',images.size(0), 'label shape',labels.size(0))\n",
    "        images = Variable(images).to(device)\n",
    "        labels = Variable(labels).to(device)\n",
    "        \n",
    "        optimizer.zero_grad()\n",
    "        outputs = model(images)\n",
    "\n",
    "        loss = criterion(outputs, labels)\n",
    "        loss.backward()\n",
    "        optimizer.step()\n",
    "        prediction = outputs.max(1, keepdim=True)[1]\n",
    "        train_acc.update(prediction.eq(labels.view_as(prediction)).sum().item()/N)\n",
    "        train_loss.update(loss.item())\n",
    "        curr_iter += 1\n",
    "        if (i + 1) % 100 == 0:\n",
    "#         if (i + 1) % 1 == 0:\n",
    "            print(f'[epoch {epoch}], [iter {i+1} of {len(train_loader)}],[train loss {train_loss.avg:.5f}], [train acc {train_acc.avg:.5f}]')\n",
    "            total_loss_train.append(train_loss.avg)\n",
    "            total_acc_train.append(train_acc.avg)\n",
    "    return train_loss.avg, train_acc.avg\n",
    "    print('finished train data load')"
   ]
  },
  {
   "cell_type": "markdown",
   "metadata": {
    "id": "FjoA-pKzwSHn"
   },
   "source": [
    "Define val function"
   ]
  },
  {
   "cell_type": "code",
   "execution_count": 87,
   "metadata": {
    "executionInfo": {
     "elapsed": 13,
     "status": "ok",
     "timestamp": 1666063647882,
     "user": {
      "displayName": "Gerrit Lensink",
      "userId": "14030898330788478401"
     },
     "user_tz": 420
    },
    "id": "NVFDywvCwQqD"
   },
   "outputs": [],
   "source": [
    "def validate(val_loader, model, criterion, optimizer, epoch):\n",
    "    model.eval()\n",
    "    val_loss = AverageMeter()\n",
    "    val_acc = AverageMeter()\n",
    "    with torch.no_grad():\n",
    "        for i, data in enumerate(val_loader):\n",
    "            images, labels = data\n",
    "            N = images.size(0)\n",
    "            images = Variable(images).to(device)\n",
    "            labels = Variable(labels).to(device)\n",
    "\n",
    "            outputs = model(images)\n",
    "            prediction = outputs.max(1, keepdim=True)[1]\n",
    "\n",
    "            val_acc.update(prediction.eq(labels.view_as(prediction)).sum().item()/N)\n",
    "\n",
    "            val_loss.update(criterion(outputs, labels).item())\n",
    "\n",
    "    print('------------------------------------------------------------')\n",
    "    print(f'[epoch {epoch}], [val loss {val_loss.avg:.5f}], [val acc {val_acc.avg:.5f}]')\n",
    "    print('------------------------------------------------------------')\n",
    "    return val_loss.avg, val_acc.avg"
   ]
  },
  {
   "cell_type": "code",
   "execution_count": 88,
   "metadata": {
    "executionInfo": {
     "elapsed": 13,
     "status": "ok",
     "timestamp": 1666063647882,
     "user": {
      "displayName": "Gerrit Lensink",
      "userId": "14030898330788478401"
     },
     "user_tz": 420
    },
    "id": "i3hav7ENJDj2"
   },
   "outputs": [],
   "source": [
    "def test(test_loader, model):\n",
    "    model.eval()\n",
    "    true_labels = []\n",
    "    predictions_out = []\n",
    "\n",
    "    test_loss = AverageMeter()\n",
    "    test_acc = AverageMeter()\n",
    "    with torch.no_grad():\n",
    "        for i, data in enumerate(test_loader):\n",
    "            images, labels = data\n",
    "            N = images.size(0)\n",
    "            images = Variable(images).to(device)\n",
    "            labels = Variable(labels).to(device)\n",
    "\n",
    "            outputs = model(images)\n",
    "            prediction = outputs.max(1, keepdim=True)[1]\n",
    "\n",
    "            # Save test output\n",
    "            predictions_out.append(prediction.cpu().numpy())\n",
    "            true_labels.append(labels.cpu().numpy())\n",
    "\n",
    "            test_acc.update(prediction.eq(labels.view_as(prediction)).sum().item()/N)\n",
    "\n",
    "            test_loss.update(criterion(outputs, labels).item())\n",
    "\n",
    "    print('------------------------------------------------------------')\n",
    "    print(f'[test loss {test_loss.avg:.5f}], [test acc {test_acc.avg:.5f}]')\n",
    "    print('------------------------------------------------------------')\n",
    "    return test_loss.avg, test_acc.avg, predictions_out, true_labels"
   ]
  },
  {
   "cell_type": "markdown",
   "metadata": {
    "id": "TaUNPyrOwYnP"
   },
   "source": [
    "Run the model"
   ]
  },
  {
   "cell_type": "code",
   "execution_count": 89,
   "metadata": {},
   "outputs": [
    {
     "name": "stdout",
     "output_type": "stream",
     "text": [
      "/home/ec2-user/SageMaker/teledermatologyAI_capstone\n"
     ]
    }
   ],
   "source": [
    "cd $HOME"
   ]
  },
  {
   "cell_type": "markdown",
   "metadata": {
    "id": "OJRXeTZDqtLA"
   },
   "source": [
    "## Train Sequence"
   ]
  },
  {
   "cell_type": "code",
   "execution_count": 90,
   "metadata": {},
   "outputs": [
    {
     "name": "stdout",
     "output_type": "stream",
     "text": [
      "Starting Training\n",
      "[epoch 1], [iter 100 of 399],[train loss 1.06642], [train acc 0.57766]\n",
      "[epoch 1], [iter 200 of 399],[train loss 0.98232], [train acc 0.60742]\n",
      "[epoch 1], [iter 300 of 399],[train loss 0.93686], [train acc 0.62406]\n",
      "------------------------------------------------------------\n",
      "[epoch 1], [val loss 0.81004], [val acc 0.66984]\n",
      "------------------------------------------------------------\n",
      "\n",
      "EPOCH 1 :\n",
      "*****************************************************\n",
      "Complete in 4m 6s\n",
      "best record: [epoch 1], [val loss 0.81004], [val acc 0.66984]\n",
      "*****************************************************\n",
      "[epoch 2], [iter 100 of 399],[train loss 0.79106], [train acc 0.67547]\n",
      "[epoch 2], [iter 200 of 399],[train loss 0.78667], [train acc 0.67695]\n",
      "[epoch 2], [iter 300 of 399],[train loss 0.77941], [train acc 0.67875]\n",
      "------------------------------------------------------------\n",
      "[epoch 2], [val loss 0.75611], [val acc 0.68606]\n",
      "------------------------------------------------------------\n",
      "\n",
      "EPOCH 2 :\n",
      "*****************************************************\n",
      "Complete in 4m 6s\n",
      "best record: [epoch 2], [val loss 0.75611], [val acc 0.68606]\n",
      "*****************************************************\n",
      "[epoch 3], [iter 100 of 399],[train loss 0.72714], [train acc 0.70297]\n",
      "[epoch 3], [iter 200 of 399],[train loss 0.72644], [train acc 0.70742]\n",
      "[epoch 3], [iter 300 of 399],[train loss 0.71781], [train acc 0.70859]\n",
      "------------------------------------------------------------\n",
      "[epoch 3], [val loss 0.72438], [val acc 0.69887]\n",
      "------------------------------------------------------------\n",
      "\n",
      "EPOCH 3 :\n",
      "*****************************************************\n",
      "Complete in 4m 5s\n",
      "best record: [epoch 3], [val loss 0.72438], [val acc 0.69887]\n",
      "*****************************************************\n",
      "\n",
      "Total run Complete in 12m 17s\n"
     ]
    }
   ],
   "source": [
    "model_name = 'resnet_split2_3e_2'\n",
    "epoch_num = 3\n",
    "best_val_acc = 0\n",
    "total_loss_val, total_acc_val = [],[]\n",
    "print(\"Starting Training\")\n",
    "total_since = time.time()\n",
    "for epoch in range(1, epoch_num+1):\n",
    "\n",
    "    # timing\n",
    "    since = time.time()\n",
    "\n",
    "    loss_train, acc_train = train(train_loader, model, criterion, optimizer, epoch)\n",
    "    loss_val, acc_val = validate(val_loader, model, criterion, optimizer, epoch)\n",
    "    total_loss_val.append(loss_val)\n",
    "    total_acc_val.append(acc_val)\n",
    "\n",
    "    if acc_val > best_val_acc:\n",
    "        best_val_acc = acc_val\n",
    "        torch.save(model, f'{HOME}/model/{model_name}.pt')\n",
    "    \n",
    "    time_elapsed = time.time() - since\n",
    "\n",
    "    print('\\nEPOCH', epoch, \":\")\n",
    "    print('*****************************************************')\n",
    "    print('Complete in {:.0f}m {:.0f}s'.format(time_elapsed // 60, time_elapsed % 60))\n",
    "    print(f'best record: [epoch {epoch}], [val loss {loss_val:.5f}], [val acc {acc_val:.5f}]')\n",
    "    print('*****************************************************')\n",
    "    # print(logging.info('*****************************************************'))\n",
    "    # print(logging.info(f'best record: [epoch {epoch}], [val loss {loss_val:.5f}], [val acc {acc_val:.5f}]'))\n",
    "    # print(logging.info('*****************************************************'))\n",
    "\n",
    "total_time_elapsed = time.time() - total_since\n",
    "print('\\nTotal run Complete in {:.0f}m {:.0f}s'.format(total_time_elapsed // 60, total_time_elapsed % 60))"
   ]
  },
  {
   "cell_type": "code",
   "execution_count": 122,
   "metadata": {
    "colab": {
     "base_uri": "https://localhost:8080/"
    },
    "executionInfo": {
     "elapsed": 1122897,
     "status": "ok",
     "timestamp": 1666064770767,
     "user": {
      "displayName": "Gerrit Lensink",
      "userId": "14030898330788478401"
     },
     "user_tz": 420
    },
    "id": "Zb72-2s9IOw2",
    "outputId": "eedc6f21-21c6-4f9b-9ab1-e86b564303a3"
   },
   "outputs": [
    {
     "name": "stdout",
     "output_type": "stream",
     "text": [
      "Starting Training\n",
      "[epoch 1], [iter 100 of 407],[train loss 1.02624], [train acc 0.55844]\n",
      "[epoch 1], [iter 200 of 407],[train loss 0.93912], [train acc 0.59344]\n",
      "[epoch 1], [iter 300 of 407],[train loss 0.89546], [train acc 0.61354]\n",
      "[epoch 1], [iter 400 of 407],[train loss 0.86916], [train acc 0.62281]\n",
      "------------------------------------------------------------\n",
      "[epoch 1], [val loss 0.77504], [val acc 0.65644]\n",
      "------------------------------------------------------------\n",
      "\n",
      "EPOCH 1 :\n",
      "*****************************************************\n",
      "Complete in 6m 24s\n",
      "best record: [epoch 1], [val loss 0.77504], [val acc 0.65644]\n",
      "*****************************************************\n",
      "[epoch 2], [iter 100 of 407],[train loss 0.76852], [train acc 0.66734]\n",
      "[epoch 2], [iter 200 of 407],[train loss 0.75025], [train acc 0.67555]\n",
      "[epoch 2], [iter 300 of 407],[train loss 0.74472], [train acc 0.67708]\n",
      "[epoch 2], [iter 400 of 407],[train loss 0.74002], [train acc 0.67805]\n",
      "------------------------------------------------------------\n",
      "[epoch 2], [val loss 0.73373], [val acc 0.67683]\n",
      "------------------------------------------------------------\n",
      "\n",
      "EPOCH 2 :\n",
      "*****************************************************\n",
      "Complete in 6m 11s\n",
      "best record: [epoch 2], [val loss 0.73373], [val acc 0.67683]\n",
      "*****************************************************\n",
      "[epoch 3], [iter 100 of 407],[train loss 0.69982], [train acc 0.69609]\n",
      "[epoch 3], [iter 200 of 407],[train loss 0.69396], [train acc 0.70008]\n",
      "[epoch 3], [iter 300 of 407],[train loss 0.69357], [train acc 0.70047]\n",
      "[epoch 3], [iter 400 of 407],[train loss 0.69187], [train acc 0.70180]\n",
      "------------------------------------------------------------\n",
      "[epoch 3], [val loss 0.70890], [val acc 0.68788]\n",
      "------------------------------------------------------------\n",
      "\n",
      "EPOCH 3 :\n",
      "*****************************************************\n",
      "Complete in 6m 7s\n",
      "best record: [epoch 3], [val loss 0.70890], [val acc 0.68788]\n",
      "*****************************************************\n",
      "\n",
      "Total run Complete in 18m 43s\n"
     ]
    }
   ],
   "source": [
    "# model_name = 'resnet_split6_3e'\n",
    "# epoch_num = 3\n",
    "# best_val_acc = 0\n",
    "# total_loss_val, total_acc_val = [],[]\n",
    "# print(\"Starting Training\")\n",
    "# total_since = time.time()\n",
    "# for epoch in range(1, epoch_num+1):\n",
    "\n",
    "#     # timing\n",
    "#     since = time.time()\n",
    "\n",
    "#     loss_train, acc_train = train(train_loader, model, criterion, optimizer, epoch)\n",
    "#     loss_val, acc_val = validate(val_loader, model, criterion, optimizer, epoch)\n",
    "#     total_loss_val.append(loss_val)\n",
    "#     total_acc_val.append(acc_val)\n",
    "\n",
    "#     if acc_val > best_val_acc:\n",
    "#         best_val_acc = acc_val\n",
    "#         torch.save(model, f'{HOME}/model/{model_name}.pt')\n",
    "    \n",
    "#     time_elapsed = time.time() - since\n",
    "\n",
    "#     print('\\nEPOCH', epoch, \":\")\n",
    "#     print('*****************************************************')\n",
    "#     print('Complete in {:.0f}m {:.0f}s'.format(time_elapsed // 60, time_elapsed % 60))\n",
    "#     print(f'best record: [epoch {epoch}], [val loss {loss_val:.5f}], [val acc {acc_val:.5f}]')\n",
    "#     print('*****************************************************')\n",
    "#     # print(logging.info('*****************************************************'))\n",
    "#     # print(logging.info(f'best record: [epoch {epoch}], [val loss {loss_val:.5f}], [val acc {acc_val:.5f}]'))\n",
    "#     # print(logging.info('*****************************************************'))\n",
    "\n",
    "# total_time_elapsed = time.time() - total_since\n",
    "# print('\\nTotal run Complete in {:.0f}m {:.0f}s'.format(total_time_elapsed // 60, total_time_elapsed % 60))"
   ]
  },
  {
   "cell_type": "markdown",
   "metadata": {
    "id": "U_aNMVhewqcE",
    "toc-hr-collapsed": true,
    "toc-nb-collapsed": true
   },
   "source": [
    "#### Previous Runs"
   ]
  },
  {
   "cell_type": "code",
   "execution_count": null,
   "metadata": {
    "colab": {
     "base_uri": "https://localhost:8080/"
    },
    "executionInfo": {
     "elapsed": 3475825,
     "status": "ok",
     "timestamp": 1665708482991,
     "user": {
      "displayName": "Gerrit Lensink",
      "userId": "14030898330788478401"
     },
     "user_tz": 420
    },
    "id": "Uib0VX6cvQlr",
    "outputId": "73b77ebd-3291-4afb-8beb-fad5f3b4a8ec"
   },
   "outputs": [
    {
     "name": "stdout",
     "output_type": "stream",
     "text": [
      "Starting Training\n",
      "[epoch 1], [iter 100 of 673],[train loss 1.07625], [train acc 0.59188]\n",
      "[epoch 1], [iter 200 of 673],[train loss 0.90003], [train acc 0.66984]\n",
      "[epoch 1], [iter 300 of 673],[train loss 0.81836], [train acc 0.70297]\n",
      "[epoch 1], [iter 400 of 673],[train loss 0.76176], [train acc 0.72340]\n",
      "[epoch 1], [iter 500 of 673],[train loss 0.72130], [train acc 0.73769]\n",
      "[epoch 1], [iter 600 of 673],[train loss 0.69296], [train acc 0.74628]\n",
      "------------------------------------------------------------\n",
      "[epoch 1], [val loss 0.50842], [val acc 0.81475]\n",
      "------------------------------------------------------------\n",
      "\n",
      "EPOCH 1 :\n",
      "*****************************************************\n",
      "Complete in 20m 51s\n",
      "best record: [epoch 1], [val loss 0.50842], [val acc 0.81475]\n",
      "*****************************************************\n",
      "[epoch 2], [iter 100 of 673],[train loss 0.52767], [train acc 0.79797]\n",
      "[epoch 2], [iter 200 of 673],[train loss 0.51501], [train acc 0.80391]\n",
      "[epoch 2], [iter 300 of 673],[train loss 0.50901], [train acc 0.80646]\n",
      "[epoch 2], [iter 400 of 673],[train loss 0.50148], [train acc 0.80945]\n",
      "[epoch 2], [iter 500 of 673],[train loss 0.50269], [train acc 0.80769]\n",
      "[epoch 2], [iter 600 of 673],[train loss 0.49757], [train acc 0.80982]\n",
      "------------------------------------------------------------\n",
      "[epoch 2], [val loss 0.44949], [val acc 0.82945]\n",
      "------------------------------------------------------------\n",
      "\n",
      "EPOCH 2 :\n",
      "*****************************************************\n",
      "Complete in 18m 37s\n",
      "best record: [epoch 2], [val loss 0.44949], [val acc 0.82945]\n",
      "*****************************************************\n",
      "[epoch 3], [iter 100 of 673],[train loss 0.45488], [train acc 0.82297]\n",
      "[epoch 3], [iter 200 of 673],[train loss 0.45104], [train acc 0.82664]\n",
      "[epoch 3], [iter 300 of 673],[train loss 0.45172], [train acc 0.82578]\n",
      "[epoch 3], [iter 400 of 673],[train loss 0.44966], [train acc 0.82570]\n",
      "[epoch 3], [iter 500 of 673],[train loss 0.44568], [train acc 0.82694]\n",
      "[epoch 3], [iter 600 of 673],[train loss 0.44780], [train acc 0.82612]\n",
      "------------------------------------------------------------\n",
      "[epoch 3], [val loss 0.42019], [val acc 0.84285]\n",
      "------------------------------------------------------------\n",
      "\n",
      "EPOCH 3 :\n",
      "*****************************************************\n",
      "Complete in 18m 27s\n",
      "best record: [epoch 3], [val loss 0.42019], [val acc 0.84285]\n",
      "*****************************************************\n",
      "\n",
      "Total run Complete in 57m 56s\n"
     ]
    }
   ],
   "source": [
    "# model_name = 'resnet_split1_3e_2'\n",
    "# epoch_num = 3\n",
    "# best_val_acc = 0\n",
    "# total_loss_val, total_acc_val = [],[]\n",
    "# print(\"Starting Training\")\n",
    "# total_since = time.time()\n",
    "# for epoch in range(1, epoch_num+1):\n",
    "\n",
    "#     # timing\n",
    "#     since = time.time()\n",
    "\n",
    "#     loss_train, acc_train = train(train_loader, model, criterion, optimizer, epoch)\n",
    "#     loss_val, acc_val = validate(val_loader, model, criterion, optimizer, epoch)\n",
    "#     total_loss_val.append(loss_val)\n",
    "#     total_acc_val.append(acc_val)\n",
    "\n",
    "#     if acc_val > best_val_acc:\n",
    "#         best_val_acc = acc_val\n",
    "#         torch.save(model, f'./Models/{model_name}.pt')\n",
    "    \n",
    "#     time_elapsed = time.time() - since\n",
    "\n",
    "#     print('\\nEPOCH', epoch, \":\")\n",
    "#     print('*****************************************************')\n",
    "#     print('Complete in {:.0f}m {:.0f}s'.format(time_elapsed // 60, time_elapsed % 60))\n",
    "#     print(f'best record: [epoch {epoch}], [val loss {loss_val:.5f}], [val acc {acc_val:.5f}]')\n",
    "#     print('*****************************************************')\n",
    "#     # print(logging.info('*****************************************************'))\n",
    "#     # print(logging.info(f'best record: [epoch {epoch}], [val loss {loss_val:.5f}], [val acc {acc_val:.5f}]'))\n",
    "#     # print(logging.info('*****************************************************'))\n",
    "\n",
    "# total_time_elapsed = time.time() - total_since\n",
    "# print('\\nTotal run Complete in {:.0f}m {:.0f}s'.format(total_time_elapsed // 60, total_time_elapsed % 60))"
   ]
  },
  {
   "cell_type": "code",
   "execution_count": null,
   "metadata": {
    "colab": {
     "base_uri": "https://localhost:8080/"
    },
    "executionInfo": {
     "elapsed": 3415884,
     "status": "ok",
     "timestamp": 1665625675420,
     "user": {
      "displayName": "Gerrit Lensink",
      "userId": "14030898330788478401"
     },
     "user_tz": 420
    },
    "id": "r6u5sMnfz8Ga",
    "outputId": "947896df-a6a3-4b96-81be-eb7619e72322"
   },
   "outputs": [
    {
     "name": "stdout",
     "output_type": "stream",
     "text": [
      "Starting Training\n",
      "[epoch 1], [iter 100 of 658],[train loss 0.96839], [train acc 0.62906]\n",
      "[epoch 1], [iter 200 of 658],[train loss 0.80823], [train acc 0.69703]\n",
      "[epoch 1], [iter 300 of 658],[train loss 0.73678], [train acc 0.72479]\n",
      "[epoch 1], [iter 400 of 658],[train loss 0.68474], [train acc 0.74422]\n",
      "[epoch 1], [iter 500 of 658],[train loss 0.65381], [train acc 0.75503]\n",
      "[epoch 1], [iter 600 of 658],[train loss 0.62744], [train acc 0.76375]\n",
      "------------------------------------------------------------\n",
      "[epoch 1], [val loss 0.44100], [val acc 0.83620]\n",
      "------------------------------------------------------------\n",
      "\n",
      "EPOCH 1 :\n",
      "*****************************************************\n",
      "Complete in 20m 10s\n",
      "best record: [epoch 1], [val loss 0.44100], [val acc 0.83620]\n",
      "*****************************************************\n",
      "[epoch 2], [iter 100 of 658],[train loss 0.45512], [train acc 0.82016]\n",
      "[epoch 2], [iter 200 of 658],[train loss 0.44669], [train acc 0.82359]\n",
      "[epoch 2], [iter 300 of 658],[train loss 0.44527], [train acc 0.82536]\n",
      "[epoch 2], [iter 400 of 658],[train loss 0.44052], [train acc 0.82664]\n",
      "[epoch 2], [iter 500 of 658],[train loss 0.43671], [train acc 0.82803]\n",
      "[epoch 2], [iter 600 of 658],[train loss 0.43289], [train acc 0.82953]\n",
      "------------------------------------------------------------\n",
      "[epoch 2], [val loss 0.38183], [val acc 0.85148]\n",
      "------------------------------------------------------------\n",
      "\n",
      "EPOCH 2 :\n",
      "*****************************************************\n",
      "Complete in 18m 19s\n",
      "best record: [epoch 2], [val loss 0.38183], [val acc 0.85148]\n",
      "*****************************************************\n",
      "[epoch 3], [iter 100 of 658],[train loss 0.39205], [train acc 0.84813]\n",
      "[epoch 3], [iter 200 of 658],[train loss 0.38787], [train acc 0.84789]\n",
      "[epoch 3], [iter 300 of 658],[train loss 0.38601], [train acc 0.84797]\n",
      "[epoch 3], [iter 400 of 658],[train loss 0.38510], [train acc 0.84840]\n",
      "[epoch 3], [iter 500 of 658],[train loss 0.38227], [train acc 0.84950]\n",
      "[epoch 3], [iter 600 of 658],[train loss 0.37937], [train acc 0.85091]\n",
      "------------------------------------------------------------\n",
      "[epoch 3], [val loss 0.35690], [val acc 0.86427]\n",
      "------------------------------------------------------------\n",
      "\n",
      "EPOCH 3 :\n",
      "*****************************************************\n",
      "Complete in 18m 26s\n",
      "best record: [epoch 3], [val loss 0.35690], [val acc 0.86427]\n",
      "*****************************************************\n",
      "\n",
      "Total run Complete in 56m 56s\n"
     ]
    }
   ],
   "source": [
    "# model_name = 'resnet_split1_3e'\n",
    "# epoch_num = 3\n",
    "# best_val_acc = 0\n",
    "# total_loss_val, total_acc_val = [],[]\n",
    "# print(\"Starting Training\")\n",
    "# total_since = time.time()\n",
    "# for epoch in range(1, epoch_num+1):\n",
    "\n",
    "#     # timing\n",
    "#     since = time.time()\n",
    "\n",
    "#     loss_train, acc_train = train(train_loader, model, criterion, optimizer, epoch)\n",
    "#     loss_val, acc_val = validate(val_loader, model, criterion, optimizer, epoch)\n",
    "#     total_loss_val.append(loss_val)\n",
    "#     total_acc_val.append(acc_val)\n",
    "\n",
    "#     if acc_val > best_val_acc:\n",
    "#         best_val_acc = acc_val\n",
    "#         torch.save(model, f'./Models/{model_name}.pt')\n",
    "    \n",
    "#     time_elapsed = time.time() - since\n",
    "\n",
    "#     print('\\nEPOCH', epoch, \":\")\n",
    "#     print('*****************************************************')\n",
    "#     print('Complete in {:.0f}m {:.0f}s'.format(time_elapsed // 60, time_elapsed % 60))\n",
    "#     print(f'best record: [epoch {epoch}], [val loss {loss_val:.5f}], [val acc {acc_val:.5f}]')\n",
    "#     print('*****************************************************')\n",
    "#     # print(logging.info('*****************************************************'))\n",
    "#     # print(logging.info(f'best record: [epoch {epoch}], [val loss {loss_val:.5f}], [val acc {acc_val:.5f}]'))\n",
    "#     # print(logging.info('*****************************************************'))\n",
    "\n",
    "# total_time_elapsed = time.time() - total_since\n",
    "# print('\\nTotal run Complete in {:.0f}m {:.0f}s'.format(total_time_elapsed // 60, total_time_elapsed % 60))"
   ]
  },
  {
   "cell_type": "code",
   "execution_count": null,
   "metadata": {
    "id": "vq10pkH3vCcz"
   },
   "outputs": [],
   "source": [
    "# model_name = 'resnet_split3_3e'\n",
    "# epoch_num = 3\n",
    "# best_val_acc = 0\n",
    "# total_loss_val, total_acc_val = [],[]\n",
    "# print(\"Starting Training\")\n",
    "# total_since = time.time()\n",
    "# for epoch in range(1, epoch_num+1):\n",
    "\n",
    "#     # timing\n",
    "#     since = time.time()\n",
    "\n",
    "#     loss_train, acc_train = train(train_loader, model, criterion, optimizer, epoch)\n",
    "#     loss_val, acc_val = validate(val_loader, model, criterion, optimizer, epoch)\n",
    "#     total_loss_val.append(loss_val)\n",
    "#     total_acc_val.append(acc_val)\n",
    "\n",
    "#     if acc_val > best_val_acc:\n",
    "#         best_val_acc = acc_val\n",
    "#         torch.save(model, f'./Models/{model_name}.pt')\n",
    "    \n",
    "#     time_elapsed = time.time() - since\n",
    "\n",
    "#     print('\\nEPOCH', epoch, \":\")\n",
    "#     print('*****************************************************')\n",
    "#     print('Complete in {:.0f}m {:.0f}s'.format(time_elapsed // 60, time_elapsed % 60))\n",
    "#     print(f'best record: [epoch {epoch}], [val loss {loss_val:.5f}], [val acc {acc_val:.5f}]')\n",
    "#     print('*****************************************************')\n",
    "#     # print(logging.info('*****************************************************'))\n",
    "#     # print(logging.info(f'best record: [epoch {epoch}], [val loss {loss_val:.5f}], [val acc {acc_val:.5f}]'))\n",
    "#     # print(logging.info('*****************************************************'))\n",
    "\n",
    "# total_time_elapsed = time.time() - total_since\n",
    "# print('\\nTotal run Complete in {:.0f}m {:.0f}s'.format(total_time_elapsed // 60, total_time_elapsed % 60))"
   ]
  },
  {
   "cell_type": "code",
   "execution_count": null,
   "metadata": {
    "id": "Dbl3KozEMAJv"
   },
   "outputs": [],
   "source": [
    "# model_name = 'resnet_15k_3e'\n",
    "# epoch_num = 3\n",
    "# best_val_acc = 0\n",
    "# total_loss_val, total_acc_val = [],[]\n",
    "# print(\"Starting Training\")\n",
    "# total_since = time.time()\n",
    "# for epoch in range(1, epoch_num+1):\n",
    "\n",
    "#     # timing\n",
    "#     since = time.time()\n",
    "\n",
    "#     loss_train, acc_train = train(train_loader, model, criterion, optimizer, epoch)\n",
    "#     loss_val, acc_val = validate(val_loader, model, criterion, optimizer, epoch)\n",
    "#     total_loss_val.append(loss_val)\n",
    "#     total_acc_val.append(acc_val)\n",
    "\n",
    "#     if acc_val > best_val_acc:\n",
    "#         best_val_acc = acc_val\n",
    "#         torch.save(model, f'./Models/{model_name}.pt')\n",
    "    \n",
    "#     time_elapsed = time.time() - since\n",
    "\n",
    "#     print('\\nEPOCH', epoch, \":\")\n",
    "#     print('*****************************************************')\n",
    "#     print('Complete in {:.0f}m {:.0f}s'.format(time_elapsed // 60, time_elapsed % 60))\n",
    "#     print(f'best record: [epoch {epoch}], [val loss {loss_val:.5f}], [val acc {acc_val:.5f}]')\n",
    "#     print('*****************************************************')\n",
    "#     # print(logging.info('*****************************************************'))\n",
    "#     # print(logging.info(f'best record: [epoch {epoch}], [val loss {loss_val:.5f}], [val acc {acc_val:.5f}]'))\n",
    "#     # print(logging.info('*****************************************************'))\n",
    "\n",
    "# total_time_elapsed = time.time() - total_since\n",
    "# print('\\nTotal run Complete in {:.0f}m {:.0f}s'.format(total_time_elapsed // 60, total_time_elapsed % 60))"
   ]
  },
  {
   "cell_type": "code",
   "execution_count": null,
   "metadata": {
    "id": "nszOjE3gOP-l"
   },
   "outputs": [],
   "source": [
    "# model_name = 'model_resnet_full'\n",
    "# epoch_num = 5\n",
    "# best_val_acc = 0\n",
    "# total_loss_val, total_acc_val = [],[]\n",
    "# print(\"Starting Training\")\n",
    "# total_since = time.time()\n",
    "# for epoch in range(1, epoch_num+1):\n",
    "\n",
    "#     # timing\n",
    "#     since = time.time()\n",
    "\n",
    "#     loss_train, acc_train = train(train_loader, model, criterion, optimizer, epoch)\n",
    "#     loss_val, acc_val = validate(val_loader, model, criterion, optimizer, epoch)\n",
    "#     total_loss_val.append(loss_val)\n",
    "#     total_acc_val.append(acc_val)\n",
    "\n",
    "#     if acc_val > best_val_acc:\n",
    "#         best_val_acc = acc_val\n",
    "#         torch.save(model, f'./Models/{model_name}.pt')\n",
    "    \n",
    "#     time_elapsed = time.time() - since\n",
    "\n",
    "#     print('\\nEPOCH', epoch, \":\")\n",
    "#     print('*****************************************************')\n",
    "#     print('Complete in {:.0f}m {:.0f}s'.format(time_elapsed // 60, time_elapsed % 60))\n",
    "#     print(f'best record: [epoch {epoch}], [val loss {loss_val:.5f}], [val acc {acc_val:.5f}]')\n",
    "#     print('*****************************************************')\n",
    "#     # print(logging.info('*****************************************************'))\n",
    "#     # print(logging.info(f'best record: [epoch {epoch}], [val loss {loss_val:.5f}], [val acc {acc_val:.5f}]'))\n",
    "#     # print(logging.info('*****************************************************'))\n",
    "\n",
    "# total_time_elapsed = time.time() - total_since\n",
    "# print('\\nTotal run Complete in {:.0f}m {:.0f}s'.format(total_time_elapsed // 60, total_time_elapsed % 60))"
   ]
  },
  {
   "cell_type": "code",
   "execution_count": null,
   "metadata": {
    "colab": {
     "base_uri": "https://localhost:8080/"
    },
    "executionInfo": {
     "elapsed": 24,
     "status": "ok",
     "timestamp": 1665625675423,
     "user": {
      "displayName": "Gerrit Lensink",
      "userId": "14030898330788478401"
     },
     "user_tz": 420
    },
    "id": "lVAehidNNTNa",
    "outputId": "ea09c47a-b4b8-47f7-c68e-a5f3f4fa8557"
   },
   "outputs": [
    {
     "data": {
      "text/plain": [
       "0.8642676767676767"
      ]
     },
     "execution_count": 158,
     "metadata": {},
     "output_type": "execute_result"
    }
   ],
   "source": [
    "best_val_acc"
   ]
  },
  {
   "cell_type": "code",
   "execution_count": null,
   "metadata": {
    "id": "lzIDVaq5I2bT"
   },
   "outputs": [],
   "source": [
    "# model_name = 'resnet_split2_3e'\n",
    "# epoch_num = 3\n",
    "# best_val_acc = 0\n",
    "# total_loss_val, total_acc_val = [],[]\n",
    "# print(\"Starting Training\")\n",
    "# total_since = time.time()\n",
    "# for epoch in range(1, epoch_num+1):\n",
    "\n",
    "#     # timing\n",
    "#     since = time.time()\n",
    "\n",
    "#     loss_train, acc_train = train(train_loader, model, criterion, optimizer, epoch)\n",
    "#     loss_val, acc_val = validate(val_loader, model, criterion, optimizer, epoch)\n",
    "#     total_loss_val.append(loss_val)\n",
    "#     total_acc_val.append(acc_val)\n",
    "\n",
    "#     if acc_val > best_val_acc:\n",
    "#         best_val_acc = acc_val\n",
    "#         torch.save(model, f'./Models/{model_name}.pt')\n",
    "    \n",
    "#     time_elapsed = time.time() - since\n",
    "\n",
    "#     print('\\nEPOCH', epoch, \":\")\n",
    "#     print('*****************************************************')\n",
    "#     print('Complete in {:.0f}m {:.0f}s'.format(time_elapsed // 60, time_elapsed % 60))\n",
    "#     print(f'best record: [epoch {epoch}], [val loss {loss_val:.5f}], [val acc {acc_val:.5f}]')\n",
    "#     print('*****************************************************')\n",
    "#     # print(logging.info('*****************************************************'))\n",
    "#     # print(logging.info(f'best record: [epoch {epoch}], [val loss {loss_val:.5f}], [val acc {acc_val:.5f}]'))\n",
    "#     # print(logging.info('*****************************************************'))\n",
    "\n",
    "# total_time_elapsed = time.time() - total_since\n",
    "# print('\\nTotal run Complete in {:.0f}m {:.0f}s'.format(total_time_elapsed // 60, total_time_elapsed % 60))"
   ]
  },
  {
   "cell_type": "code",
   "execution_count": 27,
   "metadata": {
    "colab": {
     "base_uri": "https://localhost:8080/"
    },
    "executionInfo": {
     "elapsed": 316812,
     "status": "ok",
     "timestamp": 1666061939671,
     "user": {
      "displayName": "Gerrit Lensink",
      "userId": "14030898330788478401"
     },
     "user_tz": 420
    },
    "id": "aH9ZtXHf8Nr3",
    "outputId": "96f43cd6-bcee-4505-b259-eacf16220515"
   },
   "outputs": [
    {
     "name": "stdout",
     "output_type": "stream",
     "text": [
      "Starting Training\n",
      "[epoch 1], [iter 100 of 413],[train loss 1.12460], [train acc 0.53844]\n",
      "[epoch 1], [iter 200 of 413],[train loss 1.04662], [train acc 0.57508]\n",
      "[epoch 1], [iter 300 of 413],[train loss 1.00262], [train acc 0.59214]\n",
      "[epoch 1], [iter 400 of 413],[train loss 0.97493], [train acc 0.60191]\n",
      "------------------------------------------------------------\n",
      "[epoch 1], [val loss 0.86524], [val acc 0.64597]\n",
      "------------------------------------------------------------\n",
      "\n",
      "EPOCH 1 :\n",
      "*****************************************************\n",
      "Complete in 8m 24s\n",
      "best record: [epoch 1], [val loss 0.86524], [val acc 0.64597]\n",
      "*****************************************************\n",
      "[epoch 2], [iter 100 of 413],[train loss 0.85078], [train acc 0.65031]\n",
      "[epoch 2], [iter 200 of 413],[train loss 0.83847], [train acc 0.65703]\n",
      "[epoch 2], [iter 300 of 413],[train loss 0.83400], [train acc 0.65781]\n",
      "[epoch 2], [iter 400 of 413],[train loss 0.82715], [train acc 0.66059]\n",
      "------------------------------------------------------------\n",
      "[epoch 2], [val loss 0.80259], [val acc 0.66699]\n",
      "------------------------------------------------------------\n",
      "\n",
      "EPOCH 2 :\n",
      "*****************************************************\n",
      "Complete in 6m 18s\n",
      "best record: [epoch 2], [val loss 0.80259], [val acc 0.66699]\n",
      "*****************************************************\n",
      "[epoch 3], [iter 100 of 413],[train loss 0.78084], [train acc 0.68063]\n",
      "[epoch 3], [iter 200 of 413],[train loss 0.77516], [train acc 0.68430]\n",
      "[epoch 3], [iter 300 of 413],[train loss 0.77031], [train acc 0.68615]\n",
      "[epoch 3], [iter 400 of 413],[train loss 0.76821], [train acc 0.68605]\n",
      "------------------------------------------------------------\n",
      "[epoch 3], [val loss 0.76968], [val acc 0.67918]\n",
      "------------------------------------------------------------\n",
      "\n",
      "EPOCH 3 :\n",
      "*****************************************************\n",
      "Complete in 6m 22s\n",
      "best record: [epoch 3], [val loss 0.76968], [val acc 0.67918]\n",
      "*****************************************************\n",
      "\n",
      "Total run Complete in 21m 4s\n"
     ]
    }
   ],
   "source": [
    "# model_name = 'resnet_split4_3e'\n",
    "# epoch_num = 3\n",
    "# best_val_acc = 0\n",
    "# total_loss_val, total_acc_val = [],[]\n",
    "# print(\"Starting Training\")\n",
    "# total_since = time.time()\n",
    "# for epoch in range(1, epoch_num+1):\n",
    "\n",
    "#     # timing\n",
    "#     since = time.time()\n",
    "\n",
    "#     loss_train, acc_train = train(train_loader, model, criterion, optimizer, epoch)\n",
    "#     loss_val, acc_val = validate(val_loader, model, criterion, optimizer, epoch)\n",
    "#     total_loss_val.append(loss_val)\n",
    "#     total_acc_val.append(acc_val)\n",
    "\n",
    "#     if acc_val > best_val_acc:\n",
    "#         best_val_acc = acc_val\n",
    "#         torch.save(model, f'./Models/{model_name}.pt')\n",
    "    \n",
    "#     time_elapsed = time.time() - since\n",
    "\n",
    "#     print('\\nEPOCH', epoch, \":\")\n",
    "#     print('*****************************************************')\n",
    "#     print('Complete in {:.0f}m {:.0f}s'.format(time_elapsed // 60, time_elapsed % 60))\n",
    "#     print(f'best record: [epoch {epoch}], [val loss {loss_val:.5f}], [val acc {acc_val:.5f}]')\n",
    "#     print('*****************************************************')\n",
    "#     # print(logging.info('*****************************************************'))\n",
    "#     # print(logging.info(f'best record: [epoch {epoch}], [val loss {loss_val:.5f}], [val acc {acc_val:.5f}]'))\n",
    "#     # print(logging.info('*****************************************************'))\n",
    "\n",
    "# total_time_elapsed = time.time() - total_since\n",
    "# print('\\nTotal run Complete in {:.0f}m {:.0f}s'.format(total_time_elapsed // 60, total_time_elapsed % 60))"
   ]
  },
  {
   "cell_type": "code",
   "execution_count": 77,
   "metadata": {
    "colab": {
     "base_uri": "https://localhost:8080/"
    },
    "executionInfo": {
     "elapsed": 1129386,
     "status": "ok",
     "timestamp": 1666063472363,
     "user": {
      "displayName": "Gerrit Lensink",
      "userId": "14030898330788478401"
     },
     "user_tz": 420
    },
    "id": "3y2mTtuWDSle",
    "outputId": "52055e7f-aaad-40a1-ed4c-36d56434018a"
   },
   "outputs": [
    {
     "name": "stdout",
     "output_type": "stream",
     "text": [
      "Starting Training\n",
      "[epoch 1], [iter 100 of 407],[train loss 1.11664], [train acc 0.55016]\n",
      "[epoch 1], [iter 200 of 407],[train loss 1.04299], [train acc 0.57742]\n",
      "[epoch 1], [iter 300 of 407],[train loss 0.99161], [train acc 0.59771]\n",
      "[epoch 1], [iter 400 of 407],[train loss 0.95636], [train acc 0.61234]\n",
      "------------------------------------------------------------\n",
      "[epoch 1], [val loss 0.85869], [val acc 0.64691]\n",
      "------------------------------------------------------------\n",
      "\n",
      "EPOCH 1 :\n",
      "*****************************************************\n",
      "Complete in 6m 25s\n",
      "best record: [epoch 1], [val loss 0.85869], [val acc 0.64691]\n",
      "*****************************************************\n",
      "[epoch 2], [iter 100 of 407],[train loss 0.84339], [train acc 0.65844]\n",
      "[epoch 2], [iter 200 of 407],[train loss 0.81449], [train acc 0.66906]\n",
      "[epoch 2], [iter 300 of 407],[train loss 0.80659], [train acc 0.67370]\n",
      "[epoch 2], [iter 400 of 407],[train loss 0.79864], [train acc 0.67578]\n",
      "------------------------------------------------------------\n",
      "[epoch 2], [val loss 0.79522], [val acc 0.67111]\n",
      "------------------------------------------------------------\n",
      "\n",
      "EPOCH 2 :\n",
      "*****************************************************\n",
      "Complete in 6m 12s\n",
      "best record: [epoch 2], [val loss 0.79522], [val acc 0.67111]\n",
      "*****************************************************\n",
      "[epoch 3], [iter 100 of 407],[train loss 0.75197], [train acc 0.69000]\n",
      "[epoch 3], [iter 200 of 407],[train loss 0.74059], [train acc 0.69820]\n",
      "[epoch 3], [iter 300 of 407],[train loss 0.73580], [train acc 0.70120]\n",
      "[epoch 3], [iter 400 of 407],[train loss 0.73992], [train acc 0.69867]\n",
      "------------------------------------------------------------\n",
      "[epoch 3], [val loss 0.76292], [val acc 0.68159]\n",
      "------------------------------------------------------------\n",
      "\n",
      "EPOCH 3 :\n",
      "*****************************************************\n",
      "Complete in 6m 13s\n",
      "best record: [epoch 3], [val loss 0.76292], [val acc 0.68159]\n",
      "*****************************************************\n",
      "\n",
      "Total run Complete in 18m 49s\n"
     ]
    }
   ],
   "source": [
    "# model_name = 'resnet_split5_3e'\n",
    "# epoch_num = 3\n",
    "# best_val_acc = 0\n",
    "# total_loss_val, total_acc_val = [],[]\n",
    "# print(\"Starting Training\")\n",
    "# total_since = time.time()\n",
    "# for epoch in range(1, epoch_num+1):\n",
    "\n",
    "#     # timing\n",
    "#     since = time.time()\n",
    "\n",
    "#     loss_train, acc_train = train(train_loader, model, criterion, optimizer, epoch)\n",
    "#     loss_val, acc_val = validate(val_loader, model, criterion, optimizer, epoch)\n",
    "#     total_loss_val.append(loss_val)\n",
    "#     total_acc_val.append(acc_val)\n",
    "\n",
    "#     if acc_val > best_val_acc:\n",
    "#         best_val_acc = acc_val\n",
    "#         torch.save(model, f'./Models/{model_name}.pt')\n",
    "    \n",
    "#     time_elapsed = time.time() - since\n",
    "\n",
    "#     print('\\nEPOCH', epoch, \":\")\n",
    "#     print('*****************************************************')\n",
    "#     print('Complete in {:.0f}m {:.0f}s'.format(time_elapsed // 60, time_elapsed % 60))\n",
    "#     print(f'best record: [epoch {epoch}], [val loss {loss_val:.5f}], [val acc {acc_val:.5f}]')\n",
    "#     print('*****************************************************')\n",
    "#     # print(logging.info('*****************************************************'))\n",
    "#     # print(logging.info(f'best record: [epoch {epoch}], [val loss {loss_val:.5f}], [val acc {acc_val:.5f}]'))\n",
    "#     # print(logging.info('*****************************************************'))\n",
    "\n",
    "# total_time_elapsed = time.time() - total_since\n",
    "# print('\\nTotal run Complete in {:.0f}m {:.0f}s'.format(total_time_elapsed // 60, total_time_elapsed % 60))"
   ]
  },
  {
   "cell_type": "markdown",
   "metadata": {
    "id": "8bkIMyMJq4hj"
   },
   "source": [
    "## Test/Eval"
   ]
  },
  {
   "cell_type": "code",
   "execution_count": 28,
   "metadata": {
    "executionInfo": {
     "elapsed": 5,
     "status": "ok",
     "timestamp": 1666061939921,
     "user": {
      "displayName": "Gerrit Lensink",
      "userId": "14030898330788478401"
     },
     "user_tz": 420
    },
    "id": "8Xg3aZsGvMcA"
   },
   "outputs": [],
   "source": [
    "# model_name = 'model_resnet_full'"
   ]
  },
  {
   "cell_type": "code",
   "execution_count": null,
   "metadata": {
    "id": "dA4jtlf0IQx6"
   },
   "outputs": [],
   "source": [
    "\n",
    "# # model_in = torch.load(f'./Models/{model_name}.pth')\n",
    "# model.load_state_dict(torch.load(f'./Models/{model_name}.pth'))"
   ]
  },
  {
   "cell_type": "code",
   "execution_count": 91,
   "metadata": {
    "colab": {
     "base_uri": "https://localhost:8080/",
     "height": 37
    },
    "executionInfo": {
     "elapsed": 189,
     "status": "ok",
     "timestamp": 1666064790679,
     "user": {
      "displayName": "Gerrit Lensink",
      "userId": "14030898330788478401"
     },
     "user_tz": 420
    },
    "id": "p9YTFlp8q_q0",
    "outputId": "935793b4-996c-4cb0-aaca-68a78eb13c21"
   },
   "outputs": [
    {
     "data": {
      "text/plain": [
       "'resnet_split2_3e_2'"
      ]
     },
     "execution_count": 91,
     "metadata": {},
     "output_type": "execute_result"
    }
   ],
   "source": [
    "# model_name = 'resnet_split2_3e'\n",
    "model_name"
   ]
  },
  {
   "cell_type": "code",
   "execution_count": 94,
   "metadata": {},
   "outputs": [
    {
     "name": "stdout",
     "output_type": "stream",
     "text": [
      "------------------------------------------------------------\n",
      "[test loss 2.68484], [test acc 0.39618]\n",
      "------------------------------------------------------------\n"
     ]
    }
   ],
   "source": [
    "loss_test, acc_test, preds, labs = test(test_loader, model_in)"
   ]
  },
  {
   "cell_type": "code",
   "execution_count": 93,
   "metadata": {
    "executionInfo": {
     "elapsed": 481,
     "status": "ok",
     "timestamp": 1666064795054,
     "user": {
      "displayName": "Gerrit Lensink",
      "userId": "14030898330788478401"
     },
     "user_tz": 420
    },
    "id": "m20u6LVTusYz"
   },
   "outputs": [],
   "source": [
    "# torch.save(model, './Models/test.pt')\n",
    "# model_in = torch.load('./Models/model_resnet_full.pt')\n",
    "model_in = torch.load(f'./model/{model_name}.pt')"
   ]
  },
  {
   "cell_type": "code",
   "execution_count": 67,
   "metadata": {},
   "outputs": [
    {
     "name": "stdout",
     "output_type": "stream",
     "text": [
      "------------------------------------------------------------\n",
      "[test loss 2.81385], [test acc 0.39634]\n",
      "------------------------------------------------------------\n"
     ]
    }
   ],
   "source": [
    "loss_test, acc_test, preds, labs = test(test_loader, model_in)"
   ]
  },
  {
   "cell_type": "code",
   "execution_count": 125,
   "metadata": {
    "colab": {
     "base_uri": "https://localhost:8080/"
    },
    "executionInfo": {
     "elapsed": 44686,
     "status": "ok",
     "timestamp": 1666064840759,
     "user": {
      "displayName": "Gerrit Lensink",
      "userId": "14030898330788478401"
     },
     "user_tz": 420
    },
    "id": "Xxg69C0GI_pj",
    "outputId": "708a2eef-6f51-4766-da04-4c89a8e50c42"
   },
   "outputs": [
    {
     "name": "stdout",
     "output_type": "stream",
     "text": [
      "------------------------------------------------------------\n",
      "[test loss 0.71659], [test acc 0.68443]\n",
      "------------------------------------------------------------\n"
     ]
    }
   ],
   "source": [
    "loss_test, acc_test, preds, labs = test(test_loader, model_in)"
   ]
  },
  {
   "cell_type": "code",
   "execution_count": 31,
   "metadata": {
    "executionInfo": {
     "elapsed": 20,
     "status": "ok",
     "timestamp": 1666064840760,
     "user": {
      "displayName": "Gerrit Lensink",
      "userId": "14030898330788478401"
     },
     "user_tz": 420
    },
    "id": "a1Qk80IvPNJT"
   },
   "outputs": [],
   "source": [
    "true_labels = np.array(list(itertools.chain(*labs)))\n",
    "predictions = np.array(list(itertools.chain(*preds)))"
   ]
  },
  {
   "cell_type": "code",
   "execution_count": 32,
   "metadata": {
    "colab": {
     "base_uri": "https://localhost:8080/"
    },
    "executionInfo": {
     "elapsed": 18,
     "status": "ok",
     "timestamp": 1666064840761,
     "user": {
      "displayName": "Gerrit Lensink",
      "userId": "14030898330788478401"
     },
     "user_tz": 420
    },
    "id": "mFWpwH16S1Hs",
    "outputId": "0229c649-71c4-40b2-f258-20d1b92e5ec0"
   },
   "outputs": [
    {
     "data": {
      "text/plain": [
       "0.6973456433929602"
      ]
     },
     "execution_count": 32,
     "metadata": {},
     "output_type": "execute_result"
    }
   ],
   "source": [
    "correct = (true_labels == predictions.flatten())\n",
    "accur = correct.sum() / correct.size\n",
    "accur"
   ]
  },
  {
   "cell_type": "code",
   "execution_count": 83,
   "metadata": {
    "colab": {
     "base_uri": "https://localhost:8080/",
     "height": 37
    },
    "executionInfo": {
     "elapsed": 152,
     "status": "ok",
     "timestamp": 1666063547187,
     "user": {
      "displayName": "Gerrit Lensink",
      "userId": "14030898330788478401"
     },
     "user_tz": 420
    },
    "id": "g3dk2etNqzMY",
    "outputId": "c1c4b8f9-da0c-440c-b01f-910856b89663"
   },
   "outputs": [
    {
     "data": {
      "application/vnd.google.colaboratory.intrinsic+json": {
       "type": "string"
      },
      "text/plain": [
       "'resnet_split5_3e'"
      ]
     },
     "execution_count": 83,
     "metadata": {},
     "output_type": "execute_result"
    }
   ],
   "source": [
    "model_name"
   ]
  },
  {
   "cell_type": "code",
   "execution_count": 33,
   "metadata": {
    "executionInfo": {
     "elapsed": 15,
     "status": "ok",
     "timestamp": 1666064840762,
     "user": {
      "displayName": "Gerrit Lensink",
      "userId": "14030898330788478401"
     },
     "user_tz": 420
    },
    "id": "hLsDjc_qnZg9"
   },
   "outputs": [],
   "source": [
    "labels_idx = np.sort(data.label_idx.unique())\n",
    "label_map = data[[cl, 'label_idx']].drop_duplicates().sort_values('label_idx')\n",
    "label_dict = dict(zip(label_map.label_idx, label_map[cl]))"
   ]
  },
  {
   "cell_type": "code",
   "execution_count": 34,
   "metadata": {
    "executionInfo": {
     "elapsed": 15,
     "status": "ok",
     "timestamp": 1666064840763,
     "user": {
      "displayName": "Gerrit Lensink",
      "userId": "14030898330788478401"
     },
     "user_tz": 420
    },
    "id": "2hxsVuL-owka"
   },
   "outputs": [],
   "source": [
    "labs = pd.Series(true_labels).map(label_dict)\n",
    "preds = pd.Series(predictions.flatten()).map(label_dict)\n",
    "labels = pd.Series(labels_idx).map(label_dict)"
   ]
  },
  {
   "cell_type": "code",
   "execution_count": 35,
   "metadata": {
    "executionInfo": {
     "elapsed": 13,
     "status": "ok",
     "timestamp": 1666064840763,
     "user": {
      "displayName": "Gerrit Lensink",
      "userId": "14030898330788478401"
     },
     "user_tz": 420
    },
    "id": "fRAaw22hk1z1"
   },
   "outputs": [],
   "source": [
    "pred_df = pd.concat([labs, \n",
    "           preds, \n",
    "           pd.Series(true_labels), \n",
    "           pd.Series(predictions.flatten())], axis = 1)\\\n",
    "           .rename(columns = {0:'lab', 1: 'pred', 2: 'lab_idx', 3: 'pred_idx'})"
   ]
  },
  {
   "cell_type": "code",
   "execution_count": 36,
   "metadata": {
    "colab": {
     "base_uri": "https://localhost:8080/"
    },
    "executionInfo": {
     "elapsed": 172,
     "status": "ok",
     "timestamp": 1666063555704,
     "user": {
      "displayName": "Gerrit Lensink",
      "userId": "14030898330788478401"
     },
     "user_tz": 420
    },
    "id": "x-UmPGbDtnL9",
    "outputId": "c3f717b0-c784-4ffc-cf71-c786c2827893"
   },
   "outputs": [
    {
     "data": {
      "text/plain": [
       "3466"
      ]
     },
     "execution_count": 36,
     "metadata": {},
     "output_type": "execute_result"
    }
   ],
   "source": [
    "len(labs)"
   ]
  },
  {
   "cell_type": "code",
   "execution_count": 1,
   "metadata": {
    "colab": {
     "base_uri": "https://localhost:8080/",
     "height": 164
    },
    "executionInfo": {
     "elapsed": 174,
     "status": "error",
     "timestamp": 1666065234339,
     "user": {
      "displayName": "Gerrit Lensink",
      "userId": "14030898330788478401"
     },
     "user_tz": 420
    },
    "id": "41hGM84tGrGq",
    "outputId": "37f87e71-6fbd-4059-9373-e9648851d809"
   },
   "outputs": [
    {
     "ename": "NameError",
     "evalue": "ignored",
     "output_type": "error",
     "traceback": [
      "\u001b[0;31m---------------------------------------------------------------------------\u001b[0m",
      "\u001b[0;31mNameError\u001b[0m                                 Traceback (most recent call last)",
      "\u001b[0;32m<ipython-input-1-df093f113273>\u001b[0m in \u001b[0;36m<module>\u001b[0;34m\u001b[0m\n\u001b[0;32m----> 1\u001b[0;31m \u001b[0mmodel_name\u001b[0m\u001b[0;34m\u001b[0m\u001b[0;34m\u001b[0m\u001b[0m\n\u001b[0m",
      "\u001b[0;31mNameError\u001b[0m: name 'model_name' is not defined"
     ]
    }
   ],
   "source": [
    "model_name"
   ]
  },
  {
   "cell_type": "code",
   "execution_count": 131,
   "metadata": {
    "executionInfo": {
     "elapsed": 13,
     "status": "ok",
     "timestamp": 1666064840764,
     "user": {
      "displayName": "Gerrit Lensink",
      "userId": "14030898330788478401"
     },
     "user_tz": 420
    },
    "id": "fjVwpTWqlH9f"
   },
   "outputs": [],
   "source": [
    "pred_df.to_pickle(f'./Models/{model_name}_preds.pkl')"
   ]
  },
  {
   "cell_type": "code",
   "execution_count": 43,
   "metadata": {
    "executionInfo": {
     "elapsed": 549,
     "status": "ok",
     "timestamp": 1666062271987,
     "user": {
      "displayName": "Gerrit Lensink",
      "userId": "14030898330788478401"
     },
     "user_tz": 420
    },
    "id": "8MvE5Sgxk47m"
   },
   "outputs": [],
   "source": [
    "d = pd.read_pickle(f'./Models/{model_name}_preds.pkl')"
   ]
  },
  {
   "cell_type": "code",
   "execution_count": 44,
   "metadata": {
    "colab": {
     "base_uri": "https://localhost:8080/",
     "height": 419
    },
    "executionInfo": {
     "elapsed": 278,
     "status": "ok",
     "timestamp": 1666062273026,
     "user": {
      "displayName": "Gerrit Lensink",
      "userId": "14030898330788478401"
     },
     "user_tz": 420
    },
    "id": "O37PAxJ8GwLM",
    "outputId": "7b0928ac-0a5e-4999-a21a-20aa3f62eb65"
   },
   "outputs": [
    {
     "data": {
      "text/html": [
       "\n",
       "  <div id=\"df-59c6db1d-62da-4c4e-a111-55393d72e66b\">\n",
       "    <div class=\"colab-df-container\">\n",
       "      <div>\n",
       "<style scoped>\n",
       "    .dataframe tbody tr th:only-of-type {\n",
       "        vertical-align: middle;\n",
       "    }\n",
       "\n",
       "    .dataframe tbody tr th {\n",
       "        vertical-align: top;\n",
       "    }\n",
       "\n",
       "    .dataframe thead th {\n",
       "        text-align: right;\n",
       "    }\n",
       "</style>\n",
       "<table border=\"1\" class=\"dataframe\">\n",
       "  <thead>\n",
       "    <tr style=\"text-align: right;\">\n",
       "      <th></th>\n",
       "      <th>lab</th>\n",
       "      <th>pred</th>\n",
       "      <th>lab_idx</th>\n",
       "      <th>pred_idx</th>\n",
       "    </tr>\n",
       "  </thead>\n",
       "  <tbody>\n",
       "    <tr>\n",
       "      <th>0</th>\n",
       "      <td>Benign Marking or Mole</td>\n",
       "      <td>Benign Marking or Mole</td>\n",
       "      <td>0</td>\n",
       "      <td>0</td>\n",
       "    </tr>\n",
       "    <tr>\n",
       "      <th>1</th>\n",
       "      <td>Benign Marking or Mole</td>\n",
       "      <td>Benign Marking or Mole</td>\n",
       "      <td>0</td>\n",
       "      <td>0</td>\n",
       "    </tr>\n",
       "    <tr>\n",
       "      <th>2</th>\n",
       "      <td>Benign Marking or Mole</td>\n",
       "      <td>Benign Marking or Mole</td>\n",
       "      <td>0</td>\n",
       "      <td>0</td>\n",
       "    </tr>\n",
       "    <tr>\n",
       "      <th>3</th>\n",
       "      <td>Benign Marking or Mole</td>\n",
       "      <td>Benign Marking or Mole</td>\n",
       "      <td>0</td>\n",
       "      <td>0</td>\n",
       "    </tr>\n",
       "    <tr>\n",
       "      <th>4</th>\n",
       "      <td>Benign Marking or Mole</td>\n",
       "      <td>Benign Marking or Mole</td>\n",
       "      <td>0</td>\n",
       "      <td>0</td>\n",
       "    </tr>\n",
       "    <tr>\n",
       "      <th>...</th>\n",
       "      <td>...</td>\n",
       "      <td>...</td>\n",
       "      <td>...</td>\n",
       "      <td>...</td>\n",
       "    </tr>\n",
       "    <tr>\n",
       "      <th>3519</th>\n",
       "      <td>Potentially Malignant Skin Tumors</td>\n",
       "      <td>Toxin, Fungal, Bug, Viral, or Bacterial Infect...</td>\n",
       "      <td>2</td>\n",
       "      <td>3</td>\n",
       "    </tr>\n",
       "    <tr>\n",
       "      <th>3520</th>\n",
       "      <td>Potentially Malignant Skin Tumors</td>\n",
       "      <td>Benign Marking or Mole</td>\n",
       "      <td>2</td>\n",
       "      <td>0</td>\n",
       "    </tr>\n",
       "    <tr>\n",
       "      <th>3521</th>\n",
       "      <td>Potentially Malignant Skin Tumors</td>\n",
       "      <td>Benign Marking or Mole</td>\n",
       "      <td>2</td>\n",
       "      <td>0</td>\n",
       "    </tr>\n",
       "    <tr>\n",
       "      <th>3522</th>\n",
       "      <td>Potentially Malignant Skin Tumors</td>\n",
       "      <td>Toxin, Fungal, Bug, Viral, or Bacterial Infect...</td>\n",
       "      <td>2</td>\n",
       "      <td>3</td>\n",
       "    </tr>\n",
       "    <tr>\n",
       "      <th>3523</th>\n",
       "      <td>Potentially Malignant Skin Tumors</td>\n",
       "      <td>Non-Cancerous Skin Condition</td>\n",
       "      <td>2</td>\n",
       "      <td>1</td>\n",
       "    </tr>\n",
       "  </tbody>\n",
       "</table>\n",
       "<p>3524 rows × 4 columns</p>\n",
       "</div>\n",
       "      <button class=\"colab-df-convert\" onclick=\"convertToInteractive('df-59c6db1d-62da-4c4e-a111-55393d72e66b')\"\n",
       "              title=\"Convert this dataframe to an interactive table.\"\n",
       "              style=\"display:none;\">\n",
       "        \n",
       "  <svg xmlns=\"http://www.w3.org/2000/svg\" height=\"24px\"viewBox=\"0 0 24 24\"\n",
       "       width=\"24px\">\n",
       "    <path d=\"M0 0h24v24H0V0z\" fill=\"none\"/>\n",
       "    <path d=\"M18.56 5.44l.94 2.06.94-2.06 2.06-.94-2.06-.94-.94-2.06-.94 2.06-2.06.94zm-11 1L8.5 8.5l.94-2.06 2.06-.94-2.06-.94L8.5 2.5l-.94 2.06-2.06.94zm10 10l.94 2.06.94-2.06 2.06-.94-2.06-.94-.94-2.06-.94 2.06-2.06.94z\"/><path d=\"M17.41 7.96l-1.37-1.37c-.4-.4-.92-.59-1.43-.59-.52 0-1.04.2-1.43.59L10.3 9.45l-7.72 7.72c-.78.78-.78 2.05 0 2.83L4 21.41c.39.39.9.59 1.41.59.51 0 1.02-.2 1.41-.59l7.78-7.78 2.81-2.81c.8-.78.8-2.07 0-2.86zM5.41 20L4 18.59l7.72-7.72 1.47 1.35L5.41 20z\"/>\n",
       "  </svg>\n",
       "      </button>\n",
       "      \n",
       "  <style>\n",
       "    .colab-df-container {\n",
       "      display:flex;\n",
       "      flex-wrap:wrap;\n",
       "      gap: 12px;\n",
       "    }\n",
       "\n",
       "    .colab-df-convert {\n",
       "      background-color: #E8F0FE;\n",
       "      border: none;\n",
       "      border-radius: 50%;\n",
       "      cursor: pointer;\n",
       "      display: none;\n",
       "      fill: #1967D2;\n",
       "      height: 32px;\n",
       "      padding: 0 0 0 0;\n",
       "      width: 32px;\n",
       "    }\n",
       "\n",
       "    .colab-df-convert:hover {\n",
       "      background-color: #E2EBFA;\n",
       "      box-shadow: 0px 1px 2px rgba(60, 64, 67, 0.3), 0px 1px 3px 1px rgba(60, 64, 67, 0.15);\n",
       "      fill: #174EA6;\n",
       "    }\n",
       "\n",
       "    [theme=dark] .colab-df-convert {\n",
       "      background-color: #3B4455;\n",
       "      fill: #D2E3FC;\n",
       "    }\n",
       "\n",
       "    [theme=dark] .colab-df-convert:hover {\n",
       "      background-color: #434B5C;\n",
       "      box-shadow: 0px 1px 3px 1px rgba(0, 0, 0, 0.15);\n",
       "      filter: drop-shadow(0px 1px 2px rgba(0, 0, 0, 0.3));\n",
       "      fill: #FFFFFF;\n",
       "    }\n",
       "  </style>\n",
       "\n",
       "      <script>\n",
       "        const buttonEl =\n",
       "          document.querySelector('#df-59c6db1d-62da-4c4e-a111-55393d72e66b button.colab-df-convert');\n",
       "        buttonEl.style.display =\n",
       "          google.colab.kernel.accessAllowed ? 'block' : 'none';\n",
       "\n",
       "        async function convertToInteractive(key) {\n",
       "          const element = document.querySelector('#df-59c6db1d-62da-4c4e-a111-55393d72e66b');\n",
       "          const dataTable =\n",
       "            await google.colab.kernel.invokeFunction('convertToInteractive',\n",
       "                                                     [key], {});\n",
       "          if (!dataTable) return;\n",
       "\n",
       "          const docLinkHtml = 'Like what you see? Visit the ' +\n",
       "            '<a target=\"_blank\" href=https://colab.research.google.com/notebooks/data_table.ipynb>data table notebook</a>'\n",
       "            + ' to learn more about interactive tables.';\n",
       "          element.innerHTML = '';\n",
       "          dataTable['output_type'] = 'display_data';\n",
       "          await google.colab.output.renderOutput(dataTable, element);\n",
       "          const docLink = document.createElement('div');\n",
       "          docLink.innerHTML = docLinkHtml;\n",
       "          element.appendChild(docLink);\n",
       "        }\n",
       "      </script>\n",
       "    </div>\n",
       "  </div>\n",
       "  "
      ],
      "text/plain": [
       "                                    lab  \\\n",
       "0                Benign Marking or Mole   \n",
       "1                Benign Marking or Mole   \n",
       "2                Benign Marking or Mole   \n",
       "3                Benign Marking or Mole   \n",
       "4                Benign Marking or Mole   \n",
       "...                                 ...   \n",
       "3519  Potentially Malignant Skin Tumors   \n",
       "3520  Potentially Malignant Skin Tumors   \n",
       "3521  Potentially Malignant Skin Tumors   \n",
       "3522  Potentially Malignant Skin Tumors   \n",
       "3523  Potentially Malignant Skin Tumors   \n",
       "\n",
       "                                                   pred  lab_idx  pred_idx  \n",
       "0                                Benign Marking or Mole        0         0  \n",
       "1                                Benign Marking or Mole        0         0  \n",
       "2                                Benign Marking or Mole        0         0  \n",
       "3                                Benign Marking or Mole        0         0  \n",
       "4                                Benign Marking or Mole        0         0  \n",
       "...                                                 ...      ...       ...  \n",
       "3519  Toxin, Fungal, Bug, Viral, or Bacterial Infect...        2         3  \n",
       "3520                             Benign Marking or Mole        2         0  \n",
       "3521                             Benign Marking or Mole        2         0  \n",
       "3522  Toxin, Fungal, Bug, Viral, or Bacterial Infect...        2         3  \n",
       "3523                       Non-Cancerous Skin Condition        2         1  \n",
       "\n",
       "[3524 rows x 4 columns]"
      ]
     },
     "execution_count": 44,
     "metadata": {},
     "output_type": "execute_result"
    }
   ],
   "source": [
    "d"
   ]
  },
  {
   "cell_type": "code",
   "execution_count": null,
   "metadata": {
    "colab": {
     "base_uri": "https://localhost:8080/",
     "height": 283
    },
    "executionInfo": {
     "elapsed": 5,
     "status": "error",
     "timestamp": 1665710880776,
     "user": {
      "displayName": "Gerrit Lensink",
      "userId": "14030898330788478401"
     },
     "user_tz": 420
    },
    "id": "22kpIHR4kF1A",
    "outputId": "8940e1c5-b27b-4aa8-9f83-b5d31689d0b5"
   },
   "outputs": [
    {
     "ename": "AttributeError",
     "evalue": "ignored",
     "output_type": "error",
     "traceback": [
      "\u001b[0;31m---------------------------------------------------------------------------\u001b[0m",
      "\u001b[0;31mAttributeError\u001b[0m                            Traceback (most recent call last)",
      "\u001b[0;32m<ipython-input-46-6ec5ac4800f5>\u001b[0m in \u001b[0;36m<module>\u001b[0;34m\u001b[0m\n\u001b[0;32m----> 1\u001b[0;31m \u001b[0md\u001b[0m\u001b[0;34m.\u001b[0m\u001b[0mlabs\u001b[0m\u001b[0;34m\u001b[0m\u001b[0;34m\u001b[0m\u001b[0m\n\u001b[0m",
      "\u001b[0;32m/usr/local/lib/python3.7/dist-packages/pandas/core/generic.py\u001b[0m in \u001b[0;36m__getattr__\u001b[0;34m(self, name)\u001b[0m\n\u001b[1;32m   5485\u001b[0m         ):\n\u001b[1;32m   5486\u001b[0m             \u001b[0;32mreturn\u001b[0m \u001b[0mself\u001b[0m\u001b[0;34m[\u001b[0m\u001b[0mname\u001b[0m\u001b[0;34m]\u001b[0m\u001b[0;34m\u001b[0m\u001b[0;34m\u001b[0m\u001b[0m\n\u001b[0;32m-> 5487\u001b[0;31m         \u001b[0;32mreturn\u001b[0m \u001b[0mobject\u001b[0m\u001b[0;34m.\u001b[0m\u001b[0m__getattribute__\u001b[0m\u001b[0;34m(\u001b[0m\u001b[0mself\u001b[0m\u001b[0;34m,\u001b[0m \u001b[0mname\u001b[0m\u001b[0;34m)\u001b[0m\u001b[0;34m\u001b[0m\u001b[0;34m\u001b[0m\u001b[0m\n\u001b[0m\u001b[1;32m   5488\u001b[0m \u001b[0;34m\u001b[0m\u001b[0m\n\u001b[1;32m   5489\u001b[0m     \u001b[0;32mdef\u001b[0m \u001b[0m__setattr__\u001b[0m\u001b[0;34m(\u001b[0m\u001b[0mself\u001b[0m\u001b[0;34m,\u001b[0m \u001b[0mname\u001b[0m\u001b[0;34m:\u001b[0m \u001b[0mstr\u001b[0m\u001b[0;34m,\u001b[0m \u001b[0mvalue\u001b[0m\u001b[0;34m)\u001b[0m \u001b[0;34m->\u001b[0m \u001b[0;32mNone\u001b[0m\u001b[0;34m:\u001b[0m\u001b[0;34m\u001b[0m\u001b[0;34m\u001b[0m\u001b[0m\n",
      "\u001b[0;31mAttributeError\u001b[0m: 'DataFrame' object has no attribute 'labs'"
     ]
    }
   ],
   "source": [
    "d.labs"
   ]
  },
  {
   "cell_type": "code",
   "execution_count": null,
   "metadata": {
    "id": "qQ00A5VMl_Yt"
   },
   "outputs": [],
   "source": []
  },
  {
   "cell_type": "code",
   "execution_count": null,
   "metadata": {
    "id": "09MnAAoxiMAK"
   },
   "outputs": [],
   "source": [
    "# c_matrix = confusion_matrix(labs, preds, normalize = 'true')\n",
    "# plt.title(\"Confusion matrix\")\n",
    "# sns.heatmap(c_matrix, cmap='Blues', annot=True, xticklabels=labels, yticklabels=labels, fmt='.1%', cbar=True)\n",
    "# plt.xlabel('predictions')\n",
    "# plt.ylabel('true labels')\n",
    "# plt.show()"
   ]
  },
  {
   "cell_type": "code",
   "execution_count": 37,
   "metadata": {
    "executionInfo": {
     "elapsed": 180,
     "status": "ok",
     "timestamp": 1666064908861,
     "user": {
      "displayName": "Gerrit Lensink",
      "userId": "14030898330788478401"
     },
     "user_tz": 420
    },
    "id": "PFZEDo9wjDfk"
   },
   "outputs": [],
   "source": [
    "def plot_confusion(labels, predictions, normalize = True): \n",
    "    \n",
    "    if normalize:\n",
    "        norm = 'true'\n",
    "        fmt = '.1%'\n",
    "    else: \n",
    "        norm = 'false'\n",
    "        fmt = 'g'\n",
    "\n",
    "    labs_unique = np.sort(labels.unique())\n",
    "\n",
    "    c_matrix = confusion_matrix(labels, predictions, normalize = norm)\n",
    "    plt.title(\"Confusion matrix\")\n",
    "    sns.heatmap(c_matrix, cmap='Blues', annot=True, \n",
    "                xticklabels=labs_unique, yticklabels=labs_unique, \n",
    "                fmt=fmt, cbar=True)\n",
    "    plt.xlabel('predictions')\n",
    "    plt.ylabel('true labels')\n",
    "    plt.show()"
   ]
  },
  {
   "cell_type": "code",
   "execution_count": null,
   "metadata": {
    "colab": {
     "base_uri": "https://localhost:8080/"
    },
    "executionInfo": {
     "elapsed": 3,
     "status": "ok",
     "timestamp": 1665709692527,
     "user": {
      "displayName": "Gerrit Lensink",
      "userId": "14030898330788478401"
     },
     "user_tz": 420
    },
    "id": "2GV-KeFyCMnW",
    "outputId": "85cd0f09-45ab-4a58-af34-927dc945db13"
   },
   "outputs": [
    {
     "data": {
      "text/plain": [
       "6108"
      ]
     },
     "execution_count": 76,
     "metadata": {},
     "output_type": "execute_result"
    }
   ],
   "source": []
  },
  {
   "cell_type": "code",
   "execution_count": 38,
   "metadata": {
    "colab": {
     "base_uri": "https://localhost:8080/",
     "height": 454
    },
    "executionInfo": {
     "elapsed": 991,
     "status": "ok",
     "timestamp": 1666064913499,
     "user": {
      "displayName": "Gerrit Lensink",
      "userId": "14030898330788478401"
     },
     "user_tz": 420
    },
    "id": "0R29QMPmCtNe",
    "outputId": "806ab445-51be-4193-c57f-7abf656f5302"
   },
   "outputs": [
    {
     "data": {
      "image/png": "[encoded data removed]",
      "text/plain": [
       "<Figure size 432x288 with 2 Axes>"
      ]
     },
     "metadata": {
      "needs_background": "light"
     },
     "output_type": "display_data"
    }
   ],
   "source": [
    "plot_confusion(labs, preds, True)"
   ]
  },
  {
   "cell_type": "code",
   "execution_count": null,
   "metadata": {
    "id": "7sr0X_xOCv5N"
   },
   "outputs": [],
   "source": []
  }
 ],
 "metadata": {
  "accelerator": "GPU",
  "colab": {
   "collapsed_sections": [
    "WtiFA177sreH",
    "zV8Kq9caqc_m"
   ],
   "machine_shape": "hm",
   "provenance": []
  },
  "gpuClass": "premium",
  "kernelspec": {
   "display_name": "conda_python3",
   "language": "python",
   "name": "conda_python3"
  },
  "language_info": {
   "codemirror_mode": {
    "name": "ipython",
    "version": 3
   },
   "file_extension": ".py",
   "mimetype": "text/x-python",
   "name": "python",
   "nbconvert_exporter": "python",
   "pygments_lexer": "ipython3",
   "version": "3.8.12"
  }
 },
 "nbformat": 4,
 "nbformat_minor": 4
}
