{
 "cells": [
  {
   "cell_type": "markdown",
   "metadata": {
    "id": "nB6QjlVmr01i"
   },
   "source": [
    "# Modeling - First Pass"
   ]
  },
  {
   "cell_type": "markdown",
   "metadata": {
    "id": "iVEzW45qsn4t"
   },
   "source": [
    "### Installs, Packages, Seeds"
   ]
  },
  {
   "cell_type": "code",
   "execution_count": 17,
   "metadata": {},
   "outputs": [
    {
     "name": "stdout",
     "output_type": "stream",
     "text": [
      "Looking in indexes: https://pypi.org/simple, https://pip.repos.neuron.amazonaws.com\n",
      "\u001b[31mERROR: Could not find a version that satisfies the requirement mobilenet (from versions: none)\u001b[0m\u001b[31m\n",
      "\u001b[0m\u001b[31mERROR: No matching distribution found for mobilenet\u001b[0m\u001b[31m\n",
      "\u001b[0m\u001b[33mWARNING: You are using pip version 22.0.4; however, version 22.3.1 is available.\n",
      "You should consider upgrading via the '/home/ec2-user/anaconda3/envs/pytorch_p38/bin/python -m pip install --upgrade pip' command.\u001b[0m\u001b[33m\n",
      "\u001b[0mNote: you may need to restart the kernel to use updated packages.\n"
     ]
    }
   ],
   "source": [
    "# %pip install mobilenet"
   ]
  },
  {
   "cell_type": "code",
   "execution_count": 1,
   "metadata": {
    "colab": {
     "base_uri": "https://localhost:8080/"
    },
    "id": "rUgahMpfsKKF",
    "outputId": "2888a465-c4a0-4425-ae4f-dd9b9e0694c0"
   },
   "outputs": [
    {
     "name": "stdout",
     "output_type": "stream",
     "text": [
      "Looking in indexes: https://pypi.org/simple, https://pip.repos.neuron.amazonaws.com\n",
      "Requirement already satisfied: efficientnet_pytorch in /home/ec2-user/anaconda3/envs/pytorch_p38/lib/python3.8/site-packages (0.7.1)\n",
      "Requirement already satisfied: torch in /home/ec2-user/anaconda3/envs/pytorch_p38/lib/python3.8/site-packages (from efficientnet_pytorch) (1.10.0)\n",
      "Requirement already satisfied: typing_extensions in /home/ec2-user/anaconda3/envs/pytorch_p38/lib/python3.8/site-packages (from torch->efficientnet_pytorch) (4.0.0)\n",
      "\u001b[33mWARNING: You are using pip version 22.0.4; however, version 22.3.1 is available.\n",
      "You should consider upgrading via the '/home/ec2-user/anaconda3/envs/pytorch_p38/bin/python -m pip install --upgrade pip' command.\u001b[0m\u001b[33m\n",
      "\u001b[0mNote: you may need to restart the kernel to use updated packages.\n"
     ]
    }
   ],
   "source": [
    "%pip install efficientnet_pytorch"
   ]
  },
  {
   "cell_type": "code",
   "execution_count": 2,
   "metadata": {},
   "outputs": [
    {
     "name": "stdout",
     "output_type": "stream",
     "text": [
      "Looking in indexes: https://pypi.org/simple, https://pip.repos.neuron.amazonaws.com\n",
      "Requirement already satisfied: torch in /home/ec2-user/anaconda3/envs/pytorch_p38/lib/python3.8/site-packages (1.10.0)\n",
      "Requirement already satisfied: typing_extensions in /home/ec2-user/anaconda3/envs/pytorch_p38/lib/python3.8/site-packages (from torch) (4.0.0)\n",
      "\u001b[33mWARNING: You are using pip version 22.0.4; however, version 22.3.1 is available.\n",
      "You should consider upgrading via the '/home/ec2-user/anaconda3/envs/pytorch_p38/bin/python -m pip install --upgrade pip' command.\u001b[0m\u001b[33m\n",
      "\u001b[0mNote: you may need to restart the kernel to use updated packages.\n"
     ]
    }
   ],
   "source": [
    "%pip install torch\n",
    "# %pip install torchvision"
   ]
  },
  {
   "cell_type": "code",
   "execution_count": 1,
   "metadata": {
    "id": "hGcQYrTsrhNM"
   },
   "outputs": [],
   "source": [
    "%matplotlib inline\n",
    "\n",
    "# python libraties\n",
    "import os\n",
    "import cv2\n",
    "import itertools\n",
    "import matplotlib.pyplot as plt\n",
    "import numpy as np\n",
    "import pandas as pd\n",
    "import time\n",
    "import seaborn as sns\n",
    "from itertools import combinations, product\n",
    "\n",
    "# import imblearn\n",
    "import logging\n",
    "from tqdm import tqdm\n",
    "from glob import glob\n",
    "from PIL import Image\n",
    "import ipywidgets\n",
    "\n",
    "# pytorch libraries\n",
    "import torch\n",
    "from torch import optim,nn\n",
    "from torch.autograd import Variable\n",
    "from torch.utils.data import DataLoader,Dataset\n",
    "from torchvision import models,transforms\n",
    "from efficientnet_pytorch import EfficientNet\n",
    "\n",
    "# sklearn libraries\n",
    "from sklearn.metrics import confusion_matrix\n",
    "from sklearn.model_selection import train_test_split\n",
    "from sklearn.metrics import classification_report\n",
    "\n",
    "# google drive\n",
    "# from google.colab import drive # Connect colab to google drive\n",
    "\n",
    "# custom modeling libraries\n",
    "from build_model2 import initialize_model, load_split_data, build_loader, evaluate, train_model, model_scores, eval_model, add_results\n",
    "\n",
    "# other\n",
    "import importlib"
   ]
  },
  {
   "cell_type": "code",
   "execution_count": 42,
   "metadata": {},
   "outputs": [],
   "source": [
    "import build_model2\n",
    "importlib.reload(build_model2)\n",
    "\n",
    "from build_model2 import initialize_model, load_split_data, build_loader, evaluate, train_model, model_scores, eval_model, add_results\n",
    "\n",
    "# import matplotlib as mpl\n",
    "# print(mpl.get_cachedir())"
   ]
  },
  {
   "cell_type": "markdown",
   "metadata": {},
   "source": [
    "## Grid Components"
   ]
  },
  {
   "cell_type": "code",
   "execution_count": 3,
   "metadata": {},
   "outputs": [],
   "source": [
    "# epoch_search = [50]\n",
    "# # optim_search = ['SGD']\n",
    "# model_search = ['resnet', 'vgg']\n",
    "# lr_search = [.003, .0035]\n",
    "# split_search = ['split_8', 'split_9', 'split_10']\n",
    "\n",
    "# prods = list(product(epoch_search, model_search, lr_search, split_search))\n",
    "\n",
    "# es = pd.Series(list(zip(*prods))[0], name = 'epochs', dtype = 'int')\n",
    "# mods = pd.Series(list(zip(*prods))[1], name = 'pretrained_model')\n",
    "# learns = pd.Series(list(zip(*prods))[2], name = 'learning_rate')\n",
    "# splits = pd.Series(list(zip(*prods))[3], name = 'data_split')\n",
    "\n",
    "# g_search = pd.concat([es, mods, learns, splits], axis = 1)"
   ]
  },
  {
   "cell_type": "markdown",
   "metadata": {},
   "source": [
    "Load custom grid"
   ]
  },
  {
   "cell_type": "code",
   "execution_count": 4,
   "metadata": {},
   "outputs": [],
   "source": [
    "# custom_grid = pd.read_csv('/home/ec2-user/SageMaker/teledermatologyAI_capstone/model/gridsearch5/custom_grid.csv')\n",
    "# g_search = custom_grid\n",
    "# g_search"
   ]
  },
  {
   "cell_type": "code",
   "execution_count": 5,
   "metadata": {},
   "outputs": [],
   "source": [
    "# g_search.index+=500 # index to add to prior run"
   ]
  },
  {
   "cell_type": "markdown",
   "metadata": {
    "id": "576JOVVyzMBp"
   },
   "source": [
    "## Parameters"
   ]
  },
  {
   "cell_type": "code",
   "execution_count": 43,
   "metadata": {},
   "outputs": [
    {
     "name": "stdout",
     "output_type": "stream",
     "text": [
      "GPU Type: Tesla T4\n",
      "GPU Count: 1\n"
     ]
    }
   ],
   "source": [
    "model_dict = {'pretrained_model': 'resnet', \n",
    "              'epochs': 1, # NEEDS UPDATE\n",
    "              'home_directory': '/home/ec2-user/SageMaker/teledermatologyAI_capstone',\n",
    "              'mod_directory': '/home/ec2-user/SageMaker/teledermatologyAI_capstone/model/mobilenet',\n",
    "              'csv_name': 'full_data_final_diverse',\n",
    "              'split': 'split_8',\n",
    "              'cl': 'label_0',\n",
    "              'dev_state': False,\n",
    "              'dev_sample': 15000,\n",
    "              'seed': 99,\n",
    "              'lr': .0035,                  # from prior gridsearch\n",
    "              'batch_size':64,\n",
    "              'num_workers':24,\n",
    "              'transform':3,\n",
    "              'results_file':'gridsearch_results',\n",
    "              'model':None, # NEEDS UPDATE\n",
    "              'device': torch.device('cuda:0'), # NEEDS UPDATE\n",
    "              'optimizer': None, # NEEDS UPDATE\n",
    "              'criterion': None, # NEEDS UPDATE\n",
    "              'tuned_model_name': None, # NEEDS UPDATE\n",
    "              'show_val_cm': False,\n",
    "             }\n",
    "\n",
    "np.random.seed(model_dict['seed'])\n",
    "torch.cuda.manual_seed(model_dict['seed'])\n",
    "\n",
    "# Check GPU\n",
    "print('GPU Type:', torch.cuda.get_device_name())\n",
    "print('GPU Count:', torch.cuda.device_count())\n",
    "\n",
    "HOME = model_dict['home_directory']"
   ]
  },
  {
   "cell_type": "code",
   "execution_count": 44,
   "metadata": {},
   "outputs": [
    {
     "name": "stdout",
     "output_type": "stream",
     "text": [
      "/home/ec2-user/SageMaker/teledermatologyAI_capstone\n"
     ]
    }
   ],
   "source": [
    "cd $HOME"
   ]
  },
  {
   "cell_type": "markdown",
   "metadata": {},
   "source": [
    "## Data"
   ]
  },
  {
   "cell_type": "markdown",
   "metadata": {
    "id": "2TaPtH1nqVCm"
   },
   "source": [
    "## In for loop"
   ]
  },
  {
   "cell_type": "code",
   "execution_count": 48,
   "metadata": {},
   "outputs": [],
   "source": [
    "# # Gridsearch\n",
    "\n",
    "# # for i in g_search.iterrows():\n",
    "\n",
    "# # extract gridsearch features\n",
    "# # model_dict['epochs'] = i[1]['epochs']\n",
    "# # model_dict['pretrained_model'] = i[1]['pretrained_model']\n",
    "# model_dict['optimizer_name'] = 'SGD'\n",
    "# # model_dict['lr'] = i[1]['learning_rate']\n",
    "# # model_dict['split'] = i[1]['data_split']\n",
    "# # me = i[1]['epochs']\n",
    "# # mn = i[1]['pretrained_model']\n",
    "# # mo = model_dict['optimizer_name']\n",
    "# # ms = model_dict['split']\n",
    "# # mlr = i[1]['learning_rate']\n",
    "# # model_dict['alias'] = i[0]\n",
    "# model_dict['tuned_model_name'] = f'mobilenet'\n",
    "# direc = model_dict['mod_directory']\n",
    "# nam = model_dict['tuned_model_name']\n",
    "# # print(f'Learning Rate: {mlr}')\n",
    "\n",
    "# # data for each split\n",
    "# data, train, test, \n",
    "= load_split_data(directory = model_dict['home_directory'],\n",
    "#                                          csv_name = model_dict['csv_name'], \n",
    "#                                          data_split = model_dict['split'], \n",
    "#                                          label = model_dict['cl'],\n",
    "#                                          mode = 'all',\n",
    "#                                          dev_state = model_dict['dev_state'], \n",
    "#                                          dev_sample = model_dict['dev_sample'], \n",
    "#                                          seed = model_dict['seed']\n",
    "#                                          )\n",
    "\n",
    "# # Label dictionary for evaluation\n",
    "# labels_idx = np.sort(data.label_idx.unique())\n",
    "# label_map = data[['label', 'label_idx']].drop_duplicates().sort_values('label_idx')\n",
    "# label_dict = dict(zip(label_map.label_idx, label_map['label']))\n",
    "# model_dict['label_dict'] = label_dict\n",
    "\n",
    "# # set batch size\n",
    "# if model_dict['pretrained_model'] == 'efficientnet':\n",
    "#     model_dict['batch_size'] = 3\n",
    "# else: \n",
    "#     model_dict['batch_size'] = 64\n",
    "\n",
    "# # Load each model\n",
    "# model_ft, input_size = initialize_model(model_name = model_dict['pretrained_model'], \n",
    "#                                         num_classes = len(data.label.unique()),\n",
    "#                                         feature_extract = False, \n",
    "#                                         use_pretrained=True)\n",
    "\n",
    "# # Move model to GPU\n",
    "# model = model_ft.to(model_dict['device'])\n",
    "\n",
    "# model_dict.update({\n",
    "#                    'model':model,\n",
    "#                    'criterion': nn.CrossEntropyLoss().to(model_dict['device']),\n",
    "# })\n",
    "\n",
    "# # Define optimizer options:\n",
    "# if model_dict['optimizer_name'] == 'SGD':\n",
    "#     model_dict.update({'optimizer': optim.SGD(model.parameters(), lr=model_dict['lr'])})\n",
    "# elif model_dict['optimizer_name'] == 'Adam':\n",
    "#     model_dict.update({'optimizer': optim.Adam(model.parameters(), lr=model_dict['lr'])})\n",
    "# elif model_dict['optimizer_name'] == 'AdamW':\n",
    "#     model_dict.update({'optimizer': optim.AdamW(model.parameters(), lr=model_dict['lr'])})\n",
    "\n",
    "# # Update dictionary\n",
    "model_dict['resize'] = int(input_size/.85)\n",
    "\n",
    "\n",
    "# Set Transforms\n",
    "transform_header = [\n",
    "                    transforms.Resize(model_dict['resize']), #255\n",
    "                    transforms.CenterCrop(input_size)\n",
    "                    ]\n",
    "\n",
    "transform_body = [\n",
    "                  transforms.RandomHorizontalFlip(), # a\n",
    "                  transforms.RandomVerticalFlip(), # b\n",
    "                  transforms.RandomRotation(20), # c\n",
    "                  transforms.RandomCrop(size=(input_size,input_size)), # d\n",
    "#                       transforms.RandomInvert(), transforms.RandomPosterize(bits=2), # e\n",
    "#                       transforms.RandomAdjustSharpness(sharpness_factor=2), # f\n",
    "#                       transforms.RandomSolarize(threshold=192.0), # g\n",
    "#                       transforms.ColorJitter(brightness=0.1, contrast=0.1, hue=0.1) # h\n",
    "                  ]\n",
    "\n",
    "transform_footer = [transforms.ToTensor(), \n",
    "                  transforms.Normalize(mean=[.541, .414, .382], std=[.256,.215,.209])]\n",
    "\n",
    "val_transform = transforms.Compose([\n",
    "                                  transforms.Resize(model_dict['resize']),\n",
    "                                  transforms.CenterCrop(input_size),\n",
    "                                  transforms.ToTensor(), \n",
    "                                  transforms.Normalize(mean=[.541, .414, .382], std=[.256,.215,.209])\n",
    "                                ])\n",
    "\n",
    "test_loader = build_loader(mode = 'test', df = test, transform = val_transform, batch_size = model_dict['batch_size'], num_workers = model_dict['num_workers'])\n",
    "val_loader = build_loader(mode = 'val', df = val, transform = val_transform, batch_size = model_dict['batch_size'], num_workers = model_dict['num_workers'])   \n",
    "\n",
    "transform_list = transform_header + transform_body + transform_footer\n",
    "train_transform = transforms.Compose(transform_list)\n",
    "train_loader = build_loader(mode = 'train', df = train, transform = train_transform, batch_size = model_dict['batch_size'], num_workers = model_dict['num_workers'])\n",
    "\n",
    "\n",
    "loaders = {'train_loader':train_loader,\n",
    "                        'val_loader': val_loader,\n",
    "                        'test_loader': test_loader}\n",
    "model_dict['loader'] = loaders\n",
    "\n",
    "# pred_df, val_scores, tot_time = train_model(model_dict = model_dict)\n",
    "\n",
    "# acc, f1, f2, f5, prec, rec, d_0, d_1, d_2, d_3, d_4 = val_scores\n",
    "\n",
    "\n",
    "# pred_df.to_pickle(f'{direc}/{nam}_preds.pkl')\n",
    "\n",
    "# col_dict = {\n",
    "# #              'model': pd.Series(dtype = 'int'),\n",
    "# #              'file': pd.Series(dtype = 'str'),\n",
    "#          'tuned_model': model_dict['tuned_model_name'],\n",
    "#          'transform': model_dict['transform'],\n",
    "#          'lr': model_dict['lr'],\n",
    "#          'pretrained_model': model_dict['pretrained_model'],\n",
    "#          'optimizer': model_dict['optimizer_name'],\n",
    "#          'epochs': model_dict['epochs'],\n",
    "# #              'num_classes': model_dict['num_classes'],\n",
    "#          'batch_size': model_dict['batch_size'],\n",
    "#          'workers': model_dict['num_workers'],\n",
    "#          'train_time': tot_time,\n",
    "#          'data_split': model_dict['split'],\n",
    "#          'label_set': model_dict['cl'],\n",
    "#          'accur': acc,\n",
    "#          'F1': f1,\n",
    "#          'F0.5': f5,\n",
    "#          'F2': f2,\n",
    "#          'benign_accur': d_0,\n",
    "#          'noncancerous_accur': d_1,\n",
    "#          'malignant_accur': d_2,\n",
    "#          'infection_accur': d_3,\n",
    "#          'unclassified_accur': d_4\n",
    "# }\n",
    "\n",
    "# #     print(tdf.iloc[:i[0]+1][['transform', 'lr', 'accur']])\n",
    "# add_results(model_dict['results_file'], direc, pd.DataFrame(col_dict, index = [510]))\n",
    "# print('xxxxxxxxxxxxxxxxxxxxxxxxxxxxxxxxxxxxxxxxxxxxxxxxxxxxxxxxxxxxxxxxxxxxxxxxxxxxxx')"
   ]
  },
  {
   "cell_type": "code",
   "execution_count": 49,
   "metadata": {},
   "outputs": [
    {
     "data": {
      "text/plain": [
       "{'pretrained_model': 'resnet',\n",
       " 'epochs': 1,\n",
       " 'home_directory': '/home/ec2-user/SageMaker/teledermatologyAI_capstone',\n",
       " 'mod_directory': '/home/ec2-user/SageMaker/teledermatologyAI_capstone/model/mobilenet',\n",
       " 'csv_name': 'full_data_final_diverse',\n",
       " 'split': 'split_8',\n",
       " 'cl': 'label_0',\n",
       " 'dev_state': False,\n",
       " 'dev_sample': 15000,\n",
       " 'seed': 99,\n",
       " 'lr': 0.0035,\n",
       " 'batch_size': 64,\n",
       " 'num_workers': 24,\n",
       " 'transform': 3,\n",
       " 'results_file': 'gridsearch_results',\n",
       " 'model': None,\n",
       " 'device': device(type='cuda', index=0),\n",
       " 'optimizer': None,\n",
       " 'criterion': None,\n",
       " 'tuned_model_name': None,\n",
       " 'show_val_cm': False,\n",
       " 'resize': 263,\n",
       " 'loader': {'train_loader': <torch.utils.data.dataloader.DataLoader at 0x7ff9381527f0>,\n",
       "  'val_loader': <torch.utils.data.dataloader.DataLoader at 0x7ff938152310>,\n",
       "  'test_loader': <torch.utils.data.dataloader.DataLoader at 0x7ff938152250>}}"
      ]
     },
     "execution_count": 49,
     "metadata": {},
     "output_type": "execute_result"
    }
   ],
   "source": [
    "model_dict['split'] = 'split_8'\n",
    "model_dict['split']\n",
    "model_dict"
   ]
  },
  {
   "cell_type": "code",
   "execution_count": 87,
   "metadata": {},
   "outputs": [
    {
     "data": {
      "text/plain": [
       "device(type='cuda', index=0)"
      ]
     },
     "execution_count": 87,
     "metadata": {},
     "output_type": "execute_result"
    }
   ],
   "source": [
    "# model_dict['model'] =torch.load(f'model/gridsearch4/vgg_50e_SGD_split_10_GS220.pt')"
   ]
  },
  {
   "cell_type": "code",
   "execution_count": 50,
   "metadata": {},
   "outputs": [
    {
     "ename": "TypeError",
     "evalue": "'NoneType' object is not callable",
     "output_type": "error",
     "traceback": [
      "\u001b[0;31m---------------------------------------------------------------------------\u001b[0m",
      "\u001b[0;31mTypeError\u001b[0m                                 Traceback (most recent call last)",
      "\u001b[0;32m/tmp/ipykernel_43577/715516544.py\u001b[0m in \u001b[0;36m<cell line: 2>\u001b[0;34m()\u001b[0m\n\u001b[1;32m      1\u001b[0m \u001b[0;31m# # #\u001b[0m\u001b[0;34m\u001b[0m\u001b[0;34m\u001b[0m\u001b[0;34m\u001b[0m\u001b[0m\n\u001b[0;32m----> 2\u001b[0;31m pred_df = evaluate(model_name = 'gridsearch4/vgg_50e_SGD_split_10_GS220', \n\u001b[0m\u001b[1;32m      3\u001b[0m                    \u001b[0mmodel_source\u001b[0m \u001b[0;34m=\u001b[0m \u001b[0;34m'pt'\u001b[0m\u001b[0;34m,\u001b[0m\u001b[0;34m\u001b[0m\u001b[0;34m\u001b[0m\u001b[0m\n\u001b[1;32m      4\u001b[0m                    \u001b[0mmodel_dict\u001b[0m \u001b[0;34m=\u001b[0m \u001b[0mmodel_dict\u001b[0m\u001b[0;34m,\u001b[0m\u001b[0;34m\u001b[0m\u001b[0;34m\u001b[0m\u001b[0m\n\u001b[1;32m      5\u001b[0m                    \u001b[0mlabel_dict\u001b[0m \u001b[0;34m=\u001b[0m \u001b[0mlabel_dict\u001b[0m\u001b[0;34m,\u001b[0m\u001b[0;34m\u001b[0m\u001b[0;34m\u001b[0m\u001b[0m\n",
      "\u001b[0;32m~/SageMaker/teledermatologyAI_capstone/notebooks/modelling/build_model2.py\u001b[0m in \u001b[0;36mevaluate\u001b[0;34m(model_name, model_source, model_dict, label_dict, show_cm, cm_normalize)\u001b[0m\n\u001b[1;32m    239\u001b[0m     \u001b[0mmodel\u001b[0m\u001b[0;34m\u001b[0m\u001b[0;34m\u001b[0m\u001b[0m\n\u001b[1;32m    240\u001b[0m     \u001b[0;31m# Evaluate\u001b[0m\u001b[0;34m\u001b[0m\u001b[0;34m\u001b[0m\u001b[0;34m\u001b[0m\u001b[0m\n\u001b[0;32m--> 241\u001b[0;31m     \u001b[0mloss_test\u001b[0m\u001b[0;34m,\u001b[0m \u001b[0macc_test\u001b[0m\u001b[0;34m,\u001b[0m \u001b[0mpreds\u001b[0m\u001b[0;34m,\u001b[0m \u001b[0mlabs\u001b[0m \u001b[0;34m=\u001b[0m \u001b[0mrun\u001b[0m\u001b[0;34m(\u001b[0m\u001b[0;34m'test'\u001b[0m\u001b[0;34m,\u001b[0m \u001b[0mtest_loader\u001b[0m\u001b[0;34m,\u001b[0m \u001b[0mmodel_in\u001b[0m\u001b[0;34m,\u001b[0m \u001b[0mcriterion\u001b[0m\u001b[0;34m,\u001b[0m \u001b[0moptimizer\u001b[0m\u001b[0;34m,\u001b[0m \u001b[0;32mNone\u001b[0m\u001b[0;34m,\u001b[0m \u001b[0mmodel_dict\u001b[0m\u001b[0;34m)\u001b[0m\u001b[0;34m\u001b[0m\u001b[0;34m\u001b[0m\u001b[0m\n\u001b[0m\u001b[1;32m    242\u001b[0m \u001b[0;34m\u001b[0m\u001b[0m\n\u001b[1;32m    243\u001b[0m     \u001b[0;31m# Flatten model labels and predictions\u001b[0m\u001b[0;34m\u001b[0m\u001b[0;34m\u001b[0m\u001b[0;34m\u001b[0m\u001b[0m\n",
      "\u001b[0;32m~/SageMaker/teledermatologyAI_capstone/notebooks/modelling/build_model2.py\u001b[0m in \u001b[0;36mrun\u001b[0;34m(mode, loader, model, criterion, optimizer, epoch, model_dict)\u001b[0m\n\u001b[1;32m    361\u001b[0m                 \u001b[0macc\u001b[0m\u001b[0;34m.\u001b[0m\u001b[0mupdate\u001b[0m\u001b[0;34m(\u001b[0m\u001b[0mprediction\u001b[0m\u001b[0;34m.\u001b[0m\u001b[0meq\u001b[0m\u001b[0;34m(\u001b[0m\u001b[0mlabels\u001b[0m\u001b[0;34m.\u001b[0m\u001b[0mview_as\u001b[0m\u001b[0;34m(\u001b[0m\u001b[0mprediction\u001b[0m\u001b[0;34m)\u001b[0m\u001b[0;34m)\u001b[0m\u001b[0;34m.\u001b[0m\u001b[0msum\u001b[0m\u001b[0;34m(\u001b[0m\u001b[0;34m)\u001b[0m\u001b[0;34m.\u001b[0m\u001b[0mitem\u001b[0m\u001b[0;34m(\u001b[0m\u001b[0;34m)\u001b[0m\u001b[0;34m/\u001b[0m\u001b[0mN\u001b[0m\u001b[0;34m)\u001b[0m\u001b[0;34m\u001b[0m\u001b[0;34m\u001b[0m\u001b[0m\n\u001b[1;32m    362\u001b[0m \u001b[0;34m\u001b[0m\u001b[0m\n\u001b[0;32m--> 363\u001b[0;31m                 \u001b[0mmode_loss\u001b[0m\u001b[0;34m.\u001b[0m\u001b[0mupdate\u001b[0m\u001b[0;34m(\u001b[0m\u001b[0mcriterion\u001b[0m\u001b[0;34m(\u001b[0m\u001b[0moutputs\u001b[0m\u001b[0;34m,\u001b[0m \u001b[0mlabels\u001b[0m\u001b[0;34m)\u001b[0m\u001b[0;34m.\u001b[0m\u001b[0mitem\u001b[0m\u001b[0;34m(\u001b[0m\u001b[0;34m)\u001b[0m\u001b[0;34m)\u001b[0m\u001b[0;34m\u001b[0m\u001b[0;34m\u001b[0m\u001b[0m\n\u001b[0m\u001b[1;32m    364\u001b[0m \u001b[0;34m\u001b[0m\u001b[0m\n\u001b[1;32m    365\u001b[0m         \u001b[0mprint\u001b[0m\u001b[0;34m(\u001b[0m\u001b[0;34m'------------------------------------------------------------'\u001b[0m\u001b[0;34m)\u001b[0m\u001b[0;34m\u001b[0m\u001b[0;34m\u001b[0m\u001b[0m\n",
      "\u001b[0;31mTypeError\u001b[0m: 'NoneType' object is not callable"
     ]
    }
   ],
   "source": [
    "# # # \n",
    "pred_df = evaluate(model_name = 'gridsearch4/vgg_50e_SGD_split_10_GS220', \n",
    "                   model_source = 'pt', \n",
    "                   model_dict = model_dict, \n",
    "                   label_dict = label_dict, \n",
    "                   show_cm = True)"
   ]
  },
  {
   "cell_type": "code",
   "execution_count": 28,
   "metadata": {},
   "outputs": [
    {
     "name": "stderr",
     "output_type": "stream",
     "text": [
      "/home/ec2-user/anaconda3/envs/pytorch_p38/lib/python3.8/site-packages/IPython/core/interactiveshell.py:3524: DtypeWarning: Columns (7,14,15,16,17,18,19,20,21,22,23,24) have mixed types.Specify dtype option on import or set low_memory=False.\n",
      "  exec(code_obj, self.user_global_ns, self.user_ns)\n"
     ]
    }
   ],
   "source": [
    "new = pd.read_csv('full_data_final_diverse.csv', index_col = 0)"
   ]
  },
  {
   "cell_type": "code",
   "execution_count": 104,
   "metadata": {},
   "outputs": [],
   "source": [
    "test_trial = new[new.split_10 == 'test']"
   ]
  },
  {
   "cell_type": "code",
   "execution_count": 69,
   "metadata": {},
   "outputs": [
    {
     "name": "stderr",
     "output_type": "stream",
     "text": [
      "/tmp/ipykernel_43577/2821554051.py:1: DtypeWarning: Columns (7,14,15,16,17,18,19,20,21,22,23,24) have mixed types.Specify dtype option on import or set low_memory=False.\n",
      "  data, train, test, val = load_split_data(directory = model_dict['home_directory'], csv_name = 'full_data_final_diverse', data_split = 'split_8', label = 'label_0', mode = 'all', dev_state = False, dev_sample = 15000, seed = 99)\n"
     ]
    }
   ],
   "source": [
    "data, train, test, val = load_split_data(directory = model_dict['home_directory'], csv_name = 'full_data_final_diverse', data_split = 'split_8', label = 'label_0', mode = 'all', dev_state = False, dev_sample = 15000, seed = 99)"
   ]
  },
  {
   "cell_type": "code",
   "execution_count": null,
   "metadata": {},
   "outputs": [],
   "source": []
  },
  {
   "cell_type": "code",
   "execution_count": 106,
   "metadata": {},
   "outputs": [],
   "source": [
    "data, train, test, val = load_split_data(directory = model_dict['home_directory'], csv_name = 'full_data_final_diverse', data_split = 'split_8', label = 'label_0', mode = 'all', dev_state = False, dev_sample = 15000, seed = 99)\n",
    "test_trial = test[['path', 'label_idx']]\n",
    "loader = build_loader(mode = 'test', df = test_trial, transform = val_transform, batch_size = 64, num_workers = 24)"
   ]
  },
  {
   "cell_type": "code",
   "execution_count": 105,
   "metadata": {},
   "outputs": [
    {
     "data": {
      "text/html": [
       "<div>\n",
       "<style scoped>\n",
       "    .dataframe tbody tr th:only-of-type {\n",
       "        vertical-align: middle;\n",
       "    }\n",
       "\n",
       "    .dataframe tbody tr th {\n",
       "        vertical-align: top;\n",
       "    }\n",
       "\n",
       "    .dataframe thead th {\n",
       "        text-align: right;\n",
       "    }\n",
       "</style>\n",
       "<table border=\"1\" class=\"dataframe\">\n",
       "  <thead>\n",
       "    <tr style=\"text-align: right;\">\n",
       "      <th></th>\n",
       "      <th>image_id</th>\n",
       "      <th>diagnosis</th>\n",
       "      <th>age</th>\n",
       "      <th>sex</th>\n",
       "      <th>localization</th>\n",
       "      <th>source</th>\n",
       "      <th>severity</th>\n",
       "      <th>unaltered_path</th>\n",
       "      <th>F6_path</th>\n",
       "      <th>path</th>\n",
       "      <th>...</th>\n",
       "      <th>split_1</th>\n",
       "      <th>split_2</th>\n",
       "      <th>split_3</th>\n",
       "      <th>split_4</th>\n",
       "      <th>split_5</th>\n",
       "      <th>split_6</th>\n",
       "      <th>split_7</th>\n",
       "      <th>split_8</th>\n",
       "      <th>split_9</th>\n",
       "      <th>split_10</th>\n",
       "    </tr>\n",
       "  </thead>\n",
       "  <tbody>\n",
       "    <tr>\n",
       "      <th>11</th>\n",
       "      <td>lichen-planus-84</td>\n",
       "      <td>psoriasis pictures lichen planus and related d...</td>\n",
       "      <td>0.0</td>\n",
       "      <td>unknown</td>\n",
       "      <td>unknown</td>\n",
       "      <td>dermnet</td>\n",
       "      <td>unknown</td>\n",
       "      <td>./Data/dermnet/train/Nail Fungus and other Nai...</td>\n",
       "      <td>/home/ec2-user/SageMaker/teledermatologyAI_cap...</td>\n",
       "      <td>./Data/dermnet/train/Nail Fungus and other Nai...</td>\n",
       "      <td>...</td>\n",
       "      <td>NaN</td>\n",
       "      <td>NaN</td>\n",
       "      <td>NaN</td>\n",
       "      <td>NaN</td>\n",
       "      <td>NaN</td>\n",
       "      <td>NaN</td>\n",
       "      <td>NaN</td>\n",
       "      <td>test</td>\n",
       "      <td>train</td>\n",
       "      <td>test</td>\n",
       "    </tr>\n",
       "    <tr>\n",
       "      <th>14</th>\n",
       "      <td>lichen-planus-97</td>\n",
       "      <td>psoriasis pictures lichen planus and related d...</td>\n",
       "      <td>0.0</td>\n",
       "      <td>unknown</td>\n",
       "      <td>unknown</td>\n",
       "      <td>dermnet</td>\n",
       "      <td>unknown</td>\n",
       "      <td>./Data/dermnet/train/Nail Fungus and other Nai...</td>\n",
       "      <td>/home/ec2-user/SageMaker/teledermatologyAI_cap...</td>\n",
       "      <td>./Data/dermnet/train/Nail Fungus and other Nai...</td>\n",
       "      <td>...</td>\n",
       "      <td>NaN</td>\n",
       "      <td>NaN</td>\n",
       "      <td>NaN</td>\n",
       "      <td>NaN</td>\n",
       "      <td>NaN</td>\n",
       "      <td>NaN</td>\n",
       "      <td>NaN</td>\n",
       "      <td>train</td>\n",
       "      <td>train</td>\n",
       "      <td>test</td>\n",
       "    </tr>\n",
       "    <tr>\n",
       "      <th>19</th>\n",
       "      <td>lichen-planus-125</td>\n",
       "      <td>psoriasis pictures lichen planus and related d...</td>\n",
       "      <td>0.0</td>\n",
       "      <td>unknown</td>\n",
       "      <td>unknown</td>\n",
       "      <td>dermnet</td>\n",
       "      <td>unknown</td>\n",
       "      <td>./Data/dermnet/test/Nail Fungus and other Nail...</td>\n",
       "      <td>/home/ec2-user/SageMaker/teledermatologyAI_cap...</td>\n",
       "      <td>./Data/dermnet/test/Nail Fungus and other Nail...</td>\n",
       "      <td>...</td>\n",
       "      <td>NaN</td>\n",
       "      <td>NaN</td>\n",
       "      <td>NaN</td>\n",
       "      <td>NaN</td>\n",
       "      <td>NaN</td>\n",
       "      <td>NaN</td>\n",
       "      <td>NaN</td>\n",
       "      <td>val</td>\n",
       "      <td>test</td>\n",
       "      <td>test</td>\n",
       "    </tr>\n",
       "    <tr>\n",
       "      <th>25</th>\n",
       "      <td>lichen-planus-144</td>\n",
       "      <td>psoriasis pictures lichen planus and related d...</td>\n",
       "      <td>0.0</td>\n",
       "      <td>unknown</td>\n",
       "      <td>unknown</td>\n",
       "      <td>dermnet</td>\n",
       "      <td>unknown</td>\n",
       "      <td>./Data/dermnet/train/Nail Fungus and other Nai...</td>\n",
       "      <td>/home/ec2-user/SageMaker/teledermatologyAI_cap...</td>\n",
       "      <td>/home/ec2-user/SageMaker/teledermatologyAI_cap...</td>\n",
       "      <td>...</td>\n",
       "      <td>NaN</td>\n",
       "      <td>NaN</td>\n",
       "      <td>NaN</td>\n",
       "      <td>NaN</td>\n",
       "      <td>NaN</td>\n",
       "      <td>NaN</td>\n",
       "      <td>NaN</td>\n",
       "      <td>train</td>\n",
       "      <td>train</td>\n",
       "      <td>test</td>\n",
       "    </tr>\n",
       "    <tr>\n",
       "      <th>26</th>\n",
       "      <td>lichen-planus-153</td>\n",
       "      <td>psoriasis pictures lichen planus and related d...</td>\n",
       "      <td>0.0</td>\n",
       "      <td>unknown</td>\n",
       "      <td>unknown</td>\n",
       "      <td>dermnet</td>\n",
       "      <td>unknown</td>\n",
       "      <td>./Data/dermnet/test/Nail Fungus and other Nail...</td>\n",
       "      <td>/home/ec2-user/SageMaker/teledermatologyAI_cap...</td>\n",
       "      <td>/home/ec2-user/SageMaker/teledermatologyAI_cap...</td>\n",
       "      <td>...</td>\n",
       "      <td>NaN</td>\n",
       "      <td>NaN</td>\n",
       "      <td>NaN</td>\n",
       "      <td>NaN</td>\n",
       "      <td>NaN</td>\n",
       "      <td>NaN</td>\n",
       "      <td>NaN</td>\n",
       "      <td>test</td>\n",
       "      <td>test</td>\n",
       "      <td>test</td>\n",
       "    </tr>\n",
       "    <tr>\n",
       "      <th>...</th>\n",
       "      <td>...</td>\n",
       "      <td>...</td>\n",
       "      <td>...</td>\n",
       "      <td>...</td>\n",
       "      <td>...</td>\n",
       "      <td>...</td>\n",
       "      <td>...</td>\n",
       "      <td>...</td>\n",
       "      <td>...</td>\n",
       "      <td>...</td>\n",
       "      <td>...</td>\n",
       "      <td>...</td>\n",
       "      <td>...</td>\n",
       "      <td>...</td>\n",
       "      <td>...</td>\n",
       "      <td>...</td>\n",
       "      <td>...</td>\n",
       "      <td>...</td>\n",
       "      <td>...</td>\n",
       "      <td>...</td>\n",
       "      <td>...</td>\n",
       "    </tr>\n",
       "    <tr>\n",
       "      <th>78117</th>\n",
       "      <td>ISIC_0073030</td>\n",
       "      <td>squamous-cell-carcinoma</td>\n",
       "      <td>55.0</td>\n",
       "      <td>female</td>\n",
       "      <td>anterior torso</td>\n",
       "      <td>ISIC_2019</td>\n",
       "      <td>NaN</td>\n",
       "      <td>./Data/ISIC_2019/ISIC_2019_Training_Input/ISIC...</td>\n",
       "      <td>/home/ec2-user/SageMaker/teledermatologyAI_cap...</td>\n",
       "      <td>./Data/ISIC_2019/ISIC_2019_Training_Input/ISIC...</td>\n",
       "      <td>...</td>\n",
       "      <td>NaN</td>\n",
       "      <td>NaN</td>\n",
       "      <td>NaN</td>\n",
       "      <td>NaN</td>\n",
       "      <td>NaN</td>\n",
       "      <td>NaN</td>\n",
       "      <td>NaN</td>\n",
       "      <td>train</td>\n",
       "      <td>train</td>\n",
       "      <td>test</td>\n",
       "    </tr>\n",
       "    <tr>\n",
       "      <th>78123</th>\n",
       "      <td>ISIC_0073037</td>\n",
       "      <td>basal cell carcinoma</td>\n",
       "      <td>85.0</td>\n",
       "      <td>male</td>\n",
       "      <td>anterior torso</td>\n",
       "      <td>ISIC_2019</td>\n",
       "      <td>NaN</td>\n",
       "      <td>./Data/ISIC_2019/ISIC_2019_Training_Input/ISIC...</td>\n",
       "      <td>/home/ec2-user/SageMaker/teledermatologyAI_cap...</td>\n",
       "      <td>./Data/ISIC_2019/ISIC_2019_Training_Input/ISIC...</td>\n",
       "      <td>...</td>\n",
       "      <td>NaN</td>\n",
       "      <td>NaN</td>\n",
       "      <td>NaN</td>\n",
       "      <td>NaN</td>\n",
       "      <td>NaN</td>\n",
       "      <td>NaN</td>\n",
       "      <td>NaN</td>\n",
       "      <td>train</td>\n",
       "      <td>train</td>\n",
       "      <td>test</td>\n",
       "    </tr>\n",
       "    <tr>\n",
       "      <th>78170</th>\n",
       "      <td>ISIC_0073113</td>\n",
       "      <td>basal cell carcinoma</td>\n",
       "      <td>25.0</td>\n",
       "      <td>female</td>\n",
       "      <td>head/neck</td>\n",
       "      <td>ISIC_2019</td>\n",
       "      <td>NaN</td>\n",
       "      <td>./Data/ISIC_2019/ISIC_2019_Training_Input/ISIC...</td>\n",
       "      <td>/home/ec2-user/SageMaker/teledermatologyAI_cap...</td>\n",
       "      <td>./Data/ISIC_2019/ISIC_2019_Training_Input/ISIC...</td>\n",
       "      <td>...</td>\n",
       "      <td>NaN</td>\n",
       "      <td>NaN</td>\n",
       "      <td>NaN</td>\n",
       "      <td>NaN</td>\n",
       "      <td>NaN</td>\n",
       "      <td>NaN</td>\n",
       "      <td>NaN</td>\n",
       "      <td>val</td>\n",
       "      <td>train</td>\n",
       "      <td>test</td>\n",
       "    </tr>\n",
       "    <tr>\n",
       "      <th>78175</th>\n",
       "      <td>ISIC_0073123</td>\n",
       "      <td>basal cell carcinoma</td>\n",
       "      <td>80.0</td>\n",
       "      <td>male</td>\n",
       "      <td>anterior torso</td>\n",
       "      <td>ISIC_2019</td>\n",
       "      <td>NaN</td>\n",
       "      <td>./Data/ISIC_2019/ISIC_2019_Training_Input/ISIC...</td>\n",
       "      <td>/home/ec2-user/SageMaker/teledermatologyAI_cap...</td>\n",
       "      <td>./Data/ISIC_2019/ISIC_2019_Training_Input/ISIC...</td>\n",
       "      <td>...</td>\n",
       "      <td>NaN</td>\n",
       "      <td>NaN</td>\n",
       "      <td>NaN</td>\n",
       "      <td>NaN</td>\n",
       "      <td>NaN</td>\n",
       "      <td>NaN</td>\n",
       "      <td>NaN</td>\n",
       "      <td>NaN</td>\n",
       "      <td>NaN</td>\n",
       "      <td>test</td>\n",
       "    </tr>\n",
       "    <tr>\n",
       "      <th>78191</th>\n",
       "      <td>ISIC_0073146</td>\n",
       "      <td>melanocytic nevi</td>\n",
       "      <td>55.0</td>\n",
       "      <td>female</td>\n",
       "      <td>lower extremity</td>\n",
       "      <td>ISIC_2019</td>\n",
       "      <td>NaN</td>\n",
       "      <td>./Data/ISIC_2019/ISIC_2019_Training_Input/ISIC...</td>\n",
       "      <td>/home/ec2-user/SageMaker/teledermatologyAI_cap...</td>\n",
       "      <td>./Data/ISIC_2019/ISIC_2019_Training_Input/ISIC...</td>\n",
       "      <td>...</td>\n",
       "      <td>NaN</td>\n",
       "      <td>NaN</td>\n",
       "      <td>NaN</td>\n",
       "      <td>NaN</td>\n",
       "      <td>NaN</td>\n",
       "      <td>NaN</td>\n",
       "      <td>NaN</td>\n",
       "      <td>train</td>\n",
       "      <td>train</td>\n",
       "      <td>test</td>\n",
       "    </tr>\n",
       "  </tbody>\n",
       "</table>\n",
       "<p>3443 rows × 27 columns</p>\n",
       "</div>"
      ],
      "text/plain": [
       "                image_id                                          diagnosis  \\\n",
       "11      lichen-planus-84  psoriasis pictures lichen planus and related d...   \n",
       "14      lichen-planus-97  psoriasis pictures lichen planus and related d...   \n",
       "19     lichen-planus-125  psoriasis pictures lichen planus and related d...   \n",
       "25     lichen-planus-144  psoriasis pictures lichen planus and related d...   \n",
       "26     lichen-planus-153  psoriasis pictures lichen planus and related d...   \n",
       "...                  ...                                                ...   \n",
       "78117       ISIC_0073030                            squamous-cell-carcinoma   \n",
       "78123       ISIC_0073037                               basal cell carcinoma   \n",
       "78170       ISIC_0073113                               basal cell carcinoma   \n",
       "78175       ISIC_0073123                               basal cell carcinoma   \n",
       "78191       ISIC_0073146                                   melanocytic nevi   \n",
       "\n",
       "        age      sex     localization     source severity  \\\n",
       "11      0.0  unknown          unknown    dermnet  unknown   \n",
       "14      0.0  unknown          unknown    dermnet  unknown   \n",
       "19      0.0  unknown          unknown    dermnet  unknown   \n",
       "25      0.0  unknown          unknown    dermnet  unknown   \n",
       "26      0.0  unknown          unknown    dermnet  unknown   \n",
       "...     ...      ...              ...        ...      ...   \n",
       "78117  55.0   female   anterior torso  ISIC_2019      NaN   \n",
       "78123  85.0     male   anterior torso  ISIC_2019      NaN   \n",
       "78170  25.0   female        head/neck  ISIC_2019      NaN   \n",
       "78175  80.0     male   anterior torso  ISIC_2019      NaN   \n",
       "78191  55.0   female  lower extremity  ISIC_2019      NaN   \n",
       "\n",
       "                                          unaltered_path  \\\n",
       "11     ./Data/dermnet/train/Nail Fungus and other Nai...   \n",
       "14     ./Data/dermnet/train/Nail Fungus and other Nai...   \n",
       "19     ./Data/dermnet/test/Nail Fungus and other Nail...   \n",
       "25     ./Data/dermnet/train/Nail Fungus and other Nai...   \n",
       "26     ./Data/dermnet/test/Nail Fungus and other Nail...   \n",
       "...                                                  ...   \n",
       "78117  ./Data/ISIC_2019/ISIC_2019_Training_Input/ISIC...   \n",
       "78123  ./Data/ISIC_2019/ISIC_2019_Training_Input/ISIC...   \n",
       "78170  ./Data/ISIC_2019/ISIC_2019_Training_Input/ISIC...   \n",
       "78175  ./Data/ISIC_2019/ISIC_2019_Training_Input/ISIC...   \n",
       "78191  ./Data/ISIC_2019/ISIC_2019_Training_Input/ISIC...   \n",
       "\n",
       "                                                 F6_path  \\\n",
       "11     /home/ec2-user/SageMaker/teledermatologyAI_cap...   \n",
       "14     /home/ec2-user/SageMaker/teledermatologyAI_cap...   \n",
       "19     /home/ec2-user/SageMaker/teledermatologyAI_cap...   \n",
       "25     /home/ec2-user/SageMaker/teledermatologyAI_cap...   \n",
       "26     /home/ec2-user/SageMaker/teledermatologyAI_cap...   \n",
       "...                                                  ...   \n",
       "78117  /home/ec2-user/SageMaker/teledermatologyAI_cap...   \n",
       "78123  /home/ec2-user/SageMaker/teledermatologyAI_cap...   \n",
       "78170  /home/ec2-user/SageMaker/teledermatologyAI_cap...   \n",
       "78175  /home/ec2-user/SageMaker/teledermatologyAI_cap...   \n",
       "78191  /home/ec2-user/SageMaker/teledermatologyAI_cap...   \n",
       "\n",
       "                                                    path  ...  split_1  \\\n",
       "11     ./Data/dermnet/train/Nail Fungus and other Nai...  ...      NaN   \n",
       "14     ./Data/dermnet/train/Nail Fungus and other Nai...  ...      NaN   \n",
       "19     ./Data/dermnet/test/Nail Fungus and other Nail...  ...      NaN   \n",
       "25     /home/ec2-user/SageMaker/teledermatologyAI_cap...  ...      NaN   \n",
       "26     /home/ec2-user/SageMaker/teledermatologyAI_cap...  ...      NaN   \n",
       "...                                                  ...  ...      ...   \n",
       "78117  ./Data/ISIC_2019/ISIC_2019_Training_Input/ISIC...  ...      NaN   \n",
       "78123  ./Data/ISIC_2019/ISIC_2019_Training_Input/ISIC...  ...      NaN   \n",
       "78170  ./Data/ISIC_2019/ISIC_2019_Training_Input/ISIC...  ...      NaN   \n",
       "78175  ./Data/ISIC_2019/ISIC_2019_Training_Input/ISIC...  ...      NaN   \n",
       "78191  ./Data/ISIC_2019/ISIC_2019_Training_Input/ISIC...  ...      NaN   \n",
       "\n",
       "       split_2 split_3 split_4 split_5 split_6 split_7 split_8 split_9  \\\n",
       "11         NaN     NaN     NaN     NaN     NaN     NaN    test   train   \n",
       "14         NaN     NaN     NaN     NaN     NaN     NaN   train   train   \n",
       "19         NaN     NaN     NaN     NaN     NaN     NaN     val    test   \n",
       "25         NaN     NaN     NaN     NaN     NaN     NaN   train   train   \n",
       "26         NaN     NaN     NaN     NaN     NaN     NaN    test    test   \n",
       "...        ...     ...     ...     ...     ...     ...     ...     ...   \n",
       "78117      NaN     NaN     NaN     NaN     NaN     NaN   train   train   \n",
       "78123      NaN     NaN     NaN     NaN     NaN     NaN   train   train   \n",
       "78170      NaN     NaN     NaN     NaN     NaN     NaN     val   train   \n",
       "78175      NaN     NaN     NaN     NaN     NaN     NaN     NaN     NaN   \n",
       "78191      NaN     NaN     NaN     NaN     NaN     NaN   train   train   \n",
       "\n",
       "      split_10  \n",
       "11        test  \n",
       "14        test  \n",
       "19        test  \n",
       "25        test  \n",
       "26        test  \n",
       "...        ...  \n",
       "78117     test  \n",
       "78123     test  \n",
       "78170     test  \n",
       "78175     test  \n",
       "78191     test  \n",
       "\n",
       "[3443 rows x 27 columns]"
      ]
     },
     "execution_count": 105,
     "metadata": {},
     "output_type": "execute_result"
    }
   ],
   "source": [
    "test_trial"
   ]
  },
  {
   "cell_type": "code",
   "execution_count": 107,
   "metadata": {},
   "outputs": [],
   "source": [
    "model = torch.load(f'model/gridsearch4/vgg_50e_SGD_split_10_GS220.pt')\n",
    "mode = 'test'\n",
    "loader = loader\n",
    "criterion = nn.CrossEntropyLoss().to(device)\n",
    "# optimizer\n",
    "# run(mode, loader, model, criterion, optimizer = None, epoch = None, model_dict = model_dict)\n",
    "# evaluate(model_name = 'gridsearch4/vgg_50e_SGD_split_10_GS220', \n",
    "#                    model_source = 'pt', \n",
    "#                    model_dict = model_dict, \n",
    "#                    label_dict = label_dict, \n",
    "#                    show_cm = True)"
   ]
  },
  {
   "cell_type": "code",
   "execution_count": 108,
   "metadata": {},
   "outputs": [
    {
     "data": {
      "text/plain": [
       "'split_10'"
      ]
     },
     "execution_count": 108,
     "metadata": {},
     "output_type": "execute_result"
    }
   ],
   "source": [
    "model_dict['split'] = 'split_10'\n",
    "model_dict['split']"
   ]
  },
  {
   "cell_type": "code",
   "execution_count": 109,
   "metadata": {},
   "outputs": [
    {
     "data": {
      "text/plain": [
       "<torch.utils.data.dataloader.DataLoader at 0x7ff98ecf9fd0>"
      ]
     },
     "execution_count": 109,
     "metadata": {},
     "output_type": "execute_result"
    }
   ],
   "source": [
    "model_dict['loader']['test_loader'] = loader\n",
    "model_dict['loader']['test_loader']"
   ]
  },
  {
   "cell_type": "code",
   "execution_count": 110,
   "metadata": {},
   "outputs": [
    {
     "data": {
      "text/plain": [
       "CrossEntropyLoss()"
      ]
     },
     "execution_count": 110,
     "metadata": {},
     "output_type": "execute_result"
    }
   ],
   "source": [
    " model_dict.update({\n",
    "                   'criterion': nn.CrossEntropyLoss().to(model_dict['device']),\n",
    "})\n",
    "model_dict['criterion']"
   ]
  },
  {
   "cell_type": "code",
   "execution_count": 111,
   "metadata": {},
   "outputs": [
    {
     "data": {
      "text/plain": [
       "<torch.utils.data.dataloader.DataLoader at 0x7ff98ecf9fd0>"
      ]
     },
     "execution_count": 111,
     "metadata": {},
     "output_type": "execute_result"
    }
   ],
   "source": [
    "loader"
   ]
  },
  {
   "cell_type": "code",
   "execution_count": 115,
   "metadata": {},
   "outputs": [
    {
     "data": {
      "text/plain": [
       "{0: 'Benign Marking or Mole',\n",
       " 1: 'Non-Cancerous Skin Condition',\n",
       " 2: 'Potentially Malignant Skin Tumors',\n",
       " 3: 'Toxin, Fungal, Bug, Viral, or Bacterial Infections',\n",
       " 4: 'Unclassified'}"
      ]
     },
     "execution_count": 115,
     "metadata": {},
     "output_type": "execute_result"
    }
   ],
   "source": [
    "label_dict"
   ]
  },
  {
   "cell_type": "code",
   "execution_count": 114,
   "metadata": {},
   "outputs": [
    {
     "name": "stdout",
     "output_type": "stream",
     "text": [
      "------------------------------------------------------------\n",
      "[epoch test], [test loss 1.43232], [test acc 0.66750]\n",
      "------------------------------------------------------------\n"
     ]
    },
    {
     "data": {
      "image/png": "[encoded data removed]",
      "text/plain": [
       "<Figure size 432x288 with 2 Axes>"
      ]
     },
     "metadata": {
      "needs_background": "light"
     },
     "output_type": "display_data"
    }
   ],
   "source": [
    "pred_df = evaluate(model_name = 'gridsearch4/resnet_50e_SGD_split_8_GS212', \n",
    "                   model_source = 'pt', \n",
    "                   model_dict = model_dict, \n",
    "                   label_dict = label_dict, \n",
    "                   show_cm = True)"
   ]
  },
  {
   "cell_type": "code",
   "execution_count": 112,
   "metadata": {},
   "outputs": [
    {
     "name": "stdout",
     "output_type": "stream",
     "text": [
      "------------------------------------------------------------\n",
      "[epoch test], [test loss 0.89213], [test acc 0.71148]\n",
      "------------------------------------------------------------\n"
     ]
    },
    {
     "data": {
      "image/png": "[encoded data removed]",
      "text/plain": [
       "<Figure size 432x288 with 2 Axes>"
      ]
     },
     "metadata": {
      "needs_background": "light"
     },
     "output_type": "display_data"
    }
   ],
   "source": [
    "pred_df = evaluate(model_name = 'gridsearch4/vgg_50e_SGD_split_10_GS220', \n",
    "                   model_source = 'pt', \n",
    "                   model_dict = model_dict, \n",
    "                   label_dict = label_dict, \n",
    "                   show_cm = True)"
   ]
  },
  {
   "cell_type": "code",
   "execution_count": 113,
   "metadata": {},
   "outputs": [
    {
     "data": {
      "text/html": [
       "<div>\n",
       "<style scoped>\n",
       "    .dataframe tbody tr th:only-of-type {\n",
       "        vertical-align: middle;\n",
       "    }\n",
       "\n",
       "    .dataframe tbody tr th {\n",
       "        vertical-align: top;\n",
       "    }\n",
       "\n",
       "    .dataframe thead th {\n",
       "        text-align: right;\n",
       "    }\n",
       "</style>\n",
       "<table border=\"1\" class=\"dataframe\">\n",
       "  <thead>\n",
       "    <tr style=\"text-align: right;\">\n",
       "      <th></th>\n",
       "      <th>lab</th>\n",
       "      <th>pred</th>\n",
       "      <th>lab_idx</th>\n",
       "      <th>pred_idx</th>\n",
       "    </tr>\n",
       "  </thead>\n",
       "  <tbody>\n",
       "    <tr>\n",
       "      <th>0</th>\n",
       "      <td>Non-Cancerous Skin Condition</td>\n",
       "      <td>Unclassified</td>\n",
       "      <td>1</td>\n",
       "      <td>4</td>\n",
       "    </tr>\n",
       "    <tr>\n",
       "      <th>1</th>\n",
       "      <td>Non-Cancerous Skin Condition</td>\n",
       "      <td>Non-Cancerous Skin Condition</td>\n",
       "      <td>1</td>\n",
       "      <td>1</td>\n",
       "    </tr>\n",
       "    <tr>\n",
       "      <th>2</th>\n",
       "      <td>Non-Cancerous Skin Condition</td>\n",
       "      <td>Unclassified</td>\n",
       "      <td>1</td>\n",
       "      <td>4</td>\n",
       "    </tr>\n",
       "    <tr>\n",
       "      <th>3</th>\n",
       "      <td>Non-Cancerous Skin Condition</td>\n",
       "      <td>Toxin, Fungal, Bug, Viral, or Bacterial Infect...</td>\n",
       "      <td>1</td>\n",
       "      <td>3</td>\n",
       "    </tr>\n",
       "    <tr>\n",
       "      <th>4</th>\n",
       "      <td>Toxin, Fungal, Bug, Viral, or Bacterial Infect...</td>\n",
       "      <td>Toxin, Fungal, Bug, Viral, or Bacterial Infect...</td>\n",
       "      <td>3</td>\n",
       "      <td>3</td>\n",
       "    </tr>\n",
       "    <tr>\n",
       "      <th>...</th>\n",
       "      <td>...</td>\n",
       "      <td>...</td>\n",
       "      <td>...</td>\n",
       "      <td>...</td>\n",
       "    </tr>\n",
       "    <tr>\n",
       "      <th>2413</th>\n",
       "      <td>Potentially Malignant Skin Tumors</td>\n",
       "      <td>Potentially Malignant Skin Tumors</td>\n",
       "      <td>2</td>\n",
       "      <td>2</td>\n",
       "    </tr>\n",
       "    <tr>\n",
       "      <th>2414</th>\n",
       "      <td>Potentially Malignant Skin Tumors</td>\n",
       "      <td>Potentially Malignant Skin Tumors</td>\n",
       "      <td>2</td>\n",
       "      <td>2</td>\n",
       "    </tr>\n",
       "    <tr>\n",
       "      <th>2415</th>\n",
       "      <td>Benign Marking or Mole</td>\n",
       "      <td>Benign Marking or Mole</td>\n",
       "      <td>0</td>\n",
       "      <td>0</td>\n",
       "    </tr>\n",
       "    <tr>\n",
       "      <th>2416</th>\n",
       "      <td>Potentially Malignant Skin Tumors</td>\n",
       "      <td>Potentially Malignant Skin Tumors</td>\n",
       "      <td>2</td>\n",
       "      <td>2</td>\n",
       "    </tr>\n",
       "    <tr>\n",
       "      <th>2417</th>\n",
       "      <td>Potentially Malignant Skin Tumors</td>\n",
       "      <td>Potentially Malignant Skin Tumors</td>\n",
       "      <td>2</td>\n",
       "      <td>2</td>\n",
       "    </tr>\n",
       "  </tbody>\n",
       "</table>\n",
       "<p>2418 rows × 4 columns</p>\n",
       "</div>"
      ],
      "text/plain": [
       "                                                    lab  \\\n",
       "0                          Non-Cancerous Skin Condition   \n",
       "1                          Non-Cancerous Skin Condition   \n",
       "2                          Non-Cancerous Skin Condition   \n",
       "3                          Non-Cancerous Skin Condition   \n",
       "4     Toxin, Fungal, Bug, Viral, or Bacterial Infect...   \n",
       "...                                                 ...   \n",
       "2413                  Potentially Malignant Skin Tumors   \n",
       "2414                  Potentially Malignant Skin Tumors   \n",
       "2415                             Benign Marking or Mole   \n",
       "2416                  Potentially Malignant Skin Tumors   \n",
       "2417                  Potentially Malignant Skin Tumors   \n",
       "\n",
       "                                                   pred  lab_idx  pred_idx  \n",
       "0                                          Unclassified        1         4  \n",
       "1                          Non-Cancerous Skin Condition        1         1  \n",
       "2                                          Unclassified        1         4  \n",
       "3     Toxin, Fungal, Bug, Viral, or Bacterial Infect...        1         3  \n",
       "4     Toxin, Fungal, Bug, Viral, or Bacterial Infect...        3         3  \n",
       "...                                                 ...      ...       ...  \n",
       "2413                  Potentially Malignant Skin Tumors        2         2  \n",
       "2414                  Potentially Malignant Skin Tumors        2         2  \n",
       "2415                             Benign Marking or Mole        0         0  \n",
       "2416                  Potentially Malignant Skin Tumors        2         2  \n",
       "2417                  Potentially Malignant Skin Tumors        2         2  \n",
       "\n",
       "[2418 rows x 4 columns]"
      ]
     },
     "execution_count": 113,
     "metadata": {},
     "output_type": "execute_result"
    }
   ],
   "source": [
    "pred_df"
   ]
  },
  {
   "cell_type": "code",
   "execution_count": 81,
   "metadata": {},
   "outputs": [],
   "source": [
    "from build_model2 import run"
   ]
  },
  {
   "cell_type": "code",
   "execution_count": 58,
   "metadata": {},
   "outputs": [],
   "source": [
    "model = torch.load(f'model/gridsearch4/vgg_50e_SGD_split_10_GS220.pt')"
   ]
  }
 ],
 "metadata": {
  "accelerator": "GPU",
  "colab": {
   "collapsed_sections": [
    "WtiFA177sreH",
    "zV8Kq9caqc_m"
   ],
   "machine_shape": "hm",
   "provenance": [],
   "toc_visible": true
  },
  "gpuClass": "premium",
  "kernelspec": {
   "display_name": "conda_pytorch_p38",
   "language": "python",
   "name": "conda_pytorch_p38"
  },
  "language_info": {
   "codemirror_mode": {
    "name": "ipython",
    "version": 3
   },
   "file_extension": ".py",
   "mimetype": "text/x-python",
   "name": "python",
   "nbconvert_exporter": "python",
   "pygments_lexer": "ipython3",
   "version": "3.8.12"
  }
 },
 "nbformat": 4,
 "nbformat_minor": 4
}
