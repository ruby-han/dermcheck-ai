{
 "cells": [
  {
   "cell_type": "markdown",
   "metadata": {
    "id": "nB6QjlVmr01i"
   },
   "source": [
    "# Modeling - First Pass"
   ]
  },
  {
   "cell_type": "markdown",
   "metadata": {
    "id": "iVEzW45qsn4t"
   },
   "source": [
    "### Installs, Packages, Seeds"
   ]
  },
  {
   "cell_type": "code",
   "execution_count": 160,
   "metadata": {
    "colab": {
     "base_uri": "https://localhost:8080/"
    },
    "id": "rUgahMpfsKKF",
    "outputId": "2888a465-c4a0-4425-ae4f-dd9b9e0694c0"
   },
   "outputs": [
    {
     "name": "stdout",
     "output_type": "stream",
     "text": [
      "Looking in indexes: https://pypi.org/simple, https://pip.repos.neuron.amazonaws.com\n",
      "Requirement already satisfied: efficientnet_pytorch in /home/ec2-user/anaconda3/envs/pytorch_p38/lib/python3.8/site-packages (0.7.1)\n",
      "Requirement already satisfied: torch in /home/ec2-user/anaconda3/envs/pytorch_p38/lib/python3.8/site-packages (from efficientnet_pytorch) (1.10.0)\n",
      "Requirement already satisfied: typing_extensions in /home/ec2-user/anaconda3/envs/pytorch_p38/lib/python3.8/site-packages (from torch->efficientnet_pytorch) (4.0.0)\n",
      "\u001b[33mWARNING: You are using pip version 22.0.4; however, version 22.3.1 is available.\n",
      "You should consider upgrading via the '/home/ec2-user/anaconda3/envs/pytorch_p38/bin/python -m pip install --upgrade pip' command.\u001b[0m\u001b[33m\n",
      "\u001b[0mNote: you may need to restart the kernel to use updated packages.\n"
     ]
    }
   ],
   "source": [
    "%pip install efficientnet_pytorch"
   ]
  },
  {
   "cell_type": "code",
   "execution_count": 161,
   "metadata": {},
   "outputs": [
    {
     "name": "stdout",
     "output_type": "stream",
     "text": [
      "Looking in indexes: https://pypi.org/simple, https://pip.repos.neuron.amazonaws.com\n",
      "Requirement already satisfied: torch in /home/ec2-user/anaconda3/envs/pytorch_p38/lib/python3.8/site-packages (1.10.0)\n",
      "Requirement already satisfied: typing_extensions in /home/ec2-user/anaconda3/envs/pytorch_p38/lib/python3.8/site-packages (from torch) (4.0.0)\n",
      "\u001b[33mWARNING: You are using pip version 22.0.4; however, version 22.3.1 is available.\n",
      "You should consider upgrading via the '/home/ec2-user/anaconda3/envs/pytorch_p38/bin/python -m pip install --upgrade pip' command.\u001b[0m\u001b[33m\n",
      "\u001b[0mNote: you may need to restart the kernel to use updated packages.\n"
     ]
    }
   ],
   "source": [
    "%pip install torch\n",
    "# %pip install torchvision"
   ]
  },
  {
   "cell_type": "code",
   "execution_count": 162,
   "metadata": {
    "id": "hGcQYrTsrhNM"
   },
   "outputs": [],
   "source": [
    "%matplotlib inline\n",
    "\n",
    "# python libraties\n",
    "import os\n",
    "import cv2\n",
    "import itertools\n",
    "import matplotlib.pyplot as plt\n",
    "import numpy as np\n",
    "import pandas as pd\n",
    "import time\n",
    "import seaborn as sns\n",
    "from itertools import combinations, product\n",
    "\n",
    "# import imblearn\n",
    "import logging\n",
    "from tqdm import tqdm\n",
    "from glob import glob\n",
    "from PIL import Image\n",
    "import ipywidgets\n",
    "\n",
    "# pytorch libraries\n",
    "import torch\n",
    "from torch import optim,nn\n",
    "from torch.autograd import Variable\n",
    "from torch.utils.data import DataLoader,Dataset\n",
    "from torchvision import models,transforms\n",
    "from efficientnet_pytorch import EfficientNet\n",
    "\n",
    "# sklearn libraries\n",
    "from sklearn.metrics import confusion_matrix\n",
    "from sklearn.model_selection import train_test_split\n",
    "from sklearn.metrics import classification_report\n",
    "\n",
    "# google drive\n",
    "# from google.colab import drive # Connect colab to google drive\n",
    "\n",
    "# custom modeling libraries\n",
    "from build_model2 import initialize_model, load_split_data, build_loader, evaluate, train_model, model_scores, eval_model, add_results\n",
    "\n",
    "# other\n",
    "import importlib"
   ]
  },
  {
   "cell_type": "code",
   "execution_count": 163,
   "metadata": {},
   "outputs": [],
   "source": [
    "import build_model2\n",
    "importlib.reload(build_model2)\n",
    "\n",
    "from build_model2 import initialize_model, load_split_data, build_loader, evaluate, train_model, model_scores, eval_model, add_results\n",
    "\n",
    "# import matplotlib as mpl\n",
    "# print(mpl.get_cachedir())"
   ]
  },
  {
   "cell_type": "markdown",
   "metadata": {
    "id": "576JOVVyzMBp"
   },
   "source": [
    "## Parameters"
   ]
  },
  {
   "cell_type": "code",
   "execution_count": 164,
   "metadata": {},
   "outputs": [
    {
     "name": "stdout",
     "output_type": "stream",
     "text": [
      "GPU Type: Tesla T4\n",
      "GPU Count: 1\n"
     ]
    }
   ],
   "source": [
    "model_dict = {'pretrained_model': 'resnet',\n",
    "              'epochs': 3,\n",
    "              'home_directory': '/home/ec2-user/SageMaker/teledermatologyAI_capstone',\n",
    "              'mod_directory': '/home/ec2-user/SageMaker/teledermatologyAI_capstone/model/gridsearch',\n",
    "              'csv_name': 'full_data_rename',\n",
    "              'split': 'split_3',\n",
    "              'cl': 'label_0',\n",
    "              'dev_state': False,\n",
    "              'dev_sample': 15000,\n",
    "              'seed': 99,\n",
    "              'lr': .002,\n",
    "              'batch_size':3, #64\n",
    "              'num_workers':24,\n",
    "              'transform_set':'a',\n",
    "              'results_file':'result_test'\n",
    "             }\n",
    "\n",
    "np.random.seed(model_dict['seed'])\n",
    "torch.cuda.manual_seed(model_dict['seed'])\n",
    "\n",
    "# Check GPU\n",
    "print('GPU Type:', torch.cuda.get_device_name())\n",
    "print('GPU Count:', torch.cuda.device_count())"
   ]
  },
  {
   "cell_type": "markdown",
   "metadata": {},
   "source": [
    "## Data"
   ]
  },
  {
   "cell_type": "code",
   "execution_count": 165,
   "metadata": {},
   "outputs": [],
   "source": [
    "data, train, test, val = load_split_data(directory = model_dict['home_directory'],\n",
    "                                         csv_name = model_dict['csv_name'], \n",
    "                                         data_split = model_dict['split'], \n",
    "                                         label = model_dict['cl'],\n",
    "                                         mode = 'all',\n",
    "                                         dev_state = model_dict['dev_state'], \n",
    "                                         dev_sample = model_dict['dev_sample'], \n",
    "                                         seed = model_dict['seed']\n",
    "                                         )"
   ]
  },
  {
   "cell_type": "markdown",
   "metadata": {
    "id": "2TaPtH1nqVCm"
   },
   "source": [
    "## Modeling"
   ]
  },
  {
   "cell_type": "code",
   "execution_count": 166,
   "metadata": {},
   "outputs": [],
   "source": [
    "model_dict['pretrained_model'] = 'vgg'"
   ]
  },
  {
   "cell_type": "code",
   "execution_count": 167,
   "metadata": {
    "colab": {
     "base_uri": "https://localhost:8080/"
    },
    "id": "1lBHrD3vqpUJ",
    "outputId": "a46c5a4b-fdd9-4bf4-dc47-60bab59044a6"
   },
   "outputs": [
    {
     "name": "stderr",
     "output_type": "stream",
     "text": [
      "Downloading: \"https://download.pytorch.org/models/vgg11_bn-6002323d.pth\" to /home/ec2-user/.cache/torch/hub/checkpoints/vgg11_bn-6002323d.pth\n"
     ]
    },
    {
     "data": {
      "application/vnd.jupyter.widget-view+json": {
       "model_id": "3ad03d57e63141418f7c946943def9fc",
       "version_major": 2,
       "version_minor": 0
      },
      "text/plain": [
       "  0%|          | 0.00/507M [00:00<?, ?B/s]"
      ]
     },
     "metadata": {},
     "output_type": "display_data"
    }
   ],
   "source": [
    "# Initialize the model for this run\n",
    "model_ft, input_size = initialize_model(model_name = model_dict['pretrained_model'], \n",
    "                                        num_classes = len(data.label.unique()),\n",
    "                                        feature_extract = False, \n",
    "                                        use_pretrained=True)\n",
    "\n",
    "# Define GPU:\n",
    "device = torch.device('cuda:0')\n",
    "\n",
    "# Move model to GPU\n",
    "model = model_ft.to(device)"
   ]
  },
  {
   "cell_type": "markdown",
   "metadata": {
    "id": "9jewnveQy1FN"
   },
   "source": [
    "After model is defined, add final Parameters"
   ]
  },
  {
   "cell_type": "code",
   "execution_count": 168,
   "metadata": {},
   "outputs": [
    {
     "data": {
      "text/plain": [
       "224"
      ]
     },
     "execution_count": 168,
     "metadata": {},
     "output_type": "execute_result"
    }
   ],
   "source": [
    "input_size"
   ]
  },
  {
   "cell_type": "code",
   "execution_count": 169,
   "metadata": {},
   "outputs": [],
   "source": [
    "# add some params after model definition\n",
    "model_dict.update({'model':model,\n",
    "                   'device':device,\n",
    "                   'optimizer': optim.SGD(model.parameters(), lr=model_dict['lr']),\n",
    "#                    'optimizer': optim.Adam(model.parameters(), lr=model_dict['lr']),\n",
    "#                    'optimizer': optim.AdamW(model.parameters(), lr=model_dict['lr']),\n",
    "                   'criterion': nn.CrossEntropyLoss().to(device),\n",
    "                   'tuned_model_name':'resnet_split3_3e_Ta',})"
   ]
  },
  {
   "cell_type": "code",
   "execution_count": 170,
   "metadata": {},
   "outputs": [
    {
     "data": {
      "text/plain": [
       "263"
      ]
     },
     "execution_count": 170,
     "metadata": {},
     "output_type": "execute_result"
    }
   ],
   "source": [
    "resize = int(input_size/.85)\n",
    "resize\n"
   ]
  },
  {
   "cell_type": "code",
   "execution_count": 171,
   "metadata": {},
   "outputs": [],
   "source": [
    "transform_header = [\n",
    "                    transforms.Resize(resize), #255\n",
    "                    transforms.CenterCrop(input_size)\n",
    "                    ]\n",
    "\n",
    "transform_body = [\n",
    "                  transforms.RandomHorizontalFlip(), # a\n",
    "                  transforms.RandomVerticalFlip(), # b\n",
    "                  transforms.RandomRotation(20), # c\n",
    "                  transforms.RandomCrop(size=(input_size,input_size)), # d\n",
    "                  transforms.RandomInvert(), transforms.RandomPosterize(bits=2), # e\n",
    "                  transforms.RandomAdjustSharpness(sharpness_factor=2), # f\n",
    "                  transforms.RandomSolarize(threshold=192.0), # g\n",
    "                  transforms.ColorJitter(brightness=0.1, contrast=0.1, hue=0.1) # h\n",
    "                  ]\n",
    "\n",
    "transform_footer = [transforms.ToTensor(), \n",
    "                  transforms.Normalize(mean=[.541, .414, .382], std=[.256,.215,.209])]"
   ]
  },
  {
   "cell_type": "code",
   "execution_count": 172,
   "metadata": {},
   "outputs": [],
   "source": [
    "# transform_list = transform_header + transform_body + transform_footer"
   ]
  },
  {
   "cell_type": "code",
   "execution_count": 173,
   "metadata": {
    "id": "L_7ROxXWKtfZ"
   },
   "outputs": [],
   "source": [
    "# using torch vision 'transforms'\n",
    "# train_transform = transforms.Compose(transform_list)\n",
    "# define the transformation of the val images. also used for test\n",
    "val_transform = transforms.Compose([\n",
    "                                      transforms.Resize(resize),\n",
    "                                      transforms.CenterCrop(input_size),\n",
    "                                      transforms.ToTensor(), \n",
    "                                      transforms.Normalize(mean=[.541, .414, .382], std=[.256,.215,.209])\n",
    "                                    ])"
   ]
  },
  {
   "cell_type": "code",
   "execution_count": 174,
   "metadata": {},
   "outputs": [],
   "source": [
    "# tdf['transform'][0]"
   ]
  },
  {
   "cell_type": "code",
   "execution_count": 175,
   "metadata": {},
   "outputs": [],
   "source": [
    "trans = [0, 1, 2, 3, 4, 5, 6, 7]\n",
    "lrs = [.001, .0015, .002, .0025, .003, .0035, .004]\n",
    "prods = list(product(trans, lrs))\n",
    "\n",
    "trans_num = pd.Series(list(zip(*prods))[0], name = 'transform', dtype = 'int')\n",
    "learn_rate = pd.Series(list(zip(*prods))[1], name = 'lr')\n",
    "tdf = pd.concat([trans_num, learn_rate], axis = 1)\n",
    "tdf['accur'] = pd.Series(dtype = 'float')\n",
    "tdf['accur_0'] = pd.Series(dtype = 'float')\n",
    "tdf['accur_1'] = pd.Series(dtype = 'float')\n",
    "tdf['accur_2'] = pd.Series(dtype = 'float')\n",
    "tdf['accur_3'] = pd.Series(dtype = 'float')\n",
    "tdf['accur_4'] = pd.Series(dtype = 'float')\n",
    "tdf['accur_5'] = pd.Series(dtype = 'float')"
   ]
  },
  {
   "cell_type": "markdown",
   "metadata": {},
   "source": [
    "### Assemble data loaders"
   ]
  },
  {
   "cell_type": "markdown",
   "metadata": {
    "id": "TaUNPyrOwYnP"
   },
   "source": [
    "Run the model"
   ]
  },
  {
   "cell_type": "code",
   "execution_count": 176,
   "metadata": {},
   "outputs": [],
   "source": [
    "HOME = model_dict['home_directory']"
   ]
  },
  {
   "cell_type": "code",
   "execution_count": 177,
   "metadata": {},
   "outputs": [
    {
     "name": "stdout",
     "output_type": "stream",
     "text": [
      "/home/ec2-user/SageMaker/teledermatologyAI_capstone\n"
     ]
    }
   ],
   "source": [
    "cd $HOME"
   ]
  },
  {
   "cell_type": "code",
   "execution_count": 178,
   "metadata": {},
   "outputs": [],
   "source": [
    "tdf = tdf.iloc[:1]"
   ]
  },
  {
   "cell_type": "code",
   "execution_count": 179,
   "metadata": {},
   "outputs": [
    {
     "data": {
      "text/html": [
       "<div>\n",
       "<style scoped>\n",
       "    .dataframe tbody tr th:only-of-type {\n",
       "        vertical-align: middle;\n",
       "    }\n",
       "\n",
       "    .dataframe tbody tr th {\n",
       "        vertical-align: top;\n",
       "    }\n",
       "\n",
       "    .dataframe thead th {\n",
       "        text-align: right;\n",
       "    }\n",
       "</style>\n",
       "<table border=\"1\" class=\"dataframe\">\n",
       "  <thead>\n",
       "    <tr style=\"text-align: right;\">\n",
       "      <th></th>\n",
       "      <th>transform</th>\n",
       "      <th>lr</th>\n",
       "      <th>accur</th>\n",
       "      <th>accur_0</th>\n",
       "      <th>accur_1</th>\n",
       "      <th>accur_2</th>\n",
       "      <th>accur_3</th>\n",
       "      <th>accur_4</th>\n",
       "      <th>accur_5</th>\n",
       "    </tr>\n",
       "  </thead>\n",
       "  <tbody>\n",
       "    <tr>\n",
       "      <th>0</th>\n",
       "      <td>0</td>\n",
       "      <td>0.001</td>\n",
       "      <td>NaN</td>\n",
       "      <td>NaN</td>\n",
       "      <td>NaN</td>\n",
       "      <td>NaN</td>\n",
       "      <td>NaN</td>\n",
       "      <td>NaN</td>\n",
       "      <td>NaN</td>\n",
       "    </tr>\n",
       "  </tbody>\n",
       "</table>\n",
       "</div>"
      ],
      "text/plain": [
       "   transform     lr  accur  accur_0  accur_1  accur_2  accur_3  accur_4  \\\n",
       "0          0  0.001    NaN      NaN      NaN      NaN      NaN      NaN   \n",
       "\n",
       "   accur_5  \n",
       "0      NaN  "
      ]
     },
     "execution_count": 179,
     "metadata": {},
     "output_type": "execute_result"
    }
   ],
   "source": [
    "tdf"
   ]
  },
  {
   "cell_type": "markdown",
   "metadata": {
    "id": "OJRXeTZDqtLA"
   },
   "source": [
    "## Train Sequence"
   ]
  },
  {
   "cell_type": "code",
   "execution_count": 180,
   "metadata": {},
   "outputs": [],
   "source": [
    "model_dict['epochs'] = 1\n"
   ]
  },
  {
   "cell_type": "code",
   "execution_count": 181,
   "metadata": {},
   "outputs": [
    {
     "name": "stdout",
     "output_type": "stream",
     "text": [
      "Starting Training trials0\n",
      "[epoch 1], [iter 100 of 4500],[train loss 1.54395], [train acc 0.24000]\n",
      "[epoch 1], [iter 200 of 4500],[train loss 1.45168], [train acc 0.32833]\n",
      "[epoch 1], [iter 300 of 4500],[train loss 1.38775], [train acc 0.37222]\n",
      "[epoch 1], [iter 400 of 4500],[train loss 1.34528], [train acc 0.40500]\n",
      "[epoch 1], [iter 500 of 4500],[train loss 1.32412], [train acc 0.42067]\n",
      "[epoch 1], [iter 600 of 4500],[train loss 1.29396], [train acc 0.43556]\n",
      "[epoch 1], [iter 700 of 4500],[train loss 1.28159], [train acc 0.44286]\n",
      "[epoch 1], [iter 800 of 4500],[train loss 1.25889], [train acc 0.45875]\n",
      "[epoch 1], [iter 900 of 4500],[train loss 1.24333], [train acc 0.46778]\n",
      "[epoch 1], [iter 1000 of 4500],[train loss 1.22573], [train acc 0.47900]\n",
      "[epoch 1], [iter 1100 of 4500],[train loss 1.21783], [train acc 0.48333]\n",
      "[epoch 1], [iter 1200 of 4500],[train loss 1.21442], [train acc 0.48972]\n",
      "[epoch 1], [iter 1300 of 4500],[train loss 1.21319], [train acc 0.49179]\n",
      "[epoch 1], [iter 1400 of 4500],[train loss 1.20343], [train acc 0.49690]\n",
      "[epoch 1], [iter 1500 of 4500],[train loss 1.19444], [train acc 0.50044]\n",
      "[epoch 1], [iter 1600 of 4500],[train loss 1.18598], [train acc 0.50500]\n",
      "[epoch 1], [iter 1700 of 4500],[train loss 1.18110], [train acc 0.50765]\n",
      "[epoch 1], [iter 1800 of 4500],[train loss 1.17572], [train acc 0.51130]\n",
      "[epoch 1], [iter 1900 of 4500],[train loss 1.16838], [train acc 0.51579]\n",
      "[epoch 1], [iter 2000 of 4500],[train loss 1.16072], [train acc 0.51950]\n",
      "[epoch 1], [iter 2100 of 4500],[train loss 1.15949], [train acc 0.52032]\n",
      "[epoch 1], [iter 2200 of 4500],[train loss 1.15524], [train acc 0.52303]\n",
      "[epoch 1], [iter 2300 of 4500],[train loss 1.15015], [train acc 0.52565]\n",
      "[epoch 1], [iter 2400 of 4500],[train loss 1.14544], [train acc 0.52806]\n",
      "[epoch 1], [iter 2500 of 4500],[train loss 1.14340], [train acc 0.52733]\n",
      "[epoch 1], [iter 2600 of 4500],[train loss 1.14232], [train acc 0.52897]\n",
      "[epoch 1], [iter 2700 of 4500],[train loss 1.14206], [train acc 0.52840]\n",
      "[epoch 1], [iter 2800 of 4500],[train loss 1.13802], [train acc 0.52929]\n",
      "[epoch 1], [iter 2900 of 4500],[train loss 1.13530], [train acc 0.53057]\n",
      "[epoch 1], [iter 3000 of 4500],[train loss 1.13354], [train acc 0.53156]\n",
      "[epoch 1], [iter 3100 of 4500],[train loss 1.13149], [train acc 0.53344]\n",
      "[epoch 1], [iter 3200 of 4500],[train loss 1.12880], [train acc 0.53448]\n",
      "[epoch 1], [iter 3300 of 4500],[train loss 1.12171], [train acc 0.53737]\n",
      "[epoch 1], [iter 3400 of 4500],[train loss 1.11794], [train acc 0.53912]\n",
      "[epoch 1], [iter 3500 of 4500],[train loss 1.11496], [train acc 0.53981]\n",
      "[epoch 1], [iter 3600 of 4500],[train loss 1.11402], [train acc 0.54130]\n",
      "[epoch 1], [iter 3700 of 4500],[train loss 1.11182], [train acc 0.54279]\n",
      "[epoch 1], [iter 3800 of 4500],[train loss 1.10881], [train acc 0.54377]\n",
      "[epoch 1], [iter 3900 of 4500],[train loss 1.10448], [train acc 0.54581]\n",
      "[epoch 1], [iter 4000 of 4500],[train loss 1.10353], [train acc 0.54650]\n",
      "[epoch 1], [iter 4100 of 4500],[train loss 1.10039], [train acc 0.54756]\n",
      "[epoch 1], [iter 4200 of 4500],[train loss 1.09939], [train acc 0.54841]\n",
      "[epoch 1], [iter 4300 of 4500],[train loss 1.09646], [train acc 0.54977]\n",
      "[epoch 1], [iter 4400 of 4500],[train loss 1.09470], [train acc 0.55061]\n",
      "[epoch 1], [iter 4500 of 4500],[train loss 1.09234], [train acc 0.55193]\n",
      "------------------------------------------------------------\n",
      "[epoch 1], [val loss 0.98366], [val acc 0.59296]\n",
      "------------------------------------------------------------\n"
     ]
    },
    {
     "data": {
      "image/png": "[encoded data removed]",
      "text/plain": [
       "<Figure size 432x288 with 2 Axes>"
      ]
     },
     "metadata": {
      "needs_background": "light"
     },
     "output_type": "display_data"
    },
    {
     "name": "stdout",
     "output_type": "stream",
     "text": [
      "\n",
      "EPOCH 1 :\n",
      "*****************************************************\n",
      "Complete in 4m 10s\n",
      "best record: [epoch 1], [val loss 0.98366], [val acc 0.59296]\n",
      "*****************************************************\n",
      "\n",
      "Total run Complete in 4m 10s\n"
     ]
    }
   ],
   "source": [
    "test_loader = build_loader(mode = 'test', df = test, transform = val_transform, batch_size = model_dict['batch_size'], num_workers = model_dict['num_workers'])\n",
    "val_loader = build_loader(mode = 'val', df = val, transform = val_transform, batch_size = model_dict['batch_size'], num_workers = model_dict['num_workers'])\n",
    "\n",
    "# Label dictionary for evaluation\n",
    "labels_idx = np.sort(data.label_idx.unique())\n",
    "label_map = data[['label', 'label_idx']].drop_duplicates().sort_values('label_idx')\n",
    "label_dict = dict(zip(label_map.label_idx, label_map['label']))\n",
    "model_dict['label_dict'] = label_dict\n",
    "\n",
    "for i in tdf.iterrows():\n",
    "    t_num = int(i[1]['transform'])\n",
    "    lr = i[1]['lr']\n",
    "    \n",
    "    model_dict['alias'] = i[0]\n",
    "    model_dict['transform'] = t_num\n",
    "    model_dict['lr'] = lr\n",
    "    model_dict['tuned_model_name'] = f'trials{i[0]}'\n",
    "    \n",
    "    transform_list = transform_header + [transform_body[t_num]] + transform_footer\n",
    "    train_transform = transforms.Compose(transform_list)\n",
    "    train_loader = build_loader(mode = 'train', df = train, transform = train_transform, batch_size = model_dict['batch_size'], num_workers = model_dict['num_workers'])\n",
    "\n",
    "\n",
    "    loaders = {'train_loader':train_loader,\n",
    "                            'val_loader': val_loader,\n",
    "                            'test_loader': test_loader}\n",
    "    model_dict['loader'] = loaders\n",
    "\n",
    "    pred_df, val_scores, tot_time = train_model(model_dict = model_dict)\n",
    "    \n",
    "#     pred_df = evaluate(model_name = f'gridsearch/resnet_split3_3e_GS{i[0]}', \n",
    "#                    model_source = 'pt', \n",
    "#                    model_dict = model_dict, \n",
    "#                    label_dict = label_dict, \n",
    "#                    show_cm = True)\n",
    "    \n",
    "#     acc = len(pred_df[pred_df.lab_idx==pred_df.pred_idx])/len(pred_df)\n",
    "\n",
    "    acc, f1, f2, f5, prec, rec, d_0, d_1, d_2, d_3, d_4 = val_scores\n",
    "    \n",
    "#     tdf.at[i[0], 'accur'] = acc\n",
    "    \n",
    "    direc = model_dict['mod_directory']\n",
    "    nam = model_dict['tuned_model_name']\n",
    "    pred_df.to_pickle(f'{direc}/{nam}_preds.pkl')\n",
    "    \n",
    "    col_dict = {\n",
    "#              'model': pd.Series(dtype = 'int'),\n",
    "#              'file': pd.Series(dtype = 'str'),\n",
    "             'tuned_model': model_dict['tuned_model_name'],\n",
    "             'transform': model_dict['transform'],\n",
    "             'lr': model_dict['lr'],\n",
    "             'pretrained_model': model_dict['pretrained_model'],\n",
    "             'optimizer': model_dict['optimizer'],\n",
    "             'epochs': model_dict['epochs'],\n",
    "#              'num_classes': model_dict['num_classes'],\n",
    "             'batch_size': model_dict['batch_size'],\n",
    "             'workers': model_dict['num_workers'],\n",
    "             'train_time': tot_time,\n",
    "             'data_split': model_dict['split'],\n",
    "             'label_set': model_dict['cl'],\n",
    "             'accur': acc,\n",
    "             'F1': f1,\n",
    "             'F0.5': f5,\n",
    "             'F2': f2,\n",
    "             'benign_accur': d_0,\n",
    "             'noncancerous_accur': d_1,\n",
    "             'malignant_accur': d_2,\n",
    "             'infection_accur': d_3,\n",
    "             'unclassified_accur': d_4\n",
    "    }\n",
    "    \n",
    "#     print(tdf.iloc[:i[0]+1][['transform', 'lr', 'accur']])\n",
    "    add_results(model_dict['results_file'], direc, pd.DataFrame(col_dict, index = [i[0]]))"
   ]
  },
  {
   "cell_type": "markdown",
   "metadata": {},
   "source": [
    "## Evaluate"
   ]
  },
  {
   "cell_type": "code",
   "execution_count": 182,
   "metadata": {},
   "outputs": [],
   "source": [
    "# # resnet_split3_3e\n",
    "# pred_df = evaluate(model_name = 'resnet_split3_3e_2', \n",
    "#                    model_source = 'pt', \n",
    "#                    model_dict = model_dict, \n",
    "#                    label_dict = label_dict, \n",
    "#                    show_cm = False)"
   ]
  },
  {
   "cell_type": "code",
   "execution_count": null,
   "metadata": {},
   "outputs": [],
   "source": []
  }
 ],
 "metadata": {
  "accelerator": "GPU",
  "colab": {
   "collapsed_sections": [
    "WtiFA177sreH",
    "zV8Kq9caqc_m"
   ],
   "machine_shape": "hm",
   "provenance": [],
   "toc_visible": true
  },
  "gpuClass": "premium",
  "kernelspec": {
   "display_name": "conda_pytorch_p38",
   "language": "python",
   "name": "conda_pytorch_p38"
  },
  "language_info": {
   "codemirror_mode": {
    "name": "ipython",
    "version": 3
   },
   "file_extension": ".py",
   "mimetype": "text/x-python",
   "name": "python",
   "nbconvert_exporter": "python",
   "pygments_lexer": "ipython3",
   "version": "3.8.12"
  }
 },
 "nbformat": 4,
 "nbformat_minor": 4
}
