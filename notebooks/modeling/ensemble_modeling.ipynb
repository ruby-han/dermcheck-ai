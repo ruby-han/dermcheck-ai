{
 "cells": [
  {
   "cell_type": "code",
   "execution_count": 5,
   "id": "b22da9ab",
   "metadata": {},
   "outputs": [
    {
     "name": "stdout",
     "output_type": "stream",
     "text": [
      "Looking in indexes: https://pypi.org/simple, https://pip.repos.neuron.amazonaws.com\n",
      "Requirement already satisfied: missingpy in /home/ec2-user/anaconda3/envs/pytorch_p38/lib/python3.8/site-packages (0.2.0)\n",
      "\u001b[33mWARNING: You are using pip version 22.0.4; however, version 22.3.1 is available.\n",
      "You should consider upgrading via the '/home/ec2-user/anaconda3/envs/pytorch_p38/bin/python -m pip install --upgrade pip' command.\u001b[0m\u001b[33m\n",
      "\u001b[0mNote: you may need to restart the kernel to use updated packages.\n"
     ]
    }
   ],
   "source": [
    "%pip install missingpy\n",
    "# %pip install tensorflow\n",
    "# %pip install xgboost"
   ]
  },
  {
   "cell_type": "code",
   "execution_count": 7,
   "id": "3f834504",
   "metadata": {},
   "outputs": [
    {
     "name": "stdout",
     "output_type": "stream",
     "text": [
      "Looking in indexes: https://pypi.org/simple, https://pip.repos.neuron.amazonaws.com\n",
      "Requirement already satisfied: xgboost in /home/ec2-user/anaconda3/envs/pytorch_p38/lib/python3.8/site-packages (1.7.1)\n",
      "Requirement already satisfied: scipy in /home/ec2-user/anaconda3/envs/pytorch_p38/lib/python3.8/site-packages (from xgboost) (1.7.2)\n",
      "Requirement already satisfied: numpy in /home/ec2-user/anaconda3/envs/pytorch_p38/lib/python3.8/site-packages (from xgboost) (1.21.2)\n",
      "\u001b[33mWARNING: You are using pip version 22.0.4; however, version 22.3.1 is available.\n",
      "You should consider upgrading via the '/home/ec2-user/anaconda3/envs/pytorch_p38/bin/python -m pip install --upgrade pip' command.\u001b[0m\u001b[33m\n",
      "\u001b[0mNote: you may need to restart the kernel to use updated packages.\n"
     ]
    }
   ],
   "source": [
    "import pandas as pd\n",
    "from tensorflow.keras.utils import load_img, img_to_array\n",
    "import numpy as np\n",
    "from tqdm import tqdm\n",
    "import sklearn\n",
    "import sys\n",
    "sys.modules['sklearn.neighbors.base'] = sklearn.neighbors._base\n",
    "from missingpy import MissForest\n",
    "import pickle\n",
    "%pip install xgboost\n",
    "import xgboost as xgb\n",
    "import torch"
   ]
  },
  {
   "cell_type": "code",
   "execution_count": 9,
   "id": "c3b212e3",
   "metadata": {},
   "outputs": [],
   "source": [
    "import pandas as pd\n",
    "import numpy as np\n",
    "import pickle\n",
    "#\n",
    "from sklearn.metrics import confusion_matrix, ConfusionMatrixDisplay\n",
    "import matplotlib\n",
    "import matplotlib.pyplot as plt\n",
    "import matplotlib.gridspec as gridspec\n",
    "\n",
    "#\n",
    "import seaborn as sns\n",
    "import plotly.express as px\n",
    "\n",
    "#\n",
    "import os\n",
    "import random\n",
    "import re\n",
    "import math\n",
    "import time\n",
    "\n",
    "from tqdm import tqdm\n",
    "from tqdm.keras import TqdmCallback\n",
    "\n",
    "#from pandas_summary import DataFrameSummary\n",
    "#from pandas_profiling import ProfileReport\n",
    "from sklearn.model_selection import train_test_split\n",
    "from sklearn.linear_model import LogisticRegression\n",
    "# from keras.preprocessing import image\n",
    "import sklearn.neighbors._base\n",
    "import xgboost as xgb\n",
    "\n",
    "from sklearn.model_selection import StratifiedKFold, train_test_split, cross_val_score, cross_validate\n",
    "from sklearn.metrics import accuracy_score, roc_auc_score, roc_curve\n",
    "\n",
    "import sys\n",
    "sys.modules['sklearn.neighbors.base'] = sklearn.neighbors._base\n",
    "\n",
    "import warnings\n",
    "from missingpy import MissForest\n",
    "from PIL import Image\n",
    "\n",
    "#load torch library\n",
    "from torchvision.datasets import ImageFolder\n",
    "import torchvision.transforms as transforms\n",
    "import torchvision.models as models\n",
    "\n",
    "import torch\n",
    "from torch.utils.data import DataLoader\n",
    "from torch.utils.mobile_optimizer import optimize_for_mobile\n",
    "import torch.nn as nn\n",
    "warnings.filterwarnings('ignore') \n",
    "%matplotlib notebook\n",
    "%matplotlib inline"
   ]
  },
  {
   "cell_type": "code",
   "execution_count": 10,
   "id": "587b6ea5",
   "metadata": {},
   "outputs": [],
   "source": [
    "# df = pd.read_csv('./full_data_final_diverse.csv', index_col = 0)"
   ]
  },
  {
   "cell_type": "code",
   "execution_count": 11,
   "id": "a80123bc",
   "metadata": {},
   "outputs": [],
   "source": [
    "\n",
    "# reds = np.zeros(df.shape[0])\n",
    "# greens = np.zeros(df.shape[0])\n",
    "# blues = np.zeros(df.shape[0])\n",
    "# mean = np.zeros(df.shape[0])\n",
    "# width = np.zeros(df.shape[0], dtype=int)\n",
    "# height = np.zeros(df.shape[0], dtype=int)\n",
    "# for i, path in enumerate(tqdm(df['path'])):\n",
    "#     img = np.array(load_img(path))\n",
    "#     reds[i] = np.mean(img[:,:,0].ravel())\n",
    "#     greens[i] = np.mean(img[:,:,1].ravel())\n",
    "#     blues[i] = np.mean(img[:,:,2].ravel())\n",
    "#     mean[i] = np.mean(img)\n",
    "#     #width[i] = img.shape[1]\n",
    "#     #height[i] = img.shape[0]\n",
    "\n",
    "# df['reds'] = reds\n",
    "# df['greens'] = greens\n",
    "# df['blues'] = blues\n",
    "# df['mean_colors'] = mean\n",
    "# #train['width'] = width\n",
    "# #train['height'] = height\n",
    "# df.head()"
   ]
  },
  {
   "cell_type": "code",
   "execution_count": 12,
   "id": "cbea6d94",
   "metadata": {},
   "outputs": [],
   "source": [
    "# df.to_csv('george_output.csv')"
   ]
  },
  {
   "cell_type": "code",
   "execution_count": 13,
   "id": "be20ba23",
   "metadata": {},
   "outputs": [],
   "source": [
    "# new_df = pd.read_csv('./george_output.csv', index_col = 0)"
   ]
  },
  {
   "cell_type": "code",
   "execution_count": 14,
   "id": "73a4ea3f",
   "metadata": {},
   "outputs": [],
   "source": [
    "# first, write to csv, then join './full_data_with_color_data.csv')\n",
    "\n",
    "# df = df\n",
    "# color_df = pd.read_csv('./full_data_with_color_data.csv')\n",
    "# df = df.merge(color_df[['image_id', 'reds', 'greens', 'blues', 'mean_colors']], on='image_id', how=\"inner\")\n",
    "# df = df[df['duplicate'] == False]\n",
    "# df.head()"
   ]
  },
  {
   "cell_type": "code",
   "execution_count": 15,
   "id": "98300289",
   "metadata": {},
   "outputs": [],
   "source": [
    "# df = new_df"
   ]
  },
  {
   "cell_type": "code",
   "execution_count": 16,
   "id": "fdf872b1",
   "metadata": {},
   "outputs": [],
   "source": [
    "# df3_X.columns"
   ]
  },
  {
   "cell_type": "code",
   "execution_count": 17,
   "id": "854c1b49",
   "metadata": {},
   "outputs": [],
   "source": [
    "# df2=df.replace('unknown',np.NaN).replace(0.0, np.NaN).drop(['duplicate', 'source', 'image_id',\n",
    "#                                                             'split_0',\n",
    "#                                                             'label_4', 'label_5', 'label_6', \n",
    "#                                                             'split_1', 'split_2',\n",
    "#                                                             'split_4', 'split_5', 'split_6', \n",
    "#                                                             'split_7', 'split_3', 'split_9', 'split_10',\n",
    "#                                                             'diagnosis', 'overlayed', \n",
    "#                                                             'severity'], axis=1)"
   ]
  },
  {
   "cell_type": "code",
   "execution_count": 18,
   "id": "dd3da612",
   "metadata": {},
   "outputs": [],
   "source": [
    "# # df2=df.replace('unknown',np.NaN).replace(0.0, np.NaN).drop(['duplicate', 'source', 'dataset', 'image_id',\n",
    "# #                                                            'label_1', 'label_2', 'label_3', 'split_1', 'split_2',\n",
    "# #                                                             'split_4', 'split_5', 'split_6', 'diagnosis',\n",
    "# #                                                             'severity'], axis=1)\n",
    "\n",
    "\n",
    "# df2 = df2[df2['split_8'].notna()]\n",
    "# df2 = df2[df2['label_0'].notna()].reset_index().drop(['index'], axis = 1)\n",
    "# #df2['diagnosis'].fillna('unknown', inplace=True)\n",
    "# df2['missing_anatomy'] = df2['localization'].isna().astype(int)\n",
    "# df2['anatomy_impute_mode']=df2['localization'].fillna(df2['localization'].mode()[0])\n",
    "# df2['missing_sex'] = df2['sex'].isna().astype(int)\n",
    "# df2['sex_impute_mode']=df2['sex'].fillna(df2['sex'].mode()[0])\n",
    "# df2['missing_age'] = df2['age'].isna().astype(int)\n",
    "# df2['age_impute_mode']=df2['age'].fillna(df2['age'].mode()[0])\n",
    "# df2['age_impute_median']=df2['age'].fillna(df2['age'].median())\n",
    "# df2['age_impute_mean']=df2['age'].fillna(df2['age'].mean())\n",
    "# df2['age_impute_max']=df2['age'].fillna(df2['age'].max())\n",
    "# df2['age_impute_min']=df2['age'].fillna(df2['age'].min())\n",
    "\n",
    "\n",
    "# path = df2.path\n",
    "# split_8 = df2.split_8\n",
    "# df3 = df2.drop(['path', 'unaltered_path', 'F6_path', 'split_8'], axis =1)\n",
    "# dict_of_dfs = {}\n",
    "# for col in ['sex', 'localization', 'sex_impute_mode', 'anatomy_impute_mode', 'label_0']:\n",
    "#     df = pd.DataFrame()\n",
    "#     df3[col] = df3[col].astype('category')\n",
    "#     df = dict(enumerate(df3[col].cat.categories))\n",
    "#     dict_of_dfs[col] = df \n",
    "#     df3[col + '_cat'] = df3[col].cat.codes.replace(-1,np.NaN).astype('category')\n",
    "# df3.info()\n",
    "\n",
    "\n",
    "# imputer = MissForest()\n",
    "# #label = df3.label\n",
    "# df3_X = df3.drop(['label_0', 'sex', 'localization', 'sex_impute_mode', 'anatomy_impute_mode'], axis = 1)\n",
    "# cat_cols = [df3_X.columns.get_loc(col) for col in df3_X.select_dtypes(['category']).columns.tolist()]\n",
    "# df3_X_imputed = imputer.fit_transform(df3_X, cat_vars=cat_cols)\n",
    "# df3_X_imputed = pd.DataFrame(df3_X_imputed, columns=df3_X.columns.tolist()).rename(columns={'age': 'age_impute_mf'})\n",
    "# #df3_imputed = pd.concat([df3_X_imputed, label], axis = 1)\n",
    "# #df3_imputed = pd.merge(df3_X_imputed, label, left_index=True, right_index=True)\n",
    "\n",
    "\n",
    "\n",
    "# df3_imputed = df3_X_imputed\n",
    "# cat_cols = df3_imputed.loc[:, df3_imputed.columns.str.endswith(\"_cat\")].columns.to_list()\n",
    "# for col in cat_cols:\n",
    "#     df3_imputed[col] = df3_imputed[col].astype('int')\n",
    "# df3_imputed2 = df3_imputed\n",
    "# for d in list(dict_of_dfs.keys()):\n",
    "#     if d in ['sex_impute_mode', 'anatomy_impute_mode', 'label_0']:\n",
    "#         df3_imputed2[d] = df3_imputed[d + '_cat'].map(dict_of_dfs[d])\n",
    "#         df3_imputed2.drop([d + '_cat'], axis = 1, inplace = True)\n",
    "#     else:\n",
    "#         df3_imputed2[d + '_impute_mf'] = df3_imputed[d + '_cat'].map(dict_of_dfs[d])\n",
    "#         df3_imputed2.drop([d + '_cat'], axis = 1, inplace = True)\n",
    "\n",
    "\n",
    "# dummies = pd.get_dummies(df3_imputed2['sex_impute_mf'], prefix='sex_mf')\n",
    "# df3_imputed2 = pd.concat([df3_imputed2, dummies], axis=1)\n",
    "# dummies = pd.get_dummies(df3_imputed2['localization_impute_mf'], prefix='anatomy_mf')\n",
    "# df3_imputed2 = pd.concat([df3_imputed2, dummies], axis=1)\n",
    "# dummies = pd.get_dummies(df3_imputed2['sex_impute_mode'], prefix='sex_mode')\n",
    "# df3_imputed2 = pd.concat([df3_imputed2, dummies], axis=1)\n",
    "# # dummies = pd.get_dummies(df3_imputed2['sex_impute_research'], prefix='sex_research')\n",
    "# # df3_imputed2 = pd.concat([df3_imputed2, dummies], axis=1)\n",
    "# dummies = pd.get_dummies(df3_imputed2['anatomy_impute_mode'], prefix='anatomy_mode')\n",
    "# df3_imputed2 = pd.concat([df3_imputed2, dummies], axis=1)\n",
    "\n",
    "# # dropping not useful columns\n",
    "# df3_imputed2.drop(['sex_impute_mf', 'localization_impute_mf', 'sex_impute_mode', 'anatomy_impute_mode'],\\\n",
    "#                   axis=1, inplace=True)\n",
    "\n",
    "# df3_imputed2.reset_index(drop=True, inplace=True)\n",
    "# path.reset_index(drop=True, inplace=True)\n",
    "\n",
    "# # add path back to the file\n",
    "# df3_imputed2 = pd.concat([df3_imputed2, path], axis=1)\n",
    "# # add path back to the file\n",
    "# df3_imputed2 = pd.concat([df3_imputed2, split_8], axis=1)\n",
    "# df3_imputed2.head()"
   ]
  },
  {
   "cell_type": "code",
   "execution_count": 19,
   "id": "3ba29512",
   "metadata": {},
   "outputs": [],
   "source": [
    "# df3_imputed2.to_csv('./final_inference_data.csv')"
   ]
  },
  {
   "cell_type": "code",
   "execution_count": 20,
   "id": "e51406a3",
   "metadata": {},
   "outputs": [],
   "source": [
    "# df = df3_imputed2"
   ]
  },
  {
   "cell_type": "code",
   "execution_count": 21,
   "id": "2c384195",
   "metadata": {},
   "outputs": [
    {
     "name": "stdout",
     "output_type": "stream",
     "text": [
      "/home/ec2-user/SageMaker/teledermatologyAI_capstone\n"
     ]
    }
   ],
   "source": [
    "%cd /home/ec2-user/SageMaker/teledermatologyAI_capstone"
   ]
  },
  {
   "cell_type": "code",
   "execution_count": 22,
   "id": "77f00366",
   "metadata": {},
   "outputs": [],
   "source": [
    "# df.columns\n",
    "df = pd.read_csv('./final_inference_data.csv', index_col = 0)"
   ]
  },
  {
   "cell_type": "code",
   "execution_count": 23,
   "id": "7109f812",
   "metadata": {},
   "outputs": [],
   "source": [
    "df.rename(columns = {'label_0':'label'}, inplace = True)"
   ]
  },
  {
   "cell_type": "code",
   "execution_count": 24,
   "id": "f2a2c0ba",
   "metadata": {},
   "outputs": [
    {
     "data": {
      "text/plain": [
       "{0: 'Benign Marking or Mole',\n",
       " 1: 'Non-Cancerous Skin Condition',\n",
       " 2: 'Potentially Malignant Skin Tumors',\n",
       " 3: 'Toxin, Fungal, Bug, Viral, or Bacterial Infections',\n",
       " 4: 'Unclassified'}"
      ]
     },
     "execution_count": 24,
     "metadata": {},
     "output_type": "execute_result"
    }
   ],
   "source": [
    "#create a mapping from labels to a unique integer and vice versa for labelling and prediction later\n",
    "labels = df['label'].sort_values(ascending=True).unique()\n",
    "i = 0\n",
    "idx2class = {} \n",
    "class2idx = {}\n",
    "for tp in labels:\n",
    "    idx2class[i] = tp\n",
    "    class2idx[tp] = i\n",
    "    i += 1\n",
    "idx2class"
   ]
  },
  {
   "cell_type": "code",
   "execution_count": 25,
   "id": "2e2c8427",
   "metadata": {},
   "outputs": [],
   "source": [
    "df['label'] = df['label'].replace(class2idx)\n",
    "# df.head()"
   ]
  },
  {
   "cell_type": "code",
   "execution_count": 26,
   "id": "dfdf234c",
   "metadata": {},
   "outputs": [
    {
     "data": {
      "text/plain": [
       "(18072, 60)"
      ]
     },
     "execution_count": 26,
     "metadata": {},
     "output_type": "execute_result"
    }
   ],
   "source": [
    "train = df[~df['split_8'].isin(['test', 'val'])]\n",
    "val = df[df['split_8'].isin(['val'])]\n",
    "test = df[df['split_8'].isin(['test'])]\n",
    "train.shape"
   ]
  },
  {
   "cell_type": "code",
   "execution_count": 27,
   "id": "1d7a4662",
   "metadata": {},
   "outputs": [],
   "source": [
    "X_meta_train = train.drop(['label', 'split_8', 'path'], axis=1).reset_index().drop('index', axis = 1)\n",
    "X_img_train = train.path.reset_index().drop('index', axis = 1)\n",
    "y_train = train.label.reset_index().drop('index', axis = 1)\n",
    "\n",
    "X_meta_val = val.drop(['label', 'split_8', 'path'], axis=1).reset_index().drop('index', axis = 1)\n",
    "X_img_val = val.path.reset_index().drop('index', axis = 1)\n",
    "y_val = val.label.reset_index().drop('index', axis = 1)\n",
    "\n",
    "X_meta_test = test.drop(['label', 'split_8', 'path'], axis=1).reset_index().drop('index', axis = 1)\n",
    "X_img_test = test.path.reset_index().drop('index', axis = 1)\n",
    "y_test = test.label.reset_index().drop('index', axis = 1)"
   ]
  },
  {
   "cell_type": "code",
   "execution_count": 28,
   "id": "d098d6cb",
   "metadata": {},
   "outputs": [],
   "source": [
    "# meta_mod1 = pickle.load(open('model/finalized_meta.sav', 'rb'))\n",
    "meta_mod1 = xgb.XGBClassifier()\n",
    "meta_mod1.load_model('./model/finalized_meta_mod.json')"
   ]
  },
  {
   "cell_type": "code",
   "execution_count": 29,
   "id": "a493be41",
   "metadata": {},
   "outputs": [],
   "source": [
    "img_mod1 = torch.load(f'model/gridsearch5/resnet_50e_SGD_split_8_diverse_GS500.pt', map_location=torch.device('cpu'))\n",
    "img_mod2 = torch.load(f'model/gridsearch5/resnet_50e_SGD_split_9_diverse_GS501.pt', map_location=torch.device('cpu'))\n",
    "img_mod3 = torch.load(f'model/gridsearch5/vgg_50e_SGD_split_8_diverse_GS503.pt', map_location=torch.device('cpu'))\n",
    "img_mod4 = torch.load(f'model/gridsearch5/vgg_50e_SGD_split_9_diverse_GS504.pt', map_location=torch.device('cpu'))\n",
    "img_mod5 = torch.load(f'model/gridsearch5/vgg_50e_SGD_split_10_diverse_GS505.pt', map_location=torch.device('cpu'))\n",
    "img_mod6 = torch.load(f'model/gridsearch4/resnet_50e_SGD_split_8_GS212.pt', map_location=torch.device('cpu'))\n",
    "img_mod7 = torch.load(f'model/gridsearch4/resnet_50e_SGD_split_9_GS213.pt', map_location=torch.device('cpu'))\n",
    "img_mod8 = torch.load(f'model/gridsearch4/vgg_50e_SGD_split_8_GS218.pt', map_location=torch.device('cpu'))\n",
    "img_mod9 = torch.load(f'model/gridsearch4/vgg_50e_SGD_split_9_GS219.pt', map_location=torch.device('cpu'))"
   ]
  },
  {
   "cell_type": "code",
   "execution_count": 30,
   "id": "fc11399f",
   "metadata": {},
   "outputs": [],
   "source": [
    "meta_mods = [meta_mod1]\n",
    "img_mods = [img_mod1,img_mod2,img_mod3,img_mod4,img_mod5,img_mod6,img_mod7,img_mod8,img_mod9]"
   ]
  },
  {
   "cell_type": "code",
   "execution_count": 31,
   "id": "9274ba23",
   "metadata": {},
   "outputs": [],
   "source": [
    "def image_predict(model, image_paths):\n",
    "    \n",
    "    preprocess = transforms.Compose([\n",
    "        transforms.Resize(256),\n",
    "        transforms.CenterCrop(224),\n",
    "        transforms.ToTensor(),\n",
    "        transforms.Normalize(\n",
    "        mean=[0.676, 0.542, 0.519],\n",
    "        std=[0.290, 0.226, 0.237]\n",
    "    )])\n",
    "\n",
    "    model.eval()\n",
    "    \n",
    "    y_pred = []\n",
    "    for file_name in image_paths.iloc[:,0]:\n",
    "        image = Image.open(file_name).convert('RGB')\n",
    "        # Pass the image for preprocessing and the image preprocessed\n",
    "        img_preprocessed = preprocess(image)\n",
    "        # Reshape, crop, and normalize the input tensor for feeding into network for evaluation\n",
    "        batch_img_tensor = torch.unsqueeze(img_preprocessed, 0)\n",
    "\n",
    "        output = model(batch_img_tensor)\n",
    "        predicted = torch.argmax(output,-1).cpu().numpy()  \n",
    "        \n",
    "        y_pred.append(predicted)\n",
    "    y_pred = np.array(y_pred)\n",
    "    \n",
    "    return y_pred"
   ]
  },
  {
   "cell_type": "code",
   "execution_count": 32,
   "id": "67d3eaad",
   "metadata": {},
   "outputs": [],
   "source": [
    "# i = 1\n",
    "# for img_mod in img_mods:\n",
    "#     y_pred = image_predict(img_mod, X_img_test)\n",
    "#     print(\"image model {0} accuracy:\".format(str(i)), accuracy_score(y_test, y_pred))\n",
    "#     i += 1"
   ]
  },
  {
   "cell_type": "code",
   "execution_count": 33,
   "id": "0c286480",
   "metadata": {},
   "outputs": [],
   "source": [
    "# img_mods = [img_mod1,img_mod2,img_mod3]\n"
   ]
  },
  {
   "cell_type": "code",
   "execution_count": 34,
   "id": "1d9cd25c",
   "metadata": {},
   "outputs": [],
   "source": [
    "def ensemble_data_generator(meta_mods = None, img_mods = None, X_meta_data = None, image_paths = None):\n",
    "    \n",
    "    all_y_pred = None\n",
    "    \n",
    "    if meta_mods is not None and X_meta_data is not None:\n",
    "        i = 1\n",
    "        for meta_mod in meta_mods:\n",
    "            y_meta_pred = meta_mod.predict(X_meta_data)\n",
    "            if all_y_pred is None:\n",
    "                all_y_pred = y_meta_pred\n",
    "            else:\n",
    "                all_y_pred = np.column_stack((all_y_pred, y_meta_pred))\n",
    "            i += 1\n",
    "            \n",
    "    if img_mods is not None and image_paths is not None:\n",
    "        j = 1\n",
    "        for img_mod in img_mods:\n",
    "            y_img_pred = image_predict(img_mod, image_paths)[:,0]\n",
    "            if all_y_pred is None:\n",
    "                all_y_pred = y_img_pred\n",
    "            else:\n",
    "                all_y_pred = np.column_stack((all_y_pred, y_img_pred))\n",
    "            j += 1\n",
    "\n",
    "    col1 = [\"meta_mod\" + str(i) for i in range(1, i)]\n",
    "    col2 = [\"img_mod\" + str(i) for i in range(1, j)]\n",
    "    col3 = col1 + col2\n",
    "    all_y_pred = pd.DataFrame(all_y_pred, columns = col3)\n",
    "    \n",
    "    return all_y_pred\n"
   ]
  },
  {
   "cell_type": "code",
   "execution_count": 35,
   "id": "9d706806",
   "metadata": {},
   "outputs": [
    {
     "data": {
      "text/plain": [
       "4"
      ]
     },
     "execution_count": 35,
     "metadata": {},
     "output_type": "execute_result"
    }
   ],
   "source": [
    "2+2"
   ]
  },
  {
   "cell_type": "code",
   "execution_count": 36,
   "id": "1da190c2",
   "metadata": {},
   "outputs": [
    {
     "data": {
      "text/html": [
       "<div>\n",
       "<style scoped>\n",
       "    .dataframe tbody tr th:only-of-type {\n",
       "        vertical-align: middle;\n",
       "    }\n",
       "\n",
       "    .dataframe tbody tr th {\n",
       "        vertical-align: top;\n",
       "    }\n",
       "\n",
       "    .dataframe thead th {\n",
       "        text-align: right;\n",
       "    }\n",
       "</style>\n",
       "<table border=\"1\" class=\"dataframe\">\n",
       "  <thead>\n",
       "    <tr style=\"text-align: right;\">\n",
       "      <th></th>\n",
       "      <th>meta_mod1</th>\n",
       "      <th>img_mod1</th>\n",
       "      <th>img_mod2</th>\n",
       "      <th>img_mod3</th>\n",
       "      <th>img_mod4</th>\n",
       "      <th>img_mod5</th>\n",
       "      <th>img_mod6</th>\n",
       "      <th>img_mod7</th>\n",
       "      <th>img_mod8</th>\n",
       "      <th>img_mod9</th>\n",
       "    </tr>\n",
       "  </thead>\n",
       "  <tbody>\n",
       "    <tr>\n",
       "      <th>0</th>\n",
       "      <td>1</td>\n",
       "      <td>1</td>\n",
       "      <td>1</td>\n",
       "      <td>1</td>\n",
       "      <td>1</td>\n",
       "      <td>1</td>\n",
       "      <td>4</td>\n",
       "      <td>4</td>\n",
       "      <td>4</td>\n",
       "      <td>4</td>\n",
       "    </tr>\n",
       "    <tr>\n",
       "      <th>1</th>\n",
       "      <td>1</td>\n",
       "      <td>1</td>\n",
       "      <td>3</td>\n",
       "      <td>3</td>\n",
       "      <td>1</td>\n",
       "      <td>2</td>\n",
       "      <td>3</td>\n",
       "      <td>3</td>\n",
       "      <td>3</td>\n",
       "      <td>3</td>\n",
       "    </tr>\n",
       "    <tr>\n",
       "      <th>2</th>\n",
       "      <td>1</td>\n",
       "      <td>4</td>\n",
       "      <td>1</td>\n",
       "      <td>1</td>\n",
       "      <td>1</td>\n",
       "      <td>1</td>\n",
       "      <td>4</td>\n",
       "      <td>4</td>\n",
       "      <td>4</td>\n",
       "      <td>4</td>\n",
       "    </tr>\n",
       "    <tr>\n",
       "      <th>3</th>\n",
       "      <td>1</td>\n",
       "      <td>3</td>\n",
       "      <td>3</td>\n",
       "      <td>1</td>\n",
       "      <td>3</td>\n",
       "      <td>1</td>\n",
       "      <td>3</td>\n",
       "      <td>3</td>\n",
       "      <td>3</td>\n",
       "      <td>1</td>\n",
       "    </tr>\n",
       "    <tr>\n",
       "      <th>4</th>\n",
       "      <td>1</td>\n",
       "      <td>3</td>\n",
       "      <td>3</td>\n",
       "      <td>3</td>\n",
       "      <td>3</td>\n",
       "      <td>3</td>\n",
       "      <td>4</td>\n",
       "      <td>4</td>\n",
       "      <td>4</td>\n",
       "      <td>4</td>\n",
       "    </tr>\n",
       "  </tbody>\n",
       "</table>\n",
       "</div>"
      ],
      "text/plain": [
       "   meta_mod1  img_mod1  img_mod2  img_mod3  img_mod4  img_mod5  img_mod6  \\\n",
       "0          1         1         1         1         1         1         4   \n",
       "1          1         1         3         3         1         2         3   \n",
       "2          1         4         1         1         1         1         4   \n",
       "3          1         3         3         1         3         1         3   \n",
       "4          1         3         3         3         3         3         4   \n",
       "\n",
       "   img_mod7  img_mod8  img_mod9  \n",
       "0         4         4         4  \n",
       "1         3         3         3  \n",
       "2         4         4         4  \n",
       "3         3         3         1  \n",
       "4         4         4         4  "
      ]
     },
     "execution_count": 36,
     "metadata": {},
     "output_type": "execute_result"
    }
   ],
   "source": [
    "train_df = ensemble_data_generator(meta_mods = meta_mods, img_mods = img_mods, X_meta_data = X_meta_val, image_paths = X_img_val)\n",
    "train_df.head()"
   ]
  },
  {
   "cell_type": "code",
   "execution_count": 37,
   "id": "ddc33dae",
   "metadata": {},
   "outputs": [],
   "source": [
    "X = train_df # only using validation data here\n",
    "y = y_val\n",
    "# taking holdout set for validating with stratified y\n",
    "\n",
    "X_train, X_holdout, y_train, y_holdout = train_test_split(X,\n",
    "                                                    y,\n",
    "                                                    test_size=0.2,\n",
    "                                                    stratify=y,\n",
    "                                                    random_state=42)\n",
    "\n",
    "# 5 fold stratify for cv\n",
    "cv = StratifiedKFold(5, shuffle=True, random_state=42)"
   ]
  },
  {
   "cell_type": "code",
   "execution_count": 38,
   "id": "e9b6e19b",
   "metadata": {},
   "outputs": [
    {
     "data": {
      "text/plain": [
       "0.8896648044692738"
      ]
     },
     "execution_count": 38,
     "metadata": {},
     "output_type": "execute_result"
    }
   ],
   "source": [
    "from xgboost.sklearn import XGBClassifier\n",
    "from sklearn.model_selection import GridSearchCV\n",
    "xgb_f = XGBClassifier(\n",
    "    n_estimators=750,\n",
    "    min_child_weight=0.16,\n",
    "    learning_rate=0.033,\n",
    "    max_depth=1,\n",
    "    subsample=0.80,\n",
    "    colsample_bytree=0.4,\n",
    "    gamma=0.28,\n",
    "    random_state=42,\n",
    "    n_jobs=-1,\n",
    "    objective='multi:softmax',\n",
    "    nthread=4\n",
    ")\n",
    "xgb_f.fit(X_train, y_train)\n",
    "\n",
    "# predicting on holdout set\n",
    "y_pred = xgb_f.predict(X_holdout)\n",
    "\n",
    "# checking results on test set\n",
    "accuracy_score(y_holdout, y_pred)"
   ]
  },
  {
   "cell_type": "code",
   "execution_count": 39,
   "id": "f7218199",
   "metadata": {},
   "outputs": [],
   "source": [
    "xgb_f.fit(X, y)\n",
    "import pickle\n",
    "model = xgb_f\n",
    "filename = 'learner_final.sav'\n",
    "# pickle.dump(model, open(filename, 'wb'))"
   ]
  },
  {
   "cell_type": "code",
   "execution_count": 40,
   "id": "a1947f41",
   "metadata": {},
   "outputs": [],
   "source": [
    "# learner_mod = pickle.load(open('finalized_learner.sav', 'rb'))\n",
    "learner_mod = model"
   ]
  },
  {
   "cell_type": "code",
   "execution_count": 41,
   "id": "0e148011",
   "metadata": {},
   "outputs": [],
   "source": [
    "def ensemble_predict(meta_mods, img_mods, X_meta_data, image_paths, learner_mod):\n",
    "    \n",
    "    ensemble_X = ensemble_data_generator(meta_mods, img_mods, X_meta_data, image_paths)\n",
    "            \n",
    "    ensemble_pred = learner_mod.predict(ensemble_X)\n",
    "    \n",
    "    return ensemble_pred"
   ]
  },
  {
   "cell_type": "code",
   "execution_count": 42,
   "id": "388049c7",
   "metadata": {},
   "outputs": [
    {
     "data": {
      "text/plain": [
       "0.847808105872622"
      ]
     },
     "execution_count": 42,
     "metadata": {},
     "output_type": "execute_result"
    }
   ],
   "source": [
    "ensemble_pred = ensemble_predict(meta_mods, img_mods, X_meta_test, X_img_test, learner_mod)\n",
    "accuracy_score(y_test, ensemble_pred)"
   ]
  },
  {
   "cell_type": "code",
   "execution_count": 43,
   "id": "95938c3b",
   "metadata": {},
   "outputs": [
    {
     "data": {
      "image/png": "[encoded data removed]",
      "text/plain": [
       "<Figure size 432x288 with 2 Axes>"
      ]
     },
     "metadata": {
      "needs_background": "light"
     },
     "output_type": "display_data"
    }
   ],
   "source": [
    "ConfusionMatrixDisplay.from_predictions(ensemble_pred, y_test, display_labels=[i for i in idx2class.values()], \n",
    "                                        xticks_rotation = \"vertical\", cmap='Blues' , normalize = \"true\")\n",
    "plt.show()"
   ]
  },
  {
   "cell_type": "code",
   "execution_count": 44,
   "id": "ec17ddff",
   "metadata": {},
   "outputs": [],
   "source": [
    "model.save_model('learner_final.json')"
   ]
  },
  {
   "cell_type": "code",
   "execution_count": 45,
   "id": "87ca77e0",
   "metadata": {},
   "outputs": [],
   "source": [
    "pickle.dump(model, open(filename, 'wb'))"
   ]
  },
  {
   "cell_type": "code",
   "execution_count": 46,
   "id": "bcd68319",
   "metadata": {},
   "outputs": [
    {
     "data": {
      "text/plain": [
       "4"
      ]
     },
     "execution_count": 46,
     "metadata": {},
     "output_type": "execute_result"
    }
   ],
   "source": [
    "2+2"
   ]
  },
  {
   "cell_type": "code",
   "execution_count": null,
   "id": "2e37700a",
   "metadata": {},
   "outputs": [],
   "source": []
  }
 ],
 "metadata": {
  "kernelspec": {
   "display_name": "conda_pytorch_p38",
   "language": "python",
   "name": "conda_pytorch_p38"
  },
  "language_info": {
   "codemirror_mode": {
    "name": "ipython",
    "version": 3
   },
   "file_extension": ".py",
   "mimetype": "text/x-python",
   "name": "python",
   "nbconvert_exporter": "python",
   "pygments_lexer": "ipython3",
   "version": "3.8.12"
  }
 },
 "nbformat": 4,
 "nbformat_minor": 5
}
