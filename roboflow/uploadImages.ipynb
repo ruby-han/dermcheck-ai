{
 "cells": [
  {
   "cell_type": "code",
   "execution_count": 1,
   "id": "9d6261c1-1aad-4075-8768-8b6e0cf60c13",
   "metadata": {},
   "outputs": [],
   "source": [
    "# %pip install roboflow"
   ]
  },
  {
   "cell_type": "code",
   "execution_count": 2,
   "id": "0406de16-189b-4548-845c-fc63f792a414",
   "metadata": {},
   "outputs": [
    {
     "data": {
      "text/plain": [
       "'/home/studio-lab-user/teledermatologyAI_capstone/roboflow'"
      ]
     },
     "execution_count": 2,
     "metadata": {},
     "output_type": "execute_result"
    }
   ],
   "source": [
    "pwd"
   ]
  },
  {
   "cell_type": "code",
   "execution_count": 3,
   "id": "162efe2e-2ed9-4151-a5c6-f71d258e76da",
   "metadata": {},
   "outputs": [
    {
     "name": "stdout",
     "output_type": "stream",
     "text": [
      "/home/studio-lab-user/teledermatologyAI_capstone\n"
     ]
    }
   ],
   "source": [
    "cd ~/teledermatologyAI_capstone"
   ]
  },
  {
   "cell_type": "code",
   "execution_count": 4,
   "id": "8463c623-3948-44f3-9016-36418776765c",
   "metadata": {},
   "outputs": [
    {
     "name": "stdout",
     "output_type": "stream",
     "text": [
      "Data split: data_class_folder3\n",
      "Total classes: 5\n",
      "Total num train images: 10418\n",
      "Total num val images: 2103\n",
      "Total num test images: 1393\n",
      "                                               Class  Train  Val  Test\n",
      "0                             Benign Marking or Mole   1871  392   246\n",
      "1                       Non-Cancerous Skin Condition   2671  534   395\n",
      "2                  Potentially Malignant Skin Tumors   2274  452   290\n",
      "3  Toxin, Fungal, Bug, Viral, or Bacterial Infect...   2702  540   358\n",
      "4                                       Unclassified    900  185   104\n"
     ]
    }
   ],
   "source": [
    "import os\n",
    "from dotenv import load_dotenv\n",
    "import pandas as pd\n",
    "load_dotenv()  \n",
    "\n",
    "DIR = 'data_class_folder3'\n",
    "DIR_TRAIN = f'{DIR}/train/'\n",
    "DIR_VAL = f'{DIR}/val/'\n",
    "DIR_TEST = f'{DIR}/test/' \n",
    "\n",
    "classes = sorted(os.listdir(DIR_TRAIN))\n",
    "print(f'Data split: {DIR}')\n",
    "print(f'Total classes: {len(classes)}')\n",
    "\n",
    "# total train, val and test images\n",
    "train_count = 0\n",
    "val_count = 0\n",
    "test_count = 0\n",
    "\n",
    "classes_df = []\n",
    "for _class in classes:\n",
    "    class_dict = {}\n",
    "    train_count += len(os.listdir(DIR_TRAIN + _class))\n",
    "    val_count += len(os.listdir(DIR_VAL + _class))\n",
    "    test_count += len(os.listdir(DIR_TEST + _class))\n",
    "    class_dict.update({'Class': _class, \n",
    "                       'Train': len(os.listdir(DIR_TRAIN + _class)),\n",
    "                       'Val': len(os.listdir(DIR_VAL + _class)),\n",
    "                       'Test': len(os.listdir(DIR_TEST + _class)) })\n",
    "    classes_df.append(class_dict)\n",
    "\n",
    "print(f'Total num train images: {train_count}')\n",
    "print(f'Total num val images: {val_count}')\n",
    "print(f'Total num test images: {test_count}')\n",
    "print(pd.DataFrame(classes_df))"
   ]
  },
  {
   "cell_type": "code",
   "execution_count": 6,
   "id": "60277ae8-6a60-4905-8b6e-5896779e49d8",
   "metadata": {},
   "outputs": [],
   "source": [
    "classes = ['Toxin, Fungal, Bug, Viral, or Bacterial Infections']"
   ]
  },
  {
   "cell_type": "code",
   "execution_count": 8,
   "id": "28dbac16-06b0-4d52-89ff-b7f1d1a089ee",
   "metadata": {
    "tags": []
   },
   "outputs": [
    {
     "name": "stdout",
     "output_type": "stream",
     "text": [
      "loading Roboflow workspace...\n",
      "loading Roboflow project...\n"
     ]
    },
    {
     "name": "stderr",
     "output_type": "stream",
     "text": [
      "Duplicate image not uploaded:  data_class_folder3/train/Toxin, Fungal, Bug, Viral, or Bacterial Infections/drug-eruptions-22.jpg\n",
      "Bad response: <Response [500]>\n",
      "Duplicate image not uploaded:  data_class_folder3/train/Toxin, Fungal, Bug, Viral, or Bacterial Infections/cutaneous-Larva-Migrans-20.jpg\n",
      "Duplicate image not uploaded:  data_class_folder3/train/Toxin, Fungal, Bug, Viral, or Bacterial Infections/drug-eruptions-49.jpg\n",
      "Duplicate image not uploaded:  data_class_folder3/train/Toxin, Fungal, Bug, Viral, or Bacterial Infections/drug-lichenoid-eruption-11.jpg\n",
      "Duplicate image not uploaded:  data_class_folder3/train/Toxin, Fungal, Bug, Viral, or Bacterial Infections/drug-lichenoid-eruption-9.jpg\n",
      "Duplicate image not uploaded:  data_class_folder3/train/Toxin, Fungal, Bug, Viral, or Bacterial Infections/drug-lichenoid-eruption-7.jpg\n",
      "Duplicate image not uploaded:  data_class_folder3/train/Toxin, Fungal, Bug, Viral, or Bacterial Infections/drug-lichenoid-eruption-4.jpg\n",
      "Duplicate image not uploaded:  data_class_folder3/train/Toxin, Fungal, Bug, Viral, or Bacterial Infections/viral-exanthems-103.jpg\n",
      "Duplicate image not uploaded:  data_class_folder3/train/Toxin, Fungal, Bug, Viral, or Bacterial Infections/viral-exanthems-102.jpg\n",
      "Duplicate image not uploaded:  data_class_folder3/train/Toxin, Fungal, Bug, Viral, or Bacterial Infections/viral-exanthems-5.jpg\n",
      "Duplicate image not uploaded:  data_class_folder3/train/Toxin, Fungal, Bug, Viral, or Bacterial Infections/viral-exanthems-9.jpg\n",
      "Duplicate image not uploaded:  data_class_folder3/train/Toxin, Fungal, Bug, Viral, or Bacterial Infections/biting-excoriation-2.jpg\n",
      "Duplicate image not uploaded:  data_class_folder3/train/Toxin, Fungal, Bug, Viral, or Bacterial Infections/chronic-paronychia-22.jpg\n",
      "Duplicate image not uploaded:  data_class_folder3/train/Toxin, Fungal, Bug, Viral, or Bacterial Infections/koilonychia-1.jpg\n",
      "Duplicate image not uploaded:  data_class_folder3/train/Toxin, Fungal, Bug, Viral, or Bacterial Infections/median-nail-dystrophy-15.jpg\n",
      "Duplicate image not uploaded:  data_class_folder3/train/Toxin, Fungal, Bug, Viral, or Bacterial Infections/tinea-face-56.jpg\n",
      "Duplicate image not uploaded:  data_class_folder3/train/Toxin, Fungal, Bug, Viral, or Bacterial Infections/tinea-groin-89.jpg\n",
      "Duplicate image not uploaded:  data_class_folder3/train/Toxin, Fungal, Bug, Viral, or Bacterial Infections/tinea-groin-91.jpg\n",
      "Duplicate image not uploaded:  data_class_folder3/train/Toxin, Fungal, Bug, Viral, or Bacterial Infections/tinea-incognito-3.jpg\n",
      "Duplicate image not uploaded:  data_class_folder3/train/Toxin, Fungal, Bug, Viral, or Bacterial Infections/tinea-palm-11.jpg\n",
      "Duplicate image not uploaded:  data_class_folder3/train/Toxin, Fungal, Bug, Viral, or Bacterial Infections/tinea-primary-lesion-2.jpg\n",
      "Duplicate image not uploaded:  data_class_folder3/train/Toxin, Fungal, Bug, Viral, or Bacterial Infections/candida-penis-7.jpg\n",
      "Duplicate image not uploaded:  data_class_folder3/train/Toxin, Fungal, Bug, Viral, or Bacterial Infections/13TineaGroin143.jpg\n",
      "Duplicate image not uploaded:  data_class_folder3/train/Toxin, Fungal, Bug, Viral, or Bacterial Infections/candida-groin-16.jpg\n",
      "Duplicate image not uploaded:  data_class_folder3/train/Toxin, Fungal, Bug, Viral, or Bacterial Infections/Cellulitis-9.jpg\n",
      "Duplicate image not uploaded:  data_class_folder3/train/Toxin, Fungal, Bug, Viral, or Bacterial Infections/Folliculitis-Gram-Negative-1.jpg\n",
      "Duplicate image not uploaded:  data_class_folder3/train/Toxin, Fungal, Bug, Viral, or Bacterial Infections/Pseudomonas-Folliculitis-1.jpg\n",
      "Duplicate image not uploaded:  data_class_folder3/train/Toxin, Fungal, Bug, Viral, or Bacterial Infections/herpes-cutaneous-40.jpg\n",
      "Duplicate image not uploaded:  data_class_folder3/train/Toxin, Fungal, Bug, Viral, or Bacterial Infections/herpes-type-1-recurrent-11.jpg\n",
      "Duplicate image not uploaded:  data_class_folder3/train/Toxin, Fungal, Bug, Viral, or Bacterial Infections/herpes-type-1-recurrent-24.jpg\n",
      "Duplicate image not uploaded:  data_class_folder3/train/Toxin, Fungal, Bug, Viral, or Bacterial Infections/herpes-zoster-101.jpg\n",
      "Duplicate image not uploaded:  data_class_folder3/train/Toxin, Fungal, Bug, Viral, or Bacterial Infections/warts-flat-48.jpg\n",
      "Duplicate image not uploaded:  data_class_folder3/train/Toxin, Fungal, Bug, Viral, or Bacterial Infections/warts-common-54.jpg\n",
      "Duplicate image not uploaded:  data_class_folder3/train/Toxin, Fungal, Bug, Viral, or Bacterial Infections/warts-flat-32.jpg\n",
      "Duplicate image not uploaded:  data_class_folder3/train/Toxin, Fungal, Bug, Viral, or Bacterial Infections/warts-plantar-116.jpg\n",
      "Duplicate image not uploaded:  data_class_folder3/train/Toxin, Fungal, Bug, Viral, or Bacterial Infections/warts-immunocompromised-9.jpg\n",
      "Duplicate image not uploaded:  data_class_folder3/train/Toxin, Fungal, Bug, Viral, or Bacterial Infections/warts-oral-8.jpg\n",
      "Duplicate image not uploaded:  data_class_folder3/train/Toxin, Fungal, Bug, Viral, or Bacterial Infections/warts-oral-7.jpg\n",
      "Duplicate image not uploaded:  data_class_folder3/train/Toxin, Fungal, Bug, Viral, or Bacterial Infections/warts-periungual-6.jpg\n",
      "Duplicate image not uploaded:  data_class_folder3/train/Toxin, Fungal, Bug, Viral, or Bacterial Infections/genital-warts-59.jpg\n",
      "Duplicate image not uploaded:  data_class_folder3/train/Toxin, Fungal, Bug, Viral, or Bacterial Infections/herpes-type-2-recurrent-15.jpg\n"
     ]
    }
   ],
   "source": [
    "# importing the roboflow Python Package\n",
    "from roboflow import Roboflow\n",
    "\n",
    "# creating the Roboflow object\n",
    "# obtaining your API key: https://docs.roboflow.com/rest-api#obtaining-your-api-key\n",
    "rf = Roboflow(api_key=os.environ.get('ROBOFLOW_API_KEY'))\n",
    "\n",
    "# using the workspace method on the Roboflow object\n",
    "workspace = rf.workspace()\n",
    "\n",
    "# identifying the project for upload\n",
    "project = workspace.project(\"w210_teledermatologyai\")\n",
    "\n",
    "for _class in classes:    \n",
    "    for img in os.listdir(DIR_TRAIN + _class):\n",
    "        # uploading the image to your project\n",
    "        try:\n",
    "            project.upload(f'{DIR_TRAIN}{_class}/{img}', batch_name='Toxin')#_class)\n",
    "        except ValueError:\n",
    "            pass\n",
    "        \n",
    "# if you want to attempt reuploading image on failure\n",
    "# project.upload(\"UPLOAD_IMAGE.jpg\", num_retry_uploads=3)"
   ]
  },
  {
   "cell_type": "code",
   "execution_count": null,
   "id": "bf647080-346b-4036-a7c6-0bcbf0c24bf4",
   "metadata": {},
   "outputs": [],
   "source": []
  }
 ],
 "metadata": {
  "kernelspec": {
   "display_name": "default:Python",
   "language": "python",
   "name": "conda-env-default-py"
  },
  "language_info": {
   "codemirror_mode": {
    "name": "ipython",
    "version": 3
   },
   "file_extension": ".py",
   "mimetype": "text/x-python",
   "name": "python",
   "nbconvert_exporter": "python",
   "pygments_lexer": "ipython3",
   "version": "3.9.13"
  }
 },
 "nbformat": 4,
 "nbformat_minor": 5
}
