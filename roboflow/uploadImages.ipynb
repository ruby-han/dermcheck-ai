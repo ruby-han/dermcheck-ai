{
 "cells": [
  {
   "cell_type": "code",
   "execution_count": null,
   "id": "9d6261c1-1aad-4075-8768-8b6e0cf60c13",
   "metadata": {},
   "outputs": [],
   "source": [
    "# %pip install roboflow"
   ]
  },
  {
   "cell_type": "code",
   "execution_count": 3,
   "id": "0406de16-189b-4548-845c-fc63f792a414",
   "metadata": {},
   "outputs": [
    {
     "data": {
      "text/plain": [
       "'/home/studio-lab-user/teledermatologyAI_capstone/roboflow'"
      ]
     },
     "execution_count": 3,
     "metadata": {},
     "output_type": "execute_result"
    }
   ],
   "source": [
    "pwd"
   ]
  },
  {
   "cell_type": "code",
   "execution_count": 4,
   "id": "162efe2e-2ed9-4151-a5c6-f71d258e76da",
   "metadata": {},
   "outputs": [
    {
     "name": "stdout",
     "output_type": "stream",
     "text": [
      "/home/studio-lab-user/teledermatologyAI_capstone\n"
     ]
    }
   ],
   "source": [
    "cd ~/teledermatologyAI_capstone"
   ]
  },
  {
   "cell_type": "code",
   "execution_count": null,
   "id": "8463c623-3948-44f3-9016-36418776765c",
   "metadata": {},
   "outputs": [],
   "source": [
    "import os\n",
    "from dotenv import load_dotenv\n",
    "load_dotenv()  \n",
    "\n",
    "DIR = 'data_class_folder2'\n",
    "DIR_TRAIN = f'{DIR}/train/'\n",
    "DIR_VAL = f'{DIR}/val/'\n",
    "DIR_TEST = f'{DIR}/test/' \n",
    "\n",
    "classes = sorted(os.listdir(DIR_TRAIN))"
   ]
  },
  {
   "cell_type": "code",
   "execution_count": null,
   "id": "28dbac16-06b0-4d52-89ff-b7f1d1a089ee",
   "metadata": {},
   "outputs": [
    {
     "name": "stdout",
     "output_type": "stream",
     "text": [
      "loading Roboflow workspace...\n",
      "loading Roboflow project...\n"
     ]
    }
   ],
   "source": [
    "# importing the roboflow Python Package\n",
    "from roboflow import Roboflow\n",
    "\n",
    "# creating the Roboflow object\n",
    "# obtaining your API key: https://docs.roboflow.com/rest-api#obtaining-your-api-key\n",
    "rf = Roboflow(api_key=os.environ.get('ROBOFLOW_API_KEY'))\n",
    "\n",
    "# using the workspace method on the Roboflow object\n",
    "workspace = rf.workspace()\n",
    "\n",
    "# identifying the project for upload\n",
    "project = workspace.project(\"w210_teledermatologyai\")\n",
    "\n",
    "for _class in classes:    \n",
    "    for img in os.listdir(DIR_TRAIN + _class):\n",
    "        # uploading the image to your project\n",
    "        project.upload(f'{DIR_TRAIN}{_class}/{img}')\n",
    "\n",
    "# if you want to attempt reuploading image on failure\n",
    "# project.upload(\"UPLOAD_IMAGE.jpg\", num_retry_uploads=3)"
   ]
  },
  {
   "cell_type": "code",
   "execution_count": null,
   "id": "bf647080-346b-4036-a7c6-0bcbf0c24bf4",
   "metadata": {},
   "outputs": [],
   "source": []
  }
 ],
 "metadata": {
  "kernelspec": {
   "display_name": "default:Python",
   "language": "python",
   "name": "conda-env-default-py"
  },
  "language_info": {
   "codemirror_mode": {
    "name": "ipython",
    "version": 3
   },
   "file_extension": ".py",
   "mimetype": "text/x-python",
   "name": "python",
   "nbconvert_exporter": "python",
   "pygments_lexer": "ipython3",
   "version": "3.9.13"
  }
 },
 "nbformat": 4,
 "nbformat_minor": 5
}
