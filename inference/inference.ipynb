{
 "cells": [
  {
   "cell_type": "code",
   "execution_count": 7,
   "id": "f3ca719f-3e62-4e06-8bc4-a0aab68c9e09",
   "metadata": {},
   "outputs": [],
   "source": [
    "import boto3\n",
    "import json\n",
    "import numpy as np"
   ]
  },
  {
   "cell_type": "code",
   "execution_count": 8,
   "id": "534f40e8-4823-4fb0-b48f-3bbf75a92745",
   "metadata": {},
   "outputs": [],
   "source": [
    "client = boto3.client('sagemaker-runtime')"
   ]
  },
  {
   "cell_type": "code",
   "execution_count": 9,
   "id": "2e5098d9-8f3e-416c-a731-546427e37bdd",
   "metadata": {},
   "outputs": [
    {
     "data": {
      "text/plain": [
       "'/home/studio-lab-user/teledermatologyAI_capstone/inference'"
      ]
     },
     "execution_count": 9,
     "metadata": {},
     "output_type": "execute_result"
    }
   ],
   "source": [
    "pwd"
   ]
  },
  {
   "cell_type": "code",
   "execution_count": 11,
   "id": "b4aea430-bc4b-40f5-99e2-a32d2b0a9714",
   "metadata": {},
   "outputs": [
    {
     "name": "stdout",
     "output_type": "stream",
     "text": [
      "Potentially Malignant Skin Tumors\n"
     ]
    }
   ],
   "source": [
    "image_name = './Potentially Malignant Skin Tumors/melanoma.jpeg'\n",
    "labels = ['Benign Marking or Mole', \n",
    "          'Non-Cancerous Skin Condition',\n",
    "          'Potentially Malignant Skin Tumors',\n",
    "          'Toxin, Fungal, Bug, Viral, or Bacterial Infections',\n",
    "          'Unclassified']\n",
    "f = open(image_name, 'rb')\n",
    "data = f.read()\n",
    "\n",
    "response = client.invoke_endpoint(\n",
    "    EndpointName='skinConditions-endpoint',\n",
    "    Body=data\n",
    ")\n",
    "\n",
    "results = json.loads(response['Body'].read().decode())\n",
    "\n",
    "pred = np.argmax(results)\n",
    "\n",
    "print(labels[pred])"
   ]
  },
  {
   "cell_type": "code",
   "execution_count": null,
   "id": "42c4184d-1b33-421e-bb82-e218252bf47e",
   "metadata": {},
   "outputs": [],
   "source": []
  }
 ],
 "metadata": {
  "kernelspec": {
   "display_name": "default:Python",
   "language": "python",
   "name": "conda-env-default-py"
  },
  "language_info": {
   "codemirror_mode": {
    "name": "ipython",
    "version": 3
   },
   "file_extension": ".py",
   "mimetype": "text/x-python",
   "name": "python",
   "nbconvert_exporter": "python",
   "pygments_lexer": "ipython3",
   "version": "3.9.13"
  }
 },
 "nbformat": 4,
 "nbformat_minor": 5
}
